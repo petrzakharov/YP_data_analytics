{
 "cells": [
  {
   "cell_type": "markdown",
   "metadata": {},
   "source": [
    "### Описание проекта\n",
    "Сеть фитнес-центров «Культурист-датасаентист» разрабатывает стратегию взаимодействия с пользователями на основе аналитических данных. Важная для индустрии метрика — число клиентов, продолжающих покупать новые абонементы после окончания действия текущих.\n",
    "Отдел по работе с клиентами «Культуриста-датасаентиста» собрал много анкет посетителей и перевёл их в электронный вид. \n",
    "* __Ваша задача — провести анализ и подготовить план действий по поддержанию лояльности клиентов.__\n",
    "\n",
    "А именно:\n",
    "1. научиться прогнозировать вероятность оттока (на уровне следующего месяца) для каждого клиента;\n",
    "2. сформировать типичные портреты пользователей: выделить несколько наиболее ярких групп и охарактеризовать их основные свойства;\n",
    "3. проанализировать основные признаки, наиболее сильно влияющие на отток;\n",
    "4. сформулировать основные выводы и разработать рекомендации по повышению качества работы с клиентами:\n",
    "5. выделить целевые группы клиентов;\n",
    "6. предложить меры по снижению оттока;\n",
    "7. определить другие особенности взаимодействия с клиентами.\n",
    "\n",
    "____"
   ]
  },
  {
   "cell_type": "markdown",
   "metadata": {},
   "source": [
    "### Шаг 1. Загрузите данные\n",
    "«Культурист-датасаентист» предоставил сведения в csv-файлах. Заказчик подготовил набор, который содержит данные на месяц до оттока и факт оттока на определённый месяц. Набор данных включает следующие поля:\n",
    "\n",
    "* __'Churn'__ — факт оттока в текущем месяце;\n",
    "\n",
    "__Данные пользователя за предыдущий до проверки факта оттока месяц__\n",
    "* __'gender'__ — пол\n",
    "* __'Near_Location'__ — проживание или работа в районе, где находится фитнес-центр\n",
    "* __'Partner'__ — сотрудник компании-партнёра клуба (сотрудничество с компаниями, чьи сотрудники могут получать скидки на абонемент — в таком случае фитнес-центр хранит информацию о работодателе клиента)\n",
    "* __Promo_friends__ — факт первоначальной записи в рамках акции «приведи друга» (использовал промо-код от знакомого при оплате первого абонемента)\n",
    "* __'Phone'__ — наличие контактного телефона\n",
    "* __'Age'__ — возраст\n",
    "* __'Lifetime'__ — время с момента первого обращения в фитнес-центр (в месяцах)\n",
    "\n",
    "__Информация на основе журнала посещений, покупок и информация о текущем статусе абонемента клиента__\n",
    "* __'Contract_period'__ — длительность текущего действующего абонемента (месяц, 3 месяца, 6 месяцев, год)\n",
    "* __'Month_to_end_contract'__ — срок до окончания текущего действующего абонемента (в месяцах)\n",
    "* __'Group_visits'__ — факт посещения групповых занятий\n",
    "* __'Avg_class_frequency_total'__ — средняя частота посещений в неделю за все время с начала действия абонемента\n",
    "* __'Avg_class_frequency_current_month'__ — средняя частота посещений в неделю за предыдущий месяц\n",
    "* __'Avg_additional_charges_total'__ — суммарная выручка от других услуг фитнес-центра: кафе, спорт-товары, косметический и массажный салон"
   ]
  },
  {
   "cell_type": "markdown",
   "metadata": {},
   "source": [
    "### Шаг 2. Проведите исследовательский анализ данных (EDA)\n",
    "1. Посмотрите на датасет: есть ли в нем отсутствующие признаки, изучите средние значения и стандартные отклонения (пригодится метод describe());\n",
    "2. Посмотрите на средние значения признаков в двух группах — тех, кто ушел в отток и тех, кто остался (воспользуйтесь методом groupby());\n",
    "3. Постройте столбчатые гистограммы и распределения признаков для тех, кто ушёл (отток) и тех, кто остался (не попали в отток);\n",
    "4. Постройте матрицу корреляций и отобразите её."
   ]
  },
  {
   "cell_type": "markdown",
   "metadata": {},
   "source": [
    "### Шаг 3. Постройте модель прогнозирования оттока пользователей\n",
    "1. Постройте модель бинарной классификации пользователей, где целевой признак — факт оттока пользователя в следующем месяце:\n",
    "2. Разбейте данные на обучающую и валидационную выборку функцией train_test_split().\n",
    "3. Обучите модель на train-выборке любым двумя способами:\n",
    "        * логистической регрессией\n",
    "        * случайным лесом\n",
    "Оцените метрики accuracy, precision и recall для обеих моделей на валидационной выборке. Сравните по ним модели. Какая модель показала себя лучше на основании метрик?"
   ]
  },
  {
   "cell_type": "markdown",
   "metadata": {},
   "source": [
    "### Шаг 4. Сделайте кластеризацию пользователей\n",
    "__Отложите в сторону столбец с оттоком и проведите кластеризацию объектов (пользователей):__\n",
    "1. Стандартизируйте данные.\n",
    "2. Постройте матрицу расстояний функцией linkage() на стандартизованной матрице признаков и нарисуйте дендрограмму. Внимание: отрисовка дендрограммы может занять время! Можно ли по графику предположить, какое количество кластеров можно выбрать?\n",
    "3. Обучите модель кластеризации на основании алгоритма K-Means и спрогнозируйте кластеры клиентов.\n",
    "4. Посмотрите на средние значения признаков для кластеров. Можно ли сразу что-то заметить?\n",
    "5. Постройте распределения признаков для кластеров. Можно ли что-то заметить по ним?\n",
    "6. Для каждого полученного кластера посчитайте долю оттока (методом groupby()). Отличаются ли они по доле оттока? Какие кластеры склонны к оттоку, а какие — надёжны?"
   ]
  },
  {
   "cell_type": "markdown",
   "metadata": {},
   "source": [
    "### Шаг 5. Сформулируйте выводы и сделайте базовые рекомендации по работе с клиентами\n",
    "1. Сформулируйте основные выводы и предложите рекомендации для стратегии взаимодействия с пользователями и их удержания.\n",
    "2. Не описывайте стратегию детально: достаточно 3-4 важных принципов и примеров их реализации в виде определённых маркетинговых действий."
   ]
  },
  {
   "cell_type": "markdown",
   "metadata": {},
   "source": [
    "----"
   ]
  },
  {
   "cell_type": "code",
   "execution_count": 1,
   "metadata": {},
   "outputs": [],
   "source": [
    "import pandas as pd\n",
    "import matplotlib.pyplot as plt\n",
    "from scipy import stats as st\n",
    "import numpy as np\n",
    "import seaborn as sns\n",
    "import math as mth\n",
    "from sklearn.tree import DecisionTreeClassifier\n",
    "from sklearn.linear_model import LogisticRegression\n",
    "from sklearn.model_selection import cross_val_score\n",
    "from sklearn.metrics import f1_score,accuracy_score,precision_score,recall_score\n",
    "from sklearn.model_selection import train_test_split\n",
    "from sklearn.tree import DecisionTreeRegressor\n",
    "from sklearn.ensemble import RandomForestClassifier\n",
    "from sklearn.metrics import mean_squared_error\n",
    "from sklearn.ensemble import RandomForestRegressor\n",
    "from sklearn.linear_model import LinearRegression\n",
    "from sklearn.model_selection import cross_val_score\n",
    "from sklearn.model_selection import GridSearchCV\n",
    "from sklearn.preprocessing import StandardScaler\n",
    "from sklearn.cluster import KMeans\n",
    "from scipy.cluster.hierarchy import dendrogram, linkage\n",
    "import warnings\n",
    "warnings.filterwarnings('ignore')\n",
    "sns.set(rc={'figure.figsize':(14,8)})"
   ]
  },
  {
   "cell_type": "code",
   "execution_count": 2,
   "metadata": {},
   "outputs": [],
   "source": [
    "df = pd.read_csv('/datasets/gym_churn.csv')"
   ]
  },
  {
   "cell_type": "code",
   "execution_count": 3,
   "metadata": {},
   "outputs": [],
   "source": [
    "def firstlook(df):\n",
    "    '''\n",
    "    Функция для обзора датасета, размер, пропущенные значения, описание, типы даных, основные статистики\n",
    "    '''\n",
    "    print()\n",
    "    print('=================')\n",
    "    print(f'Размер датафрейма \\n{df.shape}')\n",
    "    print()\n",
    "    print('=================')\n",
    "    print(f'Info \\n{df.info()}')\n",
    "    print()\n",
    "    print('=================')\n",
    "    print(f'Доля пропущенных значений \\n{df.isna().sum()/df.shape[0]}')\n",
    "    print()\n",
    "    print('=================')\n",
    "    print(f'Количество дубликатов \\n{df.duplicated().sum()}')\n",
    "    print()\n",
    "    print('=================')\n",
    "    print(f'Описание данных')\n",
    "    display(df.describe())\n",
    "    print('=================')\n",
    "    display(df.head())"
   ]
  },
  {
   "cell_type": "code",
   "execution_count": 4,
   "metadata": {},
   "outputs": [
    {
     "name": "stdout",
     "output_type": "stream",
     "text": [
      "\n",
      "=================\n",
      "Размер датафрейма \n",
      "(4000, 14)\n",
      "\n",
      "=================\n",
      "<class 'pandas.core.frame.DataFrame'>\n",
      "RangeIndex: 4000 entries, 0 to 3999\n",
      "Data columns (total 14 columns):\n",
      "gender                               4000 non-null int64\n",
      "Near_Location                        4000 non-null int64\n",
      "Partner                              4000 non-null int64\n",
      "Promo_friends                        4000 non-null int64\n",
      "Phone                                4000 non-null int64\n",
      "Contract_period                      4000 non-null int64\n",
      "Group_visits                         4000 non-null int64\n",
      "Age                                  4000 non-null int64\n",
      "Avg_additional_charges_total         4000 non-null float64\n",
      "Month_to_end_contract                4000 non-null int64\n",
      "Lifetime                             4000 non-null int64\n",
      "Avg_class_frequency_total            4000 non-null float64\n",
      "Avg_class_frequency_current_month    4000 non-null float64\n",
      "Churn                                4000 non-null int64\n",
      "dtypes: float64(3), int64(11)\n",
      "memory usage: 437.6 KB\n",
      "Info \n",
      "None\n",
      "\n",
      "=================\n",
      "Доля пропущенных значений \n",
      "gender                               0.0\n",
      "Near_Location                        0.0\n",
      "Partner                              0.0\n",
      "Promo_friends                        0.0\n",
      "Phone                                0.0\n",
      "Contract_period                      0.0\n",
      "Group_visits                         0.0\n",
      "Age                                  0.0\n",
      "Avg_additional_charges_total         0.0\n",
      "Month_to_end_contract                0.0\n",
      "Lifetime                             0.0\n",
      "Avg_class_frequency_total            0.0\n",
      "Avg_class_frequency_current_month    0.0\n",
      "Churn                                0.0\n",
      "dtype: float64\n",
      "\n",
      "=================\n",
      "Количество дубликатов \n",
      "0\n",
      "\n",
      "=================\n",
      "Описание данных\n"
     ]
    },
    {
     "data": {
      "text/html": [
       "<div>\n",
       "<style scoped>\n",
       "    .dataframe tbody tr th:only-of-type {\n",
       "        vertical-align: middle;\n",
       "    }\n",
       "\n",
       "    .dataframe tbody tr th {\n",
       "        vertical-align: top;\n",
       "    }\n",
       "\n",
       "    .dataframe thead th {\n",
       "        text-align: right;\n",
       "    }\n",
       "</style>\n",
       "<table border=\"1\" class=\"dataframe\">\n",
       "  <thead>\n",
       "    <tr style=\"text-align: right;\">\n",
       "      <th></th>\n",
       "      <th>gender</th>\n",
       "      <th>Near_Location</th>\n",
       "      <th>Partner</th>\n",
       "      <th>Promo_friends</th>\n",
       "      <th>Phone</th>\n",
       "      <th>Contract_period</th>\n",
       "      <th>Group_visits</th>\n",
       "      <th>Age</th>\n",
       "      <th>Avg_additional_charges_total</th>\n",
       "      <th>Month_to_end_contract</th>\n",
       "      <th>Lifetime</th>\n",
       "      <th>Avg_class_frequency_total</th>\n",
       "      <th>Avg_class_frequency_current_month</th>\n",
       "      <th>Churn</th>\n",
       "    </tr>\n",
       "  </thead>\n",
       "  <tbody>\n",
       "    <tr>\n",
       "      <td>count</td>\n",
       "      <td>4000.000000</td>\n",
       "      <td>4000.000000</td>\n",
       "      <td>4000.000000</td>\n",
       "      <td>4000.000000</td>\n",
       "      <td>4000.000000</td>\n",
       "      <td>4000.000000</td>\n",
       "      <td>4000.000000</td>\n",
       "      <td>4000.000000</td>\n",
       "      <td>4000.000000</td>\n",
       "      <td>4000.000000</td>\n",
       "      <td>4000.000000</td>\n",
       "      <td>4000.000000</td>\n",
       "      <td>4000.000000</td>\n",
       "      <td>4000.000000</td>\n",
       "    </tr>\n",
       "    <tr>\n",
       "      <td>mean</td>\n",
       "      <td>0.510250</td>\n",
       "      <td>0.845250</td>\n",
       "      <td>0.486750</td>\n",
       "      <td>0.308500</td>\n",
       "      <td>0.903500</td>\n",
       "      <td>4.681250</td>\n",
       "      <td>0.412250</td>\n",
       "      <td>29.184250</td>\n",
       "      <td>146.943728</td>\n",
       "      <td>5.011500</td>\n",
       "      <td>3.724750</td>\n",
       "      <td>1.879020</td>\n",
       "      <td>1.767052</td>\n",
       "      <td>0.265250</td>\n",
       "    </tr>\n",
       "    <tr>\n",
       "      <td>std</td>\n",
       "      <td>0.499957</td>\n",
       "      <td>0.361711</td>\n",
       "      <td>0.499887</td>\n",
       "      <td>0.461932</td>\n",
       "      <td>0.295313</td>\n",
       "      <td>4.549706</td>\n",
       "      <td>0.492301</td>\n",
       "      <td>3.258367</td>\n",
       "      <td>96.355602</td>\n",
       "      <td>3.899573</td>\n",
       "      <td>3.749267</td>\n",
       "      <td>0.972245</td>\n",
       "      <td>1.052906</td>\n",
       "      <td>0.441521</td>\n",
       "    </tr>\n",
       "    <tr>\n",
       "      <td>min</td>\n",
       "      <td>0.000000</td>\n",
       "      <td>0.000000</td>\n",
       "      <td>0.000000</td>\n",
       "      <td>0.000000</td>\n",
       "      <td>0.000000</td>\n",
       "      <td>1.000000</td>\n",
       "      <td>0.000000</td>\n",
       "      <td>18.000000</td>\n",
       "      <td>0.148205</td>\n",
       "      <td>2.000000</td>\n",
       "      <td>0.000000</td>\n",
       "      <td>0.000000</td>\n",
       "      <td>0.000000</td>\n",
       "      <td>0.000000</td>\n",
       "    </tr>\n",
       "    <tr>\n",
       "      <td>25%</td>\n",
       "      <td>0.000000</td>\n",
       "      <td>1.000000</td>\n",
       "      <td>0.000000</td>\n",
       "      <td>0.000000</td>\n",
       "      <td>1.000000</td>\n",
       "      <td>1.000000</td>\n",
       "      <td>0.000000</td>\n",
       "      <td>27.000000</td>\n",
       "      <td>68.868830</td>\n",
       "      <td>2.000000</td>\n",
       "      <td>1.000000</td>\n",
       "      <td>1.180875</td>\n",
       "      <td>0.963003</td>\n",
       "      <td>0.000000</td>\n",
       "    </tr>\n",
       "    <tr>\n",
       "      <td>50%</td>\n",
       "      <td>1.000000</td>\n",
       "      <td>1.000000</td>\n",
       "      <td>0.000000</td>\n",
       "      <td>0.000000</td>\n",
       "      <td>1.000000</td>\n",
       "      <td>1.000000</td>\n",
       "      <td>0.000000</td>\n",
       "      <td>29.000000</td>\n",
       "      <td>136.220159</td>\n",
       "      <td>2.000000</td>\n",
       "      <td>3.000000</td>\n",
       "      <td>1.832768</td>\n",
       "      <td>1.719574</td>\n",
       "      <td>0.000000</td>\n",
       "    </tr>\n",
       "    <tr>\n",
       "      <td>75%</td>\n",
       "      <td>1.000000</td>\n",
       "      <td>1.000000</td>\n",
       "      <td>1.000000</td>\n",
       "      <td>1.000000</td>\n",
       "      <td>1.000000</td>\n",
       "      <td>6.000000</td>\n",
       "      <td>1.000000</td>\n",
       "      <td>31.000000</td>\n",
       "      <td>210.949625</td>\n",
       "      <td>7.000000</td>\n",
       "      <td>5.000000</td>\n",
       "      <td>2.536078</td>\n",
       "      <td>2.510336</td>\n",
       "      <td>1.000000</td>\n",
       "    </tr>\n",
       "    <tr>\n",
       "      <td>max</td>\n",
       "      <td>1.000000</td>\n",
       "      <td>1.000000</td>\n",
       "      <td>1.000000</td>\n",
       "      <td>1.000000</td>\n",
       "      <td>1.000000</td>\n",
       "      <td>12.000000</td>\n",
       "      <td>1.000000</td>\n",
       "      <td>41.000000</td>\n",
       "      <td>552.590740</td>\n",
       "      <td>13.000000</td>\n",
       "      <td>31.000000</td>\n",
       "      <td>6.023668</td>\n",
       "      <td>6.146783</td>\n",
       "      <td>1.000000</td>\n",
       "    </tr>\n",
       "  </tbody>\n",
       "</table>\n",
       "</div>"
      ],
      "text/plain": [
       "            gender  Near_Location      Partner  Promo_friends        Phone  \\\n",
       "count  4000.000000    4000.000000  4000.000000    4000.000000  4000.000000   \n",
       "mean      0.510250       0.845250     0.486750       0.308500     0.903500   \n",
       "std       0.499957       0.361711     0.499887       0.461932     0.295313   \n",
       "min       0.000000       0.000000     0.000000       0.000000     0.000000   \n",
       "25%       0.000000       1.000000     0.000000       0.000000     1.000000   \n",
       "50%       1.000000       1.000000     0.000000       0.000000     1.000000   \n",
       "75%       1.000000       1.000000     1.000000       1.000000     1.000000   \n",
       "max       1.000000       1.000000     1.000000       1.000000     1.000000   \n",
       "\n",
       "       Contract_period  Group_visits          Age  \\\n",
       "count      4000.000000   4000.000000  4000.000000   \n",
       "mean          4.681250      0.412250    29.184250   \n",
       "std           4.549706      0.492301     3.258367   \n",
       "min           1.000000      0.000000    18.000000   \n",
       "25%           1.000000      0.000000    27.000000   \n",
       "50%           1.000000      0.000000    29.000000   \n",
       "75%           6.000000      1.000000    31.000000   \n",
       "max          12.000000      1.000000    41.000000   \n",
       "\n",
       "       Avg_additional_charges_total  Month_to_end_contract     Lifetime  \\\n",
       "count                   4000.000000            4000.000000  4000.000000   \n",
       "mean                     146.943728               5.011500     3.724750   \n",
       "std                       96.355602               3.899573     3.749267   \n",
       "min                        0.148205               2.000000     0.000000   \n",
       "25%                       68.868830               2.000000     1.000000   \n",
       "50%                      136.220159               2.000000     3.000000   \n",
       "75%                      210.949625               7.000000     5.000000   \n",
       "max                      552.590740              13.000000    31.000000   \n",
       "\n",
       "       Avg_class_frequency_total  Avg_class_frequency_current_month  \\\n",
       "count                4000.000000                        4000.000000   \n",
       "mean                    1.879020                           1.767052   \n",
       "std                     0.972245                           1.052906   \n",
       "min                     0.000000                           0.000000   \n",
       "25%                     1.180875                           0.963003   \n",
       "50%                     1.832768                           1.719574   \n",
       "75%                     2.536078                           2.510336   \n",
       "max                     6.023668                           6.146783   \n",
       "\n",
       "             Churn  \n",
       "count  4000.000000  \n",
       "mean      0.265250  \n",
       "std       0.441521  \n",
       "min       0.000000  \n",
       "25%       0.000000  \n",
       "50%       0.000000  \n",
       "75%       1.000000  \n",
       "max       1.000000  "
      ]
     },
     "metadata": {},
     "output_type": "display_data"
    },
    {
     "name": "stdout",
     "output_type": "stream",
     "text": [
      "=================\n"
     ]
    },
    {
     "data": {
      "text/html": [
       "<div>\n",
       "<style scoped>\n",
       "    .dataframe tbody tr th:only-of-type {\n",
       "        vertical-align: middle;\n",
       "    }\n",
       "\n",
       "    .dataframe tbody tr th {\n",
       "        vertical-align: top;\n",
       "    }\n",
       "\n",
       "    .dataframe thead th {\n",
       "        text-align: right;\n",
       "    }\n",
       "</style>\n",
       "<table border=\"1\" class=\"dataframe\">\n",
       "  <thead>\n",
       "    <tr style=\"text-align: right;\">\n",
       "      <th></th>\n",
       "      <th>gender</th>\n",
       "      <th>Near_Location</th>\n",
       "      <th>Partner</th>\n",
       "      <th>Promo_friends</th>\n",
       "      <th>Phone</th>\n",
       "      <th>Contract_period</th>\n",
       "      <th>Group_visits</th>\n",
       "      <th>Age</th>\n",
       "      <th>Avg_additional_charges_total</th>\n",
       "      <th>Month_to_end_contract</th>\n",
       "      <th>Lifetime</th>\n",
       "      <th>Avg_class_frequency_total</th>\n",
       "      <th>Avg_class_frequency_current_month</th>\n",
       "      <th>Churn</th>\n",
       "    </tr>\n",
       "  </thead>\n",
       "  <tbody>\n",
       "    <tr>\n",
       "      <td>0</td>\n",
       "      <td>1</td>\n",
       "      <td>1</td>\n",
       "      <td>1</td>\n",
       "      <td>1</td>\n",
       "      <td>0</td>\n",
       "      <td>6</td>\n",
       "      <td>1</td>\n",
       "      <td>29</td>\n",
       "      <td>14.227470</td>\n",
       "      <td>5</td>\n",
       "      <td>3</td>\n",
       "      <td>0.020398</td>\n",
       "      <td>0.000000</td>\n",
       "      <td>0</td>\n",
       "    </tr>\n",
       "    <tr>\n",
       "      <td>1</td>\n",
       "      <td>0</td>\n",
       "      <td>1</td>\n",
       "      <td>0</td>\n",
       "      <td>0</td>\n",
       "      <td>1</td>\n",
       "      <td>12</td>\n",
       "      <td>1</td>\n",
       "      <td>31</td>\n",
       "      <td>113.202938</td>\n",
       "      <td>13</td>\n",
       "      <td>7</td>\n",
       "      <td>1.922936</td>\n",
       "      <td>1.910244</td>\n",
       "      <td>0</td>\n",
       "    </tr>\n",
       "    <tr>\n",
       "      <td>2</td>\n",
       "      <td>0</td>\n",
       "      <td>1</td>\n",
       "      <td>1</td>\n",
       "      <td>0</td>\n",
       "      <td>1</td>\n",
       "      <td>1</td>\n",
       "      <td>0</td>\n",
       "      <td>28</td>\n",
       "      <td>129.448479</td>\n",
       "      <td>2</td>\n",
       "      <td>2</td>\n",
       "      <td>1.859098</td>\n",
       "      <td>1.736502</td>\n",
       "      <td>0</td>\n",
       "    </tr>\n",
       "    <tr>\n",
       "      <td>3</td>\n",
       "      <td>0</td>\n",
       "      <td>1</td>\n",
       "      <td>1</td>\n",
       "      <td>1</td>\n",
       "      <td>1</td>\n",
       "      <td>12</td>\n",
       "      <td>1</td>\n",
       "      <td>33</td>\n",
       "      <td>62.669863</td>\n",
       "      <td>12</td>\n",
       "      <td>2</td>\n",
       "      <td>3.205633</td>\n",
       "      <td>3.357215</td>\n",
       "      <td>0</td>\n",
       "    </tr>\n",
       "    <tr>\n",
       "      <td>4</td>\n",
       "      <td>1</td>\n",
       "      <td>1</td>\n",
       "      <td>1</td>\n",
       "      <td>1</td>\n",
       "      <td>1</td>\n",
       "      <td>1</td>\n",
       "      <td>0</td>\n",
       "      <td>26</td>\n",
       "      <td>198.362265</td>\n",
       "      <td>2</td>\n",
       "      <td>3</td>\n",
       "      <td>1.113884</td>\n",
       "      <td>1.120078</td>\n",
       "      <td>0</td>\n",
       "    </tr>\n",
       "  </tbody>\n",
       "</table>\n",
       "</div>"
      ],
      "text/plain": [
       "   gender  Near_Location  Partner  Promo_friends  Phone  Contract_period  \\\n",
       "0       1              1        1              1      0                6   \n",
       "1       0              1        0              0      1               12   \n",
       "2       0              1        1              0      1                1   \n",
       "3       0              1        1              1      1               12   \n",
       "4       1              1        1              1      1                1   \n",
       "\n",
       "   Group_visits  Age  Avg_additional_charges_total  Month_to_end_contract  \\\n",
       "0             1   29                     14.227470                      5   \n",
       "1             1   31                    113.202938                     13   \n",
       "2             0   28                    129.448479                      2   \n",
       "3             1   33                     62.669863                     12   \n",
       "4             0   26                    198.362265                      2   \n",
       "\n",
       "   Lifetime  Avg_class_frequency_total  Avg_class_frequency_current_month  \\\n",
       "0         3                   0.020398                           0.000000   \n",
       "1         7                   1.922936                           1.910244   \n",
       "2         2                   1.859098                           1.736502   \n",
       "3         2                   3.205633                           3.357215   \n",
       "4         3                   1.113884                           1.120078   \n",
       "\n",
       "   Churn  \n",
       "0      0  \n",
       "1      0  \n",
       "2      0  \n",
       "3      0  \n",
       "4      0  "
      ]
     },
     "metadata": {},
     "output_type": "display_data"
    }
   ],
   "source": [
    "firstlook(df)"
   ]
  },
  {
   "cell_type": "code",
   "execution_count": 5,
   "metadata": {},
   "outputs": [],
   "source": [
    "#уберем заглавные буквы в названии столбцов\n",
    "df.columns = [i.lower() for i in df]"
   ]
  },
  {
   "cell_type": "markdown",
   "metadata": {},
   "source": [
    "### Предобработка не требуется\n",
    "    1. Большинство признаков бинарные\n",
    "    2. Скорее всего, нет необходимости придумывать дополнительные фичи"
   ]
  },
  {
   "cell_type": "markdown",
   "metadata": {},
   "source": [
    "---"
   ]
  },
  {
   "cell_type": "markdown",
   "metadata": {},
   "source": [
    "## Шаг 2. Проведите исследовательский анализ данных (EDA)"
   ]
  },
  {
   "cell_type": "code",
   "execution_count": 6,
   "metadata": {},
   "outputs": [],
   "source": [
    "# def feature_value_share(feature_list, df=df):\n",
    "#     for feature in feature_list:\n",
    "#         print(f'Cоотношение {feature} в датафрейме, %')\n",
    "#         temp = ((df[feature].value_counts()/df.shape[0])*100).to_frame()\n",
    "#         ax = temp.plot(kind='barh', figsize=(10,3))\n",
    "#         ax.set(title=f'Барплот для значений по фиче {feature}')\n",
    "#         plt.show()"
   ]
  },
  {
   "cell_type": "code",
   "execution_count": 7,
   "metadata": {
    "scrolled": true
   },
   "outputs": [],
   "source": [
    "# interesting_feature = ['gender','churn','lifetime','month_to_end_contract',\n",
    "#                        'contract_period','near_location','promo_friends']\n",
    "# feature_value_share(interesting_feature)"
   ]
  },
  {
   "cell_type": "markdown",
   "metadata": {},
   "source": [
    "### 1. Посмотрите на датасет: есть ли в нем отсутствующие признаки, изучите средние значения и стандартные отклонения"
   ]
  },
  {
   "cell_type": "code",
   "execution_count": 8,
   "metadata": {},
   "outputs": [
    {
     "data": {
      "text/html": [
       "<div>\n",
       "<style scoped>\n",
       "    .dataframe tbody tr th:only-of-type {\n",
       "        vertical-align: middle;\n",
       "    }\n",
       "\n",
       "    .dataframe tbody tr th {\n",
       "        vertical-align: top;\n",
       "    }\n",
       "\n",
       "    .dataframe thead th {\n",
       "        text-align: right;\n",
       "    }\n",
       "</style>\n",
       "<table border=\"1\" class=\"dataframe\">\n",
       "  <thead>\n",
       "    <tr style=\"text-align: right;\">\n",
       "      <th></th>\n",
       "      <th>gender</th>\n",
       "      <th>near_location</th>\n",
       "      <th>partner</th>\n",
       "      <th>promo_friends</th>\n",
       "      <th>phone</th>\n",
       "      <th>contract_period</th>\n",
       "      <th>group_visits</th>\n",
       "      <th>age</th>\n",
       "      <th>avg_additional_charges_total</th>\n",
       "      <th>month_to_end_contract</th>\n",
       "      <th>lifetime</th>\n",
       "      <th>avg_class_frequency_total</th>\n",
       "      <th>avg_class_frequency_current_month</th>\n",
       "      <th>churn</th>\n",
       "    </tr>\n",
       "  </thead>\n",
       "  <tbody>\n",
       "    <tr>\n",
       "      <td>count</td>\n",
       "      <td>4000.000000</td>\n",
       "      <td>4000.000000</td>\n",
       "      <td>4000.000000</td>\n",
       "      <td>4000.000000</td>\n",
       "      <td>4000.000000</td>\n",
       "      <td>4000.000000</td>\n",
       "      <td>4000.000000</td>\n",
       "      <td>4000.000000</td>\n",
       "      <td>4000.000000</td>\n",
       "      <td>4000.000000</td>\n",
       "      <td>4000.000000</td>\n",
       "      <td>4000.000000</td>\n",
       "      <td>4000.000000</td>\n",
       "      <td>4000.000000</td>\n",
       "    </tr>\n",
       "    <tr>\n",
       "      <td>mean</td>\n",
       "      <td>0.510250</td>\n",
       "      <td>0.845250</td>\n",
       "      <td>0.486750</td>\n",
       "      <td>0.308500</td>\n",
       "      <td>0.903500</td>\n",
       "      <td>4.681250</td>\n",
       "      <td>0.412250</td>\n",
       "      <td>29.184250</td>\n",
       "      <td>146.943728</td>\n",
       "      <td>5.011500</td>\n",
       "      <td>3.724750</td>\n",
       "      <td>1.879020</td>\n",
       "      <td>1.767052</td>\n",
       "      <td>0.265250</td>\n",
       "    </tr>\n",
       "    <tr>\n",
       "      <td>std</td>\n",
       "      <td>0.499957</td>\n",
       "      <td>0.361711</td>\n",
       "      <td>0.499887</td>\n",
       "      <td>0.461932</td>\n",
       "      <td>0.295313</td>\n",
       "      <td>4.549706</td>\n",
       "      <td>0.492301</td>\n",
       "      <td>3.258367</td>\n",
       "      <td>96.355602</td>\n",
       "      <td>3.899573</td>\n",
       "      <td>3.749267</td>\n",
       "      <td>0.972245</td>\n",
       "      <td>1.052906</td>\n",
       "      <td>0.441521</td>\n",
       "    </tr>\n",
       "    <tr>\n",
       "      <td>min</td>\n",
       "      <td>0.000000</td>\n",
       "      <td>0.000000</td>\n",
       "      <td>0.000000</td>\n",
       "      <td>0.000000</td>\n",
       "      <td>0.000000</td>\n",
       "      <td>1.000000</td>\n",
       "      <td>0.000000</td>\n",
       "      <td>18.000000</td>\n",
       "      <td>0.148205</td>\n",
       "      <td>2.000000</td>\n",
       "      <td>0.000000</td>\n",
       "      <td>0.000000</td>\n",
       "      <td>0.000000</td>\n",
       "      <td>0.000000</td>\n",
       "    </tr>\n",
       "    <tr>\n",
       "      <td>25%</td>\n",
       "      <td>0.000000</td>\n",
       "      <td>1.000000</td>\n",
       "      <td>0.000000</td>\n",
       "      <td>0.000000</td>\n",
       "      <td>1.000000</td>\n",
       "      <td>1.000000</td>\n",
       "      <td>0.000000</td>\n",
       "      <td>27.000000</td>\n",
       "      <td>68.868830</td>\n",
       "      <td>2.000000</td>\n",
       "      <td>1.000000</td>\n",
       "      <td>1.180875</td>\n",
       "      <td>0.963003</td>\n",
       "      <td>0.000000</td>\n",
       "    </tr>\n",
       "    <tr>\n",
       "      <td>50%</td>\n",
       "      <td>1.000000</td>\n",
       "      <td>1.000000</td>\n",
       "      <td>0.000000</td>\n",
       "      <td>0.000000</td>\n",
       "      <td>1.000000</td>\n",
       "      <td>1.000000</td>\n",
       "      <td>0.000000</td>\n",
       "      <td>29.000000</td>\n",
       "      <td>136.220159</td>\n",
       "      <td>2.000000</td>\n",
       "      <td>3.000000</td>\n",
       "      <td>1.832768</td>\n",
       "      <td>1.719574</td>\n",
       "      <td>0.000000</td>\n",
       "    </tr>\n",
       "    <tr>\n",
       "      <td>75%</td>\n",
       "      <td>1.000000</td>\n",
       "      <td>1.000000</td>\n",
       "      <td>1.000000</td>\n",
       "      <td>1.000000</td>\n",
       "      <td>1.000000</td>\n",
       "      <td>6.000000</td>\n",
       "      <td>1.000000</td>\n",
       "      <td>31.000000</td>\n",
       "      <td>210.949625</td>\n",
       "      <td>7.000000</td>\n",
       "      <td>5.000000</td>\n",
       "      <td>2.536078</td>\n",
       "      <td>2.510336</td>\n",
       "      <td>1.000000</td>\n",
       "    </tr>\n",
       "    <tr>\n",
       "      <td>max</td>\n",
       "      <td>1.000000</td>\n",
       "      <td>1.000000</td>\n",
       "      <td>1.000000</td>\n",
       "      <td>1.000000</td>\n",
       "      <td>1.000000</td>\n",
       "      <td>12.000000</td>\n",
       "      <td>1.000000</td>\n",
       "      <td>41.000000</td>\n",
       "      <td>552.590740</td>\n",
       "      <td>13.000000</td>\n",
       "      <td>31.000000</td>\n",
       "      <td>6.023668</td>\n",
       "      <td>6.146783</td>\n",
       "      <td>1.000000</td>\n",
       "    </tr>\n",
       "  </tbody>\n",
       "</table>\n",
       "</div>"
      ],
      "text/plain": [
       "            gender  near_location      partner  promo_friends        phone  \\\n",
       "count  4000.000000    4000.000000  4000.000000    4000.000000  4000.000000   \n",
       "mean      0.510250       0.845250     0.486750       0.308500     0.903500   \n",
       "std       0.499957       0.361711     0.499887       0.461932     0.295313   \n",
       "min       0.000000       0.000000     0.000000       0.000000     0.000000   \n",
       "25%       0.000000       1.000000     0.000000       0.000000     1.000000   \n",
       "50%       1.000000       1.000000     0.000000       0.000000     1.000000   \n",
       "75%       1.000000       1.000000     1.000000       1.000000     1.000000   \n",
       "max       1.000000       1.000000     1.000000       1.000000     1.000000   \n",
       "\n",
       "       contract_period  group_visits          age  \\\n",
       "count      4000.000000   4000.000000  4000.000000   \n",
       "mean          4.681250      0.412250    29.184250   \n",
       "std           4.549706      0.492301     3.258367   \n",
       "min           1.000000      0.000000    18.000000   \n",
       "25%           1.000000      0.000000    27.000000   \n",
       "50%           1.000000      0.000000    29.000000   \n",
       "75%           6.000000      1.000000    31.000000   \n",
       "max          12.000000      1.000000    41.000000   \n",
       "\n",
       "       avg_additional_charges_total  month_to_end_contract     lifetime  \\\n",
       "count                   4000.000000            4000.000000  4000.000000   \n",
       "mean                     146.943728               5.011500     3.724750   \n",
       "std                       96.355602               3.899573     3.749267   \n",
       "min                        0.148205               2.000000     0.000000   \n",
       "25%                       68.868830               2.000000     1.000000   \n",
       "50%                      136.220159               2.000000     3.000000   \n",
       "75%                      210.949625               7.000000     5.000000   \n",
       "max                      552.590740              13.000000    31.000000   \n",
       "\n",
       "       avg_class_frequency_total  avg_class_frequency_current_month  \\\n",
       "count                4000.000000                        4000.000000   \n",
       "mean                    1.879020                           1.767052   \n",
       "std                     0.972245                           1.052906   \n",
       "min                     0.000000                           0.000000   \n",
       "25%                     1.180875                           0.963003   \n",
       "50%                     1.832768                           1.719574   \n",
       "75%                     2.536078                           2.510336   \n",
       "max                     6.023668                           6.146783   \n",
       "\n",
       "             churn  \n",
       "count  4000.000000  \n",
       "mean      0.265250  \n",
       "std       0.441521  \n",
       "min       0.000000  \n",
       "25%       0.000000  \n",
       "50%       0.000000  \n",
       "75%       1.000000  \n",
       "max       1.000000  "
      ]
     },
     "execution_count": 8,
     "metadata": {},
     "output_type": "execute_result"
    }
   ],
   "source": [
    "df.describe()"
   ]
  },
  {
   "cell_type": "markdown",
   "metadata": {},
   "source": [
    "### 2. Посмотрите на средние значения признаков в двух группах — тех, кто ушел в отток и тех, кто остался."
   ]
  },
  {
   "cell_type": "code",
   "execution_count": 9,
   "metadata": {},
   "outputs": [
    {
     "data": {
      "text/html": [
       "<div>\n",
       "<style scoped>\n",
       "    .dataframe tbody tr th:only-of-type {\n",
       "        vertical-align: middle;\n",
       "    }\n",
       "\n",
       "    .dataframe tbody tr th {\n",
       "        vertical-align: top;\n",
       "    }\n",
       "\n",
       "    .dataframe thead th {\n",
       "        text-align: right;\n",
       "    }\n",
       "</style>\n",
       "<table border=\"1\" class=\"dataframe\">\n",
       "  <thead>\n",
       "    <tr style=\"text-align: right;\">\n",
       "      <th></th>\n",
       "      <th>contract_period</th>\n",
       "      <th>age</th>\n",
       "      <th>avg_additional_charges_total</th>\n",
       "      <th>month_to_end_contract</th>\n",
       "      <th>lifetime</th>\n",
       "      <th>avg_class_frequency_total</th>\n",
       "      <th>avg_class_frequency_current_month</th>\n",
       "    </tr>\n",
       "    <tr>\n",
       "      <th>churn</th>\n",
       "      <th></th>\n",
       "      <th></th>\n",
       "      <th></th>\n",
       "      <th></th>\n",
       "      <th></th>\n",
       "      <th></th>\n",
       "      <th></th>\n",
       "    </tr>\n",
       "  </thead>\n",
       "  <tbody>\n",
       "    <tr>\n",
       "      <td>0</td>\n",
       "      <td>5.747193</td>\n",
       "      <td>29.976523</td>\n",
       "      <td>158.445715</td>\n",
       "      <td>5.888397</td>\n",
       "      <td>4.711807</td>\n",
       "      <td>2.024876</td>\n",
       "      <td>2.027882</td>\n",
       "    </tr>\n",
       "    <tr>\n",
       "      <td>1</td>\n",
       "      <td>1.728558</td>\n",
       "      <td>26.989632</td>\n",
       "      <td>115.082899</td>\n",
       "      <td>2.582469</td>\n",
       "      <td>0.990575</td>\n",
       "      <td>1.474995</td>\n",
       "      <td>1.044546</td>\n",
       "    </tr>\n",
       "  </tbody>\n",
       "</table>\n",
       "</div>"
      ],
      "text/plain": [
       "       contract_period        age  avg_additional_charges_total  \\\n",
       "churn                                                             \n",
       "0             5.747193  29.976523                    158.445715   \n",
       "1             1.728558  26.989632                    115.082899   \n",
       "\n",
       "       month_to_end_contract  lifetime  avg_class_frequency_total  \\\n",
       "churn                                                               \n",
       "0                   5.888397  4.711807                   2.024876   \n",
       "1                   2.582469  0.990575                   1.474995   \n",
       "\n",
       "       avg_class_frequency_current_month  \n",
       "churn                                     \n",
       "0                               2.027882  \n",
       "1                               1.044546  "
      ]
     },
     "execution_count": 9,
     "metadata": {},
     "output_type": "execute_result"
    }
   ],
   "source": [
    "#исключим бинарные переменные, остальные добавим в список\n",
    "not_binary_features = [i for i in df.columns if df[i].nunique()!=2]\n",
    "#посчитаем среднее по всем не бинарным признакам для группы оттока и оставшихся\n",
    "df.groupby('churn').agg({i:'mean' for i in not_binary_features if i != 'churn'})"
   ]
  },
  {
   "cell_type": "markdown",
   "metadata": {},
   "source": [
    "### Вывод\n",
    "__Для оттока характерны:__\n",
    "* __contract_period__ ~ 1.7 (ниже, чем у не отточных) краткосрочные абонементы\n",
    "* __avg_additional_charges_total__ ~ 115, низкая суммарная выручка от других услуг фитнес клуба\n",
    "* __month_to_end_contract__ ~ 2.5 меньше времени до окончания действия абонемента (должно коррелировать с contract_period)\n",
    "* __lifetime__ ~ 0.99, время с момента первого посещения клуба около 1 месяца (должно коррелировать с contract_period)\n",
    "* __avg_class_frequency_total__ ~ 1.47, частота посещений в неделю ниже, чем у не отточных клиентов\n",
    "* __avg_class_frequency_current_month__ ~1.04, в последний месяц в среднем посещали клуб 1 раз, что ниже, чем у не оттточных клиентов\n",
    "* __age__ ~ 26.9, клиенты в оттоке в среднем моложе, чем в не оттоке"
   ]
  },
  {
   "cell_type": "markdown",
   "metadata": {},
   "source": [
    "### Соотношение классов в датафрейме"
   ]
  },
  {
   "cell_type": "code",
   "execution_count": 10,
   "metadata": {
    "scrolled": true
   },
   "outputs": [
    {
     "data": {
      "text/html": [
       "<div>\n",
       "<style scoped>\n",
       "    .dataframe tbody tr th:only-of-type {\n",
       "        vertical-align: middle;\n",
       "    }\n",
       "\n",
       "    .dataframe tbody tr th {\n",
       "        vertical-align: top;\n",
       "    }\n",
       "\n",
       "    .dataframe thead th {\n",
       "        text-align: right;\n",
       "    }\n",
       "</style>\n",
       "<table border=\"1\" class=\"dataframe\">\n",
       "  <thead>\n",
       "    <tr style=\"text-align: right;\">\n",
       "      <th></th>\n",
       "      <th>churn</th>\n",
       "    </tr>\n",
       "  </thead>\n",
       "  <tbody>\n",
       "    <tr>\n",
       "      <td>0</td>\n",
       "      <td>0.73475</td>\n",
       "    </tr>\n",
       "    <tr>\n",
       "      <td>1</td>\n",
       "      <td>0.26525</td>\n",
       "    </tr>\n",
       "  </tbody>\n",
       "</table>\n",
       "</div>"
      ],
      "text/plain": [
       "     churn\n",
       "0  0.73475\n",
       "1  0.26525"
      ]
     },
     "execution_count": 10,
     "metadata": {},
     "output_type": "execute_result"
    }
   ],
   "source": [
    "(df.churn.value_counts()/df.shape[0]).to_frame()"
   ]
  },
  {
   "cell_type": "markdown",
   "metadata": {},
   "source": [
    "### 3. Постройте столбчатые гистограммы и распределения признаков для тех, кто ушёл (отток) и тех, кто остался"
   ]
  },
  {
   "cell_type": "markdown",
   "metadata": {},
   "source": [
    "### Построим барплоты\n",
    "* относительный график по каждому дискретному и бинарному признаку в группе отток и не отток\n",
    "    * сформируем список с категориальными и бинарными признаками"
   ]
  },
  {
   "cell_type": "code",
   "execution_count": 11,
   "metadata": {
    "scrolled": false
   },
   "outputs": [
    {
     "data": {
      "image/png": "[encoded data removed]",
      "text/plain": [
       "<Figure size 1008x216 with 1 Axes>"
      ]
     },
     "metadata": {
      "needs_background": "light"
     },
     "output_type": "display_data"
    },
    {
     "data": {
      "text/html": [
       "<div>\n",
       "<style scoped>\n",
       "    .dataframe tbody tr th:only-of-type {\n",
       "        vertical-align: middle;\n",
       "    }\n",
       "\n",
       "    .dataframe tbody tr th {\n",
       "        vertical-align: top;\n",
       "    }\n",
       "\n",
       "    .dataframe thead th {\n",
       "        text-align: right;\n",
       "    }\n",
       "</style>\n",
       "<table border=\"1\" class=\"dataframe\">\n",
       "  <thead>\n",
       "    <tr style=\"text-align: right;\">\n",
       "      <th></th>\n",
       "      <th>churn</th>\n",
       "      <th>gender</th>\n",
       "      <th>count</th>\n",
       "      <th>total_in_churn</th>\n",
       "      <th>share</th>\n",
       "    </tr>\n",
       "  </thead>\n",
       "  <tbody>\n",
       "    <tr>\n",
       "      <td>0</td>\n",
       "      <td>0</td>\n",
       "      <td>0</td>\n",
       "      <td>1440</td>\n",
       "      <td>2939</td>\n",
       "      <td>0.489963</td>\n",
       "    </tr>\n",
       "    <tr>\n",
       "      <td>1</td>\n",
       "      <td>0</td>\n",
       "      <td>1</td>\n",
       "      <td>1499</td>\n",
       "      <td>2939</td>\n",
       "      <td>0.510037</td>\n",
       "    </tr>\n",
       "    <tr>\n",
       "      <td>2</td>\n",
       "      <td>1</td>\n",
       "      <td>0</td>\n",
       "      <td>519</td>\n",
       "      <td>1061</td>\n",
       "      <td>0.489161</td>\n",
       "    </tr>\n",
       "    <tr>\n",
       "      <td>3</td>\n",
       "      <td>1</td>\n",
       "      <td>1</td>\n",
       "      <td>542</td>\n",
       "      <td>1061</td>\n",
       "      <td>0.510839</td>\n",
       "    </tr>\n",
       "  </tbody>\n",
       "</table>\n",
       "</div>"
      ],
      "text/plain": [
       "   churn  gender  count  total_in_churn     share\n",
       "0      0       0   1440            2939  0.489963\n",
       "1      0       1   1499            2939  0.510037\n",
       "2      1       0    519            1061  0.489161\n",
       "3      1       1    542            1061  0.510839"
      ]
     },
     "metadata": {},
     "output_type": "display_data"
    },
    {
     "data": {
      "image/png": "[encoded data removed]",
      "text/plain": [
       "<Figure size 1008x216 with 1 Axes>"
      ]
     },
     "metadata": {
      "needs_background": "light"
     },
     "output_type": "display_data"
    },
    {
     "data": {
      "text/html": [
       "<div>\n",
       "<style scoped>\n",
       "    .dataframe tbody tr th:only-of-type {\n",
       "        vertical-align: middle;\n",
       "    }\n",
       "\n",
       "    .dataframe tbody tr th {\n",
       "        vertical-align: top;\n",
       "    }\n",
       "\n",
       "    .dataframe thead th {\n",
       "        text-align: right;\n",
       "    }\n",
       "</style>\n",
       "<table border=\"1\" class=\"dataframe\">\n",
       "  <thead>\n",
       "    <tr style=\"text-align: right;\">\n",
       "      <th></th>\n",
       "      <th>churn</th>\n",
       "      <th>near_location</th>\n",
       "      <th>count</th>\n",
       "      <th>total_in_churn</th>\n",
       "      <th>share</th>\n",
       "    </tr>\n",
       "  </thead>\n",
       "  <tbody>\n",
       "    <tr>\n",
       "      <td>0</td>\n",
       "      <td>0</td>\n",
       "      <td>0</td>\n",
       "      <td>373</td>\n",
       "      <td>2939</td>\n",
       "      <td>0.126914</td>\n",
       "    </tr>\n",
       "    <tr>\n",
       "      <td>1</td>\n",
       "      <td>0</td>\n",
       "      <td>1</td>\n",
       "      <td>2566</td>\n",
       "      <td>2939</td>\n",
       "      <td>0.873086</td>\n",
       "    </tr>\n",
       "    <tr>\n",
       "      <td>2</td>\n",
       "      <td>1</td>\n",
       "      <td>0</td>\n",
       "      <td>246</td>\n",
       "      <td>1061</td>\n",
       "      <td>0.231857</td>\n",
       "    </tr>\n",
       "    <tr>\n",
       "      <td>3</td>\n",
       "      <td>1</td>\n",
       "      <td>1</td>\n",
       "      <td>815</td>\n",
       "      <td>1061</td>\n",
       "      <td>0.768143</td>\n",
       "    </tr>\n",
       "  </tbody>\n",
       "</table>\n",
       "</div>"
      ],
      "text/plain": [
       "   churn  near_location  count  total_in_churn     share\n",
       "0      0              0    373            2939  0.126914\n",
       "1      0              1   2566            2939  0.873086\n",
       "2      1              0    246            1061  0.231857\n",
       "3      1              1    815            1061  0.768143"
      ]
     },
     "metadata": {},
     "output_type": "display_data"
    },
    {
     "data": {
      "image/png": "[encoded data removed]",
      "text/plain": [
       "<Figure size 1008x216 with 1 Axes>"
      ]
     },
     "metadata": {
      "needs_background": "light"
     },
     "output_type": "display_data"
    },
    {
     "data": {
      "text/html": [
       "<div>\n",
       "<style scoped>\n",
       "    .dataframe tbody tr th:only-of-type {\n",
       "        vertical-align: middle;\n",
       "    }\n",
       "\n",
       "    .dataframe tbody tr th {\n",
       "        vertical-align: top;\n",
       "    }\n",
       "\n",
       "    .dataframe thead th {\n",
       "        text-align: right;\n",
       "    }\n",
       "</style>\n",
       "<table border=\"1\" class=\"dataframe\">\n",
       "  <thead>\n",
       "    <tr style=\"text-align: right;\">\n",
       "      <th></th>\n",
       "      <th>churn</th>\n",
       "      <th>partner</th>\n",
       "      <th>count</th>\n",
       "      <th>total_in_churn</th>\n",
       "      <th>share</th>\n",
       "    </tr>\n",
       "  </thead>\n",
       "  <tbody>\n",
       "    <tr>\n",
       "      <td>0</td>\n",
       "      <td>0</td>\n",
       "      <td>0</td>\n",
       "      <td>1369</td>\n",
       "      <td>2939</td>\n",
       "      <td>0.465805</td>\n",
       "    </tr>\n",
       "    <tr>\n",
       "      <td>1</td>\n",
       "      <td>0</td>\n",
       "      <td>1</td>\n",
       "      <td>1570</td>\n",
       "      <td>2939</td>\n",
       "      <td>0.534195</td>\n",
       "    </tr>\n",
       "    <tr>\n",
       "      <td>2</td>\n",
       "      <td>1</td>\n",
       "      <td>0</td>\n",
       "      <td>684</td>\n",
       "      <td>1061</td>\n",
       "      <td>0.644675</td>\n",
       "    </tr>\n",
       "    <tr>\n",
       "      <td>3</td>\n",
       "      <td>1</td>\n",
       "      <td>1</td>\n",
       "      <td>377</td>\n",
       "      <td>1061</td>\n",
       "      <td>0.355325</td>\n",
       "    </tr>\n",
       "  </tbody>\n",
       "</table>\n",
       "</div>"
      ],
      "text/plain": [
       "   churn  partner  count  total_in_churn     share\n",
       "0      0        0   1369            2939  0.465805\n",
       "1      0        1   1570            2939  0.534195\n",
       "2      1        0    684            1061  0.644675\n",
       "3      1        1    377            1061  0.355325"
      ]
     },
     "metadata": {},
     "output_type": "display_data"
    },
    {
     "data": {
      "image/png": "[encoded data removed]",
      "text/plain": [
       "<Figure size 1008x216 with 1 Axes>"
      ]
     },
     "metadata": {
      "needs_background": "light"
     },
     "output_type": "display_data"
    },
    {
     "data": {
      "text/html": [
       "<div>\n",
       "<style scoped>\n",
       "    .dataframe tbody tr th:only-of-type {\n",
       "        vertical-align: middle;\n",
       "    }\n",
       "\n",
       "    .dataframe tbody tr th {\n",
       "        vertical-align: top;\n",
       "    }\n",
       "\n",
       "    .dataframe thead th {\n",
       "        text-align: right;\n",
       "    }\n",
       "</style>\n",
       "<table border=\"1\" class=\"dataframe\">\n",
       "  <thead>\n",
       "    <tr style=\"text-align: right;\">\n",
       "      <th></th>\n",
       "      <th>churn</th>\n",
       "      <th>promo_friends</th>\n",
       "      <th>count</th>\n",
       "      <th>total_in_churn</th>\n",
       "      <th>share</th>\n",
       "    </tr>\n",
       "  </thead>\n",
       "  <tbody>\n",
       "    <tr>\n",
       "      <td>0</td>\n",
       "      <td>0</td>\n",
       "      <td>0</td>\n",
       "      <td>1900</td>\n",
       "      <td>2939</td>\n",
       "      <td>0.646478</td>\n",
       "    </tr>\n",
       "    <tr>\n",
       "      <td>1</td>\n",
       "      <td>0</td>\n",
       "      <td>1</td>\n",
       "      <td>1039</td>\n",
       "      <td>2939</td>\n",
       "      <td>0.353522</td>\n",
       "    </tr>\n",
       "    <tr>\n",
       "      <td>2</td>\n",
       "      <td>1</td>\n",
       "      <td>0</td>\n",
       "      <td>866</td>\n",
       "      <td>1061</td>\n",
       "      <td>0.816211</td>\n",
       "    </tr>\n",
       "    <tr>\n",
       "      <td>3</td>\n",
       "      <td>1</td>\n",
       "      <td>1</td>\n",
       "      <td>195</td>\n",
       "      <td>1061</td>\n",
       "      <td>0.183789</td>\n",
       "    </tr>\n",
       "  </tbody>\n",
       "</table>\n",
       "</div>"
      ],
      "text/plain": [
       "   churn  promo_friends  count  total_in_churn     share\n",
       "0      0              0   1900            2939  0.646478\n",
       "1      0              1   1039            2939  0.353522\n",
       "2      1              0    866            1061  0.816211\n",
       "3      1              1    195            1061  0.183789"
      ]
     },
     "metadata": {},
     "output_type": "display_data"
    },
    {
     "data": {
      "image/png": "[encoded data removed]",
      "text/plain": [
       "<Figure size 1008x216 with 1 Axes>"
      ]
     },
     "metadata": {
      "needs_background": "light"
     },
     "output_type": "display_data"
    },
    {
     "data": {
      "text/html": [
       "<div>\n",
       "<style scoped>\n",
       "    .dataframe tbody tr th:only-of-type {\n",
       "        vertical-align: middle;\n",
       "    }\n",
       "\n",
       "    .dataframe tbody tr th {\n",
       "        vertical-align: top;\n",
       "    }\n",
       "\n",
       "    .dataframe thead th {\n",
       "        text-align: right;\n",
       "    }\n",
       "</style>\n",
       "<table border=\"1\" class=\"dataframe\">\n",
       "  <thead>\n",
       "    <tr style=\"text-align: right;\">\n",
       "      <th></th>\n",
       "      <th>churn</th>\n",
       "      <th>phone</th>\n",
       "      <th>count</th>\n",
       "      <th>total_in_churn</th>\n",
       "      <th>share</th>\n",
       "    </tr>\n",
       "  </thead>\n",
       "  <tbody>\n",
       "    <tr>\n",
       "      <td>0</td>\n",
       "      <td>0</td>\n",
       "      <td>0</td>\n",
       "      <td>283</td>\n",
       "      <td>2939</td>\n",
       "      <td>0.096291</td>\n",
       "    </tr>\n",
       "    <tr>\n",
       "      <td>1</td>\n",
       "      <td>0</td>\n",
       "      <td>1</td>\n",
       "      <td>2656</td>\n",
       "      <td>2939</td>\n",
       "      <td>0.903709</td>\n",
       "    </tr>\n",
       "    <tr>\n",
       "      <td>2</td>\n",
       "      <td>1</td>\n",
       "      <td>0</td>\n",
       "      <td>103</td>\n",
       "      <td>1061</td>\n",
       "      <td>0.097078</td>\n",
       "    </tr>\n",
       "    <tr>\n",
       "      <td>3</td>\n",
       "      <td>1</td>\n",
       "      <td>1</td>\n",
       "      <td>958</td>\n",
       "      <td>1061</td>\n",
       "      <td>0.902922</td>\n",
       "    </tr>\n",
       "  </tbody>\n",
       "</table>\n",
       "</div>"
      ],
      "text/plain": [
       "   churn  phone  count  total_in_churn     share\n",
       "0      0      0    283            2939  0.096291\n",
       "1      0      1   2656            2939  0.903709\n",
       "2      1      0    103            1061  0.097078\n",
       "3      1      1    958            1061  0.902922"
      ]
     },
     "metadata": {},
     "output_type": "display_data"
    },
    {
     "data": {
      "image/png": "[encoded data removed]",
      "text/plain": [
       "<Figure size 1008x216 with 1 Axes>"
      ]
     },
     "metadata": {
      "needs_background": "light"
     },
     "output_type": "display_data"
    },
    {
     "data": {
      "text/html": [
       "<div>\n",
       "<style scoped>\n",
       "    .dataframe tbody tr th:only-of-type {\n",
       "        vertical-align: middle;\n",
       "    }\n",
       "\n",
       "    .dataframe tbody tr th {\n",
       "        vertical-align: top;\n",
       "    }\n",
       "\n",
       "    .dataframe thead th {\n",
       "        text-align: right;\n",
       "    }\n",
       "</style>\n",
       "<table border=\"1\" class=\"dataframe\">\n",
       "  <thead>\n",
       "    <tr style=\"text-align: right;\">\n",
       "      <th></th>\n",
       "      <th>churn</th>\n",
       "      <th>contract_period</th>\n",
       "      <th>count</th>\n",
       "      <th>total_in_churn</th>\n",
       "      <th>share</th>\n",
       "    </tr>\n",
       "  </thead>\n",
       "  <tbody>\n",
       "    <tr>\n",
       "      <td>0</td>\n",
       "      <td>0</td>\n",
       "      <td>1</td>\n",
       "      <td>1273</td>\n",
       "      <td>2939</td>\n",
       "      <td>0.433141</td>\n",
       "    </tr>\n",
       "    <tr>\n",
       "      <td>1</td>\n",
       "      <td>0</td>\n",
       "      <td>6</td>\n",
       "      <td>729</td>\n",
       "      <td>2939</td>\n",
       "      <td>0.248044</td>\n",
       "    </tr>\n",
       "    <tr>\n",
       "      <td>2</td>\n",
       "      <td>0</td>\n",
       "      <td>12</td>\n",
       "      <td>937</td>\n",
       "      <td>2939</td>\n",
       "      <td>0.318816</td>\n",
       "    </tr>\n",
       "    <tr>\n",
       "      <td>3</td>\n",
       "      <td>1</td>\n",
       "      <td>1</td>\n",
       "      <td>934</td>\n",
       "      <td>1061</td>\n",
       "      <td>0.880302</td>\n",
       "    </tr>\n",
       "    <tr>\n",
       "      <td>4</td>\n",
       "      <td>1</td>\n",
       "      <td>6</td>\n",
       "      <td>104</td>\n",
       "      <td>1061</td>\n",
       "      <td>0.098021</td>\n",
       "    </tr>\n",
       "  </tbody>\n",
       "</table>\n",
       "</div>"
      ],
      "text/plain": [
       "   churn  contract_period  count  total_in_churn     share\n",
       "0      0                1   1273            2939  0.433141\n",
       "1      0                6    729            2939  0.248044\n",
       "2      0               12    937            2939  0.318816\n",
       "3      1                1    934            1061  0.880302\n",
       "4      1                6    104            1061  0.098021"
      ]
     },
     "metadata": {},
     "output_type": "display_data"
    },
    {
     "data": {
      "image/png": "[encoded data removed]",
      "text/plain": [
       "<Figure size 1008x216 with 1 Axes>"
      ]
     },
     "metadata": {
      "needs_background": "light"
     },
     "output_type": "display_data"
    },
    {
     "data": {
      "text/html": [
       "<div>\n",
       "<style scoped>\n",
       "    .dataframe tbody tr th:only-of-type {\n",
       "        vertical-align: middle;\n",
       "    }\n",
       "\n",
       "    .dataframe tbody tr th {\n",
       "        vertical-align: top;\n",
       "    }\n",
       "\n",
       "    .dataframe thead th {\n",
       "        text-align: right;\n",
       "    }\n",
       "</style>\n",
       "<table border=\"1\" class=\"dataframe\">\n",
       "  <thead>\n",
       "    <tr style=\"text-align: right;\">\n",
       "      <th></th>\n",
       "      <th>churn</th>\n",
       "      <th>group_visits</th>\n",
       "      <th>count</th>\n",
       "      <th>total_in_churn</th>\n",
       "      <th>share</th>\n",
       "    </tr>\n",
       "  </thead>\n",
       "  <tbody>\n",
       "    <tr>\n",
       "      <td>0</td>\n",
       "      <td>0</td>\n",
       "      <td>0</td>\n",
       "      <td>1575</td>\n",
       "      <td>2939</td>\n",
       "      <td>0.535897</td>\n",
       "    </tr>\n",
       "    <tr>\n",
       "      <td>1</td>\n",
       "      <td>0</td>\n",
       "      <td>1</td>\n",
       "      <td>1364</td>\n",
       "      <td>2939</td>\n",
       "      <td>0.464103</td>\n",
       "    </tr>\n",
       "    <tr>\n",
       "      <td>2</td>\n",
       "      <td>1</td>\n",
       "      <td>0</td>\n",
       "      <td>776</td>\n",
       "      <td>1061</td>\n",
       "      <td>0.731385</td>\n",
       "    </tr>\n",
       "    <tr>\n",
       "      <td>3</td>\n",
       "      <td>1</td>\n",
       "      <td>1</td>\n",
       "      <td>285</td>\n",
       "      <td>1061</td>\n",
       "      <td>0.268615</td>\n",
       "    </tr>\n",
       "  </tbody>\n",
       "</table>\n",
       "</div>"
      ],
      "text/plain": [
       "   churn  group_visits  count  total_in_churn     share\n",
       "0      0             0   1575            2939  0.535897\n",
       "1      0             1   1364            2939  0.464103\n",
       "2      1             0    776            1061  0.731385\n",
       "3      1             1    285            1061  0.268615"
      ]
     },
     "metadata": {},
     "output_type": "display_data"
    },
    {
     "data": {
      "image/png": "[encoded data removed]",
      "text/plain": [
       "<Figure size 1008x432 with 1 Axes>"
      ]
     },
     "metadata": {
      "needs_background": "light"
     },
     "output_type": "display_data"
    },
    {
     "data": {
      "image/png": "[encoded data removed]",
      "text/plain": [
       "<Figure size 1008x432 with 1 Axes>"
      ]
     },
     "metadata": {
      "needs_background": "light"
     },
     "output_type": "display_data"
    },
    {
     "data": {
      "text/html": [
       "<div>\n",
       "<style scoped>\n",
       "    .dataframe tbody tr th:only-of-type {\n",
       "        vertical-align: middle;\n",
       "    }\n",
       "\n",
       "    .dataframe tbody tr th {\n",
       "        vertical-align: top;\n",
       "    }\n",
       "\n",
       "    .dataframe thead th {\n",
       "        text-align: right;\n",
       "    }\n",
       "</style>\n",
       "<table border=\"1\" class=\"dataframe\">\n",
       "  <thead>\n",
       "    <tr style=\"text-align: right;\">\n",
       "      <th></th>\n",
       "      <th>churn</th>\n",
       "      <th>age</th>\n",
       "      <th>count</th>\n",
       "      <th>total_in_churn</th>\n",
       "      <th>share</th>\n",
       "    </tr>\n",
       "  </thead>\n",
       "  <tbody>\n",
       "    <tr>\n",
       "      <td>0</td>\n",
       "      <td>0</td>\n",
       "      <td>19</td>\n",
       "      <td>1</td>\n",
       "      <td>2939</td>\n",
       "      <td>0.000340</td>\n",
       "    </tr>\n",
       "    <tr>\n",
       "      <td>1</td>\n",
       "      <td>0</td>\n",
       "      <td>20</td>\n",
       "      <td>3</td>\n",
       "      <td>2939</td>\n",
       "      <td>0.001021</td>\n",
       "    </tr>\n",
       "    <tr>\n",
       "      <td>2</td>\n",
       "      <td>0</td>\n",
       "      <td>21</td>\n",
       "      <td>5</td>\n",
       "      <td>2939</td>\n",
       "      <td>0.001701</td>\n",
       "    </tr>\n",
       "    <tr>\n",
       "      <td>3</td>\n",
       "      <td>0</td>\n",
       "      <td>22</td>\n",
       "      <td>7</td>\n",
       "      <td>2939</td>\n",
       "      <td>0.002382</td>\n",
       "    </tr>\n",
       "    <tr>\n",
       "      <td>4</td>\n",
       "      <td>0</td>\n",
       "      <td>23</td>\n",
       "      <td>26</td>\n",
       "      <td>2939</td>\n",
       "      <td>0.008847</td>\n",
       "    </tr>\n",
       "  </tbody>\n",
       "</table>\n",
       "</div>"
      ],
      "text/plain": [
       "   churn  age  count  total_in_churn     share\n",
       "0      0   19      1            2939  0.000340\n",
       "1      0   20      3            2939  0.001021\n",
       "2      0   21      5            2939  0.001701\n",
       "3      0   22      7            2939  0.002382\n",
       "4      0   23     26            2939  0.008847"
      ]
     },
     "metadata": {},
     "output_type": "display_data"
    },
    {
     "data": {
      "image/png": "[encoded data removed]",
      "text/plain": [
       "<Figure size 1008x432 with 1 Axes>"
      ]
     },
     "metadata": {
      "needs_background": "light"
     },
     "output_type": "display_data"
    },
    {
     "data": {
      "image/png": "[encoded data removed]",
      "text/plain": [
       "<Figure size 1008x432 with 1 Axes>"
      ]
     },
     "metadata": {
      "needs_background": "light"
     },
     "output_type": "display_data"
    },
    {
     "data": {
      "text/html": [
       "<div>\n",
       "<style scoped>\n",
       "    .dataframe tbody tr th:only-of-type {\n",
       "        vertical-align: middle;\n",
       "    }\n",
       "\n",
       "    .dataframe tbody tr th {\n",
       "        vertical-align: top;\n",
       "    }\n",
       "\n",
       "    .dataframe thead th {\n",
       "        text-align: right;\n",
       "    }\n",
       "</style>\n",
       "<table border=\"1\" class=\"dataframe\">\n",
       "  <thead>\n",
       "    <tr style=\"text-align: right;\">\n",
       "      <th></th>\n",
       "      <th>churn</th>\n",
       "      <th>month_to_end_contract</th>\n",
       "      <th>count</th>\n",
       "      <th>total_in_churn</th>\n",
       "      <th>share</th>\n",
       "    </tr>\n",
       "  </thead>\n",
       "  <tbody>\n",
       "    <tr>\n",
       "      <td>0</td>\n",
       "      <td>0</td>\n",
       "      <td>2</td>\n",
       "      <td>1285</td>\n",
       "      <td>2939</td>\n",
       "      <td>0.437224</td>\n",
       "    </tr>\n",
       "    <tr>\n",
       "      <td>1</td>\n",
       "      <td>0</td>\n",
       "      <td>3</td>\n",
       "      <td>22</td>\n",
       "      <td>2939</td>\n",
       "      <td>0.007486</td>\n",
       "    </tr>\n",
       "    <tr>\n",
       "      <td>2</td>\n",
       "      <td>0</td>\n",
       "      <td>4</td>\n",
       "      <td>51</td>\n",
       "      <td>2939</td>\n",
       "      <td>0.017353</td>\n",
       "    </tr>\n",
       "    <tr>\n",
       "      <td>3</td>\n",
       "      <td>0</td>\n",
       "      <td>5</td>\n",
       "      <td>111</td>\n",
       "      <td>2939</td>\n",
       "      <td>0.037768</td>\n",
       "    </tr>\n",
       "    <tr>\n",
       "      <td>4</td>\n",
       "      <td>0</td>\n",
       "      <td>6</td>\n",
       "      <td>268</td>\n",
       "      <td>2939</td>\n",
       "      <td>0.091187</td>\n",
       "    </tr>\n",
       "  </tbody>\n",
       "</table>\n",
       "</div>"
      ],
      "text/plain": [
       "   churn  month_to_end_contract  count  total_in_churn     share\n",
       "0      0                      2   1285            2939  0.437224\n",
       "1      0                      3     22            2939  0.007486\n",
       "2      0                      4     51            2939  0.017353\n",
       "3      0                      5    111            2939  0.037768\n",
       "4      0                      6    268            2939  0.091187"
      ]
     },
     "metadata": {},
     "output_type": "display_data"
    },
    {
     "data": {
      "image/png": "[encoded data removed]",
      "text/plain": [
       "<Figure size 1008x432 with 1 Axes>"
      ]
     },
     "metadata": {
      "needs_background": "light"
     },
     "output_type": "display_data"
    },
    {
     "data": {
      "image/png": "[encoded data removed]",
      "text/plain": [
       "<Figure size 1008x432 with 1 Axes>"
      ]
     },
     "metadata": {
      "needs_background": "light"
     },
     "output_type": "display_data"
    },
    {
     "data": {
      "text/html": [
       "<div>\n",
       "<style scoped>\n",
       "    .dataframe tbody tr th:only-of-type {\n",
       "        vertical-align: middle;\n",
       "    }\n",
       "\n",
       "    .dataframe tbody tr th {\n",
       "        vertical-align: top;\n",
       "    }\n",
       "\n",
       "    .dataframe thead th {\n",
       "        text-align: right;\n",
       "    }\n",
       "</style>\n",
       "<table border=\"1\" class=\"dataframe\">\n",
       "  <thead>\n",
       "    <tr style=\"text-align: right;\">\n",
       "      <th></th>\n",
       "      <th>churn</th>\n",
       "      <th>lifetime</th>\n",
       "      <th>count</th>\n",
       "      <th>total_in_churn</th>\n",
       "      <th>share</th>\n",
       "    </tr>\n",
       "  </thead>\n",
       "  <tbody>\n",
       "    <tr>\n",
       "      <td>0</td>\n",
       "      <td>0</td>\n",
       "      <td>0</td>\n",
       "      <td>84</td>\n",
       "      <td>2939</td>\n",
       "      <td>0.028581</td>\n",
       "    </tr>\n",
       "    <tr>\n",
       "      <td>1</td>\n",
       "      <td>0</td>\n",
       "      <td>1</td>\n",
       "      <td>429</td>\n",
       "      <td>2939</td>\n",
       "      <td>0.145968</td>\n",
       "    </tr>\n",
       "    <tr>\n",
       "      <td>2</td>\n",
       "      <td>0</td>\n",
       "      <td>2</td>\n",
       "      <td>453</td>\n",
       "      <td>2939</td>\n",
       "      <td>0.154134</td>\n",
       "    </tr>\n",
       "    <tr>\n",
       "      <td>3</td>\n",
       "      <td>0</td>\n",
       "      <td>3</td>\n",
       "      <td>440</td>\n",
       "      <td>2939</td>\n",
       "      <td>0.149711</td>\n",
       "    </tr>\n",
       "    <tr>\n",
       "      <td>4</td>\n",
       "      <td>0</td>\n",
       "      <td>4</td>\n",
       "      <td>360</td>\n",
       "      <td>2939</td>\n",
       "      <td>0.122491</td>\n",
       "    </tr>\n",
       "  </tbody>\n",
       "</table>\n",
       "</div>"
      ],
      "text/plain": [
       "   churn  lifetime  count  total_in_churn     share\n",
       "0      0         0     84            2939  0.028581\n",
       "1      0         1    429            2939  0.145968\n",
       "2      0         2    453            2939  0.154134\n",
       "3      0         3    440            2939  0.149711\n",
       "4      0         4    360            2939  0.122491"
      ]
     },
     "metadata": {},
     "output_type": "display_data"
    }
   ],
   "source": [
    "#формируем список фичей из дискретных и бинарных значений, на основе правила, число уникальных значений < 50% датафрейма\n",
    "list_cat = [i for i in df if (df[i].nunique()<2000) and (i!='churn')]\n",
    "list_cont = [i for i in df if (i not in list_cat) and (i != 'churn')]\n",
    "\n",
    "for i in list_cat:\n",
    "    #для каждого графика формируем таблицу с относительными значениями фичи в группе отток/оставшиеся\n",
    "    temp = df.groupby(['churn',i]).count().iloc[:,:1].reset_index()\n",
    "    temp.columns = ['churn',i,'count']\n",
    "    temp['total_in_churn'] = temp['count'].groupby(temp['churn']).transform('sum')\n",
    "    temp['share'] = temp['count']/temp['total_in_churn']\n",
    "    #если число уник значений в фиче больше 5, на графике не помещаются две группы (отток/оставшиеся), переносим на другой график\n",
    "    if df[i].nunique()<5:\n",
    "        plt.figure(figsize=(14, 3))\n",
    "        ax = sns.barplot(x='churn', y='share', data=temp, hue=i)\n",
    "        ax.set(title=f'Относительные значения для {i} в группе churn', ylabel='Доля', xlabel='Группы оттока')\n",
    "        plt.show()\n",
    "    else:\n",
    "        ax = temp[temp['churn']==0].set_index(i)['share'].plot(kind='barh', figsize=(14,6))\n",
    "        ax.set(title=f'Значение по признаку {i} для не_отточных клиентов')\n",
    "        plt.show()\n",
    "        ax = temp[temp['churn']==1].set_index(i)['share'].plot(kind='barh', figsize=(14,6))\n",
    "        ax.set(title=f'Значение по признаку {i} для оттока')\n",
    "        plt.show()\n",
    "        \n",
    "    display(temp.head())"
   ]
  },
  {
   "cell_type": "markdown",
   "metadata": {},
   "source": [
    "### Построим гистограммы для непрерывных переменных"
   ]
  },
  {
   "cell_type": "code",
   "execution_count": 12,
   "metadata": {
    "scrolled": false
   },
   "outputs": [
    {
     "name": "stdout",
     "output_type": "stream",
     "text": [
      "Медианные значения для признака avg_additional_charges_total\n",
      "Отток: 103.81; Оставшиеся: 149.88; Относительная разница: 44.38%\n"
     ]
    },
    {
     "data": {
      "image/png": "[encoded data removed]",
      "text/plain": [
       "<Figure size 1008x216 with 1 Axes>"
      ]
     },
     "metadata": {
      "needs_background": "light"
     },
     "output_type": "display_data"
    },
    {
     "name": "stdout",
     "output_type": "stream",
     "text": [
      "Медианные значения для признака avg_class_frequency_total\n",
      "Отток: 1.49; Оставшиеся: 2.04; Относительная разница: 36.91%\n"
     ]
    },
    {
     "data": {
      "image/png": "[encoded data removed]",
      "text/plain": [
       "<Figure size 1008x216 with 1 Axes>"
      ]
     },
     "metadata": {
      "needs_background": "light"
     },
     "output_type": "display_data"
    },
    {
     "name": "stdout",
     "output_type": "stream",
     "text": [
      "Медианные значения для признака avg_class_frequency_current_month\n",
      "Отток: 0.98; Оставшиеся: 2.05; Относительная разница: 109.18%\n"
     ]
    },
    {
     "data": {
      "image/png": "[encoded data removed]",
      "text/plain": [
       "<Figure size 1008x216 with 1 Axes>"
      ]
     },
     "metadata": {
      "needs_background": "light"
     },
     "output_type": "display_data"
    }
   ],
   "source": [
    "for i in list_cont:\n",
    "    churn_median_feature = round((df[df['churn']==1][i]).median(),2)\n",
    "    not_churn_median_feature = round((df[df['churn']==0][i]).median(),2)\n",
    "    \n",
    "    print(f'Медианные значения для признака {i}\\nОтток: {churn_median_feature}; Оставшиеся: {not_churn_median_feature}; '\n",
    "    f'Относительная разница: {(not_churn_median_feature/churn_median_feature-1):.2%}')\n",
    "    \n",
    "    plt.figure(figsize=(14, 3))\n",
    "    ax = sns.distplot(df[df['churn']==0][i], color=\"green\")\n",
    "    ax.set(title=f'Значение переменной {i}. Отток: red')\n",
    "    ax = sns.distplot(df[df['churn']==1][i], color=\"red\")\n",
    "    plt.show()"
   ]
  },
  {
   "cell_type": "markdown",
   "metadata": {},
   "source": [
    "### Вывод\n",
    "__Для оттока характерны в большей степени, чем для не оттока следующие значения признаков:__\n",
    "1. Посетители клуба не имеющие партнера, признак __partner__ = 0\n",
    "2. Не использовали код от друзей при покупке абонемента ~ нет знакомых в клубе, признак __promo_friends__ = 0\n",
    "3. Имеют непродолжительные абонемент, признак __contract_period__ = 1\n",
    "4. Не посещают груповые занятия, признак __group_visit__ = 0\n",
    "5. Отточные клиенты моложе, чем не отточные, median(age) ~ 26 лет\n",
    "6. Медианное значение __avg_additional_charges_total__ у оттока ниже, относительная разница: 44.38% --> низкая суммарная выручка от других услуг фитнес-центра\n",
    "7. Медианное значение __avg_class_frequency_total__ у оттока ниже, относительная разница: 36.91% --> меньше посещений в неделю\n",
    "8. Медианное значение __avg_class_frequency_current_month__ у оттока ниже, относительная разница: 109.18% --> меньше посещений в месяц"
   ]
  },
  {
   "cell_type": "markdown",
   "metadata": {},
   "source": [
    "### 4. Постройте матрицу корреляций и отобразите её.\n",
    "* Для категориальных и непрерывных переменных используем ранговую корреляцию, тк некоторые признаки распределены не нормальным образом\n",
    "* Для двух бинарных переменных следует использовать Phi коэффициент __(но не нашел готовый метод/библиотеку :( )__ \n",
    "    * Источник: http://cawi.fsocium.com/vortex/help/terms/stat/koef.html"
   ]
  },
  {
   "cell_type": "code",
   "execution_count": 13,
   "metadata": {
    "scrolled": false
   },
   "outputs": [
    {
     "data": {
      "image/png": "[encoded data removed]",
      "text/plain": [
       "<Figure size 864x576 with 2 Axes>"
      ]
     },
     "metadata": {
      "needs_background": "light"
     },
     "output_type": "display_data"
    }
   ],
   "source": [
    "#отдельно бинарные переменные\n",
    "plt.figure(figsize=(12, 8))\n",
    "sns.heatmap(df[[i for i in df if df[i].nunique()==2]].corr(method='spearman'), cmap='viridis', annot=True)\n",
    "plt.show()"
   ]
  },
  {
   "cell_type": "code",
   "execution_count": 14,
   "metadata": {},
   "outputs": [
    {
     "data": {
      "image/png": "[encoded data removed]",
      "text/plain": [
       "<Figure size 1008x720 with 2 Axes>"
      ]
     },
     "metadata": {
      "needs_background": "light"
     },
     "output_type": "display_data"
    }
   ],
   "source": [
    "plt.figure(figsize=(14, 10))\n",
    "sns.heatmap(df.corr(method='spearman'), cmap='viridis', annot=True, linewidths=0.5)\n",
    "plt.show()"
   ]
  },
  {
   "cell_type": "markdown",
   "metadata": {},
   "source": [
    "__Топ высоких корреляций по модулю между признаками, исключив корреляции == 1 по диагонали__"
   ]
  },
  {
   "cell_type": "code",
   "execution_count": 15,
   "metadata": {
    "scrolled": false
   },
   "outputs": [
    {
     "data": {
      "text/html": [
       "<div>\n",
       "<style scoped>\n",
       "    .dataframe tbody tr th:only-of-type {\n",
       "        vertical-align: middle;\n",
       "    }\n",
       "\n",
       "    .dataframe tbody tr th {\n",
       "        vertical-align: top;\n",
       "    }\n",
       "\n",
       "    .dataframe thead th {\n",
       "        text-align: right;\n",
       "    }\n",
       "</style>\n",
       "<table border=\"1\" class=\"dataframe\">\n",
       "  <thead>\n",
       "    <tr style=\"text-align: right;\">\n",
       "      <th></th>\n",
       "      <th>Feature_1</th>\n",
       "      <th>Feature_2</th>\n",
       "      <th>r</th>\n",
       "    </tr>\n",
       "  </thead>\n",
       "  <tbody>\n",
       "    <tr>\n",
       "      <td>14</td>\n",
       "      <td>contract_period</td>\n",
       "      <td>month_to_end_contract</td>\n",
       "      <td>0.976861</td>\n",
       "    </tr>\n",
       "    <tr>\n",
       "      <td>15</td>\n",
       "      <td>month_to_end_contract</td>\n",
       "      <td>contract_period</td>\n",
       "      <td>0.976861</td>\n",
       "    </tr>\n",
       "    <tr>\n",
       "      <td>16</td>\n",
       "      <td>avg_class_frequency_current_month</td>\n",
       "      <td>avg_class_frequency_total</td>\n",
       "      <td>0.947482</td>\n",
       "    </tr>\n",
       "    <tr>\n",
       "      <td>17</td>\n",
       "      <td>avg_class_frequency_total</td>\n",
       "      <td>avg_class_frequency_current_month</td>\n",
       "      <td>0.947482</td>\n",
       "    </tr>\n",
       "    <tr>\n",
       "      <td>18</td>\n",
       "      <td>lifetime</td>\n",
       "      <td>churn</td>\n",
       "      <td>0.582987</td>\n",
       "    </tr>\n",
       "    <tr>\n",
       "      <td>19</td>\n",
       "      <td>churn</td>\n",
       "      <td>lifetime</td>\n",
       "      <td>0.582987</td>\n",
       "    </tr>\n",
       "    <tr>\n",
       "      <td>20</td>\n",
       "      <td>promo_friends</td>\n",
       "      <td>partner</td>\n",
       "      <td>0.451960</td>\n",
       "    </tr>\n",
       "    <tr>\n",
       "      <td>21</td>\n",
       "      <td>partner</td>\n",
       "      <td>promo_friends</td>\n",
       "      <td>0.451960</td>\n",
       "    </tr>\n",
       "    <tr>\n",
       "      <td>22</td>\n",
       "      <td>avg_class_frequency_current_month</td>\n",
       "      <td>churn</td>\n",
       "      <td>0.420343</td>\n",
       "    </tr>\n",
       "    <tr>\n",
       "      <td>23</td>\n",
       "      <td>churn</td>\n",
       "      <td>avg_class_frequency_current_month</td>\n",
       "      <td>0.420343</td>\n",
       "    </tr>\n",
       "    <tr>\n",
       "      <td>24</td>\n",
       "      <td>contract_period</td>\n",
       "      <td>churn</td>\n",
       "      <td>0.402096</td>\n",
       "    </tr>\n",
       "    <tr>\n",
       "      <td>25</td>\n",
       "      <td>churn</td>\n",
       "      <td>contract_period</td>\n",
       "      <td>0.402096</td>\n",
       "    </tr>\n",
       "    <tr>\n",
       "      <td>26</td>\n",
       "      <td>age</td>\n",
       "      <td>churn</td>\n",
       "      <td>0.401664</td>\n",
       "    </tr>\n",
       "    <tr>\n",
       "      <td>27</td>\n",
       "      <td>churn</td>\n",
       "      <td>age</td>\n",
       "      <td>0.401664</td>\n",
       "    </tr>\n",
       "    <tr>\n",
       "      <td>28</td>\n",
       "      <td>churn</td>\n",
       "      <td>month_to_end_contract</td>\n",
       "      <td>0.395225</td>\n",
       "    </tr>\n",
       "  </tbody>\n",
       "</table>\n",
       "</div>"
      ],
      "text/plain": [
       "                            Feature_1                          Feature_2  \\\n",
       "14                    contract_period              month_to_end_contract   \n",
       "15              month_to_end_contract                    contract_period   \n",
       "16  avg_class_frequency_current_month          avg_class_frequency_total   \n",
       "17          avg_class_frequency_total  avg_class_frequency_current_month   \n",
       "18                           lifetime                              churn   \n",
       "19                              churn                           lifetime   \n",
       "20                      promo_friends                            partner   \n",
       "21                            partner                      promo_friends   \n",
       "22  avg_class_frequency_current_month                              churn   \n",
       "23                              churn  avg_class_frequency_current_month   \n",
       "24                    contract_period                              churn   \n",
       "25                              churn                    contract_period   \n",
       "26                                age                              churn   \n",
       "27                              churn                                age   \n",
       "28                              churn              month_to_end_contract   \n",
       "\n",
       "           r  \n",
       "14  0.976861  \n",
       "15  0.976861  \n",
       "16  0.947482  \n",
       "17  0.947482  \n",
       "18  0.582987  \n",
       "19  0.582987  \n",
       "20  0.451960  \n",
       "21  0.451960  \n",
       "22  0.420343  \n",
       "23  0.420343  \n",
       "24  0.402096  \n",
       "25  0.402096  \n",
       "26  0.401664  \n",
       "27  0.401664  \n",
       "28  0.395225  "
      ]
     },
     "execution_count": 15,
     "metadata": {},
     "output_type": "execute_result"
    }
   ],
   "source": [
    "#выведем топ корреляций по модулю, исключив корреляции == 1 по диагонали\n",
    "df_cor=(df.corr(method='spearman')).abs().unstack().sort_values(ascending=False).reset_index()\n",
    "df_cor.columns = ['Feature_1', 'Feature_2','r']\n",
    "df_cor.query('r!=1').head(15)"
   ]
  },
  {
   "cell_type": "markdown",
   "metadata": {},
   "source": [
    "__Топ низких корреляций с целевой переменной__"
   ]
  },
  {
   "cell_type": "code",
   "execution_count": 16,
   "metadata": {},
   "outputs": [
    {
     "data": {
      "text/html": [
       "<div>\n",
       "<style scoped>\n",
       "    .dataframe tbody tr th:only-of-type {\n",
       "        vertical-align: middle;\n",
       "    }\n",
       "\n",
       "    .dataframe tbody tr th {\n",
       "        vertical-align: top;\n",
       "    }\n",
       "\n",
       "    .dataframe thead th {\n",
       "        text-align: right;\n",
       "    }\n",
       "</style>\n",
       "<table border=\"1\" class=\"dataframe\">\n",
       "  <thead>\n",
       "    <tr style=\"text-align: right;\">\n",
       "      <th></th>\n",
       "      <th>Feature_1</th>\n",
       "      <th>Feature_2</th>\n",
       "      <th>r</th>\n",
       "    </tr>\n",
       "  </thead>\n",
       "  <tbody>\n",
       "    <tr>\n",
       "      <td>195</td>\n",
       "      <td>gender</td>\n",
       "      <td>churn</td>\n",
       "      <td>0.000708</td>\n",
       "    </tr>\n",
       "    <tr>\n",
       "      <td>191</td>\n",
       "      <td>phone</td>\n",
       "      <td>churn</td>\n",
       "      <td>0.001177</td>\n",
       "    </tr>\n",
       "    <tr>\n",
       "      <td>80</td>\n",
       "      <td>near_location</td>\n",
       "      <td>churn</td>\n",
       "      <td>0.128098</td>\n",
       "    </tr>\n",
       "    <tr>\n",
       "      <td>67</td>\n",
       "      <td>partner</td>\n",
       "      <td>churn</td>\n",
       "      <td>0.157986</td>\n",
       "    </tr>\n",
       "    <tr>\n",
       "      <td>60</td>\n",
       "      <td>promo_friends</td>\n",
       "      <td>churn</td>\n",
       "      <td>0.162233</td>\n",
       "    </tr>\n",
       "    <tr>\n",
       "      <td>55</td>\n",
       "      <td>group_visits</td>\n",
       "      <td>churn</td>\n",
       "      <td>0.175325</td>\n",
       "    </tr>\n",
       "    <tr>\n",
       "      <td>51</td>\n",
       "      <td>avg_additional_charges_total</td>\n",
       "      <td>churn</td>\n",
       "      <td>0.191432</td>\n",
       "    </tr>\n",
       "    <tr>\n",
       "      <td>34</td>\n",
       "      <td>avg_class_frequency_total</td>\n",
       "      <td>churn</td>\n",
       "      <td>0.253104</td>\n",
       "    </tr>\n",
       "    <tr>\n",
       "      <td>29</td>\n",
       "      <td>month_to_end_contract</td>\n",
       "      <td>churn</td>\n",
       "      <td>0.395225</td>\n",
       "    </tr>\n",
       "    <tr>\n",
       "      <td>26</td>\n",
       "      <td>age</td>\n",
       "      <td>churn</td>\n",
       "      <td>0.401664</td>\n",
       "    </tr>\n",
       "  </tbody>\n",
       "</table>\n",
       "</div>"
      ],
      "text/plain": [
       "                        Feature_1 Feature_2         r\n",
       "195                        gender     churn  0.000708\n",
       "191                         phone     churn  0.001177\n",
       "80                  near_location     churn  0.128098\n",
       "67                        partner     churn  0.157986\n",
       "60                  promo_friends     churn  0.162233\n",
       "55                   group_visits     churn  0.175325\n",
       "51   avg_additional_charges_total     churn  0.191432\n",
       "34      avg_class_frequency_total     churn  0.253104\n",
       "29          month_to_end_contract     churn  0.395225\n",
       "26                            age     churn  0.401664"
      ]
     },
     "execution_count": 16,
     "metadata": {},
     "output_type": "execute_result"
    }
   ],
   "source": [
    "df_cor[(df_cor['Feature_1']!='churn') & (df_cor['Feature_2']=='churn')].sort_values('r').head(10)"
   ]
  },
  {
   "cell_type": "markdown",
   "metadata": {},
   "source": [
    "### Некоторые признаки имеют выраженную мультиколлинеарность с другими признаками, это может ухудшить качество модели. Возможно, их стоит исключить:\n",
    "* contract_period  - month_to_end_contract\n",
    "* avg_class_frequency_current_month - avg_class_frequency_total\n",
    "\n",
    "__Оставим те признаки из пары, которые имеют наибольшую корреляцию с оттоком__\n",
    "\n",
    "\n",
    "### Так же есть признаки, которые имеют слабую корреляцию r<0.1 c целевой переменно, удалим их\n",
    "* gender\n",
    "* phone"
   ]
  },
  {
   "cell_type": "code",
   "execution_count": 17,
   "metadata": {},
   "outputs": [
    {
     "data": {
      "text/html": [
       "<div>\n",
       "<style scoped>\n",
       "    .dataframe tbody tr th:only-of-type {\n",
       "        vertical-align: middle;\n",
       "    }\n",
       "\n",
       "    .dataframe tbody tr th {\n",
       "        vertical-align: top;\n",
       "    }\n",
       "\n",
       "    .dataframe thead th {\n",
       "        text-align: right;\n",
       "    }\n",
       "</style>\n",
       "<table border=\"1\" class=\"dataframe\">\n",
       "  <thead>\n",
       "    <tr style=\"text-align: right;\">\n",
       "      <th></th>\n",
       "      <th>Feature_1</th>\n",
       "      <th>Feature_2</th>\n",
       "      <th>r</th>\n",
       "    </tr>\n",
       "  </thead>\n",
       "  <tbody>\n",
       "    <tr>\n",
       "      <td>22</td>\n",
       "      <td>avg_class_frequency_current_month</td>\n",
       "      <td>churn</td>\n",
       "      <td>0.420343</td>\n",
       "    </tr>\n",
       "    <tr>\n",
       "      <td>24</td>\n",
       "      <td>contract_period</td>\n",
       "      <td>churn</td>\n",
       "      <td>0.402096</td>\n",
       "    </tr>\n",
       "    <tr>\n",
       "      <td>29</td>\n",
       "      <td>month_to_end_contract</td>\n",
       "      <td>churn</td>\n",
       "      <td>0.395225</td>\n",
       "    </tr>\n",
       "    <tr>\n",
       "      <td>34</td>\n",
       "      <td>avg_class_frequency_total</td>\n",
       "      <td>churn</td>\n",
       "      <td>0.253104</td>\n",
       "    </tr>\n",
       "  </tbody>\n",
       "</table>\n",
       "</div>"
      ],
      "text/plain": [
       "                            Feature_1 Feature_2         r\n",
       "22  avg_class_frequency_current_month     churn  0.420343\n",
       "24                    contract_period     churn  0.402096\n",
       "29              month_to_end_contract     churn  0.395225\n",
       "34          avg_class_frequency_total     churn  0.253104"
      ]
     },
     "execution_count": 17,
     "metadata": {},
     "output_type": "execute_result"
    }
   ],
   "source": [
    "hight_multi_corr_list = ['contract_period','month_to_end_contract',\n",
    "                    'avg_class_frequency_current_month','avg_class_frequency_total']\n",
    "\n",
    "df_cor[(df_cor['r']!=1) & (df_cor['Feature_1'].isin(hight_multi_corr_list)) & (df_cor['Feature_2'] == 'churn')]"
   ]
  },
  {
   "cell_type": "markdown",
   "metadata": {},
   "source": [
    "Дропнем __avg_class_frequency_total__ и __month_to_end_contract__ и сохраним в отдельный датафрейм\n",
    "* сравним в последующем обученную модель на всем датафрейме и на новом"
   ]
  },
  {
   "cell_type": "code",
   "execution_count": 18,
   "metadata": {},
   "outputs": [],
   "source": [
    "df_new = df.drop(['avg_class_frequency_total','month_to_end_contract','gender','phone'], axis=1)"
   ]
  },
  {
   "cell_type": "code",
   "execution_count": 19,
   "metadata": {},
   "outputs": [
    {
     "data": {
      "text/plain": [
       "True"
      ]
     },
     "execution_count": 19,
     "metadata": {},
     "output_type": "execute_result"
    }
   ],
   "source": [
    "(df.shape[1]-4) == df_new.shape[1]"
   ]
  },
  {
   "cell_type": "markdown",
   "metadata": {},
   "source": [
    "---"
   ]
  },
  {
   "cell_type": "markdown",
   "metadata": {},
   "source": [
    "## Шаг 3. Постройте модель прогнозирования оттока пользователей"
   ]
  },
  {
   "cell_type": "markdown",
   "metadata": {},
   "source": [
    "1. Постройте модель бинарной классификации пользователей, где целевой признак — факт оттока пользователя в следующем месяце:\n",
    "2. Разбейте данные на обучающую и валидационную выборку функцией train_test_split().\n",
    "3. Обучите модель на train-выборке любыми двумя способами:\n",
    "        * логистической регрессией\n",
    "        * случайным лесом\n",
    "Оцените метрики accuracy, precision и recall для обеих моделей на валидационной выборке. Сравните по ним модели. Какая модель показала себя лучше на основании метрик?"
   ]
  },
  {
   "cell_type": "markdown",
   "metadata": {},
   "source": [
    "#### Метрики\n",
    "__Recall__ - более важен там, где не нужны ложные отрицательные срабатывания. Правильно ли мы нашли всех представителей положительного класса?\n",
    "Когда максимизируем: Выберет абсолютно ВСЕ верные объекты и возможно часть неверных объектов. \"Жадный\"\n",
    "TP / (TP + FN)\n",
    "\n",
    "__Precision__ - более важен в ситуациях, где не нужны ложные положительные срабатывания. Сколько было ложных срабатываний?\n",
    "Когда увеличиваем: объекты, которые он выберет будут точно верными, но при этом пропустит часть верных. Точный.\n",
    "TP / (TP + FP)\n",
    "\n",
    "__F-мера__ (среднее гармоническое между Precision и Recall)\n",
    "F1 = 2 * (Precision * Recall) / (Precision + Recall)\n",
    "\n",
    "__За основную метрику возьмем f-меру, тк у нас нет данных что более важно - precision или recall. При этом есть дисбаланс классов -> поэтому мы не можем использовать accuracy__"
   ]
  },
  {
   "cell_type": "code",
   "execution_count": 20,
   "metadata": {},
   "outputs": [],
   "source": [
    "#вместо df_new будем подавать разные датафреймы\n",
    "def simple_bruteforce(df,max_estim,max_depth,mod_type):\n",
    "    \n",
    "    df_train, df_valid = train_test_split(df, test_size=0.25, random_state=12345, shuffle = True)\n",
    "    features_train = df_train.drop(['churn'], axis=1)\n",
    "    target_train = df_train['churn']\n",
    "    features_valid = df_valid.drop(['churn'], axis=1)\n",
    "    target_valid = df_valid['churn']\n",
    "\n",
    "    #создадим списки для записи метрик и гиперпараметров\n",
    "    model_type,depth,estimators,accuracy,recall,precision,f1score = [[]] * 7\n",
    "\n",
    "    for i in range(5,max_depth,1):\n",
    "        \n",
    "        if mod_type == 'RandomForestClassifier':\n",
    "            model = RandomForestClassifier(random_state=12345, n_estimators=max_estim, max_depth=i) #min_samples_leaf\n",
    "            depth.append(i)\n",
    "        elif mod_type == 'LogisticRegression':\n",
    "            model = LogisticRegression(random_state=12345)\n",
    "            depth.append(0)\n",
    "        #добавляем тип модели для отчета\n",
    "        model_type.append(mod_type)\n",
    "        #обучаем на трейне\n",
    "        model.fit(features_train, target_train)\n",
    "        #предсказываем класс на валидационном x\n",
    "        prediction = model.predict(features_valid)\n",
    "        #сравниваем предсказания на валидации по x с отложенными результатами на валидации y, считаем метрики и добавляем в список\n",
    "        accuracy.append(accuracy_score(target_valid,prediction))\n",
    "        recall.append(recall_score(target_valid,prediction))\n",
    "        precision.append(precision_score(target_valid,prediction))\n",
    "        f1score.append(f1_score(target_valid,prediction))\n",
    "        if mod_type == 'LogisticRegression':\n",
    "            break\n",
    "    #формируем датафрейм с метриками\n",
    "    report = pd.DataFrame({'model_type':model_type,'max_depth':depth,'accuracy_score':accuracy,\n",
    "                          'recall_score':recall, 'precision_score':precision,'f1_score':f1score})\n",
    "    \n",
    "    print(f'{mod_type}\\nмаксимальный f1_score = {report.f1_score.max():.3f}\\nмаксимальный accuracy_score '\n",
    "          f'= {report.accuracy_score.max()}')\n",
    "    return report"
   ]
  },
  {
   "cell_type": "markdown",
   "metadata": {},
   "source": [
    "### Используем изначальный датафрейм df"
   ]
  },
  {
   "cell_type": "markdown",
   "metadata": {},
   "source": [
    "### Random Forest Classifier"
   ]
  },
  {
   "cell_type": "code",
   "execution_count": 21,
   "metadata": {
    "scrolled": false
   },
   "outputs": [
    {
     "name": "stdout",
     "output_type": "stream",
     "text": [
      "RandomForestClassifier\n",
      "максимальный f1_score = 0.836\n",
      "максимальный accuracy_score = 0.916\n"
     ]
    },
    {
     "data": {
      "text/html": [
       "<div>\n",
       "<style scoped>\n",
       "    .dataframe tbody tr th:only-of-type {\n",
       "        vertical-align: middle;\n",
       "    }\n",
       "\n",
       "    .dataframe tbody tr th {\n",
       "        vertical-align: top;\n",
       "    }\n",
       "\n",
       "    .dataframe thead th {\n",
       "        text-align: right;\n",
       "    }\n",
       "</style>\n",
       "<table border=\"1\" class=\"dataframe\">\n",
       "  <thead>\n",
       "    <tr style=\"text-align: right;\">\n",
       "      <th></th>\n",
       "      <th>model_type</th>\n",
       "      <th>max_depth</th>\n",
       "      <th>accuracy_score</th>\n",
       "      <th>recall_score</th>\n",
       "      <th>precision_score</th>\n",
       "      <th>f1_score</th>\n",
       "    </tr>\n",
       "  </thead>\n",
       "  <tbody>\n",
       "    <tr>\n",
       "      <td>0</td>\n",
       "      <td>RandomForestClassifier</td>\n",
       "      <td>5</td>\n",
       "      <td>0.897</td>\n",
       "      <td>0.740458</td>\n",
       "      <td>0.847162</td>\n",
       "      <td>0.790224</td>\n",
       "    </tr>\n",
       "    <tr>\n",
       "      <td>1</td>\n",
       "      <td>RandomForestClassifier</td>\n",
       "      <td>6</td>\n",
       "      <td>0.906</td>\n",
       "      <td>0.786260</td>\n",
       "      <td>0.844262</td>\n",
       "      <td>0.814229</td>\n",
       "    </tr>\n",
       "    <tr>\n",
       "      <td>2</td>\n",
       "      <td>RandomForestClassifier</td>\n",
       "      <td>7</td>\n",
       "      <td>0.907</td>\n",
       "      <td>0.790076</td>\n",
       "      <td>0.844898</td>\n",
       "      <td>0.816568</td>\n",
       "    </tr>\n",
       "    <tr>\n",
       "      <td>3</td>\n",
       "      <td>RandomForestClassifier</td>\n",
       "      <td>8</td>\n",
       "      <td>0.910</td>\n",
       "      <td>0.809160</td>\n",
       "      <td>0.841270</td>\n",
       "      <td>0.824903</td>\n",
       "    </tr>\n",
       "    <tr>\n",
       "      <td>4</td>\n",
       "      <td>RandomForestClassifier</td>\n",
       "      <td>9</td>\n",
       "      <td>0.910</td>\n",
       "      <td>0.809160</td>\n",
       "      <td>0.841270</td>\n",
       "      <td>0.824903</td>\n",
       "    </tr>\n",
       "    <tr>\n",
       "      <td>5</td>\n",
       "      <td>RandomForestClassifier</td>\n",
       "      <td>10</td>\n",
       "      <td>0.910</td>\n",
       "      <td>0.801527</td>\n",
       "      <td>0.846774</td>\n",
       "      <td>0.823529</td>\n",
       "    </tr>\n",
       "    <tr>\n",
       "      <td>6</td>\n",
       "      <td>RandomForestClassifier</td>\n",
       "      <td>11</td>\n",
       "      <td>0.913</td>\n",
       "      <td>0.809160</td>\n",
       "      <td>0.851406</td>\n",
       "      <td>0.829746</td>\n",
       "    </tr>\n",
       "    <tr>\n",
       "      <td>7</td>\n",
       "      <td>RandomForestClassifier</td>\n",
       "      <td>12</td>\n",
       "      <td>0.914</td>\n",
       "      <td>0.816794</td>\n",
       "      <td>0.849206</td>\n",
       "      <td>0.832685</td>\n",
       "    </tr>\n",
       "    <tr>\n",
       "      <td>8</td>\n",
       "      <td>RandomForestClassifier</td>\n",
       "      <td>13</td>\n",
       "      <td>0.916</td>\n",
       "      <td>0.816794</td>\n",
       "      <td>0.856000</td>\n",
       "      <td>0.835938</td>\n",
       "    </tr>\n",
       "    <tr>\n",
       "      <td>9</td>\n",
       "      <td>RandomForestClassifier</td>\n",
       "      <td>14</td>\n",
       "      <td>0.914</td>\n",
       "      <td>0.809160</td>\n",
       "      <td>0.854839</td>\n",
       "      <td>0.831373</td>\n",
       "    </tr>\n",
       "    <tr>\n",
       "      <td>10</td>\n",
       "      <td>RandomForestClassifier</td>\n",
       "      <td>15</td>\n",
       "      <td>0.913</td>\n",
       "      <td>0.809160</td>\n",
       "      <td>0.851406</td>\n",
       "      <td>0.829746</td>\n",
       "    </tr>\n",
       "    <tr>\n",
       "      <td>11</td>\n",
       "      <td>RandomForestClassifier</td>\n",
       "      <td>16</td>\n",
       "      <td>0.916</td>\n",
       "      <td>0.816794</td>\n",
       "      <td>0.856000</td>\n",
       "      <td>0.835938</td>\n",
       "    </tr>\n",
       "    <tr>\n",
       "      <td>12</td>\n",
       "      <td>RandomForestClassifier</td>\n",
       "      <td>17</td>\n",
       "      <td>0.914</td>\n",
       "      <td>0.812977</td>\n",
       "      <td>0.852000</td>\n",
       "      <td>0.832031</td>\n",
       "    </tr>\n",
       "    <tr>\n",
       "      <td>13</td>\n",
       "      <td>RandomForestClassifier</td>\n",
       "      <td>18</td>\n",
       "      <td>0.912</td>\n",
       "      <td>0.805344</td>\n",
       "      <td>0.850806</td>\n",
       "      <td>0.827451</td>\n",
       "    </tr>\n",
       "    <tr>\n",
       "      <td>14</td>\n",
       "      <td>RandomForestClassifier</td>\n",
       "      <td>19</td>\n",
       "      <td>0.913</td>\n",
       "      <td>0.805344</td>\n",
       "      <td>0.854251</td>\n",
       "      <td>0.829077</td>\n",
       "    </tr>\n",
       "    <tr>\n",
       "      <td>15</td>\n",
       "      <td>RandomForestClassifier</td>\n",
       "      <td>20</td>\n",
       "      <td>0.915</td>\n",
       "      <td>0.812977</td>\n",
       "      <td>0.855422</td>\n",
       "      <td>0.833659</td>\n",
       "    </tr>\n",
       "    <tr>\n",
       "      <td>16</td>\n",
       "      <td>RandomForestClassifier</td>\n",
       "      <td>21</td>\n",
       "      <td>0.914</td>\n",
       "      <td>0.809160</td>\n",
       "      <td>0.854839</td>\n",
       "      <td>0.831373</td>\n",
       "    </tr>\n",
       "    <tr>\n",
       "      <td>17</td>\n",
       "      <td>RandomForestClassifier</td>\n",
       "      <td>22</td>\n",
       "      <td>0.916</td>\n",
       "      <td>0.816794</td>\n",
       "      <td>0.856000</td>\n",
       "      <td>0.835938</td>\n",
       "    </tr>\n",
       "    <tr>\n",
       "      <td>18</td>\n",
       "      <td>RandomForestClassifier</td>\n",
       "      <td>23</td>\n",
       "      <td>0.916</td>\n",
       "      <td>0.816794</td>\n",
       "      <td>0.856000</td>\n",
       "      <td>0.835938</td>\n",
       "    </tr>\n",
       "    <tr>\n",
       "      <td>19</td>\n",
       "      <td>RandomForestClassifier</td>\n",
       "      <td>24</td>\n",
       "      <td>0.916</td>\n",
       "      <td>0.816794</td>\n",
       "      <td>0.856000</td>\n",
       "      <td>0.835938</td>\n",
       "    </tr>\n",
       "  </tbody>\n",
       "</table>\n",
       "</div>"
      ],
      "text/plain": [
       "                model_type  max_depth  accuracy_score  recall_score  \\\n",
       "0   RandomForestClassifier          5           0.897      0.740458   \n",
       "1   RandomForestClassifier          6           0.906      0.786260   \n",
       "2   RandomForestClassifier          7           0.907      0.790076   \n",
       "3   RandomForestClassifier          8           0.910      0.809160   \n",
       "4   RandomForestClassifier          9           0.910      0.809160   \n",
       "5   RandomForestClassifier         10           0.910      0.801527   \n",
       "6   RandomForestClassifier         11           0.913      0.809160   \n",
       "7   RandomForestClassifier         12           0.914      0.816794   \n",
       "8   RandomForestClassifier         13           0.916      0.816794   \n",
       "9   RandomForestClassifier         14           0.914      0.809160   \n",
       "10  RandomForestClassifier         15           0.913      0.809160   \n",
       "11  RandomForestClassifier         16           0.916      0.816794   \n",
       "12  RandomForestClassifier         17           0.914      0.812977   \n",
       "13  RandomForestClassifier         18           0.912      0.805344   \n",
       "14  RandomForestClassifier         19           0.913      0.805344   \n",
       "15  RandomForestClassifier         20           0.915      0.812977   \n",
       "16  RandomForestClassifier         21           0.914      0.809160   \n",
       "17  RandomForestClassifier         22           0.916      0.816794   \n",
       "18  RandomForestClassifier         23           0.916      0.816794   \n",
       "19  RandomForestClassifier         24           0.916      0.816794   \n",
       "\n",
       "    precision_score  f1_score  \n",
       "0          0.847162  0.790224  \n",
       "1          0.844262  0.814229  \n",
       "2          0.844898  0.816568  \n",
       "3          0.841270  0.824903  \n",
       "4          0.841270  0.824903  \n",
       "5          0.846774  0.823529  \n",
       "6          0.851406  0.829746  \n",
       "7          0.849206  0.832685  \n",
       "8          0.856000  0.835938  \n",
       "9          0.854839  0.831373  \n",
       "10         0.851406  0.829746  \n",
       "11         0.856000  0.835938  \n",
       "12         0.852000  0.832031  \n",
       "13         0.850806  0.827451  \n",
       "14         0.854251  0.829077  \n",
       "15         0.855422  0.833659  \n",
       "16         0.854839  0.831373  \n",
       "17         0.856000  0.835938  \n",
       "18         0.856000  0.835938  \n",
       "19         0.856000  0.835938  "
      ]
     },
     "execution_count": 21,
     "metadata": {},
     "output_type": "execute_result"
    }
   ],
   "source": [
    "#max_estim = 200\n",
    "#max_depth = 25\n",
    "simple_bruteforce(df,200,25,'RandomForestClassifier')"
   ]
  },
  {
   "cell_type": "markdown",
   "metadata": {},
   "source": [
    "### Используем датафрейм df_new, где дропнуты признаки с мультиколлинеарностью и низкой по модулю корреляцией с целевой переменной"
   ]
  },
  {
   "cell_type": "code",
   "execution_count": 22,
   "metadata": {},
   "outputs": [
    {
     "name": "stdout",
     "output_type": "stream",
     "text": [
      "RandomForestClassifier\n",
      "максимальный f1_score = 0.809\n",
      "максимальный accuracy_score = 0.901\n"
     ]
    },
    {
     "data": {
      "text/html": [
       "<div>\n",
       "<style scoped>\n",
       "    .dataframe tbody tr th:only-of-type {\n",
       "        vertical-align: middle;\n",
       "    }\n",
       "\n",
       "    .dataframe tbody tr th {\n",
       "        vertical-align: top;\n",
       "    }\n",
       "\n",
       "    .dataframe thead th {\n",
       "        text-align: right;\n",
       "    }\n",
       "</style>\n",
       "<table border=\"1\" class=\"dataframe\">\n",
       "  <thead>\n",
       "    <tr style=\"text-align: right;\">\n",
       "      <th></th>\n",
       "      <th>model_type</th>\n",
       "      <th>max_depth</th>\n",
       "      <th>accuracy_score</th>\n",
       "      <th>recall_score</th>\n",
       "      <th>precision_score</th>\n",
       "      <th>f1_score</th>\n",
       "    </tr>\n",
       "  </thead>\n",
       "  <tbody>\n",
       "    <tr>\n",
       "      <td>0</td>\n",
       "      <td>RandomForestClassifier</td>\n",
       "      <td>5</td>\n",
       "      <td>0.896</td>\n",
       "      <td>0.744275</td>\n",
       "      <td>0.840517</td>\n",
       "      <td>0.789474</td>\n",
       "    </tr>\n",
       "    <tr>\n",
       "      <td>1</td>\n",
       "      <td>RandomForestClassifier</td>\n",
       "      <td>6</td>\n",
       "      <td>0.893</td>\n",
       "      <td>0.748092</td>\n",
       "      <td>0.827004</td>\n",
       "      <td>0.785571</td>\n",
       "    </tr>\n",
       "    <tr>\n",
       "      <td>2</td>\n",
       "      <td>RandomForestClassifier</td>\n",
       "      <td>7</td>\n",
       "      <td>0.895</td>\n",
       "      <td>0.767176</td>\n",
       "      <td>0.820408</td>\n",
       "      <td>0.792899</td>\n",
       "    </tr>\n",
       "    <tr>\n",
       "      <td>3</td>\n",
       "      <td>RandomForestClassifier</td>\n",
       "      <td>8</td>\n",
       "      <td>0.895</td>\n",
       "      <td>0.774809</td>\n",
       "      <td>0.815261</td>\n",
       "      <td>0.794521</td>\n",
       "    </tr>\n",
       "    <tr>\n",
       "      <td>4</td>\n",
       "      <td>RandomForestClassifier</td>\n",
       "      <td>9</td>\n",
       "      <td>0.898</td>\n",
       "      <td>0.774809</td>\n",
       "      <td>0.825203</td>\n",
       "      <td>0.799213</td>\n",
       "    </tr>\n",
       "    <tr>\n",
       "      <td>5</td>\n",
       "      <td>RandomForestClassifier</td>\n",
       "      <td>10</td>\n",
       "      <td>0.897</td>\n",
       "      <td>0.782443</td>\n",
       "      <td>0.816733</td>\n",
       "      <td>0.799220</td>\n",
       "    </tr>\n",
       "    <tr>\n",
       "      <td>6</td>\n",
       "      <td>RandomForestClassifier</td>\n",
       "      <td>11</td>\n",
       "      <td>0.898</td>\n",
       "      <td>0.797710</td>\n",
       "      <td>0.810078</td>\n",
       "      <td>0.803846</td>\n",
       "    </tr>\n",
       "    <tr>\n",
       "      <td>7</td>\n",
       "      <td>RandomForestClassifier</td>\n",
       "      <td>12</td>\n",
       "      <td>0.899</td>\n",
       "      <td>0.797710</td>\n",
       "      <td>0.813230</td>\n",
       "      <td>0.805395</td>\n",
       "    </tr>\n",
       "    <tr>\n",
       "      <td>8</td>\n",
       "      <td>RandomForestClassifier</td>\n",
       "      <td>13</td>\n",
       "      <td>0.894</td>\n",
       "      <td>0.786260</td>\n",
       "      <td>0.804688</td>\n",
       "      <td>0.795367</td>\n",
       "    </tr>\n",
       "    <tr>\n",
       "      <td>9</td>\n",
       "      <td>RandomForestClassifier</td>\n",
       "      <td>14</td>\n",
       "      <td>0.896</td>\n",
       "      <td>0.786260</td>\n",
       "      <td>0.811024</td>\n",
       "      <td>0.798450</td>\n",
       "    </tr>\n",
       "    <tr>\n",
       "      <td>10</td>\n",
       "      <td>RandomForestClassifier</td>\n",
       "      <td>15</td>\n",
       "      <td>0.895</td>\n",
       "      <td>0.778626</td>\n",
       "      <td>0.812749</td>\n",
       "      <td>0.795322</td>\n",
       "    </tr>\n",
       "    <tr>\n",
       "      <td>11</td>\n",
       "      <td>RandomForestClassifier</td>\n",
       "      <td>16</td>\n",
       "      <td>0.895</td>\n",
       "      <td>0.793893</td>\n",
       "      <td>0.803089</td>\n",
       "      <td>0.798464</td>\n",
       "    </tr>\n",
       "    <tr>\n",
       "      <td>12</td>\n",
       "      <td>RandomForestClassifier</td>\n",
       "      <td>17</td>\n",
       "      <td>0.900</td>\n",
       "      <td>0.793893</td>\n",
       "      <td>0.818898</td>\n",
       "      <td>0.806202</td>\n",
       "    </tr>\n",
       "    <tr>\n",
       "      <td>13</td>\n",
       "      <td>RandomForestClassifier</td>\n",
       "      <td>18</td>\n",
       "      <td>0.900</td>\n",
       "      <td>0.797710</td>\n",
       "      <td>0.816406</td>\n",
       "      <td>0.806950</td>\n",
       "    </tr>\n",
       "    <tr>\n",
       "      <td>14</td>\n",
       "      <td>RandomForestClassifier</td>\n",
       "      <td>19</td>\n",
       "      <td>0.898</td>\n",
       "      <td>0.790076</td>\n",
       "      <td>0.814961</td>\n",
       "      <td>0.802326</td>\n",
       "    </tr>\n",
       "    <tr>\n",
       "      <td>15</td>\n",
       "      <td>RandomForestClassifier</td>\n",
       "      <td>20</td>\n",
       "      <td>0.901</td>\n",
       "      <td>0.797710</td>\n",
       "      <td>0.819608</td>\n",
       "      <td>0.808511</td>\n",
       "    </tr>\n",
       "    <tr>\n",
       "      <td>16</td>\n",
       "      <td>RandomForestClassifier</td>\n",
       "      <td>21</td>\n",
       "      <td>0.898</td>\n",
       "      <td>0.790076</td>\n",
       "      <td>0.814961</td>\n",
       "      <td>0.802326</td>\n",
       "    </tr>\n",
       "    <tr>\n",
       "      <td>17</td>\n",
       "      <td>RandomForestClassifier</td>\n",
       "      <td>22</td>\n",
       "      <td>0.898</td>\n",
       "      <td>0.790076</td>\n",
       "      <td>0.814961</td>\n",
       "      <td>0.802326</td>\n",
       "    </tr>\n",
       "    <tr>\n",
       "      <td>18</td>\n",
       "      <td>RandomForestClassifier</td>\n",
       "      <td>23</td>\n",
       "      <td>0.898</td>\n",
       "      <td>0.790076</td>\n",
       "      <td>0.814961</td>\n",
       "      <td>0.802326</td>\n",
       "    </tr>\n",
       "    <tr>\n",
       "      <td>19</td>\n",
       "      <td>RandomForestClassifier</td>\n",
       "      <td>24</td>\n",
       "      <td>0.898</td>\n",
       "      <td>0.790076</td>\n",
       "      <td>0.814961</td>\n",
       "      <td>0.802326</td>\n",
       "    </tr>\n",
       "  </tbody>\n",
       "</table>\n",
       "</div>"
      ],
      "text/plain": [
       "                model_type  max_depth  accuracy_score  recall_score  \\\n",
       "0   RandomForestClassifier          5           0.896      0.744275   \n",
       "1   RandomForestClassifier          6           0.893      0.748092   \n",
       "2   RandomForestClassifier          7           0.895      0.767176   \n",
       "3   RandomForestClassifier          8           0.895      0.774809   \n",
       "4   RandomForestClassifier          9           0.898      0.774809   \n",
       "5   RandomForestClassifier         10           0.897      0.782443   \n",
       "6   RandomForestClassifier         11           0.898      0.797710   \n",
       "7   RandomForestClassifier         12           0.899      0.797710   \n",
       "8   RandomForestClassifier         13           0.894      0.786260   \n",
       "9   RandomForestClassifier         14           0.896      0.786260   \n",
       "10  RandomForestClassifier         15           0.895      0.778626   \n",
       "11  RandomForestClassifier         16           0.895      0.793893   \n",
       "12  RandomForestClassifier         17           0.900      0.793893   \n",
       "13  RandomForestClassifier         18           0.900      0.797710   \n",
       "14  RandomForestClassifier         19           0.898      0.790076   \n",
       "15  RandomForestClassifier         20           0.901      0.797710   \n",
       "16  RandomForestClassifier         21           0.898      0.790076   \n",
       "17  RandomForestClassifier         22           0.898      0.790076   \n",
       "18  RandomForestClassifier         23           0.898      0.790076   \n",
       "19  RandomForestClassifier         24           0.898      0.790076   \n",
       "\n",
       "    precision_score  f1_score  \n",
       "0          0.840517  0.789474  \n",
       "1          0.827004  0.785571  \n",
       "2          0.820408  0.792899  \n",
       "3          0.815261  0.794521  \n",
       "4          0.825203  0.799213  \n",
       "5          0.816733  0.799220  \n",
       "6          0.810078  0.803846  \n",
       "7          0.813230  0.805395  \n",
       "8          0.804688  0.795367  \n",
       "9          0.811024  0.798450  \n",
       "10         0.812749  0.795322  \n",
       "11         0.803089  0.798464  \n",
       "12         0.818898  0.806202  \n",
       "13         0.816406  0.806950  \n",
       "14         0.814961  0.802326  \n",
       "15         0.819608  0.808511  \n",
       "16         0.814961  0.802326  \n",
       "17         0.814961  0.802326  \n",
       "18         0.814961  0.802326  \n",
       "19         0.814961  0.802326  "
      ]
     },
     "execution_count": 22,
     "metadata": {},
     "output_type": "execute_result"
    }
   ],
   "source": [
    "#max_estim = 200\n",
    "#max_depth = 25\n",
    "simple_bruteforce(df_new,200,25,'RandomForestClassifier')"
   ]
  },
  {
   "cell_type": "markdown",
   "metadata": {},
   "source": [
    "---"
   ]
  },
  {
   "cell_type": "markdown",
   "metadata": {},
   "source": [
    "### Logistic Regression"
   ]
  },
  {
   "cell_type": "markdown",
   "metadata": {},
   "source": [
    "### Используем изначальный датафрейм df"
   ]
  },
  {
   "cell_type": "code",
   "execution_count": 23,
   "metadata": {
    "scrolled": true
   },
   "outputs": [
    {
     "name": "stdout",
     "output_type": "stream",
     "text": [
      "LogisticRegression\n",
      "максимальный f1_score = 0.851\n",
      "максимальный accuracy_score = 0.924\n"
     ]
    },
    {
     "data": {
      "text/html": [
       "<div>\n",
       "<style scoped>\n",
       "    .dataframe tbody tr th:only-of-type {\n",
       "        vertical-align: middle;\n",
       "    }\n",
       "\n",
       "    .dataframe tbody tr th {\n",
       "        vertical-align: top;\n",
       "    }\n",
       "\n",
       "    .dataframe thead th {\n",
       "        text-align: right;\n",
       "    }\n",
       "</style>\n",
       "<table border=\"1\" class=\"dataframe\">\n",
       "  <thead>\n",
       "    <tr style=\"text-align: right;\">\n",
       "      <th></th>\n",
       "      <th>model_type</th>\n",
       "      <th>max_depth</th>\n",
       "      <th>accuracy_score</th>\n",
       "      <th>recall_score</th>\n",
       "      <th>precision_score</th>\n",
       "      <th>f1_score</th>\n",
       "    </tr>\n",
       "  </thead>\n",
       "  <tbody>\n",
       "    <tr>\n",
       "      <td>0</td>\n",
       "      <td>LogisticRegression</td>\n",
       "      <td>0</td>\n",
       "      <td>0.924</td>\n",
       "      <td>0.828244</td>\n",
       "      <td>0.875</td>\n",
       "      <td>0.85098</td>\n",
       "    </tr>\n",
       "  </tbody>\n",
       "</table>\n",
       "</div>"
      ],
      "text/plain": [
       "           model_type  max_depth  accuracy_score  recall_score  \\\n",
       "0  LogisticRegression          0           0.924      0.828244   \n",
       "\n",
       "   precision_score  f1_score  \n",
       "0            0.875   0.85098  "
      ]
     },
     "execution_count": 23,
     "metadata": {},
     "output_type": "execute_result"
    }
   ],
   "source": [
    "simple_bruteforce(df,200,25,'LogisticRegression')"
   ]
  },
  {
   "cell_type": "markdown",
   "metadata": {},
   "source": [
    "### Используем датафрейм df_new, где дропнуты признаки с мультиколлинеарностью и низкой по модулю корреляцией с целевой переменной"
   ]
  },
  {
   "cell_type": "code",
   "execution_count": 24,
   "metadata": {
    "scrolled": true
   },
   "outputs": [
    {
     "name": "stdout",
     "output_type": "stream",
     "text": [
      "LogisticRegression\n",
      "максимальный f1_score = 0.814\n",
      "максимальный accuracy_score = 0.903\n"
     ]
    },
    {
     "data": {
      "text/html": [
       "<div>\n",
       "<style scoped>\n",
       "    .dataframe tbody tr th:only-of-type {\n",
       "        vertical-align: middle;\n",
       "    }\n",
       "\n",
       "    .dataframe tbody tr th {\n",
       "        vertical-align: top;\n",
       "    }\n",
       "\n",
       "    .dataframe thead th {\n",
       "        text-align: right;\n",
       "    }\n",
       "</style>\n",
       "<table border=\"1\" class=\"dataframe\">\n",
       "  <thead>\n",
       "    <tr style=\"text-align: right;\">\n",
       "      <th></th>\n",
       "      <th>model_type</th>\n",
       "      <th>max_depth</th>\n",
       "      <th>accuracy_score</th>\n",
       "      <th>recall_score</th>\n",
       "      <th>precision_score</th>\n",
       "      <th>f1_score</th>\n",
       "    </tr>\n",
       "  </thead>\n",
       "  <tbody>\n",
       "    <tr>\n",
       "      <td>0</td>\n",
       "      <td>LogisticRegression</td>\n",
       "      <td>0</td>\n",
       "      <td>0.903</td>\n",
       "      <td>0.80916</td>\n",
       "      <td>0.818533</td>\n",
       "      <td>0.81382</td>\n",
       "    </tr>\n",
       "  </tbody>\n",
       "</table>\n",
       "</div>"
      ],
      "text/plain": [
       "           model_type  max_depth  accuracy_score  recall_score  \\\n",
       "0  LogisticRegression          0           0.903       0.80916   \n",
       "\n",
       "   precision_score  f1_score  \n",
       "0         0.818533   0.81382  "
      ]
     },
     "execution_count": 24,
     "metadata": {},
     "output_type": "execute_result"
    }
   ],
   "source": [
    "simple_bruteforce(df_new,200,25,'LogisticRegression')"
   ]
  },
  {
   "cell_type": "markdown",
   "metadata": {},
   "source": [
    "## Вывод \n",
    "* Лучший результат показывает более простой алгоритм - логистическая регрессия на изначальном датафрейме, чем ансамбль из решающих деревьев"
   ]
  },
  {
   "cell_type": "markdown",
   "metadata": {},
   "source": [
    "---\n",
    "<div class=\"alert alert-block alert-success\">\n",
    "\n",
    "## Комментарий от наставника\n",
    "\n",
    "Хорошее сравнение моделей. Кстати в логистической регрессии тоже можно пройтись по параметрам. Например, попробовать изменять силу (параметр C) и тип регуляризации (параметр penalty).\n",
    "</div>\n",
    "\n",
    "---"
   ]
  },
  {
   "cell_type": "markdown",
   "metadata": {},
   "source": [
    "---"
   ]
  },
  {
   "cell_type": "markdown",
   "metadata": {},
   "source": [
    "### Сделаем еще попытку получить лучший результат на случайном лесе и попробуем применить кроссвалидацию и автоматический подбор параметров\n",
    "* Применим __cross_val_score__.\n",
    "    * Тестируем нашу модель на нескольих фолдах(кусках) данных. Данные делятся на несколько кусков (фолдов) и каждый кусок данных побывал и на обучении и на тесте. После этого сравниваем выбранную метрику по усредненному значению и выберам оптимальные параметры.\n",
    "    \n",
    "* Воспользуемся готовым методом и автоматизируем подбор параметров с помощью __GridSearchCV__\n",
    "    * GridSearchCV позволяет взять модель, набор параметров и при помощи кросс-валидации отобрать такую комбинацию параметров, которая дает лучший результат. В качестве оптимизации можем выбирать разные метрики, которые нам необходимо максимизировать: accuracy, f1-мера, roc-auc.\n",
    "\n",
    "* Не будем сохранять параметры в датафрейм, а воспользуемся __classification_report__ или распечатаем лучшие параметры"
   ]
  },
  {
   "cell_type": "code",
   "execution_count": 25,
   "metadata": {},
   "outputs": [],
   "source": [
    "def simple_bruteforce_update(df, parametrs):\n",
    "    df_train, df_valid = train_test_split(df, test_size=0.25, random_state=12345, shuffle = True)\n",
    "    features_train = df_train.drop(['churn'], axis=1)\n",
    "    target_train = df_train['churn']\n",
    "    features_valid = df_valid.drop(['churn'], axis=1)\n",
    "    target_valid = df_valid['churn']\n",
    "    \n",
    "    model = RandomForestClassifier()\n",
    "    #фолдов = 4, передаем модель и параметры\n",
    "    #для оптимизационную метрику не получается передать f1_score, возьмем accuracy\n",
    "    grid_search_cv_clf = GridSearchCV(model, parametrs, cv=4, scoring='accuracy')\n",
    "    #обучение на трейне\n",
    "    grid_search_cv_clf.fit(features_train, target_train)\n",
    "    #сохраняем лучшие параметры модели\n",
    "    best_clf = grid_search_cv_clf.best_estimator_\n",
    "    #сохраним на сколько часто дерево сплитовалось по каждой переменной, это будет важность фичи при сплите дерева\n",
    "    feature_importance = best_clf.feature_importances_\n",
    "    #получаем предсказанные значения на валидационной части для лучшей модели\n",
    "    prediction = best_clf.predict(features_valid)\n",
    "    print(f'f1_score: {f1_score(target_valid,prediction):.3f}; accuracy_score: {accuracy_score(target_valid,prediction)}\\n'\n",
    "    f'Параметры выбранной модели: {grid_search_cv_clf.best_params_}')\n",
    "    \n",
    "    feature_importances_df = pd.DataFrame({'features': list(features_train), 'feature_importances' : feature_importance})\n",
    "    display(feature_importances_df)\n",
    "    "
   ]
  },
  {
   "cell_type": "markdown",
   "metadata": {},
   "source": [
    "### Для изначального датафрейма"
   ]
  },
  {
   "cell_type": "code",
   "execution_count": 26,
   "metadata": {
    "scrolled": false
   },
   "outputs": [
    {
     "name": "stdout",
     "output_type": "stream",
     "text": [
      "f1_score: 0.822; accuracy_score: 0.909\n",
      "Параметры выбранной модели: {'criterion': 'entropy', 'max_depth': 21, 'n_estimators': 200}\n"
     ]
    },
    {
     "data": {
      "text/html": [
       "<div>\n",
       "<style scoped>\n",
       "    .dataframe tbody tr th:only-of-type {\n",
       "        vertical-align: middle;\n",
       "    }\n",
       "\n",
       "    .dataframe tbody tr th {\n",
       "        vertical-align: top;\n",
       "    }\n",
       "\n",
       "    .dataframe thead th {\n",
       "        text-align: right;\n",
       "    }\n",
       "</style>\n",
       "<table border=\"1\" class=\"dataframe\">\n",
       "  <thead>\n",
       "    <tr style=\"text-align: right;\">\n",
       "      <th></th>\n",
       "      <th>features</th>\n",
       "      <th>feature_importances</th>\n",
       "    </tr>\n",
       "  </thead>\n",
       "  <tbody>\n",
       "    <tr>\n",
       "      <td>0</td>\n",
       "      <td>gender</td>\n",
       "      <td>0.012844</td>\n",
       "    </tr>\n",
       "    <tr>\n",
       "      <td>1</td>\n",
       "      <td>near_location</td>\n",
       "      <td>0.010164</td>\n",
       "    </tr>\n",
       "    <tr>\n",
       "      <td>2</td>\n",
       "      <td>partner</td>\n",
       "      <td>0.012149</td>\n",
       "    </tr>\n",
       "    <tr>\n",
       "      <td>3</td>\n",
       "      <td>promo_friends</td>\n",
       "      <td>0.012358</td>\n",
       "    </tr>\n",
       "    <tr>\n",
       "      <td>4</td>\n",
       "      <td>phone</td>\n",
       "      <td>0.005932</td>\n",
       "    </tr>\n",
       "    <tr>\n",
       "      <td>5</td>\n",
       "      <td>contract_period</td>\n",
       "      <td>0.074066</td>\n",
       "    </tr>\n",
       "    <tr>\n",
       "      <td>6</td>\n",
       "      <td>group_visits</td>\n",
       "      <td>0.015766</td>\n",
       "    </tr>\n",
       "    <tr>\n",
       "      <td>7</td>\n",
       "      <td>age</td>\n",
       "      <td>0.117376</td>\n",
       "    </tr>\n",
       "    <tr>\n",
       "      <td>8</td>\n",
       "      <td>avg_additional_charges_total</td>\n",
       "      <td>0.091132</td>\n",
       "    </tr>\n",
       "    <tr>\n",
       "      <td>9</td>\n",
       "      <td>month_to_end_contract</td>\n",
       "      <td>0.073822</td>\n",
       "    </tr>\n",
       "    <tr>\n",
       "      <td>10</td>\n",
       "      <td>lifetime</td>\n",
       "      <td>0.268183</td>\n",
       "    </tr>\n",
       "    <tr>\n",
       "      <td>11</td>\n",
       "      <td>avg_class_frequency_total</td>\n",
       "      <td>0.134777</td>\n",
       "    </tr>\n",
       "    <tr>\n",
       "      <td>12</td>\n",
       "      <td>avg_class_frequency_current_month</td>\n",
       "      <td>0.171432</td>\n",
       "    </tr>\n",
       "  </tbody>\n",
       "</table>\n",
       "</div>"
      ],
      "text/plain": [
       "                             features  feature_importances\n",
       "0                              gender             0.012844\n",
       "1                       near_location             0.010164\n",
       "2                             partner             0.012149\n",
       "3                       promo_friends             0.012358\n",
       "4                               phone             0.005932\n",
       "5                     contract_period             0.074066\n",
       "6                        group_visits             0.015766\n",
       "7                                 age             0.117376\n",
       "8        avg_additional_charges_total             0.091132\n",
       "9               month_to_end_contract             0.073822\n",
       "10                           lifetime             0.268183\n",
       "11          avg_class_frequency_total             0.134777\n",
       "12  avg_class_frequency_current_month             0.171432"
      ]
     },
     "metadata": {},
     "output_type": "display_data"
    }
   ],
   "source": [
    "parametrs = {'criterion': ['gini', 'entropy'], 'max_depth': range(10, 25),'n_estimators':[200]}\n",
    "simple_bruteforce_update(df,parametrs)"
   ]
  },
  {
   "cell_type": "markdown",
   "metadata": {},
   "source": [
    "### Для датафрейма df_new"
   ]
  },
  {
   "cell_type": "code",
   "execution_count": 27,
   "metadata": {},
   "outputs": [
    {
     "name": "stdout",
     "output_type": "stream",
     "text": [
      "f1_score: 0.802; accuracy_score: 0.898\n",
      "Параметры выбранной модели: {'criterion': 'entropy', 'max_depth': 10, 'n_estimators': 200}\n"
     ]
    },
    {
     "data": {
      "text/html": [
       "<div>\n",
       "<style scoped>\n",
       "    .dataframe tbody tr th:only-of-type {\n",
       "        vertical-align: middle;\n",
       "    }\n",
       "\n",
       "    .dataframe tbody tr th {\n",
       "        vertical-align: top;\n",
       "    }\n",
       "\n",
       "    .dataframe thead th {\n",
       "        text-align: right;\n",
       "    }\n",
       "</style>\n",
       "<table border=\"1\" class=\"dataframe\">\n",
       "  <thead>\n",
       "    <tr style=\"text-align: right;\">\n",
       "      <th></th>\n",
       "      <th>features</th>\n",
       "      <th>feature_importances</th>\n",
       "    </tr>\n",
       "  </thead>\n",
       "  <tbody>\n",
       "    <tr>\n",
       "      <td>0</td>\n",
       "      <td>near_location</td>\n",
       "      <td>0.010518</td>\n",
       "    </tr>\n",
       "    <tr>\n",
       "      <td>1</td>\n",
       "      <td>partner</td>\n",
       "      <td>0.013319</td>\n",
       "    </tr>\n",
       "    <tr>\n",
       "      <td>2</td>\n",
       "      <td>promo_friends</td>\n",
       "      <td>0.014393</td>\n",
       "    </tr>\n",
       "    <tr>\n",
       "      <td>3</td>\n",
       "      <td>contract_period</td>\n",
       "      <td>0.145036</td>\n",
       "    </tr>\n",
       "    <tr>\n",
       "      <td>4</td>\n",
       "      <td>group_visits</td>\n",
       "      <td>0.018159</td>\n",
       "    </tr>\n",
       "    <tr>\n",
       "      <td>5</td>\n",
       "      <td>age</td>\n",
       "      <td>0.138530</td>\n",
       "    </tr>\n",
       "    <tr>\n",
       "      <td>6</td>\n",
       "      <td>avg_additional_charges_total</td>\n",
       "      <td>0.107571</td>\n",
       "    </tr>\n",
       "    <tr>\n",
       "      <td>7</td>\n",
       "      <td>lifetime</td>\n",
       "      <td>0.349436</td>\n",
       "    </tr>\n",
       "    <tr>\n",
       "      <td>8</td>\n",
       "      <td>avg_class_frequency_current_month</td>\n",
       "      <td>0.203039</td>\n",
       "    </tr>\n",
       "  </tbody>\n",
       "</table>\n",
       "</div>"
      ],
      "text/plain": [
       "                            features  feature_importances\n",
       "0                      near_location             0.010518\n",
       "1                            partner             0.013319\n",
       "2                      promo_friends             0.014393\n",
       "3                    contract_period             0.145036\n",
       "4                       group_visits             0.018159\n",
       "5                                age             0.138530\n",
       "6       avg_additional_charges_total             0.107571\n",
       "7                           lifetime             0.349436\n",
       "8  avg_class_frequency_current_month             0.203039"
      ]
     },
     "metadata": {},
     "output_type": "display_data"
    }
   ],
   "source": [
    "parametrs = {'criterion': ['gini', 'entropy'], 'max_depth': range(10, 25),'n_estimators':[200]}\n",
    "simple_bruteforce_update(df_new,parametrs)"
   ]
  },
  {
   "cell_type": "markdown",
   "metadata": {},
   "source": [
    "## Вывод\n",
    "* Наилучший результат показала логистическая регрессия на изначальном датафрейме\n",
    "    * максимальный f1_score = 0.851\n",
    "    * максимальный accuracy_score = 0.924\n"
   ]
  },
  {
   "cell_type": "markdown",
   "metadata": {},
   "source": [
    "----"
   ]
  },
  {
   "cell_type": "markdown",
   "metadata": {},
   "source": [
    "## Шаг 4. Сделайте кластеризацию пользователей"
   ]
  },
  {
   "cell_type": "markdown",
   "metadata": {},
   "source": [
    "### 1. Стандартизируйте данные"
   ]
  },
  {
   "cell_type": "code",
   "execution_count": 28,
   "metadata": {},
   "outputs": [],
   "source": [
    "#отбросим значение класса и стандартизируем данные\n",
    "df_stand = df.drop(['churn'],axis=1)\n",
    "#сохраним названия колонок в список\n",
    "df_columns_list = df_stand.columns\n",
    "#стандартизируем\n",
    "df_stand = StandardScaler().fit_transform(df_stand)\n",
    "#восстановим датафрейм\n",
    "df_stand = pd.DataFrame(df_stand, columns=df_columns_list).astype('float64')"
   ]
  },
  {
   "cell_type": "code",
   "execution_count": 29,
   "metadata": {
    "scrolled": true
   },
   "outputs": [
    {
     "data": {
      "text/html": [
       "<div>\n",
       "<style scoped>\n",
       "    .dataframe tbody tr th:only-of-type {\n",
       "        vertical-align: middle;\n",
       "    }\n",
       "\n",
       "    .dataframe tbody tr th {\n",
       "        vertical-align: top;\n",
       "    }\n",
       "\n",
       "    .dataframe thead th {\n",
       "        text-align: right;\n",
       "    }\n",
       "</style>\n",
       "<table border=\"1\" class=\"dataframe\">\n",
       "  <thead>\n",
       "    <tr style=\"text-align: right;\">\n",
       "      <th></th>\n",
       "      <th>gender</th>\n",
       "      <th>near_location</th>\n",
       "      <th>partner</th>\n",
       "      <th>promo_friends</th>\n",
       "      <th>phone</th>\n",
       "      <th>contract_period</th>\n",
       "      <th>group_visits</th>\n",
       "      <th>age</th>\n",
       "      <th>avg_additional_charges_total</th>\n",
       "      <th>month_to_end_contract</th>\n",
       "      <th>lifetime</th>\n",
       "      <th>avg_class_frequency_total</th>\n",
       "      <th>avg_class_frequency_current_month</th>\n",
       "    </tr>\n",
       "  </thead>\n",
       "  <tbody>\n",
       "    <tr>\n",
       "      <td>0</td>\n",
       "      <td>0.979706</td>\n",
       "      <td>0.427881</td>\n",
       "      <td>1.026861</td>\n",
       "      <td>1.497161</td>\n",
       "      <td>-3.059852</td>\n",
       "      <td>0.289890</td>\n",
       "      <td>1.194032</td>\n",
       "      <td>-0.056554</td>\n",
       "      <td>-1.377531</td>\n",
       "      <td>-0.002949</td>\n",
       "      <td>-0.193329</td>\n",
       "      <td>-1.911920</td>\n",
       "      <td>-1.678472</td>\n",
       "    </tr>\n",
       "    <tr>\n",
       "      <td>1</td>\n",
       "      <td>-1.020715</td>\n",
       "      <td>0.427881</td>\n",
       "      <td>-0.973842</td>\n",
       "      <td>-0.667931</td>\n",
       "      <td>0.326813</td>\n",
       "      <td>1.608822</td>\n",
       "      <td>1.194032</td>\n",
       "      <td>0.557327</td>\n",
       "      <td>-0.350213</td>\n",
       "      <td>2.048814</td>\n",
       "      <td>0.873680</td>\n",
       "      <td>0.045176</td>\n",
       "      <td>0.136014</td>\n",
       "    </tr>\n",
       "    <tr>\n",
       "      <td>2</td>\n",
       "      <td>-1.020715</td>\n",
       "      <td>0.427881</td>\n",
       "      <td>1.026861</td>\n",
       "      <td>-0.667931</td>\n",
       "      <td>0.326813</td>\n",
       "      <td>-0.809219</td>\n",
       "      <td>-0.837498</td>\n",
       "      <td>-0.363494</td>\n",
       "      <td>-0.181592</td>\n",
       "      <td>-0.772361</td>\n",
       "      <td>-0.460081</td>\n",
       "      <td>-0.020493</td>\n",
       "      <td>-0.029019</td>\n",
       "    </tr>\n",
       "    <tr>\n",
       "      <td>3</td>\n",
       "      <td>-1.020715</td>\n",
       "      <td>0.427881</td>\n",
       "      <td>1.026861</td>\n",
       "      <td>1.497161</td>\n",
       "      <td>0.326813</td>\n",
       "      <td>1.608822</td>\n",
       "      <td>1.194032</td>\n",
       "      <td>1.171208</td>\n",
       "      <td>-0.874722</td>\n",
       "      <td>1.792343</td>\n",
       "      <td>-0.460081</td>\n",
       "      <td>1.364655</td>\n",
       "      <td>1.510450</td>\n",
       "    </tr>\n",
       "    <tr>\n",
       "      <td>4</td>\n",
       "      <td>0.979706</td>\n",
       "      <td>0.427881</td>\n",
       "      <td>1.026861</td>\n",
       "      <td>1.497161</td>\n",
       "      <td>0.326813</td>\n",
       "      <td>-0.809219</td>\n",
       "      <td>-0.837498</td>\n",
       "      <td>-0.977375</td>\n",
       "      <td>0.533700</td>\n",
       "      <td>-0.772361</td>\n",
       "      <td>-0.193329</td>\n",
       "      <td>-0.787076</td>\n",
       "      <td>-0.614542</td>\n",
       "    </tr>\n",
       "  </tbody>\n",
       "</table>\n",
       "</div>"
      ],
      "text/plain": [
       "     gender  near_location   partner  promo_friends     phone  \\\n",
       "0  0.979706       0.427881  1.026861       1.497161 -3.059852   \n",
       "1 -1.020715       0.427881 -0.973842      -0.667931  0.326813   \n",
       "2 -1.020715       0.427881  1.026861      -0.667931  0.326813   \n",
       "3 -1.020715       0.427881  1.026861       1.497161  0.326813   \n",
       "4  0.979706       0.427881  1.026861       1.497161  0.326813   \n",
       "\n",
       "   contract_period  group_visits       age  avg_additional_charges_total  \\\n",
       "0         0.289890      1.194032 -0.056554                     -1.377531   \n",
       "1         1.608822      1.194032  0.557327                     -0.350213   \n",
       "2        -0.809219     -0.837498 -0.363494                     -0.181592   \n",
       "3         1.608822      1.194032  1.171208                     -0.874722   \n",
       "4        -0.809219     -0.837498 -0.977375                      0.533700   \n",
       "\n",
       "   month_to_end_contract  lifetime  avg_class_frequency_total  \\\n",
       "0              -0.002949 -0.193329                  -1.911920   \n",
       "1               2.048814  0.873680                   0.045176   \n",
       "2              -0.772361 -0.460081                  -0.020493   \n",
       "3               1.792343 -0.460081                   1.364655   \n",
       "4              -0.772361 -0.193329                  -0.787076   \n",
       "\n",
       "   avg_class_frequency_current_month  \n",
       "0                          -1.678472  \n",
       "1                           0.136014  \n",
       "2                          -0.029019  \n",
       "3                           1.510450  \n",
       "4                          -0.614542  "
      ]
     },
     "execution_count": 29,
     "metadata": {},
     "output_type": "execute_result"
    }
   ],
   "source": [
    "df_stand.head()"
   ]
  },
  {
   "cell_type": "markdown",
   "metadata": {},
   "source": [
    "### 2. Постройте матрицу расстояний функцией linkage() на стандартизованной матрице признаков и нарисуйте дендрограмму. Внимание: отрисовка дендрограммы может занять время!\n",
    "    * Можно ли по графику предположить, какое количество кластеров можно выбрать?"
   ]
  },
  {
   "cell_type": "code",
   "execution_count": 30,
   "metadata": {},
   "outputs": [],
   "source": [
    "#сгенерируем матрицу\n",
    "linked = linkage(df_stand, method = 'ward')"
   ]
  },
  {
   "cell_type": "code",
   "execution_count": 31,
   "metadata": {},
   "outputs": [
    {
     "data": {
      "image/png": "[encoded data removed]",
      "text/plain": [
       "<Figure size 1080x720 with 1 Axes>"
      ]
     },
     "metadata": {
      "needs_background": "light"
     },
     "output_type": "display_data"
    }
   ],
   "source": [
    "plt.figure(figsize=(15, 10))  \n",
    "dendrogram(linked, orientation='top')\n",
    "plt.title('Hierarchial clustering for GYM')\n",
    "plt.show()"
   ]
  },
  {
   "cell_type": "markdown",
   "metadata": {},
   "source": [
    "### Выделим оптимальное число кластеров = 4\n",
    "   * При необходимости можно разбить на большее число кластеров, но оптимальное решение можно найти с помощью likage, либо подбора  + минимизируя межкластерное расстояние"
   ]
  },
  {
   "cell_type": "markdown",
   "metadata": {},
   "source": [
    "### 3. Обучите модель кластеризации на основании алгоритма K-Means и спрогнозируйте кластеры клиентов."
   ]
  },
  {
   "cell_type": "code",
   "execution_count": 32,
   "metadata": {},
   "outputs": [],
   "source": [
    "# задаём модель k_means с числом кластеров 4\n",
    "km = KMeans(n_clusters = 4)\n",
    "#прогнозируем кластеры для наблюдений (алгоритм присваивает им номера от 0 до 3)\n",
    "#сохраняем в переменную labels\n",
    "labels = km.fit_predict(df_stand)\n",
    "# сохраняем метки кластера в поле изначального датасета\n",
    "df['cluster'] = labels"
   ]
  },
  {
   "cell_type": "code",
   "execution_count": 33,
   "metadata": {},
   "outputs": [
    {
     "data": {
      "text/html": [
       "<div>\n",
       "<style scoped>\n",
       "    .dataframe tbody tr th:only-of-type {\n",
       "        vertical-align: middle;\n",
       "    }\n",
       "\n",
       "    .dataframe tbody tr th {\n",
       "        vertical-align: top;\n",
       "    }\n",
       "\n",
       "    .dataframe thead th {\n",
       "        text-align: right;\n",
       "    }\n",
       "</style>\n",
       "<table border=\"1\" class=\"dataframe\">\n",
       "  <thead>\n",
       "    <tr style=\"text-align: right;\">\n",
       "      <th></th>\n",
       "      <th>gender</th>\n",
       "      <th>near_location</th>\n",
       "      <th>partner</th>\n",
       "      <th>promo_friends</th>\n",
       "      <th>phone</th>\n",
       "      <th>contract_period</th>\n",
       "      <th>group_visits</th>\n",
       "      <th>age</th>\n",
       "      <th>avg_additional_charges_total</th>\n",
       "      <th>month_to_end_contract</th>\n",
       "      <th>lifetime</th>\n",
       "      <th>avg_class_frequency_total</th>\n",
       "      <th>avg_class_frequency_current_month</th>\n",
       "      <th>churn</th>\n",
       "      <th>cluster</th>\n",
       "    </tr>\n",
       "  </thead>\n",
       "  <tbody>\n",
       "    <tr>\n",
       "      <td>0</td>\n",
       "      <td>1</td>\n",
       "      <td>1</td>\n",
       "      <td>1</td>\n",
       "      <td>1</td>\n",
       "      <td>0</td>\n",
       "      <td>6</td>\n",
       "      <td>1</td>\n",
       "      <td>29</td>\n",
       "      <td>14.227470</td>\n",
       "      <td>5</td>\n",
       "      <td>3</td>\n",
       "      <td>0.020398</td>\n",
       "      <td>0.000000</td>\n",
       "      <td>0</td>\n",
       "      <td>0</td>\n",
       "    </tr>\n",
       "    <tr>\n",
       "      <td>1</td>\n",
       "      <td>0</td>\n",
       "      <td>1</td>\n",
       "      <td>0</td>\n",
       "      <td>0</td>\n",
       "      <td>1</td>\n",
       "      <td>12</td>\n",
       "      <td>1</td>\n",
       "      <td>31</td>\n",
       "      <td>113.202938</td>\n",
       "      <td>13</td>\n",
       "      <td>7</td>\n",
       "      <td>1.922936</td>\n",
       "      <td>1.910244</td>\n",
       "      <td>0</td>\n",
       "      <td>1</td>\n",
       "    </tr>\n",
       "    <tr>\n",
       "      <td>2</td>\n",
       "      <td>0</td>\n",
       "      <td>1</td>\n",
       "      <td>1</td>\n",
       "      <td>0</td>\n",
       "      <td>1</td>\n",
       "      <td>1</td>\n",
       "      <td>0</td>\n",
       "      <td>28</td>\n",
       "      <td>129.448479</td>\n",
       "      <td>2</td>\n",
       "      <td>2</td>\n",
       "      <td>1.859098</td>\n",
       "      <td>1.736502</td>\n",
       "      <td>0</td>\n",
       "      <td>2</td>\n",
       "    </tr>\n",
       "  </tbody>\n",
       "</table>\n",
       "</div>"
      ],
      "text/plain": [
       "   gender  near_location  partner  promo_friends  phone  contract_period  \\\n",
       "0       1              1        1              1      0                6   \n",
       "1       0              1        0              0      1               12   \n",
       "2       0              1        1              0      1                1   \n",
       "\n",
       "   group_visits  age  avg_additional_charges_total  month_to_end_contract  \\\n",
       "0             1   29                     14.227470                      5   \n",
       "1             1   31                    113.202938                     13   \n",
       "2             0   28                    129.448479                      2   \n",
       "\n",
       "   lifetime  avg_class_frequency_total  avg_class_frequency_current_month  \\\n",
       "0         3                   0.020398                           0.000000   \n",
       "1         7                   1.922936                           1.910244   \n",
       "2         2                   1.859098                           1.736502   \n",
       "\n",
       "   churn  cluster  \n",
       "0      0        0  \n",
       "1      0        1  \n",
       "2      0        2  "
      ]
     },
     "execution_count": 33,
     "metadata": {},
     "output_type": "execute_result"
    }
   ],
   "source": [
    "df.head(3)"
   ]
  },
  {
   "cell_type": "code",
   "execution_count": 34,
   "metadata": {},
   "outputs": [
    {
     "data": {
      "text/plain": [
       "2    0.37450\n",
       "3    0.26725\n",
       "1    0.26175\n",
       "0    0.09650\n",
       "Name: cluster, dtype: float64"
      ]
     },
     "execution_count": 34,
     "metadata": {},
     "output_type": "execute_result"
    }
   ],
   "source": [
    "#распечатаем долю наблюдений в каждом кластере от всех наблюдений в датафрейме\n",
    "df.cluster.value_counts()/df.shape[0]"
   ]
  },
  {
   "cell_type": "markdown",
   "metadata": {},
   "source": [
    "### 4. Посмотрите на средние значения признаков для кластеров. \n",
    "   * Можно ли сразу что-то заметить?"
   ]
  },
  {
   "cell_type": "code",
   "execution_count": 35,
   "metadata": {},
   "outputs": [
    {
     "data": {
      "text/html": [
       "<div>\n",
       "<style scoped>\n",
       "    .dataframe tbody tr th:only-of-type {\n",
       "        vertical-align: middle;\n",
       "    }\n",
       "\n",
       "    .dataframe tbody tr th {\n",
       "        vertical-align: top;\n",
       "    }\n",
       "\n",
       "    .dataframe thead th {\n",
       "        text-align: right;\n",
       "    }\n",
       "</style>\n",
       "<table border=\"1\" class=\"dataframe\">\n",
       "  <thead>\n",
       "    <tr style=\"text-align: right;\">\n",
       "      <th></th>\n",
       "      <th>gender</th>\n",
       "      <th>near_location</th>\n",
       "      <th>partner</th>\n",
       "      <th>promo_friends</th>\n",
       "      <th>phone</th>\n",
       "      <th>contract_period</th>\n",
       "      <th>group_visits</th>\n",
       "      <th>age</th>\n",
       "      <th>avg_additional_charges_total</th>\n",
       "      <th>month_to_end_contract</th>\n",
       "      <th>lifetime</th>\n",
       "      <th>avg_class_frequency_total</th>\n",
       "      <th>avg_class_frequency_current_month</th>\n",
       "      <th>churn</th>\n",
       "    </tr>\n",
       "    <tr>\n",
       "      <th>cluster</th>\n",
       "      <th></th>\n",
       "      <th></th>\n",
       "      <th></th>\n",
       "      <th></th>\n",
       "      <th></th>\n",
       "      <th></th>\n",
       "      <th></th>\n",
       "      <th></th>\n",
       "      <th></th>\n",
       "      <th></th>\n",
       "      <th></th>\n",
       "      <th></th>\n",
       "      <th></th>\n",
       "      <th></th>\n",
       "    </tr>\n",
       "  </thead>\n",
       "  <tbody>\n",
       "    <tr>\n",
       "      <td>0</td>\n",
       "      <td>0.523316</td>\n",
       "      <td>0.862694</td>\n",
       "      <td>0.471503</td>\n",
       "      <td>0.305699</td>\n",
       "      <td>0.0</td>\n",
       "      <td>4.777202</td>\n",
       "      <td>0.427461</td>\n",
       "      <td>29.297927</td>\n",
       "      <td>144.208179</td>\n",
       "      <td>5.145078</td>\n",
       "      <td>3.940415</td>\n",
       "      <td>1.854211</td>\n",
       "      <td>1.723967</td>\n",
       "      <td>0.266839</td>\n",
       "    </tr>\n",
       "    <tr>\n",
       "      <td>1</td>\n",
       "      <td>0.503343</td>\n",
       "      <td>0.940783</td>\n",
       "      <td>0.773639</td>\n",
       "      <td>0.569245</td>\n",
       "      <td>1.0</td>\n",
       "      <td>10.825215</td>\n",
       "      <td>0.543457</td>\n",
       "      <td>29.934097</td>\n",
       "      <td>160.970662</td>\n",
       "      <td>10.178606</td>\n",
       "      <td>4.759312</td>\n",
       "      <td>1.977140</td>\n",
       "      <td>1.970916</td>\n",
       "      <td>0.027698</td>\n",
       "    </tr>\n",
       "    <tr>\n",
       "      <td>2</td>\n",
       "      <td>0.489987</td>\n",
       "      <td>0.761015</td>\n",
       "      <td>0.385180</td>\n",
       "      <td>0.195594</td>\n",
       "      <td>1.0</td>\n",
       "      <td>1.930574</td>\n",
       "      <td>0.294393</td>\n",
       "      <td>28.048064</td>\n",
       "      <td>130.163620</td>\n",
       "      <td>2.713618</td>\n",
       "      <td>2.243658</td>\n",
       "      <td>1.210336</td>\n",
       "      <td>0.957516</td>\n",
       "      <td>0.556075</td>\n",
       "    </tr>\n",
       "    <tr>\n",
       "      <td>3</td>\n",
       "      <td>0.540692</td>\n",
       "      <td>0.863424</td>\n",
       "      <td>0.353601</td>\n",
       "      <td>0.212348</td>\n",
       "      <td>1.0</td>\n",
       "      <td>2.483630</td>\n",
       "      <td>0.443405</td>\n",
       "      <td>30.000935</td>\n",
       "      <td>157.707360</td>\n",
       "      <td>3.122544</td>\n",
       "      <td>4.709074</td>\n",
       "      <td>2.728909</td>\n",
       "      <td>2.717352</td>\n",
       "      <td>0.089804</td>\n",
       "    </tr>\n",
       "  </tbody>\n",
       "</table>\n",
       "</div>"
      ],
      "text/plain": [
       "           gender  near_location   partner  promo_friends  phone  \\\n",
       "cluster                                                            \n",
       "0        0.523316       0.862694  0.471503       0.305699    0.0   \n",
       "1        0.503343       0.940783  0.773639       0.569245    1.0   \n",
       "2        0.489987       0.761015  0.385180       0.195594    1.0   \n",
       "3        0.540692       0.863424  0.353601       0.212348    1.0   \n",
       "\n",
       "         contract_period  group_visits        age  \\\n",
       "cluster                                             \n",
       "0               4.777202      0.427461  29.297927   \n",
       "1              10.825215      0.543457  29.934097   \n",
       "2               1.930574      0.294393  28.048064   \n",
       "3               2.483630      0.443405  30.000935   \n",
       "\n",
       "         avg_additional_charges_total  month_to_end_contract  lifetime  \\\n",
       "cluster                                                                  \n",
       "0                          144.208179               5.145078  3.940415   \n",
       "1                          160.970662              10.178606  4.759312   \n",
       "2                          130.163620               2.713618  2.243658   \n",
       "3                          157.707360               3.122544  4.709074   \n",
       "\n",
       "         avg_class_frequency_total  avg_class_frequency_current_month  \\\n",
       "cluster                                                                 \n",
       "0                         1.854211                           1.723967   \n",
       "1                         1.977140                           1.970916   \n",
       "2                         1.210336                           0.957516   \n",
       "3                         2.728909                           2.717352   \n",
       "\n",
       "            churn  \n",
       "cluster            \n",
       "0        0.266839  \n",
       "1        0.027698  \n",
       "2        0.556075  \n",
       "3        0.089804  "
      ]
     },
     "execution_count": 35,
     "metadata": {},
     "output_type": "execute_result"
    }
   ],
   "source": [
    "df.groupby('cluster').mean()"
   ]
  },
  {
   "cell_type": "markdown",
   "metadata": {},
   "source": [
    "### Вывод\n",
    "   * __Кластер с лейблом = 2__ имеет наименьший средний отток.\n",
    "       * При этом у него самые высокие значения по признакам contract_period, month_to_end_contract, avg_additional_charges_total. Эти люди много тратят на доп услуги,у них длинные абонементы и срок окончания еще не скоро. При изучении данных эти признаки так же выделялись у не_отточных клиентов. \n",
    "       \n",
    "   * __Кластер с лейблом = 1__ по среднему показателю оттока немного уступает кластеру 2. Среднее значение contract_period меньше, чем у второго кластера, абонементы с более коротким сроком. Но такие клиенты чаще чем клиенты во втором кластере, посещают фитнес, об этом свидетельствуют значения avg_class_frequency_total и avg_class_frequency_current_month"
   ]
  },
  {
   "cell_type": "markdown",
   "metadata": {},
   "source": [
    "### 5. Постройте распределения признаков для кластеров. Можно ли что-то заметить по ним?"
   ]
  },
  {
   "cell_type": "code",
   "execution_count": 36,
   "metadata": {
    "scrolled": false
   },
   "outputs": [
    {
     "name": "stdout",
     "output_type": "stream",
     "text": [
      "gender\n"
     ]
    },
    {
     "data": {
      "image/png": "[encoded data removed]",
      "text/plain": [
       "<Figure size 1008x216 with 1 Axes>"
      ]
     },
     "metadata": {
      "needs_background": "light"
     },
     "output_type": "display_data"
    },
    {
     "name": "stdout",
     "output_type": "stream",
     "text": [
      "near_location\n"
     ]
    },
    {
     "data": {
      "image/png": "[encoded data removed]",
      "text/plain": [
       "<Figure size 1008x216 with 1 Axes>"
      ]
     },
     "metadata": {
      "needs_background": "light"
     },
     "output_type": "display_data"
    },
    {
     "name": "stdout",
     "output_type": "stream",
     "text": [
      "partner\n"
     ]
    },
    {
     "data": {
      "image/png": "[encoded data removed]",
      "text/plain": [
       "<Figure size 1008x216 with 1 Axes>"
      ]
     },
     "metadata": {
      "needs_background": "light"
     },
     "output_type": "display_data"
    },
    {
     "name": "stdout",
     "output_type": "stream",
     "text": [
      "promo_friends\n"
     ]
    },
    {
     "data": {
      "image/png": "[encoded data removed]",
      "text/plain": [
       "<Figure size 1008x216 with 1 Axes>"
      ]
     },
     "metadata": {
      "needs_background": "light"
     },
     "output_type": "display_data"
    },
    {
     "name": "stdout",
     "output_type": "stream",
     "text": [
      "phone\n"
     ]
    },
    {
     "data": {
      "image/png": "[encoded data removed]",
      "text/plain": [
       "<Figure size 1008x216 with 1 Axes>"
      ]
     },
     "metadata": {
      "needs_background": "light"
     },
     "output_type": "display_data"
    },
    {
     "name": "stdout",
     "output_type": "stream",
     "text": [
      "contract_period\n"
     ]
    },
    {
     "data": {
      "image/png": "[encoded data removed]",
      "text/plain": [
       "<Figure size 1008x216 with 1 Axes>"
      ]
     },
     "metadata": {
      "needs_background": "light"
     },
     "output_type": "display_data"
    },
    {
     "name": "stdout",
     "output_type": "stream",
     "text": [
      "group_visits\n"
     ]
    },
    {
     "data": {
      "image/png": "[encoded data removed]",
      "text/plain": [
       "<Figure size 1008x216 with 1 Axes>"
      ]
     },
     "metadata": {
      "needs_background": "light"
     },
     "output_type": "display_data"
    },
    {
     "name": "stdout",
     "output_type": "stream",
     "text": [
      "age\n"
     ]
    },
    {
     "data": {
      "image/png": "[encoded data removed]",
      "text/plain": [
       "<Figure size 1008x216 with 1 Axes>"
      ]
     },
     "metadata": {
      "needs_background": "light"
     },
     "output_type": "display_data"
    },
    {
     "name": "stdout",
     "output_type": "stream",
     "text": [
      "avg_additional_charges_total\n"
     ]
    },
    {
     "data": {
      "image/png": "[encoded data removed]",
      "text/plain": [
       "<Figure size 1008x216 with 1 Axes>"
      ]
     },
     "metadata": {
      "needs_background": "light"
     },
     "output_type": "display_data"
    },
    {
     "name": "stdout",
     "output_type": "stream",
     "text": [
      "month_to_end_contract\n"
     ]
    },
    {
     "data": {
      "image/png": "[encoded data removed]",
      "text/plain": [
       "<Figure size 1008x216 with 1 Axes>"
      ]
     },
     "metadata": {
      "needs_background": "light"
     },
     "output_type": "display_data"
    },
    {
     "name": "stdout",
     "output_type": "stream",
     "text": [
      "lifetime\n"
     ]
    },
    {
     "data": {
      "image/png": "[encoded data removed]",
      "text/plain": [
       "<Figure size 1008x216 with 1 Axes>"
      ]
     },
     "metadata": {
      "needs_background": "light"
     },
     "output_type": "display_data"
    },
    {
     "name": "stdout",
     "output_type": "stream",
     "text": [
      "avg_class_frequency_total\n"
     ]
    },
    {
     "data": {
      "image/png": "[encoded data removed]",
      "text/plain": [
       "<Figure size 1008x216 with 1 Axes>"
      ]
     },
     "metadata": {
      "needs_background": "light"
     },
     "output_type": "display_data"
    },
    {
     "name": "stdout",
     "output_type": "stream",
     "text": [
      "avg_class_frequency_current_month\n"
     ]
    },
    {
     "data": {
      "image/png": "[encoded data removed]",
      "text/plain": [
       "<Figure size 1008x216 with 1 Axes>"
      ]
     },
     "metadata": {
      "needs_background": "light"
     },
     "output_type": "display_data"
    },
    {
     "name": "stdout",
     "output_type": "stream",
     "text": [
      "churn\n"
     ]
    },
    {
     "data": {
      "image/png": "[encoded data removed]",
      "text/plain": [
       "<Figure size 1008x216 with 1 Axes>"
      ]
     },
     "metadata": {
      "needs_background": "light"
     },
     "output_type": "display_data"
    }
   ],
   "source": [
    "feauture_list = [i for i in df if i !='cluster']\n",
    "for feature in feauture_list:\n",
    "    if df[feature].nunique()>df.shape[0]/2:\n",
    "        print(feature)\n",
    "        plt.figure(figsize=(14, 3))\n",
    "        ax = sns.boxplot(x='cluster', y=feature, data=df)\n",
    "        ax.set(title=f'Распределение для {feature} в каждом кластере')\n",
    "        plt.show()\n",
    "    else:\n",
    "        print(feature)\n",
    "        plt.figure(figsize=(14, 3))\n",
    "        ax = sns.countplot(x=feature, hue='cluster', data=df)\n",
    "        ax.set(title=f'Countplot для значений фичи {feature} по каждому кластеру')\n",
    "        plt.show()"
   ]
  },
  {
   "cell_type": "markdown",
   "metadata": {},
   "source": [
    "### Вывод\n",
    "__Выделяется кластер с лейблом 2__\n",
    "* Cамые высокие значения по признакам contract_period, month_to_end_contract, avg_class_frequency_total, avg_class_frequency_current_month. Эти люди много тратят на доп услуги,у них длинные абонементы и срок окончания еще не скоро."
   ]
  },
  {
   "cell_type": "markdown",
   "metadata": {},
   "source": [
    "### 6. Для каждого полученного кластера посчитайте долю оттока.\n",
    "* Отличаются ли они по доле оттока? \n",
    "* Какие кластеры склонны к оттоку, а какие — надёжны?"
   ]
  },
  {
   "cell_type": "code",
   "execution_count": 37,
   "metadata": {
    "scrolled": true
   },
   "outputs": [],
   "source": [
    "temp = df.groupby(['cluster','churn']).count().iloc[:,:1]\n",
    "temp.columns=['unique_clients']\n",
    "temp.reset_index(inplace=True)\n",
    "temp.set_index('cluster', inplace=True)\n",
    "clients_in_cluster = temp.groupby('cluster').agg({'unique_clients':'sum'}).rename(columns={'unique_clients':'total'})\n",
    "temp = temp.join(clients_in_cluster)\n",
    "temp['churn_share'] = round((temp['unique_clients']/temp['total']),2)\n"
   ]
  },
  {
   "cell_type": "code",
   "execution_count": 38,
   "metadata": {},
   "outputs": [
    {
     "data": {
      "text/html": [
       "<div>\n",
       "<style scoped>\n",
       "    .dataframe tbody tr th:only-of-type {\n",
       "        vertical-align: middle;\n",
       "    }\n",
       "\n",
       "    .dataframe tbody tr th {\n",
       "        vertical-align: top;\n",
       "    }\n",
       "\n",
       "    .dataframe thead th {\n",
       "        text-align: right;\n",
       "    }\n",
       "</style>\n",
       "<table border=\"1\" class=\"dataframe\">\n",
       "  <thead>\n",
       "    <tr style=\"text-align: right;\">\n",
       "      <th></th>\n",
       "      <th>churn</th>\n",
       "      <th>unique_clients</th>\n",
       "      <th>total</th>\n",
       "      <th>churn_share</th>\n",
       "    </tr>\n",
       "    <tr>\n",
       "      <th>cluster</th>\n",
       "      <th></th>\n",
       "      <th></th>\n",
       "      <th></th>\n",
       "      <th></th>\n",
       "    </tr>\n",
       "  </thead>\n",
       "  <tbody>\n",
       "    <tr>\n",
       "      <td>0</td>\n",
       "      <td>0</td>\n",
       "      <td>283</td>\n",
       "      <td>386</td>\n",
       "      <td>0.73</td>\n",
       "    </tr>\n",
       "    <tr>\n",
       "      <td>0</td>\n",
       "      <td>1</td>\n",
       "      <td>103</td>\n",
       "      <td>386</td>\n",
       "      <td>0.27</td>\n",
       "    </tr>\n",
       "    <tr>\n",
       "      <td>1</td>\n",
       "      <td>0</td>\n",
       "      <td>1018</td>\n",
       "      <td>1047</td>\n",
       "      <td>0.97</td>\n",
       "    </tr>\n",
       "    <tr>\n",
       "      <td>1</td>\n",
       "      <td>1</td>\n",
       "      <td>29</td>\n",
       "      <td>1047</td>\n",
       "      <td>0.03</td>\n",
       "    </tr>\n",
       "    <tr>\n",
       "      <td>2</td>\n",
       "      <td>0</td>\n",
       "      <td>665</td>\n",
       "      <td>1498</td>\n",
       "      <td>0.44</td>\n",
       "    </tr>\n",
       "    <tr>\n",
       "      <td>2</td>\n",
       "      <td>1</td>\n",
       "      <td>833</td>\n",
       "      <td>1498</td>\n",
       "      <td>0.56</td>\n",
       "    </tr>\n",
       "    <tr>\n",
       "      <td>3</td>\n",
       "      <td>0</td>\n",
       "      <td>973</td>\n",
       "      <td>1069</td>\n",
       "      <td>0.91</td>\n",
       "    </tr>\n",
       "    <tr>\n",
       "      <td>3</td>\n",
       "      <td>1</td>\n",
       "      <td>96</td>\n",
       "      <td>1069</td>\n",
       "      <td>0.09</td>\n",
       "    </tr>\n",
       "  </tbody>\n",
       "</table>\n",
       "</div>"
      ],
      "text/plain": [
       "         churn  unique_clients  total  churn_share\n",
       "cluster                                           \n",
       "0            0             283    386         0.73\n",
       "0            1             103    386         0.27\n",
       "1            0            1018   1047         0.97\n",
       "1            1              29   1047         0.03\n",
       "2            0             665   1498         0.44\n",
       "2            1             833   1498         0.56\n",
       "3            0             973   1069         0.91\n",
       "3            1              96   1069         0.09"
      ]
     },
     "execution_count": 38,
     "metadata": {},
     "output_type": "execute_result"
    }
   ],
   "source": [
    "temp"
   ]
  },
  {
   "cell_type": "markdown",
   "metadata": {},
   "source": [
    "### Вывод\n",
    "__Кластеры отличаются по доле оттока__\n",
    "   * Наиболее надежные к оттоку: 0,1,2\n",
    "   * Наиболее отточные: 3\n",
    "    "
   ]
  },
  {
   "cell_type": "markdown",
   "metadata": {},
   "source": [
    "---"
   ]
  },
  {
   "cell_type": "markdown",
   "metadata": {},
   "source": [
    "## Шаг 5. Вывод и рекомендации по работе с клиентами фитнес клуба"
   ]
  },
  {
   "cell_type": "markdown",
   "metadata": {},
   "source": [
    "* 1. Сформулируйте основные выводы и предложите рекомендации для стратегии взаимодействия с пользователями и их удержания.\n",
    "* 2. Не описывайте стратегию детально: достаточно 3-4 важных принципов и примеров их реализации в виде определённых маркетинговых действий."
   ]
  },
  {
   "cell_type": "markdown",
   "metadata": {},
   "source": [
    "### Маркетинговые действия можно разделить на 3 части:\n",
    "\n",
    "\n",
    "#### 1. Работа с текущими, не отточными клиентами\n",
    " * Скорее всего таких клиентов все устраивает, остается держать сервис на таком же уровне или стараться его совершенствовать\n",
    "\n",
    "#### 2. Работа с клиентами, которые попадают в отток\n",
    " * Таких клиентов можно сегментировать в зависимости от вероятности соответствия оттоку.\n",
    "     * __Высокая вероятность оттока__ - можно позвонить и попросить поделиться, что не устраивает клиента, предложить скидку или подарок. \n",
    "     * __Средняя вероятность оттока__ - прислать по смс/пуш/почте купон на небольшой скидкой и просьбой пройти опрос о качестве сервиса\n",
    "    \n",
    "     * __Низкая вероятность оттока__ - выделить в отдельную базу ремаркетинга и работать на лояльность\n",
    "     \n",
    " * Отдельный вопрос, который меня интересует - если мы сможем у клиентов с высокой вероятностью оттока поменять значение признаков, скажем, после маркетинговых действий они начнут больше тратить денег на доп услуги и чаще посещать фитнес. Значит ли это, что клент действительно станет не отточным не только для модели, но и фактически? Тут есть опасность того, что услуги будут агрессивно навязываться, чтобы улучшить метрики и так не лояльному клиенту. \n",
    "\n",
    "#### 3. Привлечение новых клиентов\n",
    " * Если закупать рекламу, то стараться чтобы портрет пользователя соответствовал не отточному портрету, на столько, на сколько это возможно.\n",
    " * Смотреть, чтобы доля клиентов в базе наращивалась именно по сегментам с неотточными признаками.\n",
    " * К примеру, в таргетированной или контекстной рекламе можно понижать ставки на определенные интересы, смотря на аффинити-индекс.\n",
    " * В аудиторных закупках подбирать правильные характеристики.\n",
    " * Попробовать предиктить оттока как можно раньше и строить наилучший и нахудший сценарии, для прогнозирования финансовых показателей"
   ]
  },
  {
   "cell_type": "code",
   "execution_count": null,
   "metadata": {},
   "outputs": [],
   "source": []
  }
 ],
 "metadata": {
  "hide_input": false,
  "kernelspec": {
   "display_name": "Python 3",
   "language": "python",
   "name": "python3"
  },
  "language_info": {
   "codemirror_mode": {
    "name": "ipython",
    "version": 3
   },
   "file_extension": ".py",
   "mimetype": "text/x-python",
   "name": "python",
   "nbconvert_exporter": "python",
   "pygments_lexer": "ipython3",
   "version": "3.7.2"
  }
 },
 "nbformat": 4,
 "nbformat_minor": 2
}
