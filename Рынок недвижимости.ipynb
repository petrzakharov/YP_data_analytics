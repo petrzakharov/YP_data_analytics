{
 "cells": [
  {
   "cell_type": "markdown",
   "metadata": {},
   "source": [
    "# Исследование объявлений о продаже квартир\n",
    "\n",
    "## Задание_1\n",
    "\n",
    "* По каждой продаваемой квартире у вас есть два вида данных. Первые — вносили сами пользователи при публикации объявлений, вторые — получены на основе картографических данных: расстояния до центра, аэропорта, ближайшего парка и водоёма.\n",
    "\n",
    "### Шаг 1. Начните исследование\n",
    "* Откройте файл с данными и изучите общую информацию\n",
    "* Путь к файлу: /datasets/real_estate_data.csv\n",
    "\n",
    "____\n",
    "\n",
    "### Шаг 2. Подготовьте данные\n",
    "* определите и заполните пропущенные значения;\n",
    "* приведите данные к нужным типам.\n",
    "\n",
    "#### Посчитайте и добавьте в таблицу:\n",
    "* цену квадратного метра;\n",
    "* день недели, месяц и год публикации объявления;\n",
    "* этаж, на котором расположена квартира; варианты — первый, последний, другой;\n",
    "* соотношение жилой и общей площади, а также отношение площади кухни к общей.\n",
    "\n",
    "#### Поясните:\n",
    "* какие пропущенные значения обнаружены;\n",
    "* в чём возможные причины возникновения пропусков;\n",
    "* в каких столбцах потребовалось изменить тип данных и почему;\n",
    "* по какому принципу заполнены пропуски.\n",
    "______\n",
    "______\n",
    "\n",
    "## Задание_2. Опишите выводы\n",
    "\n",
    "### Шаг 1. Проведите исследовательский анализ данных и ответьте на вопросы:\n",
    "\n",
    "* Каковы типичные параметры продаваемых квартир (например, площадь, цена)? \n",
    "* Укажите наиболее важные характеристики и постройте графики.\n",
    "* Сколько обычно длится процесс продажи?\n",
    " \n",
    "\n",
    "#### Уберите квартиры с очень высокой ценой и другими необычными параметрами. Опишите, какие особенности обнаружили.\n",
    "\n",
    "#### Какие факторы больше всего влияют на стоимость квартиры? Отдельно изучите:\n",
    "    1. зависит ли цена квадратного метра от числа комнат\n",
    "    2. этажа (первого или последнего)\n",
    "    3. удалённости от центра\n",
    "    4. даты размещения: дня недели, месяца и года.\n",
    "    \n",
    "\n",
    "\n",
    "#### Что можно сказать о цене квадратного метра в пригородах?\n",
    "* Выберите 10 населённых пунктов с наибольшим числом объявлений. Эти данные можно отличить по имени в столбце 'locality_name'.\n",
    "\n",
    "\n",
    "#### Выделите сегменты типичных квартир в центре (по удалённости, числу комнат и площади) и вне центра. \n",
    "* Границы определите самостоятельно. Выберите достаточно крупные сегменты с не менее 1000 объявлений. Сравните корреляцию основных факторов с ценой по всем предложениям и объявлениям в вашей выборке.\n",
    "\n",
    "\n",
    "#### Подберите наиболее характерные параметры для апартаментов, студий и квартир свободной планировки. \n",
    "* Влияют ли они на цену? Сравните со схожими параметрами квартир типовой планировки.\n",
    "\n",
    "____\n",
    "\n",
    "### Шаг 2. Напишите общий вывод\n",
    "\n",
    "____"
   ]
  },
  {
   "cell_type": "markdown",
   "metadata": {},
   "source": [
    "### Описание данных\n",
    "* airports_nearest — расстояние до ближайшего аэропорта в метрах (м)\n",
    "* balcony — число балконов\n",
    "* ceiling_height — высота потолков (м)\n",
    "* cityCenters_nearest — расстояние до центра города (м)\n",
    "* days_exposition — сколько дней было размещено объявление (от публикации до снятия)\n",
    "* first_day_exposition — дата публикации\n",
    "* floor — этаж\n",
    "* floors_total — всего этажей в доме\n",
    "* is_apartment — апартаменты (булев тип)\n",
    "* kitchen_area — площадь кухни (м²)\n",
    "* last_price — цена на момент снятия с публикации\n",
    "* living_area — жилая площадь (м²)\n",
    "* locality_name — название населённого пункта\n",
    "* open_plan — свободная планировка (булев тип)\n",
    "* parks_around3000 — число парков в радиусе 3 км\n",
    "* parks_nearest — расстояние до ближайшего парка (м)\n",
    "* ponds_around3000 — число водоёмов в радиусе 3 км\n",
    "* ponds_nearest — расстояние до ближайшего водоёма (м)\n",
    "* rooms — число комнат\n",
    "* studio — квартира-студия (булев тип)\n",
    "* total_area — площадь квартиры в квадратных метрах (м²)\n",
    "* total_images — число фотографий квартиры в объявлении"
   ]
  },
  {
   "cell_type": "markdown",
   "metadata": {},
   "source": [
    "-----\n",
    "-----\n"
   ]
  },
  {
   "cell_type": "markdown",
   "metadata": {},
   "source": [
    "# Задание_1"
   ]
  },
  {
   "cell_type": "markdown",
   "metadata": {},
   "source": [
    "## Шаг 1. Начните исследование"
   ]
  },
  {
   "cell_type": "code",
   "execution_count": 1,
   "metadata": {},
   "outputs": [],
   "source": [
    "import pandas as pd\n",
    "import numpy as np\n",
    "from datetime import datetime\n",
    "#настройки отображения столбцов и строк в датафрейме\n",
    "pd.set_option('display.max_columns', 100)\n",
    "pd.set_option('display.max_rows', 10000)\n",
    "#отключаю предупреждения\n",
    "import warnings\n",
    "warnings.simplefilter(action='ignore', category=FutureWarning)\n",
    "from pymystem3 import Mystem\n",
    "from collections import Counter"
   ]
  },
  {
   "cell_type": "code",
   "execution_count": 2,
   "metadata": {},
   "outputs": [],
   "source": [
    "#Добавляем правильный разделитель\n",
    "df = pd.read_csv('/datasets/real_estate_data.csv', delimiter='\\t')"
   ]
  },
  {
   "cell_type": "code",
   "execution_count": 3,
   "metadata": {
    "scrolled": false
   },
   "outputs": [
    {
     "data": {
      "text/html": [
       "<div>\n",
       "<style scoped>\n",
       "    .dataframe tbody tr th:only-of-type {\n",
       "        vertical-align: middle;\n",
       "    }\n",
       "\n",
       "    .dataframe tbody tr th {\n",
       "        vertical-align: top;\n",
       "    }\n",
       "\n",
       "    .dataframe thead th {\n",
       "        text-align: right;\n",
       "    }\n",
       "</style>\n",
       "<table border=\"1\" class=\"dataframe\">\n",
       "  <thead>\n",
       "    <tr style=\"text-align: right;\">\n",
       "      <th></th>\n",
       "      <th>building_series_id</th>\n",
       "      <th>total_images</th>\n",
       "      <th>last_price</th>\n",
       "      <th>total_area</th>\n",
       "      <th>first_day_exposition</th>\n",
       "      <th>rooms</th>\n",
       "      <th>ceiling_height</th>\n",
       "      <th>floors_total</th>\n",
       "      <th>living_area</th>\n",
       "      <th>floor</th>\n",
       "      <th>is_apartment</th>\n",
       "      <th>studio</th>\n",
       "      <th>area</th>\n",
       "      <th>open_plan</th>\n",
       "      <th>kitchen_area</th>\n",
       "      <th>balcony</th>\n",
       "      <th>locality_name</th>\n",
       "      <th>airports_nearest</th>\n",
       "      <th>cityCenters_nearest</th>\n",
       "      <th>parks_around3000</th>\n",
       "      <th>parks_nearest</th>\n",
       "      <th>ponds_around3000</th>\n",
       "      <th>ponds_nearest</th>\n",
       "      <th>days_exposition</th>\n",
       "    </tr>\n",
       "  </thead>\n",
       "  <tbody>\n",
       "    <tr>\n",
       "      <th>0</th>\n",
       "      <td>1564812</td>\n",
       "      <td>20</td>\n",
       "      <td>13000000.0</td>\n",
       "      <td>108.0</td>\n",
       "      <td>2019-03-07T00:00:00</td>\n",
       "      <td>3</td>\n",
       "      <td>2.70</td>\n",
       "      <td>16.0</td>\n",
       "      <td>51.0</td>\n",
       "      <td>8</td>\n",
       "      <td>NaN</td>\n",
       "      <td>False</td>\n",
       "      <td>108.0</td>\n",
       "      <td>False</td>\n",
       "      <td>25.0</td>\n",
       "      <td>NaN</td>\n",
       "      <td>Санкт-Петербург</td>\n",
       "      <td>18863.0</td>\n",
       "      <td>16028.0</td>\n",
       "      <td>1.0</td>\n",
       "      <td>482.0</td>\n",
       "      <td>2.0</td>\n",
       "      <td>755.0</td>\n",
       "      <td>NaN</td>\n",
       "    </tr>\n",
       "    <tr>\n",
       "      <th>1</th>\n",
       "      <td>NaN</td>\n",
       "      <td>7</td>\n",
       "      <td>3350000.0</td>\n",
       "      <td>40.4</td>\n",
       "      <td>2018-12-04T00:00:00</td>\n",
       "      <td>1</td>\n",
       "      <td>NaN</td>\n",
       "      <td>11.0</td>\n",
       "      <td>18.6</td>\n",
       "      <td>1</td>\n",
       "      <td>NaN</td>\n",
       "      <td>False</td>\n",
       "      <td>40.4</td>\n",
       "      <td>False</td>\n",
       "      <td>11.0</td>\n",
       "      <td>2.0</td>\n",
       "      <td>посёлок Шушары</td>\n",
       "      <td>12817.0</td>\n",
       "      <td>18603.0</td>\n",
       "      <td>0.0</td>\n",
       "      <td>NaN</td>\n",
       "      <td>0.0</td>\n",
       "      <td>NaN</td>\n",
       "      <td>81.0</td>\n",
       "    </tr>\n",
       "    <tr>\n",
       "      <th>2</th>\n",
       "      <td>Сталинский</td>\n",
       "      <td>10</td>\n",
       "      <td>5196000.0</td>\n",
       "      <td>56.0</td>\n",
       "      <td>2015-08-20T00:00:00</td>\n",
       "      <td>2</td>\n",
       "      <td>NaN</td>\n",
       "      <td>5.0</td>\n",
       "      <td>34.3</td>\n",
       "      <td>4</td>\n",
       "      <td>NaN</td>\n",
       "      <td>False</td>\n",
       "      <td>56.0</td>\n",
       "      <td>False</td>\n",
       "      <td>8.3</td>\n",
       "      <td>0.0</td>\n",
       "      <td>Санкт-Петербург</td>\n",
       "      <td>21741.0</td>\n",
       "      <td>13933.0</td>\n",
       "      <td>1.0</td>\n",
       "      <td>90.0</td>\n",
       "      <td>2.0</td>\n",
       "      <td>574.0</td>\n",
       "      <td>558.0</td>\n",
       "    </tr>\n",
       "    <tr>\n",
       "      <th>3</th>\n",
       "      <td>NaN</td>\n",
       "      <td>0</td>\n",
       "      <td>64900000.0</td>\n",
       "      <td>159.0</td>\n",
       "      <td>2015-07-24T00:00:00</td>\n",
       "      <td>3</td>\n",
       "      <td>NaN</td>\n",
       "      <td>14.0</td>\n",
       "      <td>NaN</td>\n",
       "      <td>9</td>\n",
       "      <td>NaN</td>\n",
       "      <td>False</td>\n",
       "      <td>159.0</td>\n",
       "      <td>False</td>\n",
       "      <td>NaN</td>\n",
       "      <td>0.0</td>\n",
       "      <td>Санкт-Петербург</td>\n",
       "      <td>28098.0</td>\n",
       "      <td>6800.0</td>\n",
       "      <td>2.0</td>\n",
       "      <td>84.0</td>\n",
       "      <td>3.0</td>\n",
       "      <td>234.0</td>\n",
       "      <td>424.0</td>\n",
       "    </tr>\n",
       "    <tr>\n",
       "      <th>4</th>\n",
       "      <td>NaN</td>\n",
       "      <td>2</td>\n",
       "      <td>10000000.0</td>\n",
       "      <td>100.0</td>\n",
       "      <td>2018-06-19T00:00:00</td>\n",
       "      <td>2</td>\n",
       "      <td>3.03</td>\n",
       "      <td>14.0</td>\n",
       "      <td>32.0</td>\n",
       "      <td>13</td>\n",
       "      <td>NaN</td>\n",
       "      <td>False</td>\n",
       "      <td>100.0</td>\n",
       "      <td>False</td>\n",
       "      <td>41.0</td>\n",
       "      <td>NaN</td>\n",
       "      <td>Санкт-Петербург</td>\n",
       "      <td>31856.0</td>\n",
       "      <td>8098.0</td>\n",
       "      <td>2.0</td>\n",
       "      <td>112.0</td>\n",
       "      <td>1.0</td>\n",
       "      <td>48.0</td>\n",
       "      <td>121.0</td>\n",
       "    </tr>\n",
       "  </tbody>\n",
       "</table>\n",
       "</div>"
      ],
      "text/plain": [
       "  building_series_id  total_images  last_price  total_area  \\\n",
       "0            1564812            20  13000000.0       108.0   \n",
       "1                NaN             7   3350000.0        40.4   \n",
       "2         Сталинский            10   5196000.0        56.0   \n",
       "3                NaN             0  64900000.0       159.0   \n",
       "4                NaN             2  10000000.0       100.0   \n",
       "\n",
       "  first_day_exposition  rooms  ceiling_height  floors_total  living_area  \\\n",
       "0  2019-03-07T00:00:00      3            2.70          16.0         51.0   \n",
       "1  2018-12-04T00:00:00      1             NaN          11.0         18.6   \n",
       "2  2015-08-20T00:00:00      2             NaN           5.0         34.3   \n",
       "3  2015-07-24T00:00:00      3             NaN          14.0          NaN   \n",
       "4  2018-06-19T00:00:00      2            3.03          14.0         32.0   \n",
       "\n",
       "   floor is_apartment  studio   area  open_plan  kitchen_area  balcony  \\\n",
       "0      8          NaN   False  108.0      False          25.0      NaN   \n",
       "1      1          NaN   False   40.4      False          11.0      2.0   \n",
       "2      4          NaN   False   56.0      False           8.3      0.0   \n",
       "3      9          NaN   False  159.0      False           NaN      0.0   \n",
       "4     13          NaN   False  100.0      False          41.0      NaN   \n",
       "\n",
       "     locality_name  airports_nearest  cityCenters_nearest  parks_around3000  \\\n",
       "0  Санкт-Петербург           18863.0              16028.0               1.0   \n",
       "1   посёлок Шушары           12817.0              18603.0               0.0   \n",
       "2  Санкт-Петербург           21741.0              13933.0               1.0   \n",
       "3  Санкт-Петербург           28098.0               6800.0               2.0   \n",
       "4  Санкт-Петербург           31856.0               8098.0               2.0   \n",
       "\n",
       "   parks_nearest  ponds_around3000  ponds_nearest  days_exposition  \n",
       "0          482.0               2.0          755.0              NaN  \n",
       "1            NaN               0.0            NaN             81.0  \n",
       "2           90.0               2.0          574.0            558.0  \n",
       "3           84.0               3.0          234.0            424.0  \n",
       "4          112.0               1.0           48.0            121.0  "
      ]
     },
     "execution_count": 3,
     "metadata": {},
     "output_type": "execute_result"
    }
   ],
   "source": [
    "df.head()"
   ]
  },
  {
   "cell_type": "markdown",
   "metadata": {},
   "source": [
    "____\n",
    "____"
   ]
  },
  {
   "cell_type": "markdown",
   "metadata": {},
   "source": [
    "## Шаг 2. Подготовьте данные"
   ]
  },
  {
   "cell_type": "markdown",
   "metadata": {},
   "source": [
    "### Посмотрим формат данных в столбцах"
   ]
  },
  {
   "cell_type": "code",
   "execution_count": 4,
   "metadata": {
    "scrolled": false
   },
   "outputs": [
    {
     "name": "stdout",
     "output_type": "stream",
     "text": [
      "<class 'pandas.core.frame.DataFrame'>\n",
      "RangeIndex: 23699 entries, 0 to 23698\n",
      "Data columns (total 24 columns):\n",
      "building_series_id      6517 non-null object\n",
      "total_images            23699 non-null int64\n",
      "last_price              23699 non-null float64\n",
      "total_area              23699 non-null float64\n",
      "first_day_exposition    23699 non-null object\n",
      "rooms                   23699 non-null int64\n",
      "ceiling_height          14504 non-null float64\n",
      "floors_total            23613 non-null float64\n",
      "living_area             21796 non-null float64\n",
      "floor                   23699 non-null int64\n",
      "is_apartment            2775 non-null object\n",
      "studio                  23699 non-null bool\n",
      "area                    23699 non-null float64\n",
      "open_plan               23699 non-null bool\n",
      "kitchen_area            21421 non-null float64\n",
      "balcony                 12180 non-null float64\n",
      "locality_name           23650 non-null object\n",
      "airports_nearest        18157 non-null float64\n",
      "cityCenters_nearest     18180 non-null float64\n",
      "parks_around3000        18181 non-null float64\n",
      "parks_nearest           8079 non-null float64\n",
      "ponds_around3000        18181 non-null float64\n",
      "ponds_nearest           9110 non-null float64\n",
      "days_exposition         20518 non-null float64\n",
      "dtypes: bool(2), float64(15), int64(3), object(4)\n",
      "memory usage: 4.0+ MB\n"
     ]
    }
   ],
   "source": [
    "df.info()"
   ]
  },
  {
   "cell_type": "code",
   "execution_count": 5,
   "metadata": {},
   "outputs": [
    {
     "data": {
      "text/plain": [
       "(23699, 24)"
      ]
     },
     "execution_count": 5,
     "metadata": {},
     "output_type": "execute_result"
    }
   ],
   "source": [
    "df.shape"
   ]
  },
  {
   "cell_type": "markdown",
   "metadata": {},
   "source": [
    "### Найдем долю пропущенных значений по столбцам от общего количество значений в столбце"
   ]
  },
  {
   "cell_type": "code",
   "execution_count": 4,
   "metadata": {
    "scrolled": false
   },
   "outputs": [
    {
     "data": {
      "text/plain": [
       "is_apartment            0.882906\n",
       "building_series_id      0.725009\n",
       "parks_nearest           0.659100\n",
       "ponds_nearest           0.615596\n",
       "balcony                 0.486054\n",
       "ceiling_height          0.387991\n",
       "airports_nearest        0.233850\n",
       "cityCenters_nearest     0.232879\n",
       "ponds_around3000        0.232837\n",
       "parks_around3000        0.232837\n",
       "days_exposition         0.134225\n",
       "kitchen_area            0.096122\n",
       "living_area             0.080299\n",
       "floors_total            0.003629\n",
       "locality_name           0.002068\n",
       "area                    0.000000\n",
       "open_plan               0.000000\n",
       "floor                   0.000000\n",
       "rooms                   0.000000\n",
       "first_day_exposition    0.000000\n",
       "total_area              0.000000\n",
       "last_price              0.000000\n",
       "total_images            0.000000\n",
       "studio                  0.000000\n",
       "dtype: float64"
      ]
     },
     "execution_count": 4,
     "metadata": {},
     "output_type": "execute_result"
    }
   ],
   "source": [
    "(df.isna().sum()/df.shape[0]).sort_values(ascending=False)"
   ]
  },
  {
   "cell_type": "markdown",
   "metadata": {},
   "source": [
    "### Для упрощения агрегаций, заменю True и False на 0 и 1."
   ]
  },
  {
   "cell_type": "code",
   "execution_count": 5,
   "metadata": {},
   "outputs": [],
   "source": [
    "df['is_apartment'] = df['is_apartment'].map({True: 1, False: 0})\n",
    "df['studio'] = df['studio'].map({True: 1, False: 0})\n",
    "df['open_plan'] = df['open_plan'].map({True: 1, False: 0})"
   ]
  },
  {
   "cell_type": "markdown",
   "metadata": {},
   "source": [
    "-----"
   ]
  },
  {
   "cell_type": "markdown",
   "metadata": {},
   "source": [
    "## Замена NaN в is_apartment\n",
    "* В соответствии с официальной позицией, в датасете все объекты - жилая недвижимость, включая апартаменты.\n",
    "* Причина NaN в апартаментах - это не указанный False"
   ]
  },
  {
   "cell_type": "code",
   "execution_count": 7,
   "metadata": {},
   "outputs": [],
   "source": [
    "df.is_apartment = df.is_apartment.fillna(0)"
   ]
  },
  {
   "cell_type": "code",
   "execution_count": 8,
   "metadata": {
    "scrolled": true
   },
   "outputs": [
    {
     "data": {
      "text/plain": [
       "0       23649\n",
       "True       50\n",
       "Name: is_apartment, dtype: int64"
      ]
     },
     "execution_count": 8,
     "metadata": {},
     "output_type": "execute_result"
    }
   ],
   "source": [
    "df.is_apartment.value_counts()"
   ]
  },
  {
   "cell_type": "markdown",
   "metadata": {},
   "source": [
    "### Поменяем тип на int, float избыточен для хранения 1 и 0"
   ]
  },
  {
   "cell_type": "code",
   "execution_count": 8,
   "metadata": {},
   "outputs": [],
   "source": [
    "df.is_apartment = df.is_apartment.astype('int16')"
   ]
  },
  {
   "cell_type": "markdown",
   "metadata": {},
   "source": [
    "--------"
   ]
  },
  {
   "cell_type": "markdown",
   "metadata": {},
   "source": [
    "## Замена NaN в building_series_id и чистка данных\n",
    "\n",
    "* Данные в столбце building_series_id категориальные, но есть ошибки и пропущенные значения. Что возможно, приведем в отдельный вид с помощью трансформации данных и лемматизации. \n",
    "* Сохраним номера серий домов, тк внутри серий у похожих квартир одинаковые параметры, __это поможет нам восстановить данные в других столбцах более точно.__"
   ]
  },
  {
   "cell_type": "code",
   "execution_count": 11,
   "metadata": {
    "scrolled": false
   },
   "outputs": [
    {
     "data": {
      "text/plain": [
       "array(['1564812', nan, 'Сталинский', '1568627.0', '1564812.0',\n",
       "       '1568643.0', '1564806.0', '1564796.0', '1569038.0', '1564801.0',\n",
       "       '1564801', '1569071.0', '1564792', 'Панельный', '1569071',\n",
       "       '1564792.0', '1569054.0', '1569033.0', '504', '1569066',\n",
       "       '600.11 серия', '1568690.0', '1564806', '712041.0', 'Брежневка',\n",
       "       '1568627', '1568663.0', 'Старый фонд с КР', '1568734.0',\n",
       "       '137 серия', 'сталинский', '712041', '1569066.0', 'Хрущевка',\n",
       "       '600', '1569033', '1568675.0', 'Кирпичный монолит', '1564796',\n",
       "       'Индивидуальный', 'старый фонд', 'кирп.монолит', 'Кирпичный',\n",
       "       '1568663', 'Старый фонд', '1568658', 'Кирп.Монолит', '1569075.0',\n",
       "       '1568658.0', '7', '1569038', '1569054', '1569061.0',\n",
       "       '121 (Гатчинская)', '1568675', '602 серия', '1 ЛГ - 600.11', '137',\n",
       "       '606 серия', '1569088.0', '1569048.0', '100', '1568643',\n",
       "       '1569041.0', '121', '1569079.0', '1569041', 'хрущевка', 'Блочный',\n",
       "       'старый фонд + капремонт', 'монолит', 'кирпичный', '1ЛГ-502',\n",
       "       '121(Гатчинская)', 'II-18/9', '13', '1568653', '1-528 КП - 2',\n",
       "       '1569088', '504 серия', 'брежневка', 'Монол.Панельный', 'Корабль',\n",
       "       '1568653.0', '121 гатчинская', '1568700', '1568690', '1ЛГ-6066М',\n",
       "       '1-335-1', '1568700.0', '1-528-КП-97', '606',\n",
       "       'Бесшовная технология', '1568734', '600.11', '1568708.0',\n",
       "       'Монолит', 'ИТП', '1568709.0', '663278.0', 'индивидуальный',\n",
       "       '504.0', '14', '1569079', '1569061', '1569048',\n",
       "       'Старый фонд без КР', 'блочный', '121(гатчинская)', 'корабль',\n",
       "       'Индивидуальный проект', 'ОД-6', '15', 'Г-24', '504Д',\n",
       "       'старый фонд с кр', 'Индивид.', '12', 'Г-2И', '1-ЛГ-600-I', '16',\n",
       "       '121.0'], dtype=object)"
      ]
     },
     "execution_count": 11,
     "metadata": {},
     "output_type": "execute_result"
    }
   ],
   "source": [
    "df.building_series_id.unique()"
   ]
  },
  {
   "cell_type": "code",
   "execution_count": 9,
   "metadata": {},
   "outputs": [
    {
     "data": {
      "text/plain": [
       "121"
      ]
     },
     "execution_count": 9,
     "metadata": {},
     "output_type": "execute_result"
    }
   ],
   "source": [
    "# изначальное количество уникальных групп в сериях домов\n",
    "df.building_series_id.nunique()"
   ]
  },
  {
   "cell_type": "markdown",
   "metadata": {},
   "source": [
    "### Удалим добавки к сериям, чтобы отнести записи к бОльшей группе с правильным написанием серии"
   ]
  },
  {
   "cell_type": "code",
   "execution_count": 10,
   "metadata": {},
   "outputs": [],
   "source": [
    "df.building_series_id = df.building_series_id.str.replace(' серия','')\n",
    "df.building_series_id = df.building_series_id.str.replace('1 ЛГ - ','')\n",
    "df.building_series_id = df.building_series_id.str.replace('1ЛГ-','')"
   ]
  },
  {
   "cell_type": "markdown",
   "metadata": {},
   "source": [
    "### Избавимся от типа str(float) и переведем числовые значения в int, чтобы объединить данные и убрать десятичную часть"
   ]
  },
  {
   "cell_type": "code",
   "execution_count": 11,
   "metadata": {},
   "outputs": [],
   "source": [
    "def float_to_int(row):\n",
    "    temp=0\n",
    "    try:\n",
    "        temp = int(float(row))\n",
    "    except:\n",
    "        temp = row\n",
    "    return temp"
   ]
  },
  {
   "cell_type": "markdown",
   "metadata": {},
   "source": [
    "----------\n",
    "\n",
    "## <span style=\"color:orange\">Комментарий от наставника</span>\n",
    "\n",
    "Всё-таки не очень мне нравится эта функция. Ты допускаешь, что при преобразовани внутри кода, у тебя упадёт с ошибкой. Почему не используешь преобразования типов со встроенными методами pandas вместо такой функции?\n",
    "\n",
    "---------\n",
    "#### В сериях домов содержаться смешанные данные - строковые и числовые, при этом часть числовых данных представлена как в str(float), так и в str(int). Чтобы объединить как можно больше групп, и посчитать более точные статистики, я использую (там где это возможно) перевод в int. Но от серий строкового типа (1-ЛГ и тд) все равно это не спасет, поэтому укрупняю группы которые возможно, с помощью конструкции try except.\n",
    "#### Добавил пример на скриншоте: http://joxi.ru/krDXLLXUKqdkgr"
   ]
  },
  {
   "cell_type": "code",
   "execution_count": 12,
   "metadata": {},
   "outputs": [],
   "source": [
    "df['building_series_id'] = df['building_series_id'].map(float_to_int)"
   ]
  },
  {
   "cell_type": "code",
   "execution_count": 13,
   "metadata": {},
   "outputs": [],
   "source": [
    "unique_type_of_houses = list(df.building_series_id.unique())"
   ]
  },
  {
   "cell_type": "code",
   "execution_count": 14,
   "metadata": {},
   "outputs": [
    {
     "data": {
      "text/plain": [
       "88"
      ]
     },
     "execution_count": 14,
     "metadata": {},
     "output_type": "execute_result"
    }
   ],
   "source": [
    "# проверим, получилось ли укрупнить группы\n",
    "df.building_series_id.nunique()"
   ]
  },
  {
   "cell_type": "markdown",
   "metadata": {},
   "source": [
    "----------\n",
    "\n",
    "## <span style=\"color:orange\">Комментарий от наставника</span>\n",
    "\n",
    "Обрати внимание, ты делаешь преобразование в Int, но твой столбец всё-равно на выходе строковый, пониаешь почему так получается? Что ты хотел сделать?\n",
    "\n",
    "---------\n",
    "#### Понимаю, пояснил этот момент вверху. Хочу укрупнить группы, чтобы считать более точные статистики для замены NaN, но в столбце даные смешанные типы данных - str(int) / str(float). Есть только один вариант это исправить с помощью try except"
   ]
  },
  {
   "cell_type": "code",
   "execution_count": 15,
   "metadata": {},
   "outputs": [
    {
     "data": {
      "text/plain": [
       "count        6517\n",
       "unique         88\n",
       "top       1564812\n",
       "freq         3805\n",
       "Name: building_series_id, dtype: int64"
      ]
     },
     "execution_count": 15,
     "metadata": {},
     "output_type": "execute_result"
    }
   ],
   "source": [
    "# Код наставника\n",
    "df['building_series_id'].describe()"
   ]
  },
  {
   "cell_type": "markdown",
   "metadata": {},
   "source": [
    "### Лемматизируем стринговые типы домов"
   ]
  },
  {
   "cell_type": "code",
   "execution_count": 16,
   "metadata": {},
   "outputs": [
    {
     "name": "stdout",
     "output_type": "stream",
     "text": [
      "Counter({', ': 26, \"', '\": 26, \", '\": 17, ' ': 17, \"', \": 16, '-': 13, 'старый': 6, 'фонд': 6, 'монолит': 5, '121': 5, '1': 5, '.': 4, 'гатчинский': 4, 'кирпичный': 3, 'индивидуальный': 3, 'сталинский': 2, 'панельный': 2, '600': 2, 'брежневка': 2, 'с': 2, 'КР': 2, 'хрущевка': 2, 'кирпа': 2, 'блочный': 2, '(': 2, \")', '\": 2, '528': 2, 'кп': 2, 'корабль': 2, 'г': 2, '[': 1, '1564812': 1, 'nan': 1, '1568627': 1, '1568643': 1, '1564806': 1, '1564796': 1, '1569038': 1, '1564801': 1, '1569071': 1, '1564792': 1, '1569054': 1, '1569033': 1, '504': 1, '1569066': 1, '1568690': 1, '712041': 1, '1568663': 1, '1568734': 1, '137': 1, '1568675': 1, '1568658': 1, '1569075': 1, '7': 1, '1569061': 1, ' (': 1, \")', \": 1, '602': 1, '606': 1, '1569088': 1, '1569048': 1, '100': 1, '1569041': 1, '1569079': 1, ' + ': 1, 'капремонт': 1, '502': 1, 'II': 1, '18': 1, '/': 1, '9': 1, '13': 1, '1568653': 1, ' - ': 1, '2': 1, 'монола': 1, '1568700': 1, '6066М': 1, '335': 1, '97': 1, 'бесшовный': 1, 'технология': 1, '1568708': 1, 'ИТП': 1, '1568709': 1, '663278': 1, '14': 1, 'без': 1, 'проект': 1, 'ода': 1, '6': 1, '15': 1, '24': 1, '504Д': 1, 'кр': 1, 'индивид': 1, '12': 1, '2И': 1, 'ЛГ': 1, 'I': 1, '16': 1, ']\\n': 1})\n"
     ]
    }
   ],
   "source": [
    "m = Mystem()\n",
    "lemmas = m.lemmatize(str(unique_type_of_houses))\n",
    "print(Counter(lemmas))"
   ]
  },
  {
   "cell_type": "code",
   "execution_count": 17,
   "metadata": {},
   "outputs": [],
   "source": [
    "df['building_series_id'] = df.building_series_id.apply(\n",
    "            lambda x: \n",
    "            'Индивидуальный проект' if 'индивид' in m.lemmatize(str(x)) or 'индивидуальный' in m.lemmatize(str(x))\n",
    "            else 'Кирпичный' if 'кирпа' in m.lemmatize(str(x)) or 'кирпичный' in m.lemmatize(str(x))\n",
    "            else 'Сталинский' if 'сталинский' in m.lemmatize(str(x))\n",
    "            else 'Хрущевка' if 'хрущевка' in m.lemmatize(str(x))\n",
    "            else 'Гатчинская' if 'гатчинский' in m.lemmatize(str(x))\n",
    "            else 'Корабль' if 'корабль' in m.lemmatize(str(x))\n",
    "            else 'Панельный' if 'панельный' in m.lemmatize(str(x))\n",
    "            else 'Блочный' if 'блочный' in m.lemmatize(str(x))\n",
    "            else 'Брежневский' if 'брежневка' in m.lemmatize(str(x))\n",
    "            else 'Старый фонд с ремонтом' if 'капремонт' in m.lemmatize(str(x)) or ('кр' in m.lemmatize(str(x))\n",
    "                                                                               and 'без' not in m.lemmatize(str(x)))                                                    \n",
    "            else 'Старый фонд без ремонта' if 'старый' in m.lemmatize(str(x))\n",
    "            else 'Монолитный' if 'монолит' in m.lemmatize(str(x))                                                                        \n",
    "            else x\n",
    "                                                      )"
   ]
  },
  {
   "cell_type": "code",
   "execution_count": 18,
   "metadata": {
    "scrolled": false
   },
   "outputs": [
    {
     "data": {
      "text/plain": [
       "array([1564812, nan, 'Сталинский', 1568627, 1568643, 1564806, 1564796,\n",
       "       1569038, 1564801, 1569071, 1564792, 'Панельный', 1569054, 1569033,\n",
       "       504, 1569066, 600, 1568690, 712041, 'Брежневский', 1568663,\n",
       "       'Старый фонд без ремонта', 1568734, 137, 'Хрущевка', 1568675,\n",
       "       'Кирпичный', 'Индивидуальный проект', 1568658, 1569075, 7, 1569061,\n",
       "       'Гатчинская', 602, 606, 1569088, 1569048, 100, 1569041, 121,\n",
       "       1569079, 'Блочный', 'Старый фонд с ремонтом', 'Монолитный', 502,\n",
       "       'II-18/9', 13, 1568653, '1-528 КП - 2', 'Корабль', 1568700,\n",
       "       '6066М', '1-335-1', '1-528-КП-97', 'Бесшовная технология', 1568708,\n",
       "       'ИТП', 1568709, 663278, 14, 'ОД-6', 15, 'Г-24', '504Д', 12, 'Г-2И',\n",
       "       '1-ЛГ-600-I', 16], dtype=object)"
      ]
     },
     "execution_count": 18,
     "metadata": {},
     "output_type": "execute_result"
    }
   ],
   "source": [
    "#посмотрим, не пропустили ли мы что-то еще\n",
    "df.building_series_id.unique()"
   ]
  },
  {
   "cell_type": "markdown",
   "metadata": {},
   "source": [
    "### Нам удалось снизить количество категорий почти в 2 раза, это должно помочь нам при замене пропущенных значений в других признаках"
   ]
  },
  {
   "cell_type": "code",
   "execution_count": 19,
   "metadata": {},
   "outputs": [
    {
     "data": {
      "text/plain": [
       "67"
      ]
     },
     "execution_count": 19,
     "metadata": {},
     "output_type": "execute_result"
    }
   ],
   "source": [
    "df.building_series_id.nunique()"
   ]
  },
  {
   "cell_type": "markdown",
   "metadata": {},
   "source": [
    "----------\n",
    "\n",
    "## <span style=\"color:red\">Комментарий от наставника</span>\n",
    "\n",
    "Ну ты и заморочился - на первый взгляд это излишне\n",
    "\n",
    "---------"
   ]
  },
  {
   "cell_type": "markdown",
   "metadata": {},
   "source": [
    "### Заменим NaN в building_series_id на 'Серия неизвестна'"
   ]
  },
  {
   "cell_type": "code",
   "execution_count": 20,
   "metadata": {},
   "outputs": [],
   "source": [
    "df.building_series_id = df.building_series_id.fillna('Серия неизвестна')"
   ]
  },
  {
   "cell_type": "markdown",
   "metadata": {},
   "source": [
    "### Проверим, не осталось ли еще что-то"
   ]
  },
  {
   "cell_type": "code",
   "execution_count": 21,
   "metadata": {},
   "outputs": [
    {
     "data": {
      "text/plain": [
       "0"
      ]
     },
     "execution_count": 21,
     "metadata": {},
     "output_type": "execute_result"
    }
   ],
   "source": [
    "df.building_series_id.isna().sum()"
   ]
  },
  {
   "cell_type": "markdown",
   "metadata": {},
   "source": [
    "-------"
   ]
  },
  {
   "cell_type": "markdown",
   "metadata": {},
   "source": [
    "## Замена NaN в floors_total"
   ]
  },
  {
   "cell_type": "markdown",
   "metadata": {},
   "source": [
    "### Простыми методами floors_total возможно восстановить исходя из серии дома\n",
    "* Посмотрим сколько NaN значений и какие у них серии"
   ]
  },
  {
   "cell_type": "code",
   "execution_count": 22,
   "metadata": {
    "scrolled": false
   },
   "outputs": [
    {
     "data": {
      "text/plain": [
       "building_series_id\n",
       "1564812              6\n",
       "Серия неизвестна    80\n",
       "Name: last_price, dtype: int64"
      ]
     },
     "execution_count": 22,
     "metadata": {},
     "output_type": "execute_result"
    }
   ],
   "source": [
    "df.query('floors_total == \"nan\"').groupby('building_series_id').count().iloc[:,1]"
   ]
  },
  {
   "cell_type": "markdown",
   "metadata": {},
   "source": [
    "### Отлично, 6 значений можно восстановить по серии дома\n",
    "* посмотрим как распределяются данные по высоте этажей в этой серии дома"
   ]
  },
  {
   "cell_type": "code",
   "execution_count": 24,
   "metadata": {
    "scrolled": true
   },
   "outputs": [
    {
     "data": {
      "text/plain": [
       "<matplotlib.axes._subplots.AxesSubplot at 0x7f72bc22d860>"
      ]
     },
     "execution_count": 24,
     "metadata": {},
     "output_type": "execute_result"
    },
    {
     "data": {
      "image/png": "[encoded data removed]",
      "text/plain": [
       "<Figure size 432x288 with 1 Axes>"
      ]
     },
     "metadata": {
      "needs_background": "light"
     },
     "output_type": "display_data"
    }
   ],
   "source": [
    "df[df.building_series_id == 1564812]['floors_total'].hist()"
   ]
  },
  {
   "cell_type": "markdown",
   "metadata": {},
   "source": [
    "### Хм, даже внутри одной серии домов количество этажей всего сильно отличается, для замены буду 25 этажей, тк это подходит для всех 6 NaN значений.\n",
    "### Т.к. учитывая их значения в фиче floor (этаж объекта), мода и медиана внутри серии не подходит:"
   ]
  },
  {
   "cell_type": "code",
   "execution_count": 25,
   "metadata": {},
   "outputs": [
    {
     "data": {
      "text/plain": [
       "<matplotlib.axes._subplots.AxesSubplot at 0x7f72b7f91be0>"
      ]
     },
     "execution_count": 25,
     "metadata": {},
     "output_type": "execute_result"
    },
    {
     "data": {
      "image/png": "[encoded data removed]",
      "text/plain": [
       "<Figure size 720x360 with 1 Axes>"
      ]
     },
     "metadata": {
      "needs_background": "light"
     },
     "output_type": "display_data"
    }
   ],
   "source": [
    "# Посмотрим на распределение значения по этой серии в floor, чтобы принять решение - \n",
    "# можем ли мы заменить floor_total на медиану/моду\n",
    "df\\\n",
    "      .query('floors_total == \"nan\" & building_series_id == 1564812')['floor']\\\n",
    "      .hist(range=(0,30),bins=25, figsize=(10,5), grid=True)"
   ]
  },
  {
   "cell_type": "code",
   "execution_count": 27,
   "metadata": {},
   "outputs": [
    {
     "data": {
      "text/plain": [
       "0    5.0\n",
       "dtype: float64"
      ]
     },
     "execution_count": 27,
     "metadata": {},
     "output_type": "execute_result"
    }
   ],
   "source": [
    "# не подходит для всех NaN в этой серии, меньше чем этаж квартиры\n",
    "\n",
    "df[df.building_series_id == 1564812]['floors_total'].mode()"
   ]
  },
  {
   "cell_type": "code",
   "execution_count": 28,
   "metadata": {
    "scrolled": false
   },
   "outputs": [
    {
     "data": {
      "text/plain": [
       "8.0"
      ]
     },
     "execution_count": 28,
     "metadata": {},
     "output_type": "execute_result"
    }
   ],
   "source": [
    "# не подходит для всех NaN в этой серии, меньше чем этаж квартиры\n",
    "\n",
    "df[df.building_series_id == 1564812]['floors_total'].median()"
   ]
  },
  {
   "cell_type": "markdown",
   "metadata": {},
   "source": [
    "### Произведем замену floors_total в серии 1564812 на 25 этажей (> значения floor по всем записям)"
   ]
  },
  {
   "cell_type": "code",
   "execution_count": 26,
   "metadata": {},
   "outputs": [],
   "source": [
    "df.loc[(df['floors_total'].isnull()) & (df['building_series_id']==1564812), 'floors_total'] = 25"
   ]
  },
  {
   "cell_type": "markdown",
   "metadata": {},
   "source": [
    "### Проверим что все прошло хорошо"
   ]
  },
  {
   "cell_type": "code",
   "execution_count": 27,
   "metadata": {},
   "outputs": [
    {
     "data": {
      "text/plain": [
       "0"
      ]
     },
     "execution_count": 27,
     "metadata": {},
     "output_type": "execute_result"
    }
   ],
   "source": [
    "df[df.building_series_id == 1564812]['floors_total'].isna().sum()"
   ]
  },
  {
   "cell_type": "markdown",
   "metadata": {},
   "source": [
    "### NaN значения в floors_total остались только по неизвестной серии. Посмотрим какой разброс значений по неизвестной серии домов. Возможно ли восстановить значение (медиана/среднее) floors_total или это будет нецелесообразно."
   ]
  },
  {
   "cell_type": "code",
   "execution_count": 32,
   "metadata": {},
   "outputs": [
    {
     "data": {
      "text/plain": [
       "Серия неизвестна    80\n",
       "Name: building_series_id, dtype: int64"
      ]
     },
     "execution_count": 32,
     "metadata": {},
     "output_type": "execute_result"
    }
   ],
   "source": [
    "df.loc[df['floors_total'].isnull(),'building_series_id'].value_counts()"
   ]
  },
  {
   "cell_type": "code",
   "execution_count": 33,
   "metadata": {},
   "outputs": [
    {
     "data": {
      "text/plain": [
       "array([[<matplotlib.axes._subplots.AxesSubplot object at 0x7f01dcaeb860>]],\n",
       "      dtype=object)"
      ]
     },
     "execution_count": 33,
     "metadata": {},
     "output_type": "execute_result"
    },
    {
     "data": {
      "image/png": "[encoded data removed]",
      "text/plain": [
       "<Figure size 432x288 with 1 Axes>"
      ]
     },
     "metadata": {
      "needs_background": "light"
     },
     "output_type": "display_data"
    }
   ],
   "source": [
    "df.query('building_series_id == \"Серия неизвестна\"').hist('floors_total', grid=True, bins=50, range=(0,40))"
   ]
  },
  {
   "cell_type": "markdown",
   "metadata": {},
   "source": [
    "### У гистограммы несколько пиков, и распределение не однородно. Похоже, что лучше будет удалить эти 80 значений (либо отметить числом индикатором 9999999)\n",
    "* При этом в этой части df где пропущено floors_total, мы не знаем серию, количество этажей и не сможем восстановить высоту потолков (на основе серии)"
   ]
  },
  {
   "cell_type": "markdown",
   "metadata": {},
   "source": [
    "### Удалим nan в группе неизвестной серии дома"
   ]
  },
  {
   "cell_type": "code",
   "execution_count": 29,
   "metadata": {},
   "outputs": [],
   "source": [
    "df = df.query('floors_total != \"nan\"')"
   ]
  },
  {
   "cell_type": "markdown",
   "metadata": {},
   "source": [
    "### Проверим что не осталось NaN значений в floors_total"
   ]
  },
  {
   "cell_type": "code",
   "execution_count": 30,
   "metadata": {},
   "outputs": [
    {
     "data": {
      "text/plain": [
       "0"
      ]
     },
     "execution_count": 30,
     "metadata": {},
     "output_type": "execute_result"
    }
   ],
   "source": [
    "df['floors_total'].isnull().sum()"
   ]
  },
  {
   "cell_type": "code",
   "execution_count": 36,
   "metadata": {},
   "outputs": [
    {
     "data": {
      "text/plain": [
       "array([16., 11.,  5., 14., 12., 26., 24., 27.,  9.,  6., 17., 25.,  3.,\n",
       "       23., 19., 18.,  4., 22.,  8.,  2., 10.,  7., 13., 15., 20., 28.,\n",
       "       36., 21., 35., 34., 60.,  1., 29., 33., 52., 37.])"
      ]
     },
     "execution_count": 36,
     "metadata": {},
     "output_type": "execute_result"
    }
   ],
   "source": [
    "#распечатаем уникальные значения\n",
    "df.floors_total.unique()"
   ]
  },
  {
   "cell_type": "markdown",
   "metadata": {},
   "source": [
    "----------\n",
    "\n",
    "## <span style=\"color:red\">Комментарий от наставника</span>\n",
    "\n",
    "Обратил внимание, что у тебя ручной режим замены для __floors_total__ - можно попробовать заполнять пропуски сгруппировав по типу дома.\n",
    "\n",
    "---------\n",
    "#### Согласен, у нас неизвестны floors_total в двух группах по известной серии и неизвестной серии. Выше построил гистограмму floors_total внутри известной серии дома, оказалось что у такой серии домов может быть разная этажность. Поэтому взял значение для замены, которое не противоречит всем 6 наблюдениям. floors_total >= floor (максимальное количество этажей не должно быть меньше этажа объекта)"
   ]
  },
  {
   "cell_type": "markdown",
   "metadata": {},
   "source": [
    "### Количество этажей представлены в типе float64, это избыточный тип для целых чисел. Переведем в int"
   ]
  },
  {
   "cell_type": "code",
   "execution_count": 31,
   "metadata": {},
   "outputs": [],
   "source": [
    "df.floors_total = df.floors_total.astype('int16')"
   ]
  },
  {
   "cell_type": "markdown",
   "metadata": {},
   "source": [
    "----------\n",
    "\n",
    "## <span style=\"color:red\">Комментарий от наставника</span>\n",
    "\n",
    "Возможно. Тебе будет полезна эта ссылка :) - https://www.kaggle.com/arjanso/reducing-dataframe-memory-size-by-65\n",
    "\n",
    "---------\n",
    "#### Понял, спасибо!"
   ]
  },
  {
   "cell_type": "markdown",
   "metadata": {},
   "source": [
    "------"
   ]
  },
  {
   "cell_type": "markdown",
   "metadata": {},
   "source": [
    "## Замена NaN в locality_name\n",
    "* Заменим на 'Локация неизвестна'"
   ]
  },
  {
   "cell_type": "code",
   "execution_count": 33,
   "metadata": {},
   "outputs": [],
   "source": [
    "df['locality_name'] = df['locality_name'].fillna('Локация неизвестна')"
   ]
  },
  {
   "cell_type": "markdown",
   "metadata": {},
   "source": [
    "### Посмотрим уникальные значения locality_name, чтобы проверить не нужно ли нам \"причесать\" данные, укрупнив группы.\n",
    "* Видим, что отдельно идет СПб, города вокруг СПб и \n",
    "    [деревня, село, поселок, посёлок, поселок городского типа, посёлок городского типа, городской поселок, городской посёлок, коттеджный\n",
    "    поселок, коттеджный посёлок].\n",
    "* Скорее всего, для дальнейшей работы полезно будет категоризировать тип населенного пункта.\n",
    "* Плюс к этому, __некоторые написания нуждаются в приведении к единой форме:__\n",
    "    1. городской поселок и поселок городского типа\n",
    "    2. поселок через ё и е"
   ]
  },
  {
   "cell_type": "code",
   "execution_count": 39,
   "metadata": {
    "scrolled": true
   },
   "outputs": [
    {
     "data": {
      "text/plain": [
       "Санкт-Петербург      15656\n",
       "посёлок Мурино         520\n",
       "посёлок Шушары         439\n",
       "Всеволожск             398\n",
       "Пушкин                 369\n",
       "Колпино                338\n",
       "посёлок Парголово      327\n",
       "Гатчина                307\n",
       "деревня Кудрово        299\n",
       "Выборг                 237\n",
       "Name: locality_name, dtype: int64"
      ]
     },
     "execution_count": 39,
     "metadata": {},
     "output_type": "execute_result"
    }
   ],
   "source": [
    "df.locality_name.value_counts().sort_values(ascending=False).head(10)"
   ]
  },
  {
   "cell_type": "markdown",
   "metadata": {},
   "source": [
    "### Заменим ё на е"
   ]
  },
  {
   "cell_type": "code",
   "execution_count": 34,
   "metadata": {},
   "outputs": [],
   "source": [
    "df.locality_name = df.locality_name.str.replace('ё','е')"
   ]
  },
  {
   "cell_type": "markdown",
   "metadata": {},
   "source": [
    "----------\n",
    "\n",
    "## <span style=\"color:red\">Комментарий от наставника</span>\n",
    "\n",
    "А зачем? :)\n",
    "\n",
    "---------\n",
    "#### Это было излишне, добавил вариант написания поселка в apply"
   ]
  },
  {
   "cell_type": "markdown",
   "metadata": {},
   "source": [
    "----------\n",
    "\n",
    "## <span style=\"color:orange\">Комментарий от наставника</span>\n",
    "\n",
    "Видимо не было излишне - это я сам не увидел, что посёлок из через е и через ё пишется.\n",
    "\n",
    "---------"
   ]
  },
  {
   "cell_type": "markdown",
   "metadata": {},
   "source": [
    "### Выделим тип населенного пункта\n",
    "* Порядок обработки важен, чтобы не писать доп условия. Вначале обрабатываем ПГТ, а потом поселок, тк обе строки включают в себя 'поселок'\n",
    "* СПб выделим в отдельную категорию, тк цены на недвижимость там должны значительно отличаться от городов спутников"
   ]
  },
  {
   "cell_type": "code",
   "execution_count": 35,
   "metadata": {},
   "outputs": [],
   "source": [
    "df['type_place'] = df.locality_name.apply(\n",
    "            lambda x:'Деревня' if 'деревня' in str(x)\n",
    "            else 'ПГТ' if 'городской' in str(x) or 'городского' in str(x)\n",
    "            else 'СПб' if 'Санкт-Петербург' in str(x)\n",
    "            else 'Поселок' if 'поселок' in str(x) or 'посёлок' in str(x)\n",
    "            else 'Село' if 'село' in str(x)\n",
    "            else 'СНТ' if 'товарищество' in str(x)\n",
    "            else 'КП' if 'коттеджный' in str(x)\n",
    "            else 'Локация неизвестна' if 'Локация неизвестна' in str(x)\n",
    "            else 'Город'\n",
    "                                        )"
   ]
  },
  {
   "cell_type": "code",
   "execution_count": 36,
   "metadata": {},
   "outputs": [
    {
     "data": {
      "text/plain": [
       "array(['СПб', 'Поселок', 'ПГТ', 'Город', 'Деревня', 'СНТ', 'Село',\n",
       "       'Локация неизвестна'], dtype=object)"
      ]
     },
     "execution_count": 36,
     "metadata": {},
     "output_type": "execute_result"
    }
   ],
   "source": [
    "df.type_place.unique()"
   ]
  },
  {
   "cell_type": "markdown",
   "metadata": {},
   "source": [
    "------"
   ]
  },
  {
   "cell_type": "markdown",
   "metadata": {},
   "source": [
    "## Замена NaN в ceiling_height\n",
    "* Как правило высота потолков зависит от типа дома(если не проводилось модификаций внутри квартиры)\n",
    "* Основываясь на этом будем проводить замену"
   ]
  },
  {
   "cell_type": "code",
   "execution_count": 37,
   "metadata": {
    "scrolled": true
   },
   "outputs": [
    {
     "data": {
      "text/plain": [
       "9119"
      ]
     },
     "execution_count": 37,
     "metadata": {},
     "output_type": "execute_result"
    }
   ],
   "source": [
    "#Количество пропущенных значений в ceiling_height\n",
    "df.ceiling_height.isna().sum()"
   ]
  },
  {
   "cell_type": "markdown",
   "metadata": {},
   "source": [
    "### Создадим отдельный датафрейм c данными по высоте потолка по каждой серии\n",
    "* где посчитаем для каждой серии дома min, max, median, стандартное отклонение и количество объектов в выборке"
   ]
  },
  {
   "cell_type": "code",
   "execution_count": 38,
   "metadata": {},
   "outputs": [],
   "source": [
    "df_ceiling_height = df[df['ceiling_height'].isnull()==False].groupby('building_series_id')\\\n",
    "    .agg({'ceiling_height':['min','max','median','mean','std','count']})"
   ]
  },
  {
   "cell_type": "markdown",
   "metadata": {},
   "source": [
    "### Наибольший разброс значений получается в группе по неизвестной серии, что неудивительно, туда могли войти квартиры из многих серий\n"
   ]
  },
  {
   "cell_type": "code",
   "execution_count": 39,
   "metadata": {
    "scrolled": true
   },
   "outputs": [
    {
     "data": {
      "text/html": [
       "<div>\n",
       "<style scoped>\n",
       "    .dataframe tbody tr th:only-of-type {\n",
       "        vertical-align: middle;\n",
       "    }\n",
       "\n",
       "    .dataframe tbody tr th {\n",
       "        vertical-align: top;\n",
       "    }\n",
       "\n",
       "    .dataframe thead th {\n",
       "        text-align: right;\n",
       "    }\n",
       "</style>\n",
       "<table border=\"1\" class=\"dataframe\">\n",
       "  <thead>\n",
       "    <tr style=\"text-align: right;\">\n",
       "      <th></th>\n",
       "      <th>ceiling_min</th>\n",
       "      <th>ceiling_max</th>\n",
       "      <th>ceiling_median</th>\n",
       "      <th>ceiling_mean</th>\n",
       "      <th>ceiling_std</th>\n",
       "      <th>object_count</th>\n",
       "    </tr>\n",
       "    <tr>\n",
       "      <th>building_series_id</th>\n",
       "      <th></th>\n",
       "      <th></th>\n",
       "      <th></th>\n",
       "      <th></th>\n",
       "      <th></th>\n",
       "      <th></th>\n",
       "    </tr>\n",
       "  </thead>\n",
       "  <tbody>\n",
       "    <tr>\n",
       "      <th>1569038</th>\n",
       "      <td>2.50</td>\n",
       "      <td>25.00</td>\n",
       "      <td>2.500</td>\n",
       "      <td>2.875075</td>\n",
       "      <td>2.745320</td>\n",
       "      <td>67</td>\n",
       "    </tr>\n",
       "    <tr>\n",
       "      <th>Серия неизвестна</th>\n",
       "      <td>1.20</td>\n",
       "      <td>100.00</td>\n",
       "      <td>2.650</td>\n",
       "      <td>2.779076</td>\n",
       "      <td>1.466698</td>\n",
       "      <td>9193</td>\n",
       "    </tr>\n",
       "    <tr>\n",
       "      <th>1564812</th>\n",
       "      <td>2.00</td>\n",
       "      <td>32.00</td>\n",
       "      <td>2.750</td>\n",
       "      <td>2.864858</td>\n",
       "      <td>0.903087</td>\n",
       "      <td>3267</td>\n",
       "    </tr>\n",
       "    <tr>\n",
       "      <th>Старый фонд с ремонтом</th>\n",
       "      <td>2.80</td>\n",
       "      <td>3.65</td>\n",
       "      <td>3.500</td>\n",
       "      <td>3.316667</td>\n",
       "      <td>0.453689</td>\n",
       "      <td>3</td>\n",
       "    </tr>\n",
       "    <tr>\n",
       "      <th>Старый фонд без ремонта</th>\n",
       "      <td>2.70</td>\n",
       "      <td>3.52</td>\n",
       "      <td>3.200</td>\n",
       "      <td>3.155000</td>\n",
       "      <td>0.376076</td>\n",
       "      <td>4</td>\n",
       "    </tr>\n",
       "    <tr>\n",
       "      <th>1568653</th>\n",
       "      <td>2.50</td>\n",
       "      <td>3.50</td>\n",
       "      <td>2.500</td>\n",
       "      <td>2.661538</td>\n",
       "      <td>0.334884</td>\n",
       "      <td>13</td>\n",
       "    </tr>\n",
       "    <tr>\n",
       "      <th>Индивидуальный проект</th>\n",
       "      <td>2.53</td>\n",
       "      <td>3.20</td>\n",
       "      <td>2.800</td>\n",
       "      <td>2.839091</td>\n",
       "      <td>0.212389</td>\n",
       "      <td>11</td>\n",
       "    </tr>\n",
       "    <tr>\n",
       "      <th>1569075</th>\n",
       "      <td>2.50</td>\n",
       "      <td>3.00</td>\n",
       "      <td>2.875</td>\n",
       "      <td>2.818750</td>\n",
       "      <td>0.206912</td>\n",
       "      <td>8</td>\n",
       "    </tr>\n",
       "    <tr>\n",
       "      <th>712041</th>\n",
       "      <td>2.65</td>\n",
       "      <td>3.20</td>\n",
       "      <td>2.700</td>\n",
       "      <td>2.788571</td>\n",
       "      <td>0.188187</td>\n",
       "      <td>7</td>\n",
       "    </tr>\n",
       "    <tr>\n",
       "      <th>Кирпичный</th>\n",
       "      <td>2.50</td>\n",
       "      <td>3.30</td>\n",
       "      <td>2.610</td>\n",
       "      <td>2.657000</td>\n",
       "      <td>0.180907</td>\n",
       "      <td>20</td>\n",
       "    </tr>\n",
       "    <tr>\n",
       "      <th>Сталинский</th>\n",
       "      <td>2.90</td>\n",
       "      <td>3.20</td>\n",
       "      <td>3.100</td>\n",
       "      <td>3.075000</td>\n",
       "      <td>0.150000</td>\n",
       "      <td>4</td>\n",
       "    </tr>\n",
       "    <tr>\n",
       "      <th>1568643</th>\n",
       "      <td>2.45</td>\n",
       "      <td>3.00</td>\n",
       "      <td>2.500</td>\n",
       "      <td>2.540417</td>\n",
       "      <td>0.108246</td>\n",
       "      <td>24</td>\n",
       "    </tr>\n",
       "    <tr>\n",
       "      <th>1564792</th>\n",
       "      <td>1.00</td>\n",
       "      <td>2.97</td>\n",
       "      <td>2.650</td>\n",
       "      <td>2.638455</td>\n",
       "      <td>0.102225</td>\n",
       "      <td>440</td>\n",
       "    </tr>\n",
       "    <tr>\n",
       "      <th>Хрущевка</th>\n",
       "      <td>2.50</td>\n",
       "      <td>2.70</td>\n",
       "      <td>2.550</td>\n",
       "      <td>2.575000</td>\n",
       "      <td>0.095743</td>\n",
       "      <td>4</td>\n",
       "    </tr>\n",
       "    <tr>\n",
       "      <th>1568734</th>\n",
       "      <td>2.50</td>\n",
       "      <td>3.00</td>\n",
       "      <td>2.500</td>\n",
       "      <td>2.538684</td>\n",
       "      <td>0.091686</td>\n",
       "      <td>38</td>\n",
       "    </tr>\n",
       "    <tr>\n",
       "      <th>Гатчинская</th>\n",
       "      <td>2.50</td>\n",
       "      <td>2.70</td>\n",
       "      <td>2.550</td>\n",
       "      <td>2.575000</td>\n",
       "      <td>0.086603</td>\n",
       "      <td>4</td>\n",
       "    </tr>\n",
       "    <tr>\n",
       "      <th>1564801</th>\n",
       "      <td>2.40</td>\n",
       "      <td>3.60</td>\n",
       "      <td>2.550</td>\n",
       "      <td>2.553573</td>\n",
       "      <td>0.083534</td>\n",
       "      <td>347</td>\n",
       "    </tr>\n",
       "    <tr>\n",
       "      <th>606</th>\n",
       "      <td>2.50</td>\n",
       "      <td>2.70</td>\n",
       "      <td>2.600</td>\n",
       "      <td>2.600000</td>\n",
       "      <td>0.081650</td>\n",
       "      <td>4</td>\n",
       "    </tr>\n",
       "    <tr>\n",
       "      <th>1564796</th>\n",
       "      <td>2.45</td>\n",
       "      <td>2.80</td>\n",
       "      <td>2.600</td>\n",
       "      <td>2.603554</td>\n",
       "      <td>0.078611</td>\n",
       "      <td>121</td>\n",
       "    </tr>\n",
       "    <tr>\n",
       "      <th>137</th>\n",
       "      <td>2.50</td>\n",
       "      <td>2.75</td>\n",
       "      <td>2.650</td>\n",
       "      <td>2.627333</td>\n",
       "      <td>0.077870</td>\n",
       "      <td>15</td>\n",
       "    </tr>\n",
       "    <tr>\n",
       "      <th>1569033</th>\n",
       "      <td>2.50</td>\n",
       "      <td>3.00</td>\n",
       "      <td>2.500</td>\n",
       "      <td>2.532421</td>\n",
       "      <td>0.076112</td>\n",
       "      <td>95</td>\n",
       "    </tr>\n",
       "    <tr>\n",
       "      <th>1568700</th>\n",
       "      <td>2.50</td>\n",
       "      <td>2.70</td>\n",
       "      <td>2.500</td>\n",
       "      <td>2.553333</td>\n",
       "      <td>0.071414</td>\n",
       "      <td>9</td>\n",
       "    </tr>\n",
       "    <tr>\n",
       "      <th>1568627</th>\n",
       "      <td>2.45</td>\n",
       "      <td>2.80</td>\n",
       "      <td>2.500</td>\n",
       "      <td>2.536272</td>\n",
       "      <td>0.064842</td>\n",
       "      <td>169</td>\n",
       "    </tr>\n",
       "    <tr>\n",
       "      <th>1569071</th>\n",
       "      <td>2.50</td>\n",
       "      <td>2.80</td>\n",
       "      <td>2.500</td>\n",
       "      <td>2.544444</td>\n",
       "      <td>0.060816</td>\n",
       "      <td>153</td>\n",
       "    </tr>\n",
       "    <tr>\n",
       "      <th>1569054</th>\n",
       "      <td>2.50</td>\n",
       "      <td>2.75</td>\n",
       "      <td>2.500</td>\n",
       "      <td>2.537857</td>\n",
       "      <td>0.059089</td>\n",
       "      <td>28</td>\n",
       "    </tr>\n",
       "    <tr>\n",
       "      <th>1568663</th>\n",
       "      <td>2.40</td>\n",
       "      <td>2.60</td>\n",
       "      <td>2.500</td>\n",
       "      <td>2.522308</td>\n",
       "      <td>0.058900</td>\n",
       "      <td>13</td>\n",
       "    </tr>\n",
       "    <tr>\n",
       "      <th>Брежневский</th>\n",
       "      <td>2.50</td>\n",
       "      <td>2.60</td>\n",
       "      <td>2.500</td>\n",
       "      <td>2.533333</td>\n",
       "      <td>0.057735</td>\n",
       "      <td>3</td>\n",
       "    </tr>\n",
       "    <tr>\n",
       "      <th>1569066</th>\n",
       "      <td>2.50</td>\n",
       "      <td>2.80</td>\n",
       "      <td>2.550</td>\n",
       "      <td>2.553333</td>\n",
       "      <td>0.057469</td>\n",
       "      <td>51</td>\n",
       "    </tr>\n",
       "    <tr>\n",
       "      <th>1568675</th>\n",
       "      <td>2.40</td>\n",
       "      <td>2.70</td>\n",
       "      <td>2.500</td>\n",
       "      <td>2.520000</td>\n",
       "      <td>0.055583</td>\n",
       "      <td>39</td>\n",
       "    </tr>\n",
       "    <tr>\n",
       "      <th>1564806</th>\n",
       "      <td>2.50</td>\n",
       "      <td>2.80</td>\n",
       "      <td>2.540</td>\n",
       "      <td>2.542890</td>\n",
       "      <td>0.053231</td>\n",
       "      <td>218</td>\n",
       "    </tr>\n",
       "    <tr>\n",
       "      <th>121</th>\n",
       "      <td>2.50</td>\n",
       "      <td>2.60</td>\n",
       "      <td>2.550</td>\n",
       "      <td>2.550000</td>\n",
       "      <td>0.050000</td>\n",
       "      <td>3</td>\n",
       "    </tr>\n",
       "    <tr>\n",
       "      <th>1568690</th>\n",
       "      <td>2.50</td>\n",
       "      <td>2.60</td>\n",
       "      <td>2.500</td>\n",
       "      <td>2.533333</td>\n",
       "      <td>0.049237</td>\n",
       "      <td>12</td>\n",
       "    </tr>\n",
       "    <tr>\n",
       "      <th>504</th>\n",
       "      <td>2.50</td>\n",
       "      <td>2.60</td>\n",
       "      <td>2.500</td>\n",
       "      <td>2.535714</td>\n",
       "      <td>0.045408</td>\n",
       "      <td>7</td>\n",
       "    </tr>\n",
       "    <tr>\n",
       "      <th>Панельный</th>\n",
       "      <td>2.50</td>\n",
       "      <td>2.56</td>\n",
       "      <td>2.530</td>\n",
       "      <td>2.530000</td>\n",
       "      <td>0.042426</td>\n",
       "      <td>2</td>\n",
       "    </tr>\n",
       "    <tr>\n",
       "      <th>1569079</th>\n",
       "      <td>2.50</td>\n",
       "      <td>2.60</td>\n",
       "      <td>2.565</td>\n",
       "      <td>2.557500</td>\n",
       "      <td>0.041932</td>\n",
       "      <td>4</td>\n",
       "    </tr>\n",
       "    <tr>\n",
       "      <th>1569088</th>\n",
       "      <td>2.50</td>\n",
       "      <td>2.60</td>\n",
       "      <td>2.500</td>\n",
       "      <td>2.530400</td>\n",
       "      <td>0.040772</td>\n",
       "      <td>25</td>\n",
       "    </tr>\n",
       "    <tr>\n",
       "      <th>1569061</th>\n",
       "      <td>2.50</td>\n",
       "      <td>2.60</td>\n",
       "      <td>2.550</td>\n",
       "      <td>2.545000</td>\n",
       "      <td>0.037779</td>\n",
       "      <td>12</td>\n",
       "    </tr>\n",
       "    <tr>\n",
       "      <th>1569041</th>\n",
       "      <td>2.50</td>\n",
       "      <td>2.60</td>\n",
       "      <td>2.500</td>\n",
       "      <td>2.516111</td>\n",
       "      <td>0.033805</td>\n",
       "      <td>18</td>\n",
       "    </tr>\n",
       "    <tr>\n",
       "      <th>1568658</th>\n",
       "      <td>2.50</td>\n",
       "      <td>2.60</td>\n",
       "      <td>2.500</td>\n",
       "      <td>2.510000</td>\n",
       "      <td>0.028031</td>\n",
       "      <td>15</td>\n",
       "    </tr>\n",
       "    <tr>\n",
       "      <th>600</th>\n",
       "      <td>2.53</td>\n",
       "      <td>2.60</td>\n",
       "      <td>2.560</td>\n",
       "      <td>2.564000</td>\n",
       "      <td>0.027019</td>\n",
       "      <td>5</td>\n",
       "    </tr>\n",
       "    <tr>\n",
       "      <th>1569048</th>\n",
       "      <td>2.50</td>\n",
       "      <td>2.55</td>\n",
       "      <td>2.500</td>\n",
       "      <td>2.510000</td>\n",
       "      <td>0.020000</td>\n",
       "      <td>9</td>\n",
       "    </tr>\n",
       "    <tr>\n",
       "      <th>ОД-6</th>\n",
       "      <td>2.55</td>\n",
       "      <td>2.57</td>\n",
       "      <td>2.560</td>\n",
       "      <td>2.560000</td>\n",
       "      <td>0.014142</td>\n",
       "      <td>2</td>\n",
       "    </tr>\n",
       "    <tr>\n",
       "      <th>1568709</th>\n",
       "      <td>2.50</td>\n",
       "      <td>2.50</td>\n",
       "      <td>2.500</td>\n",
       "      <td>2.500000</td>\n",
       "      <td>0.000000</td>\n",
       "      <td>2</td>\n",
       "    </tr>\n",
       "    <tr>\n",
       "      <th>502</th>\n",
       "      <td>2.55</td>\n",
       "      <td>2.55</td>\n",
       "      <td>2.550</td>\n",
       "      <td>2.550000</td>\n",
       "      <td>NaN</td>\n",
       "      <td>1</td>\n",
       "    </tr>\n",
       "    <tr>\n",
       "      <th>1-335-1</th>\n",
       "      <td>2.55</td>\n",
       "      <td>2.55</td>\n",
       "      <td>2.550</td>\n",
       "      <td>2.550000</td>\n",
       "      <td>NaN</td>\n",
       "      <td>1</td>\n",
       "    </tr>\n",
       "    <tr>\n",
       "      <th>1-528 КП - 2</th>\n",
       "      <td>2.50</td>\n",
       "      <td>2.50</td>\n",
       "      <td>2.500</td>\n",
       "      <td>2.500000</td>\n",
       "      <td>NaN</td>\n",
       "      <td>1</td>\n",
       "    </tr>\n",
       "    <tr>\n",
       "      <th>1-528-КП-97</th>\n",
       "      <td>2.50</td>\n",
       "      <td>2.50</td>\n",
       "      <td>2.500</td>\n",
       "      <td>2.500000</td>\n",
       "      <td>NaN</td>\n",
       "      <td>1</td>\n",
       "    </tr>\n",
       "    <tr>\n",
       "      <th>1-ЛГ-600-I</th>\n",
       "      <td>2.70</td>\n",
       "      <td>2.70</td>\n",
       "      <td>2.700</td>\n",
       "      <td>2.700000</td>\n",
       "      <td>NaN</td>\n",
       "      <td>1</td>\n",
       "    </tr>\n",
       "    <tr>\n",
       "      <th>504Д</th>\n",
       "      <td>2.60</td>\n",
       "      <td>2.60</td>\n",
       "      <td>2.600</td>\n",
       "      <td>2.600000</td>\n",
       "      <td>NaN</td>\n",
       "      <td>1</td>\n",
       "    </tr>\n",
       "    <tr>\n",
       "      <th>6066М</th>\n",
       "      <td>2.50</td>\n",
       "      <td>2.50</td>\n",
       "      <td>2.500</td>\n",
       "      <td>2.500000</td>\n",
       "      <td>NaN</td>\n",
       "      <td>1</td>\n",
       "    </tr>\n",
       "    <tr>\n",
       "      <th>Блочный</th>\n",
       "      <td>2.55</td>\n",
       "      <td>2.55</td>\n",
       "      <td>2.550</td>\n",
       "      <td>2.550000</td>\n",
       "      <td>NaN</td>\n",
       "      <td>1</td>\n",
       "    </tr>\n",
       "    <tr>\n",
       "      <th>Г-24</th>\n",
       "      <td>2.50</td>\n",
       "      <td>2.50</td>\n",
       "      <td>2.500</td>\n",
       "      <td>2.500000</td>\n",
       "      <td>NaN</td>\n",
       "      <td>1</td>\n",
       "    </tr>\n",
       "    <tr>\n",
       "      <th>Г-2И</th>\n",
       "      <td>2.55</td>\n",
       "      <td>2.55</td>\n",
       "      <td>2.550</td>\n",
       "      <td>2.550000</td>\n",
       "      <td>NaN</td>\n",
       "      <td>1</td>\n",
       "    </tr>\n",
       "    <tr>\n",
       "      <th>ИТП</th>\n",
       "      <td>2.95</td>\n",
       "      <td>2.95</td>\n",
       "      <td>2.950</td>\n",
       "      <td>2.950000</td>\n",
       "      <td>NaN</td>\n",
       "      <td>1</td>\n",
       "    </tr>\n",
       "    <tr>\n",
       "      <th>Монолитный</th>\n",
       "      <td>3.10</td>\n",
       "      <td>3.10</td>\n",
       "      <td>3.100</td>\n",
       "      <td>3.100000</td>\n",
       "      <td>NaN</td>\n",
       "      <td>1</td>\n",
       "    </tr>\n",
       "  </tbody>\n",
       "</table>\n",
       "</div>"
      ],
      "text/plain": [
       "                         ceiling_min  ceiling_max  ceiling_median  \\\n",
       "building_series_id                                                  \n",
       "1569038                         2.50        25.00           2.500   \n",
       "Серия неизвестна                1.20       100.00           2.650   \n",
       "1564812                         2.00        32.00           2.750   \n",
       "Старый фонд с ремонтом          2.80         3.65           3.500   \n",
       "Старый фонд без ремонта         2.70         3.52           3.200   \n",
       "1568653                         2.50         3.50           2.500   \n",
       "Индивидуальный проект           2.53         3.20           2.800   \n",
       "1569075                         2.50         3.00           2.875   \n",
       "712041                          2.65         3.20           2.700   \n",
       "Кирпичный                       2.50         3.30           2.610   \n",
       "Сталинский                      2.90         3.20           3.100   \n",
       "1568643                         2.45         3.00           2.500   \n",
       "1564792                         1.00         2.97           2.650   \n",
       "Хрущевка                        2.50         2.70           2.550   \n",
       "1568734                         2.50         3.00           2.500   \n",
       "Гатчинская                      2.50         2.70           2.550   \n",
       "1564801                         2.40         3.60           2.550   \n",
       "606                             2.50         2.70           2.600   \n",
       "1564796                         2.45         2.80           2.600   \n",
       "137                             2.50         2.75           2.650   \n",
       "1569033                         2.50         3.00           2.500   \n",
       "1568700                         2.50         2.70           2.500   \n",
       "1568627                         2.45         2.80           2.500   \n",
       "1569071                         2.50         2.80           2.500   \n",
       "1569054                         2.50         2.75           2.500   \n",
       "1568663                         2.40         2.60           2.500   \n",
       "Брежневский                     2.50         2.60           2.500   \n",
       "1569066                         2.50         2.80           2.550   \n",
       "1568675                         2.40         2.70           2.500   \n",
       "1564806                         2.50         2.80           2.540   \n",
       "121                             2.50         2.60           2.550   \n",
       "1568690                         2.50         2.60           2.500   \n",
       "504                             2.50         2.60           2.500   \n",
       "Панельный                       2.50         2.56           2.530   \n",
       "1569079                         2.50         2.60           2.565   \n",
       "1569088                         2.50         2.60           2.500   \n",
       "1569061                         2.50         2.60           2.550   \n",
       "1569041                         2.50         2.60           2.500   \n",
       "1568658                         2.50         2.60           2.500   \n",
       "600                             2.53         2.60           2.560   \n",
       "1569048                         2.50         2.55           2.500   \n",
       "ОД-6                            2.55         2.57           2.560   \n",
       "1568709                         2.50         2.50           2.500   \n",
       "502                             2.55         2.55           2.550   \n",
       "1-335-1                         2.55         2.55           2.550   \n",
       "1-528 КП - 2                    2.50         2.50           2.500   \n",
       "1-528-КП-97                     2.50         2.50           2.500   \n",
       "1-ЛГ-600-I                      2.70         2.70           2.700   \n",
       "504Д                            2.60         2.60           2.600   \n",
       "6066М                           2.50         2.50           2.500   \n",
       "Блочный                         2.55         2.55           2.550   \n",
       "Г-24                            2.50         2.50           2.500   \n",
       "Г-2И                            2.55         2.55           2.550   \n",
       "ИТП                             2.95         2.95           2.950   \n",
       "Монолитный                      3.10         3.10           3.100   \n",
       "\n",
       "                         ceiling_mean  ceiling_std  object_count  \n",
       "building_series_id                                                \n",
       "1569038                      2.875075     2.745320            67  \n",
       "Серия неизвестна             2.779076     1.466698          9193  \n",
       "1564812                      2.864858     0.903087          3267  \n",
       "Старый фонд с ремонтом       3.316667     0.453689             3  \n",
       "Старый фонд без ремонта      3.155000     0.376076             4  \n",
       "1568653                      2.661538     0.334884            13  \n",
       "Индивидуальный проект        2.839091     0.212389            11  \n",
       "1569075                      2.818750     0.206912             8  \n",
       "712041                       2.788571     0.188187             7  \n",
       "Кирпичный                    2.657000     0.180907            20  \n",
       "Сталинский                   3.075000     0.150000             4  \n",
       "1568643                      2.540417     0.108246            24  \n",
       "1564792                      2.638455     0.102225           440  \n",
       "Хрущевка                     2.575000     0.095743             4  \n",
       "1568734                      2.538684     0.091686            38  \n",
       "Гатчинская                   2.575000     0.086603             4  \n",
       "1564801                      2.553573     0.083534           347  \n",
       "606                          2.600000     0.081650             4  \n",
       "1564796                      2.603554     0.078611           121  \n",
       "137                          2.627333     0.077870            15  \n",
       "1569033                      2.532421     0.076112            95  \n",
       "1568700                      2.553333     0.071414             9  \n",
       "1568627                      2.536272     0.064842           169  \n",
       "1569071                      2.544444     0.060816           153  \n",
       "1569054                      2.537857     0.059089            28  \n",
       "1568663                      2.522308     0.058900            13  \n",
       "Брежневский                  2.533333     0.057735             3  \n",
       "1569066                      2.553333     0.057469            51  \n",
       "1568675                      2.520000     0.055583            39  \n",
       "1564806                      2.542890     0.053231           218  \n",
       "121                          2.550000     0.050000             3  \n",
       "1568690                      2.533333     0.049237            12  \n",
       "504                          2.535714     0.045408             7  \n",
       "Панельный                    2.530000     0.042426             2  \n",
       "1569079                      2.557500     0.041932             4  \n",
       "1569088                      2.530400     0.040772            25  \n",
       "1569061                      2.545000     0.037779            12  \n",
       "1569041                      2.516111     0.033805            18  \n",
       "1568658                      2.510000     0.028031            15  \n",
       "600                          2.564000     0.027019             5  \n",
       "1569048                      2.510000     0.020000             9  \n",
       "ОД-6                         2.560000     0.014142             2  \n",
       "1568709                      2.500000     0.000000             2  \n",
       "502                          2.550000          NaN             1  \n",
       "1-335-1                      2.550000          NaN             1  \n",
       "1-528 КП - 2                 2.500000          NaN             1  \n",
       "1-528-КП-97                  2.500000          NaN             1  \n",
       "1-ЛГ-600-I                   2.700000          NaN             1  \n",
       "504Д                         2.600000          NaN             1  \n",
       "6066М                        2.500000          NaN             1  \n",
       "Блочный                      2.550000          NaN             1  \n",
       "Г-24                         2.500000          NaN             1  \n",
       "Г-2И                         2.550000          NaN             1  \n",
       "ИТП                          2.950000          NaN             1  \n",
       "Монолитный                   3.100000          NaN             1  "
      ]
     },
     "execution_count": 39,
     "metadata": {},
     "output_type": "execute_result"
    }
   ],
   "source": [
    "#отсортируем по стандартному отклонению, чтобы увидеть где наиболее большой разброс в данных высоты потолка\n",
    "df_ceiling_height.columns = ['ceiling_min','ceiling_max','ceiling_median','ceiling_mean','ceiling_std','object_count']\n",
    "df_ceiling_height.sort_values('ceiling_std', ascending=False)"
   ]
  },
  {
   "cell_type": "markdown",
   "metadata": {},
   "source": [
    "### Видно что у нас есть некорректные значения в минимумах и максимумах."
   ]
  },
  {
   "cell_type": "code",
   "execution_count": 40,
   "metadata": {
    "scrolled": false
   },
   "outputs": [
    {
     "data": {
      "text/plain": [
       "<matplotlib.axes._subplots.AxesSubplot at 0x7f72b7fd0668>"
      ]
     },
     "execution_count": 40,
     "metadata": {},
     "output_type": "execute_result"
    },
    {
     "data": {
      "image/png": "[encoded data removed]",
      "text/plain": [
       "<Figure size 432x288 with 1 Axes>"
      ]
     },
     "metadata": {
      "needs_background": "light"
     },
     "output_type": "display_data"
    }
   ],
   "source": [
    "df['ceiling_height'].plot(kind='box')"
   ]
  },
  {
   "cell_type": "markdown",
   "metadata": {},
   "source": [
    "### Заменим NaN значения ceiling_height на медианное по серии"
   ]
  },
  {
   "cell_type": "code",
   "execution_count": 41,
   "metadata": {
    "scrolled": true
   },
   "outputs": [
    {
     "name": "stderr",
     "output_type": "stream",
     "text": [
      "/opt/conda/lib/python3.7/site-packages/numpy/lib/nanfunctions.py:1076: RuntimeWarning: Mean of empty slice\n",
      "  return np.nanmean(a, axis, out=out, keepdims=keepdims)\n"
     ]
    }
   ],
   "source": [
    "df['ceiling_height']= df.groupby('building_series_id')['ceiling_height'].\\\n",
    "    transform(lambda x: x.fillna(x.median()))"
   ]
  },
  {
   "cell_type": "markdown",
   "metadata": {},
   "source": [
    "### После замены осталось 34 значения, у которых в группе все высоты потолков равны NaN\n",
    "* Такие значения мы заменим на медиану высоты потолков по всему датафрейму (не слишком точно, но что делать)"
   ]
  },
  {
   "cell_type": "code",
   "execution_count": 42,
   "metadata": {},
   "outputs": [
    {
     "data": {
      "text/plain": [
       "34"
      ]
     },
     "execution_count": 42,
     "metadata": {},
     "output_type": "execute_result"
    }
   ],
   "source": [
    "#Осталось NaN после замены\n",
    "df['ceiling_height'].isna().sum()"
   ]
  },
  {
   "cell_type": "code",
   "execution_count": 43,
   "metadata": {},
   "outputs": [
    {
     "data": {
      "text/plain": [
       "2.65"
      ]
     },
     "execution_count": 43,
     "metadata": {},
     "output_type": "execute_result"
    }
   ],
   "source": [
    "# Медиана высоты потолка по всему датафрейму\n",
    "df['ceiling_height'].median()"
   ]
  },
  {
   "cell_type": "code",
   "execution_count": 44,
   "metadata": {},
   "outputs": [],
   "source": [
    "df['ceiling_height'] = df['ceiling_height'].fillna(df['ceiling_height'].median())"
   ]
  },
  {
   "cell_type": "markdown",
   "metadata": {},
   "source": [
    "----------\n",
    "\n",
    "## <span style=\"color:orange\">Комментарий от наставника</span>\n",
    "\n",
    "Я обратил внимание, что где-то ты используешь синтаксис обращения к столбцам через точку - __.сolumn__, где-то указываешь на столбец в квадратных скобках __['col']__ - лучше везде делать единообразно, я, например, всегда использую скобки.\n",
    "\n",
    "---------\n"
   ]
  },
  {
   "cell_type": "code",
   "execution_count": 45,
   "metadata": {
    "scrolled": false
   },
   "outputs": [
    {
     "data": {
      "text/plain": [
       "0"
      ]
     },
     "execution_count": 45,
     "metadata": {},
     "output_type": "execute_result"
    }
   ],
   "source": [
    "#Проверим что NaN больше нет\n",
    "df['ceiling_height'].isna().sum()"
   ]
  },
  {
   "cell_type": "markdown",
   "metadata": {},
   "source": [
    "### Теперь пройдемся и заменим некоторые некорректные значения ceiling_height\n",
    "* Создадим словарь(вложенный), в котором ключи это серии, а значения это медиана по высоте потолков в серии.\n",
    "* Пройдемся по датафрейму и сравним все значения высоты потолков с медианным, при сильных отличиях заменим на медиану"
   ]
  },
  {
   "cell_type": "code",
   "execution_count": 46,
   "metadata": {},
   "outputs": [],
   "source": [
    "#Создадим словарь(вложенный), в котором ключ это серия, а значения это медиана по высоте потолков в серии.\n",
    "dict_with_median_height = df[df['ceiling_height'].isnull()==False].groupby('building_series_id')\\\n",
    "    .agg({'ceiling_height':'median'})\n",
    "\n",
    "dict_with_median_height.columns = ['median']\n",
    "\n",
    "dict_with_median_height = dict_with_median_height.to_dict()"
   ]
  },
  {
   "cell_type": "markdown",
   "metadata": {},
   "source": [
    "### Как будем искать некорректные значения и на что заменять\n",
    "* В качестве минимального значения возьмем отсечку 2.2 метра, а в качестве максимального 2*медиану внутри группы(объединенные квартиры на 2х этажах)\n",
    "* При выходе за эти пределы заменим значение на медианное внутри группы"
   ]
  },
  {
   "cell_type": "code",
   "execution_count": 47,
   "metadata": {},
   "outputs": [],
   "source": [
    "df['ceiling_height'] = df.apply(\n",
    "                lambda x: dict_with_median_height['median'][x.building_series_id] if x.ceiling_height < 2.2\n",
    "                else dict_with_median_height['median'][x.building_series_id] \n",
    "                                if x.ceiling_height > dict_with_median_height['median'][x.building_series_id]*2\n",
    "                else x.ceiling_height, axis=1)"
   ]
  },
  {
   "cell_type": "markdown",
   "metadata": {},
   "source": [
    "-----"
   ]
  },
  {
   "cell_type": "markdown",
   "metadata": {},
   "source": [
    "## Замена NaN в balcony\n"
   ]
  },
  {
   "cell_type": "markdown",
   "metadata": {},
   "source": [
    "### Возможно в загородной недвижимости нет балконов по известным данным, проверим это\n",
    "* Тогда мы сможем заменить NaN на 0 в загородной недвижимости"
   ]
  },
  {
   "cell_type": "code",
   "execution_count": 48,
   "metadata": {},
   "outputs": [
    {
     "data": {
      "text/html": [
       "<div>\n",
       "<style scoped>\n",
       "    .dataframe tbody tr th:only-of-type {\n",
       "        vertical-align: middle;\n",
       "    }\n",
       "\n",
       "    .dataframe tbody tr th {\n",
       "        vertical-align: top;\n",
       "    }\n",
       "\n",
       "    .dataframe thead th {\n",
       "        text-align: right;\n",
       "    }\n",
       "</style>\n",
       "<table border=\"1\" class=\"dataframe\">\n",
       "  <thead>\n",
       "    <tr style=\"text-align: right;\">\n",
       "      <th>balcony</th>\n",
       "      <th>0.0</th>\n",
       "      <th>1.0</th>\n",
       "      <th>2.0</th>\n",
       "      <th>3.0</th>\n",
       "      <th>4.0</th>\n",
       "      <th>5.0</th>\n",
       "    </tr>\n",
       "    <tr>\n",
       "      <th>type_place</th>\n",
       "      <th></th>\n",
       "      <th></th>\n",
       "      <th></th>\n",
       "      <th></th>\n",
       "      <th></th>\n",
       "      <th></th>\n",
       "    </tr>\n",
       "  </thead>\n",
       "  <tbody>\n",
       "    <tr>\n",
       "      <th>Город</th>\n",
       "      <td>635.0</td>\n",
       "      <td>830.0</td>\n",
       "      <td>581.0</td>\n",
       "      <td>23.0</td>\n",
       "      <td>40.0</td>\n",
       "      <td>51.0</td>\n",
       "    </tr>\n",
       "    <tr>\n",
       "      <th>Деревня</th>\n",
       "      <td>143.0</td>\n",
       "      <td>176.0</td>\n",
       "      <td>189.0</td>\n",
       "      <td>2.0</td>\n",
       "      <td>5.0</td>\n",
       "      <td>10.0</td>\n",
       "    </tr>\n",
       "    <tr>\n",
       "      <th>Локация неизвестна</th>\n",
       "      <td>33.0</td>\n",
       "      <td>8.0</td>\n",
       "      <td>1.0</td>\n",
       "      <td>NaN</td>\n",
       "      <td>1.0</td>\n",
       "      <td>NaN</td>\n",
       "    </tr>\n",
       "    <tr>\n",
       "      <th>ПГТ</th>\n",
       "      <td>76.0</td>\n",
       "      <td>113.0</td>\n",
       "      <td>68.0</td>\n",
       "      <td>1.0</td>\n",
       "      <td>4.0</td>\n",
       "      <td>2.0</td>\n",
       "    </tr>\n",
       "    <tr>\n",
       "      <th>Поселок</th>\n",
       "      <td>270.0</td>\n",
       "      <td>431.0</td>\n",
       "      <td>414.0</td>\n",
       "      <td>4.0</td>\n",
       "      <td>13.0</td>\n",
       "      <td>25.0</td>\n",
       "    </tr>\n",
       "    <tr>\n",
       "      <th>СНТ</th>\n",
       "      <td>1.0</td>\n",
       "      <td>1.0</td>\n",
       "      <td>NaN</td>\n",
       "      <td>NaN</td>\n",
       "      <td>NaN</td>\n",
       "      <td>NaN</td>\n",
       "    </tr>\n",
       "    <tr>\n",
       "      <th>СПб</th>\n",
       "      <td>2552.0</td>\n",
       "      <td>2629.0</td>\n",
       "      <td>2401.0</td>\n",
       "      <td>51.0</td>\n",
       "      <td>120.0</td>\n",
       "      <td>216.0</td>\n",
       "    </tr>\n",
       "    <tr>\n",
       "      <th>Село</th>\n",
       "      <td>3.0</td>\n",
       "      <td>7.0</td>\n",
       "      <td>4.0</td>\n",
       "      <td>NaN</td>\n",
       "      <td>NaN</td>\n",
       "      <td>NaN</td>\n",
       "    </tr>\n",
       "  </tbody>\n",
       "</table>\n",
       "</div>"
      ],
      "text/plain": [
       "balcony                0.0     1.0     2.0   3.0    4.0    5.0\n",
       "type_place                                                    \n",
       "Город                635.0   830.0   581.0  23.0   40.0   51.0\n",
       "Деревня              143.0   176.0   189.0   2.0    5.0   10.0\n",
       "Локация неизвестна    33.0     8.0     1.0   NaN    1.0    NaN\n",
       "ПГТ                   76.0   113.0    68.0   1.0    4.0    2.0\n",
       "Поселок              270.0   431.0   414.0   4.0   13.0   25.0\n",
       "СНТ                    1.0     1.0     NaN   NaN    NaN    NaN\n",
       "СПб                 2552.0  2629.0  2401.0  51.0  120.0  216.0\n",
       "Село                   3.0     7.0     4.0   NaN    NaN    NaN"
      ]
     },
     "execution_count": 48,
     "metadata": {},
     "output_type": "execute_result"
    }
   ],
   "source": [
    "df.pivot_table(index='type_place', columns='balcony', values='floor', aggfunc='count')"
   ]
  },
  {
   "cell_type": "markdown",
   "metadata": {},
   "source": [
    "### Нельзя сказать, что все NaN по балконам можно заменить на 0. Скорее всего количество и наличие балкона зависит не от места, а от серии дома и количестве комнат в квартире."
   ]
  },
  {
   "cell_type": "markdown",
   "metadata": {},
   "source": [
    "### Сгруппируем по серии дома и заменим NaN на медиану. И округлим, чтобы не было дробных значений."
   ]
  },
  {
   "cell_type": "code",
   "execution_count": 49,
   "metadata": {},
   "outputs": [
    {
     "name": "stderr",
     "output_type": "stream",
     "text": [
      "/opt/conda/lib/python3.7/site-packages/numpy/lib/nanfunctions.py:1076: RuntimeWarning: Mean of empty slice\n",
      "  return np.nanmean(a, axis, out=out, keepdims=keepdims)\n"
     ]
    }
   ],
   "source": [
    "df['balcony'] = df.groupby('building_series_id')['balcony'].transform(lambda x: x.fillna(round(x.median())))"
   ]
  },
  {
   "cell_type": "markdown",
   "metadata": {},
   "source": [
    "### У нас осталось 43 NaN, которые не заменились тк в группе не было значений по балконам.\n",
    "* Ничего не остается, как заменить их на 0, отстутствие балкона"
   ]
  },
  {
   "cell_type": "code",
   "execution_count": 50,
   "metadata": {},
   "outputs": [
    {
     "data": {
      "text/plain": [
       "43"
      ]
     },
     "execution_count": 50,
     "metadata": {},
     "output_type": "execute_result"
    }
   ],
   "source": [
    "df.balcony.isna().sum()"
   ]
  },
  {
   "cell_type": "markdown",
   "metadata": {},
   "source": [
    "### Ничего не остается, как заменить их на 0, отсутствие балкона"
   ]
  },
  {
   "cell_type": "code",
   "execution_count": 51,
   "metadata": {},
   "outputs": [],
   "source": [
    "df['balcony'] = df['balcony'].fillna(0)"
   ]
  },
  {
   "cell_type": "markdown",
   "metadata": {},
   "source": [
    "----------\n",
    "\n",
    "## <span style=\"color:red\">Комментарий от наставника</span>\n",
    "\n",
    "См. предыдущий комментарий :)\n",
    "\n",
    "---------\n",
    "#### убрал inplace"
   ]
  },
  {
   "cell_type": "code",
   "execution_count": 52,
   "metadata": {},
   "outputs": [
    {
     "data": {
      "text/plain": [
       "0"
      ]
     },
     "execution_count": 52,
     "metadata": {},
     "output_type": "execute_result"
    }
   ],
   "source": [
    "# Проверим, все ли заменилось\n",
    "df['balcony'].isna().sum()"
   ]
  },
  {
   "cell_type": "markdown",
   "metadata": {},
   "source": [
    "### Переведем значения в int16, тк float64 избыточен для таких чисел"
   ]
  },
  {
   "cell_type": "code",
   "execution_count": 53,
   "metadata": {},
   "outputs": [],
   "source": [
    "df['balcony'] = df['balcony'].astype('int16')"
   ]
  },
  {
   "cell_type": "markdown",
   "metadata": {},
   "source": [
    "-----"
   ]
  },
  {
   "cell_type": "markdown",
   "metadata": {},
   "source": [
    "## Замена NaN в living_area\n",
    "* Для замены будем использовать понятный способ - медианное значение по количеству комнат\n",
    "* __Но сразу понятно, что может возникнуть проблема в некоторых группах по комнатам, где содержится много выбросов. living_area может превысить значение total_area (вся площадь квартиры), после замены пропусков. Посмотрим что получится.__"
   ]
  },
  {
   "cell_type": "code",
   "execution_count": 54,
   "metadata": {},
   "outputs": [],
   "source": [
    "df_area = df.groupby('rooms')\\\n",
    "    .agg({'area':'median','living_area':'median','kitchen_area':'median'})\\\n",
    "    .rename(columns={'area':'area_total_median','living_area':'area_living_median','kitchen_area':'area_kitchen_median'})"
   ]
  },
  {
   "cell_type": "markdown",
   "metadata": {},
   "source": [
    "----------\n",
    "\n",
    "## <span style=\"color:orange\">Комментарий от наставника</span>\n",
    "\n",
    "А зачем первые две агрегатные функции передаешь в списках?\n",
    "PS - возникают ситуации, когда порядок столбцов может измениться, поэтому советую не использовать конструкцию df.columns = , а использовать метод rename(columns=словарь с старыми-новыми значениямиа)\n",
    "\n",
    "---------\n",
    "#### Сранивал насколько отличается медиана от среднего, среднее убрал, а скобки нет. Исправил. Добавил .rename"
   ]
  },
  {
   "cell_type": "code",
   "execution_count": 55,
   "metadata": {},
   "outputs": [],
   "source": [
    "df_area['test_area'] = df_area.area_total_median-(df_area.area_living_median+df_area.area_kitchen_median)\n",
    "df_area['looks_like_correct'] = df_area.test_area >=0"
   ]
  },
  {
   "cell_type": "markdown",
   "metadata": {},
   "source": [
    "### Пройдем минимальную проверку, что медианное значение жилой + медианное значение площади кухи < медианной общей площади"
   ]
  },
  {
   "cell_type": "code",
   "execution_count": 69,
   "metadata": {
    "scrolled": true
   },
   "outputs": [
    {
     "data": {
      "text/html": [
       "<div>\n",
       "<style scoped>\n",
       "    .dataframe tbody tr th:only-of-type {\n",
       "        vertical-align: middle;\n",
       "    }\n",
       "\n",
       "    .dataframe tbody tr th {\n",
       "        vertical-align: top;\n",
       "    }\n",
       "\n",
       "    .dataframe thead th {\n",
       "        text-align: right;\n",
       "    }\n",
       "</style>\n",
       "<table border=\"1\" class=\"dataframe\">\n",
       "  <thead>\n",
       "    <tr style=\"text-align: right;\">\n",
       "      <th></th>\n",
       "      <th>area_total_median</th>\n",
       "      <th>area_living_median</th>\n",
       "      <th>area_kitchen_median</th>\n",
       "      <th>test_area</th>\n",
       "      <th>looks_like_correct</th>\n",
       "    </tr>\n",
       "    <tr>\n",
       "      <th>rooms</th>\n",
       "      <th></th>\n",
       "      <th></th>\n",
       "      <th></th>\n",
       "      <th></th>\n",
       "      <th></th>\n",
       "    </tr>\n",
       "  </thead>\n",
       "  <tbody>\n",
       "    <tr>\n",
       "      <th>0</th>\n",
       "      <td>26.075</td>\n",
       "      <td>18.000</td>\n",
       "      <td>NaN</td>\n",
       "      <td>NaN</td>\n",
       "      <td>False</td>\n",
       "    </tr>\n",
       "    <tr>\n",
       "      <th>1</th>\n",
       "      <td>36.600</td>\n",
       "      <td>17.600</td>\n",
       "      <td>9.00</td>\n",
       "      <td>10.000</td>\n",
       "      <td>True</td>\n",
       "    </tr>\n",
       "    <tr>\n",
       "      <th>2</th>\n",
       "      <td>53.000</td>\n",
       "      <td>30.500</td>\n",
       "      <td>8.70</td>\n",
       "      <td>13.800</td>\n",
       "      <td>True</td>\n",
       "    </tr>\n",
       "    <tr>\n",
       "      <th>3</th>\n",
       "      <td>72.875</td>\n",
       "      <td>45.000</td>\n",
       "      <td>9.50</td>\n",
       "      <td>18.375</td>\n",
       "      <td>True</td>\n",
       "    </tr>\n",
       "    <tr>\n",
       "      <th>4</th>\n",
       "      <td>99.000</td>\n",
       "      <td>63.500</td>\n",
       "      <td>11.05</td>\n",
       "      <td>24.450</td>\n",
       "      <td>True</td>\n",
       "    </tr>\n",
       "    <tr>\n",
       "      <th>5</th>\n",
       "      <td>146.000</td>\n",
       "      <td>91.785</td>\n",
       "      <td>15.10</td>\n",
       "      <td>39.115</td>\n",
       "      <td>True</td>\n",
       "    </tr>\n",
       "    <tr>\n",
       "      <th>6</th>\n",
       "      <td>184.300</td>\n",
       "      <td>123.900</td>\n",
       "      <td>19.50</td>\n",
       "      <td>40.900</td>\n",
       "      <td>True</td>\n",
       "    </tr>\n",
       "    <tr>\n",
       "      <th>7</th>\n",
       "      <td>214.000</td>\n",
       "      <td>145.000</td>\n",
       "      <td>20.00</td>\n",
       "      <td>49.000</td>\n",
       "      <td>True</td>\n",
       "    </tr>\n",
       "    <tr>\n",
       "      <th>8</th>\n",
       "      <td>235.700</td>\n",
       "      <td>161.000</td>\n",
       "      <td>25.00</td>\n",
       "      <td>49.700</td>\n",
       "      <td>True</td>\n",
       "    </tr>\n",
       "    <tr>\n",
       "      <th>9</th>\n",
       "      <td>300.950</td>\n",
       "      <td>179.200</td>\n",
       "      <td>14.30</td>\n",
       "      <td>107.450</td>\n",
       "      <td>True</td>\n",
       "    </tr>\n",
       "    <tr>\n",
       "      <th>10</th>\n",
       "      <td>272.600</td>\n",
       "      <td>161.400</td>\n",
       "      <td>19.80</td>\n",
       "      <td>91.400</td>\n",
       "      <td>True</td>\n",
       "    </tr>\n",
       "    <tr>\n",
       "      <th>11</th>\n",
       "      <td>188.900</td>\n",
       "      <td>133.900</td>\n",
       "      <td>12.60</td>\n",
       "      <td>42.400</td>\n",
       "      <td>True</td>\n",
       "    </tr>\n",
       "    <tr>\n",
       "      <th>12</th>\n",
       "      <td>900.000</td>\n",
       "      <td>409.700</td>\n",
       "      <td>112.00</td>\n",
       "      <td>378.300</td>\n",
       "      <td>True</td>\n",
       "    </tr>\n",
       "    <tr>\n",
       "      <th>14</th>\n",
       "      <td>304.200</td>\n",
       "      <td>195.150</td>\n",
       "      <td>21.25</td>\n",
       "      <td>87.800</td>\n",
       "      <td>True</td>\n",
       "    </tr>\n",
       "    <tr>\n",
       "      <th>15</th>\n",
       "      <td>590.000</td>\n",
       "      <td>409.000</td>\n",
       "      <td>100.00</td>\n",
       "      <td>81.000</td>\n",
       "      <td>True</td>\n",
       "    </tr>\n",
       "    <tr>\n",
       "      <th>16</th>\n",
       "      <td>270.000</td>\n",
       "      <td>180.000</td>\n",
       "      <td>13.00</td>\n",
       "      <td>77.000</td>\n",
       "      <td>True</td>\n",
       "    </tr>\n",
       "    <tr>\n",
       "      <th>19</th>\n",
       "      <td>374.600</td>\n",
       "      <td>264.500</td>\n",
       "      <td>27.60</td>\n",
       "      <td>82.500</td>\n",
       "      <td>True</td>\n",
       "    </tr>\n",
       "  </tbody>\n",
       "</table>\n",
       "</div>"
      ],
      "text/plain": [
       "       area_total_median  area_living_median  area_kitchen_median  test_area  \\\n",
       "rooms                                                                          \n",
       "0                 26.075              18.000                  NaN        NaN   \n",
       "1                 36.600              17.600                 9.00     10.000   \n",
       "2                 53.000              30.500                 8.70     13.800   \n",
       "3                 72.875              45.000                 9.50     18.375   \n",
       "4                 99.000              63.500                11.05     24.450   \n",
       "5                146.000              91.785                15.10     39.115   \n",
       "6                184.300             123.900                19.50     40.900   \n",
       "7                214.000             145.000                20.00     49.000   \n",
       "8                235.700             161.000                25.00     49.700   \n",
       "9                300.950             179.200                14.30    107.450   \n",
       "10               272.600             161.400                19.80     91.400   \n",
       "11               188.900             133.900                12.60     42.400   \n",
       "12               900.000             409.700               112.00    378.300   \n",
       "14               304.200             195.150                21.25     87.800   \n",
       "15               590.000             409.000               100.00     81.000   \n",
       "16               270.000             180.000                13.00     77.000   \n",
       "19               374.600             264.500                27.60     82.500   \n",
       "\n",
       "       looks_like_correct  \n",
       "rooms                      \n",
       "0                   False  \n",
       "1                    True  \n",
       "2                    True  \n",
       "3                    True  \n",
       "4                    True  \n",
       "5                    True  \n",
       "6                    True  \n",
       "7                    True  \n",
       "8                    True  \n",
       "9                    True  \n",
       "10                   True  \n",
       "11                   True  \n",
       "12                   True  \n",
       "14                   True  \n",
       "15                   True  \n",
       "16                   True  \n",
       "19                   True  "
      ]
     },
     "execution_count": 69,
     "metadata": {},
     "output_type": "execute_result"
    }
   ],
   "source": [
    "# Все ок, кроме одного случаев где 0 комнат. Скорее всего в мини квартирах нет кухонной зоны\n",
    "df_area"
   ]
  },
  {
   "cell_type": "markdown",
   "metadata": {},
   "source": [
    "### Заменим NaN"
   ]
  },
  {
   "cell_type": "code",
   "execution_count": 57,
   "metadata": {},
   "outputs": [],
   "source": [
    "df['living_area']= df.groupby('rooms')['living_area'].transform(lambda x: x.fillna(x.median()))"
   ]
  },
  {
   "cell_type": "code",
   "execution_count": 58,
   "metadata": {},
   "outputs": [
    {
     "data": {
      "text/plain": [
       "0"
      ]
     },
     "execution_count": 58,
     "metadata": {},
     "output_type": "execute_result"
    }
   ],
   "source": [
    "df['living_area'].isna().sum()"
   ]
  },
  {
   "cell_type": "markdown",
   "metadata": {},
   "source": [
    "-----"
   ]
  },
  {
   "cell_type": "markdown",
   "metadata": {},
   "source": [
    "## Замена NaN в kitchen_area\n",
    "* Воспользуемся медианой по количеству комнат"
   ]
  },
  {
   "cell_type": "code",
   "execution_count": 59,
   "metadata": {},
   "outputs": [],
   "source": [
    "df['kitchen_area']= df.groupby('building_series_id')['kitchen_area'].transform(lambda x: x.fillna(x.median()))"
   ]
  },
  {
   "cell_type": "markdown",
   "metadata": {},
   "source": [
    "* Я вижу, что ты скорректировал код, а вот комментарий оставил тот же, это немного сбивает с толку.\n",
    "---\n",
    "#### Убрал закомментированный код"
   ]
  },
  {
   "cell_type": "code",
   "execution_count": 60,
   "metadata": {},
   "outputs": [
    {
     "data": {
      "text/plain": [
       "0"
      ]
     },
     "execution_count": 60,
     "metadata": {},
     "output_type": "execute_result"
    }
   ],
   "source": [
    "df['kitchen_area'].isna().sum()"
   ]
  },
  {
   "cell_type": "markdown",
   "metadata": {},
   "source": [
    "----------\n",
    "\n",
    "## <span style=\"color:red\">Комментарий от наставника</span>\n",
    "\n",
    "Я бы сначала всё-таки посмотрел медианные значения по кол-ву комнат, потом уже делал замену. Например у меня 3 комн. квартира с кухней в 6.7 м, а у моих друзей 2 комн. с кухней 11 м. На мой взгляд размер потолков, кухни и т.п. больше зависят от типа дома.\n",
    "\n",
    "---------"
   ]
  },
  {
   "cell_type": "markdown",
   "metadata": {},
   "source": [
    "---"
   ]
  },
  {
   "cell_type": "markdown",
   "metadata": {},
   "source": [
    "## Замена NaN в\n",
    "## airports_nearest, cityCenters_nearest, parks_nearest, ponds_nearest\n",
    "* Т.к. даные непрерывные значения в метрах, заменять NaN будем медианнным значением, группируя по названию места.\n",
    "* __Чем меньше населенный пункт, тем точнее будет замена.__ Для СПб, точность будет меньше, но тоже не факт, потому что мы не знаем как формировалась выборка. (Возможно данные взяты из одного района, но гео координат у нас нет)"
   ]
  },
  {
   "cell_type": "markdown",
   "metadata": {},
   "source": [
    "## Замена NaN в airports_nearest"
   ]
  },
  {
   "cell_type": "markdown",
   "metadata": {},
   "source": [
    "### Для примера возьмем поселок шушары, который примыкает к СПб. Т.к. территория большая, то разброс будет большой. Замена на медиану или среднее для такого поселка будет не самым точным вариантом :(\n",
    "* Скриншот с яндекс карт: http://joxi.ru/12MqWWqulW71O2\""
   ]
  },
  {
   "cell_type": "code",
   "execution_count": 61,
   "metadata": {
    "scrolled": true
   },
   "outputs": [
    {
     "data": {
      "text/plain": [
       "<matplotlib.axes._subplots.AxesSubplot at 0x7f729f3c02e8>"
      ]
     },
     "execution_count": 61,
     "metadata": {},
     "output_type": "execute_result"
    },
    {
     "data": {
      "image/png": "[encoded data removed]",
      "text/plain": [
       "<Figure size 432x288 with 1 Axes>"
      ]
     },
     "metadata": {
      "needs_background": "light"
     },
     "output_type": "display_data"
    }
   ],
   "source": [
    "df.query('locality_name == \"поселок Шушары\"')['airports_nearest'].plot(kind='box')"
   ]
  },
  {
   "cell_type": "markdown",
   "metadata": {},
   "source": [
    "----------\n",
    "\n",
    "## <span style=\"color:orange\">Комментарий от наставника</span>\n",
    "\n",
    "Здесь у меня код падает с ошибкой.\n",
    "\n",
    "---------\n",
    "#### Все проблемы из-за буквы ё. Исправил"
   ]
  },
  {
   "cell_type": "markdown",
   "metadata": {},
   "source": [
    "### Посмотрим, в какой доле населенных пунктов, мы сможем заменить таким образом расстояние до аэропорта airports_nearest"
   ]
  },
  {
   "cell_type": "code",
   "execution_count": 62,
   "metadata": {},
   "outputs": [
    {
     "data": {
      "text/plain": [
       "0.07854984894259819"
      ]
     },
     "execution_count": 62,
     "metadata": {},
     "output_type": "execute_result"
    }
   ],
   "source": [
    "df.groupby('locality_name')\\\n",
    "    .agg({'airports_nearest':'median'})\\\n",
    "    .reset_index()\\\n",
    "    .rename(columns={'airports_nearest':'median_value_from_airport'})\\\n",
    "    .median_value_from_airport.notna().sum()/df.locality_name.nunique()"
   ]
  },
  {
   "cell_type": "markdown",
   "metadata": {},
   "source": [
    "### Всего лишь в 8% мест возможно рассчитать медиану по  airports_nearest и заменить NaN в группе.\n",
    "### Т.к. для дальнейшего анализа расстояние до аэропорта нам не понадобиться, не будем заменять пропущенные значения."
   ]
  },
  {
   "cell_type": "markdown",
   "metadata": {},
   "source": [
    "### Оставляем NaN"
   ]
  },
  {
   "cell_type": "markdown",
   "metadata": {},
   "source": [
    "----------\n",
    "\n",
    "## <span style=\"color:red\">Комментарий от наставника</span>\n",
    "\n",
    "Может в таком случае оставить это поле с пропусками? Насколько я вижу цель - у нас нет цели анализировать расстояние до аэропорта - поэтому такая замена нам не понадобится. Не слишком увлекайся заменами пропусков, если для нашего проекта в этом нет необходимости.\n",
    "\n",
    "---------\n",
    "#### Ок, понял"
   ]
  },
  {
   "cell_type": "markdown",
   "metadata": {},
   "source": [
    "----"
   ]
  },
  {
   "cell_type": "markdown",
   "metadata": {},
   "source": [
    "## Замена NaN в cityCenters_nearest"
   ]
  },
  {
   "cell_type": "markdown",
   "metadata": {},
   "source": [
    "### Опять только в 7,39% групп есть данные, по которым мы можем более менее точно рассчитать медианное значения для замены"
   ]
  },
  {
   "cell_type": "code",
   "execution_count": 63,
   "metadata": {},
   "outputs": [
    {
     "data": {
      "text/plain": [
       "0.07854984894259819"
      ]
     },
     "execution_count": 63,
     "metadata": {},
     "output_type": "execute_result"
    }
   ],
   "source": [
    "df.groupby('locality_name')\\\n",
    "    .agg({'cityCenters_nearest':'median'})\\\n",
    "    .reset_index()\\\n",
    "    .rename(columns={'cityCenters_nearest':'median_value_from_center'})\\\n",
    "    .median_value_from_center.notna().sum()/df.locality_name.nunique()"
   ]
  },
  {
   "cell_type": "markdown",
   "metadata": {},
   "source": [
    "## Оставим пропущенные значения"
   ]
  },
  {
   "cell_type": "markdown",
   "metadata": {},
   "source": [
    "----------\n",
    "\n",
    "## <span style=\"color:red\">Комментарий от наставника</span>\n",
    "\n",
    "Слишком большое значение - я бы сейчас не заострял внимание на замене этих пропусков.\n",
    "\n",
    "---------\n",
    "#### Ок, исправил"
   ]
  },
  {
   "cell_type": "code",
   "execution_count": 73,
   "metadata": {},
   "outputs": [
    {
     "data": {
      "text/plain": [
       "65968.0"
      ]
     },
     "execution_count": 73,
     "metadata": {},
     "output_type": "execute_result"
    }
   ],
   "source": [
    "# От наставника\n",
    "df[df['cityCenters_nearest']<9999999]['cityCenters_nearest'].max()"
   ]
  },
  {
   "cell_type": "markdown",
   "metadata": {},
   "source": [
    "----"
   ]
  },
  {
   "cell_type": "markdown",
   "metadata": {},
   "source": [
    "## Замена NaN в parks_nearest"
   ]
  },
  {
   "cell_type": "code",
   "execution_count": 64,
   "metadata": {},
   "outputs": [
    {
     "data": {
      "text/plain": [
       "0.03927492447129909"
      ]
     },
     "execution_count": 64,
     "metadata": {},
     "output_type": "execute_result"
    }
   ],
   "source": [
    "# Замена медианой по населенному пункту возможно только в 3,5% населенных пунктов - очень мало.\n",
    "df.groupby('locality_name')\\\n",
    "    .agg({'parks_nearest':'median'})\\\n",
    "    .reset_index()\\\n",
    "    .rename(columns={'parks_nearest':'median_value'})\\\n",
    "    .median_value.notna().sum()/df.locality_name.nunique()"
   ]
  },
  {
   "cell_type": "markdown",
   "metadata": {},
   "source": [
    "### Ближайшие парки зависят от гео расположения, тк у нас нет гео точек, то замена медианой в больших населенных пунктах не даст точного результата."
   ]
  },
  {
   "cell_type": "markdown",
   "metadata": {},
   "source": [
    "## Оставим пропущенные значения"
   ]
  },
  {
   "cell_type": "markdown",
   "metadata": {},
   "source": [
    "-----"
   ]
  },
  {
   "cell_type": "markdown",
   "metadata": {},
   "source": [
    "## Замена NaN в ponds_nearest"
   ]
  },
  {
   "cell_type": "markdown",
   "metadata": {},
   "source": [
    "### Ближайшие пруды зависят от гео расположения, тк у нас нет гео точек, то замена медианой в больших населенных пунктах не даст точного результата."
   ]
  },
  {
   "cell_type": "markdown",
   "metadata": {},
   "source": [
    "### Тем не менее, проверим в скольки населенных пунктах мы можем заменить nan"
   ]
  },
  {
   "cell_type": "code",
   "execution_count": 65,
   "metadata": {},
   "outputs": [
    {
     "data": {
      "text/plain": [
       "0.05740181268882175"
      ]
     },
     "execution_count": 65,
     "metadata": {},
     "output_type": "execute_result"
    }
   ],
   "source": [
    "#Только в 5% мест, оставляем NaN\n",
    "df.groupby('locality_name')\\\n",
    "    .agg({'ponds_nearest':'median'})\\\n",
    "    .reset_index()\\\n",
    "    .rename(columns={'ponds_nearest':'median_value'})\\\n",
    "    .median_value.notna().sum()/df.locality_name.nunique()"
   ]
  },
  {
   "cell_type": "markdown",
   "metadata": {},
   "source": [
    "----------\n",
    "\n",
    "## <span style=\"color:red\">Комментарий от наставника</span>\n",
    "\n",
    "Обрати внимание, что обычно пруды (и не только пруды) есть рядом, но никак не настолько далеко, как ты предполагаешь 99999999 \n",
    "\n",
    "---------\n",
    "#### Ок, убрал число индикатор пропущенного значения"
   ]
  },
  {
   "cell_type": "code",
   "execution_count": 76,
   "metadata": {},
   "outputs": [
    {
     "data": {
      "text/plain": [
       "503.0"
      ]
     },
     "execution_count": 76,
     "metadata": {},
     "output_type": "execute_result"
    }
   ],
   "source": [
    "df['ponds_nearest'].median()"
   ]
  },
  {
   "cell_type": "markdown",
   "metadata": {},
   "source": [
    "----"
   ]
  },
  {
   "cell_type": "markdown",
   "metadata": {},
   "source": [
    "## Замена NaN в\n",
    "## parks_around3000, ponds_around300\n",
    "* Т.к. даны дискретные значения (количество объектов), заменять NaN будем модой, группируя по названию места.\n",
    "* Если внутри одного населенного пункта пропущены все значения, заменим их на 0"
   ]
  },
  {
   "cell_type": "markdown",
   "metadata": {},
   "source": [
    "## Замена NaN в parks_around3000"
   ]
  },
  {
   "cell_type": "code",
   "execution_count": 66,
   "metadata": {},
   "outputs": [],
   "source": [
    "df['parks_around3000'] = df.groupby('locality_name')['parks_around3000']\\\n",
    "    .transform(lambda x: x.fillna(x.mode()))"
   ]
  },
  {
   "cell_type": "code",
   "execution_count": 67,
   "metadata": {},
   "outputs": [],
   "source": [
    "df['parks_around3000'] = df['parks_around3000'].fillna(0)"
   ]
  },
  {
   "cell_type": "code",
   "execution_count": 68,
   "metadata": {
    "scrolled": false
   },
   "outputs": [
    {
     "data": {
      "text/plain": [
       "0"
      ]
     },
     "execution_count": 68,
     "metadata": {},
     "output_type": "execute_result"
    }
   ],
   "source": [
    "df['parks_around3000'].isna().sum()"
   ]
  },
  {
   "cell_type": "code",
   "execution_count": 69,
   "metadata": {},
   "outputs": [
    {
     "data": {
      "text/plain": [
       "0.0    15577\n",
       "1.0     5658\n",
       "2.0     1739\n",
       "3.0      645\n",
       "Name: parks_around3000, dtype: int64"
      ]
     },
     "execution_count": 69,
     "metadata": {},
     "output_type": "execute_result"
    }
   ],
   "source": [
    "df['parks_around3000'].value_counts()"
   ]
  },
  {
   "cell_type": "markdown",
   "metadata": {},
   "source": [
    "### Меняем тип с float64 на int16, тк данные целочисленные и float избыточен"
   ]
  },
  {
   "cell_type": "code",
   "execution_count": 70,
   "metadata": {},
   "outputs": [],
   "source": [
    "df['parks_around3000'] = df['parks_around3000'].astype('int16')"
   ]
  },
  {
   "cell_type": "markdown",
   "metadata": {},
   "source": [
    "----"
   ]
  },
  {
   "cell_type": "markdown",
   "metadata": {},
   "source": [
    "## Замена NaN в ponds_around3000"
   ]
  },
  {
   "cell_type": "code",
   "execution_count": 71,
   "metadata": {},
   "outputs": [],
   "source": [
    "df['ponds_around3000'] = df.groupby('locality_name')['ponds_around3000']\\\n",
    "    .transform(lambda x: x.fillna(x.mode()))"
   ]
  },
  {
   "cell_type": "code",
   "execution_count": 72,
   "metadata": {},
   "outputs": [],
   "source": [
    "df['ponds_around3000'] = df['ponds_around3000'].fillna(0)"
   ]
  },
  {
   "cell_type": "code",
   "execution_count": 73,
   "metadata": {
    "scrolled": true
   },
   "outputs": [
    {
     "data": {
      "text/plain": [
       "0"
      ]
     },
     "execution_count": 73,
     "metadata": {},
     "output_type": "execute_result"
    }
   ],
   "source": [
    "df['ponds_around3000'].isna().sum()"
   ]
  },
  {
   "cell_type": "markdown",
   "metadata": {},
   "source": [
    "### Меняем тип с float64 на int16, тк данные целочисленные и float избыточен"
   ]
  },
  {
   "cell_type": "code",
   "execution_count": 74,
   "metadata": {},
   "outputs": [],
   "source": [
    "df['ponds_around3000'] = df['ponds_around3000'].astype('int16')"
   ]
  },
  {
   "cell_type": "markdown",
   "metadata": {},
   "source": [
    "----"
   ]
  },
  {
   "cell_type": "markdown",
   "metadata": {},
   "source": [
    "## Замена NaN в days_exposition\n",
    "* days_exposition - кол-во дней прошедших до снятия объекта с продажи\n",
    "### Есть два варианта заполнения пропущенных значений для этой фичи:\n",
    "1. Если мы принимаем что все объекты были сняты с продажи(проданы/или нет), то можно заполнить это дельтой между временем публикации и и сегодняшним числом\n",
    "2. Если мы принимаем, что объекты в которых NaN не были сняты с продажи, то заполняем числом-индикатором, которое означает что объект в конечном итоге не был продан (снят с публикации)"
   ]
  },
  {
   "cell_type": "markdown",
   "metadata": {},
   "source": [
    "### Заполним пропущенные значения числом индикатором -1"
   ]
  },
  {
   "cell_type": "markdown",
   "metadata": {},
   "source": [
    "----------\n",
    "\n",
    "## <span style=\"color:orange\">Комментарий от наставника</span>\n",
    "\n",
    "Может незаполненный столбец означает, что объявление до сих пор размещено? Какие еще варианты? Почему сразу -1?\n",
    "\n",
    "---------\n",
    "#### Если объявление еще размещено, предполагаю, что не стоит брать этот объект для анализа времени экспозиции, тк мы не знаем сколько в конечном счете пройдет времени до его снятия. Другой вариант это считать пройденное количество дней с момента публикации по сегодняшний день, но думаю что это неправильно. Тк в задании есть пояснение: \n",
    "* \"days_exposition — сколько дней было размещено объявление __(от публикации до снятия)__\"\n",
    "\n",
    "## Рассмотрел другие варианты:\n",
    "\n",
    "* Если мы принимаем что все объекты были сняты с продажи(проданы/или нет), то можно заполнить это дельтой между временем публикации и и сегодняшним числом\n",
    "* Если мы принимаем, что объекты в которых NaN все еще размещены, то заполняем числом-индикатором, которое означает что объект в конечном итоге не был продан/снят_с_продажи на момент выгрузки датасета."
   ]
  },
  {
   "cell_type": "code",
   "execution_count": 92,
   "metadata": {},
   "outputs": [
    {
     "data": {
      "text/html": [
       "<div>\n",
       "<style scoped>\n",
       "    .dataframe tbody tr th:only-of-type {\n",
       "        vertical-align: middle;\n",
       "    }\n",
       "\n",
       "    .dataframe tbody tr th {\n",
       "        vertical-align: top;\n",
       "    }\n",
       "\n",
       "    .dataframe thead th {\n",
       "        text-align: right;\n",
       "    }\n",
       "</style>\n",
       "<table border=\"1\" class=\"dataframe\">\n",
       "  <thead>\n",
       "    <tr style=\"text-align: right;\">\n",
       "      <th></th>\n",
       "      <th>building_series_id</th>\n",
       "      <th>total_images</th>\n",
       "      <th>last_price</th>\n",
       "      <th>total_area</th>\n",
       "      <th>first_day_exposition</th>\n",
       "      <th>rooms</th>\n",
       "      <th>ceiling_height</th>\n",
       "      <th>floors_total</th>\n",
       "      <th>living_area</th>\n",
       "      <th>floor</th>\n",
       "      <th>is_apartment</th>\n",
       "      <th>studio</th>\n",
       "      <th>area</th>\n",
       "      <th>open_plan</th>\n",
       "      <th>kitchen_area</th>\n",
       "      <th>balcony</th>\n",
       "      <th>locality_name</th>\n",
       "      <th>airports_nearest</th>\n",
       "      <th>cityCenters_nearest</th>\n",
       "      <th>parks_around3000</th>\n",
       "      <th>parks_nearest</th>\n",
       "      <th>ponds_around3000</th>\n",
       "      <th>ponds_nearest</th>\n",
       "      <th>days_exposition</th>\n",
       "      <th>type_place</th>\n",
       "    </tr>\n",
       "  </thead>\n",
       "  <tbody>\n",
       "    <tr>\n",
       "      <th>0</th>\n",
       "      <td>1564812</td>\n",
       "      <td>20</td>\n",
       "      <td>13000000.0</td>\n",
       "      <td>108.0</td>\n",
       "      <td>2019-03-07T00:00:00</td>\n",
       "      <td>3</td>\n",
       "      <td>2.70</td>\n",
       "      <td>16</td>\n",
       "      <td>51.0</td>\n",
       "      <td>8</td>\n",
       "      <td>0</td>\n",
       "      <td>False</td>\n",
       "      <td>108.0</td>\n",
       "      <td>False</td>\n",
       "      <td>25.00</td>\n",
       "      <td>1</td>\n",
       "      <td>Санкт-Петербург</td>\n",
       "      <td>18863.0</td>\n",
       "      <td>16028.0</td>\n",
       "      <td>1</td>\n",
       "      <td>482.0</td>\n",
       "      <td>2</td>\n",
       "      <td>755.0</td>\n",
       "      <td>NaN</td>\n",
       "      <td>СПб</td>\n",
       "    </tr>\n",
       "    <tr>\n",
       "      <th>1</th>\n",
       "      <td>Серия неизвестна</td>\n",
       "      <td>7</td>\n",
       "      <td>3350000.0</td>\n",
       "      <td>40.4</td>\n",
       "      <td>2018-12-04T00:00:00</td>\n",
       "      <td>1</td>\n",
       "      <td>2.65</td>\n",
       "      <td>11</td>\n",
       "      <td>18.6</td>\n",
       "      <td>1</td>\n",
       "      <td>0</td>\n",
       "      <td>False</td>\n",
       "      <td>40.4</td>\n",
       "      <td>False</td>\n",
       "      <td>11.00</td>\n",
       "      <td>2</td>\n",
       "      <td>поселок Шушары</td>\n",
       "      <td>12817.0</td>\n",
       "      <td>18603.0</td>\n",
       "      <td>0</td>\n",
       "      <td>NaN</td>\n",
       "      <td>0</td>\n",
       "      <td>NaN</td>\n",
       "      <td>81.0</td>\n",
       "      <td>Поселок</td>\n",
       "    </tr>\n",
       "    <tr>\n",
       "      <th>2</th>\n",
       "      <td>Сталинский</td>\n",
       "      <td>10</td>\n",
       "      <td>5196000.0</td>\n",
       "      <td>56.0</td>\n",
       "      <td>2015-08-20T00:00:00</td>\n",
       "      <td>2</td>\n",
       "      <td>3.10</td>\n",
       "      <td>5</td>\n",
       "      <td>34.3</td>\n",
       "      <td>4</td>\n",
       "      <td>0</td>\n",
       "      <td>False</td>\n",
       "      <td>56.0</td>\n",
       "      <td>False</td>\n",
       "      <td>8.30</td>\n",
       "      <td>0</td>\n",
       "      <td>Санкт-Петербург</td>\n",
       "      <td>21741.0</td>\n",
       "      <td>13933.0</td>\n",
       "      <td>1</td>\n",
       "      <td>90.0</td>\n",
       "      <td>2</td>\n",
       "      <td>574.0</td>\n",
       "      <td>558.0</td>\n",
       "      <td>СПб</td>\n",
       "    </tr>\n",
       "    <tr>\n",
       "      <th>3</th>\n",
       "      <td>Серия неизвестна</td>\n",
       "      <td>0</td>\n",
       "      <td>64900000.0</td>\n",
       "      <td>159.0</td>\n",
       "      <td>2015-07-24T00:00:00</td>\n",
       "      <td>3</td>\n",
       "      <td>2.65</td>\n",
       "      <td>14</td>\n",
       "      <td>45.0</td>\n",
       "      <td>9</td>\n",
       "      <td>0</td>\n",
       "      <td>False</td>\n",
       "      <td>159.0</td>\n",
       "      <td>False</td>\n",
       "      <td>9.31</td>\n",
       "      <td>0</td>\n",
       "      <td>Санкт-Петербург</td>\n",
       "      <td>28098.0</td>\n",
       "      <td>6800.0</td>\n",
       "      <td>2</td>\n",
       "      <td>84.0</td>\n",
       "      <td>3</td>\n",
       "      <td>234.0</td>\n",
       "      <td>424.0</td>\n",
       "      <td>СПб</td>\n",
       "    </tr>\n",
       "    <tr>\n",
       "      <th>4</th>\n",
       "      <td>Серия неизвестна</td>\n",
       "      <td>2</td>\n",
       "      <td>10000000.0</td>\n",
       "      <td>100.0</td>\n",
       "      <td>2018-06-19T00:00:00</td>\n",
       "      <td>2</td>\n",
       "      <td>3.03</td>\n",
       "      <td>14</td>\n",
       "      <td>32.0</td>\n",
       "      <td>13</td>\n",
       "      <td>0</td>\n",
       "      <td>False</td>\n",
       "      <td>100.0</td>\n",
       "      <td>False</td>\n",
       "      <td>41.00</td>\n",
       "      <td>1</td>\n",
       "      <td>Санкт-Петербург</td>\n",
       "      <td>31856.0</td>\n",
       "      <td>8098.0</td>\n",
       "      <td>2</td>\n",
       "      <td>112.0</td>\n",
       "      <td>1</td>\n",
       "      <td>48.0</td>\n",
       "      <td>121.0</td>\n",
       "      <td>СПб</td>\n",
       "    </tr>\n",
       "  </tbody>\n",
       "</table>\n",
       "</div>"
      ],
      "text/plain": [
       "  building_series_id  total_images  last_price  total_area  \\\n",
       "0            1564812            20  13000000.0       108.0   \n",
       "1   Серия неизвестна             7   3350000.0        40.4   \n",
       "2         Сталинский            10   5196000.0        56.0   \n",
       "3   Серия неизвестна             0  64900000.0       159.0   \n",
       "4   Серия неизвестна             2  10000000.0       100.0   \n",
       "\n",
       "  first_day_exposition  rooms  ceiling_height  floors_total  living_area  \\\n",
       "0  2019-03-07T00:00:00      3            2.70            16         51.0   \n",
       "1  2018-12-04T00:00:00      1            2.65            11         18.6   \n",
       "2  2015-08-20T00:00:00      2            3.10             5         34.3   \n",
       "3  2015-07-24T00:00:00      3            2.65            14         45.0   \n",
       "4  2018-06-19T00:00:00      2            3.03            14         32.0   \n",
       "\n",
       "   floor  is_apartment  studio   area  open_plan  kitchen_area  balcony  \\\n",
       "0      8             0   False  108.0      False         25.00        1   \n",
       "1      1             0   False   40.4      False         11.00        2   \n",
       "2      4             0   False   56.0      False          8.30        0   \n",
       "3      9             0   False  159.0      False          9.31        0   \n",
       "4     13             0   False  100.0      False         41.00        1   \n",
       "\n",
       "     locality_name  airports_nearest  cityCenters_nearest  parks_around3000  \\\n",
       "0  Санкт-Петербург           18863.0              16028.0                 1   \n",
       "1   поселок Шушары           12817.0              18603.0                 0   \n",
       "2  Санкт-Петербург           21741.0              13933.0                 1   \n",
       "3  Санкт-Петербург           28098.0               6800.0                 2   \n",
       "4  Санкт-Петербург           31856.0               8098.0                 2   \n",
       "\n",
       "   parks_nearest  ponds_around3000  ponds_nearest  days_exposition type_place  \n",
       "0          482.0                 2          755.0              NaN        СПб  \n",
       "1            NaN                 0            NaN             81.0    Поселок  \n",
       "2           90.0                 2          574.0            558.0        СПб  \n",
       "3           84.0                 3          234.0            424.0        СПб  \n",
       "4          112.0                 1           48.0            121.0        СПб  "
      ]
     },
     "execution_count": 92,
     "metadata": {},
     "output_type": "execute_result"
    }
   ],
   "source": [
    "df.head()"
   ]
  },
  {
   "cell_type": "code",
   "execution_count": 87,
   "metadata": {},
   "outputs": [
    {
     "data": {
      "text/plain": [
       "<matplotlib.axes._subplots.AxesSubplot at 0x7f6052a21e80>"
      ]
     },
     "execution_count": 87,
     "metadata": {},
     "output_type": "execute_result"
    },
    {
     "data": {
      "image/png": "[encoded data removed]",
      "text/plain": [
       "<Figure size 432x288 with 1 Axes>"
      ]
     },
     "metadata": {
      "needs_background": "light"
     },
     "output_type": "display_data"
    }
   ],
   "source": [
    "# Код наставника\n",
    "df['days_exposition'].plot.hist()"
   ]
  },
  {
   "cell_type": "code",
   "execution_count": 75,
   "metadata": {
    "scrolled": true
   },
   "outputs": [],
   "source": [
    "df['days_exposition'] = df['days_exposition'].fillna(-1)"
   ]
  },
  {
   "cell_type": "code",
   "execution_count": 99,
   "metadata": {},
   "outputs": [],
   "source": [
    "#альтернативный вариант заполнения nan: (сегодняшняя дата - дата экспозиции) в днях"
   ]
  },
  {
   "cell_type": "markdown",
   "metadata": {},
   "source": [
    "----\n",
    "----\n",
    "----"
   ]
  },
  {
   "cell_type": "markdown",
   "metadata": {},
   "source": [
    "# Посчитайте и добавьте в таблицу:\n",
    "* цену квадратного метра;\n",
    "* день недели, месяц и год публикации объявления;\n",
    "* этаж, на котором расположена квартира; варианты — первый, последний, другой;\n",
    "* соотношение жилой и общей площади, а также отношение площади кухни к общей."
   ]
  },
  {
   "cell_type": "markdown",
   "metadata": {},
   "source": [
    "----"
   ]
  },
  {
   "cell_type": "markdown",
   "metadata": {},
   "source": [
    "### Добавим цену квадратного метра. \n",
    "* Для этого разделим цену на общую площадь объекта"
   ]
  },
  {
   "cell_type": "code",
   "execution_count": 76,
   "metadata": {},
   "outputs": [],
   "source": [
    "df['m2_cost'] = df['last_price']/df['total_area'] "
   ]
  },
  {
   "cell_type": "markdown",
   "metadata": {},
   "source": [
    "### Добавим день недели, месяц и год публикации объявления\n",
    "* Переведем дату и время в формат datetime\n",
    "* Добавим timedelta чтобы перевести время в корректный часовой пояс"
   ]
  },
  {
   "cell_type": "code",
   "execution_count": 77,
   "metadata": {},
   "outputs": [],
   "source": [
    "df['date_time'] = pd.to_datetime(df['first_day_exposition'],format='%Y-%m-%dT%H:%M:%S')"
   ]
  },
  {
   "cell_type": "markdown",
   "metadata": {},
   "source": [
    "### Т.к. точное время не используется в датасете, нет необходимости переводить в часовой пояс МСК"
   ]
  },
  {
   "cell_type": "markdown",
   "metadata": {},
   "source": [
    "----------\n",
    "\n",
    "## <span style=\"color:red\">Комментарий от наставника</span>\n",
    "\n",
    "А зачем ты делаешь это действие?\n",
    "\n",
    "---------\n",
    "#### *Поправил"
   ]
  },
  {
   "cell_type": "markdown",
   "metadata": {},
   "source": [
    "### Добавим день недели, месяц и год публикации объявления"
   ]
  },
  {
   "cell_type": "code",
   "execution_count": 78,
   "metadata": {},
   "outputs": [],
   "source": [
    "df['week_day'] = df['date_time'].dt.weekday\n",
    "df['month'] = df['date_time'].dt.month\n",
    "df['year'] = df['date_time'].dt.year"
   ]
  },
  {
   "cell_type": "markdown",
   "metadata": {},
   "source": [
    "### Добавим этаж, на котором расположена квартира; варианты — первый, последний, другой"
   ]
  },
  {
   "cell_type": "code",
   "execution_count": 79,
   "metadata": {},
   "outputs": [],
   "source": [
    "#можно сделать apply, можно двумя np.where, сделал apply:\n",
    "df['type_floor'] = df.apply(\n",
    "                lambda x: 'первый' if x.floor == 1\n",
    "                     else 'последний' if x.floor == x.floors_total\n",
    "                     else 'другой', axis=1)"
   ]
  },
  {
   "cell_type": "code",
   "execution_count": 80,
   "metadata": {},
   "outputs": [
    {
     "data": {
      "text/plain": [
       "другой       17369\n",
       "последний     3336\n",
       "первый        2914\n",
       "Name: type_floor, dtype: int64"
      ]
     },
     "execution_count": 80,
     "metadata": {},
     "output_type": "execute_result"
    }
   ],
   "source": [
    "df['type_floor'].value_counts()"
   ]
  },
  {
   "cell_type": "markdown",
   "metadata": {},
   "source": [
    "### Добавим соотношение жилой и общей площади, а также отношение площади кухни к общей."
   ]
  },
  {
   "cell_type": "code",
   "execution_count": 82,
   "metadata": {},
   "outputs": [],
   "source": [
    "df['live_total_ratio'] = df['living_area']/df['total_area']"
   ]
  },
  {
   "cell_type": "code",
   "execution_count": 83,
   "metadata": {},
   "outputs": [],
   "source": [
    "df['kitchen_total_ratio'] = df['kitchen_area']/df['total_area']"
   ]
  },
  {
   "cell_type": "markdown",
   "metadata": {},
   "source": [
    "-----"
   ]
  },
  {
   "cell_type": "markdown",
   "metadata": {},
   "source": [
    "## Выводы по первой части"
   ]
  },
  {
   "cell_type": "markdown",
   "metadata": {},
   "source": [
    "## Поясните:\n",
    "### __Какие пропущенные значения обнаружены;__\n",
    "### __В каких столбцах потребовалось изменить тип данных и почему;__\n",
    "### __По какому принципу заполнены пропуски.__\n",
    "*\n",
    "*\n",
    "\n",
    "* __building_series_id__\n",
    "* * Были обнаружены пропущенные значения, нельзя восстановить, заменил на \"Серия неизвестна\"\n",
    "\n",
    "* __ceiling_height__\n",
    "* * Были обнаружены пропущенные значения, восстанавливал заменой на медианное значение по серии дома, исходя из того что в одном типе дома нет разных потолков. \n",
    "* __floors_total__\n",
    "* * По известным сериям взял максимальное значение в серии, по неизвестным сериям нельзя восстановить значение. Дропнул 80 объектов.\n",
    "* __living_area__\n",
    "* * Медианное значение по комнатности квартир и серии\n",
    "* __is_apartment__\n",
    "* * Исходя из пояснения, что неуказанные значения на самом деле равны False\n",
    "* __kitchen_area__\n",
    "* * Медианное значение по комнатности квартир и серии\n",
    "* __balcony__\n",
    "* * Замена модой внутри группы по серии и кол-ву комнат, тк значение категориальное\n",
    "* __locality_name__\n",
    "* * Не подлежит восстановлению, заменил на \"Локация неизвестна\"\n",
    "* __airports_nearest__\n",
    "* * Заменил на медианное значение расстояния по известным данным в той же локации\n",
    "* __cityCenters_nearest__  \n",
    "* * Заменил на медианное значение расстояния по известным данным в той же локации\n",
    "* __parks_around3000__\n",
    "* * Тк данные категориальные, заменил на моду по известным данным в той же локации\n",
    "* __parks_nearest__   \n",
    "* * Заменил на медианное значение расстояния по известным данным в той же локации\n",
    "* __ponds_around3000__\n",
    "* * Тк данные категориальные, заменил на моду по известным данным в той же локации\n",
    "* __ponds_nearest__\n",
    "* * Заменил на медианное значение расстояния по известным данным в той же локации\n",
    "* __days_exposition__\n",
    "* * Заменил на число индикатор\n",
    "### В чём возможные причины возникновения пропусков;\n",
    "* Пропуски могут возникать по разным причинам\n",
    "1. из-за неправильного заполнения известных данных (NaN вместо 0)\n",
    "2. когда данные неизвестны\n",
    "3. когда в данных есть ошибки"
   ]
  },
  {
   "cell_type": "markdown",
   "metadata": {},
   "source": [
    "----------\n",
    "\n",
    "## <span style=\"color:red\">Комментарий от наставника</span>\n",
    "\n",
    "Всё хорошо, но я бы больше сосредочился на последовательных выводах по причине возникновения пропусков. Также не заострял бы внимание на поиске пропусков и замене их, если далее ты данные не будешь использовать. Молодец.\n",
    "\n",
    "---------"
   ]
  },
  {
   "cell_type": "markdown",
   "metadata": {},
   "source": [
    "----\n",
    "-----\n",
    "-----\n"
   ]
  },
  {
   "cell_type": "markdown",
   "metadata": {},
   "source": [
    "\n",
    "# Задание_2. Шаг 1\n",
    "\n",
    "### Шаг 1. Проведите исследовательский анализ данных и ответьте на вопросы:\n",
    "\n",
    "* Каковы типичные параметры продаваемых квартир (например, площадь, цена)? \n",
    "* Укажите наиболее важные характеристики и постройте графики.\n",
    "* Сколько обычно длится процесс продажи?\n",
    " \n",
    "#### Уберите квартиры с очень высокой ценой и другими необычными параметрами. Опишите, какие особенности обнаружили.\n",
    "\n",
    "#### Какие факторы больше всего влияют на стоимость квартиры? Отдельно изучите:\n",
    "    1. зависит ли цена квадратного метра от числа комнат\n",
    "    2. этажа (первого или последнего)\n",
    "    3. удалённости от центра\n",
    "    4. даты размещения: дня недели, месяца и года.\n",
    "    \n",
    "#### Что можно сказать о цене квадратного метра в пригородах?\n",
    "* Выберите 10 населённых пунктов с наибольшим числом объявлений. Эти данные можно отличить по имени в столбце 'locality_name'.\n",
    "\n",
    "#### Выделите сегменты типичных квартир в центре (по удалённости, числу комнат и площади) и вне центра. \n",
    "* Границы определите самостоятельно. Выберите достаточно крупные сегменты с не менее 1000 объявлений. Сравните корреляцию основных факторов с ценой по всем предложениям и объявлениям в вашей выборке.\n",
    "\n",
    "#### Подберите наиболее характерные параметры для апартаментов, студий и квартир свободной планировки. \n",
    "* Влияют ли они на цену? Сравните со схожими параметрами квартир типовой планировки.\n"
   ]
  },
  {
   "cell_type": "markdown",
   "metadata": {},
   "source": [
    "-----"
   ]
  },
  {
   "cell_type": "markdown",
   "metadata": {},
   "source": [
    "## Для очистки от выбросов и построения графиков boxplot напишем функцию"
   ]
  },
  {
   "cell_type": "code",
   "execution_count": 93,
   "metadata": {},
   "outputs": [],
   "source": [
    "def delete_outliers(df, column,graphic=0,x=8,y=8):\n",
    "    # Посчитаем первый и третий квантиль\n",
    "    q1 = df[column].quantile(0.25)                 \n",
    "    q3 = df[column].quantile(0.75)\n",
    "    # Посчитаем межквартильный размах\n",
    "    iqr = q3 - q1\n",
    "    # Отфильтруем по условию\n",
    "    filter = (df[column] >= (q1 - 1.5*iqr)) & (df[column] <= (q3 + 1.5*iqr))\n",
    "    if graphic == 1:\n",
    "        return df.loc[filter].boxplot([column], figsize=(x,y))\n",
    "    else:\n",
    "        return df.loc[filter] "
   ]
  },
  {
   "cell_type": "markdown",
   "metadata": {},
   "source": [
    "## Уберите квартиры с очень высокой ценой и другими необычными параметрами. Опишите, какие особенности обнаружили."
   ]
  },
  {
   "cell_type": "markdown",
   "metadata": {},
   "source": [
    "### Построим box-plot для total_area"
   ]
  },
  {
   "cell_type": "code",
   "execution_count": 101,
   "metadata": {},
   "outputs": [
    {
     "data": {
      "text/plain": [
       "(0, 200)"
      ]
     },
     "execution_count": 101,
     "metadata": {},
     "output_type": "execute_result"
    },
    {
     "data": {
      "image/png": "[encoded data removed]",
      "text/plain": [
       "<Figure size 576x576 with 1 Axes>"
      ]
     },
     "metadata": {
      "needs_background": "light"
     },
     "output_type": "display_data"
    }
   ],
   "source": [
    "plot = df.boxplot(['total_area'], figsize=(8,8))\n",
    "plot.set_ylim(0,200)"
   ]
  },
  {
   "cell_type": "code",
   "execution_count": 114,
   "metadata": {},
   "outputs": [
    {
     "data": {
      "text/plain": [
       "50.1"
      ]
     },
     "execution_count": 114,
     "metadata": {},
     "output_type": "execute_result"
    }
   ],
   "source": [
    "# Посчитаем медианную площадь после удаления выбросов\n",
    "delete_outliers(df,'total_area',0)['total_area'].median()"
   ]
  },
  {
   "cell_type": "code",
   "execution_count": 97,
   "metadata": {},
   "outputs": [
    {
     "data": {
      "text/plain": [
       "(0, 120)"
      ]
     },
     "execution_count": 97,
     "metadata": {},
     "output_type": "execute_result"
    },
    {
     "data": {
      "image/png": "[encoded data removed]",
      "text/plain": [
       "<Figure size 432x432 with 1 Axes>"
      ]
     },
     "metadata": {
      "needs_background": "light"
     },
     "output_type": "display_data"
    }
   ],
   "source": [
    "#Построим график\n",
    "#после удаления выбросов (выходящих за концы усов боксплота)\n",
    "delete_outliers(df,'total_area',1,6,6).set_ylim(0,120)"
   ]
  },
  {
   "cell_type": "markdown",
   "metadata": {},
   "source": [
    "### Типичная площадь квартиры 50,1 м2"
   ]
  },
  {
   "cell_type": "markdown",
   "metadata": {},
   "source": [
    "----------\n",
    "\n",
    "## <span style=\"color:orange\">Комментарий от наставника</span>\n",
    "\n",
    "Здесь и в дальнейшем я бы всё же использовал интерквартильный размах между 25 и 75 персентилем\n",
    "\n",
    "---------\n",
    "#### Внес правки"
   ]
  },
  {
   "cell_type": "markdown",
   "metadata": {},
   "source": [
    "### Box-plot для m2_cost"
   ]
  },
  {
   "cell_type": "code",
   "execution_count": 102,
   "metadata": {
    "scrolled": false
   },
   "outputs": [
    {
     "data": {
      "text/plain": [
       "(0, 300000)"
      ]
     },
     "execution_count": 102,
     "metadata": {},
     "output_type": "execute_result"
    },
    {
     "data": {
      "image/png": "[encoded data removed]",
      "text/plain": [
       "<Figure size 432x432 with 1 Axes>"
      ]
     },
     "metadata": {
      "needs_background": "light"
     },
     "output_type": "display_data"
    }
   ],
   "source": [
    "# исходный датафрейм\n",
    "plot = df.boxplot(['m2_cost'], figsize=(6,6))\n",
    "plot.set_ylim(0,300000)"
   ]
  },
  {
   "cell_type": "code",
   "execution_count": 98,
   "metadata": {},
   "outputs": [
    {
     "data": {
      "text/plain": [
       "(15000, 200000)"
      ]
     },
     "execution_count": 98,
     "metadata": {},
     "output_type": "execute_result"
    },
    {
     "data": {
      "image/png": "[encoded data removed]",
      "text/plain": [
       "<Figure size 432x432 with 1 Axes>"
      ]
     },
     "metadata": {
      "needs_background": "light"
     },
     "output_type": "display_data"
    }
   ],
   "source": [
    "#После удаления выбросов\n",
    "delete_outliers(df,'m2_cost',1,6,6).set_ylim(15000,200000)"
   ]
  },
  {
   "cell_type": "code",
   "execution_count": 115,
   "metadata": {},
   "outputs": [
    {
     "data": {
      "text/plain": [
       "93902.43902439025"
      ]
     },
     "execution_count": 115,
     "metadata": {},
     "output_type": "execute_result"
    }
   ],
   "source": [
    "# Найдем медианную цену за квадратный метр после удаления выбросов\n",
    "delete_outliers(df,'m2_cost',0)['m2_cost'].median()"
   ]
  },
  {
   "cell_type": "markdown",
   "metadata": {},
   "source": [
    "### Типичная стоимость квадратного метра 93902 р"
   ]
  },
  {
   "cell_type": "markdown",
   "metadata": {},
   "source": [
    "### Box-plot для last_price"
   ]
  },
  {
   "cell_type": "code",
   "execution_count": 101,
   "metadata": {
    "scrolled": false
   },
   "outputs": [
    {
     "data": {
      "text/plain": [
       "(0, 13000000)"
      ]
     },
     "execution_count": 101,
     "metadata": {},
     "output_type": "execute_result"
    },
    {
     "data": {
      "image/png": "[encoded data removed]",
      "text/plain": [
       "<Figure size 432x432 with 1 Axes>"
      ]
     },
     "metadata": {
      "needs_background": "light"
     },
     "output_type": "display_data"
    }
   ],
   "source": [
    "plot = df.boxplot(['last_price'], figsize=(6,6))\n",
    "plot.set_ylim(0,13000000)"
   ]
  },
  {
   "cell_type": "code",
   "execution_count": 116,
   "metadata": {
    "scrolled": false
   },
   "outputs": [
    {
     "data": {
      "text/plain": [
       "(2000000, 10000000)"
      ]
     },
     "execution_count": 116,
     "metadata": {},
     "output_type": "execute_result"
    },
    {
     "data": {
      "image/png": "[encoded data removed]",
      "text/plain": [
       "<Figure size 432x432 with 1 Axes>"
      ]
     },
     "metadata": {
      "needs_background": "light"
     },
     "output_type": "display_data"
    }
   ],
   "source": [
    "#Box-plot после удаления выбросов\n",
    "delete_outliers(df,'last_price',1,6,6).set_ylim(2000000,10000000)"
   ]
  },
  {
   "cell_type": "code",
   "execution_count": 118,
   "metadata": {},
   "outputs": [
    {
     "data": {
      "text/plain": [
       "4400000.0"
      ]
     },
     "execution_count": 118,
     "metadata": {},
     "output_type": "execute_result"
    }
   ],
   "source": [
    "delete_outliers(df,'last_price',0)['last_price'].median()"
   ]
  },
  {
   "cell_type": "markdown",
   "metadata": {},
   "source": [
    "### Типичная квартира стоит 4,4 млн р по всему датасету"
   ]
  },
  {
   "cell_type": "markdown",
   "metadata": {},
   "source": [
    "------"
   ]
  },
  {
   "cell_type": "markdown",
   "metadata": {},
   "source": [
    "### Создадим новый датафрейм, в котором уберем все квартиры со слишкой высокой ценой, слишком большой площадью и стоимостью квадратного метра. Для отсечения будем использовать 1,5 IQR (используем функцию delete_outliers вверху и проход в цикле по нужным фичам)"
   ]
  },
  {
   "cell_type": "code",
   "execution_count": 120,
   "metadata": {},
   "outputs": [],
   "source": [
    "df_typical = delete_outliers(df,'m2_cost',0)\n",
    "for feature in ['last_price','total_area']:\n",
    "    df_typical = delete_outliers(df_typical,feature,0)"
   ]
  },
  {
   "cell_type": "markdown",
   "metadata": {},
   "source": [
    "------"
   ]
  },
  {
   "cell_type": "markdown",
   "metadata": {},
   "source": [
    "## Что можно сказать о цене квадратного метра в пригородах?"
   ]
  },
  {
   "cell_type": "markdown",
   "metadata": {},
   "source": [
    "### Посмотрим на общую картину, разделив на группы - пригород и не пригород"
   ]
  },
  {
   "cell_type": "code",
   "execution_count": 122,
   "metadata": {},
   "outputs": [],
   "source": [
    "list_for_filter = ['СПб','Город','Локация неизвестна']\n",
    "df['prigorod'] = np.where(df['type_place'].isin(list_for_filter), 0, 1)"
   ]
  },
  {
   "cell_type": "code",
   "execution_count": 123,
   "metadata": {
    "scrolled": true
   },
   "outputs": [
    {
     "data": {
      "text/html": [
       "<div>\n",
       "<style scoped>\n",
       "    .dataframe tbody tr th:only-of-type {\n",
       "        vertical-align: middle;\n",
       "    }\n",
       "\n",
       "    .dataframe tbody tr th {\n",
       "        vertical-align: top;\n",
       "    }\n",
       "\n",
       "    .dataframe thead th {\n",
       "        text-align: right;\n",
       "    }\n",
       "</style>\n",
       "<table border=\"1\" class=\"dataframe\">\n",
       "  <thead>\n",
       "    <tr style=\"text-align: right;\">\n",
       "      <th></th>\n",
       "      <th>m2_cost</th>\n",
       "    </tr>\n",
       "    <tr>\n",
       "      <th>prigorod</th>\n",
       "      <th></th>\n",
       "    </tr>\n",
       "  </thead>\n",
       "  <tbody>\n",
       "    <tr>\n",
       "      <th>0</th>\n",
       "      <td>99019.607843</td>\n",
       "    </tr>\n",
       "    <tr>\n",
       "      <th>1</th>\n",
       "      <td>70849.737533</td>\n",
       "    </tr>\n",
       "  </tbody>\n",
       "</table>\n",
       "</div>"
      ],
      "text/plain": [
       "               m2_cost\n",
       "prigorod              \n",
       "0         99019.607843\n",
       "1         70849.737533"
      ]
     },
     "execution_count": 123,
     "metadata": {},
     "output_type": "execute_result"
    }
   ],
   "source": [
    "df.groupby('prigorod').agg({'m2_cost':'median'})"
   ]
  },
  {
   "cell_type": "code",
   "execution_count": 124,
   "metadata": {
    "scrolled": false
   },
   "outputs": [
    {
     "data": {
      "text/plain": [
       "(0, 200000)"
      ]
     },
     "execution_count": 124,
     "metadata": {},
     "output_type": "execute_result"
    },
    {
     "data": {
      "image/png": "[encoded data removed]",
      "text/plain": [
       "<Figure size 864x432 with 1 Axes>"
      ]
     },
     "metadata": {
      "needs_background": "light"
     },
     "output_type": "display_data"
    }
   ],
   "source": [
    "#графики для исходного датафрейма\n",
    "plot = df.boxplot('m2_cost', by='prigorod', figsize=(12,6))\n",
    "plot.set_ylim(0,200000)"
   ]
  },
  {
   "cell_type": "markdown",
   "metadata": {},
   "source": [
    "### Сравним с данными в отфильтрованном датафрейме с типичными квартирами"
   ]
  },
  {
   "cell_type": "code",
   "execution_count": 125,
   "metadata": {},
   "outputs": [],
   "source": [
    "df_typical['prigorod'] = np.where(df_typical.type_place.isin(list_for_filter), 0, 1)"
   ]
  },
  {
   "cell_type": "code",
   "execution_count": 126,
   "metadata": {
    "scrolled": false
   },
   "outputs": [
    {
     "data": {
      "text/plain": [
       "(0, 200000)"
      ]
     },
     "execution_count": 126,
     "metadata": {},
     "output_type": "execute_result"
    },
    {
     "data": {
      "image/png": "[encoded data removed]",
      "text/plain": [
       "<Figure size 864x432 with 1 Axes>"
      ]
     },
     "metadata": {
      "needs_background": "light"
     },
     "output_type": "display_data"
    }
   ],
   "source": [
    "#графики для \"типичных\" квартир\n",
    "plot = df_typical.boxplot('m2_cost', by='prigorod', figsize=(12,6))\n",
    "plot.set_ylim(0,200000)"
   ]
  },
  {
   "cell_type": "markdown",
   "metadata": {},
   "source": [
    "#### На втором графике с боксплотами еще присутствуют выбросы и их больше в пригороде. Это объясняется тем, что мы проводили отсечение для всего датафрейма, но то что не являлось выбросами в городе, может ими быть в пригороде."
   ]
  },
  {
   "cell_type": "markdown",
   "metadata": {},
   "source": [
    "### Удалим выбросы отдельно для пригорода и отдельно для города"
   ]
  },
  {
   "cell_type": "code",
   "execution_count": 137,
   "metadata": {
    "scrolled": false
   },
   "outputs": [
    {
     "data": {
      "text/plain": [
       "(0, 180000)"
      ]
     },
     "execution_count": 137,
     "metadata": {},
     "output_type": "execute_result"
    },
    {
     "data": {
      "image/png": "[encoded data removed]",
      "text/plain": [
       "<Figure size 432x432 with 1 Axes>"
      ]
     },
     "metadata": {
      "needs_background": "light"
     },
     "output_type": "display_data"
    }
   ],
   "source": [
    "# очистим от выбросов в м2_cost не в пригороде\n",
    "df_prigorod = delete_outliers(df[df.prigorod==1],'m2_cost',1,6,6)\n",
    "df_prigorod.set_ylim(0,180000)"
   ]
  },
  {
   "cell_type": "code",
   "execution_count": 133,
   "metadata": {
    "scrolled": false
   },
   "outputs": [
    {
     "data": {
      "text/plain": [
       "(15000, 200000)"
      ]
     },
     "execution_count": 133,
     "metadata": {},
     "output_type": "execute_result"
    },
    {
     "data": {
      "image/png": "[encoded data removed]",
      "text/plain": [
       "<Figure size 432x432 with 1 Axes>"
      ]
     },
     "metadata": {
      "needs_background": "light"
     },
     "output_type": "display_data"
    }
   ],
   "source": [
    "# очистим от выбросов в м2_cost не в пригороде\n",
    "df_ne_prigorod = delete_outliers(df[df.prigorod==0],'m2_cost',0)\n",
    "df_ne_prigorod.set_ylim(15000,200000)"
   ]
  },
  {
   "cell_type": "code",
   "execution_count": 139,
   "metadata": {},
   "outputs": [
    {
     "name": "stdout",
     "output_type": "stream",
     "text": [
      "70796.46017699115 97909.38228438229\n"
     ]
    }
   ],
   "source": [
    "#Получим медианные цены м2 для пригорода и не пригорода после удаления выбросов\n",
    "print(delete_outliers(df[df.prigorod==1],'m2_cost',0)['m2_cost'].median(),\n",
    "        delete_outliers(df[df.prigorod==0],'m2_cost',0)['m2_cost'].median())"
   ]
  },
  {
   "cell_type": "markdown",
   "metadata": {},
   "source": [
    "## Вывод: в пригороде медиана цены квадратного метра меньше, меньше разброс значений. Намного меньше выбросов по стоимости квадратного метра(в исходном df)\n",
    "\n",
    "* По сравнению с группой в которую входят города, СПб и неизвестная локация (не пригород)"
   ]
  },
  {
   "cell_type": "markdown",
   "metadata": {},
   "source": [
    "------"
   ]
  },
  {
   "cell_type": "markdown",
   "metadata": {},
   "source": [
    "### Выберите 10 населённых пунктов с наибольшим числом объявлений. Эти данные можно отличить по имени в столбце 'locality_name'"
   ]
  },
  {
   "cell_type": "code",
   "execution_count": 140,
   "metadata": {
    "scrolled": true
   },
   "outputs": [],
   "source": [
    "df_top10_places = df.groupby('locality_name')\\\n",
    "    .agg({'prigorod':'count','m2_cost':'median'})\\\n",
    "    .rename(columns={'prigorod':'count_objects','m2_cost':'m2_cost_median'})\n",
    "df_top10_places = df_top10_places.sort_values('count_objects', ascending=False).head(10)"
   ]
  },
  {
   "cell_type": "code",
   "execution_count": 141,
   "metadata": {
    "scrolled": true
   },
   "outputs": [
    {
     "data": {
      "text/plain": [
       "<matplotlib.axes._subplots.AxesSubplot at 0x7f729f2a0908>"
      ]
     },
     "execution_count": 141,
     "metadata": {},
     "output_type": "execute_result"
    },
    {
     "data": {
      "image/png": "[encoded data removed]",
      "text/plain": [
       "<Figure size 432x288 with 1 Axes>"
      ]
     },
     "metadata": {
      "needs_background": "light"
     },
     "output_type": "display_data"
    }
   ],
   "source": [
    "df_top10_places.sort_values('m2_cost_median', ascending=True)\\\n",
    "    .drop('count_objects', axis=1).plot(kind='barh')"
   ]
  },
  {
   "cell_type": "code",
   "execution_count": 142,
   "metadata": {},
   "outputs": [],
   "source": [
    "top_10_places_list = df_top10_places.reset_index().locality_name.to_list()"
   ]
  },
  {
   "cell_type": "code",
   "execution_count": 143,
   "metadata": {
    "scrolled": false
   },
   "outputs": [
    {
     "data": {
      "image/png": "[encoded data removed]",
      "text/plain": [
       "<Figure size 1440x576 with 1 Axes>"
      ]
     },
     "metadata": {
      "needs_background": "light"
     },
     "output_type": "display_data"
    }
   ],
   "source": [
    "plot = df[df.locality_name.isin(top_10_places_list)]\\\n",
    "    .boxplot('m2_cost', by='locality_name',figsize=(20,8))\\\n",
    "    .set_ylim(0,250000)"
   ]
  },
  {
   "cell_type": "code",
   "execution_count": 165,
   "metadata": {},
   "outputs": [
    {
     "data": {
      "text/html": [
       "<div>\n",
       "<style scoped>\n",
       "    .dataframe tbody tr th:only-of-type {\n",
       "        vertical-align: middle;\n",
       "    }\n",
       "\n",
       "    .dataframe tbody tr th {\n",
       "        vertical-align: top;\n",
       "    }\n",
       "\n",
       "    .dataframe thead th {\n",
       "        text-align: right;\n",
       "    }\n",
       "</style>\n",
       "<table border=\"1\" class=\"dataframe\">\n",
       "  <thead>\n",
       "    <tr style=\"text-align: right;\">\n",
       "      <th></th>\n",
       "      <th>m2_cost</th>\n",
       "    </tr>\n",
       "    <tr>\n",
       "      <th>locality_name</th>\n",
       "      <th></th>\n",
       "    </tr>\n",
       "  </thead>\n",
       "  <tbody>\n",
       "    <tr>\n",
       "      <th>Всеволожск</th>\n",
       "      <td>65789.473684</td>\n",
       "    </tr>\n",
       "    <tr>\n",
       "      <th>Выборг</th>\n",
       "      <td>58158.319871</td>\n",
       "    </tr>\n",
       "    <tr>\n",
       "      <th>Гатчина</th>\n",
       "      <td>67796.610169</td>\n",
       "    </tr>\n",
       "    <tr>\n",
       "      <th>Колпино</th>\n",
       "      <td>74723.748474</td>\n",
       "    </tr>\n",
       "    <tr>\n",
       "      <th>Пушкин</th>\n",
       "      <td>100000.000000</td>\n",
       "    </tr>\n",
       "    <tr>\n",
       "      <th>Санкт-Петербург</th>\n",
       "      <td>104794.199480</td>\n",
       "    </tr>\n",
       "    <tr>\n",
       "      <th>деревня Кудрово</th>\n",
       "      <td>91860.465116</td>\n",
       "    </tr>\n",
       "    <tr>\n",
       "      <th>поселок Мурино</th>\n",
       "      <td>86059.293995</td>\n",
       "    </tr>\n",
       "    <tr>\n",
       "      <th>поселок Парголово</th>\n",
       "      <td>91642.857143</td>\n",
       "    </tr>\n",
       "    <tr>\n",
       "      <th>поселок Шушары</th>\n",
       "      <td>76829.268293</td>\n",
       "    </tr>\n",
       "  </tbody>\n",
       "</table>\n",
       "</div>"
      ],
      "text/plain": [
       "                         m2_cost\n",
       "locality_name                   \n",
       "Всеволожск          65789.473684\n",
       "Выборг              58158.319871\n",
       "Гатчина             67796.610169\n",
       "Колпино             74723.748474\n",
       "Пушкин             100000.000000\n",
       "Санкт-Петербург    104794.199480\n",
       "деревня Кудрово     91860.465116\n",
       "поселок Мурино      86059.293995\n",
       "поселок Парголово   91642.857143\n",
       "поселок Шушары      76829.268293"
      ]
     },
     "execution_count": 165,
     "metadata": {},
     "output_type": "execute_result"
    }
   ],
   "source": [
    "df[df['locality_name'].isin(top_10_places_list)].groupby('locality_name').agg({'m2_cost':'median'})"
   ]
  },
  {
   "cell_type": "markdown",
   "metadata": {},
   "source": [
    "### Дальше есть два пути убрать выбросы:\n",
    "1. либо использовать датафрейм с типичными квартирами где убраны выбросы в цене за м2 без деления на локации\n",
    "2. разделить на локации и по каждой локации убрать выбросы в колонке m2_cost. Исправляю на второй способ (был первый изначально)"
   ]
  },
  {
   "cell_type": "code",
   "execution_count": 159,
   "metadata": {
    "scrolled": false
   },
   "outputs": [],
   "source": [
    "#Берем первый элемент из топ_10 списка гео\n",
    "first_geo = top_10_places_list[0]\n",
    "#Записываем в датафрейм, отправляем в функцию очищаем выбросы по m2_cost и возвращаем\n",
    "#Дальше проделываем все тоже самое для остальных гео (фильтруем, очищаем от выбросов в m2_cost по каждому гео и добавляем\n",
    "# в результирующий датафрейм)\n",
    "df_without_outliers_in_loc = delete_outliers((df[df['locality_name'] == first_geo]),'m2_cost',0)\n",
    "for geo in top_10_places_list[1:]:\n",
    "    df_without_outliers_in_loc = df_without_outliers_in_loc\\\n",
    "        .append(delete_outliers((df[df['locality_name'] == geo]),'m2_cost',0))"
   ]
  },
  {
   "cell_type": "code",
   "execution_count": 160,
   "metadata": {
    "scrolled": false
   },
   "outputs": [
    {
     "data": {
      "image/png": "[encoded data removed]",
      "text/plain": [
       "<Figure size 1440x576 with 1 Axes>"
      ]
     },
     "metadata": {
      "needs_background": "light"
     },
     "output_type": "display_data"
    }
   ],
   "source": [
    "#Строим боксплоты по чистому датафрейму (удалены выбросы в m2_cost в каждом гео)\n",
    "#Сравниваем медианные m2_costb\n",
    "plot = df_without_outliers_in_loc\\\n",
    "    .boxplot('m2_cost',by='locality_name', figsize=(20,8))\\\n",
    "    .set_ylim(0,200000)"
   ]
  },
  {
   "cell_type": "code",
   "execution_count": 161,
   "metadata": {},
   "outputs": [
    {
     "data": {
      "text/html": [
       "<div>\n",
       "<style scoped>\n",
       "    .dataframe tbody tr th:only-of-type {\n",
       "        vertical-align: middle;\n",
       "    }\n",
       "\n",
       "    .dataframe tbody tr th {\n",
       "        vertical-align: top;\n",
       "    }\n",
       "\n",
       "    .dataframe thead th {\n",
       "        text-align: right;\n",
       "    }\n",
       "</style>\n",
       "<table border=\"1\" class=\"dataframe\">\n",
       "  <thead>\n",
       "    <tr style=\"text-align: right;\">\n",
       "      <th></th>\n",
       "      <th>m2_cost</th>\n",
       "    </tr>\n",
       "    <tr>\n",
       "      <th>locality_name</th>\n",
       "      <th></th>\n",
       "    </tr>\n",
       "  </thead>\n",
       "  <tbody>\n",
       "    <tr>\n",
       "      <th>Всеволожск</th>\n",
       "      <td>65667.564736</td>\n",
       "    </tr>\n",
       "    <tr>\n",
       "      <th>Выборг</th>\n",
       "      <td>58158.319871</td>\n",
       "    </tr>\n",
       "    <tr>\n",
       "      <th>Гатчина</th>\n",
       "      <td>67695.961995</td>\n",
       "    </tr>\n",
       "    <tr>\n",
       "      <th>Колпино</th>\n",
       "      <td>74562.809676</td>\n",
       "    </tr>\n",
       "    <tr>\n",
       "      <th>Пушкин</th>\n",
       "      <td>98493.150685</td>\n",
       "    </tr>\n",
       "    <tr>\n",
       "      <th>Санкт-Петербург</th>\n",
       "      <td>103125.000000</td>\n",
       "    </tr>\n",
       "    <tr>\n",
       "      <th>деревня Кудрово</th>\n",
       "      <td>91803.278689</td>\n",
       "    </tr>\n",
       "    <tr>\n",
       "      <th>поселок Мурино</th>\n",
       "      <td>85714.285714</td>\n",
       "    </tr>\n",
       "    <tr>\n",
       "      <th>поселок Парголово</th>\n",
       "      <td>91642.857143</td>\n",
       "    </tr>\n",
       "    <tr>\n",
       "      <th>поселок Шушары</th>\n",
       "      <td>76584.507042</td>\n",
       "    </tr>\n",
       "  </tbody>\n",
       "</table>\n",
       "</div>"
      ],
      "text/plain": [
       "                         m2_cost\n",
       "locality_name                   \n",
       "Всеволожск          65667.564736\n",
       "Выборг              58158.319871\n",
       "Гатчина             67695.961995\n",
       "Колпино             74562.809676\n",
       "Пушкин              98493.150685\n",
       "Санкт-Петербург    103125.000000\n",
       "деревня Кудрово     91803.278689\n",
       "поселок Мурино      85714.285714\n",
       "поселок Парголово   91642.857143\n",
       "поселок Шушары      76584.507042"
      ]
     },
     "execution_count": 161,
     "metadata": {},
     "output_type": "execute_result"
    }
   ],
   "source": [
    "df_without_outliers_in_loc.groupby('locality_name').agg({'m2_cost':'median'})   "
   ]
  },
  {
   "cell_type": "markdown",
   "metadata": {},
   "source": [
    "\n",
    "## Вывод: самая большая цена квадратного метра в СПб, самая дешевая в Выборге. В СПб и Пушкине самый сильный разброс по стоимости квадратного метра - много дорогих объектов."
   ]
  },
  {
   "cell_type": "markdown",
   "metadata": {},
   "source": [
    "-----"
   ]
  },
  {
   "cell_type": "markdown",
   "metadata": {},
   "source": [
    "## Зависит ли цена квадратного метра от числа комнат"
   ]
  },
  {
   "cell_type": "code",
   "execution_count": 126,
   "metadata": {
    "scrolled": false
   },
   "outputs": [
    {
     "data": {
      "image/png": "[encoded data removed]",
      "text/plain": [
       "<Figure size 864x576 with 1 Axes>"
      ]
     },
     "metadata": {
      "needs_background": "light"
     },
     "output_type": "display_data"
    }
   ],
   "source": [
    "plot = df_typical\\\n",
    "    .boxplot('m2_cost', by='rooms',figsize=(12,8))\\\n",
    "    .set_ylim(0,200000)"
   ]
  },
  {
   "cell_type": "code",
   "execution_count": 166,
   "metadata": {
    "scrolled": true
   },
   "outputs": [
    {
     "data": {
      "text/html": [
       "<div>\n",
       "<style scoped>\n",
       "    .dataframe tbody tr th:only-of-type {\n",
       "        vertical-align: middle;\n",
       "    }\n",
       "\n",
       "    .dataframe tbody tr th {\n",
       "        vertical-align: top;\n",
       "    }\n",
       "\n",
       "    .dataframe thead th {\n",
       "        text-align: right;\n",
       "    }\n",
       "</style>\n",
       "<table border=\"1\" class=\"dataframe\">\n",
       "  <thead>\n",
       "    <tr style=\"text-align: right;\">\n",
       "      <th></th>\n",
       "      <th>m2_cost</th>\n",
       "    </tr>\n",
       "    <tr>\n",
       "      <th>rooms</th>\n",
       "      <th></th>\n",
       "    </tr>\n",
       "  </thead>\n",
       "  <tbody>\n",
       "    <tr>\n",
       "      <th>0</th>\n",
       "      <td>105042.016807</td>\n",
       "    </tr>\n",
       "    <tr>\n",
       "      <th>1</th>\n",
       "      <td>100000.000000</td>\n",
       "    </tr>\n",
       "    <tr>\n",
       "      <th>2</th>\n",
       "      <td>91277.890467</td>\n",
       "    </tr>\n",
       "    <tr>\n",
       "      <th>3</th>\n",
       "      <td>84615.384615</td>\n",
       "    </tr>\n",
       "    <tr>\n",
       "      <th>4</th>\n",
       "      <td>80581.241744</td>\n",
       "    </tr>\n",
       "    <tr>\n",
       "      <th>5</th>\n",
       "      <td>72678.275290</td>\n",
       "    </tr>\n",
       "    <tr>\n",
       "      <th>6</th>\n",
       "      <td>71183.787054</td>\n",
       "    </tr>\n",
       "  </tbody>\n",
       "</table>\n",
       "</div>"
      ],
      "text/plain": [
       "             m2_cost\n",
       "rooms               \n",
       "0      105042.016807\n",
       "1      100000.000000\n",
       "2       91277.890467\n",
       "3       84615.384615\n",
       "4       80581.241744\n",
       "5       72678.275290\n",
       "6       71183.787054"
      ]
     },
     "execution_count": 166,
     "metadata": {},
     "output_type": "execute_result"
    }
   ],
   "source": [
    "#df с очищенным выбросами\n",
    "df_typical.groupby('rooms').agg({'m2_cost':'median'})"
   ]
  },
  {
   "cell_type": "markdown",
   "metadata": {},
   "source": [
    "## Вывод: С увеличением числа комнат, медианная стоимость квадратного метра начинает падать, однако для нестандартных квартир, 6 и более комант, она снова начинает расти. У студий цена квадратного метра выше, чем у [1;6] квартир"
   ]
  },
  {
   "cell_type": "markdown",
   "metadata": {},
   "source": [
    "-----"
   ]
  },
  {
   "cell_type": "markdown",
   "metadata": {},
   "source": [
    "------"
   ]
  },
  {
   "cell_type": "markdown",
   "metadata": {},
   "source": [
    "## Зависит ли цена квадратного метра от этажа (первого или последнего)"
   ]
  },
  {
   "cell_type": "code",
   "execution_count": 168,
   "metadata": {},
   "outputs": [],
   "source": [
    "df_typical['numeric_type_floor'] = df_typical.type_floor.apply(lambda x: 0 if x =='первый' \n",
    "                                                               else 1 if x == 'последний' else 2)"
   ]
  },
  {
   "cell_type": "code",
   "execution_count": 128,
   "metadata": {
    "scrolled": false
   },
   "outputs": [
    {
     "data": {
      "text/plain": [
       "(30000, 200000)"
      ]
     },
     "execution_count": 128,
     "metadata": {},
     "output_type": "execute_result"
    },
    {
     "data": {
      "image/png": "[encoded data removed]",
      "text/plain": [
       "<Figure size 576x432 with 1 Axes>"
      ]
     },
     "metadata": {
      "needs_background": "light"
     },
     "output_type": "display_data"
    }
   ],
   "source": [
    "df_typical[df_typical.numeric_type_floor != 2]\\\n",
    "    .boxplot('m2_cost', by='numeric_type_floor',figsize=(8,6))\\\n",
    "    .set_ylim(30000,200000)"
   ]
  },
  {
   "cell_type": "code",
   "execution_count": 129,
   "metadata": {
    "scrolled": true
   },
   "outputs": [
    {
     "data": {
      "text/html": [
       "<div>\n",
       "<style scoped>\n",
       "    .dataframe tbody tr th:only-of-type {\n",
       "        vertical-align: middle;\n",
       "    }\n",
       "\n",
       "    .dataframe tbody tr th {\n",
       "        vertical-align: top;\n",
       "    }\n",
       "\n",
       "    .dataframe thead th {\n",
       "        text-align: right;\n",
       "    }\n",
       "</style>\n",
       "<table border=\"1\" class=\"dataframe\">\n",
       "  <thead>\n",
       "    <tr style=\"text-align: right;\">\n",
       "      <th></th>\n",
       "      <th>m2_cost</th>\n",
       "    </tr>\n",
       "    <tr>\n",
       "      <th>type_floor</th>\n",
       "      <th></th>\n",
       "    </tr>\n",
       "  </thead>\n",
       "  <tbody>\n",
       "    <tr>\n",
       "      <th>другой</th>\n",
       "      <td>96907.216495</td>\n",
       "    </tr>\n",
       "    <tr>\n",
       "      <th>первый</th>\n",
       "      <td>83088.235294</td>\n",
       "    </tr>\n",
       "    <tr>\n",
       "      <th>последний</th>\n",
       "      <td>89041.095890</td>\n",
       "    </tr>\n",
       "  </tbody>\n",
       "</table>\n",
       "</div>"
      ],
      "text/plain": [
       "                 m2_cost\n",
       "type_floor              \n",
       "другой      96907.216495\n",
       "первый      83088.235294\n",
       "последний   89041.095890"
      ]
     },
     "execution_count": 129,
     "metadata": {},
     "output_type": "execute_result"
    }
   ],
   "source": [
    "#датафрейм с очищенными выбросами по ВСЕМУ датафрейму в фиче m2_cost\n",
    "df_typical.groupby('type_floor').agg({'m2_cost':'median'})"
   ]
  },
  {
   "cell_type": "code",
   "execution_count": 169,
   "metadata": {},
   "outputs": [
    {
     "data": {
      "text/html": [
       "<div>\n",
       "<style scoped>\n",
       "    .dataframe tbody tr th:only-of-type {\n",
       "        vertical-align: middle;\n",
       "    }\n",
       "\n",
       "    .dataframe tbody tr th {\n",
       "        vertical-align: top;\n",
       "    }\n",
       "\n",
       "    .dataframe thead th {\n",
       "        text-align: right;\n",
       "    }\n",
       "</style>\n",
       "<table border=\"1\" class=\"dataframe\">\n",
       "  <thead>\n",
       "    <tr style=\"text-align: right;\">\n",
       "      <th></th>\n",
       "      <th>m2_cost</th>\n",
       "    </tr>\n",
       "    <tr>\n",
       "      <th>type_floor</th>\n",
       "      <th></th>\n",
       "    </tr>\n",
       "  </thead>\n",
       "  <tbody>\n",
       "    <tr>\n",
       "      <th>другой</th>\n",
       "      <td>98285.542169</td>\n",
       "    </tr>\n",
       "    <tr>\n",
       "      <th>первый</th>\n",
       "      <td>81236.814346</td>\n",
       "    </tr>\n",
       "    <tr>\n",
       "      <th>последний</th>\n",
       "      <td>87777.777778</td>\n",
       "    </tr>\n",
       "  </tbody>\n",
       "</table>\n",
       "</div>"
      ],
      "text/plain": [
       "                 m2_cost\n",
       "type_floor              \n",
       "другой      98285.542169\n",
       "первый      81236.814346\n",
       "последний   87777.777778"
      ]
     },
     "execution_count": 169,
     "metadata": {},
     "output_type": "execute_result"
    }
   ],
   "source": [
    "#исходный датафрейм\n",
    "df.groupby('type_floor').agg({'m2_cost':'median'})"
   ]
  },
  {
   "cell_type": "code",
   "execution_count": 173,
   "metadata": {
    "scrolled": false
   },
   "outputs": [
    {
     "data": {
      "text/plain": [
       "(0, 180000)"
      ]
     },
     "execution_count": 173,
     "metadata": {},
     "output_type": "execute_result"
    },
    {
     "data": {
      "image/png": "[encoded data removed]",
      "text/plain": [
       "<Figure size 432x288 with 1 Axes>"
      ]
     },
     "metadata": {
      "needs_background": "light"
     },
     "output_type": "display_data"
    }
   ],
   "source": [
    "#удалим выбросы по каждому типу этажа в m2_cost, чтобы проверить не изменится ли медиана\n",
    "first_floor = delete_outliers(df_typical[df_typical.numeric_type_floor == 0], 'm2_cost',0)\n",
    "first_floor.boxplot('m2_cost').set_ylim(0,180000)"
   ]
  },
  {
   "cell_type": "code",
   "execution_count": 176,
   "metadata": {},
   "outputs": [
    {
     "data": {
      "text/plain": [
       "80602.79080277949"
      ]
     },
     "execution_count": 176,
     "metadata": {},
     "output_type": "execute_result"
    }
   ],
   "source": [
    "first_floor['m2_cost'].median()"
   ]
  },
  {
   "cell_type": "code",
   "execution_count": 175,
   "metadata": {
    "scrolled": true
   },
   "outputs": [
    {
     "data": {
      "text/plain": [
       "(0, 180000)"
      ]
     },
     "execution_count": 175,
     "metadata": {},
     "output_type": "execute_result"
    },
    {
     "data": {
      "image/png": "[encoded data removed]",
      "text/plain": [
       "<Figure size 432x288 with 1 Axes>"
      ]
     },
     "metadata": {
      "needs_background": "light"
     },
     "output_type": "display_data"
    }
   ],
   "source": [
    "#последний этаж\n",
    "last_floor = delete_outliers(df_typical[df_typical.numeric_type_floor == 1], 'm2_cost',0)\n",
    "last_floor.boxplot('m2_cost').set_ylim(0,180000)"
   ]
  },
  {
   "cell_type": "code",
   "execution_count": 177,
   "metadata": {},
   "outputs": [
    {
     "data": {
      "text/plain": [
       "84615.38461538461"
      ]
     },
     "execution_count": 177,
     "metadata": {},
     "output_type": "execute_result"
    }
   ],
   "source": [
    "last_floor['m2_cost'].median()"
   ]
  },
  {
   "cell_type": "markdown",
   "metadata": {},
   "source": [
    "## Вывод: стоимость квадратного метра зависит от этажа, обычно первый этаж дешевле последнего (за м2)"
   ]
  },
  {
   "cell_type": "markdown",
   "metadata": {},
   "source": [
    "-----"
   ]
  },
  {
   "cell_type": "markdown",
   "metadata": {},
   "source": [
    "-----"
   ]
  },
  {
   "cell_type": "markdown",
   "metadata": {},
   "source": [
    "## Зависит ли цена квадратного метра от удаленности от центра"
   ]
  },
  {
   "cell_type": "code",
   "execution_count": 134,
   "metadata": {
    "scrolled": false
   },
   "outputs": [
    {
     "data": {
      "text/plain": [
       "<matplotlib.axes._subplots.AxesSubplot at 0x7f60528ed898>"
      ]
     },
     "execution_count": 134,
     "metadata": {},
     "output_type": "execute_result"
    },
    {
     "data": {
      "image/png": "[encoded data removed]",
      "text/plain": [
       "<Figure size 864x360 with 1 Axes>"
      ]
     },
     "metadata": {
      "needs_background": "light"
     },
     "output_type": "display_data"
    }
   ],
   "source": [
    "#Отфильтруем неизвестные значения по числу индикатору\n",
    "df.query('cityCenters_nearest != 99999999')\\\n",
    "    .plot(x='cityCenters_nearest',y='m2_cost',kind='scatter', grid=True, figsize=(12,5))"
   ]
  },
  {
   "cell_type": "code",
   "execution_count": 135,
   "metadata": {},
   "outputs": [
    {
     "data": {
      "text/plain": [
       "-0.3173709986492144"
      ]
     },
     "execution_count": 135,
     "metadata": {},
     "output_type": "execute_result"
    }
   ],
   "source": [
    "#Отфильтруем неизвестные значения по числу индикатору и найдем корреляцию Пирсона\n",
    "df_temp_cityCenters_nearest = df.query('cityCenters_nearest != 99999999')\n",
    "df_temp_cityCenters_nearest['cityCenters_nearest'].corr(df_temp_cityCenters_nearest.m2_cost)"
   ]
  },
  {
   "cell_type": "code",
   "execution_count": 178,
   "metadata": {
    "scrolled": false
   },
   "outputs": [
    {
     "data": {
      "text/plain": [
       "(0, 300000)"
      ]
     },
     "execution_count": 178,
     "metadata": {},
     "output_type": "execute_result"
    },
    {
     "data": {
      "image/png": "[encoded data removed]",
      "text/plain": [
       "<Figure size 864x432 with 1 Axes>"
      ]
     },
     "metadata": {
      "needs_background": "light"
     },
     "output_type": "display_data"
    }
   ],
   "source": [
    "## Удалим выбросы выходящие за 1,5IQR по стоимости квадратного метра\n",
    "delete_outliers(df, 'm2_cost',0)\\\n",
    "    .plot(x='cityCenters_nearest',y='m2_cost',kind='scatter', grid=True, figsize=(12,6)).set_ylim(0,300000)"
   ]
  },
  {
   "cell_type": "markdown",
   "metadata": {},
   "source": [
    "## Вывод: видна зависимость между ценой за м2 и удаленностью от центра, особенно это видно в исходном датафрейме (с выбросами)"
   ]
  },
  {
   "cell_type": "markdown",
   "metadata": {},
   "source": [
    "-----"
   ]
  },
  {
   "cell_type": "markdown",
   "metadata": {},
   "source": [
    "-----"
   ]
  },
  {
   "cell_type": "markdown",
   "metadata": {},
   "source": [
    "## Зависит ли цена квадратного метра от даты размещения: дня недели, месяца и года."
   ]
  },
  {
   "cell_type": "markdown",
   "metadata": {},
   "source": [
    "### Визуализируем зависимость между ценой квадратного метра и днем недели"
   ]
  },
  {
   "cell_type": "code",
   "execution_count": 138,
   "metadata": {},
   "outputs": [
    {
     "data": {
      "image/png": "[encoded data removed]",
      "text/plain": [
       "<Figure size 864x576 with 1 Axes>"
      ]
     },
     "metadata": {
      "needs_background": "light"
     },
     "output_type": "display_data"
    }
   ],
   "source": [
    "# По очищенному датафрейму\n",
    "plot = df_typical\\\n",
    "    .boxplot('m2_cost', by='week_day',figsize=(12,8))\\\n",
    "    .set_ylim(0,200000)"
   ]
  },
  {
   "cell_type": "code",
   "execution_count": 139,
   "metadata": {
    "scrolled": true
   },
   "outputs": [
    {
     "data": {
      "text/plain": [
       "-0.007359589107371322"
      ]
     },
     "execution_count": 139,
     "metadata": {},
     "output_type": "execute_result"
    }
   ],
   "source": [
    "#Корреляции нет, очень низкая\n",
    "df.week_day.corr(df.m2_cost)"
   ]
  },
  {
   "cell_type": "markdown",
   "metadata": {},
   "source": [
    "----------\n",
    "\n",
    "## <span style=\"color:orange\">Комментарий от наставника</span>\n",
    "\n",
    "Обрати внимание, что для оценки зависимости переменных ты можешь использовать матрицу корреляции каждого столбца с каждым - пример ниже.\n",
    "\n",
    "---------\n",
    "#### Использую это в финальном выводе"
   ]
  },
  {
   "cell_type": "code",
   "execution_count": 140,
   "metadata": {},
   "outputs": [
    {
     "data": {
      "text/html": [
       "<style  type=\"text/css\" >\n",
       "    #T_037cb308_b0b0_11e9_8d44_02420a0000cdrow0_col0 {\n",
       "            background-color:  #b40426;\n",
       "            color:  #f1f1f1;\n",
       "        }    #T_037cb308_b0b0_11e9_8d44_02420a0000cdrow0_col1 {\n",
       "            background-color:  #90b2fe;\n",
       "            color:  #000000;\n",
       "        }    #T_037cb308_b0b0_11e9_8d44_02420a0000cdrow0_col2 {\n",
       "            background-color:  #b1cbfc;\n",
       "            color:  #000000;\n",
       "        }    #T_037cb308_b0b0_11e9_8d44_02420a0000cdrow0_col3 {\n",
       "            background-color:  #cdd9ec;\n",
       "            color:  #000000;\n",
       "        }    #T_037cb308_b0b0_11e9_8d44_02420a0000cdrow0_col4 {\n",
       "            background-color:  #96b7ff;\n",
       "            color:  #000000;\n",
       "        }    #T_037cb308_b0b0_11e9_8d44_02420a0000cdrow0_col5 {\n",
       "            background-color:  #93b5fe;\n",
       "            color:  #000000;\n",
       "        }    #T_037cb308_b0b0_11e9_8d44_02420a0000cdrow0_col6 {\n",
       "            background-color:  #c1d4f4;\n",
       "            color:  #000000;\n",
       "        }    #T_037cb308_b0b0_11e9_8d44_02420a0000cdrow0_col7 {\n",
       "            background-color:  #85a8fc;\n",
       "            color:  #000000;\n",
       "        }    #T_037cb308_b0b0_11e9_8d44_02420a0000cdrow0_col8 {\n",
       "            background-color:  #465ecf;\n",
       "            color:  #f1f1f1;\n",
       "        }    #T_037cb308_b0b0_11e9_8d44_02420a0000cdrow0_col9 {\n",
       "            background-color:  #5a78e4;\n",
       "            color:  #000000;\n",
       "        }    #T_037cb308_b0b0_11e9_8d44_02420a0000cdrow0_col10 {\n",
       "            background-color:  #b1cbfc;\n",
       "            color:  #000000;\n",
       "        }    #T_037cb308_b0b0_11e9_8d44_02420a0000cdrow0_col11 {\n",
       "            background-color:  #4b64d5;\n",
       "            color:  #f1f1f1;\n",
       "        }    #T_037cb308_b0b0_11e9_8d44_02420a0000cdrow0_col12 {\n",
       "            background-color:  #a6c4fe;\n",
       "            color:  #000000;\n",
       "        }    #T_037cb308_b0b0_11e9_8d44_02420a0000cdrow0_col13 {\n",
       "            background-color:  #6687ed;\n",
       "            color:  #000000;\n",
       "        }    #T_037cb308_b0b0_11e9_8d44_02420a0000cdrow0_col14 {\n",
       "            background-color:  #536edd;\n",
       "            color:  #000000;\n",
       "        }    #T_037cb308_b0b0_11e9_8d44_02420a0000cdrow0_col15 {\n",
       "            background-color:  #7da0f9;\n",
       "            color:  #000000;\n",
       "        }    #T_037cb308_b0b0_11e9_8d44_02420a0000cdrow0_col16 {\n",
       "            background-color:  #88abfd;\n",
       "            color:  #000000;\n",
       "        }    #T_037cb308_b0b0_11e9_8d44_02420a0000cdrow0_col17 {\n",
       "            background-color:  #7b9ff9;\n",
       "            color:  #000000;\n",
       "        }    #T_037cb308_b0b0_11e9_8d44_02420a0000cdrow0_col18 {\n",
       "            background-color:  #92b4fe;\n",
       "            color:  #000000;\n",
       "        }    #T_037cb308_b0b0_11e9_8d44_02420a0000cdrow0_col19 {\n",
       "            background-color:  #8db0fe;\n",
       "            color:  #000000;\n",
       "        }    #T_037cb308_b0b0_11e9_8d44_02420a0000cdrow0_col20 {\n",
       "            background-color:  #aec9fc;\n",
       "            color:  #000000;\n",
       "        }    #T_037cb308_b0b0_11e9_8d44_02420a0000cdrow0_col21 {\n",
       "            background-color:  #adc9fd;\n",
       "            color:  #000000;\n",
       "        }    #T_037cb308_b0b0_11e9_8d44_02420a0000cdrow0_col22 {\n",
       "            background-color:  #3d50c3;\n",
       "            color:  #f1f1f1;\n",
       "        }    #T_037cb308_b0b0_11e9_8d44_02420a0000cdrow0_col23 {\n",
       "            background-color:  #81a4fb;\n",
       "            color:  #000000;\n",
       "        }    #T_037cb308_b0b0_11e9_8d44_02420a0000cdrow0_col24 {\n",
       "            background-color:  #d4dbe6;\n",
       "            color:  #000000;\n",
       "        }    #T_037cb308_b0b0_11e9_8d44_02420a0000cdrow0_col25 {\n",
       "            background-color:  #adc9fd;\n",
       "            color:  #000000;\n",
       "        }    #T_037cb308_b0b0_11e9_8d44_02420a0000cdrow0_col26 {\n",
       "            background-color:  #b1cbfc;\n",
       "            color:  #000000;\n",
       "        }    #T_037cb308_b0b0_11e9_8d44_02420a0000cdrow0_col27 {\n",
       "            background-color:  #6e90f2;\n",
       "            color:  #000000;\n",
       "        }    #T_037cb308_b0b0_11e9_8d44_02420a0000cdrow1_col0 {\n",
       "            background-color:  #6b8df0;\n",
       "            color:  #000000;\n",
       "        }    #T_037cb308_b0b0_11e9_8d44_02420a0000cdrow1_col1 {\n",
       "            background-color:  #b40426;\n",
       "            color:  #f1f1f1;\n",
       "        }    #T_037cb308_b0b0_11e9_8d44_02420a0000cdrow1_col2 {\n",
       "            background-color:  #f49a7b;\n",
       "            color:  #000000;\n",
       "        }    #T_037cb308_b0b0_11e9_8d44_02420a0000cdrow1_col3 {\n",
       "            background-color:  #f2c9b4;\n",
       "            color:  #000000;\n",
       "        }    #T_037cb308_b0b0_11e9_8d44_02420a0000cdrow1_col4 {\n",
       "            background-color:  #d1dae9;\n",
       "            color:  #000000;\n",
       "        }    #T_037cb308_b0b0_11e9_8d44_02420a0000cdrow1_col5 {\n",
       "            background-color:  #8fb1fe;\n",
       "            color:  #000000;\n",
       "        }    #T_037cb308_b0b0_11e9_8d44_02420a0000cdrow1_col6 {\n",
       "            background-color:  #f7aa8c;\n",
       "            color:  #000000;\n",
       "        }    #T_037cb308_b0b0_11e9_8d44_02420a0000cdrow1_col7 {\n",
       "            background-color:  #84a7fc;\n",
       "            color:  #000000;\n",
       "        }    #T_037cb308_b0b0_11e9_8d44_02420a0000cdrow1_col8 {\n",
       "            background-color:  #4b64d5;\n",
       "            color:  #f1f1f1;\n",
       "        }    #T_037cb308_b0b0_11e9_8d44_02420a0000cdrow1_col9 {\n",
       "            background-color:  #5a78e4;\n",
       "            color:  #000000;\n",
       "        }    #T_037cb308_b0b0_11e9_8d44_02420a0000cdrow1_col10 {\n",
       "            background-color:  #f49a7b;\n",
       "            color:  #000000;\n",
       "        }    #T_037cb308_b0b0_11e9_8d44_02420a0000cdrow1_col11 {\n",
       "            background-color:  #506bda;\n",
       "            color:  #000000;\n",
       "        }    #T_037cb308_b0b0_11e9_8d44_02420a0000cdrow1_col12 {\n",
       "            background-color:  #eed0c0;\n",
       "            color:  #000000;\n",
       "        }    #T_037cb308_b0b0_11e9_8d44_02420a0000cdrow1_col13 {\n",
       "            background-color:  #506bda;\n",
       "            color:  #000000;\n",
       "        }    #T_037cb308_b0b0_11e9_8d44_02420a0000cdrow1_col14 {\n",
       "            background-color:  #4c66d6;\n",
       "            color:  #000000;\n",
       "        }    #T_037cb308_b0b0_11e9_8d44_02420a0000cdrow1_col15 {\n",
       "            background-color:  #5470de;\n",
       "            color:  #000000;\n",
       "        }    #T_037cb308_b0b0_11e9_8d44_02420a0000cdrow1_col16 {\n",
       "            background-color:  #b5cdfa;\n",
       "            color:  #000000;\n",
       "        }    #T_037cb308_b0b0_11e9_8d44_02420a0000cdrow1_col17 {\n",
       "            background-color:  #799cf8;\n",
       "            color:  #000000;\n",
       "        }    #T_037cb308_b0b0_11e9_8d44_02420a0000cdrow1_col18 {\n",
       "            background-color:  #c4d5f3;\n",
       "            color:  #000000;\n",
       "        }    #T_037cb308_b0b0_11e9_8d44_02420a0000cdrow1_col19 {\n",
       "            background-color:  #779af7;\n",
       "            color:  #000000;\n",
       "        }    #T_037cb308_b0b0_11e9_8d44_02420a0000cdrow1_col20 {\n",
       "            background-color:  #c4d5f3;\n",
       "            color:  #000000;\n",
       "        }    #T_037cb308_b0b0_11e9_8d44_02420a0000cdrow1_col21 {\n",
       "            background-color:  #ee8468;\n",
       "            color:  #000000;\n",
       "        }    #T_037cb308_b0b0_11e9_8d44_02420a0000cdrow1_col22 {\n",
       "            background-color:  #4055c8;\n",
       "            color:  #f1f1f1;\n",
       "        }    #T_037cb308_b0b0_11e9_8d44_02420a0000cdrow1_col23 {\n",
       "            background-color:  #80a3fa;\n",
       "            color:  #000000;\n",
       "        }    #T_037cb308_b0b0_11e9_8d44_02420a0000cdrow1_col24 {\n",
       "            background-color:  #b1cbfc;\n",
       "            color:  #000000;\n",
       "        }    #T_037cb308_b0b0_11e9_8d44_02420a0000cdrow1_col25 {\n",
       "            background-color:  #a5c3fe;\n",
       "            color:  #000000;\n",
       "        }    #T_037cb308_b0b0_11e9_8d44_02420a0000cdrow1_col26 {\n",
       "            background-color:  #a1c0ff;\n",
       "            color:  #000000;\n",
       "        }    #T_037cb308_b0b0_11e9_8d44_02420a0000cdrow1_col27 {\n",
       "            background-color:  #5b7ae5;\n",
       "            color:  #000000;\n",
       "        }    #T_037cb308_b0b0_11e9_8d44_02420a0000cdrow2_col0 {\n",
       "            background-color:  #6f92f3;\n",
       "            color:  #000000;\n",
       "        }    #T_037cb308_b0b0_11e9_8d44_02420a0000cdrow2_col1 {\n",
       "            background-color:  #f7a889;\n",
       "            color:  #000000;\n",
       "        }    #T_037cb308_b0b0_11e9_8d44_02420a0000cdrow2_col2 {\n",
       "            background-color:  #b40426;\n",
       "            color:  #f1f1f1;\n",
       "        }    #T_037cb308_b0b0_11e9_8d44_02420a0000cdrow2_col3 {\n",
       "            background-color:  #e36c55;\n",
       "            color:  #000000;\n",
       "        }    #T_037cb308_b0b0_11e9_8d44_02420a0000cdrow2_col4 {\n",
       "            background-color:  #e7d7ce;\n",
       "            color:  #000000;\n",
       "        }    #T_037cb308_b0b0_11e9_8d44_02420a0000cdrow2_col5 {\n",
       "            background-color:  #7da0f9;\n",
       "            color:  #000000;\n",
       "        }    #T_037cb308_b0b0_11e9_8d44_02420a0000cdrow2_col6 {\n",
       "            background-color:  #ca3b37;\n",
       "            color:  #f1f1f1;\n",
       "        }    #T_037cb308_b0b0_11e9_8d44_02420a0000cdrow2_col7 {\n",
       "            background-color:  #7597f6;\n",
       "            color:  #000000;\n",
       "        }    #T_037cb308_b0b0_11e9_8d44_02420a0000cdrow2_col8 {\n",
       "            background-color:  #4c66d6;\n",
       "            color:  #000000;\n",
       "        }    #T_037cb308_b0b0_11e9_8d44_02420a0000cdrow2_col9 {\n",
       "            background-color:  #4e68d8;\n",
       "            color:  #000000;\n",
       "        }    #T_037cb308_b0b0_11e9_8d44_02420a0000cdrow2_col10 {\n",
       "            background-color:  #b40426;\n",
       "            color:  #f1f1f1;\n",
       "        }    #T_037cb308_b0b0_11e9_8d44_02420a0000cdrow2_col11 {\n",
       "            background-color:  #4961d2;\n",
       "            color:  #f1f1f1;\n",
       "        }    #T_037cb308_b0b0_11e9_8d44_02420a0000cdrow2_col12 {\n",
       "            background-color:  #f7b599;\n",
       "            color:  #000000;\n",
       "        }    #T_037cb308_b0b0_11e9_8d44_02420a0000cdrow2_col13 {\n",
       "            background-color:  #536edd;\n",
       "            color:  #000000;\n",
       "        }    #T_037cb308_b0b0_11e9_8d44_02420a0000cdrow2_col14 {\n",
       "            background-color:  #4b64d5;\n",
       "            color:  #f1f1f1;\n",
       "        }    #T_037cb308_b0b0_11e9_8d44_02420a0000cdrow2_col15 {\n",
       "            background-color:  #4e68d8;\n",
       "            color:  #000000;\n",
       "        }    #T_037cb308_b0b0_11e9_8d44_02420a0000cdrow2_col16 {\n",
       "            background-color:  #b5cdfa;\n",
       "            color:  #000000;\n",
       "        }    #T_037cb308_b0b0_11e9_8d44_02420a0000cdrow2_col17 {\n",
       "            background-color:  #779af7;\n",
       "            color:  #000000;\n",
       "        }    #T_037cb308_b0b0_11e9_8d44_02420a0000cdrow2_col18 {\n",
       "            background-color:  #c1d4f4;\n",
       "            color:  #000000;\n",
       "        }    #T_037cb308_b0b0_11e9_8d44_02420a0000cdrow2_col19 {\n",
       "            background-color:  #7597f6;\n",
       "            color:  #000000;\n",
       "        }    #T_037cb308_b0b0_11e9_8d44_02420a0000cdrow2_col20 {\n",
       "            background-color:  #ccd9ed;\n",
       "            color:  #000000;\n",
       "        }    #T_037cb308_b0b0_11e9_8d44_02420a0000cdrow2_col21 {\n",
       "            background-color:  #d5dbe5;\n",
       "            color:  #000000;\n",
       "        }    #T_037cb308_b0b0_11e9_8d44_02420a0000cdrow2_col22 {\n",
       "            background-color:  #3e51c5;\n",
       "            color:  #f1f1f1;\n",
       "        }    #T_037cb308_b0b0_11e9_8d44_02420a0000cdrow2_col23 {\n",
       "            background-color:  #81a4fb;\n",
       "            color:  #000000;\n",
       "        }    #T_037cb308_b0b0_11e9_8d44_02420a0000cdrow2_col24 {\n",
       "            background-color:  #a9c6fd;\n",
       "            color:  #000000;\n",
       "        }    #T_037cb308_b0b0_11e9_8d44_02420a0000cdrow2_col25 {\n",
       "            background-color:  #bed2f6;\n",
       "            color:  #000000;\n",
       "        }    #T_037cb308_b0b0_11e9_8d44_02420a0000cdrow2_col26 {\n",
       "            background-color:  #6a8bef;\n",
       "            color:  #000000;\n",
       "        }    #T_037cb308_b0b0_11e9_8d44_02420a0000cdrow2_col27 {\n",
       "            background-color:  #5a78e4;\n",
       "            color:  #000000;\n",
       "        }    #T_037cb308_b0b0_11e9_8d44_02420a0000cdrow3_col0 {\n",
       "            background-color:  #688aef;\n",
       "            color:  #000000;\n",
       "        }    #T_037cb308_b0b0_11e9_8d44_02420a0000cdrow3_col1 {\n",
       "            background-color:  #d5dbe5;\n",
       "            color:  #000000;\n",
       "        }    #T_037cb308_b0b0_11e9_8d44_02420a0000cdrow3_col2 {\n",
       "            background-color:  #e97a5f;\n",
       "            color:  #000000;\n",
       "        }    #T_037cb308_b0b0_11e9_8d44_02420a0000cdrow3_col3 {\n",
       "            background-color:  #b40426;\n",
       "            color:  #f1f1f1;\n",
       "        }    #T_037cb308_b0b0_11e9_8d44_02420a0000cdrow3_col4 {\n",
       "            background-color:  #c9d7f0;\n",
       "            color:  #000000;\n",
       "        }    #T_037cb308_b0b0_11e9_8d44_02420a0000cdrow3_col5 {\n",
       "            background-color:  #5673e0;\n",
       "            color:  #000000;\n",
       "        }    #T_037cb308_b0b0_11e9_8d44_02420a0000cdrow3_col6 {\n",
       "            background-color:  #d65244;\n",
       "            color:  #000000;\n",
       "        }    #T_037cb308_b0b0_11e9_8d44_02420a0000cdrow3_col7 {\n",
       "            background-color:  #5470de;\n",
       "            color:  #000000;\n",
       "        }    #T_037cb308_b0b0_11e9_8d44_02420a0000cdrow3_col8 {\n",
       "            background-color:  #445acc;\n",
       "            color:  #f1f1f1;\n",
       "        }    #T_037cb308_b0b0_11e9_8d44_02420a0000cdrow3_col9 {\n",
       "            background-color:  #3b4cc0;\n",
       "            color:  #f1f1f1;\n",
       "        }    #T_037cb308_b0b0_11e9_8d44_02420a0000cdrow3_col10 {\n",
       "            background-color:  #e97a5f;\n",
       "            color:  #000000;\n",
       "        }    #T_037cb308_b0b0_11e9_8d44_02420a0000cdrow3_col11 {\n",
       "            background-color:  #3b4cc0;\n",
       "            color:  #f1f1f1;\n",
       "        }    #T_037cb308_b0b0_11e9_8d44_02420a0000cdrow3_col12 {\n",
       "            background-color:  #cbd8ee;\n",
       "            color:  #000000;\n",
       "        }    #T_037cb308_b0b0_11e9_8d44_02420a0000cdrow3_col13 {\n",
       "            background-color:  #506bda;\n",
       "            color:  #000000;\n",
       "        }    #T_037cb308_b0b0_11e9_8d44_02420a0000cdrow3_col14 {\n",
       "            background-color:  #4358cb;\n",
       "            color:  #f1f1f1;\n",
       "        }    #T_037cb308_b0b0_11e9_8d44_02420a0000cdrow3_col15 {\n",
       "            background-color:  #5977e3;\n",
       "            color:  #000000;\n",
       "        }    #T_037cb308_b0b0_11e9_8d44_02420a0000cdrow3_col16 {\n",
       "            background-color:  #aac7fd;\n",
       "            color:  #000000;\n",
       "        }    #T_037cb308_b0b0_11e9_8d44_02420a0000cdrow3_col17 {\n",
       "            background-color:  #6e90f2;\n",
       "            color:  #000000;\n",
       "        }    #T_037cb308_b0b0_11e9_8d44_02420a0000cdrow3_col18 {\n",
       "            background-color:  #aec9fc;\n",
       "            color:  #000000;\n",
       "        }    #T_037cb308_b0b0_11e9_8d44_02420a0000cdrow3_col19 {\n",
       "            background-color:  #80a3fa;\n",
       "            color:  #000000;\n",
       "        }    #T_037cb308_b0b0_11e9_8d44_02420a0000cdrow3_col20 {\n",
       "            background-color:  #cad8ef;\n",
       "            color:  #000000;\n",
       "        }    #T_037cb308_b0b0_11e9_8d44_02420a0000cdrow3_col21 {\n",
       "            background-color:  #98b9ff;\n",
       "            color:  #000000;\n",
       "        }    #T_037cb308_b0b0_11e9_8d44_02420a0000cdrow3_col22 {\n",
       "            background-color:  #3e51c5;\n",
       "            color:  #f1f1f1;\n",
       "        }    #T_037cb308_b0b0_11e9_8d44_02420a0000cdrow3_col23 {\n",
       "            background-color:  #7ea1fa;\n",
       "            color:  #000000;\n",
       "        }    #T_037cb308_b0b0_11e9_8d44_02420a0000cdrow3_col24 {\n",
       "            background-color:  #aec9fc;\n",
       "            color:  #000000;\n",
       "        }    #T_037cb308_b0b0_11e9_8d44_02420a0000cdrow3_col25 {\n",
       "            background-color:  #f6bfa6;\n",
       "            color:  #000000;\n",
       "        }    #T_037cb308_b0b0_11e9_8d44_02420a0000cdrow3_col26 {\n",
       "            background-color:  #3b4cc0;\n",
       "            color:  #f1f1f1;\n",
       "        }    #T_037cb308_b0b0_11e9_8d44_02420a0000cdrow3_col27 {\n",
       "            background-color:  #5a78e4;\n",
       "            color:  #000000;\n",
       "        }    #T_037cb308_b0b0_11e9_8d44_02420a0000cdrow4_col0 {\n",
       "            background-color:  #5a78e4;\n",
       "            color:  #000000;\n",
       "        }    #T_037cb308_b0b0_11e9_8d44_02420a0000cdrow4_col1 {\n",
       "            background-color:  #c4d5f3;\n",
       "            color:  #000000;\n",
       "        }    #T_037cb308_b0b0_11e9_8d44_02420a0000cdrow4_col2 {\n",
       "            background-color:  #ebd3c6;\n",
       "            color:  #000000;\n",
       "        }    #T_037cb308_b0b0_11e9_8d44_02420a0000cdrow4_col3 {\n",
       "            background-color:  #e6d7cf;\n",
       "            color:  #000000;\n",
       "        }    #T_037cb308_b0b0_11e9_8d44_02420a0000cdrow4_col4 {\n",
       "            background-color:  #b40426;\n",
       "            color:  #f1f1f1;\n",
       "        }    #T_037cb308_b0b0_11e9_8d44_02420a0000cdrow4_col5 {\n",
       "            background-color:  #799cf8;\n",
       "            color:  #000000;\n",
       "        }    #T_037cb308_b0b0_11e9_8d44_02420a0000cdrow4_col6 {\n",
       "            background-color:  #efcebd;\n",
       "            color:  #000000;\n",
       "        }    #T_037cb308_b0b0_11e9_8d44_02420a0000cdrow4_col7 {\n",
       "            background-color:  #6e90f2;\n",
       "            color:  #000000;\n",
       "        }    #T_037cb308_b0b0_11e9_8d44_02420a0000cdrow4_col8 {\n",
       "            background-color:  #5875e1;\n",
       "            color:  #000000;\n",
       "        }    #T_037cb308_b0b0_11e9_8d44_02420a0000cdrow4_col9 {\n",
       "            background-color:  #6384eb;\n",
       "            color:  #000000;\n",
       "        }    #T_037cb308_b0b0_11e9_8d44_02420a0000cdrow4_col10 {\n",
       "            background-color:  #ebd3c6;\n",
       "            color:  #000000;\n",
       "        }    #T_037cb308_b0b0_11e9_8d44_02420a0000cdrow4_col11 {\n",
       "            background-color:  #536edd;\n",
       "            color:  #000000;\n",
       "        }    #T_037cb308_b0b0_11e9_8d44_02420a0000cdrow4_col12 {\n",
       "            background-color:  #dbdcde;\n",
       "            color:  #000000;\n",
       "        }    #T_037cb308_b0b0_11e9_8d44_02420a0000cdrow4_col13 {\n",
       "            background-color:  #3e51c5;\n",
       "            color:  #f1f1f1;\n",
       "        }    #T_037cb308_b0b0_11e9_8d44_02420a0000cdrow4_col14 {\n",
       "            background-color:  #3c4ec2;\n",
       "            color:  #f1f1f1;\n",
       "        }    #T_037cb308_b0b0_11e9_8d44_02420a0000cdrow4_col15 {\n",
       "            background-color:  #3c4ec2;\n",
       "            color:  #f1f1f1;\n",
       "        }    #T_037cb308_b0b0_11e9_8d44_02420a0000cdrow4_col16 {\n",
       "            background-color:  #c3d5f4;\n",
       "            color:  #000000;\n",
       "        }    #T_037cb308_b0b0_11e9_8d44_02420a0000cdrow4_col17 {\n",
       "            background-color:  #6c8ff1;\n",
       "            color:  #000000;\n",
       "        }    #T_037cb308_b0b0_11e9_8d44_02420a0000cdrow4_col18 {\n",
       "            background-color:  #c7d7f0;\n",
       "            color:  #000000;\n",
       "        }    #T_037cb308_b0b0_11e9_8d44_02420a0000cdrow4_col19 {\n",
       "            background-color:  #7093f3;\n",
       "            color:  #000000;\n",
       "        }    #T_037cb308_b0b0_11e9_8d44_02420a0000cdrow4_col20 {\n",
       "            background-color:  #c9d7f0;\n",
       "            color:  #000000;\n",
       "        }    #T_037cb308_b0b0_11e9_8d44_02420a0000cdrow4_col21 {\n",
       "            background-color:  #d3dbe7;\n",
       "            color:  #000000;\n",
       "        }    #T_037cb308_b0b0_11e9_8d44_02420a0000cdrow4_col22 {\n",
       "            background-color:  #3b4cc0;\n",
       "            color:  #f1f1f1;\n",
       "        }    #T_037cb308_b0b0_11e9_8d44_02420a0000cdrow4_col23 {\n",
       "            background-color:  #7ea1fa;\n",
       "            color:  #000000;\n",
       "        }    #T_037cb308_b0b0_11e9_8d44_02420a0000cdrow4_col24 {\n",
       "            background-color:  #aec9fc;\n",
       "            color:  #000000;\n",
       "        }    #T_037cb308_b0b0_11e9_8d44_02420a0000cdrow4_col25 {\n",
       "            background-color:  #a7c5fe;\n",
       "            color:  #000000;\n",
       "        }    #T_037cb308_b0b0_11e9_8d44_02420a0000cdrow4_col26 {\n",
       "            background-color:  #b6cefa;\n",
       "            color:  #000000;\n",
       "        }    #T_037cb308_b0b0_11e9_8d44_02420a0000cdrow4_col27 {\n",
       "            background-color:  #6180e9;\n",
       "            color:  #000000;\n",
       "        }    #T_037cb308_b0b0_11e9_8d44_02420a0000cdrow5_col0 {\n",
       "            background-color:  #4e68d8;\n",
       "            color:  #000000;\n",
       "        }    #T_037cb308_b0b0_11e9_8d44_02420a0000cdrow5_col1 {\n",
       "            background-color:  #6f92f3;\n",
       "            color:  #000000;\n",
       "        }    #T_037cb308_b0b0_11e9_8d44_02420a0000cdrow5_col2 {\n",
       "            background-color:  #81a4fb;\n",
       "            color:  #000000;\n",
       "        }    #T_037cb308_b0b0_11e9_8d44_02420a0000cdrow5_col3 {\n",
       "            background-color:  #89acfd;\n",
       "            color:  #000000;\n",
       "        }    #T_037cb308_b0b0_11e9_8d44_02420a0000cdrow5_col4 {\n",
       "            background-color:  #6f92f3;\n",
       "            color:  #000000;\n",
       "        }    #T_037cb308_b0b0_11e9_8d44_02420a0000cdrow5_col5 {\n",
       "            background-color:  #b40426;\n",
       "            color:  #f1f1f1;\n",
       "        }    #T_037cb308_b0b0_11e9_8d44_02420a0000cdrow5_col6 {\n",
       "            background-color:  #81a4fb;\n",
       "            color:  #000000;\n",
       "        }    #T_037cb308_b0b0_11e9_8d44_02420a0000cdrow5_col7 {\n",
       "            background-color:  #f59c7d;\n",
       "            color:  #000000;\n",
       "        }    #T_037cb308_b0b0_11e9_8d44_02420a0000cdrow5_col8 {\n",
       "            background-color:  #3c4ec2;\n",
       "            color:  #f1f1f1;\n",
       "        }    #T_037cb308_b0b0_11e9_8d44_02420a0000cdrow5_col9 {\n",
       "            background-color:  #779af7;\n",
       "            color:  #000000;\n",
       "        }    #T_037cb308_b0b0_11e9_8d44_02420a0000cdrow5_col10 {\n",
       "            background-color:  #81a4fb;\n",
       "            color:  #000000;\n",
       "        }    #T_037cb308_b0b0_11e9_8d44_02420a0000cdrow5_col11 {\n",
       "            background-color:  #6282ea;\n",
       "            color:  #000000;\n",
       "        }    #T_037cb308_b0b0_11e9_8d44_02420a0000cdrow5_col12 {\n",
       "            background-color:  #b2ccfb;\n",
       "            color:  #000000;\n",
       "        }    #T_037cb308_b0b0_11e9_8d44_02420a0000cdrow5_col13 {\n",
       "            background-color:  #799cf8;\n",
       "            color:  #000000;\n",
       "        }    #T_037cb308_b0b0_11e9_8d44_02420a0000cdrow5_col14 {\n",
       "            background-color:  #7597f6;\n",
       "            color:  #000000;\n",
       "        }    #T_037cb308_b0b0_11e9_8d44_02420a0000cdrow5_col15 {\n",
       "            background-color:  #8fb1fe;\n",
       "            color:  #000000;\n",
       "        }    #T_037cb308_b0b0_11e9_8d44_02420a0000cdrow5_col16 {\n",
       "            background-color:  #536edd;\n",
       "            color:  #000000;\n",
       "        }    #T_037cb308_b0b0_11e9_8d44_02420a0000cdrow5_col17 {\n",
       "            background-color:  #98b9ff;\n",
       "            color:  #000000;\n",
       "        }    #T_037cb308_b0b0_11e9_8d44_02420a0000cdrow5_col18 {\n",
       "            background-color:  #82a6fb;\n",
       "            color:  #000000;\n",
       "        }    #T_037cb308_b0b0_11e9_8d44_02420a0000cdrow5_col19 {\n",
       "            background-color:  #98b9ff;\n",
       "            color:  #000000;\n",
       "        }    #T_037cb308_b0b0_11e9_8d44_02420a0000cdrow5_col20 {\n",
       "            background-color:  #b5cdfa;\n",
       "            color:  #000000;\n",
       "        }    #T_037cb308_b0b0_11e9_8d44_02420a0000cdrow5_col21 {\n",
       "            background-color:  #b1cbfc;\n",
       "            color:  #000000;\n",
       "        }    #T_037cb308_b0b0_11e9_8d44_02420a0000cdrow5_col22 {\n",
       "            background-color:  #445acc;\n",
       "            color:  #f1f1f1;\n",
       "        }    #T_037cb308_b0b0_11e9_8d44_02420a0000cdrow5_col23 {\n",
       "            background-color:  #84a7fc;\n",
       "            color:  #000000;\n",
       "        }    #T_037cb308_b0b0_11e9_8d44_02420a0000cdrow5_col24 {\n",
       "            background-color:  #bbd1f8;\n",
       "            color:  #000000;\n",
       "        }    #T_037cb308_b0b0_11e9_8d44_02420a0000cdrow5_col25 {\n",
       "            background-color:  #5d7ce6;\n",
       "            color:  #000000;\n",
       "        }    #T_037cb308_b0b0_11e9_8d44_02420a0000cdrow5_col26 {\n",
       "            background-color:  #f1cdba;\n",
       "            color:  #000000;\n",
       "        }    #T_037cb308_b0b0_11e9_8d44_02420a0000cdrow5_col27 {\n",
       "            background-color:  #92b4fe;\n",
       "            color:  #000000;\n",
       "        }    #T_037cb308_b0b0_11e9_8d44_02420a0000cdrow6_col0 {\n",
       "            background-color:  #6b8df0;\n",
       "            color:  #000000;\n",
       "        }    #T_037cb308_b0b0_11e9_8d44_02420a0000cdrow6_col1 {\n",
       "            background-color:  #f5c2aa;\n",
       "            color:  #000000;\n",
       "        }    #T_037cb308_b0b0_11e9_8d44_02420a0000cdrow6_col2 {\n",
       "            background-color:  #cb3e38;\n",
       "            color:  #f1f1f1;\n",
       "        }    #T_037cb308_b0b0_11e9_8d44_02420a0000cdrow6_col3 {\n",
       "            background-color:  #d44e41;\n",
       "            color:  #000000;\n",
       "        }    #T_037cb308_b0b0_11e9_8d44_02420a0000cdrow6_col4 {\n",
       "            background-color:  #e3d9d3;\n",
       "            color:  #000000;\n",
       "        }    #T_037cb308_b0b0_11e9_8d44_02420a0000cdrow6_col5 {\n",
       "            background-color:  #6485ec;\n",
       "            color:  #000000;\n",
       "        }    #T_037cb308_b0b0_11e9_8d44_02420a0000cdrow6_col6 {\n",
       "            background-color:  #b40426;\n",
       "            color:  #f1f1f1;\n",
       "        }    #T_037cb308_b0b0_11e9_8d44_02420a0000cdrow6_col7 {\n",
       "            background-color:  #6180e9;\n",
       "            color:  #000000;\n",
       "        }    #T_037cb308_b0b0_11e9_8d44_02420a0000cdrow6_col8 {\n",
       "            background-color:  #4c66d6;\n",
       "            color:  #000000;\n",
       "        }    #T_037cb308_b0b0_11e9_8d44_02420a0000cdrow6_col9 {\n",
       "            background-color:  #536edd;\n",
       "            color:  #000000;\n",
       "        }    #T_037cb308_b0b0_11e9_8d44_02420a0000cdrow6_col10 {\n",
       "            background-color:  #cb3e38;\n",
       "            color:  #f1f1f1;\n",
       "        }    #T_037cb308_b0b0_11e9_8d44_02420a0000cdrow6_col11 {\n",
       "            background-color:  #4a63d3;\n",
       "            color:  #f1f1f1;\n",
       "        }    #T_037cb308_b0b0_11e9_8d44_02420a0000cdrow6_col12 {\n",
       "            background-color:  #e9d5cb;\n",
       "            color:  #000000;\n",
       "        }    #T_037cb308_b0b0_11e9_8d44_02420a0000cdrow6_col13 {\n",
       "            background-color:  #4e68d8;\n",
       "            color:  #000000;\n",
       "        }    #T_037cb308_b0b0_11e9_8d44_02420a0000cdrow6_col14 {\n",
       "            background-color:  #445acc;\n",
       "            color:  #f1f1f1;\n",
       "        }    #T_037cb308_b0b0_11e9_8d44_02420a0000cdrow6_col15 {\n",
       "            background-color:  #4f69d9;\n",
       "            color:  #000000;\n",
       "        }    #T_037cb308_b0b0_11e9_8d44_02420a0000cdrow6_col16 {\n",
       "            background-color:  #b7cff9;\n",
       "            color:  #000000;\n",
       "        }    #T_037cb308_b0b0_11e9_8d44_02420a0000cdrow6_col17 {\n",
       "            background-color:  #6e90f2;\n",
       "            color:  #000000;\n",
       "        }    #T_037cb308_b0b0_11e9_8d44_02420a0000cdrow6_col18 {\n",
       "            background-color:  #bcd2f7;\n",
       "            color:  #000000;\n",
       "        }    #T_037cb308_b0b0_11e9_8d44_02420a0000cdrow6_col19 {\n",
       "            background-color:  #799cf8;\n",
       "            color:  #000000;\n",
       "        }    #T_037cb308_b0b0_11e9_8d44_02420a0000cdrow6_col20 {\n",
       "            background-color:  #cbd8ee;\n",
       "            color:  #000000;\n",
       "        }    #T_037cb308_b0b0_11e9_8d44_02420a0000cdrow6_col21 {\n",
       "            background-color:  #c1d4f4;\n",
       "            color:  #000000;\n",
       "        }    #T_037cb308_b0b0_11e9_8d44_02420a0000cdrow6_col22 {\n",
       "            background-color:  #3e51c5;\n",
       "            color:  #f1f1f1;\n",
       "        }    #T_037cb308_b0b0_11e9_8d44_02420a0000cdrow6_col23 {\n",
       "            background-color:  #80a3fa;\n",
       "            color:  #000000;\n",
       "        }    #T_037cb308_b0b0_11e9_8d44_02420a0000cdrow6_col24 {\n",
       "            background-color:  #aac7fd;\n",
       "            color:  #000000;\n",
       "        }    #T_037cb308_b0b0_11e9_8d44_02420a0000cdrow6_col25 {\n",
       "            background-color:  #f2cab5;\n",
       "            color:  #000000;\n",
       "        }    #T_037cb308_b0b0_11e9_8d44_02420a0000cdrow6_col26 {\n",
       "            background-color:  #506bda;\n",
       "            color:  #000000;\n",
       "        }    #T_037cb308_b0b0_11e9_8d44_02420a0000cdrow6_col27 {\n",
       "            background-color:  #5977e3;\n",
       "            color:  #000000;\n",
       "        }    #T_037cb308_b0b0_11e9_8d44_02420a0000cdrow7_col0 {\n",
       "            background-color:  #5572df;\n",
       "            color:  #000000;\n",
       "        }    #T_037cb308_b0b0_11e9_8d44_02420a0000cdrow7_col1 {\n",
       "            background-color:  #799cf8;\n",
       "            color:  #000000;\n",
       "        }    #T_037cb308_b0b0_11e9_8d44_02420a0000cdrow7_col2 {\n",
       "            background-color:  #8db0fe;\n",
       "            color:  #000000;\n",
       "        }    #T_037cb308_b0b0_11e9_8d44_02420a0000cdrow7_col3 {\n",
       "            background-color:  #9abbff;\n",
       "            color:  #000000;\n",
       "        }    #T_037cb308_b0b0_11e9_8d44_02420a0000cdrow7_col4 {\n",
       "            background-color:  #7a9df8;\n",
       "            color:  #000000;\n",
       "        }    #T_037cb308_b0b0_11e9_8d44_02420a0000cdrow7_col5 {\n",
       "            background-color:  #f39577;\n",
       "            color:  #000000;\n",
       "        }    #T_037cb308_b0b0_11e9_8d44_02420a0000cdrow7_col6 {\n",
       "            background-color:  #93b5fe;\n",
       "            color:  #000000;\n",
       "        }    #T_037cb308_b0b0_11e9_8d44_02420a0000cdrow7_col7 {\n",
       "            background-color:  #b40426;\n",
       "            color:  #f1f1f1;\n",
       "        }    #T_037cb308_b0b0_11e9_8d44_02420a0000cdrow7_col8 {\n",
       "            background-color:  #4055c8;\n",
       "            color:  #f1f1f1;\n",
       "        }    #T_037cb308_b0b0_11e9_8d44_02420a0000cdrow7_col9 {\n",
       "            background-color:  #6c8ff1;\n",
       "            color:  #000000;\n",
       "        }    #T_037cb308_b0b0_11e9_8d44_02420a0000cdrow7_col10 {\n",
       "            background-color:  #8db0fe;\n",
       "            color:  #000000;\n",
       "        }    #T_037cb308_b0b0_11e9_8d44_02420a0000cdrow7_col11 {\n",
       "            background-color:  #5e7de7;\n",
       "            color:  #000000;\n",
       "        }    #T_037cb308_b0b0_11e9_8d44_02420a0000cdrow7_col12 {\n",
       "            background-color:  #abc8fd;\n",
       "            color:  #000000;\n",
       "        }    #T_037cb308_b0b0_11e9_8d44_02420a0000cdrow7_col13 {\n",
       "            background-color:  #7597f6;\n",
       "            color:  #000000;\n",
       "        }    #T_037cb308_b0b0_11e9_8d44_02420a0000cdrow7_col14 {\n",
       "            background-color:  #6a8bef;\n",
       "            color:  #000000;\n",
       "        }    #T_037cb308_b0b0_11e9_8d44_02420a0000cdrow7_col15 {\n",
       "            background-color:  #8caffe;\n",
       "            color:  #000000;\n",
       "        }    #T_037cb308_b0b0_11e9_8d44_02420a0000cdrow7_col16 {\n",
       "            background-color:  #6180e9;\n",
       "            color:  #000000;\n",
       "        }    #T_037cb308_b0b0_11e9_8d44_02420a0000cdrow7_col17 {\n",
       "            background-color:  #92b4fe;\n",
       "            color:  #000000;\n",
       "        }    #T_037cb308_b0b0_11e9_8d44_02420a0000cdrow7_col18 {\n",
       "            background-color:  #86a9fc;\n",
       "            color:  #000000;\n",
       "        }    #T_037cb308_b0b0_11e9_8d44_02420a0000cdrow7_col19 {\n",
       "            background-color:  #96b7ff;\n",
       "            color:  #000000;\n",
       "        }    #T_037cb308_b0b0_11e9_8d44_02420a0000cdrow7_col20 {\n",
       "            background-color:  #b6cefa;\n",
       "            color:  #000000;\n",
       "        }    #T_037cb308_b0b0_11e9_8d44_02420a0000cdrow7_col21 {\n",
       "            background-color:  #abc8fd;\n",
       "            color:  #000000;\n",
       "        }    #T_037cb308_b0b0_11e9_8d44_02420a0000cdrow7_col22 {\n",
       "            background-color:  #445acc;\n",
       "            color:  #f1f1f1;\n",
       "        }    #T_037cb308_b0b0_11e9_8d44_02420a0000cdrow7_col23 {\n",
       "            background-color:  #85a8fc;\n",
       "            color:  #000000;\n",
       "        }    #T_037cb308_b0b0_11e9_8d44_02420a0000cdrow7_col24 {\n",
       "            background-color:  #bbd1f8;\n",
       "            color:  #000000;\n",
       "        }    #T_037cb308_b0b0_11e9_8d44_02420a0000cdrow7_col25 {\n",
       "            background-color:  #7295f4;\n",
       "            color:  #000000;\n",
       "        }    #T_037cb308_b0b0_11e9_8d44_02420a0000cdrow7_col26 {\n",
       "            background-color:  #e3d9d3;\n",
       "            color:  #000000;\n",
       "        }    #T_037cb308_b0b0_11e9_8d44_02420a0000cdrow7_col27 {\n",
       "            background-color:  #8db0fe;\n",
       "            color:  #000000;\n",
       "        }    #T_037cb308_b0b0_11e9_8d44_02420a0000cdrow8_col0 {\n",
       "            background-color:  #4e68d8;\n",
       "            color:  #000000;\n",
       "        }    #T_037cb308_b0b0_11e9_8d44_02420a0000cdrow8_col1 {\n",
       "            background-color:  #799cf8;\n",
       "            color:  #000000;\n",
       "        }    #T_037cb308_b0b0_11e9_8d44_02420a0000cdrow8_col2 {\n",
       "            background-color:  #9bbcff;\n",
       "            color:  #000000;\n",
       "        }    #T_037cb308_b0b0_11e9_8d44_02420a0000cdrow8_col3 {\n",
       "            background-color:  #bad0f8;\n",
       "            color:  #000000;\n",
       "        }    #T_037cb308_b0b0_11e9_8d44_02420a0000cdrow8_col4 {\n",
       "            background-color:  #9abbff;\n",
       "            color:  #000000;\n",
       "        }    #T_037cb308_b0b0_11e9_8d44_02420a0000cdrow8_col5 {\n",
       "            background-color:  #89acfd;\n",
       "            color:  #000000;\n",
       "        }    #T_037cb308_b0b0_11e9_8d44_02420a0000cdrow8_col6 {\n",
       "            background-color:  #afcafc;\n",
       "            color:  #000000;\n",
       "        }    #T_037cb308_b0b0_11e9_8d44_02420a0000cdrow8_col7 {\n",
       "            background-color:  #799cf8;\n",
       "            color:  #000000;\n",
       "        }    #T_037cb308_b0b0_11e9_8d44_02420a0000cdrow8_col8 {\n",
       "            background-color:  #b40426;\n",
       "            color:  #f1f1f1;\n",
       "        }    #T_037cb308_b0b0_11e9_8d44_02420a0000cdrow8_col9 {\n",
       "            background-color:  #6180e9;\n",
       "            color:  #000000;\n",
       "        }    #T_037cb308_b0b0_11e9_8d44_02420a0000cdrow8_col10 {\n",
       "            background-color:  #9bbcff;\n",
       "            color:  #000000;\n",
       "        }    #T_037cb308_b0b0_11e9_8d44_02420a0000cdrow8_col11 {\n",
       "            background-color:  #536edd;\n",
       "            color:  #000000;\n",
       "        }    #T_037cb308_b0b0_11e9_8d44_02420a0000cdrow8_col12 {\n",
       "            background-color:  #94b6ff;\n",
       "            color:  #000000;\n",
       "        }    #T_037cb308_b0b0_11e9_8d44_02420a0000cdrow8_col13 {\n",
       "            background-color:  #5673e0;\n",
       "            color:  #000000;\n",
       "        }    #T_037cb308_b0b0_11e9_8d44_02420a0000cdrow8_col14 {\n",
       "            background-color:  #5977e3;\n",
       "            color:  #000000;\n",
       "        }    #T_037cb308_b0b0_11e9_8d44_02420a0000cdrow8_col15 {\n",
       "            background-color:  #8badfd;\n",
       "            color:  #000000;\n",
       "        }    #T_037cb308_b0b0_11e9_8d44_02420a0000cdrow8_col16 {\n",
       "            background-color:  #84a7fc;\n",
       "            color:  #000000;\n",
       "        }    #T_037cb308_b0b0_11e9_8d44_02420a0000cdrow8_col17 {\n",
       "            background-color:  #7396f5;\n",
       "            color:  #000000;\n",
       "        }    #T_037cb308_b0b0_11e9_8d44_02420a0000cdrow8_col18 {\n",
       "            background-color:  #94b6ff;\n",
       "            color:  #000000;\n",
       "        }    #T_037cb308_b0b0_11e9_8d44_02420a0000cdrow8_col19 {\n",
       "            background-color:  #8fb1fe;\n",
       "            color:  #000000;\n",
       "        }    #T_037cb308_b0b0_11e9_8d44_02420a0000cdrow8_col20 {\n",
       "            background-color:  #bbd1f8;\n",
       "            color:  #000000;\n",
       "        }    #T_037cb308_b0b0_11e9_8d44_02420a0000cdrow8_col21 {\n",
       "            background-color:  #96b7ff;\n",
       "            color:  #000000;\n",
       "        }    #T_037cb308_b0b0_11e9_8d44_02420a0000cdrow8_col22 {\n",
       "            background-color:  #3d50c3;\n",
       "            color:  #f1f1f1;\n",
       "        }    #T_037cb308_b0b0_11e9_8d44_02420a0000cdrow8_col23 {\n",
       "            background-color:  #80a3fa;\n",
       "            color:  #000000;\n",
       "        }    #T_037cb308_b0b0_11e9_8d44_02420a0000cdrow8_col24 {\n",
       "            background-color:  #bbd1f8;\n",
       "            color:  #000000;\n",
       "        }    #T_037cb308_b0b0_11e9_8d44_02420a0000cdrow8_col25 {\n",
       "            background-color:  #adc9fd;\n",
       "            color:  #000000;\n",
       "        }    #T_037cb308_b0b0_11e9_8d44_02420a0000cdrow8_col26 {\n",
       "            background-color:  #bcd2f7;\n",
       "            color:  #000000;\n",
       "        }    #T_037cb308_b0b0_11e9_8d44_02420a0000cdrow8_col27 {\n",
       "            background-color:  #799cf8;\n",
       "            color:  #000000;\n",
       "        }    #T_037cb308_b0b0_11e9_8d44_02420a0000cdrow9_col0 {\n",
       "            background-color:  #4358cb;\n",
       "            color:  #f1f1f1;\n",
       "        }    #T_037cb308_b0b0_11e9_8d44_02420a0000cdrow9_col1 {\n",
       "            background-color:  #6a8bef;\n",
       "            color:  #000000;\n",
       "        }    #T_037cb308_b0b0_11e9_8d44_02420a0000cdrow9_col2 {\n",
       "            background-color:  #81a4fb;\n",
       "            color:  #000000;\n",
       "        }    #T_037cb308_b0b0_11e9_8d44_02420a0000cdrow9_col3 {\n",
       "            background-color:  #9bbcff;\n",
       "            color:  #000000;\n",
       "        }    #T_037cb308_b0b0_11e9_8d44_02420a0000cdrow9_col4 {\n",
       "            background-color:  #89acfd;\n",
       "            color:  #000000;\n",
       "        }    #T_037cb308_b0b0_11e9_8d44_02420a0000cdrow9_col5 {\n",
       "            background-color:  #a2c1ff;\n",
       "            color:  #000000;\n",
       "        }    #T_037cb308_b0b0_11e9_8d44_02420a0000cdrow9_col6 {\n",
       "            background-color:  #9dbdff;\n",
       "            color:  #000000;\n",
       "        }    #T_037cb308_b0b0_11e9_8d44_02420a0000cdrow9_col7 {\n",
       "            background-color:  #86a9fc;\n",
       "            color:  #000000;\n",
       "        }    #T_037cb308_b0b0_11e9_8d44_02420a0000cdrow9_col8 {\n",
       "            background-color:  #4358cb;\n",
       "            color:  #f1f1f1;\n",
       "        }    #T_037cb308_b0b0_11e9_8d44_02420a0000cdrow9_col9 {\n",
       "            background-color:  #b40426;\n",
       "            color:  #f1f1f1;\n",
       "        }    #T_037cb308_b0b0_11e9_8d44_02420a0000cdrow9_col10 {\n",
       "            background-color:  #81a4fb;\n",
       "            color:  #000000;\n",
       "        }    #T_037cb308_b0b0_11e9_8d44_02420a0000cdrow9_col11 {\n",
       "            background-color:  #516ddb;\n",
       "            color:  #000000;\n",
       "        }    #T_037cb308_b0b0_11e9_8d44_02420a0000cdrow9_col12 {\n",
       "            background-color:  #86a9fc;\n",
       "            color:  #000000;\n",
       "        }    #T_037cb308_b0b0_11e9_8d44_02420a0000cdrow9_col13 {\n",
       "            background-color:  #536edd;\n",
       "            color:  #000000;\n",
       "        }    #T_037cb308_b0b0_11e9_8d44_02420a0000cdrow9_col14 {\n",
       "            background-color:  #4e68d8;\n",
       "            color:  #000000;\n",
       "        }    #T_037cb308_b0b0_11e9_8d44_02420a0000cdrow9_col15 {\n",
       "            background-color:  #88abfd;\n",
       "            color:  #000000;\n",
       "        }    #T_037cb308_b0b0_11e9_8d44_02420a0000cdrow9_col16 {\n",
       "            background-color:  #7597f6;\n",
       "            color:  #000000;\n",
       "        }    #T_037cb308_b0b0_11e9_8d44_02420a0000cdrow9_col17 {\n",
       "            background-color:  #80a3fa;\n",
       "            color:  #000000;\n",
       "        }    #T_037cb308_b0b0_11e9_8d44_02420a0000cdrow9_col18 {\n",
       "            background-color:  #8caffe;\n",
       "            color:  #000000;\n",
       "        }    #T_037cb308_b0b0_11e9_8d44_02420a0000cdrow9_col19 {\n",
       "            background-color:  #8fb1fe;\n",
       "            color:  #000000;\n",
       "        }    #T_037cb308_b0b0_11e9_8d44_02420a0000cdrow9_col20 {\n",
       "            background-color:  #b6cefa;\n",
       "            color:  #000000;\n",
       "        }    #T_037cb308_b0b0_11e9_8d44_02420a0000cdrow9_col21 {\n",
       "            background-color:  #8db0fe;\n",
       "            color:  #000000;\n",
       "        }    #T_037cb308_b0b0_11e9_8d44_02420a0000cdrow9_col22 {\n",
       "            background-color:  #4055c8;\n",
       "            color:  #f1f1f1;\n",
       "        }    #T_037cb308_b0b0_11e9_8d44_02420a0000cdrow9_col23 {\n",
       "            background-color:  #80a3fa;\n",
       "            color:  #000000;\n",
       "        }    #T_037cb308_b0b0_11e9_8d44_02420a0000cdrow9_col24 {\n",
       "            background-color:  #bcd2f7;\n",
       "            color:  #000000;\n",
       "        }    #T_037cb308_b0b0_11e9_8d44_02420a0000cdrow9_col25 {\n",
       "            background-color:  #bfd3f6;\n",
       "            color:  #000000;\n",
       "        }    #T_037cb308_b0b0_11e9_8d44_02420a0000cdrow9_col26 {\n",
       "            background-color:  #dadce0;\n",
       "            color:  #000000;\n",
       "        }    #T_037cb308_b0b0_11e9_8d44_02420a0000cdrow9_col27 {\n",
       "            background-color:  #85a8fc;\n",
       "            color:  #000000;\n",
       "        }    #T_037cb308_b0b0_11e9_8d44_02420a0000cdrow10_col0 {\n",
       "            background-color:  #6f92f3;\n",
       "            color:  #000000;\n",
       "        }    #T_037cb308_b0b0_11e9_8d44_02420a0000cdrow10_col1 {\n",
       "            background-color:  #f7a889;\n",
       "            color:  #000000;\n",
       "        }    #T_037cb308_b0b0_11e9_8d44_02420a0000cdrow10_col2 {\n",
       "            background-color:  #b40426;\n",
       "            color:  #f1f1f1;\n",
       "        }    #T_037cb308_b0b0_11e9_8d44_02420a0000cdrow10_col3 {\n",
       "            background-color:  #e36c55;\n",
       "            color:  #000000;\n",
       "        }    #T_037cb308_b0b0_11e9_8d44_02420a0000cdrow10_col4 {\n",
       "            background-color:  #e7d7ce;\n",
       "            color:  #000000;\n",
       "        }    #T_037cb308_b0b0_11e9_8d44_02420a0000cdrow10_col5 {\n",
       "            background-color:  #7da0f9;\n",
       "            color:  #000000;\n",
       "        }    #T_037cb308_b0b0_11e9_8d44_02420a0000cdrow10_col6 {\n",
       "            background-color:  #ca3b37;\n",
       "            color:  #f1f1f1;\n",
       "        }    #T_037cb308_b0b0_11e9_8d44_02420a0000cdrow10_col7 {\n",
       "            background-color:  #7597f6;\n",
       "            color:  #000000;\n",
       "        }    #T_037cb308_b0b0_11e9_8d44_02420a0000cdrow10_col8 {\n",
       "            background-color:  #4c66d6;\n",
       "            color:  #000000;\n",
       "        }    #T_037cb308_b0b0_11e9_8d44_02420a0000cdrow10_col9 {\n",
       "            background-color:  #4e68d8;\n",
       "            color:  #000000;\n",
       "        }    #T_037cb308_b0b0_11e9_8d44_02420a0000cdrow10_col10 {\n",
       "            background-color:  #b40426;\n",
       "            color:  #f1f1f1;\n",
       "        }    #T_037cb308_b0b0_11e9_8d44_02420a0000cdrow10_col11 {\n",
       "            background-color:  #4961d2;\n",
       "            color:  #f1f1f1;\n",
       "        }    #T_037cb308_b0b0_11e9_8d44_02420a0000cdrow10_col12 {\n",
       "            background-color:  #f7b599;\n",
       "            color:  #000000;\n",
       "        }    #T_037cb308_b0b0_11e9_8d44_02420a0000cdrow10_col13 {\n",
       "            background-color:  #536edd;\n",
       "            color:  #000000;\n",
       "        }    #T_037cb308_b0b0_11e9_8d44_02420a0000cdrow10_col14 {\n",
       "            background-color:  #4b64d5;\n",
       "            color:  #f1f1f1;\n",
       "        }    #T_037cb308_b0b0_11e9_8d44_02420a0000cdrow10_col15 {\n",
       "            background-color:  #4e68d8;\n",
       "            color:  #000000;\n",
       "        }    #T_037cb308_b0b0_11e9_8d44_02420a0000cdrow10_col16 {\n",
       "            background-color:  #b5cdfa;\n",
       "            color:  #000000;\n",
       "        }    #T_037cb308_b0b0_11e9_8d44_02420a0000cdrow10_col17 {\n",
       "            background-color:  #779af7;\n",
       "            color:  #000000;\n",
       "        }    #T_037cb308_b0b0_11e9_8d44_02420a0000cdrow10_col18 {\n",
       "            background-color:  #c1d4f4;\n",
       "            color:  #000000;\n",
       "        }    #T_037cb308_b0b0_11e9_8d44_02420a0000cdrow10_col19 {\n",
       "            background-color:  #7597f6;\n",
       "            color:  #000000;\n",
       "        }    #T_037cb308_b0b0_11e9_8d44_02420a0000cdrow10_col20 {\n",
       "            background-color:  #ccd9ed;\n",
       "            color:  #000000;\n",
       "        }    #T_037cb308_b0b0_11e9_8d44_02420a0000cdrow10_col21 {\n",
       "            background-color:  #d5dbe5;\n",
       "            color:  #000000;\n",
       "        }    #T_037cb308_b0b0_11e9_8d44_02420a0000cdrow10_col22 {\n",
       "            background-color:  #3e51c5;\n",
       "            color:  #f1f1f1;\n",
       "        }    #T_037cb308_b0b0_11e9_8d44_02420a0000cdrow10_col23 {\n",
       "            background-color:  #81a4fb;\n",
       "            color:  #000000;\n",
       "        }    #T_037cb308_b0b0_11e9_8d44_02420a0000cdrow10_col24 {\n",
       "            background-color:  #a9c6fd;\n",
       "            color:  #000000;\n",
       "        }    #T_037cb308_b0b0_11e9_8d44_02420a0000cdrow10_col25 {\n",
       "            background-color:  #bed2f6;\n",
       "            color:  #000000;\n",
       "        }    #T_037cb308_b0b0_11e9_8d44_02420a0000cdrow10_col26 {\n",
       "            background-color:  #6a8bef;\n",
       "            color:  #000000;\n",
       "        }    #T_037cb308_b0b0_11e9_8d44_02420a0000cdrow10_col27 {\n",
       "            background-color:  #5a78e4;\n",
       "            color:  #000000;\n",
       "        }    #T_037cb308_b0b0_11e9_8d44_02420a0000cdrow11_col0 {\n",
       "            background-color:  #4358cb;\n",
       "            color:  #f1f1f1;\n",
       "        }    #T_037cb308_b0b0_11e9_8d44_02420a0000cdrow11_col1 {\n",
       "            background-color:  #6e90f2;\n",
       "            color:  #000000;\n",
       "        }    #T_037cb308_b0b0_11e9_8d44_02420a0000cdrow11_col2 {\n",
       "            background-color:  #8badfd;\n",
       "            color:  #000000;\n",
       "        }    #T_037cb308_b0b0_11e9_8d44_02420a0000cdrow11_col3 {\n",
       "            background-color:  #a7c5fe;\n",
       "            color:  #000000;\n",
       "        }    #T_037cb308_b0b0_11e9_8d44_02420a0000cdrow11_col4 {\n",
       "            background-color:  #86a9fc;\n",
       "            color:  #000000;\n",
       "        }    #T_037cb308_b0b0_11e9_8d44_02420a0000cdrow11_col5 {\n",
       "            background-color:  #9ebeff;\n",
       "            color:  #000000;\n",
       "        }    #T_037cb308_b0b0_11e9_8d44_02420a0000cdrow11_col6 {\n",
       "            background-color:  #a2c1ff;\n",
       "            color:  #000000;\n",
       "        }    #T_037cb308_b0b0_11e9_8d44_02420a0000cdrow11_col7 {\n",
       "            background-color:  #86a9fc;\n",
       "            color:  #000000;\n",
       "        }    #T_037cb308_b0b0_11e9_8d44_02420a0000cdrow11_col8 {\n",
       "            background-color:  #4358cb;\n",
       "            color:  #f1f1f1;\n",
       "        }    #T_037cb308_b0b0_11e9_8d44_02420a0000cdrow11_col9 {\n",
       "            background-color:  #6180e9;\n",
       "            color:  #000000;\n",
       "        }    #T_037cb308_b0b0_11e9_8d44_02420a0000cdrow11_col10 {\n",
       "            background-color:  #8badfd;\n",
       "            color:  #000000;\n",
       "        }    #T_037cb308_b0b0_11e9_8d44_02420a0000cdrow11_col11 {\n",
       "            background-color:  #b40426;\n",
       "            color:  #f1f1f1;\n",
       "        }    #T_037cb308_b0b0_11e9_8d44_02420a0000cdrow11_col12 {\n",
       "            background-color:  #86a9fc;\n",
       "            color:  #000000;\n",
       "        }    #T_037cb308_b0b0_11e9_8d44_02420a0000cdrow11_col13 {\n",
       "            background-color:  #516ddb;\n",
       "            color:  #000000;\n",
       "        }    #T_037cb308_b0b0_11e9_8d44_02420a0000cdrow11_col14 {\n",
       "            background-color:  #506bda;\n",
       "            color:  #000000;\n",
       "        }    #T_037cb308_b0b0_11e9_8d44_02420a0000cdrow11_col15 {\n",
       "            background-color:  #88abfd;\n",
       "            color:  #000000;\n",
       "        }    #T_037cb308_b0b0_11e9_8d44_02420a0000cdrow11_col16 {\n",
       "            background-color:  #799cf8;\n",
       "            color:  #000000;\n",
       "        }    #T_037cb308_b0b0_11e9_8d44_02420a0000cdrow11_col17 {\n",
       "            background-color:  #80a3fa;\n",
       "            color:  #000000;\n",
       "        }    #T_037cb308_b0b0_11e9_8d44_02420a0000cdrow11_col18 {\n",
       "            background-color:  #8db0fe;\n",
       "            color:  #000000;\n",
       "        }    #T_037cb308_b0b0_11e9_8d44_02420a0000cdrow11_col19 {\n",
       "            background-color:  #8db0fe;\n",
       "            color:  #000000;\n",
       "        }    #T_037cb308_b0b0_11e9_8d44_02420a0000cdrow11_col20 {\n",
       "            background-color:  #b6cefa;\n",
       "            color:  #000000;\n",
       "        }    #T_037cb308_b0b0_11e9_8d44_02420a0000cdrow11_col21 {\n",
       "            background-color:  #8caffe;\n",
       "            color:  #000000;\n",
       "        }    #T_037cb308_b0b0_11e9_8d44_02420a0000cdrow11_col22 {\n",
       "            background-color:  #445acc;\n",
       "            color:  #f1f1f1;\n",
       "        }    #T_037cb308_b0b0_11e9_8d44_02420a0000cdrow11_col23 {\n",
       "            background-color:  #86a9fc;\n",
       "            color:  #000000;\n",
       "        }    #T_037cb308_b0b0_11e9_8d44_02420a0000cdrow11_col24 {\n",
       "            background-color:  #b6cefa;\n",
       "            color:  #000000;\n",
       "        }    #T_037cb308_b0b0_11e9_8d44_02420a0000cdrow11_col25 {\n",
       "            background-color:  #b9d0f9;\n",
       "            color:  #000000;\n",
       "        }    #T_037cb308_b0b0_11e9_8d44_02420a0000cdrow11_col26 {\n",
       "            background-color:  #ccd9ed;\n",
       "            color:  #000000;\n",
       "        }    #T_037cb308_b0b0_11e9_8d44_02420a0000cdrow11_col27 {\n",
       "            background-color:  #88abfd;\n",
       "            color:  #000000;\n",
       "        }    #T_037cb308_b0b0_11e9_8d44_02420a0000cdrow12_col0 {\n",
       "            background-color:  #6b8df0;\n",
       "            color:  #000000;\n",
       "        }    #T_037cb308_b0b0_11e9_8d44_02420a0000cdrow12_col1 {\n",
       "            background-color:  #e6d7cf;\n",
       "            color:  #000000;\n",
       "        }    #T_037cb308_b0b0_11e9_8d44_02420a0000cdrow12_col2 {\n",
       "            background-color:  #f7b194;\n",
       "            color:  #000000;\n",
       "        }    #T_037cb308_b0b0_11e9_8d44_02420a0000cdrow12_col3 {\n",
       "            background-color:  #e7d7ce;\n",
       "            color:  #000000;\n",
       "        }    #T_037cb308_b0b0_11e9_8d44_02420a0000cdrow12_col4 {\n",
       "            background-color:  #dadce0;\n",
       "            color:  #000000;\n",
       "        }    #T_037cb308_b0b0_11e9_8d44_02420a0000cdrow12_col5 {\n",
       "            background-color:  #b7cff9;\n",
       "            color:  #000000;\n",
       "        }    #T_037cb308_b0b0_11e9_8d44_02420a0000cdrow12_col6 {\n",
       "            background-color:  #f2cab5;\n",
       "            color:  #000000;\n",
       "        }    #T_037cb308_b0b0_11e9_8d44_02420a0000cdrow12_col7 {\n",
       "            background-color:  #9fbfff;\n",
       "            color:  #000000;\n",
       "        }    #T_037cb308_b0b0_11e9_8d44_02420a0000cdrow12_col8 {\n",
       "            background-color:  #4f69d9;\n",
       "            color:  #000000;\n",
       "        }    #T_037cb308_b0b0_11e9_8d44_02420a0000cdrow12_col9 {\n",
       "            background-color:  #5e7de7;\n",
       "            color:  #000000;\n",
       "        }    #T_037cb308_b0b0_11e9_8d44_02420a0000cdrow12_col10 {\n",
       "            background-color:  #f7b194;\n",
       "            color:  #000000;\n",
       "        }    #T_037cb308_b0b0_11e9_8d44_02420a0000cdrow12_col11 {\n",
       "            background-color:  #506bda;\n",
       "            color:  #000000;\n",
       "        }    #T_037cb308_b0b0_11e9_8d44_02420a0000cdrow12_col12 {\n",
       "            background-color:  #b40426;\n",
       "            color:  #f1f1f1;\n",
       "        }    #T_037cb308_b0b0_11e9_8d44_02420a0000cdrow12_col13 {\n",
       "            background-color:  #5b7ae5;\n",
       "            color:  #000000;\n",
       "        }    #T_037cb308_b0b0_11e9_8d44_02420a0000cdrow12_col14 {\n",
       "            background-color:  #5673e0;\n",
       "            color:  #000000;\n",
       "        }    #T_037cb308_b0b0_11e9_8d44_02420a0000cdrow12_col15 {\n",
       "            background-color:  #5a78e4;\n",
       "            color:  #000000;\n",
       "        }    #T_037cb308_b0b0_11e9_8d44_02420a0000cdrow12_col16 {\n",
       "            background-color:  #9ebeff;\n",
       "            color:  #000000;\n",
       "        }    #T_037cb308_b0b0_11e9_8d44_02420a0000cdrow12_col17 {\n",
       "            background-color:  #84a7fc;\n",
       "            color:  #000000;\n",
       "        }    #T_037cb308_b0b0_11e9_8d44_02420a0000cdrow12_col18 {\n",
       "            background-color:  #bad0f8;\n",
       "            color:  #000000;\n",
       "        }    #T_037cb308_b0b0_11e9_8d44_02420a0000cdrow12_col19 {\n",
       "            background-color:  #7597f6;\n",
       "            color:  #000000;\n",
       "        }    #T_037cb308_b0b0_11e9_8d44_02420a0000cdrow12_col20 {\n",
       "            background-color:  #c7d7f0;\n",
       "            color:  #000000;\n",
       "        }    #T_037cb308_b0b0_11e9_8d44_02420a0000cdrow12_col21 {\n",
       "            background-color:  #e1dad6;\n",
       "            color:  #000000;\n",
       "        }    #T_037cb308_b0b0_11e9_8d44_02420a0000cdrow12_col22 {\n",
       "            background-color:  #3d50c3;\n",
       "            color:  #f1f1f1;\n",
       "        }    #T_037cb308_b0b0_11e9_8d44_02420a0000cdrow12_col23 {\n",
       "            background-color:  #81a4fb;\n",
       "            color:  #000000;\n",
       "        }    #T_037cb308_b0b0_11e9_8d44_02420a0000cdrow12_col24 {\n",
       "            background-color:  #afcafc;\n",
       "            color:  #000000;\n",
       "        }    #T_037cb308_b0b0_11e9_8d44_02420a0000cdrow12_col25 {\n",
       "            background-color:  #6485ec;\n",
       "            color:  #000000;\n",
       "        }    #T_037cb308_b0b0_11e9_8d44_02420a0000cdrow12_col26 {\n",
       "            background-color:  #f4c6af;\n",
       "            color:  #000000;\n",
       "        }    #T_037cb308_b0b0_11e9_8d44_02420a0000cdrow12_col27 {\n",
       "            background-color:  #6f92f3;\n",
       "            color:  #000000;\n",
       "        }    #T_037cb308_b0b0_11e9_8d44_02420a0000cdrow13_col0 {\n",
       "            background-color:  #6485ec;\n",
       "            color:  #000000;\n",
       "        }    #T_037cb308_b0b0_11e9_8d44_02420a0000cdrow13_col1 {\n",
       "            background-color:  #7699f6;\n",
       "            color:  #000000;\n",
       "        }    #T_037cb308_b0b0_11e9_8d44_02420a0000cdrow13_col2 {\n",
       "            background-color:  #9abbff;\n",
       "            color:  #000000;\n",
       "        }    #T_037cb308_b0b0_11e9_8d44_02420a0000cdrow13_col3 {\n",
       "            background-color:  #bcd2f7;\n",
       "            color:  #000000;\n",
       "        }    #T_037cb308_b0b0_11e9_8d44_02420a0000cdrow13_col4 {\n",
       "            background-color:  #7b9ff9;\n",
       "            color:  #000000;\n",
       "        }    #T_037cb308_b0b0_11e9_8d44_02420a0000cdrow13_col5 {\n",
       "            background-color:  #b5cdfa;\n",
       "            color:  #000000;\n",
       "        }    #T_037cb308_b0b0_11e9_8d44_02420a0000cdrow13_col6 {\n",
       "            background-color:  #aac7fd;\n",
       "            color:  #000000;\n",
       "        }    #T_037cb308_b0b0_11e9_8d44_02420a0000cdrow13_col7 {\n",
       "            background-color:  #a1c0ff;\n",
       "            color:  #000000;\n",
       "        }    #T_037cb308_b0b0_11e9_8d44_02420a0000cdrow13_col8 {\n",
       "            background-color:  #4e68d8;\n",
       "            color:  #000000;\n",
       "        }    #T_037cb308_b0b0_11e9_8d44_02420a0000cdrow13_col9 {\n",
       "            background-color:  #688aef;\n",
       "            color:  #000000;\n",
       "        }    #T_037cb308_b0b0_11e9_8d44_02420a0000cdrow13_col10 {\n",
       "            background-color:  #9abbff;\n",
       "            color:  #000000;\n",
       "        }    #T_037cb308_b0b0_11e9_8d44_02420a0000cdrow13_col11 {\n",
       "            background-color:  #5875e1;\n",
       "            color:  #000000;\n",
       "        }    #T_037cb308_b0b0_11e9_8d44_02420a0000cdrow13_col12 {\n",
       "            background-color:  #97b8ff;\n",
       "            color:  #000000;\n",
       "        }    #T_037cb308_b0b0_11e9_8d44_02420a0000cdrow13_col13 {\n",
       "            background-color:  #b40426;\n",
       "            color:  #f1f1f1;\n",
       "        }    #T_037cb308_b0b0_11e9_8d44_02420a0000cdrow13_col14 {\n",
       "            background-color:  #6384eb;\n",
       "            color:  #000000;\n",
       "        }    #T_037cb308_b0b0_11e9_8d44_02420a0000cdrow13_col15 {\n",
       "            background-color:  #96b7ff;\n",
       "            color:  #000000;\n",
       "        }    #T_037cb308_b0b0_11e9_8d44_02420a0000cdrow13_col16 {\n",
       "            background-color:  #6c8ff1;\n",
       "            color:  #000000;\n",
       "        }    #T_037cb308_b0b0_11e9_8d44_02420a0000cdrow13_col17 {\n",
       "            background-color:  #89acfd;\n",
       "            color:  #000000;\n",
       "        }    #T_037cb308_b0b0_11e9_8d44_02420a0000cdrow13_col18 {\n",
       "            background-color:  #86a9fc;\n",
       "            color:  #000000;\n",
       "        }    #T_037cb308_b0b0_11e9_8d44_02420a0000cdrow13_col19 {\n",
       "            background-color:  #92b4fe;\n",
       "            color:  #000000;\n",
       "        }    #T_037cb308_b0b0_11e9_8d44_02420a0000cdrow13_col20 {\n",
       "            background-color:  #afcafc;\n",
       "            color:  #000000;\n",
       "        }    #T_037cb308_b0b0_11e9_8d44_02420a0000cdrow13_col21 {\n",
       "            background-color:  #94b6ff;\n",
       "            color:  #000000;\n",
       "        }    #T_037cb308_b0b0_11e9_8d44_02420a0000cdrow13_col22 {\n",
       "            background-color:  #3f53c6;\n",
       "            color:  #f1f1f1;\n",
       "        }    #T_037cb308_b0b0_11e9_8d44_02420a0000cdrow13_col23 {\n",
       "            background-color:  #89acfd;\n",
       "            color:  #000000;\n",
       "        }    #T_037cb308_b0b0_11e9_8d44_02420a0000cdrow13_col24 {\n",
       "            background-color:  #e3d9d3;\n",
       "            color:  #000000;\n",
       "        }    #T_037cb308_b0b0_11e9_8d44_02420a0000cdrow13_col25 {\n",
       "            background-color:  #a2c1ff;\n",
       "            color:  #000000;\n",
       "        }    #T_037cb308_b0b0_11e9_8d44_02420a0000cdrow13_col26 {\n",
       "            background-color:  #bcd2f7;\n",
       "            color:  #000000;\n",
       "        }    #T_037cb308_b0b0_11e9_8d44_02420a0000cdrow13_col27 {\n",
       "            background-color:  #80a3fa;\n",
       "            color:  #000000;\n",
       "        }    #T_037cb308_b0b0_11e9_8d44_02420a0000cdrow14_col0 {\n",
       "            background-color:  #4a63d3;\n",
       "            color:  #f1f1f1;\n",
       "        }    #T_037cb308_b0b0_11e9_8d44_02420a0000cdrow14_col1 {\n",
       "            background-color:  #6a8bef;\n",
       "            color:  #000000;\n",
       "        }    #T_037cb308_b0b0_11e9_8d44_02420a0000cdrow14_col2 {\n",
       "            background-color:  #8caffe;\n",
       "            color:  #000000;\n",
       "        }    #T_037cb308_b0b0_11e9_8d44_02420a0000cdrow14_col3 {\n",
       "            background-color:  #adc9fd;\n",
       "            color:  #000000;\n",
       "        }    #T_037cb308_b0b0_11e9_8d44_02420a0000cdrow14_col4 {\n",
       "            background-color:  #7093f3;\n",
       "            color:  #000000;\n",
       "        }    #T_037cb308_b0b0_11e9_8d44_02420a0000cdrow14_col5 {\n",
       "            background-color:  #abc8fd;\n",
       "            color:  #000000;\n",
       "        }    #T_037cb308_b0b0_11e9_8d44_02420a0000cdrow14_col6 {\n",
       "            background-color:  #9dbdff;\n",
       "            color:  #000000;\n",
       "        }    #T_037cb308_b0b0_11e9_8d44_02420a0000cdrow14_col7 {\n",
       "            background-color:  #90b2fe;\n",
       "            color:  #000000;\n",
       "        }    #T_037cb308_b0b0_11e9_8d44_02420a0000cdrow14_col8 {\n",
       "            background-color:  #4961d2;\n",
       "            color:  #f1f1f1;\n",
       "        }    #T_037cb308_b0b0_11e9_8d44_02420a0000cdrow14_col9 {\n",
       "            background-color:  #5b7ae5;\n",
       "            color:  #000000;\n",
       "        }    #T_037cb308_b0b0_11e9_8d44_02420a0000cdrow14_col10 {\n",
       "            background-color:  #8caffe;\n",
       "            color:  #000000;\n",
       "        }    #T_037cb308_b0b0_11e9_8d44_02420a0000cdrow14_col11 {\n",
       "            background-color:  #4f69d9;\n",
       "            color:  #000000;\n",
       "        }    #T_037cb308_b0b0_11e9_8d44_02420a0000cdrow14_col12 {\n",
       "            background-color:  #8caffe;\n",
       "            color:  #000000;\n",
       "        }    #T_037cb308_b0b0_11e9_8d44_02420a0000cdrow14_col13 {\n",
       "            background-color:  #5b7ae5;\n",
       "            color:  #000000;\n",
       "        }    #T_037cb308_b0b0_11e9_8d44_02420a0000cdrow14_col14 {\n",
       "            background-color:  #b40426;\n",
       "            color:  #f1f1f1;\n",
       "        }    #T_037cb308_b0b0_11e9_8d44_02420a0000cdrow14_col15 {\n",
       "            background-color:  #cedaeb;\n",
       "            color:  #000000;\n",
       "        }    #T_037cb308_b0b0_11e9_8d44_02420a0000cdrow14_col16 {\n",
       "            background-color:  #7ea1fa;\n",
       "            color:  #000000;\n",
       "        }    #T_037cb308_b0b0_11e9_8d44_02420a0000cdrow14_col17 {\n",
       "            background-color:  #6a8bef;\n",
       "            color:  #000000;\n",
       "        }    #T_037cb308_b0b0_11e9_8d44_02420a0000cdrow14_col18 {\n",
       "            background-color:  #81a4fb;\n",
       "            color:  #000000;\n",
       "        }    #T_037cb308_b0b0_11e9_8d44_02420a0000cdrow14_col19 {\n",
       "            background-color:  #93b5fe;\n",
       "            color:  #000000;\n",
       "        }    #T_037cb308_b0b0_11e9_8d44_02420a0000cdrow14_col20 {\n",
       "            background-color:  #b7cff9;\n",
       "            color:  #000000;\n",
       "        }    #T_037cb308_b0b0_11e9_8d44_02420a0000cdrow14_col21 {\n",
       "            background-color:  #80a3fa;\n",
       "            color:  #000000;\n",
       "        }    #T_037cb308_b0b0_11e9_8d44_02420a0000cdrow14_col22 {\n",
       "            background-color:  #4055c8;\n",
       "            color:  #f1f1f1;\n",
       "        }    #T_037cb308_b0b0_11e9_8d44_02420a0000cdrow14_col23 {\n",
       "            background-color:  #81a4fb;\n",
       "            color:  #000000;\n",
       "        }    #T_037cb308_b0b0_11e9_8d44_02420a0000cdrow14_col24 {\n",
       "            background-color:  #bbd1f8;\n",
       "            color:  #000000;\n",
       "        }    #T_037cb308_b0b0_11e9_8d44_02420a0000cdrow14_col25 {\n",
       "            background-color:  #98b9ff;\n",
       "            color:  #000000;\n",
       "        }    #T_037cb308_b0b0_11e9_8d44_02420a0000cdrow14_col26 {\n",
       "            background-color:  #c1d4f4;\n",
       "            color:  #000000;\n",
       "        }    #T_037cb308_b0b0_11e9_8d44_02420a0000cdrow14_col27 {\n",
       "            background-color:  #8fb1fe;\n",
       "            color:  #000000;\n",
       "        }    #T_037cb308_b0b0_11e9_8d44_02420a0000cdrow15_col0 {\n",
       "            background-color:  #3d50c3;\n",
       "            color:  #f1f1f1;\n",
       "        }    #T_037cb308_b0b0_11e9_8d44_02420a0000cdrow15_col1 {\n",
       "            background-color:  #3b4cc0;\n",
       "            color:  #f1f1f1;\n",
       "        }    #T_037cb308_b0b0_11e9_8d44_02420a0000cdrow15_col2 {\n",
       "            background-color:  #5977e3;\n",
       "            color:  #000000;\n",
       "        }    #T_037cb308_b0b0_11e9_8d44_02420a0000cdrow15_col3 {\n",
       "            background-color:  #93b5fe;\n",
       "            color:  #000000;\n",
       "        }    #T_037cb308_b0b0_11e9_8d44_02420a0000cdrow15_col4 {\n",
       "            background-color:  #3b4cc0;\n",
       "            color:  #f1f1f1;\n",
       "        }    #T_037cb308_b0b0_11e9_8d44_02420a0000cdrow15_col5 {\n",
       "            background-color:  #96b7ff;\n",
       "            color:  #000000;\n",
       "        }    #T_037cb308_b0b0_11e9_8d44_02420a0000cdrow15_col6 {\n",
       "            background-color:  #7597f6;\n",
       "            color:  #000000;\n",
       "        }    #T_037cb308_b0b0_11e9_8d44_02420a0000cdrow15_col7 {\n",
       "            background-color:  #7ea1fa;\n",
       "            color:  #000000;\n",
       "        }    #T_037cb308_b0b0_11e9_8d44_02420a0000cdrow15_col8 {\n",
       "            background-color:  #455cce;\n",
       "            color:  #f1f1f1;\n",
       "        }    #T_037cb308_b0b0_11e9_8d44_02420a0000cdrow15_col9 {\n",
       "            background-color:  #6180e9;\n",
       "            color:  #000000;\n",
       "        }    #T_037cb308_b0b0_11e9_8d44_02420a0000cdrow15_col10 {\n",
       "            background-color:  #5977e3;\n",
       "            color:  #000000;\n",
       "        }    #T_037cb308_b0b0_11e9_8d44_02420a0000cdrow15_col11 {\n",
       "            background-color:  #516ddb;\n",
       "            color:  #000000;\n",
       "        }    #T_037cb308_b0b0_11e9_8d44_02420a0000cdrow15_col12 {\n",
       "            background-color:  #5a78e4;\n",
       "            color:  #000000;\n",
       "        }    #T_037cb308_b0b0_11e9_8d44_02420a0000cdrow15_col13 {\n",
       "            background-color:  #5977e3;\n",
       "            color:  #000000;\n",
       "        }    #T_037cb308_b0b0_11e9_8d44_02420a0000cdrow15_col14 {\n",
       "            background-color:  #aac7fd;\n",
       "            color:  #000000;\n",
       "        }    #T_037cb308_b0b0_11e9_8d44_02420a0000cdrow15_col15 {\n",
       "            background-color:  #b40426;\n",
       "            color:  #f1f1f1;\n",
       "        }    #T_037cb308_b0b0_11e9_8d44_02420a0000cdrow15_col16 {\n",
       "            background-color:  #516ddb;\n",
       "            color:  #000000;\n",
       "        }    #T_037cb308_b0b0_11e9_8d44_02420a0000cdrow15_col17 {\n",
       "            background-color:  #7295f4;\n",
       "            color:  #000000;\n",
       "        }    #T_037cb308_b0b0_11e9_8d44_02420a0000cdrow15_col18 {\n",
       "            background-color:  #7b9ff9;\n",
       "            color:  #000000;\n",
       "        }    #T_037cb308_b0b0_11e9_8d44_02420a0000cdrow15_col19 {\n",
       "            background-color:  #97b8ff;\n",
       "            color:  #000000;\n",
       "        }    #T_037cb308_b0b0_11e9_8d44_02420a0000cdrow15_col20 {\n",
       "            background-color:  #b1cbfc;\n",
       "            color:  #000000;\n",
       "        }    #T_037cb308_b0b0_11e9_8d44_02420a0000cdrow15_col21 {\n",
       "            background-color:  #3b4cc0;\n",
       "            color:  #f1f1f1;\n",
       "        }    #T_037cb308_b0b0_11e9_8d44_02420a0000cdrow15_col22 {\n",
       "            background-color:  #4358cb;\n",
       "            color:  #f1f1f1;\n",
       "        }    #T_037cb308_b0b0_11e9_8d44_02420a0000cdrow15_col23 {\n",
       "            background-color:  #7da0f9;\n",
       "            color:  #000000;\n",
       "        }    #T_037cb308_b0b0_11e9_8d44_02420a0000cdrow15_col24 {\n",
       "            background-color:  #c0d4f5;\n",
       "            color:  #000000;\n",
       "        }    #T_037cb308_b0b0_11e9_8d44_02420a0000cdrow15_col25 {\n",
       "            background-color:  #a7c5fe;\n",
       "            color:  #000000;\n",
       "        }    #T_037cb308_b0b0_11e9_8d44_02420a0000cdrow15_col26 {\n",
       "            background-color:  #c0d4f5;\n",
       "            color:  #000000;\n",
       "        }    #T_037cb308_b0b0_11e9_8d44_02420a0000cdrow15_col27 {\n",
       "            background-color:  #c1d4f4;\n",
       "            color:  #000000;\n",
       "        }    #T_037cb308_b0b0_11e9_8d44_02420a0000cdrow16_col0 {\n",
       "            background-color:  #5572df;\n",
       "            color:  #000000;\n",
       "        }    #T_037cb308_b0b0_11e9_8d44_02420a0000cdrow16_col1 {\n",
       "            background-color:  #aac7fd;\n",
       "            color:  #000000;\n",
       "        }    #T_037cb308_b0b0_11e9_8d44_02420a0000cdrow16_col2 {\n",
       "            background-color:  #c5d6f2;\n",
       "            color:  #000000;\n",
       "        }    #T_037cb308_b0b0_11e9_8d44_02420a0000cdrow16_col3 {\n",
       "            background-color:  #d7dce3;\n",
       "            color:  #000000;\n",
       "        }    #T_037cb308_b0b0_11e9_8d44_02420a0000cdrow16_col4 {\n",
       "            background-color:  #c9d7f0;\n",
       "            color:  #000000;\n",
       "        }    #T_037cb308_b0b0_11e9_8d44_02420a0000cdrow16_col5 {\n",
       "            background-color:  #6788ee;\n",
       "            color:  #000000;\n",
       "        }    #T_037cb308_b0b0_11e9_8d44_02420a0000cdrow16_col6 {\n",
       "            background-color:  #d5dbe5;\n",
       "            color:  #000000;\n",
       "        }    #T_037cb308_b0b0_11e9_8d44_02420a0000cdrow16_col7 {\n",
       "            background-color:  #5f7fe8;\n",
       "            color:  #000000;\n",
       "        }    #T_037cb308_b0b0_11e9_8d44_02420a0000cdrow16_col8 {\n",
       "            background-color:  #4a63d3;\n",
       "            color:  #f1f1f1;\n",
       "        }    #T_037cb308_b0b0_11e9_8d44_02420a0000cdrow16_col9 {\n",
       "            background-color:  #5977e3;\n",
       "            color:  #000000;\n",
       "        }    #T_037cb308_b0b0_11e9_8d44_02420a0000cdrow16_col10 {\n",
       "            background-color:  #c5d6f2;\n",
       "            color:  #000000;\n",
       "        }    #T_037cb308_b0b0_11e9_8d44_02420a0000cdrow16_col11 {\n",
       "            background-color:  #4e68d8;\n",
       "            color:  #000000;\n",
       "        }    #T_037cb308_b0b0_11e9_8d44_02420a0000cdrow16_col12 {\n",
       "            background-color:  #a9c6fd;\n",
       "            color:  #000000;\n",
       "        }    #T_037cb308_b0b0_11e9_8d44_02420a0000cdrow16_col13 {\n",
       "            background-color:  #3b4cc0;\n",
       "            color:  #f1f1f1;\n",
       "        }    #T_037cb308_b0b0_11e9_8d44_02420a0000cdrow16_col14 {\n",
       "            background-color:  #5470de;\n",
       "            color:  #000000;\n",
       "        }    #T_037cb308_b0b0_11e9_8d44_02420a0000cdrow16_col15 {\n",
       "            background-color:  #5f7fe8;\n",
       "            color:  #000000;\n",
       "        }    #T_037cb308_b0b0_11e9_8d44_02420a0000cdrow16_col16 {\n",
       "            background-color:  #b40426;\n",
       "            color:  #f1f1f1;\n",
       "        }    #T_037cb308_b0b0_11e9_8d44_02420a0000cdrow16_col17 {\n",
       "            background-color:  #3b4cc0;\n",
       "            color:  #f1f1f1;\n",
       "        }    #T_037cb308_b0b0_11e9_8d44_02420a0000cdrow16_col18 {\n",
       "            background-color:  #e9d5cb;\n",
       "            color:  #000000;\n",
       "        }    #T_037cb308_b0b0_11e9_8d44_02420a0000cdrow16_col19 {\n",
       "            background-color:  #6384eb;\n",
       "            color:  #000000;\n",
       "        }    #T_037cb308_b0b0_11e9_8d44_02420a0000cdrow16_col20 {\n",
       "            background-color:  #c3d5f4;\n",
       "            color:  #000000;\n",
       "        }    #T_037cb308_b0b0_11e9_8d44_02420a0000cdrow16_col21 {\n",
       "            background-color:  #d3dbe7;\n",
       "            color:  #000000;\n",
       "        }    #T_037cb308_b0b0_11e9_8d44_02420a0000cdrow16_col22 {\n",
       "            background-color:  #3d50c3;\n",
       "            color:  #f1f1f1;\n",
       "        }    #T_037cb308_b0b0_11e9_8d44_02420a0000cdrow16_col23 {\n",
       "            background-color:  #7ea1fa;\n",
       "            color:  #000000;\n",
       "        }    #T_037cb308_b0b0_11e9_8d44_02420a0000cdrow16_col24 {\n",
       "            background-color:  #afcafc;\n",
       "            color:  #000000;\n",
       "        }    #T_037cb308_b0b0_11e9_8d44_02420a0000cdrow16_col25 {\n",
       "            background-color:  #b9d0f9;\n",
       "            color:  #000000;\n",
       "        }    #T_037cb308_b0b0_11e9_8d44_02420a0000cdrow16_col26 {\n",
       "            background-color:  #a5c3fe;\n",
       "            color:  #000000;\n",
       "        }    #T_037cb308_b0b0_11e9_8d44_02420a0000cdrow16_col27 {\n",
       "            background-color:  #3b4cc0;\n",
       "            color:  #f1f1f1;\n",
       "        }    #T_037cb308_b0b0_11e9_8d44_02420a0000cdrow17_col0 {\n",
       "            background-color:  #4961d2;\n",
       "            color:  #f1f1f1;\n",
       "        }    #T_037cb308_b0b0_11e9_8d44_02420a0000cdrow17_col1 {\n",
       "            background-color:  #6c8ff1;\n",
       "            color:  #000000;\n",
       "        }    #T_037cb308_b0b0_11e9_8d44_02420a0000cdrow17_col2 {\n",
       "            background-color:  #8fb1fe;\n",
       "            color:  #000000;\n",
       "        }    #T_037cb308_b0b0_11e9_8d44_02420a0000cdrow17_col3 {\n",
       "            background-color:  #aec9fc;\n",
       "            color:  #000000;\n",
       "        }    #T_037cb308_b0b0_11e9_8d44_02420a0000cdrow17_col4 {\n",
       "            background-color:  #779af7;\n",
       "            color:  #000000;\n",
       "        }    #T_037cb308_b0b0_11e9_8d44_02420a0000cdrow17_col5 {\n",
       "            background-color:  #a9c6fd;\n",
       "            color:  #000000;\n",
       "        }    #T_037cb308_b0b0_11e9_8d44_02420a0000cdrow17_col6 {\n",
       "            background-color:  #9dbdff;\n",
       "            color:  #000000;\n",
       "        }    #T_037cb308_b0b0_11e9_8d44_02420a0000cdrow17_col7 {\n",
       "            background-color:  #90b2fe;\n",
       "            color:  #000000;\n",
       "        }    #T_037cb308_b0b0_11e9_8d44_02420a0000cdrow17_col8 {\n",
       "            background-color:  #3b4cc0;\n",
       "            color:  #f1f1f1;\n",
       "        }    #T_037cb308_b0b0_11e9_8d44_02420a0000cdrow17_col9 {\n",
       "            background-color:  #6485ec;\n",
       "            color:  #000000;\n",
       "        }    #T_037cb308_b0b0_11e9_8d44_02420a0000cdrow17_col10 {\n",
       "            background-color:  #8fb1fe;\n",
       "            color:  #000000;\n",
       "        }    #T_037cb308_b0b0_11e9_8d44_02420a0000cdrow17_col11 {\n",
       "            background-color:  #5673e0;\n",
       "            color:  #000000;\n",
       "        }    #T_037cb308_b0b0_11e9_8d44_02420a0000cdrow17_col12 {\n",
       "            background-color:  #90b2fe;\n",
       "            color:  #000000;\n",
       "        }    #T_037cb308_b0b0_11e9_8d44_02420a0000cdrow17_col13 {\n",
       "            background-color:  #5977e3;\n",
       "            color:  #000000;\n",
       "        }    #T_037cb308_b0b0_11e9_8d44_02420a0000cdrow17_col14 {\n",
       "            background-color:  #3f53c6;\n",
       "            color:  #f1f1f1;\n",
       "        }    #T_037cb308_b0b0_11e9_8d44_02420a0000cdrow17_col15 {\n",
       "            background-color:  #7ea1fa;\n",
       "            color:  #000000;\n",
       "        }    #T_037cb308_b0b0_11e9_8d44_02420a0000cdrow17_col16 {\n",
       "            background-color:  #3b4cc0;\n",
       "            color:  #f1f1f1;\n",
       "        }    #T_037cb308_b0b0_11e9_8d44_02420a0000cdrow17_col17 {\n",
       "            background-color:  #b40426;\n",
       "            color:  #f1f1f1;\n",
       "        }    #T_037cb308_b0b0_11e9_8d44_02420a0000cdrow17_col18 {\n",
       "            background-color:  #a2c1ff;\n",
       "            color:  #000000;\n",
       "        }    #T_037cb308_b0b0_11e9_8d44_02420a0000cdrow17_col19 {\n",
       "            background-color:  #8fb1fe;\n",
       "            color:  #000000;\n",
       "        }    #T_037cb308_b0b0_11e9_8d44_02420a0000cdrow17_col20 {\n",
       "            background-color:  #bed2f6;\n",
       "            color:  #000000;\n",
       "        }    #T_037cb308_b0b0_11e9_8d44_02420a0000cdrow17_col21 {\n",
       "            background-color:  #8badfd;\n",
       "            color:  #000000;\n",
       "        }    #T_037cb308_b0b0_11e9_8d44_02420a0000cdrow17_col22 {\n",
       "            background-color:  #3e51c5;\n",
       "            color:  #f1f1f1;\n",
       "        }    #T_037cb308_b0b0_11e9_8d44_02420a0000cdrow17_col23 {\n",
       "            background-color:  #85a8fc;\n",
       "            color:  #000000;\n",
       "        }    #T_037cb308_b0b0_11e9_8d44_02420a0000cdrow17_col24 {\n",
       "            background-color:  #b6cefa;\n",
       "            color:  #000000;\n",
       "        }    #T_037cb308_b0b0_11e9_8d44_02420a0000cdrow17_col25 {\n",
       "            background-color:  #96b7ff;\n",
       "            color:  #000000;\n",
       "        }    #T_037cb308_b0b0_11e9_8d44_02420a0000cdrow17_col26 {\n",
       "            background-color:  #c5d6f2;\n",
       "            color:  #000000;\n",
       "        }    #T_037cb308_b0b0_11e9_8d44_02420a0000cdrow17_col27 {\n",
       "            background-color:  #81a4fb;\n",
       "            color:  #000000;\n",
       "        }    #T_037cb308_b0b0_11e9_8d44_02420a0000cdrow18_col0 {\n",
       "            background-color:  #4e68d8;\n",
       "            color:  #000000;\n",
       "        }    #T_037cb308_b0b0_11e9_8d44_02420a0000cdrow18_col1 {\n",
       "            background-color:  #aec9fc;\n",
       "            color:  #000000;\n",
       "        }    #T_037cb308_b0b0_11e9_8d44_02420a0000cdrow18_col2 {\n",
       "            background-color:  #c5d6f2;\n",
       "            color:  #000000;\n",
       "        }    #T_037cb308_b0b0_11e9_8d44_02420a0000cdrow18_col3 {\n",
       "            background-color:  #d1dae9;\n",
       "            color:  #000000;\n",
       "        }    #T_037cb308_b0b0_11e9_8d44_02420a0000cdrow18_col4 {\n",
       "            background-color:  #c3d5f4;\n",
       "            color:  #000000;\n",
       "        }    #T_037cb308_b0b0_11e9_8d44_02420a0000cdrow18_col5 {\n",
       "            background-color:  #84a7fc;\n",
       "            color:  #000000;\n",
       "        }    #T_037cb308_b0b0_11e9_8d44_02420a0000cdrow18_col6 {\n",
       "            background-color:  #cfdaea;\n",
       "            color:  #000000;\n",
       "        }    #T_037cb308_b0b0_11e9_8d44_02420a0000cdrow18_col7 {\n",
       "            background-color:  #7396f5;\n",
       "            color:  #000000;\n",
       "        }    #T_037cb308_b0b0_11e9_8d44_02420a0000cdrow18_col8 {\n",
       "            background-color:  #4b64d5;\n",
       "            color:  #f1f1f1;\n",
       "        }    #T_037cb308_b0b0_11e9_8d44_02420a0000cdrow18_col9 {\n",
       "            background-color:  #5f7fe8;\n",
       "            color:  #000000;\n",
       "        }    #T_037cb308_b0b0_11e9_8d44_02420a0000cdrow18_col10 {\n",
       "            background-color:  #c5d6f2;\n",
       "            color:  #000000;\n",
       "        }    #T_037cb308_b0b0_11e9_8d44_02420a0000cdrow18_col11 {\n",
       "            background-color:  #516ddb;\n",
       "            color:  #000000;\n",
       "        }    #T_037cb308_b0b0_11e9_8d44_02420a0000cdrow18_col12 {\n",
       "            background-color:  #b6cefa;\n",
       "            color:  #000000;\n",
       "        }    #T_037cb308_b0b0_11e9_8d44_02420a0000cdrow18_col13 {\n",
       "            background-color:  #4358cb;\n",
       "            color:  #f1f1f1;\n",
       "        }    #T_037cb308_b0b0_11e9_8d44_02420a0000cdrow18_col14 {\n",
       "            background-color:  #455cce;\n",
       "            color:  #f1f1f1;\n",
       "        }    #T_037cb308_b0b0_11e9_8d44_02420a0000cdrow18_col15 {\n",
       "            background-color:  #7699f6;\n",
       "            color:  #000000;\n",
       "        }    #T_037cb308_b0b0_11e9_8d44_02420a0000cdrow18_col16 {\n",
       "            background-color:  #e1dad6;\n",
       "            color:  #000000;\n",
       "        }    #T_037cb308_b0b0_11e9_8d44_02420a0000cdrow18_col17 {\n",
       "            background-color:  #92b4fe;\n",
       "            color:  #000000;\n",
       "        }    #T_037cb308_b0b0_11e9_8d44_02420a0000cdrow18_col18 {\n",
       "            background-color:  #b40426;\n",
       "            color:  #f1f1f1;\n",
       "        }    #T_037cb308_b0b0_11e9_8d44_02420a0000cdrow18_col19 {\n",
       "            background-color:  #3b4cc0;\n",
       "            color:  #f1f1f1;\n",
       "        }    #T_037cb308_b0b0_11e9_8d44_02420a0000cdrow18_col20 {\n",
       "            background-color:  #c5d6f2;\n",
       "            color:  #000000;\n",
       "        }    #T_037cb308_b0b0_11e9_8d44_02420a0000cdrow18_col21 {\n",
       "            background-color:  #d5dbe5;\n",
       "            color:  #000000;\n",
       "        }    #T_037cb308_b0b0_11e9_8d44_02420a0000cdrow18_col22 {\n",
       "            background-color:  #4055c8;\n",
       "            color:  #f1f1f1;\n",
       "        }    #T_037cb308_b0b0_11e9_8d44_02420a0000cdrow18_col23 {\n",
       "            background-color:  #7ea1fa;\n",
       "            color:  #000000;\n",
       "        }    #T_037cb308_b0b0_11e9_8d44_02420a0000cdrow18_col24 {\n",
       "            background-color:  #afcafc;\n",
       "            color:  #000000;\n",
       "        }    #T_037cb308_b0b0_11e9_8d44_02420a0000cdrow18_col25 {\n",
       "            background-color:  #a7c5fe;\n",
       "            color:  #000000;\n",
       "        }    #T_037cb308_b0b0_11e9_8d44_02420a0000cdrow18_col26 {\n",
       "            background-color:  #b3cdfb;\n",
       "            color:  #000000;\n",
       "        }    #T_037cb308_b0b0_11e9_8d44_02420a0000cdrow18_col27 {\n",
       "            background-color:  #3e51c5;\n",
       "            color:  #f1f1f1;\n",
       "        }    #T_037cb308_b0b0_11e9_8d44_02420a0000cdrow19_col0 {\n",
       "            background-color:  #4961d2;\n",
       "            color:  #f1f1f1;\n",
       "        }    #T_037cb308_b0b0_11e9_8d44_02420a0000cdrow19_col1 {\n",
       "            background-color:  #5977e3;\n",
       "            color:  #000000;\n",
       "        }    #T_037cb308_b0b0_11e9_8d44_02420a0000cdrow19_col2 {\n",
       "            background-color:  #7a9df8;\n",
       "            color:  #000000;\n",
       "        }    #T_037cb308_b0b0_11e9_8d44_02420a0000cdrow19_col3 {\n",
       "            background-color:  #aec9fc;\n",
       "            color:  #000000;\n",
       "        }    #T_037cb308_b0b0_11e9_8d44_02420a0000cdrow19_col4 {\n",
       "            background-color:  #6a8bef;\n",
       "            color:  #000000;\n",
       "        }    #T_037cb308_b0b0_11e9_8d44_02420a0000cdrow19_col5 {\n",
       "            background-color:  #9abbff;\n",
       "            color:  #000000;\n",
       "        }    #T_037cb308_b0b0_11e9_8d44_02420a0000cdrow19_col6 {\n",
       "            background-color:  #96b7ff;\n",
       "            color:  #000000;\n",
       "        }    #T_037cb308_b0b0_11e9_8d44_02420a0000cdrow19_col7 {\n",
       "            background-color:  #82a6fb;\n",
       "            color:  #000000;\n",
       "        }    #T_037cb308_b0b0_11e9_8d44_02420a0000cdrow19_col8 {\n",
       "            background-color:  #455cce;\n",
       "            color:  #f1f1f1;\n",
       "        }    #T_037cb308_b0b0_11e9_8d44_02420a0000cdrow19_col9 {\n",
       "            background-color:  #6384eb;\n",
       "            color:  #000000;\n",
       "        }    #T_037cb308_b0b0_11e9_8d44_02420a0000cdrow19_col10 {\n",
       "            background-color:  #7a9df8;\n",
       "            color:  #000000;\n",
       "        }    #T_037cb308_b0b0_11e9_8d44_02420a0000cdrow19_col11 {\n",
       "            background-color:  #516ddb;\n",
       "            color:  #000000;\n",
       "        }    #T_037cb308_b0b0_11e9_8d44_02420a0000cdrow19_col12 {\n",
       "            background-color:  #6f92f3;\n",
       "            color:  #000000;\n",
       "        }    #T_037cb308_b0b0_11e9_8d44_02420a0000cdrow19_col13 {\n",
       "            background-color:  #506bda;\n",
       "            color:  #000000;\n",
       "        }    #T_037cb308_b0b0_11e9_8d44_02420a0000cdrow19_col14 {\n",
       "            background-color:  #5977e3;\n",
       "            color:  #000000;\n",
       "        }    #T_037cb308_b0b0_11e9_8d44_02420a0000cdrow19_col15 {\n",
       "            background-color:  #92b4fe;\n",
       "            color:  #000000;\n",
       "        }    #T_037cb308_b0b0_11e9_8d44_02420a0000cdrow19_col16 {\n",
       "            background-color:  #506bda;\n",
       "            color:  #000000;\n",
       "        }    #T_037cb308_b0b0_11e9_8d44_02420a0000cdrow19_col17 {\n",
       "            background-color:  #7ea1fa;\n",
       "            color:  #000000;\n",
       "        }    #T_037cb308_b0b0_11e9_8d44_02420a0000cdrow19_col18 {\n",
       "            background-color:  #3b4cc0;\n",
       "            color:  #f1f1f1;\n",
       "        }    #T_037cb308_b0b0_11e9_8d44_02420a0000cdrow19_col19 {\n",
       "            background-color:  #b40426;\n",
       "            color:  #f1f1f1;\n",
       "        }    #T_037cb308_b0b0_11e9_8d44_02420a0000cdrow19_col20 {\n",
       "            background-color:  #adc9fd;\n",
       "            color:  #000000;\n",
       "        }    #T_037cb308_b0b0_11e9_8d44_02420a0000cdrow19_col21 {\n",
       "            background-color:  #6e90f2;\n",
       "            color:  #000000;\n",
       "        }    #T_037cb308_b0b0_11e9_8d44_02420a0000cdrow19_col22 {\n",
       "            background-color:  #3f53c6;\n",
       "            color:  #f1f1f1;\n",
       "        }    #T_037cb308_b0b0_11e9_8d44_02420a0000cdrow19_col23 {\n",
       "            background-color:  #84a7fc;\n",
       "            color:  #000000;\n",
       "        }    #T_037cb308_b0b0_11e9_8d44_02420a0000cdrow19_col24 {\n",
       "            background-color:  #c1d4f4;\n",
       "            color:  #000000;\n",
       "        }    #T_037cb308_b0b0_11e9_8d44_02420a0000cdrow19_col25 {\n",
       "            background-color:  #b2ccfb;\n",
       "            color:  #000000;\n",
       "        }    #T_037cb308_b0b0_11e9_8d44_02420a0000cdrow19_col26 {\n",
       "            background-color:  #b9d0f9;\n",
       "            color:  #000000;\n",
       "        }    #T_037cb308_b0b0_11e9_8d44_02420a0000cdrow19_col27 {\n",
       "            background-color:  #8badfd;\n",
       "            color:  #000000;\n",
       "        }    #T_037cb308_b0b0_11e9_8d44_02420a0000cdrow20_col0 {\n",
       "            background-color:  #3b4cc0;\n",
       "            color:  #f1f1f1;\n",
       "        }    #T_037cb308_b0b0_11e9_8d44_02420a0000cdrow20_col1 {\n",
       "            background-color:  #81a4fb;\n",
       "            color:  #000000;\n",
       "        }    #T_037cb308_b0b0_11e9_8d44_02420a0000cdrow20_col2 {\n",
       "            background-color:  #adc9fd;\n",
       "            color:  #000000;\n",
       "        }    #T_037cb308_b0b0_11e9_8d44_02420a0000cdrow20_col3 {\n",
       "            background-color:  #cad8ef;\n",
       "            color:  #000000;\n",
       "        }    #T_037cb308_b0b0_11e9_8d44_02420a0000cdrow20_col4 {\n",
       "            background-color:  #9dbdff;\n",
       "            color:  #000000;\n",
       "        }    #T_037cb308_b0b0_11e9_8d44_02420a0000cdrow20_col5 {\n",
       "            background-color:  #89acfd;\n",
       "            color:  #000000;\n",
       "        }    #T_037cb308_b0b0_11e9_8d44_02420a0000cdrow20_col6 {\n",
       "            background-color:  #bed2f6;\n",
       "            color:  #000000;\n",
       "        }    #T_037cb308_b0b0_11e9_8d44_02420a0000cdrow20_col7 {\n",
       "            background-color:  #7699f6;\n",
       "            color:  #000000;\n",
       "        }    #T_037cb308_b0b0_11e9_8d44_02420a0000cdrow20_col8 {\n",
       "            background-color:  #465ecf;\n",
       "            color:  #f1f1f1;\n",
       "        }    #T_037cb308_b0b0_11e9_8d44_02420a0000cdrow20_col9 {\n",
       "            background-color:  #5d7ce6;\n",
       "            color:  #000000;\n",
       "        }    #T_037cb308_b0b0_11e9_8d44_02420a0000cdrow20_col10 {\n",
       "            background-color:  #adc9fd;\n",
       "            color:  #000000;\n",
       "        }    #T_037cb308_b0b0_11e9_8d44_02420a0000cdrow20_col11 {\n",
       "            background-color:  #4e68d8;\n",
       "            color:  #000000;\n",
       "        }    #T_037cb308_b0b0_11e9_8d44_02420a0000cdrow20_col12 {\n",
       "            background-color:  #9dbdff;\n",
       "            color:  #000000;\n",
       "        }    #T_037cb308_b0b0_11e9_8d44_02420a0000cdrow20_col13 {\n",
       "            background-color:  #3e51c5;\n",
       "            color:  #f1f1f1;\n",
       "        }    #T_037cb308_b0b0_11e9_8d44_02420a0000cdrow20_col14 {\n",
       "            background-color:  #506bda;\n",
       "            color:  #000000;\n",
       "        }    #T_037cb308_b0b0_11e9_8d44_02420a0000cdrow20_col15 {\n",
       "            background-color:  #7da0f9;\n",
       "            color:  #000000;\n",
       "        }    #T_037cb308_b0b0_11e9_8d44_02420a0000cdrow20_col16 {\n",
       "            background-color:  #8badfd;\n",
       "            color:  #000000;\n",
       "        }    #T_037cb308_b0b0_11e9_8d44_02420a0000cdrow20_col17 {\n",
       "            background-color:  #82a6fb;\n",
       "            color:  #000000;\n",
       "        }    #T_037cb308_b0b0_11e9_8d44_02420a0000cdrow20_col18 {\n",
       "            background-color:  #9ebeff;\n",
       "            color:  #000000;\n",
       "        }    #T_037cb308_b0b0_11e9_8d44_02420a0000cdrow20_col19 {\n",
       "            background-color:  #7ea1fa;\n",
       "            color:  #000000;\n",
       "        }    #T_037cb308_b0b0_11e9_8d44_02420a0000cdrow20_col20 {\n",
       "            background-color:  #b40426;\n",
       "            color:  #f1f1f1;\n",
       "        }    #T_037cb308_b0b0_11e9_8d44_02420a0000cdrow20_col21 {\n",
       "            background-color:  #8fb1fe;\n",
       "            color:  #000000;\n",
       "        }    #T_037cb308_b0b0_11e9_8d44_02420a0000cdrow20_col22 {\n",
       "            background-color:  #3c4ec2;\n",
       "            color:  #f1f1f1;\n",
       "        }    #T_037cb308_b0b0_11e9_8d44_02420a0000cdrow20_col23 {\n",
       "            background-color:  #82a6fb;\n",
       "            color:  #000000;\n",
       "        }    #T_037cb308_b0b0_11e9_8d44_02420a0000cdrow20_col24 {\n",
       "            background-color:  #3b4cc0;\n",
       "            color:  #f1f1f1;\n",
       "        }    #T_037cb308_b0b0_11e9_8d44_02420a0000cdrow20_col25 {\n",
       "            background-color:  #aac7fd;\n",
       "            color:  #000000;\n",
       "        }    #T_037cb308_b0b0_11e9_8d44_02420a0000cdrow20_col26 {\n",
       "            background-color:  #b3cdfb;\n",
       "            color:  #000000;\n",
       "        }    #T_037cb308_b0b0_11e9_8d44_02420a0000cdrow20_col27 {\n",
       "            background-color:  #7b9ff9;\n",
       "            color:  #000000;\n",
       "        }    #T_037cb308_b0b0_11e9_8d44_02420a0000cdrow21_col0 {\n",
       "            background-color:  #7597f6;\n",
       "            color:  #000000;\n",
       "        }    #T_037cb308_b0b0_11e9_8d44_02420a0000cdrow21_col1 {\n",
       "            background-color:  #f08b6e;\n",
       "            color:  #000000;\n",
       "        }    #T_037cb308_b0b0_11e9_8d44_02420a0000cdrow21_col2 {\n",
       "            background-color:  #dadce0;\n",
       "            color:  #000000;\n",
       "        }    #T_037cb308_b0b0_11e9_8d44_02420a0000cdrow21_col3 {\n",
       "            background-color:  #c5d6f2;\n",
       "            color:  #000000;\n",
       "        }    #T_037cb308_b0b0_11e9_8d44_02420a0000cdrow21_col4 {\n",
       "            background-color:  #d2dbe8;\n",
       "            color:  #000000;\n",
       "        }    #T_037cb308_b0b0_11e9_8d44_02420a0000cdrow21_col5 {\n",
       "            background-color:  #b6cefa;\n",
       "            color:  #000000;\n",
       "        }    #T_037cb308_b0b0_11e9_8d44_02420a0000cdrow21_col6 {\n",
       "            background-color:  #d6dce4;\n",
       "            color:  #000000;\n",
       "        }    #T_037cb308_b0b0_11e9_8d44_02420a0000cdrow21_col7 {\n",
       "            background-color:  #a1c0ff;\n",
       "            color:  #000000;\n",
       "        }    #T_037cb308_b0b0_11e9_8d44_02420a0000cdrow21_col8 {\n",
       "            background-color:  #516ddb;\n",
       "            color:  #000000;\n",
       "        }    #T_037cb308_b0b0_11e9_8d44_02420a0000cdrow21_col9 {\n",
       "            background-color:  #6788ee;\n",
       "            color:  #000000;\n",
       "        }    #T_037cb308_b0b0_11e9_8d44_02420a0000cdrow21_col10 {\n",
       "            background-color:  #dadce0;\n",
       "            color:  #000000;\n",
       "        }    #T_037cb308_b0b0_11e9_8d44_02420a0000cdrow21_col11 {\n",
       "            background-color:  #5572df;\n",
       "            color:  #000000;\n",
       "        }    #T_037cb308_b0b0_11e9_8d44_02420a0000cdrow21_col12 {\n",
       "            background-color:  #e1dad6;\n",
       "            color:  #000000;\n",
       "        }    #T_037cb308_b0b0_11e9_8d44_02420a0000cdrow21_col13 {\n",
       "            background-color:  #5875e1;\n",
       "            color:  #000000;\n",
       "        }    #T_037cb308_b0b0_11e9_8d44_02420a0000cdrow21_col14 {\n",
       "            background-color:  #4961d2;\n",
       "            color:  #f1f1f1;\n",
       "        }    #T_037cb308_b0b0_11e9_8d44_02420a0000cdrow21_col15 {\n",
       "            background-color:  #3b4cc0;\n",
       "            color:  #f1f1f1;\n",
       "        }    #T_037cb308_b0b0_11e9_8d44_02420a0000cdrow21_col16 {\n",
       "            background-color:  #ccd9ed;\n",
       "            color:  #000000;\n",
       "        }    #T_037cb308_b0b0_11e9_8d44_02420a0000cdrow21_col17 {\n",
       "            background-color:  #7ea1fa;\n",
       "            color:  #000000;\n",
       "        }    #T_037cb308_b0b0_11e9_8d44_02420a0000cdrow21_col18 {\n",
       "            background-color:  #d8dce2;\n",
       "            color:  #000000;\n",
       "        }    #T_037cb308_b0b0_11e9_8d44_02420a0000cdrow21_col19 {\n",
       "            background-color:  #7396f5;\n",
       "            color:  #000000;\n",
       "        }    #T_037cb308_b0b0_11e9_8d44_02420a0000cdrow21_col20 {\n",
       "            background-color:  #bed2f6;\n",
       "            color:  #000000;\n",
       "        }    #T_037cb308_b0b0_11e9_8d44_02420a0000cdrow21_col21 {\n",
       "            background-color:  #b40426;\n",
       "            color:  #f1f1f1;\n",
       "        }    #T_037cb308_b0b0_11e9_8d44_02420a0000cdrow21_col22 {\n",
       "            background-color:  #3e51c5;\n",
       "            color:  #f1f1f1;\n",
       "        }    #T_037cb308_b0b0_11e9_8d44_02420a0000cdrow21_col23 {\n",
       "            background-color:  #80a3fa;\n",
       "            color:  #000000;\n",
       "        }    #T_037cb308_b0b0_11e9_8d44_02420a0000cdrow21_col24 {\n",
       "            background-color:  #bbd1f8;\n",
       "            color:  #000000;\n",
       "        }    #T_037cb308_b0b0_11e9_8d44_02420a0000cdrow21_col25 {\n",
       "            background-color:  #85a8fc;\n",
       "            color:  #000000;\n",
       "        }    #T_037cb308_b0b0_11e9_8d44_02420a0000cdrow21_col26 {\n",
       "            background-color:  #d1dae9;\n",
       "            color:  #000000;\n",
       "        }    #T_037cb308_b0b0_11e9_8d44_02420a0000cdrow21_col27 {\n",
       "            background-color:  #3c4ec2;\n",
       "            color:  #f1f1f1;\n",
       "        }    #T_037cb308_b0b0_11e9_8d44_02420a0000cdrow22_col0 {\n",
       "            background-color:  #485fd1;\n",
       "            color:  #f1f1f1;\n",
       "        }    #T_037cb308_b0b0_11e9_8d44_02420a0000cdrow22_col1 {\n",
       "            background-color:  #7295f4;\n",
       "            color:  #000000;\n",
       "        }    #T_037cb308_b0b0_11e9_8d44_02420a0000cdrow22_col2 {\n",
       "            background-color:  #93b5fe;\n",
       "            color:  #000000;\n",
       "        }    #T_037cb308_b0b0_11e9_8d44_02420a0000cdrow22_col3 {\n",
       "            background-color:  #b9d0f9;\n",
       "            color:  #000000;\n",
       "        }    #T_037cb308_b0b0_11e9_8d44_02420a0000cdrow22_col4 {\n",
       "            background-color:  #82a6fb;\n",
       "            color:  #000000;\n",
       "        }    #T_037cb308_b0b0_11e9_8d44_02420a0000cdrow22_col5 {\n",
       "            background-color:  #93b5fe;\n",
       "            color:  #000000;\n",
       "        }    #T_037cb308_b0b0_11e9_8d44_02420a0000cdrow22_col6 {\n",
       "            background-color:  #a7c5fe;\n",
       "            color:  #000000;\n",
       "        }    #T_037cb308_b0b0_11e9_8d44_02420a0000cdrow22_col7 {\n",
       "            background-color:  #80a3fa;\n",
       "            color:  #000000;\n",
       "        }    #T_037cb308_b0b0_11e9_8d44_02420a0000cdrow22_col8 {\n",
       "            background-color:  #4055c8;\n",
       "            color:  #f1f1f1;\n",
       "        }    #T_037cb308_b0b0_11e9_8d44_02420a0000cdrow22_col9 {\n",
       "            background-color:  #6282ea;\n",
       "            color:  #000000;\n",
       "        }    #T_037cb308_b0b0_11e9_8d44_02420a0000cdrow22_col10 {\n",
       "            background-color:  #93b5fe;\n",
       "            color:  #000000;\n",
       "        }    #T_037cb308_b0b0_11e9_8d44_02420a0000cdrow22_col11 {\n",
       "            background-color:  #5673e0;\n",
       "            color:  #000000;\n",
       "        }    #T_037cb308_b0b0_11e9_8d44_02420a0000cdrow22_col12 {\n",
       "            background-color:  #86a9fc;\n",
       "            color:  #000000;\n",
       "        }    #T_037cb308_b0b0_11e9_8d44_02420a0000cdrow22_col13 {\n",
       "            background-color:  #4b64d5;\n",
       "            color:  #f1f1f1;\n",
       "        }    #T_037cb308_b0b0_11e9_8d44_02420a0000cdrow22_col14 {\n",
       "            background-color:  #5470de;\n",
       "            color:  #000000;\n",
       "        }    #T_037cb308_b0b0_11e9_8d44_02420a0000cdrow22_col15 {\n",
       "            background-color:  #8caffe;\n",
       "            color:  #000000;\n",
       "        }    #T_037cb308_b0b0_11e9_8d44_02420a0000cdrow22_col16 {\n",
       "            background-color:  #7a9df8;\n",
       "            color:  #000000;\n",
       "        }    #T_037cb308_b0b0_11e9_8d44_02420a0000cdrow22_col17 {\n",
       "            background-color:  #7b9ff9;\n",
       "            color:  #000000;\n",
       "        }    #T_037cb308_b0b0_11e9_8d44_02420a0000cdrow22_col18 {\n",
       "            background-color:  #8fb1fe;\n",
       "            color:  #000000;\n",
       "        }    #T_037cb308_b0b0_11e9_8d44_02420a0000cdrow22_col19 {\n",
       "            background-color:  #8db0fe;\n",
       "            color:  #000000;\n",
       "        }    #T_037cb308_b0b0_11e9_8d44_02420a0000cdrow22_col20 {\n",
       "            background-color:  #b7cff9;\n",
       "            color:  #000000;\n",
       "        }    #T_037cb308_b0b0_11e9_8d44_02420a0000cdrow22_col21 {\n",
       "            background-color:  #88abfd;\n",
       "            color:  #000000;\n",
       "        }    #T_037cb308_b0b0_11e9_8d44_02420a0000cdrow22_col22 {\n",
       "            background-color:  #b40426;\n",
       "            color:  #f1f1f1;\n",
       "        }    #T_037cb308_b0b0_11e9_8d44_02420a0000cdrow22_col23 {\n",
       "            background-color:  #82a6fb;\n",
       "            color:  #000000;\n",
       "        }    #T_037cb308_b0b0_11e9_8d44_02420a0000cdrow22_col24 {\n",
       "            background-color:  #b9d0f9;\n",
       "            color:  #000000;\n",
       "        }    #T_037cb308_b0b0_11e9_8d44_02420a0000cdrow22_col25 {\n",
       "            background-color:  #aec9fc;\n",
       "            color:  #000000;\n",
       "        }    #T_037cb308_b0b0_11e9_8d44_02420a0000cdrow22_col26 {\n",
       "            background-color:  #bad0f8;\n",
       "            color:  #000000;\n",
       "        }    #T_037cb308_b0b0_11e9_8d44_02420a0000cdrow22_col27 {\n",
       "            background-color:  #7ea1fa;\n",
       "            color:  #000000;\n",
       "        }    #T_037cb308_b0b0_11e9_8d44_02420a0000cdrow23_col0 {\n",
       "            background-color:  #4c66d6;\n",
       "            color:  #000000;\n",
       "        }    #T_037cb308_b0b0_11e9_8d44_02420a0000cdrow23_col1 {\n",
       "            background-color:  #7295f4;\n",
       "            color:  #000000;\n",
       "        }    #T_037cb308_b0b0_11e9_8d44_02420a0000cdrow23_col2 {\n",
       "            background-color:  #96b7ff;\n",
       "            color:  #000000;\n",
       "        }    #T_037cb308_b0b0_11e9_8d44_02420a0000cdrow23_col3 {\n",
       "            background-color:  #b9d0f9;\n",
       "            color:  #000000;\n",
       "        }    #T_037cb308_b0b0_11e9_8d44_02420a0000cdrow23_col4 {\n",
       "            background-color:  #86a9fc;\n",
       "            color:  #000000;\n",
       "        }    #T_037cb308_b0b0_11e9_8d44_02420a0000cdrow23_col5 {\n",
       "            background-color:  #94b6ff;\n",
       "            color:  #000000;\n",
       "        }    #T_037cb308_b0b0_11e9_8d44_02420a0000cdrow23_col6 {\n",
       "            background-color:  #a9c6fd;\n",
       "            color:  #000000;\n",
       "        }    #T_037cb308_b0b0_11e9_8d44_02420a0000cdrow23_col7 {\n",
       "            background-color:  #82a6fb;\n",
       "            color:  #000000;\n",
       "        }    #T_037cb308_b0b0_11e9_8d44_02420a0000cdrow23_col8 {\n",
       "            background-color:  #445acc;\n",
       "            color:  #f1f1f1;\n",
       "        }    #T_037cb308_b0b0_11e9_8d44_02420a0000cdrow23_col9 {\n",
       "            background-color:  #6282ea;\n",
       "            color:  #000000;\n",
       "        }    #T_037cb308_b0b0_11e9_8d44_02420a0000cdrow23_col10 {\n",
       "            background-color:  #96b7ff;\n",
       "            color:  #000000;\n",
       "        }    #T_037cb308_b0b0_11e9_8d44_02420a0000cdrow23_col11 {\n",
       "            background-color:  #5a78e4;\n",
       "            color:  #000000;\n",
       "        }    #T_037cb308_b0b0_11e9_8d44_02420a0000cdrow23_col12 {\n",
       "            background-color:  #8badfd;\n",
       "            color:  #000000;\n",
       "        }    #T_037cb308_b0b0_11e9_8d44_02420a0000cdrow23_col13 {\n",
       "            background-color:  #5673e0;\n",
       "            color:  #000000;\n",
       "        }    #T_037cb308_b0b0_11e9_8d44_02420a0000cdrow23_col14 {\n",
       "            background-color:  #5572df;\n",
       "            color:  #000000;\n",
       "        }    #T_037cb308_b0b0_11e9_8d44_02420a0000cdrow23_col15 {\n",
       "            background-color:  #86a9fc;\n",
       "            color:  #000000;\n",
       "        }    #T_037cb308_b0b0_11e9_8d44_02420a0000cdrow23_col16 {\n",
       "            background-color:  #7da0f9;\n",
       "            color:  #000000;\n",
       "        }    #T_037cb308_b0b0_11e9_8d44_02420a0000cdrow23_col17 {\n",
       "            background-color:  #82a6fb;\n",
       "            color:  #000000;\n",
       "        }    #T_037cb308_b0b0_11e9_8d44_02420a0000cdrow23_col18 {\n",
       "            background-color:  #8db0fe;\n",
       "            color:  #000000;\n",
       "        }    #T_037cb308_b0b0_11e9_8d44_02420a0000cdrow23_col19 {\n",
       "            background-color:  #92b4fe;\n",
       "            color:  #000000;\n",
       "        }    #T_037cb308_b0b0_11e9_8d44_02420a0000cdrow23_col20 {\n",
       "            background-color:  #bcd2f7;\n",
       "            color:  #000000;\n",
       "        }    #T_037cb308_b0b0_11e9_8d44_02420a0000cdrow23_col21 {\n",
       "            background-color:  #89acfd;\n",
       "            color:  #000000;\n",
       "        }    #T_037cb308_b0b0_11e9_8d44_02420a0000cdrow23_col22 {\n",
       "            background-color:  #445acc;\n",
       "            color:  #f1f1f1;\n",
       "        }    #T_037cb308_b0b0_11e9_8d44_02420a0000cdrow23_col23 {\n",
       "            background-color:  #b40426;\n",
       "            color:  #f1f1f1;\n",
       "        }    #T_037cb308_b0b0_11e9_8d44_02420a0000cdrow23_col24 {\n",
       "            background-color:  #80a3fa;\n",
       "            color:  #000000;\n",
       "        }    #T_037cb308_b0b0_11e9_8d44_02420a0000cdrow23_col25 {\n",
       "            background-color:  #a9c6fd;\n",
       "            color:  #000000;\n",
       "        }    #T_037cb308_b0b0_11e9_8d44_02420a0000cdrow23_col26 {\n",
       "            background-color:  #bbd1f8;\n",
       "            color:  #000000;\n",
       "        }    #T_037cb308_b0b0_11e9_8d44_02420a0000cdrow23_col27 {\n",
       "            background-color:  #80a3fa;\n",
       "            color:  #000000;\n",
       "        }    #T_037cb308_b0b0_11e9_8d44_02420a0000cdrow24_col0 {\n",
       "            background-color:  #7699f6;\n",
       "            color:  #000000;\n",
       "        }    #T_037cb308_b0b0_11e9_8d44_02420a0000cdrow24_col1 {\n",
       "            background-color:  #6485ec;\n",
       "            color:  #000000;\n",
       "        }    #T_037cb308_b0b0_11e9_8d44_02420a0000cdrow24_col2 {\n",
       "            background-color:  #80a3fa;\n",
       "            color:  #000000;\n",
       "        }    #T_037cb308_b0b0_11e9_8d44_02420a0000cdrow24_col3 {\n",
       "            background-color:  #aec9fc;\n",
       "            color:  #000000;\n",
       "        }    #T_037cb308_b0b0_11e9_8d44_02420a0000cdrow24_col4 {\n",
       "            background-color:  #799cf8;\n",
       "            color:  #000000;\n",
       "        }    #T_037cb308_b0b0_11e9_8d44_02420a0000cdrow24_col5 {\n",
       "            background-color:  #92b4fe;\n",
       "            color:  #000000;\n",
       "        }    #T_037cb308_b0b0_11e9_8d44_02420a0000cdrow24_col6 {\n",
       "            background-color:  #98b9ff;\n",
       "            color:  #000000;\n",
       "        }    #T_037cb308_b0b0_11e9_8d44_02420a0000cdrow24_col7 {\n",
       "            background-color:  #7ea1fa;\n",
       "            color:  #000000;\n",
       "        }    #T_037cb308_b0b0_11e9_8d44_02420a0000cdrow24_col8 {\n",
       "            background-color:  #465ecf;\n",
       "            color:  #f1f1f1;\n",
       "        }    #T_037cb308_b0b0_11e9_8d44_02420a0000cdrow24_col9 {\n",
       "            background-color:  #6687ed;\n",
       "            color:  #000000;\n",
       "        }    #T_037cb308_b0b0_11e9_8d44_02420a0000cdrow24_col10 {\n",
       "            background-color:  #80a3fa;\n",
       "            color:  #000000;\n",
       "        }    #T_037cb308_b0b0_11e9_8d44_02420a0000cdrow24_col11 {\n",
       "            background-color:  #4c66d6;\n",
       "            color:  #000000;\n",
       "        }    #T_037cb308_b0b0_11e9_8d44_02420a0000cdrow24_col12 {\n",
       "            background-color:  #7b9ff9;\n",
       "            color:  #000000;\n",
       "        }    #T_037cb308_b0b0_11e9_8d44_02420a0000cdrow24_col13 {\n",
       "            background-color:  #97b8ff;\n",
       "            color:  #000000;\n",
       "        }    #T_037cb308_b0b0_11e9_8d44_02420a0000cdrow24_col14 {\n",
       "            background-color:  #5673e0;\n",
       "            color:  #000000;\n",
       "        }    #T_037cb308_b0b0_11e9_8d44_02420a0000cdrow24_col15 {\n",
       "            background-color:  #92b4fe;\n",
       "            color:  #000000;\n",
       "        }    #T_037cb308_b0b0_11e9_8d44_02420a0000cdrow24_col16 {\n",
       "            background-color:  #7093f3;\n",
       "            color:  #000000;\n",
       "        }    #T_037cb308_b0b0_11e9_8d44_02420a0000cdrow24_col17 {\n",
       "            background-color:  #799cf8;\n",
       "            color:  #000000;\n",
       "        }    #T_037cb308_b0b0_11e9_8d44_02420a0000cdrow24_col18 {\n",
       "            background-color:  #82a6fb;\n",
       "            color:  #000000;\n",
       "        }    #T_037cb308_b0b0_11e9_8d44_02420a0000cdrow24_col19 {\n",
       "            background-color:  #98b9ff;\n",
       "            color:  #000000;\n",
       "        }    #T_037cb308_b0b0_11e9_8d44_02420a0000cdrow24_col20 {\n",
       "            background-color:  #3b4cc0;\n",
       "            color:  #f1f1f1;\n",
       "        }    #T_037cb308_b0b0_11e9_8d44_02420a0000cdrow24_col21 {\n",
       "            background-color:  #8caffe;\n",
       "            color:  #000000;\n",
       "        }    #T_037cb308_b0b0_11e9_8d44_02420a0000cdrow24_col22 {\n",
       "            background-color:  #3f53c6;\n",
       "            color:  #f1f1f1;\n",
       "        }    #T_037cb308_b0b0_11e9_8d44_02420a0000cdrow24_col23 {\n",
       "            background-color:  #3b4cc0;\n",
       "            color:  #f1f1f1;\n",
       "        }    #T_037cb308_b0b0_11e9_8d44_02420a0000cdrow24_col24 {\n",
       "            background-color:  #b40426;\n",
       "            color:  #f1f1f1;\n",
       "        }    #T_037cb308_b0b0_11e9_8d44_02420a0000cdrow24_col25 {\n",
       "            background-color:  #aec9fc;\n",
       "            color:  #000000;\n",
       "        }    #T_037cb308_b0b0_11e9_8d44_02420a0000cdrow24_col26 {\n",
       "            background-color:  #bfd3f6;\n",
       "            color:  #000000;\n",
       "        }    #T_037cb308_b0b0_11e9_8d44_02420a0000cdrow24_col27 {\n",
       "            background-color:  #80a3fa;\n",
       "            color:  #000000;\n",
       "        }    #T_037cb308_b0b0_11e9_8d44_02420a0000cdrow25_col0 {\n",
       "            background-color:  #4a63d3;\n",
       "            color:  #f1f1f1;\n",
       "        }    #T_037cb308_b0b0_11e9_8d44_02420a0000cdrow25_col1 {\n",
       "            background-color:  #6788ee;\n",
       "            color:  #000000;\n",
       "        }    #T_037cb308_b0b0_11e9_8d44_02420a0000cdrow25_col2 {\n",
       "            background-color:  #a7c5fe;\n",
       "            color:  #000000;\n",
       "        }    #T_037cb308_b0b0_11e9_8d44_02420a0000cdrow25_col3 {\n",
       "            background-color:  #f7b99e;\n",
       "            color:  #000000;\n",
       "        }    #T_037cb308_b0b0_11e9_8d44_02420a0000cdrow25_col4 {\n",
       "            background-color:  #81a4fb;\n",
       "            color:  #000000;\n",
       "        }    #T_037cb308_b0b0_11e9_8d44_02420a0000cdrow25_col5 {\n",
       "            background-color:  #3b4cc0;\n",
       "            color:  #f1f1f1;\n",
       "        }    #T_037cb308_b0b0_11e9_8d44_02420a0000cdrow25_col6 {\n",
       "            background-color:  #f2cbb7;\n",
       "            color:  #000000;\n",
       "        }    #T_037cb308_b0b0_11e9_8d44_02420a0000cdrow25_col7 {\n",
       "            background-color:  #3b4cc0;\n",
       "            color:  #f1f1f1;\n",
       "        }    #T_037cb308_b0b0_11e9_8d44_02420a0000cdrow25_col8 {\n",
       "            background-color:  #445acc;\n",
       "            color:  #f1f1f1;\n",
       "        }    #T_037cb308_b0b0_11e9_8d44_02420a0000cdrow25_col9 {\n",
       "            background-color:  #7b9ff9;\n",
       "            color:  #000000;\n",
       "        }    #T_037cb308_b0b0_11e9_8d44_02420a0000cdrow25_col10 {\n",
       "            background-color:  #a7c5fe;\n",
       "            color:  #000000;\n",
       "        }    #T_037cb308_b0b0_11e9_8d44_02420a0000cdrow25_col11 {\n",
       "            background-color:  #6384eb;\n",
       "            color:  #000000;\n",
       "        }    #T_037cb308_b0b0_11e9_8d44_02420a0000cdrow25_col12 {\n",
       "            background-color:  #3b4cc0;\n",
       "            color:  #f1f1f1;\n",
       "        }    #T_037cb308_b0b0_11e9_8d44_02420a0000cdrow25_col13 {\n",
       "            background-color:  #3e51c5;\n",
       "            color:  #f1f1f1;\n",
       "        }    #T_037cb308_b0b0_11e9_8d44_02420a0000cdrow25_col14 {\n",
       "            background-color:  #3b4cc0;\n",
       "            color:  #f1f1f1;\n",
       "        }    #T_037cb308_b0b0_11e9_8d44_02420a0000cdrow25_col15 {\n",
       "            background-color:  #82a6fb;\n",
       "            color:  #000000;\n",
       "        }    #T_037cb308_b0b0_11e9_8d44_02420a0000cdrow25_col16 {\n",
       "            background-color:  #8db0fe;\n",
       "            color:  #000000;\n",
       "        }    #T_037cb308_b0b0_11e9_8d44_02420a0000cdrow25_col17 {\n",
       "            background-color:  #6180e9;\n",
       "            color:  #000000;\n",
       "        }    #T_037cb308_b0b0_11e9_8d44_02420a0000cdrow25_col18 {\n",
       "            background-color:  #88abfd;\n",
       "            color:  #000000;\n",
       "        }    #T_037cb308_b0b0_11e9_8d44_02420a0000cdrow25_col19 {\n",
       "            background-color:  #94b6ff;\n",
       "            color:  #000000;\n",
       "        }    #T_037cb308_b0b0_11e9_8d44_02420a0000cdrow25_col20 {\n",
       "            background-color:  #b7cff9;\n",
       "            color:  #000000;\n",
       "        }    #T_037cb308_b0b0_11e9_8d44_02420a0000cdrow25_col21 {\n",
       "            background-color:  #5d7ce6;\n",
       "            color:  #000000;\n",
       "        }    #T_037cb308_b0b0_11e9_8d44_02420a0000cdrow25_col22 {\n",
       "            background-color:  #4257c9;\n",
       "            color:  #f1f1f1;\n",
       "        }    #T_037cb308_b0b0_11e9_8d44_02420a0000cdrow25_col23 {\n",
       "            background-color:  #7b9ff9;\n",
       "            color:  #000000;\n",
       "        }    #T_037cb308_b0b0_11e9_8d44_02420a0000cdrow25_col24 {\n",
       "            background-color:  #bbd1f8;\n",
       "            color:  #000000;\n",
       "        }    #T_037cb308_b0b0_11e9_8d44_02420a0000cdrow25_col25 {\n",
       "            background-color:  #b40426;\n",
       "            color:  #f1f1f1;\n",
       "        }    #T_037cb308_b0b0_11e9_8d44_02420a0000cdrow25_col26 {\n",
       "            background-color:  #4b64d5;\n",
       "            color:  #f1f1f1;\n",
       "        }    #T_037cb308_b0b0_11e9_8d44_02420a0000cdrow25_col27 {\n",
       "            background-color:  #6a8bef;\n",
       "            color:  #000000;\n",
       "        }    #T_037cb308_b0b0_11e9_8d44_02420a0000cdrow26_col0 {\n",
       "            background-color:  #3d50c3;\n",
       "            color:  #f1f1f1;\n",
       "        }    #T_037cb308_b0b0_11e9_8d44_02420a0000cdrow26_col1 {\n",
       "            background-color:  #506bda;\n",
       "            color:  #000000;\n",
       "        }    #T_037cb308_b0b0_11e9_8d44_02420a0000cdrow26_col2 {\n",
       "            background-color:  #3b4cc0;\n",
       "            color:  #f1f1f1;\n",
       "        }    #T_037cb308_b0b0_11e9_8d44_02420a0000cdrow26_col3 {\n",
       "            background-color:  #3b4cc0;\n",
       "            color:  #f1f1f1;\n",
       "        }    #T_037cb308_b0b0_11e9_8d44_02420a0000cdrow26_col4 {\n",
       "            background-color:  #82a6fb;\n",
       "            color:  #000000;\n",
       "        }    #T_037cb308_b0b0_11e9_8d44_02420a0000cdrow26_col5 {\n",
       "            background-color:  #dfdbd9;\n",
       "            color:  #000000;\n",
       "        }    #T_037cb308_b0b0_11e9_8d44_02420a0000cdrow26_col6 {\n",
       "            background-color:  #3b4cc0;\n",
       "            color:  #f1f1f1;\n",
       "        }    #T_037cb308_b0b0_11e9_8d44_02420a0000cdrow26_col7 {\n",
       "            background-color:  #bcd2f7;\n",
       "            color:  #000000;\n",
       "        }    #T_037cb308_b0b0_11e9_8d44_02420a0000cdrow26_col8 {\n",
       "            background-color:  #465ecf;\n",
       "            color:  #f1f1f1;\n",
       "        }    #T_037cb308_b0b0_11e9_8d44_02420a0000cdrow26_col9 {\n",
       "            background-color:  #97b8ff;\n",
       "            color:  #000000;\n",
       "        }    #T_037cb308_b0b0_11e9_8d44_02420a0000cdrow26_col10 {\n",
       "            background-color:  #3b4cc0;\n",
       "            color:  #f1f1f1;\n",
       "        }    #T_037cb308_b0b0_11e9_8d44_02420a0000cdrow26_col11 {\n",
       "            background-color:  #7093f3;\n",
       "            color:  #000000;\n",
       "        }    #T_037cb308_b0b0_11e9_8d44_02420a0000cdrow26_col12 {\n",
       "            background-color:  #e5d8d1;\n",
       "            color:  #000000;\n",
       "        }    #T_037cb308_b0b0_11e9_8d44_02420a0000cdrow26_col13 {\n",
       "            background-color:  #506bda;\n",
       "            color:  #000000;\n",
       "        }    #T_037cb308_b0b0_11e9_8d44_02420a0000cdrow26_col14 {\n",
       "            background-color:  #5f7fe8;\n",
       "            color:  #000000;\n",
       "        }    #T_037cb308_b0b0_11e9_8d44_02420a0000cdrow26_col15 {\n",
       "            background-color:  #92b4fe;\n",
       "            color:  #000000;\n",
       "        }    #T_037cb308_b0b0_11e9_8d44_02420a0000cdrow26_col16 {\n",
       "            background-color:  #6282ea;\n",
       "            color:  #000000;\n",
       "        }    #T_037cb308_b0b0_11e9_8d44_02420a0000cdrow26_col17 {\n",
       "            background-color:  #8caffe;\n",
       "            color:  #000000;\n",
       "        }    #T_037cb308_b0b0_11e9_8d44_02420a0000cdrow26_col18 {\n",
       "            background-color:  #85a8fc;\n",
       "            color:  #000000;\n",
       "        }    #T_037cb308_b0b0_11e9_8d44_02420a0000cdrow26_col19 {\n",
       "            background-color:  #8caffe;\n",
       "            color:  #000000;\n",
       "        }    #T_037cb308_b0b0_11e9_8d44_02420a0000cdrow26_col20 {\n",
       "            background-color:  #b3cdfb;\n",
       "            color:  #000000;\n",
       "        }    #T_037cb308_b0b0_11e9_8d44_02420a0000cdrow26_col21 {\n",
       "            background-color:  #aac7fd;\n",
       "            color:  #000000;\n",
       "        }    #T_037cb308_b0b0_11e9_8d44_02420a0000cdrow26_col22 {\n",
       "            background-color:  #3f53c6;\n",
       "            color:  #f1f1f1;\n",
       "        }    #T_037cb308_b0b0_11e9_8d44_02420a0000cdrow26_col23 {\n",
       "            background-color:  #81a4fb;\n",
       "            color:  #000000;\n",
       "        }    #T_037cb308_b0b0_11e9_8d44_02420a0000cdrow26_col24 {\n",
       "            background-color:  #bfd3f6;\n",
       "            color:  #000000;\n",
       "        }    #T_037cb308_b0b0_11e9_8d44_02420a0000cdrow26_col25 {\n",
       "            background-color:  #3b4cc0;\n",
       "            color:  #f1f1f1;\n",
       "        }    #T_037cb308_b0b0_11e9_8d44_02420a0000cdrow26_col26 {\n",
       "            background-color:  #b40426;\n",
       "            color:  #f1f1f1;\n",
       "        }    #T_037cb308_b0b0_11e9_8d44_02420a0000cdrow26_col27 {\n",
       "            background-color:  #a1c0ff;\n",
       "            color:  #000000;\n",
       "        }    #T_037cb308_b0b0_11e9_8d44_02420a0000cdrow27_col0 {\n",
       "            background-color:  #3b4cc0;\n",
       "            color:  #f1f1f1;\n",
       "        }    #T_037cb308_b0b0_11e9_8d44_02420a0000cdrow27_col1 {\n",
       "            background-color:  #4f69d9;\n",
       "            color:  #000000;\n",
       "        }    #T_037cb308_b0b0_11e9_8d44_02420a0000cdrow27_col2 {\n",
       "            background-color:  #7396f5;\n",
       "            color:  #000000;\n",
       "        }    #T_037cb308_b0b0_11e9_8d44_02420a0000cdrow27_col3 {\n",
       "            background-color:  #9ebeff;\n",
       "            color:  #000000;\n",
       "        }    #T_037cb308_b0b0_11e9_8d44_02420a0000cdrow27_col4 {\n",
       "            background-color:  #6b8df0;\n",
       "            color:  #000000;\n",
       "        }    #T_037cb308_b0b0_11e9_8d44_02420a0000cdrow27_col5 {\n",
       "            background-color:  #a2c1ff;\n",
       "            color:  #000000;\n",
       "        }    #T_037cb308_b0b0_11e9_8d44_02420a0000cdrow27_col6 {\n",
       "            background-color:  #8badfd;\n",
       "            color:  #000000;\n",
       "        }    #T_037cb308_b0b0_11e9_8d44_02420a0000cdrow27_col7 {\n",
       "            background-color:  #8caffe;\n",
       "            color:  #000000;\n",
       "        }    #T_037cb308_b0b0_11e9_8d44_02420a0000cdrow27_col8 {\n",
       "            background-color:  #3f53c6;\n",
       "            color:  #f1f1f1;\n",
       "        }    #T_037cb308_b0b0_11e9_8d44_02420a0000cdrow27_col9 {\n",
       "            background-color:  #6a8bef;\n",
       "            color:  #000000;\n",
       "        }    #T_037cb308_b0b0_11e9_8d44_02420a0000cdrow27_col10 {\n",
       "            background-color:  #7396f5;\n",
       "            color:  #000000;\n",
       "        }    #T_037cb308_b0b0_11e9_8d44_02420a0000cdrow27_col11 {\n",
       "            background-color:  #5e7de7;\n",
       "            color:  #000000;\n",
       "        }    #T_037cb308_b0b0_11e9_8d44_02420a0000cdrow27_col12 {\n",
       "            background-color:  #7b9ff9;\n",
       "            color:  #000000;\n",
       "        }    #T_037cb308_b0b0_11e9_8d44_02420a0000cdrow27_col13 {\n",
       "            background-color:  #4e68d8;\n",
       "            color:  #000000;\n",
       "        }    #T_037cb308_b0b0_11e9_8d44_02420a0000cdrow27_col14 {\n",
       "            background-color:  #6788ee;\n",
       "            color:  #000000;\n",
       "        }    #T_037cb308_b0b0_11e9_8d44_02420a0000cdrow27_col15 {\n",
       "            background-color:  #cad8ef;\n",
       "            color:  #000000;\n",
       "        }    #T_037cb308_b0b0_11e9_8d44_02420a0000cdrow27_col16 {\n",
       "            background-color:  #3b4cc0;\n",
       "            color:  #f1f1f1;\n",
       "        }    #T_037cb308_b0b0_11e9_8d44_02420a0000cdrow27_col17 {\n",
       "            background-color:  #80a3fa;\n",
       "            color:  #000000;\n",
       "        }    #T_037cb308_b0b0_11e9_8d44_02420a0000cdrow27_col18 {\n",
       "            background-color:  #506bda;\n",
       "            color:  #000000;\n",
       "        }    #T_037cb308_b0b0_11e9_8d44_02420a0000cdrow27_col19 {\n",
       "            background-color:  #9abbff;\n",
       "            color:  #000000;\n",
       "        }    #T_037cb308_b0b0_11e9_8d44_02420a0000cdrow27_col20 {\n",
       "            background-color:  #b7cff9;\n",
       "            color:  #000000;\n",
       "        }    #T_037cb308_b0b0_11e9_8d44_02420a0000cdrow27_col21 {\n",
       "            background-color:  #4961d2;\n",
       "            color:  #f1f1f1;\n",
       "        }    #T_037cb308_b0b0_11e9_8d44_02420a0000cdrow27_col22 {\n",
       "            background-color:  #4257c9;\n",
       "            color:  #f1f1f1;\n",
       "        }    #T_037cb308_b0b0_11e9_8d44_02420a0000cdrow27_col23 {\n",
       "            background-color:  #81a4fb;\n",
       "            color:  #000000;\n",
       "        }    #T_037cb308_b0b0_11e9_8d44_02420a0000cdrow27_col24 {\n",
       "            background-color:  #bcd2f7;\n",
       "            color:  #000000;\n",
       "        }    #T_037cb308_b0b0_11e9_8d44_02420a0000cdrow27_col25 {\n",
       "            background-color:  #9dbdff;\n",
       "            color:  #000000;\n",
       "        }    #T_037cb308_b0b0_11e9_8d44_02420a0000cdrow27_col26 {\n",
       "            background-color:  #d2dbe8;\n",
       "            color:  #000000;\n",
       "        }    #T_037cb308_b0b0_11e9_8d44_02420a0000cdrow27_col27 {\n",
       "            background-color:  #b40426;\n",
       "            color:  #f1f1f1;\n",
       "        }</style><table id=\"T_037cb308_b0b0_11e9_8d44_02420a0000cd\" ><thead>    <tr>        <th class=\"blank level0\" ></th>        <th class=\"col_heading level0 col0\" >total_images</th>        <th class=\"col_heading level0 col1\" >last_price</th>        <th class=\"col_heading level0 col2\" >total_area</th>        <th class=\"col_heading level0 col3\" >rooms</th>        <th class=\"col_heading level0 col4\" >ceiling_height</th>        <th class=\"col_heading level0 col5\" >floors_total</th>        <th class=\"col_heading level0 col6\" >living_area</th>        <th class=\"col_heading level0 col7\" >floor</th>        <th class=\"col_heading level0 col8\" >is_apartment</th>        <th class=\"col_heading level0 col9\" >studio</th>        <th class=\"col_heading level0 col10\" >area</th>        <th class=\"col_heading level0 col11\" >open_plan</th>        <th class=\"col_heading level0 col12\" >kitchen_area</th>        <th class=\"col_heading level0 col13\" >balcony</th>        <th class=\"col_heading level0 col14\" >airports_nearest</th>        <th class=\"col_heading level0 col15\" >cityCenters_nearest</th>        <th class=\"col_heading level0 col16\" >parks_around3000</th>        <th class=\"col_heading level0 col17\" >parks_nearest</th>        <th class=\"col_heading level0 col18\" >ponds_around3000</th>        <th class=\"col_heading level0 col19\" >ponds_nearest</th>        <th class=\"col_heading level0 col20\" >days_exposition</th>        <th class=\"col_heading level0 col21\" >m2_cost</th>        <th class=\"col_heading level0 col22\" >week_day</th>        <th class=\"col_heading level0 col23\" >month</th>        <th class=\"col_heading level0 col24\" >year</th>        <th class=\"col_heading level0 col25\" >live_total_ratio</th>        <th class=\"col_heading level0 col26\" >kitchen_total_ratio</th>        <th class=\"col_heading level0 col27\" >prigorod</th>    </tr></thead><tbody>\n",
       "                <tr>\n",
       "                        <th id=\"T_037cb308_b0b0_11e9_8d44_02420a0000cdlevel0_row0\" class=\"row_heading level0 row0\" >total_images</th>\n",
       "                        <td id=\"T_037cb308_b0b0_11e9_8d44_02420a0000cdrow0_col0\" class=\"data row0 col0\" >1</td>\n",
       "                        <td id=\"T_037cb308_b0b0_11e9_8d44_02420a0000cdrow0_col1\" class=\"data row0 col1\" >0.104979</td>\n",
       "                        <td id=\"T_037cb308_b0b0_11e9_8d44_02420a0000cdrow0_col2\" class=\"data row0 col2\" >0.116443</td>\n",
       "                        <td id=\"T_037cb308_b0b0_11e9_8d44_02420a0000cdrow0_col3\" class=\"data row0 col3\" >0.0993952</td>\n",
       "                        <td id=\"T_037cb308_b0b0_11e9_8d44_02420a0000cdrow0_col4\" class=\"data row0 col4\" >0.0527446</td>\n",
       "                        <td id=\"T_037cb308_b0b0_11e9_8d44_02420a0000cdrow0_col5\" class=\"data row0 col5\" >0.0105938</td>\n",
       "                        <td id=\"T_037cb308_b0b0_11e9_8d44_02420a0000cdrow0_col6\" class=\"data row0 col6\" >0.106846</td>\n",
       "                        <td id=\"T_037cb308_b0b0_11e9_8d44_02420a0000cdrow0_col7\" class=\"data row0 col7\" >0.0336859</td>\n",
       "                        <td id=\"T_037cb308_b0b0_11e9_8d44_02420a0000cdrow0_col8\" class=\"data row0 col8\" >0.0104177</td>\n",
       "                        <td id=\"T_037cb308_b0b0_11e9_8d44_02420a0000cdrow0_col9\" class=\"data row0 col9\" >-0.0281193</td>\n",
       "                        <td id=\"T_037cb308_b0b0_11e9_8d44_02420a0000cdrow0_col10\" class=\"data row0 col10\" >0.116443</td>\n",
       "                        <td id=\"T_037cb308_b0b0_11e9_8d44_02420a0000cdrow0_col11\" class=\"data row0 col11\" >-0.024608</td>\n",
       "                        <td id=\"T_037cb308_b0b0_11e9_8d44_02420a0000cdrow0_col12\" class=\"data row0 col12\" >0.107164</td>\n",
       "                        <td id=\"T_037cb308_b0b0_11e9_8d44_02420a0000cdrow0_col13\" class=\"data row0 col13\" >0.0854157</td>\n",
       "                        <td id=\"T_037cb308_b0b0_11e9_8d44_02420a0000cdrow0_col14\" class=\"data row0 col14\" >-0.00280026</td>\n",
       "                        <td id=\"T_037cb308_b0b0_11e9_8d44_02420a0000cdrow0_col15\" class=\"data row0 col15\" >-0.0479096</td>\n",
       "                        <td id=\"T_037cb308_b0b0_11e9_8d44_02420a0000cdrow0_col16\" class=\"data row0 col16\" >0.0373913</td>\n",
       "                        <td id=\"T_037cb308_b0b0_11e9_8d44_02420a0000cdrow0_col17\" class=\"data row0 col17\" >-0.00615091</td>\n",
       "                        <td id=\"T_037cb308_b0b0_11e9_8d44_02420a0000cdrow0_col18\" class=\"data row0 col18\" >0.0120146</td>\n",
       "                        <td id=\"T_037cb308_b0b0_11e9_8d44_02420a0000cdrow0_col19\" class=\"data row0 col19\" >-0.00410198</td>\n",
       "                        <td id=\"T_037cb308_b0b0_11e9_8d44_02420a0000cdrow0_col20\" class=\"data row0 col20\" >-0.0558857</td>\n",
       "                        <td id=\"T_037cb308_b0b0_11e9_8d44_02420a0000cdrow0_col21\" class=\"data row0 col21\" >0.133411</td>\n",
       "                        <td id=\"T_037cb308_b0b0_11e9_8d44_02420a0000cdrow0_col22\" class=\"data row0 col22\" >-0.00925405</td>\n",
       "                        <td id=\"T_037cb308_b0b0_11e9_8d44_02420a0000cdrow0_col23\" class=\"data row0 col23\" >0.00465003</td>\n",
       "                        <td id=\"T_037cb308_b0b0_11e9_8d44_02420a0000cdrow0_col24\" class=\"data row0 col24\" >0.139006</td>\n",
       "                        <td id=\"T_037cb308_b0b0_11e9_8d44_02420a0000cdrow0_col25\" class=\"data row0 col25\" >-0.00189504</td>\n",
       "                        <td id=\"T_037cb308_b0b0_11e9_8d44_02420a0000cdrow0_col26\" class=\"data row0 col26\" >-0.0463075</td>\n",
       "                        <td id=\"T_037cb308_b0b0_11e9_8d44_02420a0000cdrow0_col27\" class=\"data row0 col27\" >-0.0573048</td>\n",
       "            </tr>\n",
       "            <tr>\n",
       "                        <th id=\"T_037cb308_b0b0_11e9_8d44_02420a0000cdlevel0_row1\" class=\"row_heading level0 row1\" >last_price</th>\n",
       "                        <td id=\"T_037cb308_b0b0_11e9_8d44_02420a0000cdrow1_col0\" class=\"data row1 col0\" >0.104979</td>\n",
       "                        <td id=\"T_037cb308_b0b0_11e9_8d44_02420a0000cdrow1_col1\" class=\"data row1 col1\" >1</td>\n",
       "                        <td id=\"T_037cb308_b0b0_11e9_8d44_02420a0000cdrow1_col2\" class=\"data row1 col2\" >0.653605</td>\n",
       "                        <td id=\"T_037cb308_b0b0_11e9_8d44_02420a0000cdrow1_col3\" class=\"data row1 col3\" >0.363138</td>\n",
       "                        <td id=\"T_037cb308_b0b0_11e9_8d44_02420a0000cdrow1_col4\" class=\"data row1 col4\" >0.290044</td>\n",
       "                        <td id=\"T_037cb308_b0b0_11e9_8d44_02420a0000cdrow1_col5\" class=\"data row1 col5\" >-0.00679735</td>\n",
       "                        <td id=\"T_037cb308_b0b0_11e9_8d44_02420a0000cdrow1_col6\" class=\"data row1 col6\" >0.55602</td>\n",
       "                        <td id=\"T_037cb308_b0b0_11e9_8d44_02420a0000cdrow1_col7\" class=\"data row1 col7\" >0.0267781</td>\n",
       "                        <td id=\"T_037cb308_b0b0_11e9_8d44_02420a0000cdrow1_col8\" class=\"data row1 col8\" >0.0269697</td>\n",
       "                        <td id=\"T_037cb308_b0b0_11e9_8d44_02420a0000cdrow1_col9\" class=\"data row1 col9\" >-0.0250888</td>\n",
       "                        <td id=\"T_037cb308_b0b0_11e9_8d44_02420a0000cdrow1_col10\" class=\"data row1 col10\" >0.653605</td>\n",
       "                        <td id=\"T_037cb308_b0b0_11e9_8d44_02420a0000cdrow1_col11\" class=\"data row1 col11\" >-0.00880559</td>\n",
       "                        <td id=\"T_037cb308_b0b0_11e9_8d44_02420a0000cdrow1_col12\" class=\"data row1 col12\" >0.441119</td>\n",
       "                        <td id=\"T_037cb308_b0b0_11e9_8d44_02420a0000cdrow1_col13\" class=\"data row1 col13\" >0.0157391</td>\n",
       "                        <td id=\"T_037cb308_b0b0_11e9_8d44_02420a0000cdrow1_col14\" class=\"data row1 col14\" >-0.0260629</td>\n",
       "                        <td id=\"T_037cb308_b0b0_11e9_8d44_02420a0000cdrow1_col15\" class=\"data row1 col15\" >-0.20625</td>\n",
       "                        <td id=\"T_037cb308_b0b0_11e9_8d44_02420a0000cdrow1_col16\" class=\"data row1 col16\" >0.198386</td>\n",
       "                        <td id=\"T_037cb308_b0b0_11e9_8d44_02420a0000cdrow1_col17\" class=\"data row1 col17\" >-0.0166219</td>\n",
       "                        <td id=\"T_037cb308_b0b0_11e9_8d44_02420a0000cdrow1_col18\" class=\"data row1 col18\" >0.209062</td>\n",
       "                        <td id=\"T_037cb308_b0b0_11e9_8d44_02420a0000cdrow1_col19\" class=\"data row1 col19\" >-0.0855346</td>\n",
       "                        <td id=\"T_037cb308_b0b0_11e9_8d44_02420a0000cdrow1_col20\" class=\"data row1 col20\" >0.053317</td>\n",
       "                        <td id=\"T_037cb308_b0b0_11e9_8d44_02420a0000cdrow1_col21\" class=\"data row1 col21\" >0.736754</td>\n",
       "                        <td id=\"T_037cb308_b0b0_11e9_8d44_02420a0000cdrow1_col22\" class=\"data row1 col22\" >0.00123714</td>\n",
       "                        <td id=\"T_037cb308_b0b0_11e9_8d44_02420a0000cdrow1_col23\" class=\"data row1 col23\" >0.00271913</td>\n",
       "                        <td id=\"T_037cb308_b0b0_11e9_8d44_02420a0000cdrow1_col24\" class=\"data row1 col24\" >-0.0429088</td>\n",
       "                        <td id=\"T_037cb308_b0b0_11e9_8d44_02420a0000cdrow1_col25\" class=\"data row1 col25\" >-0.0363913</td>\n",
       "                        <td id=\"T_037cb308_b0b0_11e9_8d44_02420a0000cdrow1_col26\" class=\"data row1 col26\" >-0.120501</td>\n",
       "                        <td id=\"T_037cb308_b0b0_11e9_8d44_02420a0000cdrow1_col27\" class=\"data row1 col27\" >-0.124429</td>\n",
       "            </tr>\n",
       "            <tr>\n",
       "                        <th id=\"T_037cb308_b0b0_11e9_8d44_02420a0000cdlevel0_row2\" class=\"row_heading level0 row2\" >total_area</th>\n",
       "                        <td id=\"T_037cb308_b0b0_11e9_8d44_02420a0000cdrow2_col0\" class=\"data row2 col0\" >0.116443</td>\n",
       "                        <td id=\"T_037cb308_b0b0_11e9_8d44_02420a0000cdrow2_col1\" class=\"data row2 col1\" >0.653605</td>\n",
       "                        <td id=\"T_037cb308_b0b0_11e9_8d44_02420a0000cdrow2_col2\" class=\"data row2 col2\" >1</td>\n",
       "                        <td id=\"T_037cb308_b0b0_11e9_8d44_02420a0000cdrow2_col3\" class=\"data row2 col3\" >0.75825</td>\n",
       "                        <td id=\"T_037cb308_b0b0_11e9_8d44_02420a0000cdrow2_col4\" class=\"data row2 col4\" >0.397601</td>\n",
       "                        <td id=\"T_037cb308_b0b0_11e9_8d44_02420a0000cdrow2_col5\" class=\"data row2 col5\" >-0.0755443</td>\n",
       "                        <td id=\"T_037cb308_b0b0_11e9_8d44_02420a0000cdrow2_col6\" class=\"data row2 col6\" >0.909571</td>\n",
       "                        <td id=\"T_037cb308_b0b0_11e9_8d44_02420a0000cdrow2_col7\" class=\"data row2 col7\" >-0.0247816</td>\n",
       "                        <td id=\"T_037cb308_b0b0_11e9_8d44_02420a0000cdrow2_col8\" class=\"data row2 col8\" >0.0296959</td>\n",
       "                        <td id=\"T_037cb308_b0b0_11e9_8d44_02420a0000cdrow2_col9\" class=\"data row2 col9\" >-0.0719847</td>\n",
       "                        <td id=\"T_037cb308_b0b0_11e9_8d44_02420a0000cdrow2_col10\" class=\"data row2 col10\" >1</td>\n",
       "                        <td id=\"T_037cb308_b0b0_11e9_8d44_02420a0000cdrow2_col11\" class=\"data row2 col11\" >-0.0349437</td>\n",
       "                        <td id=\"T_037cb308_b0b0_11e9_8d44_02420a0000cdrow2_col12\" class=\"data row2 col12\" >0.571149</td>\n",
       "                        <td id=\"T_037cb308_b0b0_11e9_8d44_02420a0000cdrow2_col13\" class=\"data row2 col13\" >0.02321</td>\n",
       "                        <td id=\"T_037cb308_b0b0_11e9_8d44_02420a0000cdrow2_col14\" class=\"data row2 col14\" >-0.0300546</td>\n",
       "                        <td id=\"T_037cb308_b0b0_11e9_8d44_02420a0000cdrow2_col15\" class=\"data row2 col15\" >-0.230937</td>\n",
       "                        <td id=\"T_037cb308_b0b0_11e9_8d44_02420a0000cdrow2_col16\" class=\"data row2 col16\" >0.201367</td>\n",
       "                        <td id=\"T_037cb308_b0b0_11e9_8d44_02420a0000cdrow2_col17\" class=\"data row2 col17\" >-0.021386</td>\n",
       "                        <td id=\"T_037cb308_b0b0_11e9_8d44_02420a0000cdrow2_col18\" class=\"data row2 col18\" >0.201056</td>\n",
       "                        <td id=\"T_037cb308_b0b0_11e9_8d44_02420a0000cdrow2_col19\" class=\"data row2 col19\" >-0.0996175</td>\n",
       "                        <td id=\"T_037cb308_b0b0_11e9_8d44_02420a0000cdrow2_col20\" class=\"data row2 col20\" >0.0969354</td>\n",
       "                        <td id=\"T_037cb308_b0b0_11e9_8d44_02420a0000cdrow2_col21\" class=\"data row2 col21\" >0.302464</td>\n",
       "                        <td id=\"T_037cb308_b0b0_11e9_8d44_02420a0000cdrow2_col22\" class=\"data row2 col22\" >-0.00576446</td>\n",
       "                        <td id=\"T_037cb308_b0b0_11e9_8d44_02420a0000cdrow2_col23\" class=\"data row2 col23\" >0.00488869</td>\n",
       "                        <td id=\"T_037cb308_b0b0_11e9_8d44_02420a0000cdrow2_col24\" class=\"data row2 col24\" >-0.0793673</td>\n",
       "                        <td id=\"T_037cb308_b0b0_11e9_8d44_02420a0000cdrow2_col25\" class=\"data row2 col25\" >0.0754311</td>\n",
       "                        <td id=\"T_037cb308_b0b0_11e9_8d44_02420a0000cdrow2_col26\" class=\"data row2 col26\" >-0.370019</td>\n",
       "                        <td id=\"T_037cb308_b0b0_11e9_8d44_02420a0000cdrow2_col27\" class=\"data row2 col27\" >-0.127792</td>\n",
       "            </tr>\n",
       "            <tr>\n",
       "                        <th id=\"T_037cb308_b0b0_11e9_8d44_02420a0000cdlevel0_row3\" class=\"row_heading level0 row3\" >rooms</th>\n",
       "                        <td id=\"T_037cb308_b0b0_11e9_8d44_02420a0000cdrow3_col0\" class=\"data row3 col0\" >0.0993952</td>\n",
       "                        <td id=\"T_037cb308_b0b0_11e9_8d44_02420a0000cdrow3_col1\" class=\"data row3 col1\" >0.363138</td>\n",
       "                        <td id=\"T_037cb308_b0b0_11e9_8d44_02420a0000cdrow3_col2\" class=\"data row3 col2\" >0.75825</td>\n",
       "                        <td id=\"T_037cb308_b0b0_11e9_8d44_02420a0000cdrow3_col3\" class=\"data row3 col3\" >1</td>\n",
       "                        <td id=\"T_037cb308_b0b0_11e9_8d44_02420a0000cdrow3_col4\" class=\"data row3 col4\" >0.25172</td>\n",
       "                        <td id=\"T_037cb308_b0b0_11e9_8d44_02420a0000cdrow3_col5\" class=\"data row3 col5\" >-0.227702</td>\n",
       "                        <td id=\"T_037cb308_b0b0_11e9_8d44_02420a0000cdrow3_col6\" class=\"data row3 col6\" >0.852696</td>\n",
       "                        <td id=\"T_037cb308_b0b0_11e9_8d44_02420a0000cdrow3_col7\" class=\"data row3 col7\" >-0.151009</td>\n",
       "                        <td id=\"T_037cb308_b0b0_11e9_8d44_02420a0000cdrow3_col8\" class=\"data row3 col8\" >0.000371588</td>\n",
       "                        <td id=\"T_037cb308_b0b0_11e9_8d44_02420a0000cdrow3_col9\" class=\"data row3 col9\" >-0.145948</td>\n",
       "                        <td id=\"T_037cb308_b0b0_11e9_8d44_02420a0000cdrow3_col10\" class=\"data row3 col10\" >0.75825</td>\n",
       "                        <td id=\"T_037cb308_b0b0_11e9_8d44_02420a0000cdrow3_col11\" class=\"data row3 col11\" >-0.0876669</td>\n",
       "                        <td id=\"T_037cb308_b0b0_11e9_8d44_02420a0000cdrow3_col12\" class=\"data row3 col12\" >0.2566</td>\n",
       "                        <td id=\"T_037cb308_b0b0_11e9_8d44_02420a0000cdrow3_col13\" class=\"data row3 col13\" >0.0137412</td>\n",
       "                        <td id=\"T_037cb308_b0b0_11e9_8d44_02420a0000cdrow3_col14\" class=\"data row3 col14\" >-0.0608911</td>\n",
       "                        <td id=\"T_037cb308_b0b0_11e9_8d44_02420a0000cdrow3_col15\" class=\"data row3 col15\" >-0.184785</td>\n",
       "                        <td id=\"T_037cb308_b0b0_11e9_8d44_02420a0000cdrow3_col16\" class=\"data row3 col16\" >0.158225</td>\n",
       "                        <td id=\"T_037cb308_b0b0_11e9_8d44_02420a0000cdrow3_col17\" class=\"data row3 col17\" >-0.0540424</td>\n",
       "                        <td id=\"T_037cb308_b0b0_11e9_8d44_02420a0000cdrow3_col18\" class=\"data row3 col18\" >0.121741</td>\n",
       "                        <td id=\"T_037cb308_b0b0_11e9_8d44_02420a0000cdrow3_col19\" class=\"data row3 col19\" >-0.0591739</td>\n",
       "                        <td id=\"T_037cb308_b0b0_11e9_8d44_02420a0000cdrow3_col20\" class=\"data row3 col20\" >0.0792669</td>\n",
       "                        <td id=\"T_037cb308_b0b0_11e9_8d44_02420a0000cdrow3_col21\" class=\"data row3 col21\" >0.0558213</td>\n",
       "                        <td id=\"T_037cb308_b0b0_11e9_8d44_02420a0000cdrow3_col22\" class=\"data row3 col22\" >-0.00510273</td>\n",
       "                        <td id=\"T_037cb308_b0b0_11e9_8d44_02420a0000cdrow3_col23\" class=\"data row3 col23\" >-0.00424612</td>\n",
       "                        <td id=\"T_037cb308_b0b0_11e9_8d44_02420a0000cdrow3_col24\" class=\"data row3 col24\" >-0.0550229</td>\n",
       "                        <td id=\"T_037cb308_b0b0_11e9_8d44_02420a0000cdrow3_col25\" class=\"data row3 col25\" >0.45709</td>\n",
       "                        <td id=\"T_037cb308_b0b0_11e9_8d44_02420a0000cdrow3_col26\" class=\"data row3 col26\" >-0.614569</td>\n",
       "                        <td id=\"T_037cb308_b0b0_11e9_8d44_02420a0000cdrow3_col27\" class=\"data row3 col27\" >-0.131885</td>\n",
       "            </tr>\n",
       "            <tr>\n",
       "                        <th id=\"T_037cb308_b0b0_11e9_8d44_02420a0000cdlevel0_row4\" class=\"row_heading level0 row4\" >ceiling_height</th>\n",
       "                        <td id=\"T_037cb308_b0b0_11e9_8d44_02420a0000cdrow4_col0\" class=\"data row4 col0\" >0.0527446</td>\n",
       "                        <td id=\"T_037cb308_b0b0_11e9_8d44_02420a0000cdrow4_col1\" class=\"data row4 col1\" >0.290044</td>\n",
       "                        <td id=\"T_037cb308_b0b0_11e9_8d44_02420a0000cdrow4_col2\" class=\"data row4 col2\" >0.397601</td>\n",
       "                        <td id=\"T_037cb308_b0b0_11e9_8d44_02420a0000cdrow4_col3\" class=\"data row4 col3\" >0.25172</td>\n",
       "                        <td id=\"T_037cb308_b0b0_11e9_8d44_02420a0000cdrow4_col4\" class=\"data row4 col4\" >1</td>\n",
       "                        <td id=\"T_037cb308_b0b0_11e9_8d44_02420a0000cdrow4_col5\" class=\"data row4 col5\" >-0.0894813</td>\n",
       "                        <td id=\"T_037cb308_b0b0_11e9_8d44_02420a0000cdrow4_col6\" class=\"data row4 col6\" >0.377968</td>\n",
       "                        <td id=\"T_037cb308_b0b0_11e9_8d44_02420a0000cdrow4_col7\" class=\"data row4 col7\" >-0.0489276</td>\n",
       "                        <td id=\"T_037cb308_b0b0_11e9_8d44_02420a0000cdrow4_col8\" class=\"data row4 col8\" >0.0662676</td>\n",
       "                        <td id=\"T_037cb308_b0b0_11e9_8d44_02420a0000cdrow4_col9\" class=\"data row4 col9\" >0.00529576</td>\n",
       "                        <td id=\"T_037cb308_b0b0_11e9_8d44_02420a0000cdrow4_col10\" class=\"data row4 col10\" >0.397601</td>\n",
       "                        <td id=\"T_037cb308_b0b0_11e9_8d44_02420a0000cdrow4_col11\" class=\"data row4 col11\" >-0.00235015</td>\n",
       "                        <td id=\"T_037cb308_b0b0_11e9_8d44_02420a0000cdrow4_col12\" class=\"data row4 col12\" >0.331222</td>\n",
       "                        <td id=\"T_037cb308_b0b0_11e9_8d44_02420a0000cdrow4_col13\" class=\"data row4 col13\" >-0.0466965</td>\n",
       "                        <td id=\"T_037cb308_b0b0_11e9_8d44_02420a0000cdrow4_col14\" class=\"data row4 col14\" >-0.0851354</td>\n",
       "                        <td id=\"T_037cb308_b0b0_11e9_8d44_02420a0000cdrow4_col15\" class=\"data row4 col15\" >-0.307304</td>\n",
       "                        <td id=\"T_037cb308_b0b0_11e9_8d44_02420a0000cdrow4_col16\" class=\"data row4 col16\" >0.252834</td>\n",
       "                        <td id=\"T_037cb308_b0b0_11e9_8d44_02420a0000cdrow4_col17\" class=\"data row4 col17\" >-0.0614459</td>\n",
       "                        <td id=\"T_037cb308_b0b0_11e9_8d44_02420a0000cdrow4_col18\" class=\"data row4 col18\" >0.225007</td>\n",
       "                        <td id=\"T_037cb308_b0b0_11e9_8d44_02420a0000cdrow4_col19\" class=\"data row4 col19\" >-0.11312</td>\n",
       "                        <td id=\"T_037cb308_b0b0_11e9_8d44_02420a0000cdrow4_col20\" class=\"data row4 col20\" >0.0763512</td>\n",
       "                        <td id=\"T_037cb308_b0b0_11e9_8d44_02420a0000cdrow4_col21\" class=\"data row4 col21\" >0.291012</td>\n",
       "                        <td id=\"T_037cb308_b0b0_11e9_8d44_02420a0000cdrow4_col22\" class=\"data row4 col22\" >-0.0209971</td>\n",
       "                        <td id=\"T_037cb308_b0b0_11e9_8d44_02420a0000cdrow4_col23\" class=\"data row4 col23\" >-0.0045951</td>\n",
       "                        <td id=\"T_037cb308_b0b0_11e9_8d44_02420a0000cdrow4_col24\" class=\"data row4 col24\" >-0.0542297</td>\n",
       "                        <td id=\"T_037cb308_b0b0_11e9_8d44_02420a0000cdrow4_col25\" class=\"data row4 col25\" >-0.0240134</td>\n",
       "                        <td id=\"T_037cb308_b0b0_11e9_8d44_02420a0000cdrow4_col26\" class=\"data row4 col26\" >-0.0201555</td>\n",
       "                        <td id=\"T_037cb308_b0b0_11e9_8d44_02420a0000cdrow4_col27\" class=\"data row4 col27\" >-0.10498</td>\n",
       "            </tr>\n",
       "            <tr>\n",
       "                        <th id=\"T_037cb308_b0b0_11e9_8d44_02420a0000cdlevel0_row5\" class=\"row_heading level0 row5\" >floors_total</th>\n",
       "                        <td id=\"T_037cb308_b0b0_11e9_8d44_02420a0000cdrow5_col0\" class=\"data row5 col0\" >0.0105938</td>\n",
       "                        <td id=\"T_037cb308_b0b0_11e9_8d44_02420a0000cdrow5_col1\" class=\"data row5 col1\" >-0.00679735</td>\n",
       "                        <td id=\"T_037cb308_b0b0_11e9_8d44_02420a0000cdrow5_col2\" class=\"data row5 col2\" >-0.0755443</td>\n",
       "                        <td id=\"T_037cb308_b0b0_11e9_8d44_02420a0000cdrow5_col3\" class=\"data row5 col3\" >-0.227702</td>\n",
       "                        <td id=\"T_037cb308_b0b0_11e9_8d44_02420a0000cdrow5_col4\" class=\"data row5 col4\" >-0.0894813</td>\n",
       "                        <td id=\"T_037cb308_b0b0_11e9_8d44_02420a0000cdrow5_col5\" class=\"data row5 col5\" >1</td>\n",
       "                        <td id=\"T_037cb308_b0b0_11e9_8d44_02420a0000cdrow5_col6\" class=\"data row5 col6\" >-0.170739</td>\n",
       "                        <td id=\"T_037cb308_b0b0_11e9_8d44_02420a0000cdrow5_col7\" class=\"data row5 col7\" >0.677888</td>\n",
       "                        <td id=\"T_037cb308_b0b0_11e9_8d44_02420a0000cdrow5_col8\" class=\"data row5 col8\" >-0.026361</td>\n",
       "                        <td id=\"T_037cb308_b0b0_11e9_8d44_02420a0000cdrow5_col9\" class=\"data row5 col9\" >0.0700657</td>\n",
       "                        <td id=\"T_037cb308_b0b0_11e9_8d44_02420a0000cdrow5_col10\" class=\"data row5 col10\" >-0.0755443</td>\n",
       "                        <td id=\"T_037cb308_b0b0_11e9_8d44_02420a0000cdrow5_col11\" class=\"data row5 col11\" >0.0507312</td>\n",
       "                        <td id=\"T_037cb308_b0b0_11e9_8d44_02420a0000cdrow5_col12\" class=\"data row5 col12\" >0.152521</td>\n",
       "                        <td id=\"T_037cb308_b0b0_11e9_8d44_02420a0000cdrow5_col13\" class=\"data row5 col13\" >0.141189</td>\n",
       "                        <td id=\"T_037cb308_b0b0_11e9_8d44_02420a0000cdrow5_col14\" class=\"data row5 col14\" >0.108526</td>\n",
       "                        <td id=\"T_037cb308_b0b0_11e9_8d44_02420a0000cdrow5_col15\" class=\"data row5 col15\" >0.0197526</td>\n",
       "                        <td id=\"T_037cb308_b0b0_11e9_8d44_02420a0000cdrow5_col16\" class=\"data row5 col16\" >-0.158894</td>\n",
       "                        <td id=\"T_037cb308_b0b0_11e9_8d44_02420a0000cdrow5_col17\" class=\"data row5 col17\" >0.0975829</td>\n",
       "                        <td id=\"T_037cb308_b0b0_11e9_8d44_02420a0000cdrow5_col18\" class=\"data row5 col18\" >-0.0486193</td>\n",
       "                        <td id=\"T_037cb308_b0b0_11e9_8d44_02420a0000cdrow5_col19\" class=\"data row5 col19\" >0.0387679</td>\n",
       "                        <td id=\"T_037cb308_b0b0_11e9_8d44_02420a0000cdrow5_col20\" class=\"data row5 col20\" >-0.0254773</td>\n",
       "                        <td id=\"T_037cb308_b0b0_11e9_8d44_02420a0000cdrow5_col21\" class=\"data row5 col21\" >0.148388</td>\n",
       "                        <td id=\"T_037cb308_b0b0_11e9_8d44_02420a0000cdrow5_col22\" class=\"data row5 col22\" >0.0130703</td>\n",
       "                        <td id=\"T_037cb308_b0b0_11e9_8d44_02420a0000cdrow5_col23\" class=\"data row5 col23\" >0.0166808</td>\n",
       "                        <td id=\"T_037cb308_b0b0_11e9_8d44_02420a0000cdrow5_col24\" class=\"data row5 col24\" >0.00799658</td>\n",
       "                        <td id=\"T_037cb308_b0b0_11e9_8d44_02420a0000cdrow5_col25\" class=\"data row5 col25\" >-0.350193</td>\n",
       "                        <td id=\"T_037cb308_b0b0_11e9_8d44_02420a0000cdrow5_col26\" class=\"data row5 col26\" >0.338055</td>\n",
       "                        <td id=\"T_037cb308_b0b0_11e9_8d44_02420a0000cdrow5_col27\" class=\"data row5 col27\" >0.0709614</td>\n",
       "            </tr>\n",
       "            <tr>\n",
       "                        <th id=\"T_037cb308_b0b0_11e9_8d44_02420a0000cdlevel0_row6\" class=\"row_heading level0 row6\" >living_area</th>\n",
       "                        <td id=\"T_037cb308_b0b0_11e9_8d44_02420a0000cdrow6_col0\" class=\"data row6 col0\" >0.106846</td>\n",
       "                        <td id=\"T_037cb308_b0b0_11e9_8d44_02420a0000cdrow6_col1\" class=\"data row6 col1\" >0.55602</td>\n",
       "                        <td id=\"T_037cb308_b0b0_11e9_8d44_02420a0000cdrow6_col2\" class=\"data row6 col2\" >0.909571</td>\n",
       "                        <td id=\"T_037cb308_b0b0_11e9_8d44_02420a0000cdrow6_col3\" class=\"data row6 col3\" >0.852696</td>\n",
       "                        <td id=\"T_037cb308_b0b0_11e9_8d44_02420a0000cdrow6_col4\" class=\"data row6 col4\" >0.377968</td>\n",
       "                        <td id=\"T_037cb308_b0b0_11e9_8d44_02420a0000cdrow6_col5\" class=\"data row6 col5\" >-0.170739</td>\n",
       "                        <td id=\"T_037cb308_b0b0_11e9_8d44_02420a0000cdrow6_col6\" class=\"data row6 col6\" >1</td>\n",
       "                        <td id=\"T_037cb308_b0b0_11e9_8d44_02420a0000cdrow6_col7\" class=\"data row6 col7\" >-0.0983987</td>\n",
       "                        <td id=\"T_037cb308_b0b0_11e9_8d44_02420a0000cdrow6_col8\" class=\"data row6 col8\" >0.0280144</td>\n",
       "                        <td id=\"T_037cb308_b0b0_11e9_8d44_02420a0000cdrow6_col9\" class=\"data row6 col9\" >-0.0558887</td>\n",
       "                        <td id=\"T_037cb308_b0b0_11e9_8d44_02420a0000cdrow6_col10\" class=\"data row6 col10\" >0.909571</td>\n",
       "                        <td id=\"T_037cb308_b0b0_11e9_8d44_02420a0000cdrow6_col11\" class=\"data row6 col11\" >-0.0316148</td>\n",
       "                        <td id=\"T_037cb308_b0b0_11e9_8d44_02420a0000cdrow6_col12\" class=\"data row6 col12\" >0.406908</td>\n",
       "                        <td id=\"T_037cb308_b0b0_11e9_8d44_02420a0000cdrow6_col13\" class=\"data row6 col13\" >0.00608665</td>\n",
       "                        <td id=\"T_037cb308_b0b0_11e9_8d44_02420a0000cdrow6_col14\" class=\"data row6 col14\" >-0.05708</td>\n",
       "                        <td id=\"T_037cb308_b0b0_11e9_8d44_02420a0000cdrow6_col15\" class=\"data row6 col15\" >-0.226212</td>\n",
       "                        <td id=\"T_037cb308_b0b0_11e9_8d44_02420a0000cdrow6_col16\" class=\"data row6 col16\" >0.209348</td>\n",
       "                        <td id=\"T_037cb308_b0b0_11e9_8d44_02420a0000cdrow6_col17\" class=\"data row6 col17\" >-0.0539161</td>\n",
       "                        <td id=\"T_037cb308_b0b0_11e9_8d44_02420a0000cdrow6_col18\" class=\"data row6 col18\" >0.17933</td>\n",
       "                        <td id=\"T_037cb308_b0b0_11e9_8d44_02420a0000cdrow6_col19\" class=\"data row6 col19\" >-0.0830641</td>\n",
       "                        <td id=\"T_037cb308_b0b0_11e9_8d44_02420a0000cdrow6_col20\" class=\"data row6 col20\" >0.0911391</td>\n",
       "                        <td id=\"T_037cb308_b0b0_11e9_8d44_02420a0000cdrow6_col21\" class=\"data row6 col21\" >0.212777</td>\n",
       "                        <td id=\"T_037cb308_b0b0_11e9_8d44_02420a0000cdrow6_col22\" class=\"data row6 col22\" >-0.00704831</td>\n",
       "                        <td id=\"T_037cb308_b0b0_11e9_8d44_02420a0000cdrow6_col23\" class=\"data row6 col23\" >-0.000591751</td>\n",
       "                        <td id=\"T_037cb308_b0b0_11e9_8d44_02420a0000cdrow6_col24\" class=\"data row6 col24\" >-0.073179</td>\n",
       "                        <td id=\"T_037cb308_b0b0_11e9_8d44_02420a0000cdrow6_col25\" class=\"data row6 col25\" >0.399075</td>\n",
       "                        <td id=\"T_037cb308_b0b0_11e9_8d44_02420a0000cdrow6_col26\" class=\"data row6 col26\" >-0.496621</td>\n",
       "                        <td id=\"T_037cb308_b0b0_11e9_8d44_02420a0000cdrow6_col27\" class=\"data row6 col27\" >-0.134085</td>\n",
       "            </tr>\n",
       "            <tr>\n",
       "                        <th id=\"T_037cb308_b0b0_11e9_8d44_02420a0000cdlevel0_row7\" class=\"row_heading level0 row7\" >floor</th>\n",
       "                        <td id=\"T_037cb308_b0b0_11e9_8d44_02420a0000cdrow7_col0\" class=\"data row7 col0\" >0.0336859</td>\n",
       "                        <td id=\"T_037cb308_b0b0_11e9_8d44_02420a0000cdrow7_col1\" class=\"data row7 col1\" >0.0267781</td>\n",
       "                        <td id=\"T_037cb308_b0b0_11e9_8d44_02420a0000cdrow7_col2\" class=\"data row7 col2\" >-0.0247816</td>\n",
       "                        <td id=\"T_037cb308_b0b0_11e9_8d44_02420a0000cdrow7_col3\" class=\"data row7 col3\" >-0.151009</td>\n",
       "                        <td id=\"T_037cb308_b0b0_11e9_8d44_02420a0000cdrow7_col4\" class=\"data row7 col4\" >-0.0489276</td>\n",
       "                        <td id=\"T_037cb308_b0b0_11e9_8d44_02420a0000cdrow7_col5\" class=\"data row7 col5\" >0.677888</td>\n",
       "                        <td id=\"T_037cb308_b0b0_11e9_8d44_02420a0000cdrow7_col6\" class=\"data row7 col6\" >-0.0983987</td>\n",
       "                        <td id=\"T_037cb308_b0b0_11e9_8d44_02420a0000cdrow7_col7\" class=\"data row7 col7\" >1</td>\n",
       "                        <td id=\"T_037cb308_b0b0_11e9_8d44_02420a0000cdrow7_col8\" class=\"data row7 col8\" >-0.0132134</td>\n",
       "                        <td id=\"T_037cb308_b0b0_11e9_8d44_02420a0000cdrow7_col9\" class=\"data row7 col9\" >0.035865</td>\n",
       "                        <td id=\"T_037cb308_b0b0_11e9_8d44_02420a0000cdrow7_col10\" class=\"data row7 col10\" >-0.0247816</td>\n",
       "                        <td id=\"T_037cb308_b0b0_11e9_8d44_02420a0000cdrow7_col11\" class=\"data row7 col11\" >0.0361049</td>\n",
       "                        <td id=\"T_037cb308_b0b0_11e9_8d44_02420a0000cdrow7_col12\" class=\"data row7 col12\" >0.126797</td>\n",
       "                        <td id=\"T_037cb308_b0b0_11e9_8d44_02420a0000cdrow7_col13\" class=\"data row7 col13\" >0.129503</td>\n",
       "                        <td id=\"T_037cb308_b0b0_11e9_8d44_02420a0000cdrow7_col14\" class=\"data row7 col14\" >0.0728436</td>\n",
       "                        <td id=\"T_037cb308_b0b0_11e9_8d44_02420a0000cdrow7_col15\" class=\"data row7 col15\" >0.00900292</td>\n",
       "                        <td id=\"T_037cb308_b0b0_11e9_8d44_02420a0000cdrow7_col16\" class=\"data row7 col16\" >-0.105217</td>\n",
       "                        <td id=\"T_037cb308_b0b0_11e9_8d44_02420a0000cdrow7_col17\" class=\"data row7 col17\" >0.07295</td>\n",
       "                        <td id=\"T_037cb308_b0b0_11e9_8d44_02420a0000cdrow7_col18\" class=\"data row7 col18\" >-0.0296182</td>\n",
       "                        <td id=\"T_037cb308_b0b0_11e9_8d44_02420a0000cdrow7_col19\" class=\"data row7 col19\" >0.0247312</td>\n",
       "                        <td id=\"T_037cb308_b0b0_11e9_8d44_02420a0000cdrow7_col20\" class=\"data row7 col20\" >-0.0211108</td>\n",
       "                        <td id=\"T_037cb308_b0b0_11e9_8d44_02420a0000cdrow7_col21\" class=\"data row7 col21\" >0.129346</td>\n",
       "                        <td id=\"T_037cb308_b0b0_11e9_8d44_02420a0000cdrow7_col22\" class=\"data row7 col22\" >0.0115919</td>\n",
       "                        <td id=\"T_037cb308_b0b0_11e9_8d44_02420a0000cdrow7_col23\" class=\"data row7 col23\" >0.0203465</td>\n",
       "                        <td id=\"T_037cb308_b0b0_11e9_8d44_02420a0000cdrow7_col24\" class=\"data row7 col24\" >0.00560421</td>\n",
       "                        <td id=\"T_037cb308_b0b0_11e9_8d44_02420a0000cdrow7_col25\" class=\"data row7 col25\" >-0.254451</td>\n",
       "                        <td id=\"T_037cb308_b0b0_11e9_8d44_02420a0000cdrow7_col26\" class=\"data row7 col26\" >0.233962</td>\n",
       "                        <td id=\"T_037cb308_b0b0_11e9_8d44_02420a0000cdrow7_col27\" class=\"data row7 col27\" >0.0584145</td>\n",
       "            </tr>\n",
       "            <tr>\n",
       "                        <th id=\"T_037cb308_b0b0_11e9_8d44_02420a0000cdlevel0_row8\" class=\"row_heading level0 row8\" >is_apartment</th>\n",
       "                        <td id=\"T_037cb308_b0b0_11e9_8d44_02420a0000cdrow8_col0\" class=\"data row8 col0\" >0.0104177</td>\n",
       "                        <td id=\"T_037cb308_b0b0_11e9_8d44_02420a0000cdrow8_col1\" class=\"data row8 col1\" >0.0269697</td>\n",
       "                        <td id=\"T_037cb308_b0b0_11e9_8d44_02420a0000cdrow8_col2\" class=\"data row8 col2\" >0.0296959</td>\n",
       "                        <td id=\"T_037cb308_b0b0_11e9_8d44_02420a0000cdrow8_col3\" class=\"data row8 col3\" >0.000371588</td>\n",
       "                        <td id=\"T_037cb308_b0b0_11e9_8d44_02420a0000cdrow8_col4\" class=\"data row8 col4\" >0.0662676</td>\n",
       "                        <td id=\"T_037cb308_b0b0_11e9_8d44_02420a0000cdrow8_col5\" class=\"data row8 col5\" >-0.026361</td>\n",
       "                        <td id=\"T_037cb308_b0b0_11e9_8d44_02420a0000cdrow8_col6\" class=\"data row8 col6\" >0.0280144</td>\n",
       "                        <td id=\"T_037cb308_b0b0_11e9_8d44_02420a0000cdrow8_col7\" class=\"data row8 col7\" >-0.0132134</td>\n",
       "                        <td id=\"T_037cb308_b0b0_11e9_8d44_02420a0000cdrow8_col8\" class=\"data row8 col8\" >1</td>\n",
       "                        <td id=\"T_037cb308_b0b0_11e9_8d44_02420a0000cdrow8_col9\" class=\"data row8 col9\" >-0.00363251</td>\n",
       "                        <td id=\"T_037cb308_b0b0_11e9_8d44_02420a0000cdrow8_col10\" class=\"data row8 col10\" >0.0296959</td>\n",
       "                        <td id=\"T_037cb308_b0b0_11e9_8d44_02420a0000cdrow8_col11\" class=\"data row8 col11\" >-0.00245662</td>\n",
       "                        <td id=\"T_037cb308_b0b0_11e9_8d44_02420a0000cdrow8_col12\" class=\"data row8 col12\" >0.0389968</td>\n",
       "                        <td id=\"T_037cb308_b0b0_11e9_8d44_02420a0000cdrow8_col13\" class=\"data row8 col13\" >0.0338294</td>\n",
       "                        <td id=\"T_037cb308_b0b0_11e9_8d44_02420a0000cdrow8_col14\" class=\"data row8 col14\" >0.0165208</td>\n",
       "                        <td id=\"T_037cb308_b0b0_11e9_8d44_02420a0000cdrow8_col15\" class=\"data row8 col15\" >0.00377204</td>\n",
       "                        <td id=\"T_037cb308_b0b0_11e9_8d44_02420a0000cdrow8_col16\" class=\"data row8 col16\" >0.0216176</td>\n",
       "                        <td id=\"T_037cb308_b0b0_11e9_8d44_02420a0000cdrow8_col17\" class=\"data row8 col17\" >-0.0335427</td>\n",
       "                        <td id=\"T_037cb308_b0b0_11e9_8d44_02420a0000cdrow8_col18\" class=\"data row8 col18\" >0.024453</td>\n",
       "                        <td id=\"T_037cb308_b0b0_11e9_8d44_02420a0000cdrow8_col19\" class=\"data row8 col19\" >0.00331673</td>\n",
       "                        <td id=\"T_037cb308_b0b0_11e9_8d44_02420a0000cdrow8_col20\" class=\"data row8 col20\" >0.00859929</td>\n",
       "                        <td id=\"T_037cb308_b0b0_11e9_8d44_02420a0000cdrow8_col21\" class=\"data row8 col21\" >0.0447708</td>\n",
       "                        <td id=\"T_037cb308_b0b0_11e9_8d44_02420a0000cdrow8_col22\" class=\"data row8 col22\" >-0.00947711</td>\n",
       "                        <td id=\"T_037cb308_b0b0_11e9_8d44_02420a0000cdrow8_col23\" class=\"data row8 col23\" >0.00237153</td>\n",
       "                        <td id=\"T_037cb308_b0b0_11e9_8d44_02420a0000cdrow8_col24\" class=\"data row8 col24\" >0.00938583</td>\n",
       "                        <td id=\"T_037cb308_b0b0_11e9_8d44_02420a0000cdrow8_col25\" class=\"data row8 col25\" >0.00102773</td>\n",
       "                        <td id=\"T_037cb308_b0b0_11e9_8d44_02420a0000cdrow8_col26\" class=\"data row8 col26\" >0.0102744</td>\n",
       "                        <td id=\"T_037cb308_b0b0_11e9_8d44_02420a0000cdrow8_col27\" class=\"data row8 col27\" >-0.0145269</td>\n",
       "            </tr>\n",
       "            <tr>\n",
       "                        <th id=\"T_037cb308_b0b0_11e9_8d44_02420a0000cdlevel0_row9\" class=\"row_heading level0 row9\" >studio</th>\n",
       "                        <td id=\"T_037cb308_b0b0_11e9_8d44_02420a0000cdrow9_col0\" class=\"data row9 col0\" >-0.0281193</td>\n",
       "                        <td id=\"T_037cb308_b0b0_11e9_8d44_02420a0000cdrow9_col1\" class=\"data row9 col1\" >-0.0250888</td>\n",
       "                        <td id=\"T_037cb308_b0b0_11e9_8d44_02420a0000cdrow9_col2\" class=\"data row9 col2\" >-0.0719847</td>\n",
       "                        <td id=\"T_037cb308_b0b0_11e9_8d44_02420a0000cdrow9_col3\" class=\"data row9 col3\" >-0.145948</td>\n",
       "                        <td id=\"T_037cb308_b0b0_11e9_8d44_02420a0000cdrow9_col4\" class=\"data row9 col4\" >0.00529576</td>\n",
       "                        <td id=\"T_037cb308_b0b0_11e9_8d44_02420a0000cdrow9_col5\" class=\"data row9 col5\" >0.0700657</td>\n",
       "                        <td id=\"T_037cb308_b0b0_11e9_8d44_02420a0000cdrow9_col6\" class=\"data row9 col6\" >-0.0558887</td>\n",
       "                        <td id=\"T_037cb308_b0b0_11e9_8d44_02420a0000cdrow9_col7\" class=\"data row9 col7\" >0.035865</td>\n",
       "                        <td id=\"T_037cb308_b0b0_11e9_8d44_02420a0000cdrow9_col8\" class=\"data row9 col8\" >-0.00363251</td>\n",
       "                        <td id=\"T_037cb308_b0b0_11e9_8d44_02420a0000cdrow9_col9\" class=\"data row9 col9\" >1</td>\n",
       "                        <td id=\"T_037cb308_b0b0_11e9_8d44_02420a0000cdrow9_col10\" class=\"data row9 col10\" >-0.0719847</td>\n",
       "                        <td id=\"T_037cb308_b0b0_11e9_8d44_02420a0000cdrow9_col11\" class=\"data row9 col11\" >-0.00420645</td>\n",
       "                        <td id=\"T_037cb308_b0b0_11e9_8d44_02420a0000cdrow9_col12\" class=\"data row9 col12\" >-0.0140237</td>\n",
       "                        <td id=\"T_037cb308_b0b0_11e9_8d44_02420a0000cdrow9_col13\" class=\"data row9 col13\" >0.0240621</td>\n",
       "                        <td id=\"T_037cb308_b0b0_11e9_8d44_02420a0000cdrow9_col14\" class=\"data row9 col14\" >-0.0216493</td>\n",
       "                        <td id=\"T_037cb308_b0b0_11e9_8d44_02420a0000cdrow9_col15\" class=\"data row9 col15\" >-0.00679271</td>\n",
       "                        <td id=\"T_037cb308_b0b0_11e9_8d44_02420a0000cdrow9_col16\" class=\"data row9 col16\" >-0.0320716</td>\n",
       "                        <td id=\"T_037cb308_b0b0_11e9_8d44_02420a0000cdrow9_col17\" class=\"data row9 col17\" >0.00692301</td>\n",
       "                        <td id=\"T_037cb308_b0b0_11e9_8d44_02420a0000cdrow9_col18\" class=\"data row9 col18\" >-0.0092925</td>\n",
       "                        <td id=\"T_037cb308_b0b0_11e9_8d44_02420a0000cdrow9_col19\" class=\"data row9 col19\" >0.00185867</td>\n",
       "                        <td id=\"T_037cb308_b0b0_11e9_8d44_02420a0000cdrow9_col20\" class=\"data row9 col20\" >-0.0170796</td>\n",
       "                        <td id=\"T_037cb308_b0b0_11e9_8d44_02420a0000cdrow9_col21\" class=\"data row9 col21\" >0.0155197</td>\n",
       "                        <td id=\"T_037cb308_b0b0_11e9_8d44_02420a0000cdrow9_col22\" class=\"data row9 col22\" >-0.000883305</td>\n",
       "                        <td id=\"T_037cb308_b0b0_11e9_8d44_02420a0000cdrow9_col23\" class=\"data row9 col23\" >-0.000683676</td>\n",
       "                        <td id=\"T_037cb308_b0b0_11e9_8d44_02420a0000cdrow9_col24\" class=\"data row9 col24\" >0.0110409</td>\n",
       "                        <td id=\"T_037cb308_b0b0_11e9_8d44_02420a0000cdrow9_col25\" class=\"data row9 col25\" >0.0848742</td>\n",
       "                        <td id=\"T_037cb308_b0b0_11e9_8d44_02420a0000cdrow9_col26\" class=\"data row9 col26\" >0.175303</td>\n",
       "                        <td id=\"T_037cb308_b0b0_11e9_8d44_02420a0000cdrow9_col27\" class=\"data row9 col27\" >0.0277762</td>\n",
       "            </tr>\n",
       "            <tr>\n",
       "                        <th id=\"T_037cb308_b0b0_11e9_8d44_02420a0000cdlevel0_row10\" class=\"row_heading level0 row10\" >area</th>\n",
       "                        <td id=\"T_037cb308_b0b0_11e9_8d44_02420a0000cdrow10_col0\" class=\"data row10 col0\" >0.116443</td>\n",
       "                        <td id=\"T_037cb308_b0b0_11e9_8d44_02420a0000cdrow10_col1\" class=\"data row10 col1\" >0.653605</td>\n",
       "                        <td id=\"T_037cb308_b0b0_11e9_8d44_02420a0000cdrow10_col2\" class=\"data row10 col2\" >1</td>\n",
       "                        <td id=\"T_037cb308_b0b0_11e9_8d44_02420a0000cdrow10_col3\" class=\"data row10 col3\" >0.75825</td>\n",
       "                        <td id=\"T_037cb308_b0b0_11e9_8d44_02420a0000cdrow10_col4\" class=\"data row10 col4\" >0.397601</td>\n",
       "                        <td id=\"T_037cb308_b0b0_11e9_8d44_02420a0000cdrow10_col5\" class=\"data row10 col5\" >-0.0755443</td>\n",
       "                        <td id=\"T_037cb308_b0b0_11e9_8d44_02420a0000cdrow10_col6\" class=\"data row10 col6\" >0.909571</td>\n",
       "                        <td id=\"T_037cb308_b0b0_11e9_8d44_02420a0000cdrow10_col7\" class=\"data row10 col7\" >-0.0247816</td>\n",
       "                        <td id=\"T_037cb308_b0b0_11e9_8d44_02420a0000cdrow10_col8\" class=\"data row10 col8\" >0.0296959</td>\n",
       "                        <td id=\"T_037cb308_b0b0_11e9_8d44_02420a0000cdrow10_col9\" class=\"data row10 col9\" >-0.0719847</td>\n",
       "                        <td id=\"T_037cb308_b0b0_11e9_8d44_02420a0000cdrow10_col10\" class=\"data row10 col10\" >1</td>\n",
       "                        <td id=\"T_037cb308_b0b0_11e9_8d44_02420a0000cdrow10_col11\" class=\"data row10 col11\" >-0.0349437</td>\n",
       "                        <td id=\"T_037cb308_b0b0_11e9_8d44_02420a0000cdrow10_col12\" class=\"data row10 col12\" >0.571149</td>\n",
       "                        <td id=\"T_037cb308_b0b0_11e9_8d44_02420a0000cdrow10_col13\" class=\"data row10 col13\" >0.02321</td>\n",
       "                        <td id=\"T_037cb308_b0b0_11e9_8d44_02420a0000cdrow10_col14\" class=\"data row10 col14\" >-0.0300546</td>\n",
       "                        <td id=\"T_037cb308_b0b0_11e9_8d44_02420a0000cdrow10_col15\" class=\"data row10 col15\" >-0.230937</td>\n",
       "                        <td id=\"T_037cb308_b0b0_11e9_8d44_02420a0000cdrow10_col16\" class=\"data row10 col16\" >0.201367</td>\n",
       "                        <td id=\"T_037cb308_b0b0_11e9_8d44_02420a0000cdrow10_col17\" class=\"data row10 col17\" >-0.021386</td>\n",
       "                        <td id=\"T_037cb308_b0b0_11e9_8d44_02420a0000cdrow10_col18\" class=\"data row10 col18\" >0.201056</td>\n",
       "                        <td id=\"T_037cb308_b0b0_11e9_8d44_02420a0000cdrow10_col19\" class=\"data row10 col19\" >-0.0996175</td>\n",
       "                        <td id=\"T_037cb308_b0b0_11e9_8d44_02420a0000cdrow10_col20\" class=\"data row10 col20\" >0.0969354</td>\n",
       "                        <td id=\"T_037cb308_b0b0_11e9_8d44_02420a0000cdrow10_col21\" class=\"data row10 col21\" >0.302464</td>\n",
       "                        <td id=\"T_037cb308_b0b0_11e9_8d44_02420a0000cdrow10_col22\" class=\"data row10 col22\" >-0.00576446</td>\n",
       "                        <td id=\"T_037cb308_b0b0_11e9_8d44_02420a0000cdrow10_col23\" class=\"data row10 col23\" >0.00488869</td>\n",
       "                        <td id=\"T_037cb308_b0b0_11e9_8d44_02420a0000cdrow10_col24\" class=\"data row10 col24\" >-0.0793673</td>\n",
       "                        <td id=\"T_037cb308_b0b0_11e9_8d44_02420a0000cdrow10_col25\" class=\"data row10 col25\" >0.0754311</td>\n",
       "                        <td id=\"T_037cb308_b0b0_11e9_8d44_02420a0000cdrow10_col26\" class=\"data row10 col26\" >-0.370019</td>\n",
       "                        <td id=\"T_037cb308_b0b0_11e9_8d44_02420a0000cdrow10_col27\" class=\"data row10 col27\" >-0.127792</td>\n",
       "            </tr>\n",
       "            <tr>\n",
       "                        <th id=\"T_037cb308_b0b0_11e9_8d44_02420a0000cdlevel0_row11\" class=\"row_heading level0 row11\" >open_plan</th>\n",
       "                        <td id=\"T_037cb308_b0b0_11e9_8d44_02420a0000cdrow11_col0\" class=\"data row11 col0\" >-0.024608</td>\n",
       "                        <td id=\"T_037cb308_b0b0_11e9_8d44_02420a0000cdrow11_col1\" class=\"data row11 col1\" >-0.00880559</td>\n",
       "                        <td id=\"T_037cb308_b0b0_11e9_8d44_02420a0000cdrow11_col2\" class=\"data row11 col2\" >-0.0349437</td>\n",
       "                        <td id=\"T_037cb308_b0b0_11e9_8d44_02420a0000cdrow11_col3\" class=\"data row11 col3\" >-0.0876669</td>\n",
       "                        <td id=\"T_037cb308_b0b0_11e9_8d44_02420a0000cdrow11_col4\" class=\"data row11 col4\" >-0.00235015</td>\n",
       "                        <td id=\"T_037cb308_b0b0_11e9_8d44_02420a0000cdrow11_col5\" class=\"data row11 col5\" >0.0507312</td>\n",
       "                        <td id=\"T_037cb308_b0b0_11e9_8d44_02420a0000cdrow11_col6\" class=\"data row11 col6\" >-0.0316148</td>\n",
       "                        <td id=\"T_037cb308_b0b0_11e9_8d44_02420a0000cdrow11_col7\" class=\"data row11 col7\" >0.0361049</td>\n",
       "                        <td id=\"T_037cb308_b0b0_11e9_8d44_02420a0000cdrow11_col8\" class=\"data row11 col8\" >-0.00245662</td>\n",
       "                        <td id=\"T_037cb308_b0b0_11e9_8d44_02420a0000cdrow11_col9\" class=\"data row11 col9\" >-0.00420645</td>\n",
       "                        <td id=\"T_037cb308_b0b0_11e9_8d44_02420a0000cdrow11_col10\" class=\"data row11 col10\" >-0.0349437</td>\n",
       "                        <td id=\"T_037cb308_b0b0_11e9_8d44_02420a0000cdrow11_col11\" class=\"data row11 col11\" >1</td>\n",
       "                        <td id=\"T_037cb308_b0b0_11e9_8d44_02420a0000cdrow11_col12\" class=\"data row11 col12\" >-0.0106447</td>\n",
       "                        <td id=\"T_037cb308_b0b0_11e9_8d44_02420a0000cdrow11_col13\" class=\"data row11 col13\" >0.0183537</td>\n",
       "                        <td id=\"T_037cb308_b0b0_11e9_8d44_02420a0000cdrow11_col14\" class=\"data row11 col14\" >-0.013601</td>\n",
       "                        <td id=\"T_037cb308_b0b0_11e9_8d44_02420a0000cdrow11_col15\" class=\"data row11 col15\" >-0.00417731</td>\n",
       "                        <td id=\"T_037cb308_b0b0_11e9_8d44_02420a0000cdrow11_col16\" class=\"data row11 col16\" >-0.0163859</td>\n",
       "                        <td id=\"T_037cb308_b0b0_11e9_8d44_02420a0000cdrow11_col17\" class=\"data row11 col17\" >0.0106909</td>\n",
       "                        <td id=\"T_037cb308_b0b0_11e9_8d44_02420a0000cdrow11_col18\" class=\"data row11 col18\" >-0.00410793</td>\n",
       "                        <td id=\"T_037cb308_b0b0_11e9_8d44_02420a0000cdrow11_col19\" class=\"data row11 col19\" >-0.00337506</td>\n",
       "                        <td id=\"T_037cb308_b0b0_11e9_8d44_02420a0000cdrow11_col20\" class=\"data row11 col20\" >-0.0170142</td>\n",
       "                        <td id=\"T_037cb308_b0b0_11e9_8d44_02420a0000cdrow11_col21\" class=\"data row11 col21\" >0.00828756</td>\n",
       "                        <td id=\"T_037cb308_b0b0_11e9_8d44_02420a0000cdrow11_col22\" class=\"data row11 col22\" >0.0111042</td>\n",
       "                        <td id=\"T_037cb308_b0b0_11e9_8d44_02420a0000cdrow11_col23\" class=\"data row11 col23\" >0.0257957</td>\n",
       "                        <td id=\"T_037cb308_b0b0_11e9_8d44_02420a0000cdrow11_col24\" class=\"data row11 col24\" >-0.0211891</td>\n",
       "                        <td id=\"T_037cb308_b0b0_11e9_8d44_02420a0000cdrow11_col25\" class=\"data row11 col25\" >0.0542483</td>\n",
       "                        <td id=\"T_037cb308_b0b0_11e9_8d44_02420a0000cdrow11_col26\" class=\"data row11 col26\" >0.096149</td>\n",
       "                        <td id=\"T_037cb308_b0b0_11e9_8d44_02420a0000cdrow11_col27\" class=\"data row11 col27\" >0.0368472</td>\n",
       "            </tr>\n",
       "            <tr>\n",
       "                        <th id=\"T_037cb308_b0b0_11e9_8d44_02420a0000cdlevel0_row12\" class=\"row_heading level0 row12\" >kitchen_area</th>\n",
       "                        <td id=\"T_037cb308_b0b0_11e9_8d44_02420a0000cdrow12_col0\" class=\"data row12 col0\" >0.107164</td>\n",
       "                        <td id=\"T_037cb308_b0b0_11e9_8d44_02420a0000cdrow12_col1\" class=\"data row12 col1\" >0.441119</td>\n",
       "                        <td id=\"T_037cb308_b0b0_11e9_8d44_02420a0000cdrow12_col2\" class=\"data row12 col2\" >0.571149</td>\n",
       "                        <td id=\"T_037cb308_b0b0_11e9_8d44_02420a0000cdrow12_col3\" class=\"data row12 col3\" >0.2566</td>\n",
       "                        <td id=\"T_037cb308_b0b0_11e9_8d44_02420a0000cdrow12_col4\" class=\"data row12 col4\" >0.331222</td>\n",
       "                        <td id=\"T_037cb308_b0b0_11e9_8d44_02420a0000cdrow12_col5\" class=\"data row12 col5\" >0.152521</td>\n",
       "                        <td id=\"T_037cb308_b0b0_11e9_8d44_02420a0000cdrow12_col6\" class=\"data row12 col6\" >0.406908</td>\n",
       "                        <td id=\"T_037cb308_b0b0_11e9_8d44_02420a0000cdrow12_col7\" class=\"data row12 col7\" >0.126797</td>\n",
       "                        <td id=\"T_037cb308_b0b0_11e9_8d44_02420a0000cdrow12_col8\" class=\"data row12 col8\" >0.0389968</td>\n",
       "                        <td id=\"T_037cb308_b0b0_11e9_8d44_02420a0000cdrow12_col9\" class=\"data row12 col9\" >-0.0140237</td>\n",
       "                        <td id=\"T_037cb308_b0b0_11e9_8d44_02420a0000cdrow12_col10\" class=\"data row12 col10\" >0.571149</td>\n",
       "                        <td id=\"T_037cb308_b0b0_11e9_8d44_02420a0000cdrow12_col11\" class=\"data row12 col11\" >-0.0106447</td>\n",
       "                        <td id=\"T_037cb308_b0b0_11e9_8d44_02420a0000cdrow12_col12\" class=\"data row12 col12\" >1</td>\n",
       "                        <td id=\"T_037cb308_b0b0_11e9_8d44_02420a0000cdrow12_col13\" class=\"data row12 col13\" >0.0511324</td>\n",
       "                        <td id=\"T_037cb308_b0b0_11e9_8d44_02420a0000cdrow12_col14\" class=\"data row12 col14\" >0.00908836</td>\n",
       "                        <td id=\"T_037cb308_b0b0_11e9_8d44_02420a0000cdrow12_col15\" class=\"data row12 col15\" >-0.182074</td>\n",
       "                        <td id=\"T_037cb308_b0b0_11e9_8d44_02420a0000cdrow12_col16\" class=\"data row12 col16\" >0.114914</td>\n",
       "                        <td id=\"T_037cb308_b0b0_11e9_8d44_02420a0000cdrow12_col17\" class=\"data row12 col17\" >0.0257373</td>\n",
       "                        <td id=\"T_037cb308_b0b0_11e9_8d44_02420a0000cdrow12_col18\" class=\"data row12 col18\" >0.169413</td>\n",
       "                        <td id=\"T_037cb308_b0b0_11e9_8d44_02420a0000cdrow12_col19\" class=\"data row12 col19\" >-0.099636</td>\n",
       "                        <td id=\"T_037cb308_b0b0_11e9_8d44_02420a0000cdrow12_col20\" class=\"data row12 col20\" >0.0691891</td>\n",
       "                        <td id=\"T_037cb308_b0b0_11e9_8d44_02420a0000cdrow12_col21\" class=\"data row12 col21\" >0.362414</td>\n",
       "                        <td id=\"T_037cb308_b0b0_11e9_8d44_02420a0000cdrow12_col22\" class=\"data row12 col22\" >-0.0104395</td>\n",
       "                        <td id=\"T_037cb308_b0b0_11e9_8d44_02420a0000cdrow12_col23\" class=\"data row12 col23\" >0.00334557</td>\n",
       "                        <td id=\"T_037cb308_b0b0_11e9_8d44_02420a0000cdrow12_col24\" class=\"data row12 col24\" >-0.0533163</td>\n",
       "                        <td id=\"T_037cb308_b0b0_11e9_8d44_02420a0000cdrow12_col25\" class=\"data row12 col25\" >-0.317898</td>\n",
       "                        <td id=\"T_037cb308_b0b0_11e9_8d44_02420a0000cdrow12_col26\" class=\"data row12 col26\" >0.387128</td>\n",
       "                        <td id=\"T_037cb308_b0b0_11e9_8d44_02420a0000cdrow12_col27\" class=\"data row12 col27\" >-0.0537301</td>\n",
       "            </tr>\n",
       "            <tr>\n",
       "                        <th id=\"T_037cb308_b0b0_11e9_8d44_02420a0000cdlevel0_row13\" class=\"row_heading level0 row13\" >balcony</th>\n",
       "                        <td id=\"T_037cb308_b0b0_11e9_8d44_02420a0000cdrow13_col0\" class=\"data row13 col0\" >0.0854157</td>\n",
       "                        <td id=\"T_037cb308_b0b0_11e9_8d44_02420a0000cdrow13_col1\" class=\"data row13 col1\" >0.0157391</td>\n",
       "                        <td id=\"T_037cb308_b0b0_11e9_8d44_02420a0000cdrow13_col2\" class=\"data row13 col2\" >0.02321</td>\n",
       "                        <td id=\"T_037cb308_b0b0_11e9_8d44_02420a0000cdrow13_col3\" class=\"data row13 col3\" >0.0137412</td>\n",
       "                        <td id=\"T_037cb308_b0b0_11e9_8d44_02420a0000cdrow13_col4\" class=\"data row13 col4\" >-0.0466965</td>\n",
       "                        <td id=\"T_037cb308_b0b0_11e9_8d44_02420a0000cdrow13_col5\" class=\"data row13 col5\" >0.141189</td>\n",
       "                        <td id=\"T_037cb308_b0b0_11e9_8d44_02420a0000cdrow13_col6\" class=\"data row13 col6\" >0.00608665</td>\n",
       "                        <td id=\"T_037cb308_b0b0_11e9_8d44_02420a0000cdrow13_col7\" class=\"data row13 col7\" >0.129503</td>\n",
       "                        <td id=\"T_037cb308_b0b0_11e9_8d44_02420a0000cdrow13_col8\" class=\"data row13 col8\" >0.0338294</td>\n",
       "                        <td id=\"T_037cb308_b0b0_11e9_8d44_02420a0000cdrow13_col9\" class=\"data row13 col9\" >0.0240621</td>\n",
       "                        <td id=\"T_037cb308_b0b0_11e9_8d44_02420a0000cdrow13_col10\" class=\"data row13 col10\" >0.02321</td>\n",
       "                        <td id=\"T_037cb308_b0b0_11e9_8d44_02420a0000cdrow13_col11\" class=\"data row13 col11\" >0.0183537</td>\n",
       "                        <td id=\"T_037cb308_b0b0_11e9_8d44_02420a0000cdrow13_col12\" class=\"data row13 col12\" >0.0511324</td>\n",
       "                        <td id=\"T_037cb308_b0b0_11e9_8d44_02420a0000cdrow13_col13\" class=\"data row13 col13\" >1</td>\n",
       "                        <td id=\"T_037cb308_b0b0_11e9_8d44_02420a0000cdrow13_col14\" class=\"data row13 col14\" >0.0513945</td>\n",
       "                        <td id=\"T_037cb308_b0b0_11e9_8d44_02420a0000cdrow13_col15\" class=\"data row13 col15\" >0.0455514</td>\n",
       "                        <td id=\"T_037cb308_b0b0_11e9_8d44_02420a0000cdrow13_col16\" class=\"data row13 col16\" >-0.0623365</td>\n",
       "                        <td id=\"T_037cb308_b0b0_11e9_8d44_02420a0000cdrow13_col17\" class=\"data row13 col17\" >0.0416227</td>\n",
       "                        <td id=\"T_037cb308_b0b0_11e9_8d44_02420a0000cdrow13_col18\" class=\"data row13 col18\" >-0.0322407</td>\n",
       "                        <td id=\"T_037cb308_b0b0_11e9_8d44_02420a0000cdrow13_col19\" class=\"data row13 col19\" >0.0139477</td>\n",
       "                        <td id=\"T_037cb308_b0b0_11e9_8d44_02420a0000cdrow13_col20\" class=\"data row13 col20\" >-0.0490276</td>\n",
       "                        <td id=\"T_037cb308_b0b0_11e9_8d44_02420a0000cdrow13_col21\" class=\"data row13 col21\" >0.0382925</td>\n",
       "                        <td id=\"T_037cb308_b0b0_11e9_8d44_02420a0000cdrow13_col22\" class=\"data row13 col22\" >-0.00189046</td>\n",
       "                        <td id=\"T_037cb308_b0b0_11e9_8d44_02420a0000cdrow13_col23\" class=\"data row13 col23\" >0.0351404</td>\n",
       "                        <td id=\"T_037cb308_b0b0_11e9_8d44_02420a0000cdrow13_col24\" class=\"data row13 col24\" >0.232571</td>\n",
       "                        <td id=\"T_037cb308_b0b0_11e9_8d44_02420a0000cdrow13_col25\" class=\"data row13 col25\" >-0.0458067</td>\n",
       "                        <td id=\"T_037cb308_b0b0_11e9_8d44_02420a0000cdrow13_col26\" class=\"data row13 col26\" >0.0144344</td>\n",
       "                        <td id=\"T_037cb308_b0b0_11e9_8d44_02420a0000cdrow13_col27\" class=\"data row13 col27\" >0.00705482</td>\n",
       "            </tr>\n",
       "            <tr>\n",
       "                        <th id=\"T_037cb308_b0b0_11e9_8d44_02420a0000cdlevel0_row14\" class=\"row_heading level0 row14\" >airports_nearest</th>\n",
       "                        <td id=\"T_037cb308_b0b0_11e9_8d44_02420a0000cdrow14_col0\" class=\"data row14 col0\" >-0.00280026</td>\n",
       "                        <td id=\"T_037cb308_b0b0_11e9_8d44_02420a0000cdrow14_col1\" class=\"data row14 col1\" >-0.0260629</td>\n",
       "                        <td id=\"T_037cb308_b0b0_11e9_8d44_02420a0000cdrow14_col2\" class=\"data row14 col2\" >-0.0300546</td>\n",
       "                        <td id=\"T_037cb308_b0b0_11e9_8d44_02420a0000cdrow14_col3\" class=\"data row14 col3\" >-0.0608911</td>\n",
       "                        <td id=\"T_037cb308_b0b0_11e9_8d44_02420a0000cdrow14_col4\" class=\"data row14 col4\" >-0.0851354</td>\n",
       "                        <td id=\"T_037cb308_b0b0_11e9_8d44_02420a0000cdrow14_col5\" class=\"data row14 col5\" >0.108526</td>\n",
       "                        <td id=\"T_037cb308_b0b0_11e9_8d44_02420a0000cdrow14_col6\" class=\"data row14 col6\" >-0.05708</td>\n",
       "                        <td id=\"T_037cb308_b0b0_11e9_8d44_02420a0000cdrow14_col7\" class=\"data row14 col7\" >0.0728436</td>\n",
       "                        <td id=\"T_037cb308_b0b0_11e9_8d44_02420a0000cdrow14_col8\" class=\"data row14 col8\" >0.0165208</td>\n",
       "                        <td id=\"T_037cb308_b0b0_11e9_8d44_02420a0000cdrow14_col9\" class=\"data row14 col9\" >-0.0216493</td>\n",
       "                        <td id=\"T_037cb308_b0b0_11e9_8d44_02420a0000cdrow14_col10\" class=\"data row14 col10\" >-0.0300546</td>\n",
       "                        <td id=\"T_037cb308_b0b0_11e9_8d44_02420a0000cdrow14_col11\" class=\"data row14 col11\" >-0.013601</td>\n",
       "                        <td id=\"T_037cb308_b0b0_11e9_8d44_02420a0000cdrow14_col12\" class=\"data row14 col12\" >0.00908836</td>\n",
       "                        <td id=\"T_037cb308_b0b0_11e9_8d44_02420a0000cdrow14_col13\" class=\"data row14 col13\" >0.0513945</td>\n",
       "                        <td id=\"T_037cb308_b0b0_11e9_8d44_02420a0000cdrow14_col14\" class=\"data row14 col14\" >1</td>\n",
       "                        <td id=\"T_037cb308_b0b0_11e9_8d44_02420a0000cdrow14_col15\" class=\"data row14 col15\" >0.271667</td>\n",
       "                        <td id=\"T_037cb308_b0b0_11e9_8d44_02420a0000cdrow14_col16\" class=\"data row14 col16\" >0.00115974</td>\n",
       "                        <td id=\"T_037cb308_b0b0_11e9_8d44_02420a0000cdrow14_col17\" class=\"data row14 col17\" >-0.0711355</td>\n",
       "                        <td id=\"T_037cb308_b0b0_11e9_8d44_02420a0000cdrow14_col18\" class=\"data row14 col18\" >-0.0504194</td>\n",
       "                        <td id=\"T_037cb308_b0b0_11e9_8d44_02420a0000cdrow14_col19\" class=\"data row14 col19\" >0.0150692</td>\n",
       "                        <td id=\"T_037cb308_b0b0_11e9_8d44_02420a0000cdrow14_col20\" class=\"data row14 col20\" >-0.0142583</td>\n",
       "                        <td id=\"T_037cb308_b0b0_11e9_8d44_02420a0000cdrow14_col21\" class=\"data row14 col21\" >-0.0389934</td>\n",
       "                        <td id=\"T_037cb308_b0b0_11e9_8d44_02420a0000cdrow14_col22\" class=\"data row14 col22\" >0.00180083</td>\n",
       "                        <td id=\"T_037cb308_b0b0_11e9_8d44_02420a0000cdrow14_col23\" class=\"data row14 col23\" >0.00558242</td>\n",
       "                        <td id=\"T_037cb308_b0b0_11e9_8d44_02420a0000cdrow14_col24\" class=\"data row14 col24\" >0.00871974</td>\n",
       "                        <td id=\"T_037cb308_b0b0_11e9_8d44_02420a0000cdrow14_col25\" class=\"data row14 col25\" >-0.0915758</td>\n",
       "                        <td id=\"T_037cb308_b0b0_11e9_8d44_02420a0000cdrow14_col26\" class=\"data row14 col26\" >0.0395791</td>\n",
       "                        <td id=\"T_037cb308_b0b0_11e9_8d44_02420a0000cdrow14_col27\" class=\"data row14 col27\" >0.0623721</td>\n",
       "            </tr>\n",
       "            <tr>\n",
       "                        <th id=\"T_037cb308_b0b0_11e9_8d44_02420a0000cdlevel0_row15\" class=\"row_heading level0 row15\" >cityCenters_nearest</th>\n",
       "                        <td id=\"T_037cb308_b0b0_11e9_8d44_02420a0000cdrow15_col0\" class=\"data row15 col0\" >-0.0479096</td>\n",
       "                        <td id=\"T_037cb308_b0b0_11e9_8d44_02420a0000cdrow15_col1\" class=\"data row15 col1\" >-0.20625</td>\n",
       "                        <td id=\"T_037cb308_b0b0_11e9_8d44_02420a0000cdrow15_col2\" class=\"data row15 col2\" >-0.230937</td>\n",
       "                        <td id=\"T_037cb308_b0b0_11e9_8d44_02420a0000cdrow15_col3\" class=\"data row15 col3\" >-0.184785</td>\n",
       "                        <td id=\"T_037cb308_b0b0_11e9_8d44_02420a0000cdrow15_col4\" class=\"data row15 col4\" >-0.307304</td>\n",
       "                        <td id=\"T_037cb308_b0b0_11e9_8d44_02420a0000cdrow15_col5\" class=\"data row15 col5\" >0.0197526</td>\n",
       "                        <td id=\"T_037cb308_b0b0_11e9_8d44_02420a0000cdrow15_col6\" class=\"data row15 col6\" >-0.226212</td>\n",
       "                        <td id=\"T_037cb308_b0b0_11e9_8d44_02420a0000cdrow15_col7\" class=\"data row15 col7\" >0.00900292</td>\n",
       "                        <td id=\"T_037cb308_b0b0_11e9_8d44_02420a0000cdrow15_col8\" class=\"data row15 col8\" >0.00377204</td>\n",
       "                        <td id=\"T_037cb308_b0b0_11e9_8d44_02420a0000cdrow15_col9\" class=\"data row15 col9\" >-0.00679271</td>\n",
       "                        <td id=\"T_037cb308_b0b0_11e9_8d44_02420a0000cdrow15_col10\" class=\"data row15 col10\" >-0.230937</td>\n",
       "                        <td id=\"T_037cb308_b0b0_11e9_8d44_02420a0000cdrow15_col11\" class=\"data row15 col11\" >-0.00417731</td>\n",
       "                        <td id=\"T_037cb308_b0b0_11e9_8d44_02420a0000cdrow15_col12\" class=\"data row15 col12\" >-0.182074</td>\n",
       "                        <td id=\"T_037cb308_b0b0_11e9_8d44_02420a0000cdrow15_col13\" class=\"data row15 col13\" >0.0455514</td>\n",
       "                        <td id=\"T_037cb308_b0b0_11e9_8d44_02420a0000cdrow15_col14\" class=\"data row15 col14\" >0.271667</td>\n",
       "                        <td id=\"T_037cb308_b0b0_11e9_8d44_02420a0000cdrow15_col15\" class=\"data row15 col15\" >1</td>\n",
       "                        <td id=\"T_037cb308_b0b0_11e9_8d44_02420a0000cdrow15_col16\" class=\"data row15 col16\" >-0.162407</td>\n",
       "                        <td id=\"T_037cb308_b0b0_11e9_8d44_02420a0000cdrow15_col17\" class=\"data row15 col17\" >-0.0396117</td>\n",
       "                        <td id=\"T_037cb308_b0b0_11e9_8d44_02420a0000cdrow15_col18\" class=\"data row15 col18\" >-0.0747677</td>\n",
       "                        <td id=\"T_037cb308_b0b0_11e9_8d44_02420a0000cdrow15_col19\" class=\"data row15 col19\" >0.0302735</td>\n",
       "                        <td id=\"T_037cb308_b0b0_11e9_8d44_02420a0000cdrow15_col20\" class=\"data row15 col20\" >-0.0453345</td>\n",
       "                        <td id=\"T_037cb308_b0b0_11e9_8d44_02420a0000cdrow15_col21\" class=\"data row15 col21\" >-0.317371</td>\n",
       "                        <td id=\"T_037cb308_b0b0_11e9_8d44_02420a0000cdrow15_col22\" class=\"data row15 col22\" >0.00954715</td>\n",
       "                        <td id=\"T_037cb308_b0b0_11e9_8d44_02420a0000cdrow15_col23\" class=\"data row15 col23\" >-0.00957603</td>\n",
       "                        <td id=\"T_037cb308_b0b0_11e9_8d44_02420a0000cdrow15_col24\" class=\"data row15 col24\" >0.0321628</td>\n",
       "                        <td id=\"T_037cb308_b0b0_11e9_8d44_02420a0000cdrow15_col25\" class=\"data row15 col25\" >-0.0258097</td>\n",
       "                        <td id=\"T_037cb308_b0b0_11e9_8d44_02420a0000cdrow15_col26\" class=\"data row15 col26\" >0.0312212</td>\n",
       "                        <td id=\"T_037cb308_b0b0_11e9_8d44_02420a0000cdrow15_col27\" class=\"data row15 col27\" >0.251075</td>\n",
       "            </tr>\n",
       "            <tr>\n",
       "                        <th id=\"T_037cb308_b0b0_11e9_8d44_02420a0000cdlevel0_row16\" class=\"row_heading level0 row16\" >parks_around3000</th>\n",
       "                        <td id=\"T_037cb308_b0b0_11e9_8d44_02420a0000cdrow16_col0\" class=\"data row16 col0\" >0.0373913</td>\n",
       "                        <td id=\"T_037cb308_b0b0_11e9_8d44_02420a0000cdrow16_col1\" class=\"data row16 col1\" >0.198386</td>\n",
       "                        <td id=\"T_037cb308_b0b0_11e9_8d44_02420a0000cdrow16_col2\" class=\"data row16 col2\" >0.201367</td>\n",
       "                        <td id=\"T_037cb308_b0b0_11e9_8d44_02420a0000cdrow16_col3\" class=\"data row16 col3\" >0.158225</td>\n",
       "                        <td id=\"T_037cb308_b0b0_11e9_8d44_02420a0000cdrow16_col4\" class=\"data row16 col4\" >0.252834</td>\n",
       "                        <td id=\"T_037cb308_b0b0_11e9_8d44_02420a0000cdrow16_col5\" class=\"data row16 col5\" >-0.158894</td>\n",
       "                        <td id=\"T_037cb308_b0b0_11e9_8d44_02420a0000cdrow16_col6\" class=\"data row16 col6\" >0.209348</td>\n",
       "                        <td id=\"T_037cb308_b0b0_11e9_8d44_02420a0000cdrow16_col7\" class=\"data row16 col7\" >-0.105217</td>\n",
       "                        <td id=\"T_037cb308_b0b0_11e9_8d44_02420a0000cdrow16_col8\" class=\"data row16 col8\" >0.0216176</td>\n",
       "                        <td id=\"T_037cb308_b0b0_11e9_8d44_02420a0000cdrow16_col9\" class=\"data row16 col9\" >-0.0320716</td>\n",
       "                        <td id=\"T_037cb308_b0b0_11e9_8d44_02420a0000cdrow16_col10\" class=\"data row16 col10\" >0.201367</td>\n",
       "                        <td id=\"T_037cb308_b0b0_11e9_8d44_02420a0000cdrow16_col11\" class=\"data row16 col11\" >-0.0163859</td>\n",
       "                        <td id=\"T_037cb308_b0b0_11e9_8d44_02420a0000cdrow16_col12\" class=\"data row16 col12\" >0.114914</td>\n",
       "                        <td id=\"T_037cb308_b0b0_11e9_8d44_02420a0000cdrow16_col13\" class=\"data row16 col13\" >-0.0623365</td>\n",
       "                        <td id=\"T_037cb308_b0b0_11e9_8d44_02420a0000cdrow16_col14\" class=\"data row16 col14\" >0.00115974</td>\n",
       "                        <td id=\"T_037cb308_b0b0_11e9_8d44_02420a0000cdrow16_col15\" class=\"data row16 col15\" >-0.162407</td>\n",
       "                        <td id=\"T_037cb308_b0b0_11e9_8d44_02420a0000cdrow16_col16\" class=\"data row16 col16\" >1</td>\n",
       "                        <td id=\"T_037cb308_b0b0_11e9_8d44_02420a0000cdrow16_col17\" class=\"data row16 col17\" >-0.25946</td>\n",
       "                        <td id=\"T_037cb308_b0b0_11e9_8d44_02420a0000cdrow16_col18\" class=\"data row16 col18\" >0.393005</td>\n",
       "                        <td id=\"T_037cb308_b0b0_11e9_8d44_02420a0000cdrow16_col19\" class=\"data row16 col19\" >-0.16829</td>\n",
       "                        <td id=\"T_037cb308_b0b0_11e9_8d44_02420a0000cdrow16_col20\" class=\"data row16 col20\" >0.0447916</td>\n",
       "                        <td id=\"T_037cb308_b0b0_11e9_8d44_02420a0000cdrow16_col21\" class=\"data row16 col21\" >0.292125</td>\n",
       "                        <td id=\"T_037cb308_b0b0_11e9_8d44_02420a0000cdrow16_col22\" class=\"data row16 col22\" >-0.011168</td>\n",
       "                        <td id=\"T_037cb308_b0b0_11e9_8d44_02420a0000cdrow16_col23\" class=\"data row16 col23\" >-0.00304458</td>\n",
       "                        <td id=\"T_037cb308_b0b0_11e9_8d44_02420a0000cdrow16_col24\" class=\"data row16 col24\" >-0.0486596</td>\n",
       "                        <td id=\"T_037cb308_b0b0_11e9_8d44_02420a0000cdrow16_col25\" class=\"data row16 col25\" >0.0554314</td>\n",
       "                        <td id=\"T_037cb308_b0b0_11e9_8d44_02420a0000cdrow16_col26\" class=\"data row16 col26\" >-0.101125</td>\n",
       "                        <td id=\"T_037cb308_b0b0_11e9_8d44_02420a0000cdrow16_col27\" class=\"data row16 col27\" >-0.260552</td>\n",
       "            </tr>\n",
       "            <tr>\n",
       "                        <th id=\"T_037cb308_b0b0_11e9_8d44_02420a0000cdlevel0_row17\" class=\"row_heading level0 row17\" >parks_nearest</th>\n",
       "                        <td id=\"T_037cb308_b0b0_11e9_8d44_02420a0000cdrow17_col0\" class=\"data row17 col0\" >-0.00615091</td>\n",
       "                        <td id=\"T_037cb308_b0b0_11e9_8d44_02420a0000cdrow17_col1\" class=\"data row17 col1\" >-0.0166219</td>\n",
       "                        <td id=\"T_037cb308_b0b0_11e9_8d44_02420a0000cdrow17_col2\" class=\"data row17 col2\" >-0.021386</td>\n",
       "                        <td id=\"T_037cb308_b0b0_11e9_8d44_02420a0000cdrow17_col3\" class=\"data row17 col3\" >-0.0540424</td>\n",
       "                        <td id=\"T_037cb308_b0b0_11e9_8d44_02420a0000cdrow17_col4\" class=\"data row17 col4\" >-0.0614459</td>\n",
       "                        <td id=\"T_037cb308_b0b0_11e9_8d44_02420a0000cdrow17_col5\" class=\"data row17 col5\" >0.0975829</td>\n",
       "                        <td id=\"T_037cb308_b0b0_11e9_8d44_02420a0000cdrow17_col6\" class=\"data row17 col6\" >-0.0539161</td>\n",
       "                        <td id=\"T_037cb308_b0b0_11e9_8d44_02420a0000cdrow17_col7\" class=\"data row17 col7\" >0.07295</td>\n",
       "                        <td id=\"T_037cb308_b0b0_11e9_8d44_02420a0000cdrow17_col8\" class=\"data row17 col8\" >-0.0335427</td>\n",
       "                        <td id=\"T_037cb308_b0b0_11e9_8d44_02420a0000cdrow17_col9\" class=\"data row17 col9\" >0.00692301</td>\n",
       "                        <td id=\"T_037cb308_b0b0_11e9_8d44_02420a0000cdrow17_col10\" class=\"data row17 col10\" >-0.021386</td>\n",
       "                        <td id=\"T_037cb308_b0b0_11e9_8d44_02420a0000cdrow17_col11\" class=\"data row17 col11\" >0.0106909</td>\n",
       "                        <td id=\"T_037cb308_b0b0_11e9_8d44_02420a0000cdrow17_col12\" class=\"data row17 col12\" >0.0257373</td>\n",
       "                        <td id=\"T_037cb308_b0b0_11e9_8d44_02420a0000cdrow17_col13\" class=\"data row17 col13\" >0.0416227</td>\n",
       "                        <td id=\"T_037cb308_b0b0_11e9_8d44_02420a0000cdrow17_col14\" class=\"data row17 col14\" >-0.0711355</td>\n",
       "                        <td id=\"T_037cb308_b0b0_11e9_8d44_02420a0000cdrow17_col15\" class=\"data row17 col15\" >-0.0396117</td>\n",
       "                        <td id=\"T_037cb308_b0b0_11e9_8d44_02420a0000cdrow17_col16\" class=\"data row17 col16\" >-0.25946</td>\n",
       "                        <td id=\"T_037cb308_b0b0_11e9_8d44_02420a0000cdrow17_col17\" class=\"data row17 col17\" >1</td>\n",
       "                        <td id=\"T_037cb308_b0b0_11e9_8d44_02420a0000cdrow17_col18\" class=\"data row17 col18\" >0.074918</td>\n",
       "                        <td id=\"T_037cb308_b0b0_11e9_8d44_02420a0000cdrow17_col19\" class=\"data row17 col19\" >0.00182067</td>\n",
       "                        <td id=\"T_037cb308_b0b0_11e9_8d44_02420a0000cdrow17_col20\" class=\"data row17 col20\" >0.0203088</td>\n",
       "                        <td id=\"T_037cb308_b0b0_11e9_8d44_02420a0000cdrow17_col21\" class=\"data row17 col21\" >0.00580427</td>\n",
       "                        <td id=\"T_037cb308_b0b0_11e9_8d44_02420a0000cdrow17_col22\" class=\"data row17 col22\" >-0.00699183</td>\n",
       "                        <td id=\"T_037cb308_b0b0_11e9_8d44_02420a0000cdrow17_col23\" class=\"data row17 col23\" >0.0206178</td>\n",
       "                        <td id=\"T_037cb308_b0b0_11e9_8d44_02420a0000cdrow17_col24\" class=\"data row17 col24\" >-0.0178062</td>\n",
       "                        <td id=\"T_037cb308_b0b0_11e9_8d44_02420a0000cdrow17_col25\" class=\"data row17 col25\" >-0.104876</td>\n",
       "                        <td id=\"T_037cb308_b0b0_11e9_8d44_02420a0000cdrow17_col26\" class=\"data row17 col26\" >0.0540605</td>\n",
       "                        <td id=\"T_037cb308_b0b0_11e9_8d44_02420a0000cdrow17_col27\" class=\"data row17 col27\" >0.0109838</td>\n",
       "            </tr>\n",
       "            <tr>\n",
       "                        <th id=\"T_037cb308_b0b0_11e9_8d44_02420a0000cdlevel0_row18\" class=\"row_heading level0 row18\" >ponds_around3000</th>\n",
       "                        <td id=\"T_037cb308_b0b0_11e9_8d44_02420a0000cdrow18_col0\" class=\"data row18 col0\" >0.0120146</td>\n",
       "                        <td id=\"T_037cb308_b0b0_11e9_8d44_02420a0000cdrow18_col1\" class=\"data row18 col1\" >0.209062</td>\n",
       "                        <td id=\"T_037cb308_b0b0_11e9_8d44_02420a0000cdrow18_col2\" class=\"data row18 col2\" >0.201056</td>\n",
       "                        <td id=\"T_037cb308_b0b0_11e9_8d44_02420a0000cdrow18_col3\" class=\"data row18 col3\" >0.121741</td>\n",
       "                        <td id=\"T_037cb308_b0b0_11e9_8d44_02420a0000cdrow18_col4\" class=\"data row18 col4\" >0.225007</td>\n",
       "                        <td id=\"T_037cb308_b0b0_11e9_8d44_02420a0000cdrow18_col5\" class=\"data row18 col5\" >-0.0486193</td>\n",
       "                        <td id=\"T_037cb308_b0b0_11e9_8d44_02420a0000cdrow18_col6\" class=\"data row18 col6\" >0.17933</td>\n",
       "                        <td id=\"T_037cb308_b0b0_11e9_8d44_02420a0000cdrow18_col7\" class=\"data row18 col7\" >-0.0296182</td>\n",
       "                        <td id=\"T_037cb308_b0b0_11e9_8d44_02420a0000cdrow18_col8\" class=\"data row18 col8\" >0.024453</td>\n",
       "                        <td id=\"T_037cb308_b0b0_11e9_8d44_02420a0000cdrow18_col9\" class=\"data row18 col9\" >-0.0092925</td>\n",
       "                        <td id=\"T_037cb308_b0b0_11e9_8d44_02420a0000cdrow18_col10\" class=\"data row18 col10\" >0.201056</td>\n",
       "                        <td id=\"T_037cb308_b0b0_11e9_8d44_02420a0000cdrow18_col11\" class=\"data row18 col11\" >-0.00410793</td>\n",
       "                        <td id=\"T_037cb308_b0b0_11e9_8d44_02420a0000cdrow18_col12\" class=\"data row18 col12\" >0.169413</td>\n",
       "                        <td id=\"T_037cb308_b0b0_11e9_8d44_02420a0000cdrow18_col13\" class=\"data row18 col13\" >-0.0322407</td>\n",
       "                        <td id=\"T_037cb308_b0b0_11e9_8d44_02420a0000cdrow18_col14\" class=\"data row18 col14\" >-0.0504194</td>\n",
       "                        <td id=\"T_037cb308_b0b0_11e9_8d44_02420a0000cdrow18_col15\" class=\"data row18 col15\" >-0.0747677</td>\n",
       "                        <td id=\"T_037cb308_b0b0_11e9_8d44_02420a0000cdrow18_col16\" class=\"data row18 col16\" >0.393005</td>\n",
       "                        <td id=\"T_037cb308_b0b0_11e9_8d44_02420a0000cdrow18_col17\" class=\"data row18 col17\" >0.074918</td>\n",
       "                        <td id=\"T_037cb308_b0b0_11e9_8d44_02420a0000cdrow18_col18\" class=\"data row18 col18\" >1</td>\n",
       "                        <td id=\"T_037cb308_b0b0_11e9_8d44_02420a0000cdrow18_col19\" class=\"data row18 col19\" >-0.342421</td>\n",
       "                        <td id=\"T_037cb308_b0b0_11e9_8d44_02420a0000cdrow18_col20\" class=\"data row18 col20\" >0.0561293</td>\n",
       "                        <td id=\"T_037cb308_b0b0_11e9_8d44_02420a0000cdrow18_col21\" class=\"data row18 col21\" >0.304922</td>\n",
       "                        <td id=\"T_037cb308_b0b0_11e9_8d44_02420a0000cdrow18_col22\" class=\"data row18 col22\" >-0.000844528</td>\n",
       "                        <td id=\"T_037cb308_b0b0_11e9_8d44_02420a0000cdrow18_col23\" class=\"data row18 col23\" >-0.00582239</td>\n",
       "                        <td id=\"T_037cb308_b0b0_11e9_8d44_02420a0000cdrow18_col24\" class=\"data row18 col24\" >-0.0486367</td>\n",
       "                        <td id=\"T_037cb308_b0b0_11e9_8d44_02420a0000cdrow18_col25\" class=\"data row18 col25\" >-0.0247591</td>\n",
       "                        <td id=\"T_037cb308_b0b0_11e9_8d44_02420a0000cdrow18_col26\" class=\"data row18 col26\" >-0.0342162</td>\n",
       "                        <td id=\"T_037cb308_b0b0_11e9_8d44_02420a0000cdrow18_col27\" class=\"data row18 col27\" >-0.243367</td>\n",
       "            </tr>\n",
       "            <tr>\n",
       "                        <th id=\"T_037cb308_b0b0_11e9_8d44_02420a0000cdlevel0_row19\" class=\"row_heading level0 row19\" >ponds_nearest</th>\n",
       "                        <td id=\"T_037cb308_b0b0_11e9_8d44_02420a0000cdrow19_col0\" class=\"data row19 col0\" >-0.00410198</td>\n",
       "                        <td id=\"T_037cb308_b0b0_11e9_8d44_02420a0000cdrow19_col1\" class=\"data row19 col1\" >-0.0855346</td>\n",
       "                        <td id=\"T_037cb308_b0b0_11e9_8d44_02420a0000cdrow19_col2\" class=\"data row19 col2\" >-0.0996175</td>\n",
       "                        <td id=\"T_037cb308_b0b0_11e9_8d44_02420a0000cdrow19_col3\" class=\"data row19 col3\" >-0.0591739</td>\n",
       "                        <td id=\"T_037cb308_b0b0_11e9_8d44_02420a0000cdrow19_col4\" class=\"data row19 col4\" >-0.11312</td>\n",
       "                        <td id=\"T_037cb308_b0b0_11e9_8d44_02420a0000cdrow19_col5\" class=\"data row19 col5\" >0.0387679</td>\n",
       "                        <td id=\"T_037cb308_b0b0_11e9_8d44_02420a0000cdrow19_col6\" class=\"data row19 col6\" >-0.0830641</td>\n",
       "                        <td id=\"T_037cb308_b0b0_11e9_8d44_02420a0000cdrow19_col7\" class=\"data row19 col7\" >0.0247312</td>\n",
       "                        <td id=\"T_037cb308_b0b0_11e9_8d44_02420a0000cdrow19_col8\" class=\"data row19 col8\" >0.00331673</td>\n",
       "                        <td id=\"T_037cb308_b0b0_11e9_8d44_02420a0000cdrow19_col9\" class=\"data row19 col9\" >0.00185867</td>\n",
       "                        <td id=\"T_037cb308_b0b0_11e9_8d44_02420a0000cdrow19_col10\" class=\"data row19 col10\" >-0.0996175</td>\n",
       "                        <td id=\"T_037cb308_b0b0_11e9_8d44_02420a0000cdrow19_col11\" class=\"data row19 col11\" >-0.00337506</td>\n",
       "                        <td id=\"T_037cb308_b0b0_11e9_8d44_02420a0000cdrow19_col12\" class=\"data row19 col12\" >-0.099636</td>\n",
       "                        <td id=\"T_037cb308_b0b0_11e9_8d44_02420a0000cdrow19_col13\" class=\"data row19 col13\" >0.0139477</td>\n",
       "                        <td id=\"T_037cb308_b0b0_11e9_8d44_02420a0000cdrow19_col14\" class=\"data row19 col14\" >0.0150692</td>\n",
       "                        <td id=\"T_037cb308_b0b0_11e9_8d44_02420a0000cdrow19_col15\" class=\"data row19 col15\" >0.0302735</td>\n",
       "                        <td id=\"T_037cb308_b0b0_11e9_8d44_02420a0000cdrow19_col16\" class=\"data row19 col16\" >-0.16829</td>\n",
       "                        <td id=\"T_037cb308_b0b0_11e9_8d44_02420a0000cdrow19_col17\" class=\"data row19 col17\" >0.00182067</td>\n",
       "                        <td id=\"T_037cb308_b0b0_11e9_8d44_02420a0000cdrow19_col18\" class=\"data row19 col18\" >-0.342421</td>\n",
       "                        <td id=\"T_037cb308_b0b0_11e9_8d44_02420a0000cdrow19_col19\" class=\"data row19 col19\" >1</td>\n",
       "                        <td id=\"T_037cb308_b0b0_11e9_8d44_02420a0000cdrow19_col20\" class=\"data row19 col20\" >-0.063785</td>\n",
       "                        <td id=\"T_037cb308_b0b0_11e9_8d44_02420a0000cdrow19_col21\" class=\"data row19 col21\" >-0.105753</td>\n",
       "                        <td id=\"T_037cb308_b0b0_11e9_8d44_02420a0000cdrow19_col22\" class=\"data row19 col22\" >-0.00334784</td>\n",
       "                        <td id=\"T_037cb308_b0b0_11e9_8d44_02420a0000cdrow19_col23\" class=\"data row19 col23\" >0.0127814</td>\n",
       "                        <td id=\"T_037cb308_b0b0_11e9_8d44_02420a0000cdrow19_col24\" class=\"data row19 col24\" >0.0376807</td>\n",
       "                        <td id=\"T_037cb308_b0b0_11e9_8d44_02420a0000cdrow19_col25\" class=\"data row19 col25\" >0.0222826</td>\n",
       "                        <td id=\"T_037cb308_b0b0_11e9_8d44_02420a0000cdrow19_col26\" class=\"data row19 col26\" >-0.00769931</td>\n",
       "                        <td id=\"T_037cb308_b0b0_11e9_8d44_02420a0000cdrow19_col27\" class=\"data row19 col27\" >0.0449046</td>\n",
       "            </tr>\n",
       "            <tr>\n",
       "                        <th id=\"T_037cb308_b0b0_11e9_8d44_02420a0000cdlevel0_row20\" class=\"row_heading level0 row20\" >days_exposition</th>\n",
       "                        <td id=\"T_037cb308_b0b0_11e9_8d44_02420a0000cdrow20_col0\" class=\"data row20 col0\" >-0.0558857</td>\n",
       "                        <td id=\"T_037cb308_b0b0_11e9_8d44_02420a0000cdrow20_col1\" class=\"data row20 col1\" >0.053317</td>\n",
       "                        <td id=\"T_037cb308_b0b0_11e9_8d44_02420a0000cdrow20_col2\" class=\"data row20 col2\" >0.0969354</td>\n",
       "                        <td id=\"T_037cb308_b0b0_11e9_8d44_02420a0000cdrow20_col3\" class=\"data row20 col3\" >0.0792669</td>\n",
       "                        <td id=\"T_037cb308_b0b0_11e9_8d44_02420a0000cdrow20_col4\" class=\"data row20 col4\" >0.0763512</td>\n",
       "                        <td id=\"T_037cb308_b0b0_11e9_8d44_02420a0000cdrow20_col5\" class=\"data row20 col5\" >-0.0254773</td>\n",
       "                        <td id=\"T_037cb308_b0b0_11e9_8d44_02420a0000cdrow20_col6\" class=\"data row20 col6\" >0.0911391</td>\n",
       "                        <td id=\"T_037cb308_b0b0_11e9_8d44_02420a0000cdrow20_col7\" class=\"data row20 col7\" >-0.0211108</td>\n",
       "                        <td id=\"T_037cb308_b0b0_11e9_8d44_02420a0000cdrow20_col8\" class=\"data row20 col8\" >0.00859929</td>\n",
       "                        <td id=\"T_037cb308_b0b0_11e9_8d44_02420a0000cdrow20_col9\" class=\"data row20 col9\" >-0.0170796</td>\n",
       "                        <td id=\"T_037cb308_b0b0_11e9_8d44_02420a0000cdrow20_col10\" class=\"data row20 col10\" >0.0969354</td>\n",
       "                        <td id=\"T_037cb308_b0b0_11e9_8d44_02420a0000cdrow20_col11\" class=\"data row20 col11\" >-0.0170142</td>\n",
       "                        <td id=\"T_037cb308_b0b0_11e9_8d44_02420a0000cdrow20_col12\" class=\"data row20 col12\" >0.0691891</td>\n",
       "                        <td id=\"T_037cb308_b0b0_11e9_8d44_02420a0000cdrow20_col13\" class=\"data row20 col13\" >-0.0490276</td>\n",
       "                        <td id=\"T_037cb308_b0b0_11e9_8d44_02420a0000cdrow20_col14\" class=\"data row20 col14\" >-0.0142583</td>\n",
       "                        <td id=\"T_037cb308_b0b0_11e9_8d44_02420a0000cdrow20_col15\" class=\"data row20 col15\" >-0.0453345</td>\n",
       "                        <td id=\"T_037cb308_b0b0_11e9_8d44_02420a0000cdrow20_col16\" class=\"data row20 col16\" >0.0447916</td>\n",
       "                        <td id=\"T_037cb308_b0b0_11e9_8d44_02420a0000cdrow20_col17\" class=\"data row20 col17\" >0.0203088</td>\n",
       "                        <td id=\"T_037cb308_b0b0_11e9_8d44_02420a0000cdrow20_col18\" class=\"data row20 col18\" >0.0561293</td>\n",
       "                        <td id=\"T_037cb308_b0b0_11e9_8d44_02420a0000cdrow20_col19\" class=\"data row20 col19\" >-0.063785</td>\n",
       "                        <td id=\"T_037cb308_b0b0_11e9_8d44_02420a0000cdrow20_col20\" class=\"data row20 col20\" >1</td>\n",
       "                        <td id=\"T_037cb308_b0b0_11e9_8d44_02420a0000cdrow20_col21\" class=\"data row20 col21\" >0.0198209</td>\n",
       "                        <td id=\"T_037cb308_b0b0_11e9_8d44_02420a0000cdrow20_col22\" class=\"data row20 col22\" >-0.0154392</td>\n",
       "                        <td id=\"T_037cb308_b0b0_11e9_8d44_02420a0000cdrow20_col23\" class=\"data row20 col23\" >0.0119244</td>\n",
       "                        <td id=\"T_037cb308_b0b0_11e9_8d44_02420a0000cdrow20_col24\" class=\"data row20 col24\" >-0.614855</td>\n",
       "                        <td id=\"T_037cb308_b0b0_11e9_8d44_02420a0000cdrow20_col25\" class=\"data row20 col25\" >-0.0117926</td>\n",
       "                        <td id=\"T_037cb308_b0b0_11e9_8d44_02420a0000cdrow20_col26\" class=\"data row20 col26\" >-0.0329018</td>\n",
       "                        <td id=\"T_037cb308_b0b0_11e9_8d44_02420a0000cdrow20_col27\" class=\"data row20 col27\" >-0.00934349</td>\n",
       "            </tr>\n",
       "            <tr>\n",
       "                        <th id=\"T_037cb308_b0b0_11e9_8d44_02420a0000cdlevel0_row21\" class=\"row_heading level0 row21\" >m2_cost</th>\n",
       "                        <td id=\"T_037cb308_b0b0_11e9_8d44_02420a0000cdrow21_col0\" class=\"data row21 col0\" >0.133411</td>\n",
       "                        <td id=\"T_037cb308_b0b0_11e9_8d44_02420a0000cdrow21_col1\" class=\"data row21 col1\" >0.736754</td>\n",
       "                        <td id=\"T_037cb308_b0b0_11e9_8d44_02420a0000cdrow21_col2\" class=\"data row21 col2\" >0.302464</td>\n",
       "                        <td id=\"T_037cb308_b0b0_11e9_8d44_02420a0000cdrow21_col3\" class=\"data row21 col3\" >0.0558213</td>\n",
       "                        <td id=\"T_037cb308_b0b0_11e9_8d44_02420a0000cdrow21_col4\" class=\"data row21 col4\" >0.291012</td>\n",
       "                        <td id=\"T_037cb308_b0b0_11e9_8d44_02420a0000cdrow21_col5\" class=\"data row21 col5\" >0.148388</td>\n",
       "                        <td id=\"T_037cb308_b0b0_11e9_8d44_02420a0000cdrow21_col6\" class=\"data row21 col6\" >0.212777</td>\n",
       "                        <td id=\"T_037cb308_b0b0_11e9_8d44_02420a0000cdrow21_col7\" class=\"data row21 col7\" >0.129346</td>\n",
       "                        <td id=\"T_037cb308_b0b0_11e9_8d44_02420a0000cdrow21_col8\" class=\"data row21 col8\" >0.0447708</td>\n",
       "                        <td id=\"T_037cb308_b0b0_11e9_8d44_02420a0000cdrow21_col9\" class=\"data row21 col9\" >0.0155197</td>\n",
       "                        <td id=\"T_037cb308_b0b0_11e9_8d44_02420a0000cdrow21_col10\" class=\"data row21 col10\" >0.302464</td>\n",
       "                        <td id=\"T_037cb308_b0b0_11e9_8d44_02420a0000cdrow21_col11\" class=\"data row21 col11\" >0.00828756</td>\n",
       "                        <td id=\"T_037cb308_b0b0_11e9_8d44_02420a0000cdrow21_col12\" class=\"data row21 col12\" >0.362414</td>\n",
       "                        <td id=\"T_037cb308_b0b0_11e9_8d44_02420a0000cdrow21_col13\" class=\"data row21 col13\" >0.0382925</td>\n",
       "                        <td id=\"T_037cb308_b0b0_11e9_8d44_02420a0000cdrow21_col14\" class=\"data row21 col14\" >-0.0389934</td>\n",
       "                        <td id=\"T_037cb308_b0b0_11e9_8d44_02420a0000cdrow21_col15\" class=\"data row21 col15\" >-0.317371</td>\n",
       "                        <td id=\"T_037cb308_b0b0_11e9_8d44_02420a0000cdrow21_col16\" class=\"data row21 col16\" >0.292125</td>\n",
       "                        <td id=\"T_037cb308_b0b0_11e9_8d44_02420a0000cdrow21_col17\" class=\"data row21 col17\" >0.00580427</td>\n",
       "                        <td id=\"T_037cb308_b0b0_11e9_8d44_02420a0000cdrow21_col18\" class=\"data row21 col18\" >0.304922</td>\n",
       "                        <td id=\"T_037cb308_b0b0_11e9_8d44_02420a0000cdrow21_col19\" class=\"data row21 col19\" >-0.105753</td>\n",
       "                        <td id=\"T_037cb308_b0b0_11e9_8d44_02420a0000cdrow21_col20\" class=\"data row21 col20\" >0.0198209</td>\n",
       "                        <td id=\"T_037cb308_b0b0_11e9_8d44_02420a0000cdrow21_col21\" class=\"data row21 col21\" >1</td>\n",
       "                        <td id=\"T_037cb308_b0b0_11e9_8d44_02420a0000cdrow21_col22\" class=\"data row21 col22\" >-0.00735959</td>\n",
       "                        <td id=\"T_037cb308_b0b0_11e9_8d44_02420a0000cdrow21_col23\" class=\"data row21 col23\" >-0.00198349</td>\n",
       "                        <td id=\"T_037cb308_b0b0_11e9_8d44_02420a0000cdrow21_col24\" class=\"data row21 col24\" >0.00845312</td>\n",
       "                        <td id=\"T_037cb308_b0b0_11e9_8d44_02420a0000cdrow21_col25\" class=\"data row21 col25\" >-0.172739</td>\n",
       "                        <td id=\"T_037cb308_b0b0_11e9_8d44_02420a0000cdrow21_col26\" class=\"data row21 col26\" >0.122427</td>\n",
       "                        <td id=\"T_037cb308_b0b0_11e9_8d44_02420a0000cdrow21_col27\" class=\"data row21 col27\" >-0.254685</td>\n",
       "            </tr>\n",
       "            <tr>\n",
       "                        <th id=\"T_037cb308_b0b0_11e9_8d44_02420a0000cdlevel0_row22\" class=\"row_heading level0 row22\" >week_day</th>\n",
       "                        <td id=\"T_037cb308_b0b0_11e9_8d44_02420a0000cdrow22_col0\" class=\"data row22 col0\" >-0.00925405</td>\n",
       "                        <td id=\"T_037cb308_b0b0_11e9_8d44_02420a0000cdrow22_col1\" class=\"data row22 col1\" >0.00123714</td>\n",
       "                        <td id=\"T_037cb308_b0b0_11e9_8d44_02420a0000cdrow22_col2\" class=\"data row22 col2\" >-0.00576446</td>\n",
       "                        <td id=\"T_037cb308_b0b0_11e9_8d44_02420a0000cdrow22_col3\" class=\"data row22 col3\" >-0.00510273</td>\n",
       "                        <td id=\"T_037cb308_b0b0_11e9_8d44_02420a0000cdrow22_col4\" class=\"data row22 col4\" >-0.0209971</td>\n",
       "                        <td id=\"T_037cb308_b0b0_11e9_8d44_02420a0000cdrow22_col5\" class=\"data row22 col5\" >0.0130703</td>\n",
       "                        <td id=\"T_037cb308_b0b0_11e9_8d44_02420a0000cdrow22_col6\" class=\"data row22 col6\" >-0.00704831</td>\n",
       "                        <td id=\"T_037cb308_b0b0_11e9_8d44_02420a0000cdrow22_col7\" class=\"data row22 col7\" >0.0115919</td>\n",
       "                        <td id=\"T_037cb308_b0b0_11e9_8d44_02420a0000cdrow22_col8\" class=\"data row22 col8\" >-0.00947711</td>\n",
       "                        <td id=\"T_037cb308_b0b0_11e9_8d44_02420a0000cdrow22_col9\" class=\"data row22 col9\" >-0.000883305</td>\n",
       "                        <td id=\"T_037cb308_b0b0_11e9_8d44_02420a0000cdrow22_col10\" class=\"data row22 col10\" >-0.00576446</td>\n",
       "                        <td id=\"T_037cb308_b0b0_11e9_8d44_02420a0000cdrow22_col11\" class=\"data row22 col11\" >0.0111042</td>\n",
       "                        <td id=\"T_037cb308_b0b0_11e9_8d44_02420a0000cdrow22_col12\" class=\"data row22 col12\" >-0.0104395</td>\n",
       "                        <td id=\"T_037cb308_b0b0_11e9_8d44_02420a0000cdrow22_col13\" class=\"data row22 col13\" >-0.00189046</td>\n",
       "                        <td id=\"T_037cb308_b0b0_11e9_8d44_02420a0000cdrow22_col14\" class=\"data row22 col14\" >0.00180083</td>\n",
       "                        <td id=\"T_037cb308_b0b0_11e9_8d44_02420a0000cdrow22_col15\" class=\"data row22 col15\" >0.00954715</td>\n",
       "                        <td id=\"T_037cb308_b0b0_11e9_8d44_02420a0000cdrow22_col16\" class=\"data row22 col16\" >-0.011168</td>\n",
       "                        <td id=\"T_037cb308_b0b0_11e9_8d44_02420a0000cdrow22_col17\" class=\"data row22 col17\" >-0.00699183</td>\n",
       "                        <td id=\"T_037cb308_b0b0_11e9_8d44_02420a0000cdrow22_col18\" class=\"data row22 col18\" >-0.000844528</td>\n",
       "                        <td id=\"T_037cb308_b0b0_11e9_8d44_02420a0000cdrow22_col19\" class=\"data row22 col19\" >-0.00334784</td>\n",
       "                        <td id=\"T_037cb308_b0b0_11e9_8d44_02420a0000cdrow22_col20\" class=\"data row22 col20\" >-0.0154392</td>\n",
       "                        <td id=\"T_037cb308_b0b0_11e9_8d44_02420a0000cdrow22_col21\" class=\"data row22 col21\" >-0.00735959</td>\n",
       "                        <td id=\"T_037cb308_b0b0_11e9_8d44_02420a0000cdrow22_col22\" class=\"data row22 col22\" >1</td>\n",
       "                        <td id=\"T_037cb308_b0b0_11e9_8d44_02420a0000cdrow22_col23\" class=\"data row22 col23\" >0.0122068</td>\n",
       "                        <td id=\"T_037cb308_b0b0_11e9_8d44_02420a0000cdrow22_col24\" class=\"data row22 col24\" >-0.00398823</td>\n",
       "                        <td id=\"T_037cb308_b0b0_11e9_8d44_02420a0000cdrow22_col25\" class=\"data row22 col25\" >0.00422498</td>\n",
       "                        <td id=\"T_037cb308_b0b0_11e9_8d44_02420a0000cdrow22_col26\" class=\"data row22 col26\" >-0.00143976</td>\n",
       "                        <td id=\"T_037cb308_b0b0_11e9_8d44_02420a0000cdrow22_col27\" class=\"data row22 col27\" >0.00322338</td>\n",
       "            </tr>\n",
       "            <tr>\n",
       "                        <th id=\"T_037cb308_b0b0_11e9_8d44_02420a0000cdlevel0_row23\" class=\"row_heading level0 row23\" >month</th>\n",
       "                        <td id=\"T_037cb308_b0b0_11e9_8d44_02420a0000cdrow23_col0\" class=\"data row23 col0\" >0.00465003</td>\n",
       "                        <td id=\"T_037cb308_b0b0_11e9_8d44_02420a0000cdrow23_col1\" class=\"data row23 col1\" >0.00271913</td>\n",
       "                        <td id=\"T_037cb308_b0b0_11e9_8d44_02420a0000cdrow23_col2\" class=\"data row23 col2\" >0.00488869</td>\n",
       "                        <td id=\"T_037cb308_b0b0_11e9_8d44_02420a0000cdrow23_col3\" class=\"data row23 col3\" >-0.00424612</td>\n",
       "                        <td id=\"T_037cb308_b0b0_11e9_8d44_02420a0000cdrow23_col4\" class=\"data row23 col4\" >-0.0045951</td>\n",
       "                        <td id=\"T_037cb308_b0b0_11e9_8d44_02420a0000cdrow23_col5\" class=\"data row23 col5\" >0.0166808</td>\n",
       "                        <td id=\"T_037cb308_b0b0_11e9_8d44_02420a0000cdrow23_col6\" class=\"data row23 col6\" >-0.000591751</td>\n",
       "                        <td id=\"T_037cb308_b0b0_11e9_8d44_02420a0000cdrow23_col7\" class=\"data row23 col7\" >0.0203465</td>\n",
       "                        <td id=\"T_037cb308_b0b0_11e9_8d44_02420a0000cdrow23_col8\" class=\"data row23 col8\" >0.00237153</td>\n",
       "                        <td id=\"T_037cb308_b0b0_11e9_8d44_02420a0000cdrow23_col9\" class=\"data row23 col9\" >-0.000683676</td>\n",
       "                        <td id=\"T_037cb308_b0b0_11e9_8d44_02420a0000cdrow23_col10\" class=\"data row23 col10\" >0.00488869</td>\n",
       "                        <td id=\"T_037cb308_b0b0_11e9_8d44_02420a0000cdrow23_col11\" class=\"data row23 col11\" >0.0257957</td>\n",
       "                        <td id=\"T_037cb308_b0b0_11e9_8d44_02420a0000cdrow23_col12\" class=\"data row23 col12\" >0.00334557</td>\n",
       "                        <td id=\"T_037cb308_b0b0_11e9_8d44_02420a0000cdrow23_col13\" class=\"data row23 col13\" >0.0351404</td>\n",
       "                        <td id=\"T_037cb308_b0b0_11e9_8d44_02420a0000cdrow23_col14\" class=\"data row23 col14\" >0.00558242</td>\n",
       "                        <td id=\"T_037cb308_b0b0_11e9_8d44_02420a0000cdrow23_col15\" class=\"data row23 col15\" >-0.00957603</td>\n",
       "                        <td id=\"T_037cb308_b0b0_11e9_8d44_02420a0000cdrow23_col16\" class=\"data row23 col16\" >-0.00304458</td>\n",
       "                        <td id=\"T_037cb308_b0b0_11e9_8d44_02420a0000cdrow23_col17\" class=\"data row23 col17\" >0.0206178</td>\n",
       "                        <td id=\"T_037cb308_b0b0_11e9_8d44_02420a0000cdrow23_col18\" class=\"data row23 col18\" >-0.00582239</td>\n",
       "                        <td id=\"T_037cb308_b0b0_11e9_8d44_02420a0000cdrow23_col19\" class=\"data row23 col19\" >0.0127814</td>\n",
       "                        <td id=\"T_037cb308_b0b0_11e9_8d44_02420a0000cdrow23_col20\" class=\"data row23 col20\" >0.0119244</td>\n",
       "                        <td id=\"T_037cb308_b0b0_11e9_8d44_02420a0000cdrow23_col21\" class=\"data row23 col21\" >-0.00198349</td>\n",
       "                        <td id=\"T_037cb308_b0b0_11e9_8d44_02420a0000cdrow23_col22\" class=\"data row23 col22\" >0.0122068</td>\n",
       "                        <td id=\"T_037cb308_b0b0_11e9_8d44_02420a0000cdrow23_col23\" class=\"data row23 col23\" >1</td>\n",
       "                        <td id=\"T_037cb308_b0b0_11e9_8d44_02420a0000cdrow23_col24\" class=\"data row23 col24\" >-0.270122</td>\n",
       "                        <td id=\"T_037cb308_b0b0_11e9_8d44_02420a0000cdrow23_col25\" class=\"data row23 col25\" >-0.0162799</td>\n",
       "                        <td id=\"T_037cb308_b0b0_11e9_8d44_02420a0000cdrow23_col26\" class=\"data row23 col26\" >0.00556751</td>\n",
       "                        <td id=\"T_037cb308_b0b0_11e9_8d44_02420a0000cdrow23_col27\" class=\"data row23 col27\" >0.00556679</td>\n",
       "            </tr>\n",
       "            <tr>\n",
       "                        <th id=\"T_037cb308_b0b0_11e9_8d44_02420a0000cdlevel0_row24\" class=\"row_heading level0 row24\" >year</th>\n",
       "                        <td id=\"T_037cb308_b0b0_11e9_8d44_02420a0000cdrow24_col0\" class=\"data row24 col0\" >0.139006</td>\n",
       "                        <td id=\"T_037cb308_b0b0_11e9_8d44_02420a0000cdrow24_col1\" class=\"data row24 col1\" >-0.0429088</td>\n",
       "                        <td id=\"T_037cb308_b0b0_11e9_8d44_02420a0000cdrow24_col2\" class=\"data row24 col2\" >-0.0793673</td>\n",
       "                        <td id=\"T_037cb308_b0b0_11e9_8d44_02420a0000cdrow24_col3\" class=\"data row24 col3\" >-0.0550229</td>\n",
       "                        <td id=\"T_037cb308_b0b0_11e9_8d44_02420a0000cdrow24_col4\" class=\"data row24 col4\" >-0.0542297</td>\n",
       "                        <td id=\"T_037cb308_b0b0_11e9_8d44_02420a0000cdrow24_col5\" class=\"data row24 col5\" >0.00799658</td>\n",
       "                        <td id=\"T_037cb308_b0b0_11e9_8d44_02420a0000cdrow24_col6\" class=\"data row24 col6\" >-0.073179</td>\n",
       "                        <td id=\"T_037cb308_b0b0_11e9_8d44_02420a0000cdrow24_col7\" class=\"data row24 col7\" >0.00560421</td>\n",
       "                        <td id=\"T_037cb308_b0b0_11e9_8d44_02420a0000cdrow24_col8\" class=\"data row24 col8\" >0.00938583</td>\n",
       "                        <td id=\"T_037cb308_b0b0_11e9_8d44_02420a0000cdrow24_col9\" class=\"data row24 col9\" >0.0110409</td>\n",
       "                        <td id=\"T_037cb308_b0b0_11e9_8d44_02420a0000cdrow24_col10\" class=\"data row24 col10\" >-0.0793673</td>\n",
       "                        <td id=\"T_037cb308_b0b0_11e9_8d44_02420a0000cdrow24_col11\" class=\"data row24 col11\" >-0.0211891</td>\n",
       "                        <td id=\"T_037cb308_b0b0_11e9_8d44_02420a0000cdrow24_col12\" class=\"data row24 col12\" >-0.0533163</td>\n",
       "                        <td id=\"T_037cb308_b0b0_11e9_8d44_02420a0000cdrow24_col13\" class=\"data row24 col13\" >0.232571</td>\n",
       "                        <td id=\"T_037cb308_b0b0_11e9_8d44_02420a0000cdrow24_col14\" class=\"data row24 col14\" >0.00871974</td>\n",
       "                        <td id=\"T_037cb308_b0b0_11e9_8d44_02420a0000cdrow24_col15\" class=\"data row24 col15\" >0.0321628</td>\n",
       "                        <td id=\"T_037cb308_b0b0_11e9_8d44_02420a0000cdrow24_col16\" class=\"data row24 col16\" >-0.0486596</td>\n",
       "                        <td id=\"T_037cb308_b0b0_11e9_8d44_02420a0000cdrow24_col17\" class=\"data row24 col17\" >-0.0178062</td>\n",
       "                        <td id=\"T_037cb308_b0b0_11e9_8d44_02420a0000cdrow24_col18\" class=\"data row24 col18\" >-0.0486367</td>\n",
       "                        <td id=\"T_037cb308_b0b0_11e9_8d44_02420a0000cdrow24_col19\" class=\"data row24 col19\" >0.0376807</td>\n",
       "                        <td id=\"T_037cb308_b0b0_11e9_8d44_02420a0000cdrow24_col20\" class=\"data row24 col20\" >-0.614855</td>\n",
       "                        <td id=\"T_037cb308_b0b0_11e9_8d44_02420a0000cdrow24_col21\" class=\"data row24 col21\" >0.00845312</td>\n",
       "                        <td id=\"T_037cb308_b0b0_11e9_8d44_02420a0000cdrow24_col22\" class=\"data row24 col22\" >-0.00398823</td>\n",
       "                        <td id=\"T_037cb308_b0b0_11e9_8d44_02420a0000cdrow24_col23\" class=\"data row24 col23\" >-0.270122</td>\n",
       "                        <td id=\"T_037cb308_b0b0_11e9_8d44_02420a0000cdrow24_col24\" class=\"data row24 col24\" >1</td>\n",
       "                        <td id=\"T_037cb308_b0b0_11e9_8d44_02420a0000cdrow24_col25\" class=\"data row24 col25\" >0.00753263</td>\n",
       "                        <td id=\"T_037cb308_b0b0_11e9_8d44_02420a0000cdrow24_col26\" class=\"data row24 col26\" >0.0269452</td>\n",
       "                        <td id=\"T_037cb308_b0b0_11e9_8d44_02420a0000cdrow24_col27\" class=\"data row24 col27\" >0.00968526</td>\n",
       "            </tr>\n",
       "            <tr>\n",
       "                        <th id=\"T_037cb308_b0b0_11e9_8d44_02420a0000cdlevel0_row25\" class=\"row_heading level0 row25\" >live_total_ratio</th>\n",
       "                        <td id=\"T_037cb308_b0b0_11e9_8d44_02420a0000cdrow25_col0\" class=\"data row25 col0\" >-0.00189504</td>\n",
       "                        <td id=\"T_037cb308_b0b0_11e9_8d44_02420a0000cdrow25_col1\" class=\"data row25 col1\" >-0.0363913</td>\n",
       "                        <td id=\"T_037cb308_b0b0_11e9_8d44_02420a0000cdrow25_col2\" class=\"data row25 col2\" >0.0754311</td>\n",
       "                        <td id=\"T_037cb308_b0b0_11e9_8d44_02420a0000cdrow25_col3\" class=\"data row25 col3\" >0.45709</td>\n",
       "                        <td id=\"T_037cb308_b0b0_11e9_8d44_02420a0000cdrow25_col4\" class=\"data row25 col4\" >-0.0240134</td>\n",
       "                        <td id=\"T_037cb308_b0b0_11e9_8d44_02420a0000cdrow25_col5\" class=\"data row25 col5\" >-0.350193</td>\n",
       "                        <td id=\"T_037cb308_b0b0_11e9_8d44_02420a0000cdrow25_col6\" class=\"data row25 col6\" >0.399075</td>\n",
       "                        <td id=\"T_037cb308_b0b0_11e9_8d44_02420a0000cdrow25_col7\" class=\"data row25 col7\" >-0.254451</td>\n",
       "                        <td id=\"T_037cb308_b0b0_11e9_8d44_02420a0000cdrow25_col8\" class=\"data row25 col8\" >0.00102773</td>\n",
       "                        <td id=\"T_037cb308_b0b0_11e9_8d44_02420a0000cdrow25_col9\" class=\"data row25 col9\" >0.0848742</td>\n",
       "                        <td id=\"T_037cb308_b0b0_11e9_8d44_02420a0000cdrow25_col10\" class=\"data row25 col10\" >0.0754311</td>\n",
       "                        <td id=\"T_037cb308_b0b0_11e9_8d44_02420a0000cdrow25_col11\" class=\"data row25 col11\" >0.0542483</td>\n",
       "                        <td id=\"T_037cb308_b0b0_11e9_8d44_02420a0000cdrow25_col12\" class=\"data row25 col12\" >-0.317898</td>\n",
       "                        <td id=\"T_037cb308_b0b0_11e9_8d44_02420a0000cdrow25_col13\" class=\"data row25 col13\" >-0.0458067</td>\n",
       "                        <td id=\"T_037cb308_b0b0_11e9_8d44_02420a0000cdrow25_col14\" class=\"data row25 col14\" >-0.0915758</td>\n",
       "                        <td id=\"T_037cb308_b0b0_11e9_8d44_02420a0000cdrow25_col15\" class=\"data row25 col15\" >-0.0258097</td>\n",
       "                        <td id=\"T_037cb308_b0b0_11e9_8d44_02420a0000cdrow25_col16\" class=\"data row25 col16\" >0.0554314</td>\n",
       "                        <td id=\"T_037cb308_b0b0_11e9_8d44_02420a0000cdrow25_col17\" class=\"data row25 col17\" >-0.104876</td>\n",
       "                        <td id=\"T_037cb308_b0b0_11e9_8d44_02420a0000cdrow25_col18\" class=\"data row25 col18\" >-0.0247591</td>\n",
       "                        <td id=\"T_037cb308_b0b0_11e9_8d44_02420a0000cdrow25_col19\" class=\"data row25 col19\" >0.0222826</td>\n",
       "                        <td id=\"T_037cb308_b0b0_11e9_8d44_02420a0000cdrow25_col20\" class=\"data row25 col20\" >-0.0117926</td>\n",
       "                        <td id=\"T_037cb308_b0b0_11e9_8d44_02420a0000cdrow25_col21\" class=\"data row25 col21\" >-0.172739</td>\n",
       "                        <td id=\"T_037cb308_b0b0_11e9_8d44_02420a0000cdrow25_col22\" class=\"data row25 col22\" >0.00422498</td>\n",
       "                        <td id=\"T_037cb308_b0b0_11e9_8d44_02420a0000cdrow25_col23\" class=\"data row25 col23\" >-0.0162799</td>\n",
       "                        <td id=\"T_037cb308_b0b0_11e9_8d44_02420a0000cdrow25_col24\" class=\"data row25 col24\" >0.00753263</td>\n",
       "                        <td id=\"T_037cb308_b0b0_11e9_8d44_02420a0000cdrow25_col25\" class=\"data row25 col25\" >1</td>\n",
       "                        <td id=\"T_037cb308_b0b0_11e9_8d44_02420a0000cdrow25_col26\" class=\"data row25 col26\" >-0.520776</td>\n",
       "                        <td id=\"T_037cb308_b0b0_11e9_8d44_02420a0000cdrow25_col27\" class=\"data row25 col27\" >-0.0702963</td>\n",
       "            </tr>\n",
       "            <tr>\n",
       "                        <th id=\"T_037cb308_b0b0_11e9_8d44_02420a0000cdlevel0_row26\" class=\"row_heading level0 row26\" >kitchen_total_ratio</th>\n",
       "                        <td id=\"T_037cb308_b0b0_11e9_8d44_02420a0000cdrow26_col0\" class=\"data row26 col0\" >-0.0463075</td>\n",
       "                        <td id=\"T_037cb308_b0b0_11e9_8d44_02420a0000cdrow26_col1\" class=\"data row26 col1\" >-0.120501</td>\n",
       "                        <td id=\"T_037cb308_b0b0_11e9_8d44_02420a0000cdrow26_col2\" class=\"data row26 col2\" >-0.370019</td>\n",
       "                        <td id=\"T_037cb308_b0b0_11e9_8d44_02420a0000cdrow26_col3\" class=\"data row26 col3\" >-0.614569</td>\n",
       "                        <td id=\"T_037cb308_b0b0_11e9_8d44_02420a0000cdrow26_col4\" class=\"data row26 col4\" >-0.0201555</td>\n",
       "                        <td id=\"T_037cb308_b0b0_11e9_8d44_02420a0000cdrow26_col5\" class=\"data row26 col5\" >0.338055</td>\n",
       "                        <td id=\"T_037cb308_b0b0_11e9_8d44_02420a0000cdrow26_col6\" class=\"data row26 col6\" >-0.496621</td>\n",
       "                        <td id=\"T_037cb308_b0b0_11e9_8d44_02420a0000cdrow26_col7\" class=\"data row26 col7\" >0.233962</td>\n",
       "                        <td id=\"T_037cb308_b0b0_11e9_8d44_02420a0000cdrow26_col8\" class=\"data row26 col8\" >0.0102744</td>\n",
       "                        <td id=\"T_037cb308_b0b0_11e9_8d44_02420a0000cdrow26_col9\" class=\"data row26 col9\" >0.175303</td>\n",
       "                        <td id=\"T_037cb308_b0b0_11e9_8d44_02420a0000cdrow26_col10\" class=\"data row26 col10\" >-0.370019</td>\n",
       "                        <td id=\"T_037cb308_b0b0_11e9_8d44_02420a0000cdrow26_col11\" class=\"data row26 col11\" >0.096149</td>\n",
       "                        <td id=\"T_037cb308_b0b0_11e9_8d44_02420a0000cdrow26_col12\" class=\"data row26 col12\" >0.387128</td>\n",
       "                        <td id=\"T_037cb308_b0b0_11e9_8d44_02420a0000cdrow26_col13\" class=\"data row26 col13\" >0.0144344</td>\n",
       "                        <td id=\"T_037cb308_b0b0_11e9_8d44_02420a0000cdrow26_col14\" class=\"data row26 col14\" >0.0395791</td>\n",
       "                        <td id=\"T_037cb308_b0b0_11e9_8d44_02420a0000cdrow26_col15\" class=\"data row26 col15\" >0.0312212</td>\n",
       "                        <td id=\"T_037cb308_b0b0_11e9_8d44_02420a0000cdrow26_col16\" class=\"data row26 col16\" >-0.101125</td>\n",
       "                        <td id=\"T_037cb308_b0b0_11e9_8d44_02420a0000cdrow26_col17\" class=\"data row26 col17\" >0.0540605</td>\n",
       "                        <td id=\"T_037cb308_b0b0_11e9_8d44_02420a0000cdrow26_col18\" class=\"data row26 col18\" >-0.0342162</td>\n",
       "                        <td id=\"T_037cb308_b0b0_11e9_8d44_02420a0000cdrow26_col19\" class=\"data row26 col19\" >-0.00769931</td>\n",
       "                        <td id=\"T_037cb308_b0b0_11e9_8d44_02420a0000cdrow26_col20\" class=\"data row26 col20\" >-0.0329018</td>\n",
       "                        <td id=\"T_037cb308_b0b0_11e9_8d44_02420a0000cdrow26_col21\" class=\"data row26 col21\" >0.122427</td>\n",
       "                        <td id=\"T_037cb308_b0b0_11e9_8d44_02420a0000cdrow26_col22\" class=\"data row26 col22\" >-0.00143976</td>\n",
       "                        <td id=\"T_037cb308_b0b0_11e9_8d44_02420a0000cdrow26_col23\" class=\"data row26 col23\" >0.00556751</td>\n",
       "                        <td id=\"T_037cb308_b0b0_11e9_8d44_02420a0000cdrow26_col24\" class=\"data row26 col24\" >0.0269452</td>\n",
       "                        <td id=\"T_037cb308_b0b0_11e9_8d44_02420a0000cdrow26_col25\" class=\"data row26 col25\" >-0.520776</td>\n",
       "                        <td id=\"T_037cb308_b0b0_11e9_8d44_02420a0000cdrow26_col26\" class=\"data row26 col26\" >1</td>\n",
       "                        <td id=\"T_037cb308_b0b0_11e9_8d44_02420a0000cdrow26_col27\" class=\"data row26 col27\" >0.124007</td>\n",
       "            </tr>\n",
       "            <tr>\n",
       "                        <th id=\"T_037cb308_b0b0_11e9_8d44_02420a0000cdlevel0_row27\" class=\"row_heading level0 row27\" >prigorod</th>\n",
       "                        <td id=\"T_037cb308_b0b0_11e9_8d44_02420a0000cdrow27_col0\" class=\"data row27 col0\" >-0.0573048</td>\n",
       "                        <td id=\"T_037cb308_b0b0_11e9_8d44_02420a0000cdrow27_col1\" class=\"data row27 col1\" >-0.124429</td>\n",
       "                        <td id=\"T_037cb308_b0b0_11e9_8d44_02420a0000cdrow27_col2\" class=\"data row27 col2\" >-0.127792</td>\n",
       "                        <td id=\"T_037cb308_b0b0_11e9_8d44_02420a0000cdrow27_col3\" class=\"data row27 col3\" >-0.131885</td>\n",
       "                        <td id=\"T_037cb308_b0b0_11e9_8d44_02420a0000cdrow27_col4\" class=\"data row27 col4\" >-0.10498</td>\n",
       "                        <td id=\"T_037cb308_b0b0_11e9_8d44_02420a0000cdrow27_col5\" class=\"data row27 col5\" >0.0709614</td>\n",
       "                        <td id=\"T_037cb308_b0b0_11e9_8d44_02420a0000cdrow27_col6\" class=\"data row27 col6\" >-0.134085</td>\n",
       "                        <td id=\"T_037cb308_b0b0_11e9_8d44_02420a0000cdrow27_col7\" class=\"data row27 col7\" >0.0584145</td>\n",
       "                        <td id=\"T_037cb308_b0b0_11e9_8d44_02420a0000cdrow27_col8\" class=\"data row27 col8\" >-0.0145269</td>\n",
       "                        <td id=\"T_037cb308_b0b0_11e9_8d44_02420a0000cdrow27_col9\" class=\"data row27 col9\" >0.0277762</td>\n",
       "                        <td id=\"T_037cb308_b0b0_11e9_8d44_02420a0000cdrow27_col10\" class=\"data row27 col10\" >-0.127792</td>\n",
       "                        <td id=\"T_037cb308_b0b0_11e9_8d44_02420a0000cdrow27_col11\" class=\"data row27 col11\" >0.0368472</td>\n",
       "                        <td id=\"T_037cb308_b0b0_11e9_8d44_02420a0000cdrow27_col12\" class=\"data row27 col12\" >-0.0537301</td>\n",
       "                        <td id=\"T_037cb308_b0b0_11e9_8d44_02420a0000cdrow27_col13\" class=\"data row27 col13\" >0.00705482</td>\n",
       "                        <td id=\"T_037cb308_b0b0_11e9_8d44_02420a0000cdrow27_col14\" class=\"data row27 col14\" >0.0623721</td>\n",
       "                        <td id=\"T_037cb308_b0b0_11e9_8d44_02420a0000cdrow27_col15\" class=\"data row27 col15\" >0.251075</td>\n",
       "                        <td id=\"T_037cb308_b0b0_11e9_8d44_02420a0000cdrow27_col16\" class=\"data row27 col16\" >-0.260552</td>\n",
       "                        <td id=\"T_037cb308_b0b0_11e9_8d44_02420a0000cdrow27_col17\" class=\"data row27 col17\" >0.0109838</td>\n",
       "                        <td id=\"T_037cb308_b0b0_11e9_8d44_02420a0000cdrow27_col18\" class=\"data row27 col18\" >-0.243367</td>\n",
       "                        <td id=\"T_037cb308_b0b0_11e9_8d44_02420a0000cdrow27_col19\" class=\"data row27 col19\" >0.0449046</td>\n",
       "                        <td id=\"T_037cb308_b0b0_11e9_8d44_02420a0000cdrow27_col20\" class=\"data row27 col20\" >-0.00934349</td>\n",
       "                        <td id=\"T_037cb308_b0b0_11e9_8d44_02420a0000cdrow27_col21\" class=\"data row27 col21\" >-0.254685</td>\n",
       "                        <td id=\"T_037cb308_b0b0_11e9_8d44_02420a0000cdrow27_col22\" class=\"data row27 col22\" >0.00322338</td>\n",
       "                        <td id=\"T_037cb308_b0b0_11e9_8d44_02420a0000cdrow27_col23\" class=\"data row27 col23\" >0.00556679</td>\n",
       "                        <td id=\"T_037cb308_b0b0_11e9_8d44_02420a0000cdrow27_col24\" class=\"data row27 col24\" >0.00968526</td>\n",
       "                        <td id=\"T_037cb308_b0b0_11e9_8d44_02420a0000cdrow27_col25\" class=\"data row27 col25\" >-0.0702963</td>\n",
       "                        <td id=\"T_037cb308_b0b0_11e9_8d44_02420a0000cdrow27_col26\" class=\"data row27 col26\" >0.124007</td>\n",
       "                        <td id=\"T_037cb308_b0b0_11e9_8d44_02420a0000cdrow27_col27\" class=\"data row27 col27\" >1</td>\n",
       "            </tr>\n",
       "    </tbody></table>"
      ],
      "text/plain": [
       "<pandas.io.formats.style.Styler at 0x7f6051669da0>"
      ]
     },
     "execution_count": 140,
     "metadata": {},
     "output_type": "execute_result"
    }
   ],
   "source": [
    "df.corr().style.background_gradient('coolwarm')"
   ]
  },
  {
   "cell_type": "markdown",
   "metadata": {},
   "source": [
    "## Вывод: цена квадратного метра не зависит от дня публикации объявления"
   ]
  },
  {
   "cell_type": "markdown",
   "metadata": {},
   "source": [
    "----"
   ]
  },
  {
   "cell_type": "markdown",
   "metadata": {},
   "source": [
    "----"
   ]
  },
  {
   "cell_type": "markdown",
   "metadata": {},
   "source": [
    "## Визуализируем зависимость между ценой квадратного метра и номером месяца"
   ]
  },
  {
   "cell_type": "code",
   "execution_count": 142,
   "metadata": {},
   "outputs": [
    {
     "data": {
      "image/png": "[encoded data removed]",
      "text/plain": [
       "<Figure size 1440x576 with 1 Axes>"
      ]
     },
     "metadata": {
      "needs_background": "light"
     },
     "output_type": "display_data"
    }
   ],
   "source": [
    "# По очищенному датафрейму\n",
    "plot = df_typical\\\n",
    "    .boxplot('m2_cost', by='month',figsize=(20,8))\\\n",
    "    .set_ylim(0,200000)"
   ]
  },
  {
   "cell_type": "code",
   "execution_count": 143,
   "metadata": {
    "scrolled": true
   },
   "outputs": [
    {
     "data": {
      "text/plain": [
       "-0.0019834924869416124"
      ]
     },
     "execution_count": 143,
     "metadata": {},
     "output_type": "execute_result"
    }
   ],
   "source": [
    "#Корреляции нет, очень низкая\n",
    "df.month.corr(df.m2_cost)"
   ]
  },
  {
   "cell_type": "markdown",
   "metadata": {},
   "source": [
    "----------\n",
    "\n",
    "## <span style=\"color:orange\">Комментарий от наставника</span>\n",
    "\n",
    "Уже в который раз обращаю внимание - у тебя сначала комментарий с выводом, потом код, после выполнения которого ты этот вывод должен был сделать. Как такое может быть? :)\n",
    "\n",
    "---------\n",
    "#### Еще раз все проверил, поправил пару моментов, но вроде все ок"
   ]
  },
  {
   "cell_type": "markdown",
   "metadata": {},
   "source": [
    "## Вывод: цена квадратного метра не зависит от месяца публикации"
   ]
  },
  {
   "cell_type": "markdown",
   "metadata": {},
   "source": [
    "----"
   ]
  },
  {
   "cell_type": "markdown",
   "metadata": {},
   "source": [
    "----"
   ]
  },
  {
   "cell_type": "markdown",
   "metadata": {},
   "source": [
    "## Визуализируем зависимость между ценой квадратного метра и годом"
   ]
  },
  {
   "cell_type": "code",
   "execution_count": 145,
   "metadata": {},
   "outputs": [
    {
     "data": {
      "image/png": "[encoded data removed]",
      "text/plain": [
       "<Figure size 1440x576 with 1 Axes>"
      ]
     },
     "metadata": {
      "needs_background": "light"
     },
     "output_type": "display_data"
    }
   ],
   "source": [
    "# По очищенному датафрейму\n",
    "plot = df_typical\\\n",
    "    .boxplot('m2_cost', by='year',figsize=(20,8))\\\n",
    "    .set_ylim(0,200000)"
   ]
  },
  {
   "cell_type": "markdown",
   "metadata": {},
   "source": [
    "----------\n",
    "\n",
    "## <span style=\"color:orange\">Комментарий от наставника</span>\n",
    "\n",
    "Чтобы посмотреть зависимость числовой переменной и категориальной - в нашем случае год, __boxplot__ с разбиением по категориям (годам) - идеальный график, точечная диаграмма не нужна. Когда категорий много и или мы сравниваем две числовые переменные с большим кол-вом значений, идеально подойдет точечная диаграмма. Не надо шлёпать эти графики подряд :)\n",
    "\n",
    "---------\n",
    "#### Ок, понял"
   ]
  },
  {
   "cell_type": "markdown",
   "metadata": {},
   "source": [
    "## Вывод: в 2014 году медиана цены за квадратный м2 была выше , чем в 2015-2018. Начиная с 2018 стоимость м2 начала увеличиваться."
   ]
  },
  {
   "cell_type": "markdown",
   "metadata": {},
   "source": [
    "----"
   ]
  },
  {
   "cell_type": "markdown",
   "metadata": {},
   "source": [
    "----"
   ]
  },
  {
   "cell_type": "markdown",
   "metadata": {},
   "source": [
    "## Выделите сегменты типичных квартир в центре (по удалённости, числу комнат и площади) и вне центра.\n",
    "\n",
    "* Границы определите самостоятельно. Выберите достаточно крупные сегменты с не менее 1000 объявлений.\n",
    "\n",
    "* Сравните корреляцию основных факторов с ценой по всем предложениям и объявлениям в вашей выборке."
   ]
  },
  {
   "cell_type": "markdown",
   "metadata": {},
   "source": [
    "### За центр будем принимать удаленность от 0 до 5000 метров, посмотрим сколько объектов в этой группе"
   ]
  },
  {
   "cell_type": "code",
   "execution_count": 146,
   "metadata": {
    "scrolled": true
   },
   "outputs": [
    {
     "data": {
      "text/plain": [
       "2075"
      ]
     },
     "execution_count": 146,
     "metadata": {},
     "output_type": "execute_result"
    }
   ],
   "source": [
    "len(df.query('cityCenters_nearest <5000'))"
   ]
  },
  {
   "cell_type": "markdown",
   "metadata": {},
   "source": [
    "### Создадим датафрейм с типичными квартирами в центре, удалим все что выходит за 1,5IQR для числа комнат и площади. За центр возьмем фильтр в 5000метров"
   ]
  },
  {
   "cell_type": "code",
   "execution_count": 179,
   "metadata": {},
   "outputs": [],
   "source": [
    "# Уберем вбросы по комнатам\n",
    "df_typical_center = delete_outliers(df.query('cityCenters_nearest <5000'), 'rooms',0)"
   ]
  },
  {
   "cell_type": "code",
   "execution_count": 180,
   "metadata": {},
   "outputs": [],
   "source": [
    "# Уберем выбросы по площади\n",
    "df_typical_center = delete_outliers(df_typical_center, 'total_area',0)"
   ]
  },
  {
   "cell_type": "markdown",
   "metadata": {},
   "source": [
    "### Построим матрицу корреляции внутри типичных квартир в центре (для стоимости)"
   ]
  },
  {
   "cell_type": "code",
   "execution_count": 186,
   "metadata": {},
   "outputs": [
    {
     "data": {
      "text/html": [
       "<div>\n",
       "<style scoped>\n",
       "    .dataframe tbody tr th:only-of-type {\n",
       "        vertical-align: middle;\n",
       "    }\n",
       "\n",
       "    .dataframe tbody tr th {\n",
       "        vertical-align: top;\n",
       "    }\n",
       "\n",
       "    .dataframe thead th {\n",
       "        text-align: right;\n",
       "    }\n",
       "</style>\n",
       "<table border=\"1\" class=\"dataframe\">\n",
       "  <thead>\n",
       "    <tr style=\"text-align: right;\">\n",
       "      <th></th>\n",
       "      <th>index</th>\n",
       "      <th>cor_price_in_center</th>\n",
       "    </tr>\n",
       "  </thead>\n",
       "  <tbody>\n",
       "    <tr>\n",
       "      <th>0</th>\n",
       "      <td>last_price</td>\n",
       "      <td>1.000000</td>\n",
       "    </tr>\n",
       "    <tr>\n",
       "      <th>1</th>\n",
       "      <td>m2_cost</td>\n",
       "      <td>0.830295</td>\n",
       "    </tr>\n",
       "    <tr>\n",
       "      <th>2</th>\n",
       "      <td>total_area</td>\n",
       "      <td>0.458743</td>\n",
       "    </tr>\n",
       "    <tr>\n",
       "      <th>3</th>\n",
       "      <td>area</td>\n",
       "      <td>0.458743</td>\n",
       "    </tr>\n",
       "    <tr>\n",
       "      <th>4</th>\n",
       "      <td>kitchen_area</td>\n",
       "      <td>0.349781</td>\n",
       "    </tr>\n",
       "    <tr>\n",
       "      <th>5</th>\n",
       "      <td>living_area</td>\n",
       "      <td>0.334000</td>\n",
       "    </tr>\n",
       "    <tr>\n",
       "      <th>6</th>\n",
       "      <td>rooms</td>\n",
       "      <td>0.204619</td>\n",
       "    </tr>\n",
       "    <tr>\n",
       "      <th>7</th>\n",
       "      <td>floor</td>\n",
       "      <td>0.135694</td>\n",
       "    </tr>\n",
       "    <tr>\n",
       "      <th>8</th>\n",
       "      <td>total_images</td>\n",
       "      <td>0.126027</td>\n",
       "    </tr>\n",
       "    <tr>\n",
       "      <th>9</th>\n",
       "      <td>parks_around3000</td>\n",
       "      <td>0.106025</td>\n",
       "    </tr>\n",
       "    <tr>\n",
       "      <th>10</th>\n",
       "      <td>ceiling_height</td>\n",
       "      <td>0.096775</td>\n",
       "    </tr>\n",
       "    <tr>\n",
       "      <th>11</th>\n",
       "      <td>ponds_around3000</td>\n",
       "      <td>0.092771</td>\n",
       "    </tr>\n",
       "    <tr>\n",
       "      <th>12</th>\n",
       "      <td>floors_total</td>\n",
       "      <td>0.082333</td>\n",
       "    </tr>\n",
       "    <tr>\n",
       "      <th>13</th>\n",
       "      <td>is_apartment</td>\n",
       "      <td>0.077726</td>\n",
       "    </tr>\n",
       "    <tr>\n",
       "      <th>14</th>\n",
       "      <td>balcony</td>\n",
       "      <td>0.072124</td>\n",
       "    </tr>\n",
       "    <tr>\n",
       "      <th>15</th>\n",
       "      <td>airports_nearest</td>\n",
       "      <td>0.054109</td>\n",
       "    </tr>\n",
       "    <tr>\n",
       "      <th>16</th>\n",
       "      <td>year</td>\n",
       "      <td>0.028519</td>\n",
       "    </tr>\n",
       "    <tr>\n",
       "      <th>17</th>\n",
       "      <td>days_exposition</td>\n",
       "      <td>0.005300</td>\n",
       "    </tr>\n",
       "    <tr>\n",
       "      <th>18</th>\n",
       "      <td>parks_nearest</td>\n",
       "      <td>-0.013435</td>\n",
       "    </tr>\n",
       "    <tr>\n",
       "      <th>19</th>\n",
       "      <td>open_plan</td>\n",
       "      <td>-0.016405</td>\n",
       "    </tr>\n",
       "    <tr>\n",
       "      <th>20</th>\n",
       "      <td>week_day</td>\n",
       "      <td>-0.024486</td>\n",
       "    </tr>\n",
       "    <tr>\n",
       "      <th>21</th>\n",
       "      <td>month</td>\n",
       "      <td>-0.029280</td>\n",
       "    </tr>\n",
       "    <tr>\n",
       "      <th>22</th>\n",
       "      <td>studio</td>\n",
       "      <td>-0.033113</td>\n",
       "    </tr>\n",
       "    <tr>\n",
       "      <th>23</th>\n",
       "      <td>ponds_nearest</td>\n",
       "      <td>-0.048791</td>\n",
       "    </tr>\n",
       "    <tr>\n",
       "      <th>24</th>\n",
       "      <td>kitchen_total_ratio</td>\n",
       "      <td>-0.057349</td>\n",
       "    </tr>\n",
       "    <tr>\n",
       "      <th>25</th>\n",
       "      <td>live_total_ratio</td>\n",
       "      <td>-0.059898</td>\n",
       "    </tr>\n",
       "    <tr>\n",
       "      <th>26</th>\n",
       "      <td>cityCenters_nearest</td>\n",
       "      <td>-0.111459</td>\n",
       "    </tr>\n",
       "    <tr>\n",
       "      <th>27</th>\n",
       "      <td>prigorod</td>\n",
       "      <td>NaN</td>\n",
       "    </tr>\n",
       "  </tbody>\n",
       "</table>\n",
       "</div>"
      ],
      "text/plain": [
       "                  index  cor_price_in_center\n",
       "0            last_price             1.000000\n",
       "1               m2_cost             0.830295\n",
       "2            total_area             0.458743\n",
       "3                  area             0.458743\n",
       "4          kitchen_area             0.349781\n",
       "5           living_area             0.334000\n",
       "6                 rooms             0.204619\n",
       "7                 floor             0.135694\n",
       "8          total_images             0.126027\n",
       "9      parks_around3000             0.106025\n",
       "10       ceiling_height             0.096775\n",
       "11     ponds_around3000             0.092771\n",
       "12         floors_total             0.082333\n",
       "13         is_apartment             0.077726\n",
       "14              balcony             0.072124\n",
       "15     airports_nearest             0.054109\n",
       "16                 year             0.028519\n",
       "17      days_exposition             0.005300\n",
       "18        parks_nearest            -0.013435\n",
       "19            open_plan            -0.016405\n",
       "20             week_day            -0.024486\n",
       "21                month            -0.029280\n",
       "22               studio            -0.033113\n",
       "23        ponds_nearest            -0.048791\n",
       "24  kitchen_total_ratio            -0.057349\n",
       "25     live_total_ratio            -0.059898\n",
       "26  cityCenters_nearest            -0.111459\n",
       "27             prigorod                  NaN"
      ]
     },
     "execution_count": 186,
     "metadata": {},
     "output_type": "execute_result"
    }
   ],
   "source": [
    "cor_in_center = df_typical_center.corr()\\\n",
    "        .filter(items = ['last_price'])\\\n",
    "        .sort_values('last_price', ascending=False)\\\n",
    "        .reset_index()\\\n",
    "        .rename(columns={'last_price':'cor_price_in_center'})\n",
    "cor_in_center"
   ]
  },
  {
   "cell_type": "markdown",
   "metadata": {},
   "source": [
    "## Вывод: в центре на стоимость влияют: m2_cost, total_area, area, cityCenter_nearest, ponds_around3000, living_area, parks_around3000, living_area\n",
    "## Особенно интересно влияние близости к центру, близость прудов и парков"
   ]
  },
  {
   "cell_type": "markdown",
   "metadata": {},
   "source": [
    "-----"
   ]
  },
  {
   "cell_type": "markdown",
   "metadata": {},
   "source": [
    "-----"
   ]
  },
  {
   "cell_type": "markdown",
   "metadata": {},
   "source": [
    "## Создадим датафрейм для нецентральных квартир, удаленностью больше 5000м"
   ]
  },
  {
   "cell_type": "code",
   "execution_count": 150,
   "metadata": {
    "scrolled": true
   },
   "outputs": [
    {
     "data": {
      "text/plain": [
       "16035"
      ]
     },
     "execution_count": 150,
     "metadata": {},
     "output_type": "execute_result"
    }
   ],
   "source": [
    "len(df.query('cityCenters_nearest >5000'))"
   ]
  },
  {
   "cell_type": "code",
   "execution_count": 182,
   "metadata": {},
   "outputs": [],
   "source": [
    "# Создадим датафрейм для объектов вне центра, уберем выбросы по комнатам\n",
    "df_out_center = delete_outliers(df.query('cityCenters_nearest >5000'), 'rooms',0)"
   ]
  },
  {
   "cell_type": "code",
   "execution_count": 183,
   "metadata": {},
   "outputs": [],
   "source": [
    "# Уберем выбросы по площади\n",
    "df_out_center = delete_outliers(df_out_center, 'total_area',0)"
   ]
  },
  {
   "cell_type": "markdown",
   "metadata": {},
   "source": [
    "### Построим матрицу корреляции внутри типичных квартир в центре (для стоимости)"
   ]
  },
  {
   "cell_type": "code",
   "execution_count": 184,
   "metadata": {},
   "outputs": [
    {
     "data": {
      "text/html": [
       "<style  type=\"text/css\" >\n",
       "    #T_167e0f3e_b15e_11e9_848c_02420a000006row0_col1 {\n",
       "            background-color:  #b40426;\n",
       "            color:  #f1f1f1;\n",
       "        }    #T_167e0f3e_b15e_11e9_848c_02420a000006row1_col1 {\n",
       "            background-color:  #ed8366;\n",
       "            color:  #000000;\n",
       "        }    #T_167e0f3e_b15e_11e9_848c_02420a000006row2_col1 {\n",
       "            background-color:  #ed8366;\n",
       "            color:  #000000;\n",
       "        }    #T_167e0f3e_b15e_11e9_848c_02420a000006row3_col1 {\n",
       "            background-color:  #f59f80;\n",
       "            color:  #000000;\n",
       "        }    #T_167e0f3e_b15e_11e9_848c_02420a000006row4_col1 {\n",
       "            background-color:  #f7b99e;\n",
       "            color:  #000000;\n",
       "        }    #T_167e0f3e_b15e_11e9_848c_02420a000006row5_col1 {\n",
       "            background-color:  #f5c1a9;\n",
       "            color:  #000000;\n",
       "        }    #T_167e0f3e_b15e_11e9_848c_02420a000006row6_col1 {\n",
       "            background-color:  #e9d5cb;\n",
       "            color:  #000000;\n",
       "        }    #T_167e0f3e_b15e_11e9_848c_02420a000006row7_col1 {\n",
       "            background-color:  #d9dce1;\n",
       "            color:  #000000;\n",
       "        }    #T_167e0f3e_b15e_11e9_848c_02420a000006row8_col1 {\n",
       "            background-color:  #afcafc;\n",
       "            color:  #000000;\n",
       "        }    #T_167e0f3e_b15e_11e9_848c_02420a000006row9_col1 {\n",
       "            background-color:  #a7c5fe;\n",
       "            color:  #000000;\n",
       "        }    #T_167e0f3e_b15e_11e9_848c_02420a000006row10_col1 {\n",
       "            background-color:  #a3c2fe;\n",
       "            color:  #000000;\n",
       "        }    #T_167e0f3e_b15e_11e9_848c_02420a000006row11_col1 {\n",
       "            background-color:  #a2c1ff;\n",
       "            color:  #000000;\n",
       "        }    #T_167e0f3e_b15e_11e9_848c_02420a000006row12_col1 {\n",
       "            background-color:  #a2c1ff;\n",
       "            color:  #000000;\n",
       "        }    #T_167e0f3e_b15e_11e9_848c_02420a000006row13_col1 {\n",
       "            background-color:  #9abbff;\n",
       "            color:  #000000;\n",
       "        }    #T_167e0f3e_b15e_11e9_848c_02420a000006row14_col1 {\n",
       "            background-color:  #92b4fe;\n",
       "            color:  #000000;\n",
       "        }    #T_167e0f3e_b15e_11e9_848c_02420a000006row15_col1 {\n",
       "            background-color:  #8badfd;\n",
       "            color:  #000000;\n",
       "        }    #T_167e0f3e_b15e_11e9_848c_02420a000006row16_col1 {\n",
       "            background-color:  #86a9fc;\n",
       "            color:  #000000;\n",
       "        }    #T_167e0f3e_b15e_11e9_848c_02420a000006row17_col1 {\n",
       "            background-color:  #85a8fc;\n",
       "            color:  #000000;\n",
       "        }    #T_167e0f3e_b15e_11e9_848c_02420a000006row18_col1 {\n",
       "            background-color:  #80a3fa;\n",
       "            color:  #000000;\n",
       "        }    #T_167e0f3e_b15e_11e9_848c_02420a000006row19_col1 {\n",
       "            background-color:  #7ea1fa;\n",
       "            color:  #000000;\n",
       "        }    #T_167e0f3e_b15e_11e9_848c_02420a000006row20_col1 {\n",
       "            background-color:  #7da0f9;\n",
       "            color:  #000000;\n",
       "        }    #T_167e0f3e_b15e_11e9_848c_02420a000006row21_col1 {\n",
       "            background-color:  #7597f6;\n",
       "            color:  #000000;\n",
       "        }    #T_167e0f3e_b15e_11e9_848c_02420a000006row22_col1 {\n",
       "            background-color:  #7396f5;\n",
       "            color:  #000000;\n",
       "        }    #T_167e0f3e_b15e_11e9_848c_02420a000006row23_col1 {\n",
       "            background-color:  #7093f3;\n",
       "            color:  #000000;\n",
       "        }    #T_167e0f3e_b15e_11e9_848c_02420a000006row24_col1 {\n",
       "            background-color:  #6e90f2;\n",
       "            color:  #000000;\n",
       "        }    #T_167e0f3e_b15e_11e9_848c_02420a000006row25_col1 {\n",
       "            background-color:  #5d7ce6;\n",
       "            color:  #000000;\n",
       "        }    #T_167e0f3e_b15e_11e9_848c_02420a000006row26_col1 {\n",
       "            background-color:  #5a78e4;\n",
       "            color:  #000000;\n",
       "        }    #T_167e0f3e_b15e_11e9_848c_02420a000006row27_col1 {\n",
       "            background-color:  #3b4cc0;\n",
       "            color:  #f1f1f1;\n",
       "        }</style><table id=\"T_167e0f3e_b15e_11e9_848c_02420a000006\" ><thead>    <tr>        <th class=\"blank level0\" ></th>        <th class=\"col_heading level0 col0\" >index</th>        <th class=\"col_heading level0 col1\" >cor_price_out_center</th>    </tr></thead><tbody>\n",
       "                <tr>\n",
       "                        <th id=\"T_167e0f3e_b15e_11e9_848c_02420a000006level0_row0\" class=\"row_heading level0 row0\" >0</th>\n",
       "                        <td id=\"T_167e0f3e_b15e_11e9_848c_02420a000006row0_col0\" class=\"data row0 col0\" >last_price</td>\n",
       "                        <td id=\"T_167e0f3e_b15e_11e9_848c_02420a000006row0_col1\" class=\"data row0 col1\" >1</td>\n",
       "            </tr>\n",
       "            <tr>\n",
       "                        <th id=\"T_167e0f3e_b15e_11e9_848c_02420a000006level0_row1\" class=\"row_heading level0 row1\" >1</th>\n",
       "                        <td id=\"T_167e0f3e_b15e_11e9_848c_02420a000006row1_col0\" class=\"data row1 col0\" >total_area</td>\n",
       "                        <td id=\"T_167e0f3e_b15e_11e9_848c_02420a000006row1_col1\" class=\"data row1 col1\" >0.747283</td>\n",
       "            </tr>\n",
       "            <tr>\n",
       "                        <th id=\"T_167e0f3e_b15e_11e9_848c_02420a000006level0_row2\" class=\"row_heading level0 row2\" >2</th>\n",
       "                        <td id=\"T_167e0f3e_b15e_11e9_848c_02420a000006row2_col0\" class=\"data row2 col0\" >area</td>\n",
       "                        <td id=\"T_167e0f3e_b15e_11e9_848c_02420a000006row2_col1\" class=\"data row2 col1\" >0.747283</td>\n",
       "            </tr>\n",
       "            <tr>\n",
       "                        <th id=\"T_167e0f3e_b15e_11e9_848c_02420a000006level0_row3\" class=\"row_heading level0 row3\" >3</th>\n",
       "                        <td id=\"T_167e0f3e_b15e_11e9_848c_02420a000006row3_col0\" class=\"data row3 col0\" >m2_cost</td>\n",
       "                        <td id=\"T_167e0f3e_b15e_11e9_848c_02420a000006row3_col1\" class=\"data row3 col1\" >0.663475</td>\n",
       "            </tr>\n",
       "            <tr>\n",
       "                        <th id=\"T_167e0f3e_b15e_11e9_848c_02420a000006level0_row4\" class=\"row_heading level0 row4\" >4</th>\n",
       "                        <td id=\"T_167e0f3e_b15e_11e9_848c_02420a000006row4_col0\" class=\"data row4 col0\" >living_area</td>\n",
       "                        <td id=\"T_167e0f3e_b15e_11e9_848c_02420a000006row4_col1\" class=\"data row4 col1\" >0.57083</td>\n",
       "            </tr>\n",
       "            <tr>\n",
       "                        <th id=\"T_167e0f3e_b15e_11e9_848c_02420a000006level0_row5\" class=\"row_heading level0 row5\" >5</th>\n",
       "                        <td id=\"T_167e0f3e_b15e_11e9_848c_02420a000006row5_col0\" class=\"data row5 col0\" >kitchen_area</td>\n",
       "                        <td id=\"T_167e0f3e_b15e_11e9_848c_02420a000006row5_col1\" class=\"data row5 col1\" >0.534512</td>\n",
       "            </tr>\n",
       "            <tr>\n",
       "                        <th id=\"T_167e0f3e_b15e_11e9_848c_02420a000006level0_row6\" class=\"row_heading level0 row6\" >6</th>\n",
       "                        <td id=\"T_167e0f3e_b15e_11e9_848c_02420a000006row6_col0\" class=\"data row6 col0\" >rooms</td>\n",
       "                        <td id=\"T_167e0f3e_b15e_11e9_848c_02420a000006row6_col1\" class=\"data row6 col1\" >0.429638</td>\n",
       "            </tr>\n",
       "            <tr>\n",
       "                        <th id=\"T_167e0f3e_b15e_11e9_848c_02420a000006level0_row7\" class=\"row_heading level0 row7\" >7</th>\n",
       "                        <td id=\"T_167e0f3e_b15e_11e9_848c_02420a000006row7_col0\" class=\"data row7 col0\" >ceiling_height</td>\n",
       "                        <td id=\"T_167e0f3e_b15e_11e9_848c_02420a000006row7_col1\" class=\"data row7 col1\" >0.349405</td>\n",
       "            </tr>\n",
       "            <tr>\n",
       "                        <th id=\"T_167e0f3e_b15e_11e9_848c_02420a000006level0_row8\" class=\"row_heading level0 row8\" >8</th>\n",
       "                        <td id=\"T_167e0f3e_b15e_11e9_848c_02420a000006row8_col0\" class=\"data row8 col0\" >total_images</td>\n",
       "                        <td id=\"T_167e0f3e_b15e_11e9_848c_02420a000006row8_col1\" class=\"data row8 col1\" >0.172444</td>\n",
       "            </tr>\n",
       "            <tr>\n",
       "                        <th id=\"T_167e0f3e_b15e_11e9_848c_02420a000006level0_row9\" class=\"row_heading level0 row9\" >9</th>\n",
       "                        <td id=\"T_167e0f3e_b15e_11e9_848c_02420a000006row9_col0\" class=\"data row9 col0\" >ponds_around3000</td>\n",
       "                        <td id=\"T_167e0f3e_b15e_11e9_848c_02420a000006row9_col1\" class=\"data row9 col1\" >0.147165</td>\n",
       "            </tr>\n",
       "            <tr>\n",
       "                        <th id=\"T_167e0f3e_b15e_11e9_848c_02420a000006level0_row10\" class=\"row_heading level0 row10\" >10</th>\n",
       "                        <td id=\"T_167e0f3e_b15e_11e9_848c_02420a000006row10_col0\" class=\"data row10 col0\" >parks_around3000</td>\n",
       "                        <td id=\"T_167e0f3e_b15e_11e9_848c_02420a000006row10_col1\" class=\"data row10 col1\" >0.129093</td>\n",
       "            </tr>\n",
       "            <tr>\n",
       "                        <th id=\"T_167e0f3e_b15e_11e9_848c_02420a000006level0_row11\" class=\"row_heading level0 row11\" >11</th>\n",
       "                        <td id=\"T_167e0f3e_b15e_11e9_848c_02420a000006row11_col0\" class=\"data row11 col0\" >balcony</td>\n",
       "                        <td id=\"T_167e0f3e_b15e_11e9_848c_02420a000006row11_col1\" class=\"data row11 col1\" >0.125176</td>\n",
       "            </tr>\n",
       "            <tr>\n",
       "                        <th id=\"T_167e0f3e_b15e_11e9_848c_02420a000006level0_row12\" class=\"row_heading level0 row12\" >12</th>\n",
       "                        <td id=\"T_167e0f3e_b15e_11e9_848c_02420a000006row12_col0\" class=\"data row12 col0\" >floors_total</td>\n",
       "                        <td id=\"T_167e0f3e_b15e_11e9_848c_02420a000006row12_col1\" class=\"data row12 col1\" >0.123618</td>\n",
       "            </tr>\n",
       "            <tr>\n",
       "                        <th id=\"T_167e0f3e_b15e_11e9_848c_02420a000006level0_row13\" class=\"row_heading level0 row13\" >13</th>\n",
       "                        <td id=\"T_167e0f3e_b15e_11e9_848c_02420a000006row13_col0\" class=\"data row13 col0\" >floor</td>\n",
       "                        <td id=\"T_167e0f3e_b15e_11e9_848c_02420a000006row13_col1\" class=\"data row13 col1\" >0.0956511</td>\n",
       "            </tr>\n",
       "            <tr>\n",
       "                        <th id=\"T_167e0f3e_b15e_11e9_848c_02420a000006level0_row14\" class=\"row_heading level0 row14\" >14</th>\n",
       "                        <td id=\"T_167e0f3e_b15e_11e9_848c_02420a000006row14_col0\" class=\"data row14 col0\" >parks_nearest</td>\n",
       "                        <td id=\"T_167e0f3e_b15e_11e9_848c_02420a000006row14_col1\" class=\"data row14 col1\" >0.0652324</td>\n",
       "            </tr>\n",
       "            <tr>\n",
       "                        <th id=\"T_167e0f3e_b15e_11e9_848c_02420a000006level0_row15\" class=\"row_heading level0 row15\" >15</th>\n",
       "                        <td id=\"T_167e0f3e_b15e_11e9_848c_02420a000006row15_col0\" class=\"data row15 col0\" >days_exposition</td>\n",
       "                        <td id=\"T_167e0f3e_b15e_11e9_848c_02420a000006row15_col1\" class=\"data row15 col1\" >0.0396592</td>\n",
       "            </tr>\n",
       "            <tr>\n",
       "                        <th id=\"T_167e0f3e_b15e_11e9_848c_02420a000006level0_row16\" class=\"row_heading level0 row16\" >16</th>\n",
       "                        <td id=\"T_167e0f3e_b15e_11e9_848c_02420a000006row16_col0\" class=\"data row16 col0\" >year</td>\n",
       "                        <td id=\"T_167e0f3e_b15e_11e9_848c_02420a000006row16_col1\" class=\"data row16 col1\" >0.025789</td>\n",
       "            </tr>\n",
       "            <tr>\n",
       "                        <th id=\"T_167e0f3e_b15e_11e9_848c_02420a000006level0_row17\" class=\"row_heading level0 row17\" >17</th>\n",
       "                        <td id=\"T_167e0f3e_b15e_11e9_848c_02420a000006row17_col0\" class=\"data row17 col0\" >is_apartment</td>\n",
       "                        <td id=\"T_167e0f3e_b15e_11e9_848c_02420a000006row17_col1\" class=\"data row17 col1\" >0.0193804</td>\n",
       "            </tr>\n",
       "            <tr>\n",
       "                        <th id=\"T_167e0f3e_b15e_11e9_848c_02420a000006level0_row18\" class=\"row_heading level0 row18\" >18</th>\n",
       "                        <td id=\"T_167e0f3e_b15e_11e9_848c_02420a000006row18_col0\" class=\"data row18 col0\" >airports_nearest</td>\n",
       "                        <td id=\"T_167e0f3e_b15e_11e9_848c_02420a000006row18_col1\" class=\"data row18 col1\" >0.000692616</td>\n",
       "            </tr>\n",
       "            <tr>\n",
       "                        <th id=\"T_167e0f3e_b15e_11e9_848c_02420a000006level0_row19\" class=\"row_heading level0 row19\" >19</th>\n",
       "                        <td id=\"T_167e0f3e_b15e_11e9_848c_02420a000006row19_col0\" class=\"data row19 col0\" >month</td>\n",
       "                        <td id=\"T_167e0f3e_b15e_11e9_848c_02420a000006row19_col1\" class=\"data row19 col1\" >-0.00290094</td>\n",
       "            </tr>\n",
       "            <tr>\n",
       "                        <th id=\"T_167e0f3e_b15e_11e9_848c_02420a000006level0_row20\" class=\"row_heading level0 row20\" >20</th>\n",
       "                        <td id=\"T_167e0f3e_b15e_11e9_848c_02420a000006row20_col0\" class=\"data row20 col0\" >week_day</td>\n",
       "                        <td id=\"T_167e0f3e_b15e_11e9_848c_02420a000006row20_col1\" class=\"data row20 col1\" >-0.00821292</td>\n",
       "            </tr>\n",
       "            <tr>\n",
       "                        <th id=\"T_167e0f3e_b15e_11e9_848c_02420a000006level0_row21\" class=\"row_heading level0 row21\" >21</th>\n",
       "                        <td id=\"T_167e0f3e_b15e_11e9_848c_02420a000006row21_col0\" class=\"data row21 col0\" >open_plan</td>\n",
       "                        <td id=\"T_167e0f3e_b15e_11e9_848c_02420a000006row21_col1\" class=\"data row21 col1\" >-0.0367751</td>\n",
       "            </tr>\n",
       "            <tr>\n",
       "                        <th id=\"T_167e0f3e_b15e_11e9_848c_02420a000006level0_row22\" class=\"row_heading level0 row22\" >22</th>\n",
       "                        <td id=\"T_167e0f3e_b15e_11e9_848c_02420a000006row22_col0\" class=\"data row22 col0\" >live_total_ratio</td>\n",
       "                        <td id=\"T_167e0f3e_b15e_11e9_848c_02420a000006row22_col1\" class=\"data row22 col1\" >-0.045567</td>\n",
       "            </tr>\n",
       "            <tr>\n",
       "                        <th id=\"T_167e0f3e_b15e_11e9_848c_02420a000006level0_row23\" class=\"row_heading level0 row23\" >23</th>\n",
       "                        <td id=\"T_167e0f3e_b15e_11e9_848c_02420a000006row23_col0\" class=\"data row23 col0\" >studio</td>\n",
       "                        <td id=\"T_167e0f3e_b15e_11e9_848c_02420a000006row23_col1\" class=\"data row23 col1\" >-0.0546411</td>\n",
       "            </tr>\n",
       "            <tr>\n",
       "                        <th id=\"T_167e0f3e_b15e_11e9_848c_02420a000006level0_row24\" class=\"row_heading level0 row24\" >24</th>\n",
       "                        <td id=\"T_167e0f3e_b15e_11e9_848c_02420a000006row24_col0\" class=\"data row24 col0\" >ponds_nearest</td>\n",
       "                        <td id=\"T_167e0f3e_b15e_11e9_848c_02420a000006row24_col1\" class=\"data row24 col1\" >-0.0635059</td>\n",
       "            </tr>\n",
       "            <tr>\n",
       "                        <th id=\"T_167e0f3e_b15e_11e9_848c_02420a000006level0_row25\" class=\"row_heading level0 row25\" >25</th>\n",
       "                        <td id=\"T_167e0f3e_b15e_11e9_848c_02420a000006row25_col0\" class=\"data row25 col0\" >prigorod</td>\n",
       "                        <td id=\"T_167e0f3e_b15e_11e9_848c_02420a000006row25_col1\" class=\"data row25 col1\" >-0.130037</td>\n",
       "            </tr>\n",
       "            <tr>\n",
       "                        <th id=\"T_167e0f3e_b15e_11e9_848c_02420a000006level0_row26\" class=\"row_heading level0 row26\" >26</th>\n",
       "                        <td id=\"T_167e0f3e_b15e_11e9_848c_02420a000006row26_col0\" class=\"data row26 col0\" >kitchen_total_ratio</td>\n",
       "                        <td id=\"T_167e0f3e_b15e_11e9_848c_02420a000006row26_col1\" class=\"data row26 col1\" >-0.139122</td>\n",
       "            </tr>\n",
       "            <tr>\n",
       "                        <th id=\"T_167e0f3e_b15e_11e9_848c_02420a000006level0_row27\" class=\"row_heading level0 row27\" >27</th>\n",
       "                        <td id=\"T_167e0f3e_b15e_11e9_848c_02420a000006row27_col0\" class=\"data row27 col0\" >cityCenters_nearest</td>\n",
       "                        <td id=\"T_167e0f3e_b15e_11e9_848c_02420a000006row27_col1\" class=\"data row27 col1\" >-0.268926</td>\n",
       "            </tr>\n",
       "    </tbody></table>"
      ],
      "text/plain": [
       "<pandas.io.formats.style.Styler at 0x7f729f2b66a0>"
      ]
     },
     "execution_count": 184,
     "metadata": {},
     "output_type": "execute_result"
    }
   ],
   "source": [
    "cor_out_center = df_out_center.corr()\\\n",
    "        .filter(items = ['last_price'])\\\n",
    "        .sort_values('last_price', ascending=False)\\\n",
    "        .reset_index()\\\n",
    "        .rename(columns={'last_price':'cor_price_out_center'})\n",
    "cor_out_center.style.background_gradient('coolwarm')"
   ]
  },
  {
   "cell_type": "markdown",
   "metadata": {},
   "source": [
    "### Для наглядного вывода объединим матрицы корреляций для квартир в центре и вне центра"
   ]
  },
  {
   "cell_type": "code",
   "execution_count": 187,
   "metadata": {},
   "outputs": [
    {
     "data": {
      "text/html": [
       "<div>\n",
       "<style scoped>\n",
       "    .dataframe tbody tr th:only-of-type {\n",
       "        vertical-align: middle;\n",
       "    }\n",
       "\n",
       "    .dataframe tbody tr th {\n",
       "        vertical-align: top;\n",
       "    }\n",
       "\n",
       "    .dataframe thead th {\n",
       "        text-align: right;\n",
       "    }\n",
       "</style>\n",
       "<table border=\"1\" class=\"dataframe\">\n",
       "  <thead>\n",
       "    <tr style=\"text-align: right;\">\n",
       "      <th></th>\n",
       "      <th>index</th>\n",
       "      <th>cor_price_out_center</th>\n",
       "      <th>cor_price_in_center</th>\n",
       "    </tr>\n",
       "  </thead>\n",
       "  <tbody>\n",
       "    <tr>\n",
       "      <th>0</th>\n",
       "      <td>last_price</td>\n",
       "      <td>1.000000</td>\n",
       "      <td>1.000000</td>\n",
       "    </tr>\n",
       "    <tr>\n",
       "      <th>1</th>\n",
       "      <td>total_area</td>\n",
       "      <td>0.747283</td>\n",
       "      <td>0.458743</td>\n",
       "    </tr>\n",
       "    <tr>\n",
       "      <th>2</th>\n",
       "      <td>area</td>\n",
       "      <td>0.747283</td>\n",
       "      <td>0.458743</td>\n",
       "    </tr>\n",
       "    <tr>\n",
       "      <th>3</th>\n",
       "      <td>m2_cost</td>\n",
       "      <td>0.663475</td>\n",
       "      <td>0.830295</td>\n",
       "    </tr>\n",
       "    <tr>\n",
       "      <th>4</th>\n",
       "      <td>living_area</td>\n",
       "      <td>0.570830</td>\n",
       "      <td>0.334000</td>\n",
       "    </tr>\n",
       "    <tr>\n",
       "      <th>5</th>\n",
       "      <td>kitchen_area</td>\n",
       "      <td>0.534512</td>\n",
       "      <td>0.349781</td>\n",
       "    </tr>\n",
       "    <tr>\n",
       "      <th>6</th>\n",
       "      <td>rooms</td>\n",
       "      <td>0.429638</td>\n",
       "      <td>0.204619</td>\n",
       "    </tr>\n",
       "    <tr>\n",
       "      <th>7</th>\n",
       "      <td>ceiling_height</td>\n",
       "      <td>0.349405</td>\n",
       "      <td>0.096775</td>\n",
       "    </tr>\n",
       "    <tr>\n",
       "      <th>8</th>\n",
       "      <td>total_images</td>\n",
       "      <td>0.172444</td>\n",
       "      <td>0.126027</td>\n",
       "    </tr>\n",
       "    <tr>\n",
       "      <th>9</th>\n",
       "      <td>ponds_around3000</td>\n",
       "      <td>0.147165</td>\n",
       "      <td>0.092771</td>\n",
       "    </tr>\n",
       "    <tr>\n",
       "      <th>10</th>\n",
       "      <td>parks_around3000</td>\n",
       "      <td>0.129093</td>\n",
       "      <td>0.106025</td>\n",
       "    </tr>\n",
       "    <tr>\n",
       "      <th>11</th>\n",
       "      <td>balcony</td>\n",
       "      <td>0.125176</td>\n",
       "      <td>0.072124</td>\n",
       "    </tr>\n",
       "    <tr>\n",
       "      <th>12</th>\n",
       "      <td>floors_total</td>\n",
       "      <td>0.123618</td>\n",
       "      <td>0.082333</td>\n",
       "    </tr>\n",
       "    <tr>\n",
       "      <th>13</th>\n",
       "      <td>floor</td>\n",
       "      <td>0.095651</td>\n",
       "      <td>0.135694</td>\n",
       "    </tr>\n",
       "    <tr>\n",
       "      <th>14</th>\n",
       "      <td>parks_nearest</td>\n",
       "      <td>0.065232</td>\n",
       "      <td>-0.013435</td>\n",
       "    </tr>\n",
       "    <tr>\n",
       "      <th>15</th>\n",
       "      <td>days_exposition</td>\n",
       "      <td>0.039659</td>\n",
       "      <td>0.005300</td>\n",
       "    </tr>\n",
       "    <tr>\n",
       "      <th>16</th>\n",
       "      <td>year</td>\n",
       "      <td>0.025789</td>\n",
       "      <td>0.028519</td>\n",
       "    </tr>\n",
       "    <tr>\n",
       "      <th>17</th>\n",
       "      <td>is_apartment</td>\n",
       "      <td>0.019380</td>\n",
       "      <td>0.077726</td>\n",
       "    </tr>\n",
       "    <tr>\n",
       "      <th>18</th>\n",
       "      <td>airports_nearest</td>\n",
       "      <td>0.000693</td>\n",
       "      <td>0.054109</td>\n",
       "    </tr>\n",
       "    <tr>\n",
       "      <th>19</th>\n",
       "      <td>month</td>\n",
       "      <td>-0.002901</td>\n",
       "      <td>-0.029280</td>\n",
       "    </tr>\n",
       "    <tr>\n",
       "      <th>20</th>\n",
       "      <td>week_day</td>\n",
       "      <td>-0.008213</td>\n",
       "      <td>-0.024486</td>\n",
       "    </tr>\n",
       "    <tr>\n",
       "      <th>21</th>\n",
       "      <td>open_plan</td>\n",
       "      <td>-0.036775</td>\n",
       "      <td>-0.016405</td>\n",
       "    </tr>\n",
       "    <tr>\n",
       "      <th>22</th>\n",
       "      <td>live_total_ratio</td>\n",
       "      <td>-0.045567</td>\n",
       "      <td>-0.059898</td>\n",
       "    </tr>\n",
       "    <tr>\n",
       "      <th>23</th>\n",
       "      <td>studio</td>\n",
       "      <td>-0.054641</td>\n",
       "      <td>-0.033113</td>\n",
       "    </tr>\n",
       "    <tr>\n",
       "      <th>24</th>\n",
       "      <td>ponds_nearest</td>\n",
       "      <td>-0.063506</td>\n",
       "      <td>-0.048791</td>\n",
       "    </tr>\n",
       "    <tr>\n",
       "      <th>25</th>\n",
       "      <td>prigorod</td>\n",
       "      <td>-0.130037</td>\n",
       "      <td>NaN</td>\n",
       "    </tr>\n",
       "    <tr>\n",
       "      <th>26</th>\n",
       "      <td>kitchen_total_ratio</td>\n",
       "      <td>-0.139122</td>\n",
       "      <td>-0.057349</td>\n",
       "    </tr>\n",
       "    <tr>\n",
       "      <th>27</th>\n",
       "      <td>cityCenters_nearest</td>\n",
       "      <td>-0.268926</td>\n",
       "      <td>-0.111459</td>\n",
       "    </tr>\n",
       "  </tbody>\n",
       "</table>\n",
       "</div>"
      ],
      "text/plain": [
       "                  index  cor_price_out_center  cor_price_in_center\n",
       "0            last_price              1.000000             1.000000\n",
       "1            total_area              0.747283             0.458743\n",
       "2                  area              0.747283             0.458743\n",
       "3               m2_cost              0.663475             0.830295\n",
       "4           living_area              0.570830             0.334000\n",
       "5          kitchen_area              0.534512             0.349781\n",
       "6                 rooms              0.429638             0.204619\n",
       "7        ceiling_height              0.349405             0.096775\n",
       "8          total_images              0.172444             0.126027\n",
       "9      ponds_around3000              0.147165             0.092771\n",
       "10     parks_around3000              0.129093             0.106025\n",
       "11              balcony              0.125176             0.072124\n",
       "12         floors_total              0.123618             0.082333\n",
       "13                floor              0.095651             0.135694\n",
       "14        parks_nearest              0.065232            -0.013435\n",
       "15      days_exposition              0.039659             0.005300\n",
       "16                 year              0.025789             0.028519\n",
       "17         is_apartment              0.019380             0.077726\n",
       "18     airports_nearest              0.000693             0.054109\n",
       "19                month             -0.002901            -0.029280\n",
       "20             week_day             -0.008213            -0.024486\n",
       "21            open_plan             -0.036775            -0.016405\n",
       "22     live_total_ratio             -0.045567            -0.059898\n",
       "23               studio             -0.054641            -0.033113\n",
       "24        ponds_nearest             -0.063506            -0.048791\n",
       "25             prigorod             -0.130037                  NaN\n",
       "26  kitchen_total_ratio             -0.139122            -0.057349\n",
       "27  cityCenters_nearest             -0.268926            -0.111459"
      ]
     },
     "execution_count": 187,
     "metadata": {},
     "output_type": "execute_result"
    }
   ],
   "source": [
    "cor_out_center.merge(cor_in_center)"
   ]
  },
  {
   "cell_type": "markdown",
   "metadata": {},
   "source": []
  },
  {
   "cell_type": "markdown",
   "metadata": {},
   "source": [
    "## Выводы: \n",
    "* __Для квартир не в центре__, на цену больше влияет площадь (общая, жилая), кол-во комнат, стоимость квадратного метра \n",
    "* __Для квартир в центре__, на цену влияет как стандартные факторы перечисленные для не центральных квартир, так и такие факторы как:\n",
    "            1. Близость к центру\n",
    "            2. Близость водоемов\n",
    "            3. Близость прудов\n",
    "* У жителей центра другие потребности, в отличии от обычных людей, либо оценку делают риэлторы с оглядкой на эти факторы."
   ]
  },
  {
   "cell_type": "markdown",
   "metadata": {},
   "source": [
    "-----"
   ]
  },
  {
   "cell_type": "markdown",
   "metadata": {},
   "source": [
    "------"
   ]
  },
  {
   "cell_type": "markdown",
   "metadata": {},
   "source": [
    "## Подберите наиболее характерные параметры для апартаментов, студий и квартир свободной планировки.\n",
    "* Влияют ли они на цену? Сравните со схожими параметрами квартир типовой планировки."
   ]
  },
  {
   "cell_type": "markdown",
   "metadata": {},
   "source": [
    "### Выберу основные показатели\n",
    "* last_price - последняя цена\n",
    "* rooms — число комнат\n",
    "* total_area — площадь квартиры в квадратных метрах (м²)"
   ]
  },
  {
   "cell_type": "markdown",
   "metadata": {},
   "source": [
    "## Апартаменты"
   ]
  },
  {
   "cell_type": "code",
   "execution_count": 189,
   "metadata": {},
   "outputs": [],
   "source": [
    "# Формирую датафрейм для апартаментов\n",
    "df_apartments = df.query('is_apartment == 1')"
   ]
  },
  {
   "cell_type": "markdown",
   "metadata": {},
   "source": [
    "### Удалим для датафрейма выбросы по стоимости, числу комнат и общей площади"
   ]
  },
  {
   "cell_type": "code",
   "execution_count": 190,
   "metadata": {},
   "outputs": [],
   "source": [
    "# Сформируем список для удаления выбросов в каждом датафрейме\n",
    "features_for_def = ['total_area','rooms','last_price']"
   ]
  },
  {
   "cell_type": "code",
   "execution_count": 191,
   "metadata": {},
   "outputs": [],
   "source": [
    "for feature in features_for_def:\n",
    "    df_apartments = delete_outliers(df_apartments, feature,0)"
   ]
  },
  {
   "cell_type": "code",
   "execution_count": 192,
   "metadata": {},
   "outputs": [],
   "source": [
    "### Сохраним корреляции с ценой\n",
    "apartments_cor = df_apartments.corr()\\\n",
    "        .filter(items = ['last_price'])\\\n",
    "        .sort_values('last_price', ascending=False)\\\n",
    "        .reset_index()\\\n",
    "        .rename(columns={'last_price':'cor_price_apartments'})"
   ]
  },
  {
   "cell_type": "markdown",
   "metadata": {},
   "source": [
    "## Студии"
   ]
  },
  {
   "cell_type": "code",
   "execution_count": 193,
   "metadata": {},
   "outputs": [],
   "source": [
    "# Формирую датафрейм для студий\n",
    "df_studio = df.query('studio == 1')"
   ]
  },
  {
   "cell_type": "markdown",
   "metadata": {},
   "source": [
    "### Удалим для датафрейма выбросы по стоимости, числу комнат и общей площади"
   ]
  },
  {
   "cell_type": "code",
   "execution_count": 194,
   "metadata": {},
   "outputs": [],
   "source": [
    "for feature in features_for_def:\n",
    "    df_studio = delete_outliers(df_studio, feature,0)"
   ]
  },
  {
   "cell_type": "code",
   "execution_count": 195,
   "metadata": {},
   "outputs": [],
   "source": [
    "### Сохраним корреляции с ценой\n",
    "studio_cor = df_studio.corr()\\\n",
    "        .filter(items = ['last_price'])\\\n",
    "        .sort_values('last_price', ascending=False)\\\n",
    "        .reset_index()\\\n",
    "        .rename(columns={'last_price':'cor_price_studio'})"
   ]
  },
  {
   "cell_type": "markdown",
   "metadata": {},
   "source": [
    "## Открытая планировка"
   ]
  },
  {
   "cell_type": "code",
   "execution_count": 196,
   "metadata": {},
   "outputs": [],
   "source": [
    "# Формирую датафрейм для открытой планировки\n",
    "df_open = df.query('open_plan == 1')"
   ]
  },
  {
   "cell_type": "markdown",
   "metadata": {},
   "source": [
    "### Удалим для датафрейма выбросы по стоимости, числу комнат и общей площади"
   ]
  },
  {
   "cell_type": "code",
   "execution_count": 197,
   "metadata": {},
   "outputs": [],
   "source": [
    "for feature in features_for_def:\n",
    "    df_open = delete_outliers(df_open, feature)"
   ]
  },
  {
   "cell_type": "code",
   "execution_count": 198,
   "metadata": {},
   "outputs": [],
   "source": [
    "### Сохраним корреляции с ценой\n",
    "open_cor = df_open.corr()\\\n",
    "        .filter(items = ['last_price'])\\\n",
    "        .sort_values('last_price', ascending=False)\\\n",
    "        .reset_index()\\\n",
    "        .rename(columns={'last_price':'cor_price_open'})"
   ]
  },
  {
   "cell_type": "markdown",
   "metadata": {},
   "source": [
    "## Обычные квартиры"
   ]
  },
  {
   "cell_type": "code",
   "execution_count": 199,
   "metadata": {},
   "outputs": [],
   "source": [
    "# Формирую датафрейм для обычных квартир\n",
    "df_ordinary_flats = df.query('open_plan == 0 & studio == 0 & is_apartment == 0')"
   ]
  },
  {
   "cell_type": "markdown",
   "metadata": {},
   "source": [
    "### Удалим для датафрейма выбросы по стоимости, числу комнат и общей площади"
   ]
  },
  {
   "cell_type": "code",
   "execution_count": 200,
   "metadata": {},
   "outputs": [],
   "source": [
    "for feature in features_for_def:\n",
    "    df_ordinary_flats = delete_outliers(df_ordinary_flats, feature,0)"
   ]
  },
  {
   "cell_type": "code",
   "execution_count": 201,
   "metadata": {},
   "outputs": [],
   "source": [
    "### Сохраним корреляции с ценой\n",
    "ordinary_cor = df_ordinary_flats.corr()\\\n",
    "        .filter(items = ['last_price'])\\\n",
    "        .sort_values('last_price', ascending=False)\\\n",
    "        .reset_index()\\\n",
    "        .rename(columns={'last_price':'cor_price_ordinary'})"
   ]
  },
  {
   "cell_type": "code",
   "execution_count": 202,
   "metadata": {},
   "outputs": [],
   "source": [
    "#соединим все рассчитанные корреляции по всем типам объектов\n",
    "final_corr = apartments_cor.merge(studio_cor)\n",
    "final_corr = final_corr.merge(open_cor)\n",
    "final_corr = final_corr.merge(ordinary_cor)"
   ]
  },
  {
   "cell_type": "code",
   "execution_count": 203,
   "metadata": {},
   "outputs": [
    {
     "data": {
      "text/html": [
       "<div>\n",
       "<style scoped>\n",
       "    .dataframe tbody tr th:only-of-type {\n",
       "        vertical-align: middle;\n",
       "    }\n",
       "\n",
       "    .dataframe tbody tr th {\n",
       "        vertical-align: top;\n",
       "    }\n",
       "\n",
       "    .dataframe thead th {\n",
       "        text-align: right;\n",
       "    }\n",
       "</style>\n",
       "<table border=\"1\" class=\"dataframe\">\n",
       "  <thead>\n",
       "    <tr style=\"text-align: right;\">\n",
       "      <th></th>\n",
       "      <th>index</th>\n",
       "      <th>cor_price_apartments</th>\n",
       "      <th>cor_price_studio</th>\n",
       "      <th>cor_price_open</th>\n",
       "      <th>cor_price_ordinary</th>\n",
       "    </tr>\n",
       "  </thead>\n",
       "  <tbody>\n",
       "    <tr>\n",
       "      <th>0</th>\n",
       "      <td>last_price</td>\n",
       "      <td>1.000000</td>\n",
       "      <td>1.000000</td>\n",
       "      <td>1.000000</td>\n",
       "      <td>1.000000</td>\n",
       "    </tr>\n",
       "    <tr>\n",
       "      <th>1</th>\n",
       "      <td>m2_cost</td>\n",
       "      <td>0.585123</td>\n",
       "      <td>0.889011</td>\n",
       "      <td>0.858152</td>\n",
       "      <td>0.625000</td>\n",
       "    </tr>\n",
       "    <tr>\n",
       "      <th>2</th>\n",
       "      <td>ponds_around3000</td>\n",
       "      <td>0.460849</td>\n",
       "      <td>0.081525</td>\n",
       "      <td>0.368903</td>\n",
       "      <td>0.281195</td>\n",
       "    </tr>\n",
       "    <tr>\n",
       "      <th>3</th>\n",
       "      <td>total_area</td>\n",
       "      <td>0.419009</td>\n",
       "      <td>0.391811</td>\n",
       "      <td>0.198540</td>\n",
       "      <td>0.673935</td>\n",
       "    </tr>\n",
       "    <tr>\n",
       "      <th>4</th>\n",
       "      <td>area</td>\n",
       "      <td>0.419009</td>\n",
       "      <td>0.391811</td>\n",
       "      <td>0.198540</td>\n",
       "      <td>0.673935</td>\n",
       "    </tr>\n",
       "    <tr>\n",
       "      <th>5</th>\n",
       "      <td>parks_around3000</td>\n",
       "      <td>0.359570</td>\n",
       "      <td>0.201508</td>\n",
       "      <td>0.097339</td>\n",
       "      <td>0.248547</td>\n",
       "    </tr>\n",
       "    <tr>\n",
       "      <th>6</th>\n",
       "      <td>living_area</td>\n",
       "      <td>0.334419</td>\n",
       "      <td>0.237972</td>\n",
       "      <td>0.449279</td>\n",
       "      <td>0.526759</td>\n",
       "    </tr>\n",
       "    <tr>\n",
       "      <th>7</th>\n",
       "      <td>balcony</td>\n",
       "      <td>0.312967</td>\n",
       "      <td>0.256695</td>\n",
       "      <td>0.195474</td>\n",
       "      <td>0.089426</td>\n",
       "    </tr>\n",
       "    <tr>\n",
       "      <th>8</th>\n",
       "      <td>month</td>\n",
       "      <td>0.275181</td>\n",
       "      <td>0.149678</td>\n",
       "      <td>-0.130137</td>\n",
       "      <td>0.002962</td>\n",
       "    </tr>\n",
       "    <tr>\n",
       "      <th>9</th>\n",
       "      <td>ceiling_height</td>\n",
       "      <td>0.268174</td>\n",
       "      <td>0.021148</td>\n",
       "      <td>0.127543</td>\n",
       "      <td>0.343147</td>\n",
       "    </tr>\n",
       "    <tr>\n",
       "      <th>10</th>\n",
       "      <td>rooms</td>\n",
       "      <td>0.261526</td>\n",
       "      <td>NaN</td>\n",
       "      <td>NaN</td>\n",
       "      <td>0.421335</td>\n",
       "    </tr>\n",
       "    <tr>\n",
       "      <th>11</th>\n",
       "      <td>parks_nearest</td>\n",
       "      <td>0.235688</td>\n",
       "      <td>0.372526</td>\n",
       "      <td>-0.282227</td>\n",
       "      <td>0.029980</td>\n",
       "    </tr>\n",
       "    <tr>\n",
       "      <th>12</th>\n",
       "      <td>airports_nearest</td>\n",
       "      <td>0.138550</td>\n",
       "      <td>-0.146444</td>\n",
       "      <td>-0.241136</td>\n",
       "      <td>-0.037192</td>\n",
       "    </tr>\n",
       "    <tr>\n",
       "      <th>13</th>\n",
       "      <td>year</td>\n",
       "      <td>0.092582</td>\n",
       "      <td>0.004953</td>\n",
       "      <td>0.186199</td>\n",
       "      <td>0.009026</td>\n",
       "    </tr>\n",
       "    <tr>\n",
       "      <th>14</th>\n",
       "      <td>kitchen_area</td>\n",
       "      <td>0.078273</td>\n",
       "      <td>0.278709</td>\n",
       "      <td>0.149701</td>\n",
       "      <td>0.435392</td>\n",
       "    </tr>\n",
       "    <tr>\n",
       "      <th>15</th>\n",
       "      <td>floor</td>\n",
       "      <td>0.059437</td>\n",
       "      <td>0.231472</td>\n",
       "      <td>0.422469</td>\n",
       "      <td>0.147036</td>\n",
       "    </tr>\n",
       "    <tr>\n",
       "      <th>16</th>\n",
       "      <td>cityCenters_nearest</td>\n",
       "      <td>0.048284</td>\n",
       "      <td>-0.295064</td>\n",
       "      <td>-0.243278</td>\n",
       "      <td>-0.342798</td>\n",
       "    </tr>\n",
       "    <tr>\n",
       "      <th>17</th>\n",
       "      <td>week_day</td>\n",
       "      <td>0.014390</td>\n",
       "      <td>0.058560</td>\n",
       "      <td>-0.099104</td>\n",
       "      <td>-0.015062</td>\n",
       "    </tr>\n",
       "    <tr>\n",
       "      <th>18</th>\n",
       "      <td>days_exposition</td>\n",
       "      <td>-0.027241</td>\n",
       "      <td>0.007343</td>\n",
       "      <td>0.139808</td>\n",
       "      <td>0.033032</td>\n",
       "    </tr>\n",
       "    <tr>\n",
       "      <th>19</th>\n",
       "      <td>live_total_ratio</td>\n",
       "      <td>-0.047619</td>\n",
       "      <td>-0.062778</td>\n",
       "      <td>0.288998</td>\n",
       "      <td>-0.005425</td>\n",
       "    </tr>\n",
       "    <tr>\n",
       "      <th>20</th>\n",
       "      <td>total_images</td>\n",
       "      <td>-0.100842</td>\n",
       "      <td>0.171712</td>\n",
       "      <td>0.156392</td>\n",
       "      <td>0.157307</td>\n",
       "    </tr>\n",
       "    <tr>\n",
       "      <th>21</th>\n",
       "      <td>floors_total</td>\n",
       "      <td>-0.224462</td>\n",
       "      <td>0.314427</td>\n",
       "      <td>0.404235</td>\n",
       "      <td>0.218923</td>\n",
       "    </tr>\n",
       "    <tr>\n",
       "      <th>22</th>\n",
       "      <td>kitchen_total_ratio</td>\n",
       "      <td>-0.234158</td>\n",
       "      <td>-0.339426</td>\n",
       "      <td>-0.187193</td>\n",
       "      <td>-0.157783</td>\n",
       "    </tr>\n",
       "    <tr>\n",
       "      <th>23</th>\n",
       "      <td>prigorod</td>\n",
       "      <td>-0.253576</td>\n",
       "      <td>-0.499152</td>\n",
       "      <td>-0.386586</td>\n",
       "      <td>-0.308201</td>\n",
       "    </tr>\n",
       "    <tr>\n",
       "      <th>24</th>\n",
       "      <td>ponds_nearest</td>\n",
       "      <td>-0.590954</td>\n",
       "      <td>-0.147403</td>\n",
       "      <td>-0.229368</td>\n",
       "      <td>-0.048217</td>\n",
       "    </tr>\n",
       "    <tr>\n",
       "      <th>25</th>\n",
       "      <td>is_apartment</td>\n",
       "      <td>NaN</td>\n",
       "      <td>NaN</td>\n",
       "      <td>NaN</td>\n",
       "      <td>NaN</td>\n",
       "    </tr>\n",
       "    <tr>\n",
       "      <th>26</th>\n",
       "      <td>studio</td>\n",
       "      <td>NaN</td>\n",
       "      <td>NaN</td>\n",
       "      <td>NaN</td>\n",
       "      <td>NaN</td>\n",
       "    </tr>\n",
       "    <tr>\n",
       "      <th>27</th>\n",
       "      <td>open_plan</td>\n",
       "      <td>NaN</td>\n",
       "      <td>NaN</td>\n",
       "      <td>NaN</td>\n",
       "      <td>NaN</td>\n",
       "    </tr>\n",
       "  </tbody>\n",
       "</table>\n",
       "</div>"
      ],
      "text/plain": [
       "                  index  cor_price_apartments  cor_price_studio  \\\n",
       "0            last_price              1.000000          1.000000   \n",
       "1               m2_cost              0.585123          0.889011   \n",
       "2      ponds_around3000              0.460849          0.081525   \n",
       "3            total_area              0.419009          0.391811   \n",
       "4                  area              0.419009          0.391811   \n",
       "5      parks_around3000              0.359570          0.201508   \n",
       "6           living_area              0.334419          0.237972   \n",
       "7               balcony              0.312967          0.256695   \n",
       "8                 month              0.275181          0.149678   \n",
       "9        ceiling_height              0.268174          0.021148   \n",
       "10                rooms              0.261526               NaN   \n",
       "11        parks_nearest              0.235688          0.372526   \n",
       "12     airports_nearest              0.138550         -0.146444   \n",
       "13                 year              0.092582          0.004953   \n",
       "14         kitchen_area              0.078273          0.278709   \n",
       "15                floor              0.059437          0.231472   \n",
       "16  cityCenters_nearest              0.048284         -0.295064   \n",
       "17             week_day              0.014390          0.058560   \n",
       "18      days_exposition             -0.027241          0.007343   \n",
       "19     live_total_ratio             -0.047619         -0.062778   \n",
       "20         total_images             -0.100842          0.171712   \n",
       "21         floors_total             -0.224462          0.314427   \n",
       "22  kitchen_total_ratio             -0.234158         -0.339426   \n",
       "23             prigorod             -0.253576         -0.499152   \n",
       "24        ponds_nearest             -0.590954         -0.147403   \n",
       "25         is_apartment                   NaN               NaN   \n",
       "26               studio                   NaN               NaN   \n",
       "27            open_plan                   NaN               NaN   \n",
       "\n",
       "    cor_price_open  cor_price_ordinary  \n",
       "0         1.000000            1.000000  \n",
       "1         0.858152            0.625000  \n",
       "2         0.368903            0.281195  \n",
       "3         0.198540            0.673935  \n",
       "4         0.198540            0.673935  \n",
       "5         0.097339            0.248547  \n",
       "6         0.449279            0.526759  \n",
       "7         0.195474            0.089426  \n",
       "8        -0.130137            0.002962  \n",
       "9         0.127543            0.343147  \n",
       "10             NaN            0.421335  \n",
       "11       -0.282227            0.029980  \n",
       "12       -0.241136           -0.037192  \n",
       "13        0.186199            0.009026  \n",
       "14        0.149701            0.435392  \n",
       "15        0.422469            0.147036  \n",
       "16       -0.243278           -0.342798  \n",
       "17       -0.099104           -0.015062  \n",
       "18        0.139808            0.033032  \n",
       "19        0.288998           -0.005425  \n",
       "20        0.156392            0.157307  \n",
       "21        0.404235            0.218923  \n",
       "22       -0.187193           -0.157783  \n",
       "23       -0.386586           -0.308201  \n",
       "24       -0.229368           -0.048217  \n",
       "25             NaN                 NaN  \n",
       "26             NaN                 NaN  \n",
       "27             NaN                 NaN  "
      ]
     },
     "execution_count": 203,
     "metadata": {},
     "output_type": "execute_result"
    }
   ],
   "source": [
    "final_corr"
   ]
  },
  {
   "cell_type": "markdown",
   "metadata": {},
   "source": [
    "## Вывод\n",
    "### Корреляции отличаются, но cкорее они обусловлены тем, что квартиры расположены в разных гео. Тем не менее:\n",
    "    \n",
    "    1. Для студий стоимость максимально коррелирована с близостью к центру и ценой за квадратный метр\n",
    "    2. Для открытой планировки максимальная корреляция с ценой за м2, близостью к центру и жилой площадью\n",
    "    3. Для апартаментов максимальная корреляция с ценой за м2, близостью прудов и общей площадью\n",
    "    4. Для обычных квартир максимальная корреляция цены с ценой за м2, площадью, количеством комнат и площадью кухни"
   ]
  },
  {
   "cell_type": "markdown",
   "metadata": {},
   "source": [
    "----"
   ]
  },
  {
   "cell_type": "markdown",
   "metadata": {},
   "source": [
    "-----"
   ]
  },
  {
   "cell_type": "markdown",
   "metadata": {},
   "source": [
    "# Финальный вывод"
   ]
  },
  {
   "cell_type": "markdown",
   "metadata": {},
   "source": [
    "* __Типичная площадь квартиры__ по всему датафрейму: 50,1 м2.\n",
    "* __Типичная стоимость квадратного метра__ по всему датафрейму 93902 р/м2.\n",
    "* __Типичная стоимость квартиры__ 4,4 млн руб. по всему датафрейму.\n",
    "----\n",
    "* __В пригороде__ медиана цены квадратного метра меньше, чем в городе, так же меньше разброс значений. \n",
    "------\n",
    "* __Cамая большая цена квадратного метра__ в СПб, __самая дешевая цена квадратного метра__ в Выборге. \n",
    "* В СПб и Пушкине самый сильный разброс по стоимости квадратного метра - много дорогих объектов.\n",
    "------\n",
    "* __С увеличением числа комнат, медианная стоимость квадратного метра начинает падать__, однако для нестандартных квартир, 6 и более комнат, она снова начинает расти. У студий цена квадратного метра выше, чем у 1-6 квартир.\n",
    "-----\n",
    "* __Cтоимость квадратного метра зависит от этажа__, обычно первый этаж дешевле последнего.\n",
    "-----\n",
    "* __Есть зависимость между ценой за м2 и удаленностью от центра__, чем дальше от центра, тем дешевле квартира, однако на определенном промежутке удаленности зависимость сходит на нет.\n",
    "----\n",
    "* __Цена квадратного метра не зависит от дня публикации объявления.__\n",
    "----\n",
    "* __Цена квадратного метра не зависит от месяца публикации объявления.__\n",
    "----\n",
    "* __Цена квадратного метра зависит от года__ (но скорее обуславливается мультиколлинеарностью с другой неизвестной переменной, например, инфляцией/покупательской способностью). В 2014 году медиана цены за квадратный м2 была выше , чем в 2015-2018. Начиная с 2018 стоимость м2 начала увеличиваться.\n",
    "----\n",
    "* __В центре на стоимость квартиры влияет близость парков, водоемов и центра__,  помимо основных параметров: m2_cost, total_area, area, living_area, living_area, rooms\n",
    "* __Не в центре на стоимость влияют основные параметры__: m2_cost, total_area, area, living_area, living_area, rooms\n",
    "\n",
    "----\n",
    "* __Корреляции по типам квартир (открытая планировка, студии, апартаменты, обычные квартиры)__ Корреляции отличаются, но cкорее они обусловлены тем, что квартиры расположены в разных гео. Тем не менее:\n",
    "#### -\n",
    "1. Для студий стоимость максимально коррелирована с близостью к центру и ценой за квадратный метр\n",
    "2. Для открытой планировки максимальная корреляция с ценой за м2, близостью к центру и жилой площадью\n",
    "3. Для апартаментов максимальная корреляция с ценой за м2, близостью прудов и общей площадью\n",
    "4. Для обычных квартир максимальная корреляция цены с ценой за м2, площадью, количеством комнат и площадью кухни"
   ]
  },
  {
   "cell_type": "markdown",
   "metadata": {},
   "source": [
    "----------\n",
    "\n",
    "## <span style=\"color:orange\">Комментарий от наставника</span>\n",
    "\n",
    "Пётр, твоя работа близка к финальной версии. Попрошу тебя:\n",
    "1. Пройтись по всем комментариям и внести необохдимые правки\n",
    "2. Учесть рекомендации по графикам и внимательно доработать этот пункт, попробовать автоматизировать построение графиков\n",
    "3. Доработать финальный вывод.\n",
    "\n",
    "---------"
   ]
  }
 ],
 "metadata": {
  "kernelspec": {
   "display_name": "Python 3",
   "language": "python",
   "name": "python3"
  },
  "language_info": {
   "codemirror_mode": {
    "name": "ipython",
    "version": 3
   },
   "file_extension": ".py",
   "mimetype": "text/x-python",
   "name": "python",
   "nbconvert_exporter": "python",
   "pygments_lexer": "ipython3",
   "version": "3.7.2"
  }
 },
 "nbformat": 4,
 "nbformat_minor": 2
}
