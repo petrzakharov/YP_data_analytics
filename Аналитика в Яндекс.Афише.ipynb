{
 "cells": [
  {
   "cell_type": "markdown",
   "metadata": {},
   "source": [
    "\n",
    "\n",
    "### Шаг 1. Загрузите данные и подготовьте их к анализу\n",
    "1. Загрузите данные о визитах, заказах и расходах в переменные. \n",
    "2. Оптимизируйте данные для анализа. Убедитесь, что тип данных в каждой колонке — правильный. \n",
    "3. Путь к файлам: /datasets/visits_log.csv /datasets/orders_log.csv /datasets/costs.csv\n",
    "---\n",
    "### Шаг 2. Постройте отчеты и посчитайте метрики\n",
    "#### Продукт\n",
    "1. Сколько людей пользуются в день, неделю, месяц?\n",
    "2. Сколько сессий в день?\n",
    "3. Сколько длится одна сессия?\n",
    "4. Как часто люди возвращаются?\n",
    "\n",
    "#### Продажи\n",
    "1. Когда люди начинают покупать?\n",
    "2. Сколько раз покупают за период?\n",
    "3. Какой средний чек?\n",
    "4. Сколько денег приносят? (LTV)\n",
    "\n",
    "#### Маркетинг\n",
    "1. Сколько денег потратили? Всего / на каждый источник / по времени\n",
    "2. Сколько стоило привлечение одного покупателя из каждого источника?\n",
    "3. На сколько окупились расходы? (ROI)\n",
    "4. Отобразите на графиках, как эти метрики отличаются по устройствам и по рекламным источникам? Как они меняются во времени?\n",
    "---\n",
    "### Шаг 3. Напишите вывод: порекомендуйте маркетологам, куда и сколько им стоит вкладывать денег?\n",
    "#### Какие источники/платформы вы бы порекомендовали? \n",
    "1. Объясните свой выбор: на какие метрики вы ориентируетесь? \n",
    "2. Почему? \n",
    "3. Какие выводы вы сделали, узнав значение метрик?"
   ]
  },
  {
   "cell_type": "markdown",
   "metadata": {},
   "source": [
    "### Описание данных\n",
    "\n",
    "#### Таблица visits (лог сервера с информацией о посещениях сайта):\n",
    "* Uid — уникальный идентификатор пользователя\n",
    "* Device — категория устройства пользователя\n",
    "* Start Ts — дата и время начала сессии\n",
    "* End Ts — дата и время окончания сессии\n",
    "* Source Id — идентификатор рекламного источника, из которого пришел пользователь\n",
    "\n",
    "#### Таблица orders (информация о заказах):\n",
    "* Uid — уникальный пользователя, который сделал заказ\n",
    "* Buy Ts — дата и время заказа\n",
    "* Revenue — выручка Яндекс.Афиши с этого заказа\n",
    "\n",
    "#### Таблица costs (информация о затратах на маркетинг):\n",
    "* source_id — идентификатор рекламного источника\n",
    "* dt — дата\n",
    "* costs — затраты на этот рекламный источник в этот день"
   ]
  },
  {
   "cell_type": "markdown",
   "metadata": {},
   "source": [
    "---\n",
    "---"
   ]
  },
  {
   "cell_type": "markdown",
   "metadata": {},
   "source": [
    "## Шаг 1. Загрузите данные и подготовьте их к анализу"
   ]
  },
  {
   "cell_type": "code",
   "execution_count": 1,
   "metadata": {},
   "outputs": [],
   "source": [
    "import pandas as pd\n",
    "import numpy as np\n",
    "import seaborn as sns\n",
    "import matplotlib.pyplot as plt"
   ]
  },
  {
   "cell_type": "code",
   "execution_count": 2,
   "metadata": {},
   "outputs": [],
   "source": [
    "visits = pd.read_csv('/datasets/visits_log.csv')\n",
    "orders = pd.read_csv('/datasets/orders_log.csv')\n",
    "costs = pd.read_csv('/datasets/costs.csv')"
   ]
  },
  {
   "cell_type": "code",
   "execution_count": 3,
   "metadata": {},
   "outputs": [],
   "source": [
    "def firstlook(df):\n",
    "    print(f'Размер датафрейма \\n{df.shape}')\n",
    "    print()\n",
    "    print('Info')\n",
    "    print(f'{df.info()}')\n",
    "    print()\n",
    "    print(f'Доля пропущенных значений \\n {df.isna().sum()/df.shape[0]}')\n",
    "    print()\n",
    "    print(f'Количество дубликатов \\n {costs.duplicated().sum()}')\n",
    "    print()\n",
    "    return visits.describe().style.format(\"{:.0f}\")"
   ]
  },
  {
   "cell_type": "markdown",
   "metadata": {},
   "source": [
    "## Датафрейм Visits"
   ]
  },
  {
   "cell_type": "code",
   "execution_count": 4,
   "metadata": {
    "scrolled": false
   },
   "outputs": [
    {
     "name": "stdout",
     "output_type": "stream",
     "text": [
      "Размер датафрейма \n",
      "(358532, 5)\n",
      "\n",
      "Info\n",
      "<class 'pandas.core.frame.DataFrame'>\n",
      "RangeIndex: 358532 entries, 0 to 358531\n",
      "Data columns (total 5 columns):\n",
      "Uid          358532 non-null uint64\n",
      "Device       358532 non-null object\n",
      "End Ts       358532 non-null object\n",
      "Source Id    358532 non-null int64\n",
      "Start Ts     358532 non-null object\n",
      "dtypes: int64(1), object(3), uint64(1)\n",
      "memory usage: 13.7+ MB\n",
      "None\n",
      "\n",
      "Доля пропущенных значений \n",
      " Uid          0.0\n",
      "Device       0.0\n",
      "End Ts       0.0\n",
      "Source Id    0.0\n",
      "Start Ts     0.0\n",
      "dtype: float64\n",
      "\n",
      "Количество дубликатов \n",
      " 0\n",
      "\n"
     ]
    },
    {
     "data": {
      "text/html": [
       "<style  type=\"text/css\" >\n",
       "</style><table id=\"T_231412d0_de9e_11e9_8916_02420a0004d9\" ><thead>    <tr>        <th class=\"blank level0\" ></th>        <th class=\"col_heading level0 col0\" >Uid</th>        <th class=\"col_heading level0 col1\" >Source Id</th>    </tr></thead><tbody>\n",
       "                <tr>\n",
       "                        <th id=\"T_231412d0_de9e_11e9_8916_02420a0004d9level0_row0\" class=\"row_heading level0 row0\" >count</th>\n",
       "                        <td id=\"T_231412d0_de9e_11e9_8916_02420a0004d9row0_col0\" class=\"data row0 col0\" >358532</td>\n",
       "                        <td id=\"T_231412d0_de9e_11e9_8916_02420a0004d9row0_col1\" class=\"data row0 col1\" >358532</td>\n",
       "            </tr>\n",
       "            <tr>\n",
       "                        <th id=\"T_231412d0_de9e_11e9_8916_02420a0004d9level0_row1\" class=\"row_heading level0 row1\" >mean</th>\n",
       "                        <td id=\"T_231412d0_de9e_11e9_8916_02420a0004d9row1_col0\" class=\"data row1 col0\" >9202607055077392384</td>\n",
       "                        <td id=\"T_231412d0_de9e_11e9_8916_02420a0004d9row1_col1\" class=\"data row1 col1\" >4</td>\n",
       "            </tr>\n",
       "            <tr>\n",
       "                        <th id=\"T_231412d0_de9e_11e9_8916_02420a0004d9level0_row2\" class=\"row_heading level0 row2\" >std</th>\n",
       "                        <td id=\"T_231412d0_de9e_11e9_8916_02420a0004d9row2_col0\" class=\"data row2 col0\" >5298200272346094592</td>\n",
       "                        <td id=\"T_231412d0_de9e_11e9_8916_02420a0004d9row2_col1\" class=\"data row2 col1\" >2</td>\n",
       "            </tr>\n",
       "            <tr>\n",
       "                        <th id=\"T_231412d0_de9e_11e9_8916_02420a0004d9level0_row3\" class=\"row_heading level0 row3\" >min</th>\n",
       "                        <td id=\"T_231412d0_de9e_11e9_8916_02420a0004d9row3_col0\" class=\"data row3 col0\" >11863502262781</td>\n",
       "                        <td id=\"T_231412d0_de9e_11e9_8916_02420a0004d9row3_col1\" class=\"data row3 col1\" >1</td>\n",
       "            </tr>\n",
       "            <tr>\n",
       "                        <th id=\"T_231412d0_de9e_11e9_8916_02420a0004d9level0_row4\" class=\"row_heading level0 row4\" >25%</th>\n",
       "                        <td id=\"T_231412d0_de9e_11e9_8916_02420a0004d9row4_col0\" class=\"data row4 col0\" >4613706364100929536</td>\n",
       "                        <td id=\"T_231412d0_de9e_11e9_8916_02420a0004d9row4_col1\" class=\"data row4 col1\" >3</td>\n",
       "            </tr>\n",
       "            <tr>\n",
       "                        <th id=\"T_231412d0_de9e_11e9_8916_02420a0004d9level0_row5\" class=\"row_heading level0 row5\" >50%</th>\n",
       "                        <td id=\"T_231412d0_de9e_11e9_8916_02420a0004d9row5_col0\" class=\"data row5 col0\" >9227412908740601856</td>\n",
       "                        <td id=\"T_231412d0_de9e_11e9_8916_02420a0004d9row5_col1\" class=\"data row5 col1\" >4</td>\n",
       "            </tr>\n",
       "            <tr>\n",
       "                        <th id=\"T_231412d0_de9e_11e9_8916_02420a0004d9level0_row6\" class=\"row_heading level0 row6\" >75%</th>\n",
       "                        <td id=\"T_231412d0_de9e_11e9_8916_02420a0004d9row6_col0\" class=\"data row6 col0\" >13727927139481282560</td>\n",
       "                        <td id=\"T_231412d0_de9e_11e9_8916_02420a0004d9row6_col1\" class=\"data row6 col1\" >5</td>\n",
       "            </tr>\n",
       "            <tr>\n",
       "                        <th id=\"T_231412d0_de9e_11e9_8916_02420a0004d9level0_row7\" class=\"row_heading level0 row7\" >max</th>\n",
       "                        <td id=\"T_231412d0_de9e_11e9_8916_02420a0004d9row7_col0\" class=\"data row7 col0\" >18446676030785673216</td>\n",
       "                        <td id=\"T_231412d0_de9e_11e9_8916_02420a0004d9row7_col1\" class=\"data row7 col1\" >10</td>\n",
       "            </tr>\n",
       "    </tbody></table>"
      ],
      "text/plain": [
       "<pandas.io.formats.style.Styler at 0x7f029818f2b0>"
      ]
     },
     "execution_count": 4,
     "metadata": {},
     "output_type": "execute_result"
    }
   ],
   "source": [
    "firstlook(visits)"
   ]
  },
  {
   "cell_type": "code",
   "execution_count": 5,
   "metadata": {},
   "outputs": [
    {
     "data": {
      "text/html": [
       "<div>\n",
       "<style scoped>\n",
       "    .dataframe tbody tr th:only-of-type {\n",
       "        vertical-align: middle;\n",
       "    }\n",
       "\n",
       "    .dataframe tbody tr th {\n",
       "        vertical-align: top;\n",
       "    }\n",
       "\n",
       "    .dataframe thead th {\n",
       "        text-align: right;\n",
       "    }\n",
       "</style>\n",
       "<table border=\"1\" class=\"dataframe\">\n",
       "  <thead>\n",
       "    <tr style=\"text-align: right;\">\n",
       "      <th></th>\n",
       "      <th>Uid</th>\n",
       "      <th>Device</th>\n",
       "      <th>End Ts</th>\n",
       "      <th>Source Id</th>\n",
       "      <th>Start Ts</th>\n",
       "    </tr>\n",
       "  </thead>\n",
       "  <tbody>\n",
       "    <tr>\n",
       "      <th>0</th>\n",
       "      <td>16879256277535980062</td>\n",
       "      <td>touch</td>\n",
       "      <td>20.12.2017 17:38</td>\n",
       "      <td>4</td>\n",
       "      <td>20.12.2017 17:20</td>\n",
       "    </tr>\n",
       "    <tr>\n",
       "      <th>1</th>\n",
       "      <td>104060357244891740</td>\n",
       "      <td>desktop</td>\n",
       "      <td>19.02.2018 17:21</td>\n",
       "      <td>2</td>\n",
       "      <td>19.02.2018 16:53</td>\n",
       "    </tr>\n",
       "    <tr>\n",
       "      <th>2</th>\n",
       "      <td>7459035603376831527</td>\n",
       "      <td>touch</td>\n",
       "      <td>01.07.2017 1:54</td>\n",
       "      <td>5</td>\n",
       "      <td>01.07.2017 1:54</td>\n",
       "    </tr>\n",
       "    <tr>\n",
       "      <th>3</th>\n",
       "      <td>16174680259334210214</td>\n",
       "      <td>desktop</td>\n",
       "      <td>20.05.2018 11:23</td>\n",
       "      <td>9</td>\n",
       "      <td>20.05.2018 10:59</td>\n",
       "    </tr>\n",
       "    <tr>\n",
       "      <th>4</th>\n",
       "      <td>9969694820036681168</td>\n",
       "      <td>desktop</td>\n",
       "      <td>27.12.2017 14:06</td>\n",
       "      <td>3</td>\n",
       "      <td>27.12.2017 14:06</td>\n",
       "    </tr>\n",
       "  </tbody>\n",
       "</table>\n",
       "</div>"
      ],
      "text/plain": [
       "                    Uid   Device            End Ts  Source Id  \\\n",
       "0  16879256277535980062    touch  20.12.2017 17:38          4   \n",
       "1    104060357244891740  desktop  19.02.2018 17:21          2   \n",
       "2   7459035603376831527    touch   01.07.2017 1:54          5   \n",
       "3  16174680259334210214  desktop  20.05.2018 11:23          9   \n",
       "4   9969694820036681168  desktop  27.12.2017 14:06          3   \n",
       "\n",
       "           Start Ts  \n",
       "0  20.12.2017 17:20  \n",
       "1  19.02.2018 16:53  \n",
       "2   01.07.2017 1:54  \n",
       "3  20.05.2018 10:59  \n",
       "4  27.12.2017 14:06  "
      ]
     },
     "execution_count": 5,
     "metadata": {},
     "output_type": "execute_result"
    }
   ],
   "source": [
    "visits.head()"
   ]
  },
  {
   "cell_type": "markdown",
   "metadata": {},
   "source": [
    "### Visits\n",
    "* Необходимо привести даты (End Ts, Start Ts) в формат datetime\n",
    "* Уберем пробелы в названии колонок"
   ]
  },
  {
   "cell_type": "code",
   "execution_count": 6,
   "metadata": {},
   "outputs": [],
   "source": [
    "visits = visits.rename(columns={'Source Id':'source_id', \n",
    "                               'Device':'device', \n",
    "                               'Uid':'uid', \n",
    "                               'Start Ts':'start_ts',\n",
    "                                'End Ts':'end_ts'})"
   ]
  },
  {
   "cell_type": "code",
   "execution_count": 7,
   "metadata": {},
   "outputs": [],
   "source": [
    "visits['end_ts'] = pd.to_datetime(visits['end_ts'], format = '%d.%m.%Y %H:%M')\n",
    "visits['start_ts'] = pd.to_datetime(visits['start_ts'], format = '%d.%m.%Y %H:%M')"
   ]
  },
  {
   "cell_type": "markdown",
   "metadata": {},
   "source": [
    "---"
   ]
  },
  {
   "cell_type": "markdown",
   "metadata": {},
   "source": [
    "## Датафрейм orders"
   ]
  },
  {
   "cell_type": "code",
   "execution_count": 8,
   "metadata": {
    "scrolled": false
   },
   "outputs": [
    {
     "name": "stdout",
     "output_type": "stream",
     "text": [
      "Размер датафрейма \n",
      "(50415, 3)\n",
      "\n",
      "Info\n",
      "<class 'pandas.core.frame.DataFrame'>\n",
      "RangeIndex: 50415 entries, 0 to 50414\n",
      "Data columns (total 3 columns):\n",
      "Buy Ts     50415 non-null object\n",
      "Revenue    50415 non-null float64\n",
      "Uid        50415 non-null uint64\n",
      "dtypes: float64(1), object(1), uint64(1)\n",
      "memory usage: 1.2+ MB\n",
      "None\n",
      "\n",
      "Доля пропущенных значений \n",
      " Buy Ts     0.0\n",
      "Revenue    0.0\n",
      "Uid        0.0\n",
      "dtype: float64\n",
      "\n",
      "Количество дубликатов \n",
      " 0\n",
      "\n"
     ]
    },
    {
     "data": {
      "text/html": [
       "<style  type=\"text/css\" >\n",
       "</style><table id=\"T_24d72468_de9e_11e9_8916_02420a0004d9\" ><thead>    <tr>        <th class=\"blank level0\" ></th>        <th class=\"col_heading level0 col0\" >uid</th>        <th class=\"col_heading level0 col1\" >source_id</th>    </tr></thead><tbody>\n",
       "                <tr>\n",
       "                        <th id=\"T_24d72468_de9e_11e9_8916_02420a0004d9level0_row0\" class=\"row_heading level0 row0\" >count</th>\n",
       "                        <td id=\"T_24d72468_de9e_11e9_8916_02420a0004d9row0_col0\" class=\"data row0 col0\" >358532</td>\n",
       "                        <td id=\"T_24d72468_de9e_11e9_8916_02420a0004d9row0_col1\" class=\"data row0 col1\" >358532</td>\n",
       "            </tr>\n",
       "            <tr>\n",
       "                        <th id=\"T_24d72468_de9e_11e9_8916_02420a0004d9level0_row1\" class=\"row_heading level0 row1\" >mean</th>\n",
       "                        <td id=\"T_24d72468_de9e_11e9_8916_02420a0004d9row1_col0\" class=\"data row1 col0\" >9202607055077392384</td>\n",
       "                        <td id=\"T_24d72468_de9e_11e9_8916_02420a0004d9row1_col1\" class=\"data row1 col1\" >4</td>\n",
       "            </tr>\n",
       "            <tr>\n",
       "                        <th id=\"T_24d72468_de9e_11e9_8916_02420a0004d9level0_row2\" class=\"row_heading level0 row2\" >std</th>\n",
       "                        <td id=\"T_24d72468_de9e_11e9_8916_02420a0004d9row2_col0\" class=\"data row2 col0\" >5298200272346094592</td>\n",
       "                        <td id=\"T_24d72468_de9e_11e9_8916_02420a0004d9row2_col1\" class=\"data row2 col1\" >2</td>\n",
       "            </tr>\n",
       "            <tr>\n",
       "                        <th id=\"T_24d72468_de9e_11e9_8916_02420a0004d9level0_row3\" class=\"row_heading level0 row3\" >min</th>\n",
       "                        <td id=\"T_24d72468_de9e_11e9_8916_02420a0004d9row3_col0\" class=\"data row3 col0\" >11863502262781</td>\n",
       "                        <td id=\"T_24d72468_de9e_11e9_8916_02420a0004d9row3_col1\" class=\"data row3 col1\" >1</td>\n",
       "            </tr>\n",
       "            <tr>\n",
       "                        <th id=\"T_24d72468_de9e_11e9_8916_02420a0004d9level0_row4\" class=\"row_heading level0 row4\" >25%</th>\n",
       "                        <td id=\"T_24d72468_de9e_11e9_8916_02420a0004d9row4_col0\" class=\"data row4 col0\" >4613706364100929536</td>\n",
       "                        <td id=\"T_24d72468_de9e_11e9_8916_02420a0004d9row4_col1\" class=\"data row4 col1\" >3</td>\n",
       "            </tr>\n",
       "            <tr>\n",
       "                        <th id=\"T_24d72468_de9e_11e9_8916_02420a0004d9level0_row5\" class=\"row_heading level0 row5\" >50%</th>\n",
       "                        <td id=\"T_24d72468_de9e_11e9_8916_02420a0004d9row5_col0\" class=\"data row5 col0\" >9227412908740601856</td>\n",
       "                        <td id=\"T_24d72468_de9e_11e9_8916_02420a0004d9row5_col1\" class=\"data row5 col1\" >4</td>\n",
       "            </tr>\n",
       "            <tr>\n",
       "                        <th id=\"T_24d72468_de9e_11e9_8916_02420a0004d9level0_row6\" class=\"row_heading level0 row6\" >75%</th>\n",
       "                        <td id=\"T_24d72468_de9e_11e9_8916_02420a0004d9row6_col0\" class=\"data row6 col0\" >13727927139481282560</td>\n",
       "                        <td id=\"T_24d72468_de9e_11e9_8916_02420a0004d9row6_col1\" class=\"data row6 col1\" >5</td>\n",
       "            </tr>\n",
       "            <tr>\n",
       "                        <th id=\"T_24d72468_de9e_11e9_8916_02420a0004d9level0_row7\" class=\"row_heading level0 row7\" >max</th>\n",
       "                        <td id=\"T_24d72468_de9e_11e9_8916_02420a0004d9row7_col0\" class=\"data row7 col0\" >18446676030785673216</td>\n",
       "                        <td id=\"T_24d72468_de9e_11e9_8916_02420a0004d9row7_col1\" class=\"data row7 col1\" >10</td>\n",
       "            </tr>\n",
       "    </tbody></table>"
      ],
      "text/plain": [
       "<pandas.io.formats.style.Styler at 0x7f02656eef28>"
      ]
     },
     "execution_count": 8,
     "metadata": {},
     "output_type": "execute_result"
    }
   ],
   "source": [
    "firstlook(orders)"
   ]
  },
  {
   "cell_type": "code",
   "execution_count": 9,
   "metadata": {
    "scrolled": true
   },
   "outputs": [
    {
     "data": {
      "text/html": [
       "<div>\n",
       "<style scoped>\n",
       "    .dataframe tbody tr th:only-of-type {\n",
       "        vertical-align: middle;\n",
       "    }\n",
       "\n",
       "    .dataframe tbody tr th {\n",
       "        vertical-align: top;\n",
       "    }\n",
       "\n",
       "    .dataframe thead th {\n",
       "        text-align: right;\n",
       "    }\n",
       "</style>\n",
       "<table border=\"1\" class=\"dataframe\">\n",
       "  <thead>\n",
       "    <tr style=\"text-align: right;\">\n",
       "      <th></th>\n",
       "      <th>Buy Ts</th>\n",
       "      <th>Revenue</th>\n",
       "      <th>Uid</th>\n",
       "    </tr>\n",
       "  </thead>\n",
       "  <tbody>\n",
       "    <tr>\n",
       "      <th>0</th>\n",
       "      <td>2017-06-01 00:10:00</td>\n",
       "      <td>17.00</td>\n",
       "      <td>10329302124590727494</td>\n",
       "    </tr>\n",
       "    <tr>\n",
       "      <th>1</th>\n",
       "      <td>2017-06-01 00:25:00</td>\n",
       "      <td>0.55</td>\n",
       "      <td>11627257723692907447</td>\n",
       "    </tr>\n",
       "    <tr>\n",
       "      <th>2</th>\n",
       "      <td>2017-06-01 00:27:00</td>\n",
       "      <td>0.37</td>\n",
       "      <td>17903680561304213844</td>\n",
       "    </tr>\n",
       "    <tr>\n",
       "      <th>3</th>\n",
       "      <td>2017-06-01 00:29:00</td>\n",
       "      <td>0.55</td>\n",
       "      <td>16109239769442553005</td>\n",
       "    </tr>\n",
       "    <tr>\n",
       "      <th>4</th>\n",
       "      <td>2017-06-01 07:58:00</td>\n",
       "      <td>0.37</td>\n",
       "      <td>14200605875248379450</td>\n",
       "    </tr>\n",
       "  </tbody>\n",
       "</table>\n",
       "</div>"
      ],
      "text/plain": [
       "                Buy Ts  Revenue                   Uid\n",
       "0  2017-06-01 00:10:00    17.00  10329302124590727494\n",
       "1  2017-06-01 00:25:00     0.55  11627257723692907447\n",
       "2  2017-06-01 00:27:00     0.37  17903680561304213844\n",
       "3  2017-06-01 00:29:00     0.55  16109239769442553005\n",
       "4  2017-06-01 07:58:00     0.37  14200605875248379450"
      ]
     },
     "execution_count": 9,
     "metadata": {},
     "output_type": "execute_result"
    }
   ],
   "source": [
    "orders.head()"
   ]
  },
  {
   "cell_type": "markdown",
   "metadata": {},
   "source": [
    "### Orders\n",
    "* Необходимо привести время покупки в формат datetime\n",
    "* Заменить пробелы на нижнее подчеркивание в названии колонок"
   ]
  },
  {
   "cell_type": "code",
   "execution_count": 10,
   "metadata": {},
   "outputs": [],
   "source": [
    "orders.columns = [i.replace(' ','_') for i in orders.columns]"
   ]
  },
  {
   "cell_type": "code",
   "execution_count": 11,
   "metadata": {},
   "outputs": [],
   "source": [
    "orders['Buy_Ts'] = pd.to_datetime(orders['Buy_Ts'])"
   ]
  },
  {
   "cell_type": "code",
   "execution_count": 12,
   "metadata": {},
   "outputs": [],
   "source": [
    "orders.columns = [columns.lower() for columns in orders]"
   ]
  },
  {
   "cell_type": "code",
   "execution_count": 13,
   "metadata": {
    "scrolled": true
   },
   "outputs": [
    {
     "name": "stdout",
     "output_type": "stream",
     "text": [
      "<class 'pandas.core.frame.DataFrame'>\n",
      "RangeIndex: 50415 entries, 0 to 50414\n",
      "Data columns (total 3 columns):\n",
      "buy_ts     50415 non-null datetime64[ns]\n",
      "revenue    50415 non-null float64\n",
      "uid        50415 non-null uint64\n",
      "dtypes: datetime64[ns](1), float64(1), uint64(1)\n",
      "memory usage: 1.2 MB\n"
     ]
    }
   ],
   "source": [
    "orders.info()"
   ]
  },
  {
   "cell_type": "code",
   "execution_count": 14,
   "metadata": {
    "scrolled": true
   },
   "outputs": [
    {
     "data": {
      "text/html": [
       "<div>\n",
       "<style scoped>\n",
       "    .dataframe tbody tr th:only-of-type {\n",
       "        vertical-align: middle;\n",
       "    }\n",
       "\n",
       "    .dataframe tbody tr th {\n",
       "        vertical-align: top;\n",
       "    }\n",
       "\n",
       "    .dataframe thead th {\n",
       "        text-align: right;\n",
       "    }\n",
       "</style>\n",
       "<table border=\"1\" class=\"dataframe\">\n",
       "  <thead>\n",
       "    <tr style=\"text-align: right;\">\n",
       "      <th></th>\n",
       "      <th>buy_ts</th>\n",
       "      <th>revenue</th>\n",
       "      <th>uid</th>\n",
       "    </tr>\n",
       "  </thead>\n",
       "  <tbody>\n",
       "    <tr>\n",
       "      <th>0</th>\n",
       "      <td>2017-06-01 00:10:00</td>\n",
       "      <td>17.00</td>\n",
       "      <td>10329302124590727494</td>\n",
       "    </tr>\n",
       "    <tr>\n",
       "      <th>1</th>\n",
       "      <td>2017-06-01 00:25:00</td>\n",
       "      <td>0.55</td>\n",
       "      <td>11627257723692907447</td>\n",
       "    </tr>\n",
       "    <tr>\n",
       "      <th>2</th>\n",
       "      <td>2017-06-01 00:27:00</td>\n",
       "      <td>0.37</td>\n",
       "      <td>17903680561304213844</td>\n",
       "    </tr>\n",
       "    <tr>\n",
       "      <th>3</th>\n",
       "      <td>2017-06-01 00:29:00</td>\n",
       "      <td>0.55</td>\n",
       "      <td>16109239769442553005</td>\n",
       "    </tr>\n",
       "    <tr>\n",
       "      <th>4</th>\n",
       "      <td>2017-06-01 07:58:00</td>\n",
       "      <td>0.37</td>\n",
       "      <td>14200605875248379450</td>\n",
       "    </tr>\n",
       "  </tbody>\n",
       "</table>\n",
       "</div>"
      ],
      "text/plain": [
       "               buy_ts  revenue                   uid\n",
       "0 2017-06-01 00:10:00    17.00  10329302124590727494\n",
       "1 2017-06-01 00:25:00     0.55  11627257723692907447\n",
       "2 2017-06-01 00:27:00     0.37  17903680561304213844\n",
       "3 2017-06-01 00:29:00     0.55  16109239769442553005\n",
       "4 2017-06-01 07:58:00     0.37  14200605875248379450"
      ]
     },
     "execution_count": 14,
     "metadata": {},
     "output_type": "execute_result"
    }
   ],
   "source": [
    "orders.head()"
   ]
  },
  {
   "cell_type": "markdown",
   "metadata": {},
   "source": [
    "---"
   ]
  },
  {
   "cell_type": "markdown",
   "metadata": {},
   "source": [
    "## Датафрейм costs"
   ]
  },
  {
   "cell_type": "code",
   "execution_count": 15,
   "metadata": {},
   "outputs": [
    {
     "name": "stdout",
     "output_type": "stream",
     "text": [
      "Размер датафрейма \n",
      "(2542, 3)\n",
      "\n",
      "Info\n",
      "<class 'pandas.core.frame.DataFrame'>\n",
      "RangeIndex: 2542 entries, 0 to 2541\n",
      "Data columns (total 3 columns):\n",
      "source_id    2542 non-null int64\n",
      "dt           2542 non-null object\n",
      "costs        2542 non-null float64\n",
      "dtypes: float64(1), int64(1), object(1)\n",
      "memory usage: 59.7+ KB\n",
      "None\n",
      "\n",
      "Доля пропущенных значений \n",
      " source_id    0.0\n",
      "dt           0.0\n",
      "costs        0.0\n",
      "dtype: float64\n",
      "\n",
      "Количество дубликатов \n",
      " 0\n",
      "\n"
     ]
    },
    {
     "data": {
      "text/html": [
       "<style  type=\"text/css\" >\n",
       "</style><table id=\"T_24fe84f4_de9e_11e9_8916_02420a0004d9\" ><thead>    <tr>        <th class=\"blank level0\" ></th>        <th class=\"col_heading level0 col0\" >uid</th>        <th class=\"col_heading level0 col1\" >source_id</th>    </tr></thead><tbody>\n",
       "                <tr>\n",
       "                        <th id=\"T_24fe84f4_de9e_11e9_8916_02420a0004d9level0_row0\" class=\"row_heading level0 row0\" >count</th>\n",
       "                        <td id=\"T_24fe84f4_de9e_11e9_8916_02420a0004d9row0_col0\" class=\"data row0 col0\" >358532</td>\n",
       "                        <td id=\"T_24fe84f4_de9e_11e9_8916_02420a0004d9row0_col1\" class=\"data row0 col1\" >358532</td>\n",
       "            </tr>\n",
       "            <tr>\n",
       "                        <th id=\"T_24fe84f4_de9e_11e9_8916_02420a0004d9level0_row1\" class=\"row_heading level0 row1\" >mean</th>\n",
       "                        <td id=\"T_24fe84f4_de9e_11e9_8916_02420a0004d9row1_col0\" class=\"data row1 col0\" >9202607055077392384</td>\n",
       "                        <td id=\"T_24fe84f4_de9e_11e9_8916_02420a0004d9row1_col1\" class=\"data row1 col1\" >4</td>\n",
       "            </tr>\n",
       "            <tr>\n",
       "                        <th id=\"T_24fe84f4_de9e_11e9_8916_02420a0004d9level0_row2\" class=\"row_heading level0 row2\" >std</th>\n",
       "                        <td id=\"T_24fe84f4_de9e_11e9_8916_02420a0004d9row2_col0\" class=\"data row2 col0\" >5298200272346094592</td>\n",
       "                        <td id=\"T_24fe84f4_de9e_11e9_8916_02420a0004d9row2_col1\" class=\"data row2 col1\" >2</td>\n",
       "            </tr>\n",
       "            <tr>\n",
       "                        <th id=\"T_24fe84f4_de9e_11e9_8916_02420a0004d9level0_row3\" class=\"row_heading level0 row3\" >min</th>\n",
       "                        <td id=\"T_24fe84f4_de9e_11e9_8916_02420a0004d9row3_col0\" class=\"data row3 col0\" >11863502262781</td>\n",
       "                        <td id=\"T_24fe84f4_de9e_11e9_8916_02420a0004d9row3_col1\" class=\"data row3 col1\" >1</td>\n",
       "            </tr>\n",
       "            <tr>\n",
       "                        <th id=\"T_24fe84f4_de9e_11e9_8916_02420a0004d9level0_row4\" class=\"row_heading level0 row4\" >25%</th>\n",
       "                        <td id=\"T_24fe84f4_de9e_11e9_8916_02420a0004d9row4_col0\" class=\"data row4 col0\" >4613706364100929536</td>\n",
       "                        <td id=\"T_24fe84f4_de9e_11e9_8916_02420a0004d9row4_col1\" class=\"data row4 col1\" >3</td>\n",
       "            </tr>\n",
       "            <tr>\n",
       "                        <th id=\"T_24fe84f4_de9e_11e9_8916_02420a0004d9level0_row5\" class=\"row_heading level0 row5\" >50%</th>\n",
       "                        <td id=\"T_24fe84f4_de9e_11e9_8916_02420a0004d9row5_col0\" class=\"data row5 col0\" >9227412908740601856</td>\n",
       "                        <td id=\"T_24fe84f4_de9e_11e9_8916_02420a0004d9row5_col1\" class=\"data row5 col1\" >4</td>\n",
       "            </tr>\n",
       "            <tr>\n",
       "                        <th id=\"T_24fe84f4_de9e_11e9_8916_02420a0004d9level0_row6\" class=\"row_heading level0 row6\" >75%</th>\n",
       "                        <td id=\"T_24fe84f4_de9e_11e9_8916_02420a0004d9row6_col0\" class=\"data row6 col0\" >13727927139481282560</td>\n",
       "                        <td id=\"T_24fe84f4_de9e_11e9_8916_02420a0004d9row6_col1\" class=\"data row6 col1\" >5</td>\n",
       "            </tr>\n",
       "            <tr>\n",
       "                        <th id=\"T_24fe84f4_de9e_11e9_8916_02420a0004d9level0_row7\" class=\"row_heading level0 row7\" >max</th>\n",
       "                        <td id=\"T_24fe84f4_de9e_11e9_8916_02420a0004d9row7_col0\" class=\"data row7 col0\" >18446676030785673216</td>\n",
       "                        <td id=\"T_24fe84f4_de9e_11e9_8916_02420a0004d9row7_col1\" class=\"data row7 col1\" >10</td>\n",
       "            </tr>\n",
       "    </tbody></table>"
      ],
      "text/plain": [
       "<pandas.io.formats.style.Styler at 0x7f025cadb240>"
      ]
     },
     "execution_count": 15,
     "metadata": {},
     "output_type": "execute_result"
    }
   ],
   "source": [
    "firstlook(costs)"
   ]
  },
  {
   "cell_type": "code",
   "execution_count": 16,
   "metadata": {},
   "outputs": [
    {
     "data": {
      "text/html": [
       "<div>\n",
       "<style scoped>\n",
       "    .dataframe tbody tr th:only-of-type {\n",
       "        vertical-align: middle;\n",
       "    }\n",
       "\n",
       "    .dataframe tbody tr th {\n",
       "        vertical-align: top;\n",
       "    }\n",
       "\n",
       "    .dataframe thead th {\n",
       "        text-align: right;\n",
       "    }\n",
       "</style>\n",
       "<table border=\"1\" class=\"dataframe\">\n",
       "  <thead>\n",
       "    <tr style=\"text-align: right;\">\n",
       "      <th></th>\n",
       "      <th>source_id</th>\n",
       "      <th>dt</th>\n",
       "      <th>costs</th>\n",
       "    </tr>\n",
       "  </thead>\n",
       "  <tbody>\n",
       "    <tr>\n",
       "      <th>0</th>\n",
       "      <td>1</td>\n",
       "      <td>2017-06-01</td>\n",
       "      <td>75.20</td>\n",
       "    </tr>\n",
       "    <tr>\n",
       "      <th>1</th>\n",
       "      <td>1</td>\n",
       "      <td>2017-06-02</td>\n",
       "      <td>62.25</td>\n",
       "    </tr>\n",
       "    <tr>\n",
       "      <th>2</th>\n",
       "      <td>1</td>\n",
       "      <td>2017-06-03</td>\n",
       "      <td>36.53</td>\n",
       "    </tr>\n",
       "    <tr>\n",
       "      <th>3</th>\n",
       "      <td>1</td>\n",
       "      <td>2017-06-04</td>\n",
       "      <td>55.00</td>\n",
       "    </tr>\n",
       "    <tr>\n",
       "      <th>4</th>\n",
       "      <td>1</td>\n",
       "      <td>2017-06-05</td>\n",
       "      <td>57.08</td>\n",
       "    </tr>\n",
       "  </tbody>\n",
       "</table>\n",
       "</div>"
      ],
      "text/plain": [
       "   source_id          dt  costs\n",
       "0          1  2017-06-01  75.20\n",
       "1          1  2017-06-02  62.25\n",
       "2          1  2017-06-03  36.53\n",
       "3          1  2017-06-04  55.00\n",
       "4          1  2017-06-05  57.08"
      ]
     },
     "execution_count": 16,
     "metadata": {},
     "output_type": "execute_result"
    }
   ],
   "source": [
    "costs.head()"
   ]
  },
  {
   "cell_type": "code",
   "execution_count": 17,
   "metadata": {},
   "outputs": [
    {
     "data": {
      "text/plain": [
       "array([ 1,  2,  3,  4,  5,  9, 10])"
      ]
     },
     "execution_count": 17,
     "metadata": {},
     "output_type": "execute_result"
    }
   ],
   "source": [
    "costs.source_id.unique()"
   ]
  },
  {
   "cell_type": "markdown",
   "metadata": {},
   "source": [
    "### costs\n",
    "Даты необходимо привести в формат datetime"
   ]
  },
  {
   "cell_type": "code",
   "execution_count": 18,
   "metadata": {},
   "outputs": [],
   "source": [
    "costs['dt'] = pd.to_datetime(costs['dt'])"
   ]
  },
  {
   "cell_type": "code",
   "execution_count": 19,
   "metadata": {},
   "outputs": [
    {
     "data": {
      "text/html": [
       "<div>\n",
       "<style scoped>\n",
       "    .dataframe tbody tr th:only-of-type {\n",
       "        vertical-align: middle;\n",
       "    }\n",
       "\n",
       "    .dataframe tbody tr th {\n",
       "        vertical-align: top;\n",
       "    }\n",
       "\n",
       "    .dataframe thead th {\n",
       "        text-align: right;\n",
       "    }\n",
       "</style>\n",
       "<table border=\"1\" class=\"dataframe\">\n",
       "  <thead>\n",
       "    <tr style=\"text-align: right;\">\n",
       "      <th></th>\n",
       "      <th>source_id</th>\n",
       "      <th>dt</th>\n",
       "      <th>costs</th>\n",
       "    </tr>\n",
       "  </thead>\n",
       "  <tbody>\n",
       "    <tr>\n",
       "      <th>0</th>\n",
       "      <td>1</td>\n",
       "      <td>2017-06-01</td>\n",
       "      <td>75.20</td>\n",
       "    </tr>\n",
       "    <tr>\n",
       "      <th>1</th>\n",
       "      <td>1</td>\n",
       "      <td>2017-06-02</td>\n",
       "      <td>62.25</td>\n",
       "    </tr>\n",
       "    <tr>\n",
       "      <th>2</th>\n",
       "      <td>1</td>\n",
       "      <td>2017-06-03</td>\n",
       "      <td>36.53</td>\n",
       "    </tr>\n",
       "    <tr>\n",
       "      <th>3</th>\n",
       "      <td>1</td>\n",
       "      <td>2017-06-04</td>\n",
       "      <td>55.00</td>\n",
       "    </tr>\n",
       "    <tr>\n",
       "      <th>4</th>\n",
       "      <td>1</td>\n",
       "      <td>2017-06-05</td>\n",
       "      <td>57.08</td>\n",
       "    </tr>\n",
       "  </tbody>\n",
       "</table>\n",
       "</div>"
      ],
      "text/plain": [
       "   source_id         dt  costs\n",
       "0          1 2017-06-01  75.20\n",
       "1          1 2017-06-02  62.25\n",
       "2          1 2017-06-03  36.53\n",
       "3          1 2017-06-04  55.00\n",
       "4          1 2017-06-05  57.08"
      ]
     },
     "execution_count": 19,
     "metadata": {},
     "output_type": "execute_result"
    }
   ],
   "source": [
    "costs.head()"
   ]
  },
  {
   "cell_type": "markdown",
   "metadata": {},
   "source": [
    "---\n",
    "---\n",
    "---"
   ]
  },
  {
   "cell_type": "markdown",
   "metadata": {},
   "source": [
    "# Шаг 2. Постройте отчеты и посчитайте метрики"
   ]
  },
  {
   "cell_type": "markdown",
   "metadata": {},
   "source": [
    "## Продукт\n",
    "* Сколько людей пользуются в день, неделю, месяц?\n",
    "* Сколько сессий в день?\n",
    "* Сколько длится одна сессия?\n",
    "* Как часто люди возвращаются?"
   ]
  },
  {
   "cell_type": "markdown",
   "metadata": {},
   "source": [
    "#### Для ответа на эти вопросы, мы исследуем датафрейм visits"
   ]
  },
  {
   "cell_type": "markdown",
   "metadata": {},
   "source": [
    "---"
   ]
  },
  {
   "cell_type": "markdown",
   "metadata": {},
   "source": [
    "## Сколько людей пользуются в день, неделю, месяц?\n",
    "* Найдем количество уникальных UID в день, неделю и месяц. Или по другому vanity metrics, или DAU/WAU/MAU\n",
    "* Учтем, что в датафрейме статистика за 2 года, поэтому надо выделять год и учитывать его в агрегации"
   ]
  },
  {
   "cell_type": "code",
   "execution_count": 20,
   "metadata": {},
   "outputs": [],
   "source": [
    "visits['month'] = visits['start_ts'].dt.month\n",
    "visits['date'] = visits['start_ts'].dt.day\n",
    "visits['week'] = visits['start_ts'].dt.week\n",
    "visits['year'] = visits['start_ts'].dt.year"
   ]
  },
  {
   "cell_type": "code",
   "execution_count": 21,
   "metadata": {
    "scrolled": false
   },
   "outputs": [
    {
     "data": {
      "text/html": [
       "<div>\n",
       "<style scoped>\n",
       "    .dataframe tbody tr th:only-of-type {\n",
       "        vertical-align: middle;\n",
       "    }\n",
       "\n",
       "    .dataframe tbody tr th {\n",
       "        vertical-align: top;\n",
       "    }\n",
       "\n",
       "    .dataframe thead th {\n",
       "        text-align: right;\n",
       "    }\n",
       "</style>\n",
       "<table border=\"1\" class=\"dataframe\">\n",
       "  <thead>\n",
       "    <tr style=\"text-align: right;\">\n",
       "      <th></th>\n",
       "      <th>uid</th>\n",
       "      <th>device</th>\n",
       "      <th>end_ts</th>\n",
       "      <th>source_id</th>\n",
       "      <th>start_ts</th>\n",
       "      <th>month</th>\n",
       "      <th>date</th>\n",
       "      <th>week</th>\n",
       "      <th>year</th>\n",
       "    </tr>\n",
       "  </thead>\n",
       "  <tbody>\n",
       "    <tr>\n",
       "      <th>0</th>\n",
       "      <td>16879256277535980062</td>\n",
       "      <td>touch</td>\n",
       "      <td>2017-12-20 17:38:00</td>\n",
       "      <td>4</td>\n",
       "      <td>2017-12-20 17:20:00</td>\n",
       "      <td>12</td>\n",
       "      <td>20</td>\n",
       "      <td>51</td>\n",
       "      <td>2017</td>\n",
       "    </tr>\n",
       "    <tr>\n",
       "      <th>1</th>\n",
       "      <td>104060357244891740</td>\n",
       "      <td>desktop</td>\n",
       "      <td>2018-02-19 17:21:00</td>\n",
       "      <td>2</td>\n",
       "      <td>2018-02-19 16:53:00</td>\n",
       "      <td>2</td>\n",
       "      <td>19</td>\n",
       "      <td>8</td>\n",
       "      <td>2018</td>\n",
       "    </tr>\n",
       "    <tr>\n",
       "      <th>2</th>\n",
       "      <td>7459035603376831527</td>\n",
       "      <td>touch</td>\n",
       "      <td>2017-07-01 01:54:00</td>\n",
       "      <td>5</td>\n",
       "      <td>2017-07-01 01:54:00</td>\n",
       "      <td>7</td>\n",
       "      <td>1</td>\n",
       "      <td>26</td>\n",
       "      <td>2017</td>\n",
       "    </tr>\n",
       "    <tr>\n",
       "      <th>3</th>\n",
       "      <td>16174680259334210214</td>\n",
       "      <td>desktop</td>\n",
       "      <td>2018-05-20 11:23:00</td>\n",
       "      <td>9</td>\n",
       "      <td>2018-05-20 10:59:00</td>\n",
       "      <td>5</td>\n",
       "      <td>20</td>\n",
       "      <td>20</td>\n",
       "      <td>2018</td>\n",
       "    </tr>\n",
       "    <tr>\n",
       "      <th>4</th>\n",
       "      <td>9969694820036681168</td>\n",
       "      <td>desktop</td>\n",
       "      <td>2017-12-27 14:06:00</td>\n",
       "      <td>3</td>\n",
       "      <td>2017-12-27 14:06:00</td>\n",
       "      <td>12</td>\n",
       "      <td>27</td>\n",
       "      <td>52</td>\n",
       "      <td>2017</td>\n",
       "    </tr>\n",
       "  </tbody>\n",
       "</table>\n",
       "</div>"
      ],
      "text/plain": [
       "                    uid   device              end_ts  source_id  \\\n",
       "0  16879256277535980062    touch 2017-12-20 17:38:00          4   \n",
       "1    104060357244891740  desktop 2018-02-19 17:21:00          2   \n",
       "2   7459035603376831527    touch 2017-07-01 01:54:00          5   \n",
       "3  16174680259334210214  desktop 2018-05-20 11:23:00          9   \n",
       "4   9969694820036681168  desktop 2017-12-27 14:06:00          3   \n",
       "\n",
       "             start_ts  month  date  week  year  \n",
       "0 2017-12-20 17:20:00     12    20    51  2017  \n",
       "1 2018-02-19 16:53:00      2    19     8  2018  \n",
       "2 2017-07-01 01:54:00      7     1    26  2017  \n",
       "3 2018-05-20 10:59:00      5    20    20  2018  \n",
       "4 2017-12-27 14:06:00     12    27    52  2017  "
      ]
     },
     "execution_count": 21,
     "metadata": {},
     "output_type": "execute_result"
    }
   ],
   "source": [
    "visits.head()"
   ]
  },
  {
   "cell_type": "code",
   "execution_count": 22,
   "metadata": {
    "scrolled": false
   },
   "outputs": [],
   "source": [
    "def product_metrics(df):\n",
    "    metrics_dict = {'date':'DAU','week':'WAU','month':'MAU'}\n",
    "    for i in metrics_dict.keys():\n",
    "        if i == 'date':\n",
    "            temp = df.groupby(['year','month',i]).agg({'uid':'nunique'}) \n",
    "        else:\n",
    "            temp = df.groupby(['year',i]).agg({'uid':'nunique'})\n",
    "        print(f'{metrics_dict[i]}: Среднее =  {int(temp.mean())}, Медиана = {int(temp.median())}')\n",
    "        ax = temp.reset_index()['uid'].plot(kind='hist', bins=100)\n",
    "        ax.set(title=f'Распределение количества уникальных пользователей за период: {i}', ylabel='Частота', xlabel='Количество уников')\n",
    "        sns.set(rc={'figure.figsize':(9,6)})\n",
    "        plt.show()\n",
    "# чтобы охарактеризовать последнее распределение(месяц) одной центральной тенденцией, возможно стоит использовать моду"
   ]
  },
  {
   "cell_type": "code",
   "execution_count": 23,
   "metadata": {},
   "outputs": [
    {
     "name": "stdout",
     "output_type": "stream",
     "text": [
      "DAU: Среднее =  907, Медиана = 921\n"
     ]
    },
    {
     "data": {
      "image/png": "[encoded data removed]",
      "text/plain": [
       "<Figure size 432x288 with 1 Axes>"
      ]
     },
     "metadata": {
      "needs_background": "light"
     },
     "output_type": "display_data"
    },
    {
     "name": "stdout",
     "output_type": "stream",
     "text": [
      "WAU: Среднее =  5716, Медиана = 5740\n"
     ]
    },
    {
     "data": {
      "image/png": "[encoded data removed]",
      "text/plain": [
       "<Figure size 648x432 with 1 Axes>"
      ]
     },
     "metadata": {},
     "output_type": "display_data"
    },
    {
     "name": "stdout",
     "output_type": "stream",
     "text": [
      "MAU: Среднее =  23228, Медиана = 24240\n"
     ]
    },
    {
     "data": {
      "image/png": "[encoded data removed]",
      "text/plain": [
       "<Figure size 648x432 with 1 Axes>"
      ]
     },
     "metadata": {},
     "output_type": "display_data"
    }
   ],
   "source": [
    "product_metrics(visits)"
   ]
  },
  {
   "cell_type": "markdown",
   "metadata": {},
   "source": [
    "---"
   ]
  },
  {
   "cell_type": "markdown",
   "metadata": {},
   "source": [
    "----------\n",
    "\n",
    "## <span style=\"color:green\">Комментарий от наставника<span>\n",
    "\n",
    "Очень крутая реализация расчётов, молодец! \n",
    "\n",
    "---------"
   ]
  },
  {
   "cell_type": "markdown",
   "metadata": {},
   "source": [
    "## Сколько сессий в день?\n",
    "* В нашем датафрейме одна строка = одной сессии, применим агрегацию из прошлой задачки, но вместо nunique используем count."
   ]
  },
  {
   "cell_type": "code",
   "execution_count": 24,
   "metadata": {},
   "outputs": [
    {
     "data": {
      "image/png": "[encoded data removed]",
      "text/plain": [
       "<Figure size 648x432 with 1 Axes>"
      ]
     },
     "metadata": {},
     "output_type": "display_data"
    }
   ],
   "source": [
    "ax = visits.groupby(['year','month','date']).agg({'uid':'count'}).plot(kind='hist', bins=100)\n",
    "ax.set(title='Распределение количества сессий в день', xlabel = 'Количество сессий в день', ylabel='Частота')\n",
    "plt.show()"
   ]
  },
  {
   "cell_type": "code",
   "execution_count": 25,
   "metadata": {
    "scrolled": true
   },
   "outputs": [
    {
     "data": {
      "text/plain": [
       "985.0"
      ]
     },
     "execution_count": 25,
     "metadata": {},
     "output_type": "execute_result"
    }
   ],
   "source": [
    "#график более-менее симметричный, можем взять среднее/медиану\n",
    "visits.groupby(['year','month','date']).agg({'uid':['count']}).mean()[0].round()"
   ]
  },
  {
   "cell_type": "code",
   "execution_count": 26,
   "metadata": {},
   "outputs": [
    {
     "data": {
      "text/plain": [
       "1000.0"
      ]
     },
     "execution_count": 26,
     "metadata": {},
     "output_type": "execute_result"
    }
   ],
   "source": [
    "visits.groupby(['year','month','date']).agg({'uid':['count']}).median()[0].round()"
   ]
  },
  {
   "cell_type": "markdown",
   "metadata": {},
   "source": [
    "# Вывод\n",
    "* среднее число сессий в день: 985"
   ]
  },
  {
   "cell_type": "markdown",
   "metadata": {},
   "source": [
    "---"
   ]
  },
  {
   "cell_type": "markdown",
   "metadata": {},
   "source": [
    "## Сколько длится одна сессия?\n",
    "* Длительность сессии это дельта между окончанием сессии и стартом, выразим ее в секундах"
   ]
  },
  {
   "cell_type": "code",
   "execution_count": 27,
   "metadata": {},
   "outputs": [
    {
     "data": {
      "text/html": [
       "<div>\n",
       "<style scoped>\n",
       "    .dataframe tbody tr th:only-of-type {\n",
       "        vertical-align: middle;\n",
       "    }\n",
       "\n",
       "    .dataframe tbody tr th {\n",
       "        vertical-align: top;\n",
       "    }\n",
       "\n",
       "    .dataframe thead th {\n",
       "        text-align: right;\n",
       "    }\n",
       "</style>\n",
       "<table border=\"1\" class=\"dataframe\">\n",
       "  <thead>\n",
       "    <tr style=\"text-align: right;\">\n",
       "      <th></th>\n",
       "      <th>uid</th>\n",
       "      <th>device</th>\n",
       "      <th>end_ts</th>\n",
       "      <th>source_id</th>\n",
       "      <th>start_ts</th>\n",
       "      <th>month</th>\n",
       "      <th>date</th>\n",
       "      <th>week</th>\n",
       "      <th>year</th>\n",
       "    </tr>\n",
       "  </thead>\n",
       "  <tbody>\n",
       "    <tr>\n",
       "      <th>0</th>\n",
       "      <td>16879256277535980062</td>\n",
       "      <td>touch</td>\n",
       "      <td>2017-12-20 17:38:00</td>\n",
       "      <td>4</td>\n",
       "      <td>2017-12-20 17:20:00</td>\n",
       "      <td>12</td>\n",
       "      <td>20</td>\n",
       "      <td>51</td>\n",
       "      <td>2017</td>\n",
       "    </tr>\n",
       "    <tr>\n",
       "      <th>1</th>\n",
       "      <td>104060357244891740</td>\n",
       "      <td>desktop</td>\n",
       "      <td>2018-02-19 17:21:00</td>\n",
       "      <td>2</td>\n",
       "      <td>2018-02-19 16:53:00</td>\n",
       "      <td>2</td>\n",
       "      <td>19</td>\n",
       "      <td>8</td>\n",
       "      <td>2018</td>\n",
       "    </tr>\n",
       "    <tr>\n",
       "      <th>2</th>\n",
       "      <td>7459035603376831527</td>\n",
       "      <td>touch</td>\n",
       "      <td>2017-07-01 01:54:00</td>\n",
       "      <td>5</td>\n",
       "      <td>2017-07-01 01:54:00</td>\n",
       "      <td>7</td>\n",
       "      <td>1</td>\n",
       "      <td>26</td>\n",
       "      <td>2017</td>\n",
       "    </tr>\n",
       "    <tr>\n",
       "      <th>3</th>\n",
       "      <td>16174680259334210214</td>\n",
       "      <td>desktop</td>\n",
       "      <td>2018-05-20 11:23:00</td>\n",
       "      <td>9</td>\n",
       "      <td>2018-05-20 10:59:00</td>\n",
       "      <td>5</td>\n",
       "      <td>20</td>\n",
       "      <td>20</td>\n",
       "      <td>2018</td>\n",
       "    </tr>\n",
       "    <tr>\n",
       "      <th>4</th>\n",
       "      <td>9969694820036681168</td>\n",
       "      <td>desktop</td>\n",
       "      <td>2017-12-27 14:06:00</td>\n",
       "      <td>3</td>\n",
       "      <td>2017-12-27 14:06:00</td>\n",
       "      <td>12</td>\n",
       "      <td>27</td>\n",
       "      <td>52</td>\n",
       "      <td>2017</td>\n",
       "    </tr>\n",
       "  </tbody>\n",
       "</table>\n",
       "</div>"
      ],
      "text/plain": [
       "                    uid   device              end_ts  source_id  \\\n",
       "0  16879256277535980062    touch 2017-12-20 17:38:00          4   \n",
       "1    104060357244891740  desktop 2018-02-19 17:21:00          2   \n",
       "2   7459035603376831527    touch 2017-07-01 01:54:00          5   \n",
       "3  16174680259334210214  desktop 2018-05-20 11:23:00          9   \n",
       "4   9969694820036681168  desktop 2017-12-27 14:06:00          3   \n",
       "\n",
       "             start_ts  month  date  week  year  \n",
       "0 2017-12-20 17:20:00     12    20    51  2017  \n",
       "1 2018-02-19 16:53:00      2    19     8  2018  \n",
       "2 2017-07-01 01:54:00      7     1    26  2017  \n",
       "3 2018-05-20 10:59:00      5    20    20  2018  \n",
       "4 2017-12-27 14:06:00     12    27    52  2017  "
      ]
     },
     "execution_count": 27,
     "metadata": {},
     "output_type": "execute_result"
    }
   ],
   "source": [
    "visits.head()"
   ]
  },
  {
   "cell_type": "code",
   "execution_count": 28,
   "metadata": {},
   "outputs": [],
   "source": [
    "visits['session_duration_sec'] = (visits['end_ts'] - visits['start_ts']).dt.seconds"
   ]
  },
  {
   "cell_type": "code",
   "execution_count": 29,
   "metadata": {},
   "outputs": [
    {
     "data": {
      "image/png": "[encoded data removed]",
      "text/plain": [
       "<Figure size 648x432 with 1 Axes>"
      ]
     },
     "metadata": {},
     "output_type": "display_data"
    }
   ],
   "source": [
    "ax = visits['session_duration_sec'].plot(kind='hist', bins=100)\n",
    "ax.set(title='Распределение длины сессий в секундах', ylabel='Частота',xlabel='Длина сессии')\n",
    "plt.show()"
   ]
  },
  {
   "cell_type": "markdown",
   "metadata": {},
   "source": [
    "#### Т.к. график смещенный и не симетричный, в качестве характеристики центральной тенденции используем моду"
   ]
  },
  {
   "cell_type": "code",
   "execution_count": 30,
   "metadata": {},
   "outputs": [
    {
     "data": {
      "text/plain": [
       "60"
      ]
     },
     "execution_count": 30,
     "metadata": {},
     "output_type": "execute_result"
    }
   ],
   "source": [
    "visits['session_duration_sec'].mode()[0]"
   ]
  },
  {
   "cell_type": "markdown",
   "metadata": {},
   "source": [
    "# Вывод \n",
    "* Мода длины сессии равна 60 секундам"
   ]
  },
  {
   "cell_type": "markdown",
   "metadata": {},
   "source": [
    "---"
   ]
  },
  {
   "cell_type": "markdown",
   "metadata": {},
   "source": [
    "## Как часто люди возвращаются?\n",
    "### На вопрос можно ответить двумя способами:\n",
    "1. Среднее количество сессий на одного пользователя;\n",
    "2. Среднее количество возвратов, для пользователей, которые возвращаются (имеют > 1 сессии). Возврат в моем понимании, это количество посещений минус один. 3 захода на сайт -> пользователь возвращался 2 раза:\n",
    "    * Как часто -> сколько возвратов на пользователя было за период -> получить количество возвратов для всех уникальных -> охарактеризовать распределение"
   ]
  },
  {
   "cell_type": "markdown",
   "metadata": {},
   "source": [
    "### Найдем среднее количество сеансов на уникального пользователя за весь период (группируя по месяцу/году)"
   ]
  },
  {
   "cell_type": "code",
   "execution_count": 31,
   "metadata": {},
   "outputs": [],
   "source": [
    "def session_per_user(group):\n",
    "    df = visits.groupby(group).agg({'uid':['nunique','count']})['uid']\n",
    "    df['sess_per_user'] = df['count']/df['nunique']\n",
    "    return df['sess_per_user'].mean()"
   ]
  },
  {
   "cell_type": "code",
   "execution_count": 32,
   "metadata": {},
   "outputs": [
    {
     "name": "stdout",
     "output_type": "stream",
     "text": [
      "Среднее количество сессий на пользователя в месяц 1.28\n"
     ]
    }
   ],
   "source": [
    "print(\"Среднее количество сессий на пользователя в месяц {:.2f}\".format(session_per_user(group=['year','month'])))"
   ]
  },
  {
   "cell_type": "code",
   "execution_count": 33,
   "metadata": {
    "scrolled": true
   },
   "outputs": [
    {
     "name": "stdout",
     "output_type": "stream",
     "text": [
      "Среднее количество сессий на пользователя в год 1.47\n"
     ]
    }
   ],
   "source": [
    "print(\"Среднее количество сессий на пользователя в год {:.2f}\".format(session_per_user(group=['year'])))"
   ]
  },
  {
   "cell_type": "markdown",
   "metadata": {},
   "source": [
    "### Найдем среднее количество возвратов на уникального возвращающегося пользователя\n",
    "* Возвращающийся пользователь == уник, имеющий больше 2 сессий\n",
    "* Чтобы ответить на вопрос, __о возвратах пользователя__, добавим в функцию фильтрацию записей по условию min_time != Start_Ts (либо вычтем из финального количества посещений единицу, тк первое посещение не считается возвратом)"
   ]
  },
  {
   "cell_type": "code",
   "execution_count": 34,
   "metadata": {},
   "outputs": [],
   "source": [
    "def count_visits_in_period(df, period_month):\n",
    "    temp = (df.groupby('uid').agg({'start_ts':'min'})\\\n",
    "          .rename(columns={'start_ts':'min_time'})\\\n",
    "          .reset_index()).merge(df)\n",
    "    temp['point_date'] = temp['min_time'] + np.timedelta64(period_month,'M')\n",
    "    temp = temp[(temp['start_ts'] <= temp['point_date']) & (temp['start_ts'] != temp['min_time'])]\n",
    "    final_df = temp.groupby('uid').agg({'start_ts':'count'}).rename(columns={'start_ts':'count'})\n",
    "    return final_df['count'].mean()"
   ]
  },
  {
   "cell_type": "code",
   "execution_count": 35,
   "metadata": {
    "scrolled": false
   },
   "outputs": [],
   "source": [
    "month = []\n",
    "returned = []\n",
    "for i in range(1,25):\n",
    "    month.append(i)\n",
    "    returned.append(count_visits_in_period(visits, i))\n",
    "how_often_returned = pd.DataFrame({'month':month, 'count_returned':returned}).set_index('month')"
   ]
  },
  {
   "cell_type": "code",
   "execution_count": 36,
   "metadata": {
    "scrolled": false
   },
   "outputs": [
    {
     "data": {
      "text/html": [
       "<div>\n",
       "<style scoped>\n",
       "    .dataframe tbody tr th:only-of-type {\n",
       "        vertical-align: middle;\n",
       "    }\n",
       "\n",
       "    .dataframe tbody tr th {\n",
       "        vertical-align: top;\n",
       "    }\n",
       "\n",
       "    .dataframe thead th {\n",
       "        text-align: right;\n",
       "    }\n",
       "</style>\n",
       "<table border=\"1\" class=\"dataframe\">\n",
       "  <thead>\n",
       "    <tr style=\"text-align: right;\">\n",
       "      <th></th>\n",
       "      <th>count_returned</th>\n",
       "    </tr>\n",
       "    <tr>\n",
       "      <th>month</th>\n",
       "      <th></th>\n",
       "    </tr>\n",
       "  </thead>\n",
       "  <tbody>\n",
       "    <tr>\n",
       "      <th>1</th>\n",
       "      <td>1.621455</td>\n",
       "    </tr>\n",
       "    <tr>\n",
       "      <th>2</th>\n",
       "      <td>1.795290</td>\n",
       "    </tr>\n",
       "    <tr>\n",
       "      <th>3</th>\n",
       "      <td>1.932635</td>\n",
       "    </tr>\n",
       "    <tr>\n",
       "      <th>4</th>\n",
       "      <td>2.048262</td>\n",
       "    </tr>\n",
       "    <tr>\n",
       "      <th>5</th>\n",
       "      <td>2.149025</td>\n",
       "    </tr>\n",
       "    <tr>\n",
       "      <th>6</th>\n",
       "      <td>2.243904</td>\n",
       "    </tr>\n",
       "    <tr>\n",
       "      <th>7</th>\n",
       "      <td>2.321534</td>\n",
       "    </tr>\n",
       "    <tr>\n",
       "      <th>8</th>\n",
       "      <td>2.384303</td>\n",
       "    </tr>\n",
       "    <tr>\n",
       "      <th>9</th>\n",
       "      <td>2.440431</td>\n",
       "    </tr>\n",
       "    <tr>\n",
       "      <th>10</th>\n",
       "      <td>2.477825</td>\n",
       "    </tr>\n",
       "    <tr>\n",
       "      <th>11</th>\n",
       "      <td>2.506203</td>\n",
       "    </tr>\n",
       "    <tr>\n",
       "      <th>12</th>\n",
       "      <td>2.527130</td>\n",
       "    </tr>\n",
       "    <tr>\n",
       "      <th>13</th>\n",
       "      <td>2.527130</td>\n",
       "    </tr>\n",
       "    <tr>\n",
       "      <th>14</th>\n",
       "      <td>2.527130</td>\n",
       "    </tr>\n",
       "    <tr>\n",
       "      <th>15</th>\n",
       "      <td>2.527130</td>\n",
       "    </tr>\n",
       "    <tr>\n",
       "      <th>16</th>\n",
       "      <td>2.527130</td>\n",
       "    </tr>\n",
       "    <tr>\n",
       "      <th>17</th>\n",
       "      <td>2.527130</td>\n",
       "    </tr>\n",
       "    <tr>\n",
       "      <th>18</th>\n",
       "      <td>2.527130</td>\n",
       "    </tr>\n",
       "    <tr>\n",
       "      <th>19</th>\n",
       "      <td>2.527130</td>\n",
       "    </tr>\n",
       "    <tr>\n",
       "      <th>20</th>\n",
       "      <td>2.527130</td>\n",
       "    </tr>\n",
       "    <tr>\n",
       "      <th>21</th>\n",
       "      <td>2.527130</td>\n",
       "    </tr>\n",
       "    <tr>\n",
       "      <th>22</th>\n",
       "      <td>2.527130</td>\n",
       "    </tr>\n",
       "    <tr>\n",
       "      <th>23</th>\n",
       "      <td>2.527130</td>\n",
       "    </tr>\n",
       "    <tr>\n",
       "      <th>24</th>\n",
       "      <td>2.527130</td>\n",
       "    </tr>\n",
       "  </tbody>\n",
       "</table>\n",
       "</div>"
      ],
      "text/plain": [
       "       count_returned\n",
       "month                \n",
       "1            1.621455\n",
       "2            1.795290\n",
       "3            1.932635\n",
       "4            2.048262\n",
       "5            2.149025\n",
       "6            2.243904\n",
       "7            2.321534\n",
       "8            2.384303\n",
       "9            2.440431\n",
       "10           2.477825\n",
       "11           2.506203\n",
       "12           2.527130\n",
       "13           2.527130\n",
       "14           2.527130\n",
       "15           2.527130\n",
       "16           2.527130\n",
       "17           2.527130\n",
       "18           2.527130\n",
       "19           2.527130\n",
       "20           2.527130\n",
       "21           2.527130\n",
       "22           2.527130\n",
       "23           2.527130\n",
       "24           2.527130"
      ]
     },
     "execution_count": 36,
     "metadata": {},
     "output_type": "execute_result"
    }
   ],
   "source": [
    "how_often_returned"
   ]
  },
  {
   "cell_type": "markdown",
   "metadata": {},
   "source": [
    "### Найдем как изменяется среднее количество возвратов на юзера с увеличением периода"
   ]
  },
  {
   "cell_type": "code",
   "execution_count": 37,
   "metadata": {
    "scrolled": false
   },
   "outputs": [
    {
     "data": {
      "image/png": "[encoded data removed]",
      "text/plain": [
       "<Figure size 648x432 with 1 Axes>"
      ]
     },
     "metadata": {},
     "output_type": "display_data"
    }
   ],
   "source": [
    "ax = how_often_returned.plot()\n",
    "ax.set(title='Количество возвратов с течением времени(месяцы)', xlabel = 'номер месяца c первого посещения', \n",
    "       ylabel='среднее количество возвратов за период')\n",
    "plt.show()"
   ]
  },
  {
   "cell_type": "markdown",
   "metadata": {},
   "source": [
    "### Посчитаем Retention Rate по месячным когортам"
   ]
  },
  {
   "cell_type": "code",
   "execution_count": 38,
   "metadata": {},
   "outputs": [],
   "source": [
    "def retention_rate(df):\n",
    "    temp = (df.groupby('uid').agg({'start_ts':'min'}).rename(columns={'start_ts':'first_month'})\\\n",
    "                                                .reset_index()).merge(df, on='uid')\n",
    "    temp['first_month'] = temp['first_month'].astype('datetime64[M]')\n",
    "    temp['visit_month'] = temp['start_ts'].astype('datetime64[M]')\n",
    "    temp['cohort_lifetime'] = ((temp['visit_month'] - temp['first_month'])/np.timedelta64(1,'M')).astype('int')\n",
    "    cohorts = temp.groupby(['first_month','cohort_lifetime']).agg({'uid':'nunique'}).reset_index()\n",
    "    users_in_zero_cohort = cohorts[cohorts['cohort_lifetime']==0][['first_month','uid']]\\\n",
    "                            .rename(columns={'uid':'cohort_users'})\n",
    "    cohorts = cohorts.merge(users_in_zero_cohort, on='first_month')\n",
    "    cohorts['retention'] = cohorts['uid']/cohorts['cohort_users']\n",
    "    cohorts_pivot_table = cohorts.pivot_table(index='first_month', columns='cohort_lifetime', values='retention', aggfunc='mean')\n",
    "    \n",
    "    sns.set(style='white')\n",
    "    sns.heatmap(cohorts_pivot_table, annot=True, fmt='.1%', linewidths=1, linecolor='gray')\n",
    "    sns.set(rc={'figure.figsize':(14,8)})\n",
    "    plt.show()\n",
    "    return cohorts_pivot_table.fillna('')"
   ]
  },
  {
   "cell_type": "code",
   "execution_count": 39,
   "metadata": {},
   "outputs": [
    {
     "data": {
      "image/png": "[encoded data removed]",
      "text/plain": [
       "<Figure size 648x432 with 2 Axes>"
      ]
     },
     "metadata": {},
     "output_type": "display_data"
    },
    {
     "data": {
      "text/html": [
       "<div>\n",
       "<style scoped>\n",
       "    .dataframe tbody tr th:only-of-type {\n",
       "        vertical-align: middle;\n",
       "    }\n",
       "\n",
       "    .dataframe tbody tr th {\n",
       "        vertical-align: top;\n",
       "    }\n",
       "\n",
       "    .dataframe thead th {\n",
       "        text-align: right;\n",
       "    }\n",
       "</style>\n",
       "<table border=\"1\" class=\"dataframe\">\n",
       "  <thead>\n",
       "    <tr style=\"text-align: right;\">\n",
       "      <th>cohort_lifetime</th>\n",
       "      <th>0</th>\n",
       "      <th>1</th>\n",
       "      <th>2</th>\n",
       "      <th>3</th>\n",
       "      <th>4</th>\n",
       "      <th>5</th>\n",
       "      <th>6</th>\n",
       "      <th>7</th>\n",
       "      <th>8</th>\n",
       "      <th>9</th>\n",
       "      <th>10</th>\n",
       "    </tr>\n",
       "    <tr>\n",
       "      <th>first_month</th>\n",
       "      <th></th>\n",
       "      <th></th>\n",
       "      <th></th>\n",
       "      <th></th>\n",
       "      <th></th>\n",
       "      <th></th>\n",
       "      <th></th>\n",
       "      <th></th>\n",
       "      <th></th>\n",
       "      <th></th>\n",
       "      <th></th>\n",
       "    </tr>\n",
       "  </thead>\n",
       "  <tbody>\n",
       "    <tr>\n",
       "      <th>2017-06-01</th>\n",
       "      <td>1.0</td>\n",
       "      <td></td>\n",
       "      <td>0.0537748</td>\n",
       "      <td>0.0613923</td>\n",
       "      <td>0.0685572</td>\n",
       "      <td>0.0714232</td>\n",
       "      <td>0.0610152</td>\n",
       "      <td>0.0577721</td>\n",
       "      <td>0.0840184</td>\n",
       "      <td>0.0406516</td>\n",
       "      <td>0.0449506</td>\n",
       "    </tr>\n",
       "    <tr>\n",
       "      <th>2017-07-01</th>\n",
       "      <td>1.0</td>\n",
       "      <td>0.0560883</td>\n",
       "      <td>0.0512938</td>\n",
       "      <td>0.0561644</td>\n",
       "      <td>0.0582192</td>\n",
       "      <td>0.0481735</td>\n",
       "      <td>0.0453577</td>\n",
       "      <td>0.0737443</td>\n",
       "      <td></td>\n",
       "      <td>0.049239</td>\n",
       "      <td></td>\n",
       "    </tr>\n",
       "    <tr>\n",
       "      <th>2017-08-01</th>\n",
       "      <td>1.0</td>\n",
       "      <td>0.076908</td>\n",
       "      <td>0.0628622</td>\n",
       "      <td>0.062764</td>\n",
       "      <td>0.0500933</td>\n",
       "      <td>0.0440035</td>\n",
       "      <td>0.0658089</td>\n",
       "      <td>0.0278951</td>\n",
       "      <td>0.0260289</td>\n",
       "      <td></td>\n",
       "      <td></td>\n",
       "    </tr>\n",
       "    <tr>\n",
       "      <th>2017-09-01</th>\n",
       "      <td>1.0</td>\n",
       "      <td></td>\n",
       "      <td>0.10249</td>\n",
       "      <td></td>\n",
       "      <td>0.0393918</td>\n",
       "      <td>0.0656729</td>\n",
       "      <td>0.0241858</td>\n",
       "      <td>0.0228089</td>\n",
       "      <td></td>\n",
       "      <td></td>\n",
       "      <td></td>\n",
       "    </tr>\n",
       "    <tr>\n",
       "      <th>2017-10-01</th>\n",
       "      <td>1.0</td>\n",
       "      <td>0.078608</td>\n",
       "      <td>0.0522385</td>\n",
       "      <td>0.0389575</td>\n",
       "      <td>0.0588598</td>\n",
       "      <td>0.0213651</td>\n",
       "      <td>0.0203642</td>\n",
       "      <td></td>\n",
       "      <td></td>\n",
       "      <td></td>\n",
       "      <td></td>\n",
       "    </tr>\n",
       "    <tr>\n",
       "      <th>2017-11-01</th>\n",
       "      <td>1.0</td>\n",
       "      <td></td>\n",
       "      <td>0.0441133</td>\n",
       "      <td>0.065069</td>\n",
       "      <td>0.0234146</td>\n",
       "      <td>0.0217998</td>\n",
       "      <td></td>\n",
       "      <td></td>\n",
       "      <td></td>\n",
       "      <td></td>\n",
       "      <td></td>\n",
       "    </tr>\n",
       "    <tr>\n",
       "      <th>2017-12-01</th>\n",
       "      <td>1.0</td>\n",
       "      <td>0.0558018</td>\n",
       "      <td>0.0621339</td>\n",
       "      <td>0.0202628</td>\n",
       "      <td>0.0190359</td>\n",
       "      <td></td>\n",
       "      <td></td>\n",
       "      <td></td>\n",
       "      <td></td>\n",
       "      <td></td>\n",
       "      <td></td>\n",
       "    </tr>\n",
       "    <tr>\n",
       "      <th>2018-01-01</th>\n",
       "      <td>1.0</td>\n",
       "      <td>0.0898161</td>\n",
       "      <td>0.0249735</td>\n",
       "      <td>0.020244</td>\n",
       "      <td></td>\n",
       "      <td></td>\n",
       "      <td></td>\n",
       "      <td></td>\n",
       "      <td></td>\n",
       "      <td></td>\n",
       "      <td></td>\n",
       "    </tr>\n",
       "    <tr>\n",
       "      <th>2018-02-01</th>\n",
       "      <td>1.0</td>\n",
       "      <td>0.0254539</td>\n",
       "      <td>0.0200928</td>\n",
       "      <td></td>\n",
       "      <td></td>\n",
       "      <td></td>\n",
       "      <td></td>\n",
       "      <td></td>\n",
       "      <td></td>\n",
       "      <td></td>\n",
       "      <td></td>\n",
       "    </tr>\n",
       "    <tr>\n",
       "      <th>2018-03-01</th>\n",
       "      <td>1.0</td>\n",
       "      <td>0.0418184</td>\n",
       "      <td>0.0270533</td>\n",
       "      <td></td>\n",
       "      <td></td>\n",
       "      <td></td>\n",
       "      <td></td>\n",
       "      <td></td>\n",
       "      <td></td>\n",
       "      <td></td>\n",
       "      <td></td>\n",
       "    </tr>\n",
       "    <tr>\n",
       "      <th>2018-04-01</th>\n",
       "      <td>1.0</td>\n",
       "      <td></td>\n",
       "      <td></td>\n",
       "      <td></td>\n",
       "      <td></td>\n",
       "      <td></td>\n",
       "      <td></td>\n",
       "      <td></td>\n",
       "      <td></td>\n",
       "      <td></td>\n",
       "      <td></td>\n",
       "    </tr>\n",
       "    <tr>\n",
       "      <th>2018-05-01</th>\n",
       "      <td>1.0</td>\n",
       "      <td></td>\n",
       "      <td></td>\n",
       "      <td></td>\n",
       "      <td></td>\n",
       "      <td></td>\n",
       "      <td></td>\n",
       "      <td></td>\n",
       "      <td></td>\n",
       "      <td></td>\n",
       "      <td></td>\n",
       "    </tr>\n",
       "  </tbody>\n",
       "</table>\n",
       "</div>"
      ],
      "text/plain": [
       "cohort_lifetime   0          1          2          3          4          5   \\\n",
       "first_month                                                                   \n",
       "2017-06-01       1.0             0.0537748  0.0613923  0.0685572  0.0714232   \n",
       "2017-07-01       1.0  0.0560883  0.0512938  0.0561644  0.0582192  0.0481735   \n",
       "2017-08-01       1.0   0.076908  0.0628622   0.062764  0.0500933  0.0440035   \n",
       "2017-09-01       1.0               0.10249             0.0393918  0.0656729   \n",
       "2017-10-01       1.0   0.078608  0.0522385  0.0389575  0.0588598  0.0213651   \n",
       "2017-11-01       1.0             0.0441133   0.065069  0.0234146  0.0217998   \n",
       "2017-12-01       1.0  0.0558018  0.0621339  0.0202628  0.0190359              \n",
       "2018-01-01       1.0  0.0898161  0.0249735   0.020244                         \n",
       "2018-02-01       1.0  0.0254539  0.0200928                                    \n",
       "2018-03-01       1.0  0.0418184  0.0270533                                    \n",
       "2018-04-01       1.0                                                          \n",
       "2018-05-01       1.0                                                          \n",
       "\n",
       "cohort_lifetime         6          7          8          9          10  \n",
       "first_month                                                             \n",
       "2017-06-01       0.0610152  0.0577721  0.0840184  0.0406516  0.0449506  \n",
       "2017-07-01       0.0453577  0.0737443              0.049239             \n",
       "2017-08-01       0.0658089  0.0278951  0.0260289                        \n",
       "2017-09-01       0.0241858  0.0228089                                   \n",
       "2017-10-01       0.0203642                                              \n",
       "2017-11-01                                                              \n",
       "2017-12-01                                                              \n",
       "2018-01-01                                                              \n",
       "2018-02-01                                                              \n",
       "2018-03-01                                                              \n",
       "2018-04-01                                                              \n",
       "2018-05-01                                                              "
      ]
     },
     "execution_count": 39,
     "metadata": {},
     "output_type": "execute_result"
    }
   ],
   "source": [
    "retention_rate(visits)"
   ]
  },
  {
   "cell_type": "markdown",
   "metadata": {},
   "source": [
    "---\n",
    "---"
   ]
  },
  {
   "cell_type": "markdown",
   "metadata": {},
   "source": [
    "## Продажи\n",
    "* Когда люди начинают покупать?\n",
    "* Сколько раз покупают за период?\n",
    "* Какой средний чек?\n",
    "* Сколько денег приносят? (LTV)"
   ]
  },
  {
   "cell_type": "markdown",
   "metadata": {},
   "source": [
    "## Когда люди начинают покупать?\n",
    "* Для ответа на этот вопрос необходимо найти среднее время с первой сессии до первой покупки для уникальных пользователей. Оставив только покупателей."
   ]
  },
  {
   "cell_type": "code",
   "execution_count": 40,
   "metadata": {},
   "outputs": [
    {
     "data": {
      "text/plain": [
       "(6292, 2)"
      ]
     },
     "execution_count": 40,
     "metadata": {},
     "output_type": "execute_result"
    }
   ],
   "source": [
    "orders.groupby('uid').agg({'buy_ts':'count'}).reset_index().query('buy_ts > 1').shape"
   ]
  },
  {
   "cell_type": "code",
   "execution_count": 41,
   "metadata": {},
   "outputs": [
    {
     "data": {
      "text/plain": [
       "(30231, 2)"
      ]
     },
     "execution_count": 41,
     "metadata": {},
     "output_type": "execute_result"
    }
   ],
   "source": [
    "orders.groupby('uid').agg({'buy_ts':'count'}).reset_index().query('buy_ts == 1').shape"
   ]
  },
  {
   "cell_type": "markdown",
   "metadata": {},
   "source": [
    "### Найдем для каждого уникального UID первую(минимальную) дату покупки"
   ]
  },
  {
   "cell_type": "code",
   "execution_count": 42,
   "metadata": {},
   "outputs": [],
   "source": [
    "first_order = orders.groupby('uid').agg({'buy_ts':'min'})\\\n",
    "                .rename(columns={'buy_ts':'first_purchase_date'})\\\n",
    "                .reset_index()"
   ]
  },
  {
   "cell_type": "code",
   "execution_count": 43,
   "metadata": {
    "scrolled": true
   },
   "outputs": [
    {
     "data": {
      "text/html": [
       "<div>\n",
       "<style scoped>\n",
       "    .dataframe tbody tr th:only-of-type {\n",
       "        vertical-align: middle;\n",
       "    }\n",
       "\n",
       "    .dataframe tbody tr th {\n",
       "        vertical-align: top;\n",
       "    }\n",
       "\n",
       "    .dataframe thead th {\n",
       "        text-align: right;\n",
       "    }\n",
       "</style>\n",
       "<table border=\"1\" class=\"dataframe\">\n",
       "  <thead>\n",
       "    <tr style=\"text-align: right;\">\n",
       "      <th></th>\n",
       "      <th>uid</th>\n",
       "      <th>first_purchase_date</th>\n",
       "    </tr>\n",
       "  </thead>\n",
       "  <tbody>\n",
       "    <tr>\n",
       "      <th>0</th>\n",
       "      <td>313578113262317</td>\n",
       "      <td>2018-01-03 21:51:00</td>\n",
       "    </tr>\n",
       "    <tr>\n",
       "      <th>1</th>\n",
       "      <td>1575281904278712</td>\n",
       "      <td>2017-06-03 10:13:00</td>\n",
       "    </tr>\n",
       "    <tr>\n",
       "      <th>2</th>\n",
       "      <td>2429014661409475</td>\n",
       "      <td>2017-10-11 18:33:00</td>\n",
       "    </tr>\n",
       "    <tr>\n",
       "      <th>3</th>\n",
       "      <td>2464366381792757</td>\n",
       "      <td>2018-01-28 15:54:00</td>\n",
       "    </tr>\n",
       "    <tr>\n",
       "      <th>4</th>\n",
       "      <td>2551852515556206</td>\n",
       "      <td>2017-11-24 10:14:00</td>\n",
       "    </tr>\n",
       "  </tbody>\n",
       "</table>\n",
       "</div>"
      ],
      "text/plain": [
       "                uid first_purchase_date\n",
       "0   313578113262317 2018-01-03 21:51:00\n",
       "1  1575281904278712 2017-06-03 10:13:00\n",
       "2  2429014661409475 2017-10-11 18:33:00\n",
       "3  2464366381792757 2018-01-28 15:54:00\n",
       "4  2551852515556206 2017-11-24 10:14:00"
      ]
     },
     "execution_count": 43,
     "metadata": {},
     "output_type": "execute_result"
    }
   ],
   "source": [
    "first_order.head()"
   ]
  },
  {
   "cell_type": "markdown",
   "metadata": {},
   "source": [
    "### Найдем дату первой сессии для каждого юзера, в датасете visits"
   ]
  },
  {
   "cell_type": "code",
   "execution_count": 44,
   "metadata": {},
   "outputs": [],
   "source": [
    "first_visit = visits.groupby('uid').agg({'start_ts':'min'})\\\n",
    "                .rename(columns={'start_ts':'first_visit_date'})\\\n",
    "                .reset_index()"
   ]
  },
  {
   "cell_type": "code",
   "execution_count": 45,
   "metadata": {},
   "outputs": [
    {
     "data": {
      "text/html": [
       "<div>\n",
       "<style scoped>\n",
       "    .dataframe tbody tr th:only-of-type {\n",
       "        vertical-align: middle;\n",
       "    }\n",
       "\n",
       "    .dataframe tbody tr th {\n",
       "        vertical-align: top;\n",
       "    }\n",
       "\n",
       "    .dataframe thead th {\n",
       "        text-align: right;\n",
       "    }\n",
       "</style>\n",
       "<table border=\"1\" class=\"dataframe\">\n",
       "  <thead>\n",
       "    <tr style=\"text-align: right;\">\n",
       "      <th></th>\n",
       "      <th>uid</th>\n",
       "      <th>first_visit_date</th>\n",
       "    </tr>\n",
       "  </thead>\n",
       "  <tbody>\n",
       "    <tr>\n",
       "      <th>0</th>\n",
       "      <td>11863502262781</td>\n",
       "      <td>2018-03-01 17:27:00</td>\n",
       "    </tr>\n",
       "    <tr>\n",
       "      <th>1</th>\n",
       "      <td>49537067089222</td>\n",
       "      <td>2018-02-06 15:55:00</td>\n",
       "    </tr>\n",
       "    <tr>\n",
       "      <th>2</th>\n",
       "      <td>297729379853735</td>\n",
       "      <td>2017-06-07 18:47:00</td>\n",
       "    </tr>\n",
       "    <tr>\n",
       "      <th>3</th>\n",
       "      <td>313578113262317</td>\n",
       "      <td>2017-09-18 22:49:00</td>\n",
       "    </tr>\n",
       "    <tr>\n",
       "      <th>4</th>\n",
       "      <td>325320750514679</td>\n",
       "      <td>2017-09-30 14:29:00</td>\n",
       "    </tr>\n",
       "  </tbody>\n",
       "</table>\n",
       "</div>"
      ],
      "text/plain": [
       "               uid    first_visit_date\n",
       "0   11863502262781 2018-03-01 17:27:00\n",
       "1   49537067089222 2018-02-06 15:55:00\n",
       "2  297729379853735 2017-06-07 18:47:00\n",
       "3  313578113262317 2017-09-18 22:49:00\n",
       "4  325320750514679 2017-09-30 14:29:00"
      ]
     },
     "execution_count": 45,
     "metadata": {},
     "output_type": "execute_result"
    }
   ],
   "source": [
    "first_visit.head()"
   ]
  },
  {
   "cell_type": "markdown",
   "metadata": {},
   "source": [
    "### Объединим датафреймы со датой первого визита и датой перевой покупки, по UID\n",
    "* Использую тип присоединения inner, потому что нам нужны пользователи, которые в итоге совершили покупку"
   ]
  },
  {
   "cell_type": "code",
   "execution_count": 46,
   "metadata": {},
   "outputs": [],
   "source": [
    "delta_time_df = first_visit.merge(first_order, on='uid', how='inner')"
   ]
  },
  {
   "cell_type": "markdown",
   "metadata": {},
   "source": [
    "### Найдем время между первым визитом и первым заказом"
   ]
  },
  {
   "cell_type": "code",
   "execution_count": 47,
   "metadata": {},
   "outputs": [],
   "source": [
    "delta_time_df['delta'] = (delta_time_df['first_purchase_date'] - delta_time_df['first_visit_date']).dt.seconds"
   ]
  },
  {
   "cell_type": "code",
   "execution_count": 48,
   "metadata": {
    "scrolled": true
   },
   "outputs": [
    {
     "data": {
      "text/html": [
       "<div>\n",
       "<style scoped>\n",
       "    .dataframe tbody tr th:only-of-type {\n",
       "        vertical-align: middle;\n",
       "    }\n",
       "\n",
       "    .dataframe tbody tr th {\n",
       "        vertical-align: top;\n",
       "    }\n",
       "\n",
       "    .dataframe thead th {\n",
       "        text-align: right;\n",
       "    }\n",
       "</style>\n",
       "<table border=\"1\" class=\"dataframe\">\n",
       "  <thead>\n",
       "    <tr style=\"text-align: right;\">\n",
       "      <th></th>\n",
       "      <th>uid</th>\n",
       "      <th>first_visit_date</th>\n",
       "      <th>first_purchase_date</th>\n",
       "      <th>delta</th>\n",
       "    </tr>\n",
       "  </thead>\n",
       "  <tbody>\n",
       "    <tr>\n",
       "      <th>0</th>\n",
       "      <td>313578113262317</td>\n",
       "      <td>2017-09-18 22:49:00</td>\n",
       "      <td>2018-01-03 21:51:00</td>\n",
       "      <td>82920</td>\n",
       "    </tr>\n",
       "    <tr>\n",
       "      <th>1</th>\n",
       "      <td>1575281904278712</td>\n",
       "      <td>2017-06-03 10:13:00</td>\n",
       "      <td>2017-06-03 10:13:00</td>\n",
       "      <td>0</td>\n",
       "    </tr>\n",
       "    <tr>\n",
       "      <th>2</th>\n",
       "      <td>2429014661409475</td>\n",
       "      <td>2017-10-11 17:14:00</td>\n",
       "      <td>2017-10-11 18:33:00</td>\n",
       "      <td>4740</td>\n",
       "    </tr>\n",
       "    <tr>\n",
       "      <th>3</th>\n",
       "      <td>2464366381792757</td>\n",
       "      <td>2018-01-27 20:10:00</td>\n",
       "      <td>2018-01-28 15:54:00</td>\n",
       "      <td>71040</td>\n",
       "    </tr>\n",
       "    <tr>\n",
       "      <th>4</th>\n",
       "      <td>2551852515556206</td>\n",
       "      <td>2017-11-24 11:22:00</td>\n",
       "      <td>2017-11-24 10:14:00</td>\n",
       "      <td>82320</td>\n",
       "    </tr>\n",
       "  </tbody>\n",
       "</table>\n",
       "</div>"
      ],
      "text/plain": [
       "                uid    first_visit_date first_purchase_date  delta\n",
       "0   313578113262317 2017-09-18 22:49:00 2018-01-03 21:51:00  82920\n",
       "1  1575281904278712 2017-06-03 10:13:00 2017-06-03 10:13:00      0\n",
       "2  2429014661409475 2017-10-11 17:14:00 2017-10-11 18:33:00   4740\n",
       "3  2464366381792757 2018-01-27 20:10:00 2018-01-28 15:54:00  71040\n",
       "4  2551852515556206 2017-11-24 11:22:00 2017-11-24 10:14:00  82320"
      ]
     },
     "execution_count": 48,
     "metadata": {},
     "output_type": "execute_result"
    }
   ],
   "source": [
    "delta_time_df.head()"
   ]
  },
  {
   "cell_type": "markdown",
   "metadata": {},
   "source": [
    "### Получили большие значения, переведем дельту в минуты"
   ]
  },
  {
   "cell_type": "code",
   "execution_count": 49,
   "metadata": {},
   "outputs": [],
   "source": [
    "delta_time_df['delta'] = delta_time_df['delta']/60"
   ]
  },
  {
   "cell_type": "markdown",
   "metadata": {},
   "source": [
    "### Посмотрим на распределение"
   ]
  },
  {
   "cell_type": "code",
   "execution_count": 50,
   "metadata": {
    "scrolled": false
   },
   "outputs": [
    {
     "data": {
      "image/png": "[encoded data removed]",
      "text/plain": [
       "<Figure size 1008x576 with 1 Axes>"
      ]
     },
     "metadata": {},
     "output_type": "display_data"
    }
   ],
   "source": [
    "ax = delta_time_df['delta'].hist(bins=100)\n",
    "ax.set(title='Гистограмма времени в минутах с первого визита до первого заказа', xlabel = 'Время в минутах', ylabel = 'Частота')\n",
    "sns.set(rc={'figure.figsize':(9,6)})\n",
    "plt.show()"
   ]
  },
  {
   "cell_type": "code",
   "execution_count": 51,
   "metadata": {
    "scrolled": false
   },
   "outputs": [
    {
     "data": {
      "image/png": "[encoded data removed]",
      "text/plain": [
       "<Figure size 432x1008 with 1 Axes>"
      ]
     },
     "metadata": {},
     "output_type": "display_data"
    }
   ],
   "source": [
    "plot = delta_time_df.boxplot('delta', figsize=(6,14))\n",
    "plot.set_ylim(0,940)\n",
    "plot.set_yticks(range(0, 940, 20))\n",
    "plt.show()"
   ]
  },
  {
   "cell_type": "code",
   "execution_count": 52,
   "metadata": {},
   "outputs": [
    {
     "data": {
      "text/plain": [
       "18.0"
      ]
     },
     "execution_count": 52,
     "metadata": {},
     "output_type": "execute_result"
    }
   ],
   "source": [
    "delta_time_df['delta'].median()"
   ]
  },
  {
   "cell_type": "markdown",
   "metadata": {},
   "source": [
    "### Охарактеризуем данное распределение:"
   ]
  },
  {
   "cell_type": "code",
   "execution_count": 53,
   "metadata": {},
   "outputs": [
    {
     "data": {
      "text/plain": [
       "0    1.0\n",
       "dtype: float64"
      ]
     },
     "execution_count": 53,
     "metadata": {},
     "output_type": "execute_result"
    }
   ],
   "source": [
    "# выбираю моду\n",
    "delta_time_df['delta'].mode()"
   ]
  },
  {
   "cell_type": "markdown",
   "metadata": {},
   "source": [
    "# Вывод: \n",
    "* Обычно, между первым визитом и покупкой проходит 1 минута"
   ]
  },
  {
   "cell_type": "markdown",
   "metadata": {},
   "source": [
    "----------\n",
    "\n",
    "## <span style=\"color:green\">Комментарий от наставника<span>\n",
    "\n",
    "Отличный анализ распределения, отдельно хочу похвалить подробные комментарии в разметке, сильно помогают ориентироваться в работе :)\n",
    "\n",
    "---------"
   ]
  },
  {
   "cell_type": "markdown",
   "metadata": {},
   "source": [
    "---"
   ]
  },
  {
   "cell_type": "markdown",
   "metadata": {},
   "source": [
    "## Сколько раз покупают за период?"
   ]
  },
  {
   "cell_type": "markdown",
   "metadata": {},
   "source": [
    "### Вначале найдем первый визит для каждого пользователя и смержим с датафреймом orders"
   ]
  },
  {
   "cell_type": "code",
   "execution_count": 54,
   "metadata": {},
   "outputs": [],
   "source": [
    "uid_min_time = visits.groupby('uid').agg({'start_ts':'min'}).reset_index().rename(columns={'start_ts':'min_time'})"
   ]
  },
  {
   "cell_type": "code",
   "execution_count": 55,
   "metadata": {},
   "outputs": [
    {
     "data": {
      "text/plain": [
       "228169"
      ]
     },
     "execution_count": 55,
     "metadata": {},
     "output_type": "execute_result"
    }
   ],
   "source": [
    "uid_min_time.shape[0]"
   ]
  },
  {
   "cell_type": "code",
   "execution_count": 56,
   "metadata": {},
   "outputs": [
    {
     "data": {
      "text/plain": [
       "36523"
      ]
     },
     "execution_count": 56,
     "metadata": {},
     "output_type": "execute_result"
    }
   ],
   "source": [
    "orders.uid.nunique()"
   ]
  },
  {
   "cell_type": "markdown",
   "metadata": {},
   "source": [
    "### Купивших уникальных пользователей намного меньше, чем пользователей всего. Оъединим датафреймы и проставим 0 покупок для тех, кто не покупал."
   ]
  },
  {
   "cell_type": "code",
   "execution_count": 57,
   "metadata": {},
   "outputs": [],
   "source": [
    "#применим левый джойн, чтобы оставить всех пользователей\n",
    "df_orders_temp = uid_min_time.merge(orders, on='uid', how='left')"
   ]
  },
  {
   "cell_type": "code",
   "execution_count": 58,
   "metadata": {},
   "outputs": [],
   "source": [
    "#отметим покупку как 1, а записи без покупки как 0\n",
    "df_orders_temp['purchase'] = np.where(df_orders_temp.buy_ts.notna(), 1, 0)"
   ]
  },
  {
   "cell_type": "markdown",
   "metadata": {},
   "source": [
    "### Для пользователей без покупок добавим максимальное время в столбец Buy_Ts для упрощения расчетов. Т.к. эти пользователи не сделаю покупку и за месяц и за полгода."
   ]
  },
  {
   "cell_type": "code",
   "execution_count": 59,
   "metadata": {},
   "outputs": [],
   "source": [
    "df_orders_temp['buy_ts'] = df_orders_temp['buy_ts'].fillna(df_orders_temp.buy_ts.max())"
   ]
  },
  {
   "cell_type": "code",
   "execution_count": 60,
   "metadata": {},
   "outputs": [],
   "source": [
    "df_orders_temp['revenue'] = df_orders_temp['revenue'].fillna(0)"
   ]
  },
  {
   "cell_type": "code",
   "execution_count": 61,
   "metadata": {},
   "outputs": [
    {
     "data": {
      "text/html": [
       "<div>\n",
       "<style scoped>\n",
       "    .dataframe tbody tr th:only-of-type {\n",
       "        vertical-align: middle;\n",
       "    }\n",
       "\n",
       "    .dataframe tbody tr th {\n",
       "        vertical-align: top;\n",
       "    }\n",
       "\n",
       "    .dataframe thead th {\n",
       "        text-align: right;\n",
       "    }\n",
       "</style>\n",
       "<table border=\"1\" class=\"dataframe\">\n",
       "  <thead>\n",
       "    <tr style=\"text-align: right;\">\n",
       "      <th></th>\n",
       "      <th>uid</th>\n",
       "      <th>min_time</th>\n",
       "      <th>buy_ts</th>\n",
       "      <th>revenue</th>\n",
       "      <th>purchase</th>\n",
       "    </tr>\n",
       "  </thead>\n",
       "  <tbody>\n",
       "    <tr>\n",
       "      <th>0</th>\n",
       "      <td>11863502262781</td>\n",
       "      <td>2018-03-01 17:27:00</td>\n",
       "      <td>2018-06-01 00:02:00</td>\n",
       "      <td>0.00</td>\n",
       "      <td>0</td>\n",
       "    </tr>\n",
       "    <tr>\n",
       "      <th>1</th>\n",
       "      <td>49537067089222</td>\n",
       "      <td>2018-02-06 15:55:00</td>\n",
       "      <td>2018-06-01 00:02:00</td>\n",
       "      <td>0.00</td>\n",
       "      <td>0</td>\n",
       "    </tr>\n",
       "    <tr>\n",
       "      <th>2</th>\n",
       "      <td>297729379853735</td>\n",
       "      <td>2017-06-07 18:47:00</td>\n",
       "      <td>2018-06-01 00:02:00</td>\n",
       "      <td>0.00</td>\n",
       "      <td>0</td>\n",
       "    </tr>\n",
       "    <tr>\n",
       "      <th>3</th>\n",
       "      <td>313578113262317</td>\n",
       "      <td>2017-09-18 22:49:00</td>\n",
       "      <td>2018-01-03 21:51:00</td>\n",
       "      <td>0.55</td>\n",
       "      <td>1</td>\n",
       "    </tr>\n",
       "    <tr>\n",
       "      <th>4</th>\n",
       "      <td>325320750514679</td>\n",
       "      <td>2017-09-30 14:29:00</td>\n",
       "      <td>2018-06-01 00:02:00</td>\n",
       "      <td>0.00</td>\n",
       "      <td>0</td>\n",
       "    </tr>\n",
       "  </tbody>\n",
       "</table>\n",
       "</div>"
      ],
      "text/plain": [
       "               uid            min_time              buy_ts  revenue  purchase\n",
       "0   11863502262781 2018-03-01 17:27:00 2018-06-01 00:02:00     0.00         0\n",
       "1   49537067089222 2018-02-06 15:55:00 2018-06-01 00:02:00     0.00         0\n",
       "2  297729379853735 2017-06-07 18:47:00 2018-06-01 00:02:00     0.00         0\n",
       "3  313578113262317 2017-09-18 22:49:00 2018-01-03 21:51:00     0.55         1\n",
       "4  325320750514679 2017-09-30 14:29:00 2018-06-01 00:02:00     0.00         0"
      ]
     },
     "execution_count": 61,
     "metadata": {},
     "output_type": "execute_result"
    }
   ],
   "source": [
    "df_orders_temp.head()"
   ]
  },
  {
   "cell_type": "code",
   "execution_count": 62,
   "metadata": {},
   "outputs": [],
   "source": [
    "def count_orders_in_period(temp, kind_user, type_period, period):\n",
    "    '''\n",
    "    Период type_period задается в виде неделя / месяц ('W' / 'M')\n",
    "    Тип уникального пользователя kind_user - Все уники / Только покупатели ('all'/'purchasers')\n",
    "    По каждому пользователю добавляем трешхолд: время первой покупки + период\n",
    "    '''\n",
    "    if type_period == 'M':\n",
    "        temp['point_date'] = temp['min_time'] + np.timedelta64(period,'M')\n",
    "    else:\n",
    "        temp['point_date'] = temp['min_time'] + np.timedelta64(period,'W') \n",
    "    temp = temp[(temp['buy_ts'] <= temp['point_date'])]\n",
    "    \n",
    "    if kind_user == 'all':\n",
    "        final_df = temp.groupby('uid').agg({'purchase':'sum'}).rename(columns={'purchase':'sum_purchase'})\n",
    "    else:\n",
    "        final_df = temp[temp['purchase']==1].groupby('uid').agg({'purchase':'sum'})\\\n",
    "            .rename(columns={'purchase':'sum_purchase'})\n",
    "    ax = final_df['sum_purchase'].hist(bins=100)\n",
    "    ax.set(title=f'Распределение количества покупок для {kind_user} пользователей за период {period}{type_period}',\n",
    "          xlabel='Количество покупок', ylabel='Частота')\n",
    "    mode_value = final_df['sum_purchase'].mode()[0]\n",
    "    mean_value = final_df['sum_purchase'].mean()\n",
    "    print(f'Мода количества покупок за период {str(period)+type_period} для {kind_user} = {mode_value}')\n",
    "    print(f'Среднее количество покупок за период {str(period)+type_period} для {kind_user} = {mean_value:.2f}')"
   ]
  },
  {
   "cell_type": "code",
   "execution_count": 63,
   "metadata": {},
   "outputs": [
    {
     "name": "stdout",
     "output_type": "stream",
     "text": [
      "Мода количества покупок за период 6M для purchasers = 1\n",
      "Среднее количество покупок за период 6M для purchasers = 1.32\n"
     ]
    },
    {
     "data": {
      "image/png": "[encoded data removed]",
      "text/plain": [
       "<Figure size 648x432 with 1 Axes>"
      ]
     },
     "metadata": {},
     "output_type": "display_data"
    }
   ],
   "source": [
    "count_orders_in_period(df_orders_temp,'purchasers','M', 6)"
   ]
  },
  {
   "cell_type": "code",
   "execution_count": 64,
   "metadata": {},
   "outputs": [
    {
     "name": "stdout",
     "output_type": "stream",
     "text": [
      "Мода количества покупок за период 1W для all = 1\n",
      "Среднее количество покупок за период 1W для all = 0.98\n"
     ]
    },
    {
     "data": {
      "image/png": "[encoded data removed]",
      "text/plain": [
       "<Figure size 648x432 with 1 Axes>"
      ]
     },
     "metadata": {},
     "output_type": "display_data"
    }
   ],
   "source": [
    "count_orders_in_period(df_orders_temp,'all','W', 1)"
   ]
  },
  {
   "cell_type": "markdown",
   "metadata": {},
   "source": [
    "---"
   ]
  },
  {
   "cell_type": "markdown",
   "metadata": {},
   "source": [
    "## Какой средний чек?\n",
    "* Средний чек считается для покупателей, те мы не учитываем тех, кто не совершал покупки. Для анализа достаточно датафрейма orders.\n",
    "    1. Рассчитаем средний чек за весь период в датафрейме\n",
    "    2. Как изменяется средний чек по месяцам\n",
    "    3. Изменение среднего чека в зависимости от даты первой покупки, когортный анализ. Выясним, тратят ли пользователи больше, по прошествию времени"
   ]
  },
  {
   "cell_type": "markdown",
   "metadata": {},
   "source": [
    "### Средний чек за весь период данных в датафрейме"
   ]
  },
  {
   "cell_type": "code",
   "execution_count": 65,
   "metadata": {
    "scrolled": true
   },
   "outputs": [
    {
     "name": "stdout",
     "output_type": "stream",
     "text": [
      "Средний чек за весь период = 6.90 уе\n"
     ]
    }
   ],
   "source": [
    "print('Средний чек за весь период = {:.2f} уе'.format(orders.revenue.sum()/orders.uid.nunique()))"
   ]
  },
  {
   "cell_type": "markdown",
   "metadata": {},
   "source": [
    "### Посмотрим, как изменялся средний чек по месяцам"
   ]
  },
  {
   "cell_type": "code",
   "execution_count": 66,
   "metadata": {},
   "outputs": [],
   "source": [
    "def mean_bill_by_month(df):\n",
    "    df['order_month'] = df['buy_ts'].astype('datetime64[M]')\n",
    "    mean_bill_df = df.groupby('order_month').agg({'uid':'nunique', 'revenue':'sum'})\\\n",
    "    .rename(columns={'uid':'unique_clients','revenue':'sum_revenue'})\n",
    "    mean_bill_df['mean_bill'] = mean_bill_df['sum_revenue']/mean_bill_df['unique_clients']\n",
    "    ax = mean_bill_df[['mean_bill']].plot()\n",
    "    ax.set(title='Изменение среднего чека по месяцам', xlabel = 'месяц', \n",
    "       ylabel='Средний чек в уе')\n",
    "    plt.show()"
   ]
  },
  {
   "cell_type": "code",
   "execution_count": 67,
   "metadata": {},
   "outputs": [
    {
     "data": {
      "image/png": "[encoded data removed]",
      "text/plain": [
       "<Figure size 648x432 with 1 Axes>"
      ]
     },
     "metadata": {},
     "output_type": "display_data"
    }
   ],
   "source": [
    "mean_bill_by_month(orders)"
   ]
  },
  {
   "cell_type": "markdown",
   "metadata": {},
   "source": [
    "### Посмотрим, как изменялся средний чек в разных когортах, в зависимости от даты первого заказа\n",
    "* Когорты для ARPPU"
   ]
  },
  {
   "cell_type": "code",
   "execution_count": 68,
   "metadata": {
    "scrolled": true
   },
   "outputs": [
    {
     "data": {
      "text/html": [
       "<div>\n",
       "<style scoped>\n",
       "    .dataframe tbody tr th:only-of-type {\n",
       "        vertical-align: middle;\n",
       "    }\n",
       "\n",
       "    .dataframe tbody tr th {\n",
       "        vertical-align: top;\n",
       "    }\n",
       "\n",
       "    .dataframe thead th {\n",
       "        text-align: right;\n",
       "    }\n",
       "</style>\n",
       "<table border=\"1\" class=\"dataframe\">\n",
       "  <thead>\n",
       "    <tr style=\"text-align: right;\">\n",
       "      <th></th>\n",
       "      <th>buy_ts</th>\n",
       "      <th>revenue</th>\n",
       "      <th>uid</th>\n",
       "      <th>order_month</th>\n",
       "    </tr>\n",
       "  </thead>\n",
       "  <tbody>\n",
       "    <tr>\n",
       "      <th>0</th>\n",
       "      <td>2017-06-01 00:10:00</td>\n",
       "      <td>17.00</td>\n",
       "      <td>10329302124590727494</td>\n",
       "      <td>2017-06-01</td>\n",
       "    </tr>\n",
       "    <tr>\n",
       "      <th>1</th>\n",
       "      <td>2017-06-01 00:25:00</td>\n",
       "      <td>0.55</td>\n",
       "      <td>11627257723692907447</td>\n",
       "      <td>2017-06-01</td>\n",
       "    </tr>\n",
       "    <tr>\n",
       "      <th>2</th>\n",
       "      <td>2017-06-01 00:27:00</td>\n",
       "      <td>0.37</td>\n",
       "      <td>17903680561304213844</td>\n",
       "      <td>2017-06-01</td>\n",
       "    </tr>\n",
       "    <tr>\n",
       "      <th>3</th>\n",
       "      <td>2017-06-01 00:29:00</td>\n",
       "      <td>0.55</td>\n",
       "      <td>16109239769442553005</td>\n",
       "      <td>2017-06-01</td>\n",
       "    </tr>\n",
       "    <tr>\n",
       "      <th>4</th>\n",
       "      <td>2017-06-01 07:58:00</td>\n",
       "      <td>0.37</td>\n",
       "      <td>14200605875248379450</td>\n",
       "      <td>2017-06-01</td>\n",
       "    </tr>\n",
       "  </tbody>\n",
       "</table>\n",
       "</div>"
      ],
      "text/plain": [
       "               buy_ts  revenue                   uid order_month\n",
       "0 2017-06-01 00:10:00    17.00  10329302124590727494  2017-06-01\n",
       "1 2017-06-01 00:25:00     0.55  11627257723692907447  2017-06-01\n",
       "2 2017-06-01 00:27:00     0.37  17903680561304213844  2017-06-01\n",
       "3 2017-06-01 00:29:00     0.55  16109239769442553005  2017-06-01\n",
       "4 2017-06-01 07:58:00     0.37  14200605875248379450  2017-06-01"
      ]
     },
     "execution_count": 68,
     "metadata": {},
     "output_type": "execute_result"
    }
   ],
   "source": [
    "orders.head()"
   ]
  },
  {
   "cell_type": "code",
   "execution_count": 69,
   "metadata": {},
   "outputs": [],
   "source": [
    "#найдем дату первого заказа для каждого покупателя\n",
    "first_order_date_by_customers = orders.groupby('uid')['buy_ts'].min()\n",
    "first_order_date_by_customers.name = 'first_order_date'\n",
    "orders = orders.join(first_order_date_by_customers,on='uid')"
   ]
  },
  {
   "cell_type": "code",
   "execution_count": 70,
   "metadata": {},
   "outputs": [],
   "source": [
    "#определим дату первого заказа, переведем в datetime, первое число месяца\n",
    "orders['first_order_month'] = orders['first_order_date'].astype('datetime64[M]')"
   ]
  },
  {
   "cell_type": "code",
   "execution_count": 71,
   "metadata": {},
   "outputs": [],
   "source": [
    "#сгруппируем датафрейм по когортам (первый заказ, месяц заказа), выручку просуммируем, найдем количество уникальных покупателей \n",
    "orders_grouped_by_cohorts = orders.groupby(['first_order_month','order_month']).agg({'revenue':'sum','uid':'nunique'})\\\n",
    "                                .rename(columns={'uid':'unique_users'})"
   ]
  },
  {
   "cell_type": "code",
   "execution_count": 72,
   "metadata": {},
   "outputs": [],
   "source": [
    "#посчитаем средний чек в каждом месяце(life_time) каждой когорты (по месяцу первого заказа)\n",
    "orders_grouped_by_cohorts['mean_bill'] = orders_grouped_by_cohorts['revenue']/orders_grouped_by_cohorts['unique_users']"
   ]
  },
  {
   "cell_type": "code",
   "execution_count": 73,
   "metadata": {},
   "outputs": [],
   "source": [
    "#посчитаем life_time внутри каждой группы\n",
    "orders_grouped_by_cohorts = orders_grouped_by_cohorts.reset_index()\n",
    "orders_grouped_by_cohorts['lifetime'] = orders_grouped_by_cohorts['order_month']-orders_grouped_by_cohorts['first_order_month']"
   ]
  },
  {
   "cell_type": "code",
   "execution_count": 74,
   "metadata": {},
   "outputs": [],
   "source": [
    "#разделим life_time (дельта между первым заказом и последующим для каждого айди) на timegelty и округлим до целого числа\n",
    "orders_grouped_by_cohorts['lifetime'] = (orders_grouped_by_cohorts['lifetime']/np.timedelta64(1,'M'))\\\n",
    "                                            .round().astype('int')"
   ]
  },
  {
   "cell_type": "code",
   "execution_count": 75,
   "metadata": {},
   "outputs": [],
   "source": [
    "#оставим год и месяц\n",
    "orders_grouped_by_cohorts['first_order_month'] = orders_grouped_by_cohorts['first_order_month'].dt.strftime('%Y-%m')"
   ]
  },
  {
   "cell_type": "code",
   "execution_count": 76,
   "metadata": {},
   "outputs": [],
   "source": [
    "#развернем таблицу по номеру месяца внутри каждой когорты (lifetime)\n",
    "pivot_mean_bill = orders_grouped_by_cohorts\\\n",
    "    .pivot_table(index='first_order_month', columns='lifetime', values='mean_bill', aggfunc='mean')"
   ]
  },
  {
   "cell_type": "code",
   "execution_count": 77,
   "metadata": {
    "scrolled": false
   },
   "outputs": [
    {
     "data": {
      "image/png": "[encoded data removed]",
      "text/plain": [
       "<Figure size 648x432 with 2 Axes>"
      ]
     },
     "metadata": {},
     "output_type": "display_data"
    }
   ],
   "source": [
    "plt.title('Изменение среднего чека покупателей в зависимости от даты первого заказа')\n",
    "sns.heatmap(pivot_mean_bill, annot=True, fmt='.1f', linewidths=1, linecolor='gray')\n",
    "plt.show()"
   ]
  },
  {
   "cell_type": "markdown",
   "metadata": {},
   "source": [
    "# Вывод\n",
    "* Выделяются когорты привлеченных пользователей в июне, сентябре и декабре. Стоит проанализировать из каких каналов, по каким акциям они пришли и какие аудитории/ключевые слова были использованы, так же стоит проверить соотношение декстопа и мобайла.\n",
    "* Неудачная закупка трафика была в феврале и октябре, стоит проанализировать сеансы по срезам, перечисленным выше\n",
    "* Так же можно найти дельту(отклонение) от среднего по когорте"
   ]
  },
  {
   "cell_type": "markdown",
   "metadata": {},
   "source": [
    "---"
   ]
  },
  {
   "cell_type": "markdown",
   "metadata": {},
   "source": [
    "## Для последующих вычислений (LTV, ROI) соберем необходимые данные в один датафрейм (users)"
   ]
  },
  {
   "cell_type": "code",
   "execution_count": 78,
   "metadata": {},
   "outputs": [],
   "source": [
    "orders['buy_ts'] = pd.to_datetime(orders['buy_ts'])\n",
    "orders = orders.rename(columns={'buy_ts':'buy_dt'})\n",
    "orders = orders.set_index('uid')\n",
    "orders['buy_month'] = orders['buy_dt'].astype('datetime64[M]')"
   ]
  },
  {
   "cell_type": "code",
   "execution_count": 79,
   "metadata": {},
   "outputs": [],
   "source": [
    "costs = costs.rename(columns={'dt':'acquisition_date'})"
   ]
  },
  {
   "cell_type": "code",
   "execution_count": 80,
   "metadata": {},
   "outputs": [
    {
     "data": {
      "text/html": [
       "<div>\n",
       "<style scoped>\n",
       "    .dataframe tbody tr th:only-of-type {\n",
       "        vertical-align: middle;\n",
       "    }\n",
       "\n",
       "    .dataframe tbody tr th {\n",
       "        vertical-align: top;\n",
       "    }\n",
       "\n",
       "    .dataframe thead th {\n",
       "        text-align: right;\n",
       "    }\n",
       "</style>\n",
       "<table border=\"1\" class=\"dataframe\">\n",
       "  <thead>\n",
       "    <tr style=\"text-align: right;\">\n",
       "      <th></th>\n",
       "      <th>uid</th>\n",
       "      <th>device</th>\n",
       "      <th>end_ts</th>\n",
       "      <th>source_id</th>\n",
       "      <th>start_ts</th>\n",
       "      <th>month</th>\n",
       "      <th>date</th>\n",
       "      <th>week</th>\n",
       "      <th>year</th>\n",
       "      <th>session_duration_sec</th>\n",
       "    </tr>\n",
       "  </thead>\n",
       "  <tbody>\n",
       "    <tr>\n",
       "      <th>0</th>\n",
       "      <td>16879256277535980062</td>\n",
       "      <td>touch</td>\n",
       "      <td>2017-12-20 17:38:00</td>\n",
       "      <td>4</td>\n",
       "      <td>2017-12-20 17:20:00</td>\n",
       "      <td>12</td>\n",
       "      <td>20</td>\n",
       "      <td>51</td>\n",
       "      <td>2017</td>\n",
       "      <td>1080</td>\n",
       "    </tr>\n",
       "    <tr>\n",
       "      <th>1</th>\n",
       "      <td>104060357244891740</td>\n",
       "      <td>desktop</td>\n",
       "      <td>2018-02-19 17:21:00</td>\n",
       "      <td>2</td>\n",
       "      <td>2018-02-19 16:53:00</td>\n",
       "      <td>2</td>\n",
       "      <td>19</td>\n",
       "      <td>8</td>\n",
       "      <td>2018</td>\n",
       "      <td>1680</td>\n",
       "    </tr>\n",
       "    <tr>\n",
       "      <th>2</th>\n",
       "      <td>7459035603376831527</td>\n",
       "      <td>touch</td>\n",
       "      <td>2017-07-01 01:54:00</td>\n",
       "      <td>5</td>\n",
       "      <td>2017-07-01 01:54:00</td>\n",
       "      <td>7</td>\n",
       "      <td>1</td>\n",
       "      <td>26</td>\n",
       "      <td>2017</td>\n",
       "      <td>0</td>\n",
       "    </tr>\n",
       "    <tr>\n",
       "      <th>3</th>\n",
       "      <td>16174680259334210214</td>\n",
       "      <td>desktop</td>\n",
       "      <td>2018-05-20 11:23:00</td>\n",
       "      <td>9</td>\n",
       "      <td>2018-05-20 10:59:00</td>\n",
       "      <td>5</td>\n",
       "      <td>20</td>\n",
       "      <td>20</td>\n",
       "      <td>2018</td>\n",
       "      <td>1440</td>\n",
       "    </tr>\n",
       "    <tr>\n",
       "      <th>4</th>\n",
       "      <td>9969694820036681168</td>\n",
       "      <td>desktop</td>\n",
       "      <td>2017-12-27 14:06:00</td>\n",
       "      <td>3</td>\n",
       "      <td>2017-12-27 14:06:00</td>\n",
       "      <td>12</td>\n",
       "      <td>27</td>\n",
       "      <td>52</td>\n",
       "      <td>2017</td>\n",
       "      <td>0</td>\n",
       "    </tr>\n",
       "  </tbody>\n",
       "</table>\n",
       "</div>"
      ],
      "text/plain": [
       "                    uid   device              end_ts  source_id  \\\n",
       "0  16879256277535980062    touch 2017-12-20 17:38:00          4   \n",
       "1    104060357244891740  desktop 2018-02-19 17:21:00          2   \n",
       "2   7459035603376831527    touch 2017-07-01 01:54:00          5   \n",
       "3  16174680259334210214  desktop 2018-05-20 11:23:00          9   \n",
       "4   9969694820036681168  desktop 2017-12-27 14:06:00          3   \n",
       "\n",
       "             start_ts  month  date  week  year  session_duration_sec  \n",
       "0 2017-12-20 17:20:00     12    20    51  2017                  1080  \n",
       "1 2018-02-19 16:53:00      2    19     8  2018                  1680  \n",
       "2 2017-07-01 01:54:00      7     1    26  2017                     0  \n",
       "3 2018-05-20 10:59:00      5    20    20  2018                  1440  \n",
       "4 2017-12-27 14:06:00     12    27    52  2017                     0  "
      ]
     },
     "execution_count": 80,
     "metadata": {},
     "output_type": "execute_result"
    }
   ],
   "source": [
    "visits.head()"
   ]
  },
  {
   "cell_type": "code",
   "execution_count": 81,
   "metadata": {},
   "outputs": [],
   "source": [
    "# находим для каждого пользователя дату привлечения\n",
    "users = visits.groupby('uid').agg({'start_ts':'min'}).rename(columns={'start_ts':'acquisition_dt'})"
   ]
  },
  {
   "cell_type": "code",
   "execution_count": 82,
   "metadata": {},
   "outputs": [],
   "source": [
    "users = visits.set_index('uid').join(users)"
   ]
  },
  {
   "cell_type": "code",
   "execution_count": 83,
   "metadata": {
    "scrolled": true
   },
   "outputs": [],
   "source": [
    "users = users.query('start_ts == acquisition_dt')"
   ]
  },
  {
   "cell_type": "code",
   "execution_count": 84,
   "metadata": {},
   "outputs": [],
   "source": [
    "## оставляем только те сессии, в которых начало сессии равно дате привлечения; находим девайс и источник привлечения\n",
    "users = users.query('start_ts == acquisition_dt')[['acquisition_dt','device','source_id']]"
   ]
  },
  {
   "cell_type": "code",
   "execution_count": 85,
   "metadata": {},
   "outputs": [],
   "source": [
    "#выделим отдельно дату \n",
    "users['acquisition_date'] = users['acquisition_dt'].dt.date\n",
    "users['acquisition_date'] = pd.to_datetime(users['acquisition_date'])"
   ]
  },
  {
   "cell_type": "code",
   "execution_count": 86,
   "metadata": {},
   "outputs": [],
   "source": [
    "#выделим отдельно месяц\n",
    "users['acquisition_month'] = users['acquisition_dt'].astype('datetime64[M]')"
   ]
  },
  {
   "cell_type": "code",
   "execution_count": 87,
   "metadata": {},
   "outputs": [],
   "source": [
    "costs = costs.set_index(['source_id','acquisition_date'])"
   ]
  },
  {
   "cell_type": "code",
   "execution_count": 88,
   "metadata": {},
   "outputs": [],
   "source": [
    "users = users.reset_index().set_index(['source_id','acquisition_date'])"
   ]
  },
  {
   "cell_type": "code",
   "execution_count": 89,
   "metadata": {},
   "outputs": [],
   "source": [
    "#добавляем в датафрейм users стоимость привлечения всей группы пользователей по определенному каналу в определенный день (без учета девайса)\n",
    "users = users.join(costs, how='left')"
   ]
  },
  {
   "cell_type": "code",
   "execution_count": 90,
   "metadata": {},
   "outputs": [],
   "source": [
    "#делаем временный датафрейм cac, в котором для каждого канала и даты привлечения считаем расходы на одного юзера\n",
    "cac = (users.reset_index().groupby(['source_id','acquisition_date']).agg({'device':'count','costs':'max'})\\\n",
    "      .rename(columns={'device':'users'}))"
   ]
  },
  {
   "cell_type": "code",
   "execution_count": 91,
   "metadata": {},
   "outputs": [],
   "source": [
    "#считаем CPA/CAC стоимость привлечения одного пользователя в каждой группе канал-дата привлечения\n",
    "cac['acquisition_cost'] = cac['costs']/cac['users']"
   ]
  },
  {
   "cell_type": "code",
   "execution_count": 92,
   "metadata": {
    "scrolled": true
   },
   "outputs": [
    {
     "data": {
      "text/html": [
       "<div>\n",
       "<style scoped>\n",
       "    .dataframe tbody tr th:only-of-type {\n",
       "        vertical-align: middle;\n",
       "    }\n",
       "\n",
       "    .dataframe tbody tr th {\n",
       "        vertical-align: top;\n",
       "    }\n",
       "\n",
       "    .dataframe thead th {\n",
       "        text-align: right;\n",
       "    }\n",
       "</style>\n",
       "<table border=\"1\" class=\"dataframe\">\n",
       "  <thead>\n",
       "    <tr style=\"text-align: right;\">\n",
       "      <th></th>\n",
       "      <th></th>\n",
       "      <th>users</th>\n",
       "      <th>costs</th>\n",
       "      <th>acquisition_cost</th>\n",
       "    </tr>\n",
       "    <tr>\n",
       "      <th>source_id</th>\n",
       "      <th>acquisition_date</th>\n",
       "      <th></th>\n",
       "      <th></th>\n",
       "      <th></th>\n",
       "    </tr>\n",
       "  </thead>\n",
       "  <tbody>\n",
       "    <tr>\n",
       "      <th rowspan=\"5\" valign=\"top\">1</th>\n",
       "      <th>2017-06-01</th>\n",
       "      <td>45</td>\n",
       "      <td>75.20</td>\n",
       "      <td>1.671111</td>\n",
       "    </tr>\n",
       "    <tr>\n",
       "      <th>2017-06-02</th>\n",
       "      <td>27</td>\n",
       "      <td>62.25</td>\n",
       "      <td>2.305556</td>\n",
       "    </tr>\n",
       "    <tr>\n",
       "      <th>2017-06-03</th>\n",
       "      <td>22</td>\n",
       "      <td>36.53</td>\n",
       "      <td>1.660455</td>\n",
       "    </tr>\n",
       "    <tr>\n",
       "      <th>2017-06-04</th>\n",
       "      <td>24</td>\n",
       "      <td>55.00</td>\n",
       "      <td>2.291667</td>\n",
       "    </tr>\n",
       "    <tr>\n",
       "      <th>2017-06-05</th>\n",
       "      <td>38</td>\n",
       "      <td>57.08</td>\n",
       "      <td>1.502105</td>\n",
       "    </tr>\n",
       "  </tbody>\n",
       "</table>\n",
       "</div>"
      ],
      "text/plain": [
       "                            users  costs  acquisition_cost\n",
       "source_id acquisition_date                                \n",
       "1         2017-06-01           45  75.20          1.671111\n",
       "          2017-06-02           27  62.25          2.305556\n",
       "          2017-06-03           22  36.53          1.660455\n",
       "          2017-06-04           24  55.00          2.291667\n",
       "          2017-06-05           38  57.08          1.502105"
      ]
     },
     "execution_count": 92,
     "metadata": {},
     "output_type": "execute_result"
    }
   ],
   "source": [
    "cac.head()"
   ]
  },
  {
   "cell_type": "code",
   "execution_count": 93,
   "metadata": {},
   "outputs": [],
   "source": [
    "#добавляем в датафрейм users стоимость привлечения кажого пользователя в одном источнике за конкретную дату\n",
    "users = users.join(cac[['acquisition_cost','users']], how='left').reset_index()"
   ]
  },
  {
   "cell_type": "code",
   "execution_count": 94,
   "metadata": {},
   "outputs": [
    {
     "data": {
      "text/html": [
       "<div>\n",
       "<style scoped>\n",
       "    .dataframe tbody tr th:only-of-type {\n",
       "        vertical-align: middle;\n",
       "    }\n",
       "\n",
       "    .dataframe tbody tr th {\n",
       "        vertical-align: top;\n",
       "    }\n",
       "\n",
       "    .dataframe thead th {\n",
       "        text-align: right;\n",
       "    }\n",
       "</style>\n",
       "<table border=\"1\" class=\"dataframe\">\n",
       "  <thead>\n",
       "    <tr style=\"text-align: right;\">\n",
       "      <th></th>\n",
       "      <th>source_id</th>\n",
       "      <th>acquisition_date</th>\n",
       "      <th>uid</th>\n",
       "      <th>acquisition_dt</th>\n",
       "      <th>device</th>\n",
       "      <th>acquisition_month</th>\n",
       "      <th>costs</th>\n",
       "      <th>acquisition_cost</th>\n",
       "      <th>users</th>\n",
       "    </tr>\n",
       "  </thead>\n",
       "  <tbody>\n",
       "    <tr>\n",
       "      <th>0</th>\n",
       "      <td>1</td>\n",
       "      <td>2017-06-01</td>\n",
       "      <td>9714640286797951674</td>\n",
       "      <td>2017-06-01 21:45:00</td>\n",
       "      <td>desktop</td>\n",
       "      <td>2017-06-01</td>\n",
       "      <td>75.2</td>\n",
       "      <td>1.671111</td>\n",
       "      <td>45</td>\n",
       "    </tr>\n",
       "    <tr>\n",
       "      <th>1</th>\n",
       "      <td>1</td>\n",
       "      <td>2017-06-01</td>\n",
       "      <td>9909415513333099415</td>\n",
       "      <td>2017-06-01 13:24:00</td>\n",
       "      <td>touch</td>\n",
       "      <td>2017-06-01</td>\n",
       "      <td>75.2</td>\n",
       "      <td>1.671111</td>\n",
       "      <td>45</td>\n",
       "    </tr>\n",
       "    <tr>\n",
       "      <th>2</th>\n",
       "      <td>1</td>\n",
       "      <td>2017-06-01</td>\n",
       "      <td>10329302124590727494</td>\n",
       "      <td>2017-06-01 00:09:00</td>\n",
       "      <td>desktop</td>\n",
       "      <td>2017-06-01</td>\n",
       "      <td>75.2</td>\n",
       "      <td>1.671111</td>\n",
       "      <td>45</td>\n",
       "    </tr>\n",
       "    <tr>\n",
       "      <th>3</th>\n",
       "      <td>1</td>\n",
       "      <td>2017-06-01</td>\n",
       "      <td>10349500346348845391</td>\n",
       "      <td>2017-06-01 19:55:00</td>\n",
       "      <td>desktop</td>\n",
       "      <td>2017-06-01</td>\n",
       "      <td>75.2</td>\n",
       "      <td>1.671111</td>\n",
       "      <td>45</td>\n",
       "    </tr>\n",
       "    <tr>\n",
       "      <th>4</th>\n",
       "      <td>1</td>\n",
       "      <td>2017-06-01</td>\n",
       "      <td>10534330097262531592</td>\n",
       "      <td>2017-06-01 22:55:00</td>\n",
       "      <td>desktop</td>\n",
       "      <td>2017-06-01</td>\n",
       "      <td>75.2</td>\n",
       "      <td>1.671111</td>\n",
       "      <td>45</td>\n",
       "    </tr>\n",
       "  </tbody>\n",
       "</table>\n",
       "</div>"
      ],
      "text/plain": [
       "   source_id acquisition_date                   uid      acquisition_dt  \\\n",
       "0          1       2017-06-01   9714640286797951674 2017-06-01 21:45:00   \n",
       "1          1       2017-06-01   9909415513333099415 2017-06-01 13:24:00   \n",
       "2          1       2017-06-01  10329302124590727494 2017-06-01 00:09:00   \n",
       "3          1       2017-06-01  10349500346348845391 2017-06-01 19:55:00   \n",
       "4          1       2017-06-01  10534330097262531592 2017-06-01 22:55:00   \n",
       "\n",
       "    device acquisition_month  costs  acquisition_cost  users  \n",
       "0  desktop        2017-06-01   75.2          1.671111     45  \n",
       "1    touch        2017-06-01   75.2          1.671111     45  \n",
       "2  desktop        2017-06-01   75.2          1.671111     45  \n",
       "3  desktop        2017-06-01   75.2          1.671111     45  \n",
       "4  desktop        2017-06-01   75.2          1.671111     45  "
      ]
     },
     "execution_count": 94,
     "metadata": {},
     "output_type": "execute_result"
    }
   ],
   "source": [
    "users.head()"
   ]
  },
  {
   "cell_type": "code",
   "execution_count": 95,
   "metadata": {},
   "outputs": [],
   "source": [
    "#когорты по месяцам, размер когорты, суммарная стоимость привлечения, стоимость на юзера\n",
    "cohorts = (users.groupby('acquisition_month').agg({'device':'count','acquisition_cost':'sum'})\n",
    "                                             .rename(columns={'device':'cohort_size'}))\n",
    "cohorts['cac'] = cohorts['acquisition_cost']/cohorts['cohort_size']"
   ]
  },
  {
   "cell_type": "code",
   "execution_count": 96,
   "metadata": {},
   "outputs": [
    {
     "data": {
      "image/png": "[encoded data removed]",
      "text/plain": [
       "<Figure size 648x432 with 1 Axes>"
      ]
     },
     "metadata": {},
     "output_type": "display_data"
    }
   ],
   "source": [
    "ax = cohorts[['cac']].plot()\n",
    "ax.set(title='Стоимость привлечения в пересчете на одного юзера по месяцам')\n",
    "plt.show()"
   ]
  },
  {
   "cell_type": "markdown",
   "metadata": {},
   "source": [
    "----"
   ]
  },
  {
   "cell_type": "markdown",
   "metadata": {},
   "source": [
    "## Посчитаем LTV"
   ]
  },
  {
   "cell_type": "code",
   "execution_count": 97,
   "metadata": {},
   "outputs": [],
   "source": [
    "#добавим revenue к датафрейму users\n",
    "ltv = orders.join(users.set_index('uid'), how='left')[['acquisition_month','order_month','revenue']]"
   ]
  },
  {
   "cell_type": "code",
   "execution_count": 98,
   "metadata": {},
   "outputs": [
    {
     "data": {
      "text/html": [
       "<div>\n",
       "<style scoped>\n",
       "    .dataframe tbody tr th:only-of-type {\n",
       "        vertical-align: middle;\n",
       "    }\n",
       "\n",
       "    .dataframe tbody tr th {\n",
       "        vertical-align: top;\n",
       "    }\n",
       "\n",
       "    .dataframe thead th {\n",
       "        text-align: right;\n",
       "    }\n",
       "</style>\n",
       "<table border=\"1\" class=\"dataframe\">\n",
       "  <thead>\n",
       "    <tr style=\"text-align: right;\">\n",
       "      <th></th>\n",
       "      <th>acquisition_month</th>\n",
       "      <th>order_month</th>\n",
       "      <th>revenue</th>\n",
       "    </tr>\n",
       "    <tr>\n",
       "      <th>uid</th>\n",
       "      <th></th>\n",
       "      <th></th>\n",
       "      <th></th>\n",
       "    </tr>\n",
       "  </thead>\n",
       "  <tbody>\n",
       "    <tr>\n",
       "      <th>9223707061355654945</th>\n",
       "      <td>2017-10-01</td>\n",
       "      <td>2017-10-01</td>\n",
       "      <td>4.64</td>\n",
       "    </tr>\n",
       "    <tr>\n",
       "      <th>9224005701666002943</th>\n",
       "      <td>2017-12-01</td>\n",
       "      <td>2017-12-01</td>\n",
       "      <td>3.36</td>\n",
       "    </tr>\n",
       "    <tr>\n",
       "      <th>9224005701666002943</th>\n",
       "      <td>2017-12-01</td>\n",
       "      <td>2018-03-01</td>\n",
       "      <td>3.67</td>\n",
       "    </tr>\n",
       "    <tr>\n",
       "      <th>9225406053864431006</th>\n",
       "      <td>2017-09-01</td>\n",
       "      <td>2017-12-01</td>\n",
       "      <td>0.43</td>\n",
       "    </tr>\n",
       "    <tr>\n",
       "      <th>9225479525411867039</th>\n",
       "      <td>2018-02-01</td>\n",
       "      <td>2018-02-01</td>\n",
       "      <td>7.33</td>\n",
       "    </tr>\n",
       "  </tbody>\n",
       "</table>\n",
       "</div>"
      ],
      "text/plain": [
       "                    acquisition_month order_month  revenue\n",
       "uid                                                       \n",
       "9223707061355654945        2017-10-01  2017-10-01     4.64\n",
       "9224005701666002943        2017-12-01  2017-12-01     3.36\n",
       "9224005701666002943        2017-12-01  2018-03-01     3.67\n",
       "9225406053864431006        2017-09-01  2017-12-01     0.43\n",
       "9225479525411867039        2018-02-01  2018-02-01     7.33"
      ]
     },
     "execution_count": 98,
     "metadata": {},
     "output_type": "execute_result"
    }
   ],
   "source": [
    "ltv.head()"
   ]
  },
  {
   "cell_type": "code",
   "execution_count": 99,
   "metadata": {},
   "outputs": [],
   "source": [
    "#считаем месяц внутри когорты, округляем\n",
    "ltv['age_month'] = ((ltv['order_month']-ltv['acquisition_month'])/np.timedelta64(1,'M')).round().astype('int')"
   ]
  },
  {
   "cell_type": "code",
   "execution_count": 100,
   "metadata": {},
   "outputs": [
    {
     "data": {
      "text/html": [
       "<div>\n",
       "<style scoped>\n",
       "    .dataframe tbody tr th:only-of-type {\n",
       "        vertical-align: middle;\n",
       "    }\n",
       "\n",
       "    .dataframe tbody tr th {\n",
       "        vertical-align: top;\n",
       "    }\n",
       "\n",
       "    .dataframe thead th {\n",
       "        text-align: right;\n",
       "    }\n",
       "</style>\n",
       "<table border=\"1\" class=\"dataframe\">\n",
       "  <thead>\n",
       "    <tr style=\"text-align: right;\">\n",
       "      <th></th>\n",
       "      <th>cohort_size</th>\n",
       "      <th>acquisition_cost</th>\n",
       "      <th>cac</th>\n",
       "    </tr>\n",
       "    <tr>\n",
       "      <th>acquisition_month</th>\n",
       "      <th></th>\n",
       "      <th></th>\n",
       "      <th></th>\n",
       "    </tr>\n",
       "  </thead>\n",
       "  <tbody>\n",
       "    <tr>\n",
       "      <th>2017-06-01</th>\n",
       "      <td>13259</td>\n",
       "      <td>18015.00</td>\n",
       "      <td>1.358700</td>\n",
       "    </tr>\n",
       "    <tr>\n",
       "      <th>2017-07-01</th>\n",
       "      <td>13140</td>\n",
       "      <td>18230.81</td>\n",
       "      <td>1.387428</td>\n",
       "    </tr>\n",
       "    <tr>\n",
       "      <th>2017-08-01</th>\n",
       "      <td>10181</td>\n",
       "      <td>14789.17</td>\n",
       "      <td>1.452624</td>\n",
       "    </tr>\n",
       "    <tr>\n",
       "      <th>2017-09-01</th>\n",
       "      <td>16704</td>\n",
       "      <td>24360.36</td>\n",
       "      <td>1.458355</td>\n",
       "    </tr>\n",
       "    <tr>\n",
       "      <th>2017-10-01</th>\n",
       "      <td>25977</td>\n",
       "      <td>36322.88</td>\n",
       "      <td>1.398271</td>\n",
       "    </tr>\n",
       "  </tbody>\n",
       "</table>\n",
       "</div>"
      ],
      "text/plain": [
       "                   cohort_size  acquisition_cost       cac\n",
       "acquisition_month                                         \n",
       "2017-06-01               13259          18015.00  1.358700\n",
       "2017-07-01               13140          18230.81  1.387428\n",
       "2017-08-01               10181          14789.17  1.452624\n",
       "2017-09-01               16704          24360.36  1.458355\n",
       "2017-10-01               25977          36322.88  1.398271"
      ]
     },
     "execution_count": 100,
     "metadata": {},
     "output_type": "execute_result"
    }
   ],
   "source": [
    "cohorts.head()"
   ]
  },
  {
   "cell_type": "code",
   "execution_count": 101,
   "metadata": {},
   "outputs": [],
   "source": [
    "ltv = ltv.groupby(['acquisition_month','age_month']).agg({'revenue':'sum'})\n",
    "#строим сводную таблицу по когортам\n",
    "ltv = ltv.pivot_table(index='acquisition_month', columns='age_month', values='revenue', aggfunc='sum')\n",
    "#добавляем накопительную сумму по каждой когорте\n",
    "ltv = ltv.cumsum(axis=1)"
   ]
  },
  {
   "cell_type": "code",
   "execution_count": 102,
   "metadata": {},
   "outputs": [
    {
     "data": {
      "text/html": [
       "<div>\n",
       "<style scoped>\n",
       "    .dataframe tbody tr th:only-of-type {\n",
       "        vertical-align: middle;\n",
       "    }\n",
       "\n",
       "    .dataframe tbody tr th {\n",
       "        vertical-align: top;\n",
       "    }\n",
       "\n",
       "    .dataframe thead th {\n",
       "        text-align: right;\n",
       "    }\n",
       "</style>\n",
       "<table border=\"1\" class=\"dataframe\">\n",
       "  <thead>\n",
       "    <tr style=\"text-align: right;\">\n",
       "      <th>age_month</th>\n",
       "      <th>0</th>\n",
       "      <th>1</th>\n",
       "      <th>2</th>\n",
       "      <th>3</th>\n",
       "      <th>4</th>\n",
       "      <th>5</th>\n",
       "      <th>6</th>\n",
       "      <th>7</th>\n",
       "      <th>8</th>\n",
       "      <th>9</th>\n",
       "      <th>10</th>\n",
       "      <th>11</th>\n",
       "    </tr>\n",
       "    <tr>\n",
       "      <th>acquisition_month</th>\n",
       "      <th></th>\n",
       "      <th></th>\n",
       "      <th></th>\n",
       "      <th></th>\n",
       "      <th></th>\n",
       "      <th></th>\n",
       "      <th></th>\n",
       "      <th></th>\n",
       "      <th></th>\n",
       "      <th></th>\n",
       "      <th></th>\n",
       "      <th></th>\n",
       "    </tr>\n",
       "  </thead>\n",
       "  <tbody>\n",
       "    <tr>\n",
       "      <th>2017-06-01</th>\n",
       "      <td>9557.49</td>\n",
       "      <td>12222.07</td>\n",
       "      <td>13686.76</td>\n",
       "      <td>17568.85</td>\n",
       "      <td>21509.44</td>\n",
       "      <td>24333.92</td>\n",
       "      <td>27823.87</td>\n",
       "      <td>30094.68</td>\n",
       "      <td>32412.59</td>\n",
       "      <td>35894.23</td>\n",
       "      <td>38098.24</td>\n",
       "      <td>40026.05</td>\n",
       "    </tr>\n",
       "    <tr>\n",
       "      <th>2017-07-01</th>\n",
       "      <td>9874.89</td>\n",
       "      <td>10934.17</td>\n",
       "      <td>12043.07</td>\n",
       "      <td>13026.03</td>\n",
       "      <td>13873.02</td>\n",
       "      <td>14671.10</td>\n",
       "      <td>15259.10</td>\n",
       "      <td>16029.40</td>\n",
       "      <td>16753.92</td>\n",
       "      <td>17344.95</td>\n",
       "      <td>17812.11</td>\n",
       "      <td>NaN</td>\n",
       "    </tr>\n",
       "    <tr>\n",
       "      <th>2017-08-01</th>\n",
       "      <td>6234.81</td>\n",
       "      <td>7232.13</td>\n",
       "      <td>8233.48</td>\n",
       "      <td>9179.69</td>\n",
       "      <td>9989.73</td>\n",
       "      <td>10522.63</td>\n",
       "      <td>11009.28</td>\n",
       "      <td>12255.51</td>\n",
       "      <td>13086.15</td>\n",
       "      <td>13461.87</td>\n",
       "      <td>NaN</td>\n",
       "      <td>NaN</td>\n",
       "    </tr>\n",
       "    <tr>\n",
       "      <th>2017-09-01</th>\n",
       "      <td>12357.20</td>\n",
       "      <td>16057.68</td>\n",
       "      <td>18168.31</td>\n",
       "      <td>28607.24</td>\n",
       "      <td>29895.72</td>\n",
       "      <td>31805.77</td>\n",
       "      <td>32772.61</td>\n",
       "      <td>33263.99</td>\n",
       "      <td>33682.56</td>\n",
       "      <td>NaN</td>\n",
       "      <td>NaN</td>\n",
       "      <td>NaN</td>\n",
       "    </tr>\n",
       "    <tr>\n",
       "      <th>2017-10-01</th>\n",
       "      <td>18362.32</td>\n",
       "      <td>22172.15</td>\n",
       "      <td>23499.17</td>\n",
       "      <td>24557.22</td>\n",
       "      <td>25600.69</td>\n",
       "      <td>26622.88</td>\n",
       "      <td>27201.79</td>\n",
       "      <td>27857.69</td>\n",
       "      <td>NaN</td>\n",
       "      <td>NaN</td>\n",
       "      <td>NaN</td>\n",
       "      <td>NaN</td>\n",
       "    </tr>\n",
       "    <tr>\n",
       "      <th>2017-11-01</th>\n",
       "      <td>16531.79</td>\n",
       "      <td>19199.37</td>\n",
       "      <td>20542.22</td>\n",
       "      <td>21911.75</td>\n",
       "      <td>23020.49</td>\n",
       "      <td>23728.12</td>\n",
       "      <td>24426.72</td>\n",
       "      <td>NaN</td>\n",
       "      <td>NaN</td>\n",
       "      <td>NaN</td>\n",
       "      <td>NaN</td>\n",
       "      <td>NaN</td>\n",
       "    </tr>\n",
       "    <tr>\n",
       "      <th>2017-12-01</th>\n",
       "      <td>16857.00</td>\n",
       "      <td>18596.03</td>\n",
       "      <td>22794.33</td>\n",
       "      <td>27918.15</td>\n",
       "      <td>29375.72</td>\n",
       "      <td>31157.85</td>\n",
       "      <td>NaN</td>\n",
       "      <td>NaN</td>\n",
       "      <td>NaN</td>\n",
       "      <td>NaN</td>\n",
       "      <td>NaN</td>\n",
       "      <td>NaN</td>\n",
       "    </tr>\n",
       "    <tr>\n",
       "      <th>2018-01-01</th>\n",
       "      <td>10597.01</td>\n",
       "      <td>12548.71</td>\n",
       "      <td>13713.47</td>\n",
       "      <td>14019.35</td>\n",
       "      <td>14546.82</td>\n",
       "      <td>NaN</td>\n",
       "      <td>NaN</td>\n",
       "      <td>NaN</td>\n",
       "      <td>NaN</td>\n",
       "      <td>NaN</td>\n",
       "      <td>NaN</td>\n",
       "      <td>NaN</td>\n",
       "    </tr>\n",
       "    <tr>\n",
       "      <th>2018-02-01</th>\n",
       "      <td>11512.63</td>\n",
       "      <td>13497.09</td>\n",
       "      <td>14160.28</td>\n",
       "      <td>15061.29</td>\n",
       "      <td>NaN</td>\n",
       "      <td>NaN</td>\n",
       "      <td>NaN</td>\n",
       "      <td>NaN</td>\n",
       "      <td>NaN</td>\n",
       "      <td>NaN</td>\n",
       "      <td>NaN</td>\n",
       "      <td>NaN</td>\n",
       "    </tr>\n",
       "    <tr>\n",
       "      <th>2018-03-01</th>\n",
       "      <td>12011.39</td>\n",
       "      <td>12995.39</td>\n",
       "      <td>13770.16</td>\n",
       "      <td>NaN</td>\n",
       "      <td>NaN</td>\n",
       "      <td>NaN</td>\n",
       "      <td>NaN</td>\n",
       "      <td>NaN</td>\n",
       "      <td>NaN</td>\n",
       "      <td>NaN</td>\n",
       "      <td>NaN</td>\n",
       "      <td>NaN</td>\n",
       "    </tr>\n",
       "    <tr>\n",
       "      <th>2018-04-01</th>\n",
       "      <td>8043.82</td>\n",
       "      <td>9882.55</td>\n",
       "      <td>NaN</td>\n",
       "      <td>NaN</td>\n",
       "      <td>NaN</td>\n",
       "      <td>NaN</td>\n",
       "      <td>NaN</td>\n",
       "      <td>NaN</td>\n",
       "      <td>NaN</td>\n",
       "      <td>NaN</td>\n",
       "      <td>NaN</td>\n",
       "      <td>NaN</td>\n",
       "    </tr>\n",
       "    <tr>\n",
       "      <th>2018-05-01</th>\n",
       "      <td>10368.11</td>\n",
       "      <td>10371.53</td>\n",
       "      <td>NaN</td>\n",
       "      <td>NaN</td>\n",
       "      <td>NaN</td>\n",
       "      <td>NaN</td>\n",
       "      <td>NaN</td>\n",
       "      <td>NaN</td>\n",
       "      <td>NaN</td>\n",
       "      <td>NaN</td>\n",
       "      <td>NaN</td>\n",
       "      <td>NaN</td>\n",
       "    </tr>\n",
       "  </tbody>\n",
       "</table>\n",
       "</div>"
      ],
      "text/plain": [
       "age_month                0         1         2         3         4         5   \\\n",
       "acquisition_month                                                               \n",
       "2017-06-01          9557.49  12222.07  13686.76  17568.85  21509.44  24333.92   \n",
       "2017-07-01          9874.89  10934.17  12043.07  13026.03  13873.02  14671.10   \n",
       "2017-08-01          6234.81   7232.13   8233.48   9179.69   9989.73  10522.63   \n",
       "2017-09-01         12357.20  16057.68  18168.31  28607.24  29895.72  31805.77   \n",
       "2017-10-01         18362.32  22172.15  23499.17  24557.22  25600.69  26622.88   \n",
       "2017-11-01         16531.79  19199.37  20542.22  21911.75  23020.49  23728.12   \n",
       "2017-12-01         16857.00  18596.03  22794.33  27918.15  29375.72  31157.85   \n",
       "2018-01-01         10597.01  12548.71  13713.47  14019.35  14546.82       NaN   \n",
       "2018-02-01         11512.63  13497.09  14160.28  15061.29       NaN       NaN   \n",
       "2018-03-01         12011.39  12995.39  13770.16       NaN       NaN       NaN   \n",
       "2018-04-01          8043.82   9882.55       NaN       NaN       NaN       NaN   \n",
       "2018-05-01         10368.11  10371.53       NaN       NaN       NaN       NaN   \n",
       "\n",
       "age_month                6         7         8         9         10        11  \n",
       "acquisition_month                                                              \n",
       "2017-06-01         27823.87  30094.68  32412.59  35894.23  38098.24  40026.05  \n",
       "2017-07-01         15259.10  16029.40  16753.92  17344.95  17812.11       NaN  \n",
       "2017-08-01         11009.28  12255.51  13086.15  13461.87       NaN       NaN  \n",
       "2017-09-01         32772.61  33263.99  33682.56       NaN       NaN       NaN  \n",
       "2017-10-01         27201.79  27857.69       NaN       NaN       NaN       NaN  \n",
       "2017-11-01         24426.72       NaN       NaN       NaN       NaN       NaN  \n",
       "2017-12-01              NaN       NaN       NaN       NaN       NaN       NaN  \n",
       "2018-01-01              NaN       NaN       NaN       NaN       NaN       NaN  \n",
       "2018-02-01              NaN       NaN       NaN       NaN       NaN       NaN  \n",
       "2018-03-01              NaN       NaN       NaN       NaN       NaN       NaN  \n",
       "2018-04-01              NaN       NaN       NaN       NaN       NaN       NaN  \n",
       "2018-05-01              NaN       NaN       NaN       NaN       NaN       NaN  "
      ]
     },
     "execution_count": 102,
     "metadata": {},
     "output_type": "execute_result"
    }
   ],
   "source": [
    "ltv"
   ]
  },
  {
   "cell_type": "code",
   "execution_count": 103,
   "metadata": {},
   "outputs": [],
   "source": [
    "#добавляем размер когорты, чтобы вычислить revenue(накопительный) на уникального пользователя\n",
    "ltv = cohorts[['cohort_size']].join(ltv)"
   ]
  },
  {
   "cell_type": "code",
   "execution_count": 104,
   "metadata": {
    "scrolled": false
   },
   "outputs": [
    {
     "data": {
      "text/html": [
       "<div>\n",
       "<style scoped>\n",
       "    .dataframe tbody tr th:only-of-type {\n",
       "        vertical-align: middle;\n",
       "    }\n",
       "\n",
       "    .dataframe tbody tr th {\n",
       "        vertical-align: top;\n",
       "    }\n",
       "\n",
       "    .dataframe thead th {\n",
       "        text-align: right;\n",
       "    }\n",
       "</style>\n",
       "<table border=\"1\" class=\"dataframe\">\n",
       "  <thead>\n",
       "    <tr style=\"text-align: right;\">\n",
       "      <th></th>\n",
       "      <th>0</th>\n",
       "      <th>1</th>\n",
       "      <th>2</th>\n",
       "      <th>3</th>\n",
       "      <th>4</th>\n",
       "      <th>5</th>\n",
       "      <th>6</th>\n",
       "      <th>7</th>\n",
       "      <th>8</th>\n",
       "      <th>9</th>\n",
       "      <th>10</th>\n",
       "      <th>11</th>\n",
       "    </tr>\n",
       "    <tr>\n",
       "      <th>acquisition_month</th>\n",
       "      <th></th>\n",
       "      <th></th>\n",
       "      <th></th>\n",
       "      <th></th>\n",
       "      <th></th>\n",
       "      <th></th>\n",
       "      <th></th>\n",
       "      <th></th>\n",
       "      <th></th>\n",
       "      <th></th>\n",
       "      <th></th>\n",
       "      <th></th>\n",
       "    </tr>\n",
       "  </thead>\n",
       "  <tbody>\n",
       "    <tr>\n",
       "      <th>2017-06-01</th>\n",
       "      <td>0.720830</td>\n",
       "      <td>0.921794</td>\n",
       "      <td>1.03226</td>\n",
       "      <td>1.32505</td>\n",
       "      <td>1.62225</td>\n",
       "      <td>1.83528</td>\n",
       "      <td>2.09849</td>\n",
       "      <td>2.26975</td>\n",
       "      <td>2.44457</td>\n",
       "      <td>2.70716</td>\n",
       "      <td>2.87339</td>\n",
       "      <td>3.01878</td>\n",
       "    </tr>\n",
       "    <tr>\n",
       "      <th>2017-07-01</th>\n",
       "      <td>0.751514</td>\n",
       "      <td>0.832129</td>\n",
       "      <td>0.91652</td>\n",
       "      <td>0.991326</td>\n",
       "      <td>1.05579</td>\n",
       "      <td>1.11652</td>\n",
       "      <td>1.16127</td>\n",
       "      <td>1.21989</td>\n",
       "      <td>1.27503</td>\n",
       "      <td>1.32001</td>\n",
       "      <td>1.35556</td>\n",
       "      <td></td>\n",
       "    </tr>\n",
       "    <tr>\n",
       "      <th>2017-08-01</th>\n",
       "      <td>0.612397</td>\n",
       "      <td>0.710356</td>\n",
       "      <td>0.80871</td>\n",
       "      <td>0.901649</td>\n",
       "      <td>0.981213</td>\n",
       "      <td>1.03356</td>\n",
       "      <td>1.08136</td>\n",
       "      <td>1.20376</td>\n",
       "      <td>1.28535</td>\n",
       "      <td>1.32225</td>\n",
       "      <td></td>\n",
       "      <td></td>\n",
       "    </tr>\n",
       "    <tr>\n",
       "      <th>2017-09-01</th>\n",
       "      <td>0.739775</td>\n",
       "      <td>0.961307</td>\n",
       "      <td>1.08766</td>\n",
       "      <td>1.7126</td>\n",
       "      <td>1.78973</td>\n",
       "      <td>1.90408</td>\n",
       "      <td>1.96196</td>\n",
       "      <td>1.99138</td>\n",
       "      <td>2.01644</td>\n",
       "      <td></td>\n",
       "      <td></td>\n",
       "      <td></td>\n",
       "    </tr>\n",
       "    <tr>\n",
       "      <th>2017-10-01</th>\n",
       "      <td>0.706868</td>\n",
       "      <td>0.853530</td>\n",
       "      <td>0.904614</td>\n",
       "      <td>0.945345</td>\n",
       "      <td>0.985514</td>\n",
       "      <td>1.02486</td>\n",
       "      <td>1.04715</td>\n",
       "      <td>1.0724</td>\n",
       "      <td></td>\n",
       "      <td></td>\n",
       "      <td></td>\n",
       "      <td></td>\n",
       "    </tr>\n",
       "    <tr>\n",
       "      <th>2017-11-01</th>\n",
       "      <td>0.606716</td>\n",
       "      <td>0.704616</td>\n",
       "      <td>0.753898</td>\n",
       "      <td>0.80416</td>\n",
       "      <td>0.844851</td>\n",
       "      <td>0.870821</td>\n",
       "      <td>0.896459</td>\n",
       "      <td></td>\n",
       "      <td></td>\n",
       "      <td></td>\n",
       "      <td></td>\n",
       "      <td></td>\n",
       "    </tr>\n",
       "    <tr>\n",
       "      <th>2017-12-01</th>\n",
       "      <td>0.667128</td>\n",
       "      <td>0.735952</td>\n",
       "      <td>0.902103</td>\n",
       "      <td>1.10488</td>\n",
       "      <td>1.16257</td>\n",
       "      <td>1.2331</td>\n",
       "      <td></td>\n",
       "      <td></td>\n",
       "      <td></td>\n",
       "      <td></td>\n",
       "      <td></td>\n",
       "      <td></td>\n",
       "    </tr>\n",
       "    <tr>\n",
       "      <th>2018-01-01</th>\n",
       "      <td>0.468397</td>\n",
       "      <td>0.554664</td>\n",
       "      <td>0.606147</td>\n",
       "      <td>0.619667</td>\n",
       "      <td>0.642982</td>\n",
       "      <td></td>\n",
       "      <td></td>\n",
       "      <td></td>\n",
       "      <td></td>\n",
       "      <td></td>\n",
       "      <td></td>\n",
       "      <td></td>\n",
       "    </tr>\n",
       "    <tr>\n",
       "      <th>2018-02-01</th>\n",
       "      <td>0.518657</td>\n",
       "      <td>0.608059</td>\n",
       "      <td>0.637937</td>\n",
       "      <td>0.678528</td>\n",
       "      <td></td>\n",
       "      <td></td>\n",
       "      <td></td>\n",
       "      <td></td>\n",
       "      <td></td>\n",
       "      <td></td>\n",
       "      <td></td>\n",
       "      <td></td>\n",
       "    </tr>\n",
       "    <tr>\n",
       "      <th>2018-03-01</th>\n",
       "      <td>0.583360</td>\n",
       "      <td>0.631151</td>\n",
       "      <td>0.668779</td>\n",
       "      <td></td>\n",
       "      <td></td>\n",
       "      <td></td>\n",
       "      <td></td>\n",
       "      <td></td>\n",
       "      <td></td>\n",
       "      <td></td>\n",
       "      <td></td>\n",
       "      <td></td>\n",
       "    </tr>\n",
       "    <tr>\n",
       "      <th>2018-04-01</th>\n",
       "      <td>0.512052</td>\n",
       "      <td>0.629101</td>\n",
       "      <td></td>\n",
       "      <td></td>\n",
       "      <td></td>\n",
       "      <td></td>\n",
       "      <td></td>\n",
       "      <td></td>\n",
       "      <td></td>\n",
       "      <td></td>\n",
       "      <td></td>\n",
       "      <td></td>\n",
       "    </tr>\n",
       "    <tr>\n",
       "      <th>2018-05-01</th>\n",
       "      <td>0.678852</td>\n",
       "      <td>0.679076</td>\n",
       "      <td></td>\n",
       "      <td></td>\n",
       "      <td></td>\n",
       "      <td></td>\n",
       "      <td></td>\n",
       "      <td></td>\n",
       "      <td></td>\n",
       "      <td></td>\n",
       "      <td></td>\n",
       "      <td></td>\n",
       "    </tr>\n",
       "  </tbody>\n",
       "</table>\n",
       "</div>"
      ],
      "text/plain": [
       "                         0         1         2         3         4         5   \\\n",
       "acquisition_month                                                               \n",
       "2017-06-01         0.720830  0.921794   1.03226   1.32505   1.62225   1.83528   \n",
       "2017-07-01         0.751514  0.832129   0.91652  0.991326   1.05579   1.11652   \n",
       "2017-08-01         0.612397  0.710356   0.80871  0.901649  0.981213   1.03356   \n",
       "2017-09-01         0.739775  0.961307   1.08766    1.7126   1.78973   1.90408   \n",
       "2017-10-01         0.706868  0.853530  0.904614  0.945345  0.985514   1.02486   \n",
       "2017-11-01         0.606716  0.704616  0.753898   0.80416  0.844851  0.870821   \n",
       "2017-12-01         0.667128  0.735952  0.902103   1.10488   1.16257    1.2331   \n",
       "2018-01-01         0.468397  0.554664  0.606147  0.619667  0.642982             \n",
       "2018-02-01         0.518657  0.608059  0.637937  0.678528                       \n",
       "2018-03-01         0.583360  0.631151  0.668779                                 \n",
       "2018-04-01         0.512052  0.629101                                           \n",
       "2018-05-01         0.678852  0.679076                                           \n",
       "\n",
       "                         6        7        8        9        10       11  \n",
       "acquisition_month                                                         \n",
       "2017-06-01          2.09849  2.26975  2.44457  2.70716  2.87339  3.01878  \n",
       "2017-07-01          1.16127  1.21989  1.27503  1.32001  1.35556           \n",
       "2017-08-01          1.08136  1.20376  1.28535  1.32225                    \n",
       "2017-09-01          1.96196  1.99138  2.01644                             \n",
       "2017-10-01          1.04715   1.0724                                      \n",
       "2017-11-01         0.896459                                               \n",
       "2017-12-01                                                                \n",
       "2018-01-01                                                                \n",
       "2018-02-01                                                                \n",
       "2018-03-01                                                                \n",
       "2018-04-01                                                                \n",
       "2018-05-01                                                                "
      ]
     },
     "execution_count": 104,
     "metadata": {},
     "output_type": "execute_result"
    }
   ],
   "source": [
    "ltv = ltv.div(ltv['cohort_size'], axis=0).drop(columns = ['cohort_size'])\n",
    "ltv.fillna('')"
   ]
  },
  {
   "cell_type": "code",
   "execution_count": 105,
   "metadata": {},
   "outputs": [
    {
     "data": {
      "image/png": "[encoded data removed]",
      "text/plain": [
       "<Figure size 648x432 with 2 Axes>"
      ]
     },
     "metadata": {},
     "output_type": "display_data"
    }
   ],
   "source": [
    "plt.title('LTV')\n",
    "sns.heatmap(ltv, annot=True, fmt='.1f', linewidths=1, linecolor='gray')\n",
    "plt.show()"
   ]
  },
  {
   "cell_type": "markdown",
   "metadata": {},
   "source": [
    "### Через 10 месяцев в среднем каждый юзер приносит 2 ye"
   ]
  },
  {
   "cell_type": "markdown",
   "metadata": {},
   "source": [
    "---\n",
    "---\n",
    "---"
   ]
  },
  {
   "cell_type": "markdown",
   "metadata": {},
   "source": [
    "## Маркетинг\n",
    "* Сколько денег потратили? Всего / на каждый источник / по времени\n",
    "* Сколько стоило привлечение одного покупателя из каждого источника?\n",
    "* На сколько окупились расходы? (ROI)\n",
    "* Отобразите на графиках, как эти метрики отличаются по устройствам и по рекламным источникам? Как они меняются во времени?"
   ]
  },
  {
   "cell_type": "markdown",
   "metadata": {},
   "source": [
    "## Сколько денег потратили? Всего / на каждый источник / по времени"
   ]
  },
  {
   "cell_type": "code",
   "execution_count": 106,
   "metadata": {},
   "outputs": [],
   "source": [
    "def all_about_costs(df, start_date='2017-06-01', end_date='2018-05-31'):\n",
    "    df.reset_index(inplace=True)\n",
    "    df = df[(df['acquisition_date'] >= start_date) & (df['acquisition_date'] <= '2018-05-31')]\n",
    "    total_cost = df['costs'].sum()\n",
    "    print(f'Всего на маркетинг за период потратили = {total_cost}')\n",
    "    ax = df.groupby('source_id').agg({'costs':'sum'}).plot(kind='bar')\n",
    "    ax.set(title='Расходы по каждому источнику за период', xlabel='Источник', ylabel='Расходы')\n",
    "    plt.show()"
   ]
  },
  {
   "cell_type": "code",
   "execution_count": 107,
   "metadata": {},
   "outputs": [
    {
     "name": "stdout",
     "output_type": "stream",
     "text": [
      "Всего на маркетинг за период потратили = 329131.62\n"
     ]
    },
    {
     "data": {
      "image/png": "[encoded data removed]",
      "text/plain": [
       "<Figure size 648x432 with 1 Axes>"
      ]
     },
     "metadata": {},
     "output_type": "display_data"
    }
   ],
   "source": [
    "all_about_costs(costs) #за весь период"
   ]
  },
  {
   "cell_type": "code",
   "execution_count": 108,
   "metadata": {
    "scrolled": false
   },
   "outputs": [
    {
     "name": "stdout",
     "output_type": "stream",
     "text": [
      "Всего на маркетинг за период потратили = 44513.65\n"
     ]
    },
    {
     "data": {
      "image/png": "[encoded data removed]",
      "text/plain": [
       "<Figure size 648x432 with 1 Axes>"
      ]
     },
     "metadata": {},
     "output_type": "display_data"
    }
   ],
   "source": [
    "all_about_costs(costs, start_date = '2018-04-01', end_date='2019-05-03') #за указанный период"
   ]
  },
  {
   "cell_type": "markdown",
   "metadata": {},
   "source": [
    "### Найдем расходы в разрезе по источникам и девайсам"
   ]
  },
  {
   "cell_type": "code",
   "execution_count": 109,
   "metadata": {},
   "outputs": [],
   "source": [
    "costs_by_source_device = users.groupby(['source_id','device']).agg({'acquisition_cost':'sum'})"
   ]
  },
  {
   "cell_type": "code",
   "execution_count": 110,
   "metadata": {},
   "outputs": [
    {
     "data": {
      "text/html": [
       "<div>\n",
       "<style scoped>\n",
       "    .dataframe tbody tr th:only-of-type {\n",
       "        vertical-align: middle;\n",
       "    }\n",
       "\n",
       "    .dataframe tbody tr th {\n",
       "        vertical-align: top;\n",
       "    }\n",
       "\n",
       "    .dataframe thead th {\n",
       "        text-align: right;\n",
       "    }\n",
       "</style>\n",
       "<table border=\"1\" class=\"dataframe\">\n",
       "  <thead>\n",
       "    <tr style=\"text-align: right;\">\n",
       "      <th></th>\n",
       "      <th></th>\n",
       "      <th>acquisition_cost</th>\n",
       "    </tr>\n",
       "    <tr>\n",
       "      <th>source_id</th>\n",
       "      <th>device</th>\n",
       "      <th></th>\n",
       "    </tr>\n",
       "  </thead>\n",
       "  <tbody>\n",
       "    <tr>\n",
       "      <th rowspan=\"2\" valign=\"top\">1</th>\n",
       "      <th>desktop</th>\n",
       "      <td>13898.142092</td>\n",
       "    </tr>\n",
       "    <tr>\n",
       "      <th>touch</th>\n",
       "      <td>6935.127908</td>\n",
       "    </tr>\n",
       "    <tr>\n",
       "      <th rowspan=\"2\" valign=\"top\">2</th>\n",
       "      <th>desktop</th>\n",
       "      <td>28367.388969</td>\n",
       "    </tr>\n",
       "    <tr>\n",
       "      <th>touch</th>\n",
       "      <td>14438.651031</td>\n",
       "    </tr>\n",
       "    <tr>\n",
       "      <th rowspan=\"2\" valign=\"top\">3</th>\n",
       "      <th>desktop</th>\n",
       "      <td>107000.340786</td>\n",
       "    </tr>\n",
       "    <tr>\n",
       "      <th>touch</th>\n",
       "      <td>34321.289214</td>\n",
       "    </tr>\n",
       "    <tr>\n",
       "      <th rowspan=\"2\" valign=\"top\">4</th>\n",
       "      <th>desktop</th>\n",
       "      <td>39735.813659</td>\n",
       "    </tr>\n",
       "    <tr>\n",
       "      <th>touch</th>\n",
       "      <td>21337.786341</td>\n",
       "    </tr>\n",
       "    <tr>\n",
       "      <th rowspan=\"2\" valign=\"top\">5</th>\n",
       "      <th>desktop</th>\n",
       "      <td>37923.378582</td>\n",
       "    </tr>\n",
       "    <tr>\n",
       "      <th>touch</th>\n",
       "      <td>13833.021418</td>\n",
       "    </tr>\n",
       "    <tr>\n",
       "      <th>6</th>\n",
       "      <th>desktop</th>\n",
       "      <td>0.000000</td>\n",
       "    </tr>\n",
       "    <tr>\n",
       "      <th rowspan=\"2\" valign=\"top\">7</th>\n",
       "      <th>desktop</th>\n",
       "      <td>0.000000</td>\n",
       "    </tr>\n",
       "    <tr>\n",
       "      <th>touch</th>\n",
       "      <td>0.000000</td>\n",
       "    </tr>\n",
       "    <tr>\n",
       "      <th rowspan=\"2\" valign=\"top\">9</th>\n",
       "      <th>desktop</th>\n",
       "      <td>4039.062809</td>\n",
       "    </tr>\n",
       "    <tr>\n",
       "      <th>touch</th>\n",
       "      <td>1415.357191</td>\n",
       "    </tr>\n",
       "    <tr>\n",
       "      <th rowspan=\"2\" valign=\"top\">10</th>\n",
       "      <th>desktop</th>\n",
       "      <td>4104.185267</td>\n",
       "    </tr>\n",
       "    <tr>\n",
       "      <th>touch</th>\n",
       "      <td>1716.934733</td>\n",
       "    </tr>\n",
       "  </tbody>\n",
       "</table>\n",
       "</div>"
      ],
      "text/plain": [
       "                   acquisition_cost\n",
       "source_id device                   \n",
       "1         desktop      13898.142092\n",
       "          touch         6935.127908\n",
       "2         desktop      28367.388969\n",
       "          touch        14438.651031\n",
       "3         desktop     107000.340786\n",
       "          touch        34321.289214\n",
       "4         desktop      39735.813659\n",
       "          touch        21337.786341\n",
       "5         desktop      37923.378582\n",
       "          touch        13833.021418\n",
       "6         desktop          0.000000\n",
       "7         desktop          0.000000\n",
       "          touch            0.000000\n",
       "9         desktop       4039.062809\n",
       "          touch         1415.357191\n",
       "10        desktop       4104.185267\n",
       "          touch         1716.934733"
      ]
     },
     "execution_count": 110,
     "metadata": {},
     "output_type": "execute_result"
    }
   ],
   "source": [
    "costs_by_source_device"
   ]
  },
  {
   "cell_type": "code",
   "execution_count": 111,
   "metadata": {},
   "outputs": [
    {
     "data": {
      "image/png": "[encoded data removed]",
      "text/plain": [
       "<Figure size 648x432 with 1 Axes>"
      ]
     },
     "metadata": {},
     "output_type": "display_data"
    }
   ],
   "source": [
    "ax = costs_by_source_device.plot(kind='bar')\n",
    "ax.set(title='Расходы в разрезе по девайсу и источнику')\n",
    "plt.show()"
   ]
  },
  {
   "cell_type": "markdown",
   "metadata": {},
   "source": [
    "---"
   ]
  },
  {
   "cell_type": "markdown",
   "metadata": {},
   "source": [
    "## Сколько стоило привлечение одного покупателя из каждого источника?"
   ]
  },
  {
   "cell_type": "code",
   "execution_count": 112,
   "metadata": {},
   "outputs": [],
   "source": [
    "#находим сумму расходов по каждому каналу\n",
    "costs_temp = costs.groupby('source_id').agg({'costs':'sum'})\n",
    "#находим первый визит по каждому пользователю, мержим его к каждому пользователю в исходном датафрейме\n",
    "first_visits = (visits.groupby('uid').agg({'start_ts':'min'}).rename(columns={'start_ts':'first_visit'})\\\n",
    "                .reset_index()).merge(visits, on='uid')\n",
    "#оставляем в датафрейме только первые визиты по каждому пользователю, сохраняем каналы привлечения\n",
    "first_visits = first_visits.query('first_visit == start_ts')\n",
    "#мержим заказы по каждому пользователю\n",
    "#группируем по каналу, находим количество уникальных покупателей в каждом канале\n",
    "purchasers_in_source = (orders.merge(first_visits, on='uid', how='inner')).groupby('source_id').agg({'uid':'nunique'})\\\n",
    "                        .rename(columns={'uid':'count_purchasers'})"
   ]
  },
  {
   "cell_type": "code",
   "execution_count": 113,
   "metadata": {},
   "outputs": [
    {
     "data": {
      "text/html": [
       "<div>\n",
       "<style scoped>\n",
       "    .dataframe tbody tr th:only-of-type {\n",
       "        vertical-align: middle;\n",
       "    }\n",
       "\n",
       "    .dataframe tbody tr th {\n",
       "        vertical-align: top;\n",
       "    }\n",
       "\n",
       "    .dataframe thead th {\n",
       "        text-align: right;\n",
       "    }\n",
       "</style>\n",
       "<table border=\"1\" class=\"dataframe\">\n",
       "  <thead>\n",
       "    <tr style=\"text-align: right;\">\n",
       "      <th></th>\n",
       "      <th>buy_dt</th>\n",
       "      <th>revenue</th>\n",
       "      <th>order_month</th>\n",
       "      <th>first_order_date</th>\n",
       "      <th>first_order_month</th>\n",
       "      <th>buy_month</th>\n",
       "    </tr>\n",
       "    <tr>\n",
       "      <th>uid</th>\n",
       "      <th></th>\n",
       "      <th></th>\n",
       "      <th></th>\n",
       "      <th></th>\n",
       "      <th></th>\n",
       "      <th></th>\n",
       "    </tr>\n",
       "  </thead>\n",
       "  <tbody>\n",
       "    <tr>\n",
       "      <th>10329302124590727494</th>\n",
       "      <td>2017-06-01 00:10:00</td>\n",
       "      <td>17.00</td>\n",
       "      <td>2017-06-01</td>\n",
       "      <td>2017-06-01 00:10:00</td>\n",
       "      <td>2017-06-01</td>\n",
       "      <td>2017-06-01</td>\n",
       "    </tr>\n",
       "    <tr>\n",
       "      <th>11627257723692907447</th>\n",
       "      <td>2017-06-01 00:25:00</td>\n",
       "      <td>0.55</td>\n",
       "      <td>2017-06-01</td>\n",
       "      <td>2017-06-01 00:25:00</td>\n",
       "      <td>2017-06-01</td>\n",
       "      <td>2017-06-01</td>\n",
       "    </tr>\n",
       "    <tr>\n",
       "      <th>17903680561304213844</th>\n",
       "      <td>2017-06-01 00:27:00</td>\n",
       "      <td>0.37</td>\n",
       "      <td>2017-06-01</td>\n",
       "      <td>2017-06-01 00:27:00</td>\n",
       "      <td>2017-06-01</td>\n",
       "      <td>2017-06-01</td>\n",
       "    </tr>\n",
       "    <tr>\n",
       "      <th>16109239769442553005</th>\n",
       "      <td>2017-06-01 00:29:00</td>\n",
       "      <td>0.55</td>\n",
       "      <td>2017-06-01</td>\n",
       "      <td>2017-06-01 00:29:00</td>\n",
       "      <td>2017-06-01</td>\n",
       "      <td>2017-06-01</td>\n",
       "    </tr>\n",
       "    <tr>\n",
       "      <th>14200605875248379450</th>\n",
       "      <td>2017-06-01 07:58:00</td>\n",
       "      <td>0.37</td>\n",
       "      <td>2017-06-01</td>\n",
       "      <td>2017-06-01 07:58:00</td>\n",
       "      <td>2017-06-01</td>\n",
       "      <td>2017-06-01</td>\n",
       "    </tr>\n",
       "  </tbody>\n",
       "</table>\n",
       "</div>"
      ],
      "text/plain": [
       "                                  buy_dt  revenue order_month  \\\n",
       "uid                                                             \n",
       "10329302124590727494 2017-06-01 00:10:00    17.00  2017-06-01   \n",
       "11627257723692907447 2017-06-01 00:25:00     0.55  2017-06-01   \n",
       "17903680561304213844 2017-06-01 00:27:00     0.37  2017-06-01   \n",
       "16109239769442553005 2017-06-01 00:29:00     0.55  2017-06-01   \n",
       "14200605875248379450 2017-06-01 07:58:00     0.37  2017-06-01   \n",
       "\n",
       "                        first_order_date first_order_month  buy_month  \n",
       "uid                                                                    \n",
       "10329302124590727494 2017-06-01 00:10:00        2017-06-01 2017-06-01  \n",
       "11627257723692907447 2017-06-01 00:25:00        2017-06-01 2017-06-01  \n",
       "17903680561304213844 2017-06-01 00:27:00        2017-06-01 2017-06-01  \n",
       "16109239769442553005 2017-06-01 00:29:00        2017-06-01 2017-06-01  \n",
       "14200605875248379450 2017-06-01 07:58:00        2017-06-01 2017-06-01  "
      ]
     },
     "execution_count": 113,
     "metadata": {},
     "output_type": "execute_result"
    }
   ],
   "source": [
    "orders.head()"
   ]
  },
  {
   "cell_type": "code",
   "execution_count": 114,
   "metadata": {},
   "outputs": [
    {
     "data": {
      "text/html": [
       "<div>\n",
       "<style scoped>\n",
       "    .dataframe tbody tr th:only-of-type {\n",
       "        vertical-align: middle;\n",
       "    }\n",
       "\n",
       "    .dataframe tbody tr th {\n",
       "        vertical-align: top;\n",
       "    }\n",
       "\n",
       "    .dataframe thead th {\n",
       "        text-align: right;\n",
       "    }\n",
       "</style>\n",
       "<table border=\"1\" class=\"dataframe\">\n",
       "  <thead>\n",
       "    <tr style=\"text-align: right;\">\n",
       "      <th></th>\n",
       "      <th>uid</th>\n",
       "      <th>first_visit</th>\n",
       "      <th>device</th>\n",
       "      <th>end_ts</th>\n",
       "      <th>source_id</th>\n",
       "      <th>start_ts</th>\n",
       "      <th>month</th>\n",
       "      <th>date</th>\n",
       "      <th>week</th>\n",
       "      <th>year</th>\n",
       "      <th>session_duration_sec</th>\n",
       "    </tr>\n",
       "  </thead>\n",
       "  <tbody>\n",
       "    <tr>\n",
       "      <th>0</th>\n",
       "      <td>11863502262781</td>\n",
       "      <td>2018-03-01 17:27:00</td>\n",
       "      <td>touch</td>\n",
       "      <td>2018-03-01 17:33:00</td>\n",
       "      <td>3</td>\n",
       "      <td>2018-03-01 17:27:00</td>\n",
       "      <td>3</td>\n",
       "      <td>1</td>\n",
       "      <td>9</td>\n",
       "      <td>2018</td>\n",
       "      <td>360</td>\n",
       "    </tr>\n",
       "    <tr>\n",
       "      <th>1</th>\n",
       "      <td>49537067089222</td>\n",
       "      <td>2018-02-06 15:55:00</td>\n",
       "      <td>touch</td>\n",
       "      <td>2018-02-06 15:57:00</td>\n",
       "      <td>2</td>\n",
       "      <td>2018-02-06 15:55:00</td>\n",
       "      <td>2</td>\n",
       "      <td>6</td>\n",
       "      <td>6</td>\n",
       "      <td>2018</td>\n",
       "      <td>120</td>\n",
       "    </tr>\n",
       "    <tr>\n",
       "      <th>2</th>\n",
       "      <td>297729379853735</td>\n",
       "      <td>2017-06-07 18:47:00</td>\n",
       "      <td>desktop</td>\n",
       "      <td>2017-06-07 18:48:00</td>\n",
       "      <td>3</td>\n",
       "      <td>2017-06-07 18:47:00</td>\n",
       "      <td>6</td>\n",
       "      <td>7</td>\n",
       "      <td>23</td>\n",
       "      <td>2017</td>\n",
       "      <td>60</td>\n",
       "    </tr>\n",
       "    <tr>\n",
       "      <th>4</th>\n",
       "      <td>313578113262317</td>\n",
       "      <td>2017-09-18 22:49:00</td>\n",
       "      <td>desktop</td>\n",
       "      <td>2017-09-18 23:07:00</td>\n",
       "      <td>2</td>\n",
       "      <td>2017-09-18 22:49:00</td>\n",
       "      <td>9</td>\n",
       "      <td>18</td>\n",
       "      <td>38</td>\n",
       "      <td>2017</td>\n",
       "      <td>1080</td>\n",
       "    </tr>\n",
       "    <tr>\n",
       "      <th>6</th>\n",
       "      <td>325320750514679</td>\n",
       "      <td>2017-09-30 14:29:00</td>\n",
       "      <td>desktop</td>\n",
       "      <td>2017-09-30 14:38:00</td>\n",
       "      <td>5</td>\n",
       "      <td>2017-09-30 14:29:00</td>\n",
       "      <td>9</td>\n",
       "      <td>30</td>\n",
       "      <td>39</td>\n",
       "      <td>2017</td>\n",
       "      <td>540</td>\n",
       "    </tr>\n",
       "  </tbody>\n",
       "</table>\n",
       "</div>"
      ],
      "text/plain": [
       "               uid         first_visit   device              end_ts  \\\n",
       "0   11863502262781 2018-03-01 17:27:00    touch 2018-03-01 17:33:00   \n",
       "1   49537067089222 2018-02-06 15:55:00    touch 2018-02-06 15:57:00   \n",
       "2  297729379853735 2017-06-07 18:47:00  desktop 2017-06-07 18:48:00   \n",
       "4  313578113262317 2017-09-18 22:49:00  desktop 2017-09-18 23:07:00   \n",
       "6  325320750514679 2017-09-30 14:29:00  desktop 2017-09-30 14:38:00   \n",
       "\n",
       "   source_id            start_ts  month  date  week  year  \\\n",
       "0          3 2018-03-01 17:27:00      3     1     9  2018   \n",
       "1          2 2018-02-06 15:55:00      2     6     6  2018   \n",
       "2          3 2017-06-07 18:47:00      6     7    23  2017   \n",
       "4          2 2017-09-18 22:49:00      9    18    38  2017   \n",
       "6          5 2017-09-30 14:29:00      9    30    39  2017   \n",
       "\n",
       "   session_duration_sec  \n",
       "0                   360  \n",
       "1                   120  \n",
       "2                    60  \n",
       "4                  1080  \n",
       "6                   540  "
      ]
     },
     "execution_count": 114,
     "metadata": {},
     "output_type": "execute_result"
    }
   ],
   "source": [
    "first_visits.head()"
   ]
  },
  {
   "cell_type": "code",
   "execution_count": 115,
   "metadata": {},
   "outputs": [
    {
     "data": {
      "text/html": [
       "<div>\n",
       "<style scoped>\n",
       "    .dataframe tbody tr th:only-of-type {\n",
       "        vertical-align: middle;\n",
       "    }\n",
       "\n",
       "    .dataframe tbody tr th {\n",
       "        vertical-align: top;\n",
       "    }\n",
       "\n",
       "    .dataframe thead th {\n",
       "        text-align: right;\n",
       "    }\n",
       "</style>\n",
       "<table border=\"1\" class=\"dataframe\">\n",
       "  <thead>\n",
       "    <tr style=\"text-align: right;\">\n",
       "      <th></th>\n",
       "      <th>uid</th>\n",
       "      <th>device</th>\n",
       "      <th>end_ts</th>\n",
       "      <th>source_id</th>\n",
       "      <th>start_ts</th>\n",
       "      <th>month</th>\n",
       "      <th>date</th>\n",
       "      <th>week</th>\n",
       "      <th>year</th>\n",
       "      <th>session_duration_sec</th>\n",
       "    </tr>\n",
       "  </thead>\n",
       "  <tbody>\n",
       "    <tr>\n",
       "      <th>0</th>\n",
       "      <td>16879256277535980062</td>\n",
       "      <td>touch</td>\n",
       "      <td>2017-12-20 17:38:00</td>\n",
       "      <td>4</td>\n",
       "      <td>2017-12-20 17:20:00</td>\n",
       "      <td>12</td>\n",
       "      <td>20</td>\n",
       "      <td>51</td>\n",
       "      <td>2017</td>\n",
       "      <td>1080</td>\n",
       "    </tr>\n",
       "    <tr>\n",
       "      <th>1</th>\n",
       "      <td>104060357244891740</td>\n",
       "      <td>desktop</td>\n",
       "      <td>2018-02-19 17:21:00</td>\n",
       "      <td>2</td>\n",
       "      <td>2018-02-19 16:53:00</td>\n",
       "      <td>2</td>\n",
       "      <td>19</td>\n",
       "      <td>8</td>\n",
       "      <td>2018</td>\n",
       "      <td>1680</td>\n",
       "    </tr>\n",
       "    <tr>\n",
       "      <th>2</th>\n",
       "      <td>7459035603376831527</td>\n",
       "      <td>touch</td>\n",
       "      <td>2017-07-01 01:54:00</td>\n",
       "      <td>5</td>\n",
       "      <td>2017-07-01 01:54:00</td>\n",
       "      <td>7</td>\n",
       "      <td>1</td>\n",
       "      <td>26</td>\n",
       "      <td>2017</td>\n",
       "      <td>0</td>\n",
       "    </tr>\n",
       "    <tr>\n",
       "      <th>3</th>\n",
       "      <td>16174680259334210214</td>\n",
       "      <td>desktop</td>\n",
       "      <td>2018-05-20 11:23:00</td>\n",
       "      <td>9</td>\n",
       "      <td>2018-05-20 10:59:00</td>\n",
       "      <td>5</td>\n",
       "      <td>20</td>\n",
       "      <td>20</td>\n",
       "      <td>2018</td>\n",
       "      <td>1440</td>\n",
       "    </tr>\n",
       "    <tr>\n",
       "      <th>4</th>\n",
       "      <td>9969694820036681168</td>\n",
       "      <td>desktop</td>\n",
       "      <td>2017-12-27 14:06:00</td>\n",
       "      <td>3</td>\n",
       "      <td>2017-12-27 14:06:00</td>\n",
       "      <td>12</td>\n",
       "      <td>27</td>\n",
       "      <td>52</td>\n",
       "      <td>2017</td>\n",
       "      <td>0</td>\n",
       "    </tr>\n",
       "  </tbody>\n",
       "</table>\n",
       "</div>"
      ],
      "text/plain": [
       "                    uid   device              end_ts  source_id  \\\n",
       "0  16879256277535980062    touch 2017-12-20 17:38:00          4   \n",
       "1    104060357244891740  desktop 2018-02-19 17:21:00          2   \n",
       "2   7459035603376831527    touch 2017-07-01 01:54:00          5   \n",
       "3  16174680259334210214  desktop 2018-05-20 11:23:00          9   \n",
       "4   9969694820036681168  desktop 2017-12-27 14:06:00          3   \n",
       "\n",
       "             start_ts  month  date  week  year  session_duration_sec  \n",
       "0 2017-12-20 17:20:00     12    20    51  2017                  1080  \n",
       "1 2018-02-19 16:53:00      2    19     8  2018                  1680  \n",
       "2 2017-07-01 01:54:00      7     1    26  2017                     0  \n",
       "3 2018-05-20 10:59:00      5    20    20  2018                  1440  \n",
       "4 2017-12-27 14:06:00     12    27    52  2017                     0  "
      ]
     },
     "execution_count": 115,
     "metadata": {},
     "output_type": "execute_result"
    }
   ],
   "source": [
    "visits.head()"
   ]
  },
  {
   "cell_type": "code",
   "execution_count": 116,
   "metadata": {},
   "outputs": [],
   "source": [
    "temp = purchasers_in_source.join(costs_temp)"
   ]
  },
  {
   "cell_type": "code",
   "execution_count": 117,
   "metadata": {},
   "outputs": [],
   "source": [
    "temp['cac'] = temp['costs'] / temp['count_purchasers']"
   ]
  },
  {
   "cell_type": "code",
   "execution_count": 118,
   "metadata": {},
   "outputs": [],
   "source": [
    "#проверка, подсчет costs через датафрейм users\n",
    "# (users.groupby(['source_id','acquisition_date']).agg({'costs':'max'})\\\n",
    "#      .reset_index()).groupby('source_id').agg({'costs':'sum'})"
   ]
  },
  {
   "cell_type": "code",
   "execution_count": 119,
   "metadata": {
    "scrolled": true
   },
   "outputs": [
    {
     "data": {
      "text/html": [
       "<div>\n",
       "<style scoped>\n",
       "    .dataframe tbody tr th:only-of-type {\n",
       "        vertical-align: middle;\n",
       "    }\n",
       "\n",
       "    .dataframe tbody tr th {\n",
       "        vertical-align: top;\n",
       "    }\n",
       "\n",
       "    .dataframe thead th {\n",
       "        text-align: right;\n",
       "    }\n",
       "</style>\n",
       "<table border=\"1\" class=\"dataframe\">\n",
       "  <thead>\n",
       "    <tr style=\"text-align: right;\">\n",
       "      <th></th>\n",
       "      <th>count_purchasers</th>\n",
       "      <th>costs</th>\n",
       "      <th>cac</th>\n",
       "    </tr>\n",
       "    <tr>\n",
       "      <th>source_id</th>\n",
       "      <th></th>\n",
       "      <th></th>\n",
       "      <th></th>\n",
       "    </tr>\n",
       "  </thead>\n",
       "  <tbody>\n",
       "    <tr>\n",
       "      <th>10</th>\n",
       "      <td>1327</td>\n",
       "      <td>5822.49</td>\n",
       "      <td>4.387709</td>\n",
       "    </tr>\n",
       "    <tr>\n",
       "      <th>9</th>\n",
       "      <td>1074</td>\n",
       "      <td>5517.49</td>\n",
       "      <td>5.137328</td>\n",
       "    </tr>\n",
       "    <tr>\n",
       "      <th>4</th>\n",
       "      <td>10280</td>\n",
       "      <td>61073.60</td>\n",
       "      <td>5.941012</td>\n",
       "    </tr>\n",
       "    <tr>\n",
       "      <th>1</th>\n",
       "      <td>2920</td>\n",
       "      <td>20833.27</td>\n",
       "      <td>7.134682</td>\n",
       "    </tr>\n",
       "    <tr>\n",
       "      <th>5</th>\n",
       "      <td>6960</td>\n",
       "      <td>51757.10</td>\n",
       "      <td>7.436365</td>\n",
       "    </tr>\n",
       "    <tr>\n",
       "      <th>2</th>\n",
       "      <td>3497</td>\n",
       "      <td>42806.04</td>\n",
       "      <td>12.240789</td>\n",
       "    </tr>\n",
       "    <tr>\n",
       "      <th>3</th>\n",
       "      <td>10464</td>\n",
       "      <td>141321.63</td>\n",
       "      <td>13.505507</td>\n",
       "    </tr>\n",
       "    <tr>\n",
       "      <th>7</th>\n",
       "      <td>1</td>\n",
       "      <td>NaN</td>\n",
       "      <td>NaN</td>\n",
       "    </tr>\n",
       "  </tbody>\n",
       "</table>\n",
       "</div>"
      ],
      "text/plain": [
       "           count_purchasers      costs        cac\n",
       "source_id                                        \n",
       "10                     1327    5822.49   4.387709\n",
       "9                      1074    5517.49   5.137328\n",
       "4                     10280   61073.60   5.941012\n",
       "1                      2920   20833.27   7.134682\n",
       "5                      6960   51757.10   7.436365\n",
       "2                      3497   42806.04  12.240789\n",
       "3                     10464  141321.63  13.505507\n",
       "7                         1        NaN        NaN"
      ]
     },
     "execution_count": 119,
     "metadata": {},
     "output_type": "execute_result"
    }
   ],
   "source": [
    "temp.sort_values('cac')"
   ]
  },
  {
   "cell_type": "code",
   "execution_count": 120,
   "metadata": {
    "scrolled": false
   },
   "outputs": [
    {
     "data": {
      "image/png": "[encoded data removed]",
      "text/plain": [
       "<Figure size 648x432 with 1 Axes>"
      ]
     },
     "metadata": {},
     "output_type": "display_data"
    }
   ],
   "source": [
    "ax = temp.sort_values('cac')[['cac']].plot(kind='bar')\n",
    "ax.set(title='Стоимость привлечения одного покупателя по каналам', ylabel='Стоимость')\n",
    "plt.show()"
   ]
  },
  {
   "cell_type": "markdown",
   "metadata": {},
   "source": [
    "---"
   ]
  },
  {
   "cell_type": "markdown",
   "metadata": {},
   "source": [
    "## На сколько окупились расходы? (ROI)\n",
    "* ROI =  (итоговая прибыль − инвестиции) / инвестиции"
   ]
  },
  {
   "cell_type": "markdown",
   "metadata": {},
   "source": [
    "### Найдем расходы по каналам"
   ]
  },
  {
   "cell_type": "code",
   "execution_count": 121,
   "metadata": {},
   "outputs": [],
   "source": [
    "costs_by_sourse = (users.groupby(['source_id','acquisition_date']).agg({'costs':'max'})\\\n",
    "     .reset_index()).groupby('source_id').agg({'costs':'sum'})"
   ]
  },
  {
   "cell_type": "code",
   "execution_count": 122,
   "metadata": {},
   "outputs": [],
   "source": [
    "#подготовим данные\n",
    "roi_df = orders.join(users.set_index('uid'), how='left')"
   ]
  },
  {
   "cell_type": "markdown",
   "metadata": {},
   "source": [
    "### Найдем доходы по источникам"
   ]
  },
  {
   "cell_type": "code",
   "execution_count": 123,
   "metadata": {},
   "outputs": [],
   "source": [
    "revenue_by_sourse = roi_df.groupby('source_id').agg({'revenue':'sum'})"
   ]
  },
  {
   "cell_type": "code",
   "execution_count": 124,
   "metadata": {},
   "outputs": [],
   "source": [
    "roi = revenue_by_sourse.join(costs_by_sourse)\n",
    "roi['roi'] = (roi['revenue'] - roi['costs'])/roi['costs']"
   ]
  },
  {
   "cell_type": "code",
   "execution_count": 125,
   "metadata": {},
   "outputs": [
    {
     "data": {
      "text/html": [
       "<div>\n",
       "<style scoped>\n",
       "    .dataframe tbody tr th:only-of-type {\n",
       "        vertical-align: middle;\n",
       "    }\n",
       "\n",
       "    .dataframe tbody tr th {\n",
       "        vertical-align: top;\n",
       "    }\n",
       "\n",
       "    .dataframe thead th {\n",
       "        text-align: right;\n",
       "    }\n",
       "</style>\n",
       "<table border=\"1\" class=\"dataframe\">\n",
       "  <thead>\n",
       "    <tr style=\"text-align: right;\">\n",
       "      <th></th>\n",
       "      <th>revenue</th>\n",
       "      <th>costs</th>\n",
       "      <th>roi</th>\n",
       "    </tr>\n",
       "    <tr>\n",
       "      <th>source_id</th>\n",
       "      <th></th>\n",
       "      <th></th>\n",
       "      <th></th>\n",
       "    </tr>\n",
       "  </thead>\n",
       "  <tbody>\n",
       "    <tr>\n",
       "      <th>3</th>\n",
       "      <td>54391.15</td>\n",
       "      <td>141321.63</td>\n",
       "      <td>-0.615125</td>\n",
       "    </tr>\n",
       "    <tr>\n",
       "      <th>10</th>\n",
       "      <td>4457.40</td>\n",
       "      <td>5821.12</td>\n",
       "      <td>-0.234271</td>\n",
       "    </tr>\n",
       "    <tr>\n",
       "      <th>4</th>\n",
       "      <td>56682.99</td>\n",
       "      <td>61073.60</td>\n",
       "      <td>-0.071890</td>\n",
       "    </tr>\n",
       "    <tr>\n",
       "      <th>9</th>\n",
       "      <td>5666.56</td>\n",
       "      <td>5454.42</td>\n",
       "      <td>0.038893</td>\n",
       "    </tr>\n",
       "    <tr>\n",
       "      <th>5</th>\n",
       "      <td>54407.71</td>\n",
       "      <td>51756.40</td>\n",
       "      <td>0.051227</td>\n",
       "    </tr>\n",
       "    <tr>\n",
       "      <th>2</th>\n",
       "      <td>46574.17</td>\n",
       "      <td>42806.04</td>\n",
       "      <td>0.088028</td>\n",
       "    </tr>\n",
       "    <tr>\n",
       "      <th>1</th>\n",
       "      <td>29876.00</td>\n",
       "      <td>20833.27</td>\n",
       "      <td>0.434052</td>\n",
       "    </tr>\n",
       "    <tr>\n",
       "      <th>7</th>\n",
       "      <td>1.22</td>\n",
       "      <td>0.00</td>\n",
       "      <td>inf</td>\n",
       "    </tr>\n",
       "  </tbody>\n",
       "</table>\n",
       "</div>"
      ],
      "text/plain": [
       "            revenue      costs       roi\n",
       "source_id                               \n",
       "3          54391.15  141321.63 -0.615125\n",
       "10          4457.40    5821.12 -0.234271\n",
       "4          56682.99   61073.60 -0.071890\n",
       "9           5666.56    5454.42  0.038893\n",
       "5          54407.71   51756.40  0.051227\n",
       "2          46574.17   42806.04  0.088028\n",
       "1          29876.00   20833.27  0.434052\n",
       "7              1.22       0.00       inf"
      ]
     },
     "execution_count": 125,
     "metadata": {},
     "output_type": "execute_result"
    }
   ],
   "source": [
    "roi.sort_values('roi')"
   ]
  },
  {
   "cell_type": "markdown",
   "metadata": {},
   "source": [
    "### Источники, которые окупились: 1, 2, 5, 9\n",
    "* Лучший источник: source_id = 1"
   ]
  },
  {
   "cell_type": "markdown",
   "metadata": {},
   "source": [
    "---"
   ]
  },
  {
   "cell_type": "markdown",
   "metadata": {},
   "source": [
    "### Посчитаем окупаемость в разрезе источников и девайсов"
   ]
  },
  {
   "cell_type": "code",
   "execution_count": 126,
   "metadata": {},
   "outputs": [],
   "source": [
    "revenue_source_device = orders.join(users.set_index('uid')).reset_index().groupby(['source_id','device'])\\\n",
    "                                .agg({'revenue':'sum','uid':'nunique'})\\\n",
    "                                .rename(columns={'uid':'unique_purchaser'})"
   ]
  },
  {
   "cell_type": "code",
   "execution_count": 127,
   "metadata": {},
   "outputs": [],
   "source": [
    "revenue_source_device = revenue_source_device[['revenue']].join(costs_by_source_device)"
   ]
  },
  {
   "cell_type": "code",
   "execution_count": 128,
   "metadata": {},
   "outputs": [],
   "source": [
    "revenue_source_device['roi'] = ((revenue_source_device['revenue'] - revenue_source_device['acquisition_cost'])/revenue_source_device['acquisition_cost'])"
   ]
  },
  {
   "cell_type": "code",
   "execution_count": 129,
   "metadata": {},
   "outputs": [
    {
     "data": {
      "text/html": [
       "<div>\n",
       "<style scoped>\n",
       "    .dataframe tbody tr th:only-of-type {\n",
       "        vertical-align: middle;\n",
       "    }\n",
       "\n",
       "    .dataframe tbody tr th {\n",
       "        vertical-align: top;\n",
       "    }\n",
       "\n",
       "    .dataframe thead th {\n",
       "        text-align: right;\n",
       "    }\n",
       "</style>\n",
       "<table border=\"1\" class=\"dataframe\">\n",
       "  <thead>\n",
       "    <tr style=\"text-align: right;\">\n",
       "      <th></th>\n",
       "      <th></th>\n",
       "      <th>revenue</th>\n",
       "      <th>acquisition_cost</th>\n",
       "      <th>roi</th>\n",
       "    </tr>\n",
       "    <tr>\n",
       "      <th>source_id</th>\n",
       "      <th>device</th>\n",
       "      <th></th>\n",
       "      <th></th>\n",
       "      <th></th>\n",
       "    </tr>\n",
       "  </thead>\n",
       "  <tbody>\n",
       "    <tr>\n",
       "      <th rowspan=\"2\" valign=\"top\">1</th>\n",
       "      <th>desktop</th>\n",
       "      <td>24852.23</td>\n",
       "      <td>13898.142092</td>\n",
       "      <td>0.788169</td>\n",
       "    </tr>\n",
       "    <tr>\n",
       "      <th>touch</th>\n",
       "      <td>5023.77</td>\n",
       "      <td>6935.127908</td>\n",
       "      <td>-0.275605</td>\n",
       "    </tr>\n",
       "    <tr>\n",
       "      <th rowspan=\"2\" valign=\"top\">2</th>\n",
       "      <th>desktop</th>\n",
       "      <td>40021.53</td>\n",
       "      <td>28367.388969</td>\n",
       "      <td>0.410829</td>\n",
       "    </tr>\n",
       "    <tr>\n",
       "      <th>touch</th>\n",
       "      <td>6552.64</td>\n",
       "      <td>14438.651031</td>\n",
       "      <td>-0.546174</td>\n",
       "    </tr>\n",
       "    <tr>\n",
       "      <th rowspan=\"2\" valign=\"top\">3</th>\n",
       "      <th>desktop</th>\n",
       "      <td>46299.69</td>\n",
       "      <td>107000.340786</td>\n",
       "      <td>-0.567294</td>\n",
       "    </tr>\n",
       "    <tr>\n",
       "      <th>touch</th>\n",
       "      <td>8091.46</td>\n",
       "      <td>34321.289214</td>\n",
       "      <td>-0.764244</td>\n",
       "    </tr>\n",
       "    <tr>\n",
       "      <th rowspan=\"2\" valign=\"top\">4</th>\n",
       "      <th>desktop</th>\n",
       "      <td>43304.16</td>\n",
       "      <td>39735.813659</td>\n",
       "      <td>0.089802</td>\n",
       "    </tr>\n",
       "    <tr>\n",
       "      <th>touch</th>\n",
       "      <td>13378.83</td>\n",
       "      <td>21337.786341</td>\n",
       "      <td>-0.372998</td>\n",
       "    </tr>\n",
       "    <tr>\n",
       "      <th rowspan=\"2\" valign=\"top\">5</th>\n",
       "      <th>desktop</th>\n",
       "      <td>48521.33</td>\n",
       "      <td>37923.378582</td>\n",
       "      <td>0.279457</td>\n",
       "    </tr>\n",
       "    <tr>\n",
       "      <th>touch</th>\n",
       "      <td>5886.38</td>\n",
       "      <td>13833.021418</td>\n",
       "      <td>-0.574469</td>\n",
       "    </tr>\n",
       "    <tr>\n",
       "      <th>7</th>\n",
       "      <th>desktop</th>\n",
       "      <td>1.22</td>\n",
       "      <td>0.000000</td>\n",
       "      <td>inf</td>\n",
       "    </tr>\n",
       "    <tr>\n",
       "      <th rowspan=\"2\" valign=\"top\">9</th>\n",
       "      <th>desktop</th>\n",
       "      <td>4778.33</td>\n",
       "      <td>4039.062809</td>\n",
       "      <td>0.183029</td>\n",
       "    </tr>\n",
       "    <tr>\n",
       "      <th>touch</th>\n",
       "      <td>888.23</td>\n",
       "      <td>1415.357191</td>\n",
       "      <td>-0.372434</td>\n",
       "    </tr>\n",
       "    <tr>\n",
       "      <th rowspan=\"2\" valign=\"top\">10</th>\n",
       "      <th>desktop</th>\n",
       "      <td>3574.15</td>\n",
       "      <td>4104.185267</td>\n",
       "      <td>-0.129145</td>\n",
       "    </tr>\n",
       "    <tr>\n",
       "      <th>touch</th>\n",
       "      <td>883.25</td>\n",
       "      <td>1716.934733</td>\n",
       "      <td>-0.485566</td>\n",
       "    </tr>\n",
       "  </tbody>\n",
       "</table>\n",
       "</div>"
      ],
      "text/plain": [
       "                    revenue  acquisition_cost       roi\n",
       "source_id device                                       \n",
       "1         desktop  24852.23      13898.142092  0.788169\n",
       "          touch     5023.77       6935.127908 -0.275605\n",
       "2         desktop  40021.53      28367.388969  0.410829\n",
       "          touch     6552.64      14438.651031 -0.546174\n",
       "3         desktop  46299.69     107000.340786 -0.567294\n",
       "          touch     8091.46      34321.289214 -0.764244\n",
       "4         desktop  43304.16      39735.813659  0.089802\n",
       "          touch    13378.83      21337.786341 -0.372998\n",
       "5         desktop  48521.33      37923.378582  0.279457\n",
       "          touch     5886.38      13833.021418 -0.574469\n",
       "7         desktop      1.22          0.000000       inf\n",
       "9         desktop   4778.33       4039.062809  0.183029\n",
       "          touch      888.23       1415.357191 -0.372434\n",
       "10        desktop   3574.15       4104.185267 -0.129145\n",
       "          touch      883.25       1716.934733 -0.485566"
      ]
     },
     "execution_count": 129,
     "metadata": {},
     "output_type": "execute_result"
    }
   ],
   "source": [
    "revenue_source_device"
   ]
  },
  {
   "cell_type": "markdown",
   "metadata": {},
   "source": [
    "# Вывод\n",
    "#### Какие источники/платформы вы бы порекомендовали?\n",
    "Источники, которые окупились: 9,5,2,1. При этом в срезе по устройствам, практически во всех источниках окупились пользователи, пришедшие с десктопов. Рекомендуется снизить цену клика, либо полностью отключить тач устройства.\n",
    "\n",
    "#### Объясните свой выбор: на какие метрики вы ориентируетесь?\n",
    "ROI, Revenue, CAC\n",
    "\n",
    "#### Какие выводы вы сделали, узнав значение метрик?\n",
    "* Стоимость привлечения тач устройств дешевле, но они не окупаются.\n",
    "* В среднем юзеры возвращаются 2 раза\n",
    "* Максимальная стоимость привлечения наблюдается в декабре, так же в декабре и самый большой средний чек.\n",
    "* Через 10 месяцев в среднем каждый юзер приносит 2 ye"
   ]
  },
  {
   "cell_type": "markdown",
   "metadata": {},
   "source": [
    "----------\n",
    "\n",
    "## <span style=\"color:green\">Общий комментарий от наставника<span>\n",
    "\n",
    "Отличная работа с подробными комментариями и красивым оформлением. Молодец :)\n",
    "\n",
    "---------"
   ]
  }
 ],
 "metadata": {
  "kernelspec": {
   "display_name": "Python 3",
   "language": "python",
   "name": "python3"
  },
  "language_info": {
   "codemirror_mode": {
    "name": "ipython",
    "version": 3
   },
   "file_extension": ".py",
   "mimetype": "text/x-python",
   "name": "python",
   "nbconvert_exporter": "python",
   "pygments_lexer": "ipython3",
   "version": "3.7.2"
  }
 },
 "nbformat": 4,
 "nbformat_minor": 2
}
